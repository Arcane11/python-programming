{
 "cells": [
  {
   "cell_type": "markdown",
   "metadata": {},
   "source": [
    "# Week 3 Day 11 Exercises"
   ]
  },
  {
   "cell_type": "code",
   "execution_count": 1,
   "metadata": {},
   "outputs": [],
   "source": [
    "#This function is for testing, do not modify\n",
    "def check(actual, expected):\n",
    "    if expected != actual:\n",
    "        print(f\"Function should return the value {expected}, it is returning the value {actual}\")\n",
    "    else:\n",
    "        print(f\"Congratulations, the test case passed!\")\n",
    "\n",
    "#This function is for testing, do not modify\n",
    "def check_multiple(actual, expected):\n",
    "    if actual not in expected:\n",
    "        print(f\"Function should return one of the values in the list {expected}, it is returning the value {actual}\")\n",
    "    else:\n",
    "        print(f\"Congratulations, the test case passed!\")"
   ]
  },
  {
   "cell_type": "markdown",
   "metadata": {},
   "source": [
    "# 1. Recursive Binary Search"
   ]
  },
  {
   "cell_type": "markdown",
   "metadata": {},
   "source": [
    "The code below can be used to play the _Guess The Number_ game. Let's say you have a number x and you want your friend to guess it. They make a guess and then you tell them if your number is less, greater or equal to their guess.\n",
    "\n",
    "Try playing the game by running the code below using different inputs. "
   ]
  },
  {
   "cell_type": "code",
   "execution_count": 10,
   "metadata": {},
   "outputs": [
    {
     "name": "stdout",
     "output_type": "stream",
     "text": [
      "My guess is: 50\n",
      "But that is too big!\n",
      "\n",
      "My guess is: 25\n",
      "But that is too small!\n",
      "\n",
      "My guess is: 37\n",
      "But that is too small!\n",
      "\n",
      "My guess is: 43\n",
      "But that is too big!\n",
      "\n",
      "My guess is: 40\n",
      "Exactly!\n",
      "\n",
      "5\n"
     ]
    }
   ],
   "source": [
    "# This code returns the number of guesses made\n",
    "def guess(x, left, right):\n",
    "\n",
    "    if x > right or x < left:\n",
    "        print(\"Invalid number!\")\n",
    "        return -1\n",
    "\n",
    "    mid = (left+right)//2\n",
    "\n",
    "    print(\"My guess is:\", mid)\n",
    "\n",
    "    if mid == x:\n",
    "        print(\"Exactly!\\n\")\n",
    "        return 1\n",
    "\n",
    "    if mid > x:\n",
    "        print(\"But that is too big!\\n\")\n",
    "        return 1 + guess(x, left, mid-1)\n",
    "\n",
    "    if mid < x:\n",
    "        print(\"But that is too small!\\n\")\n",
    "        return 1 + guess(x, mid+1, right)\n",
    "\n",
    "print(guess(40, 1, 100))"
   ]
  },
  {
   "cell_type": "markdown",
   "metadata": {},
   "source": [
    "## 1.1 "
   ]
  },
  {
   "cell_type": "markdown",
   "metadata": {},
   "source": [
    "What are the **left** and **right** values for each of the 4 guesses made in  `guess(56,1,100)` ?"
   ]
  },
  {
   "cell_type": "raw",
   "metadata": {},
   "source": [
    "Type your answer here:1, 56 right 100, 74, 61"
   ]
  },
  {
   "cell_type": "markdown",
   "metadata": {},
   "source": [
    "## 1.2 "
   ]
  },
  {
   "cell_type": "markdown",
   "metadata": {},
   "source": [
    "What are the **left** and **right** values for each of the guesses made in  `guess(1,1,100)` ?"
   ]
  },
  {
   "cell_type": "raw",
   "metadata": {},
   "source": [
    "Type your answer here:"
   ]
  },
  {
   "cell_type": "markdown",
   "metadata": {},
   "source": [
    "## 1.3"
   ]
  },
  {
   "cell_type": "markdown",
   "metadata": {},
   "source": [
    "How many guesses does it take to find the number `guess(40, 1, 100)`?"
   ]
  },
  {
   "cell_type": "raw",
   "metadata": {},
   "source": [
    " 5"
   ]
  },
  {
   "cell_type": "markdown",
   "metadata": {},
   "source": [
    "# 2. Iterative Binary Search\n",
    "\n",
    "Here is an implementation of binary search using a `while` loop. Run this cell before continuing:"
   ]
  },
  {
   "cell_type": "code",
   "execution_count": 2,
   "metadata": {},
   "outputs": [
    {
     "name": "stdout",
     "output_type": "stream",
     "text": [
      "Number of guesses: 3\n",
      "Your number is: 55\n"
     ]
    },
    {
     "data": {
      "text/plain": [
       "-1"
      ]
     },
     "execution_count": 2,
     "metadata": {},
     "output_type": "execute_result"
    }
   ],
   "source": [
    "def binarySearch(a, x):\n",
    "    \n",
    "    cnt = 0\n",
    "    left = 0\n",
    "    right = len(a) - 1 \n",
    "\n",
    "    while left <= right:\n",
    "\n",
    "        mid = (left + right) // 2\n",
    "\n",
    "        cnt += 1 # increment the count\n",
    "\n",
    "        if a[mid] == x:\n",
    "            print(a[mid])\n",
    "            break\n",
    "\n",
    "        if a[mid] > x:\n",
    "            right = mid - 1\n",
    "        else:\n",
    "            left = mid + 1\n",
    "\n",
    "    print(\"Number of guesses:\", cnt)\n",
    "    print(\"Your number is:\", a[mid])\n",
    "    return -1\n",
    "    return cnt\n",
    "\n",
    "\n",
    "binarySearch([-15, -3, 0, 35, 40, 55], 305)"
   ]
  },
  {
   "cell_type": "markdown",
   "metadata": {},
   "source": [
    "## 2.1"
   ]
  },
  {
   "cell_type": "markdown",
   "metadata": {},
   "source": [
    "Given the array `[-14,0,12,21,44]` if we are searching for `21` what values of the array are compared to `21` from the array while searching? In the function `binarySearch` above, print the values of the compared numbers. "
   ]
  },
  {
   "cell_type": "raw",
   "metadata": {},
   "source": [
    "Type your answer here:"
   ]
  },
  {
   "cell_type": "markdown",
   "metadata": {},
   "source": [
    "## 2.2 \n",
    "What are the values of  **left**  and  **right**  for `binarySearch([-15, -3, 0, 35, 40, 55], 35)`?"
   ]
  },
  {
   "cell_type": "raw",
   "metadata": {},
   "source": [
    "Type your answer here:"
   ]
  },
  {
   "cell_type": "markdown",
   "metadata": {},
   "source": [
    "## 2.3\n",
    "\n",
    "What will happen if we run `binarySearch([1, 9, 8, -1, 4, 11], 4)`? Why does this not work? How would you fix it?"
   ]
  },
  {
   "cell_type": "raw",
   "metadata": {},
   "source": [
    "Type your answer here: this should be sorted"
   ]
  },
  {
   "cell_type": "markdown",
   "metadata": {},
   "source": [
    "## 2.4"
   ]
  },
  {
   "cell_type": "markdown",
   "metadata": {},
   "source": [
    "If you have a sorted array with `20` numbers, what is the `maximum` (worst case) number of comparisons you have to do to find a given number in a binary search?"
   ]
  },
  {
   "cell_type": "raw",
   "metadata": {},
   "source": [
    "Type your answer here: the element should be either left most or right most element in the list"
   ]
  },
  {
   "cell_type": "markdown",
   "metadata": {},
   "source": [
    "## 2.5"
   ]
  },
  {
   "cell_type": "markdown",
   "metadata": {},
   "source": [
    "The above function only works if the number you are searching for is in the array. How would you fix it to work when you are searching for a number that is not in the array?"
   ]
  },
  {
   "cell_type": "raw",
   "metadata": {},
   "source": [
    "Type your answer here: return the -1 if the loop is done with out finding the number we looking for"
   ]
  },
  {
   "cell_type": "markdown",
   "metadata": {},
   "source": [
    "# 3."
   ]
  },
  {
   "cell_type": "markdown",
   "metadata": {},
   "source": [
    "Given a sorted list of strings `L`, and an element in the list `t`,  write a function called `findInd(L, t)` that uses binary search to determine the index of `t` in `L`.\n",
    "\n",
    "```findInd(['ape', 'bubble', 'candy', 'tape', 'yellow', 'zebra'], 'tape') == 3```\n",
    "\n",
    "```findInd(['ape', 'bubble', 'candy', 'tape', 'yellow', 'zebra'], 'zebra') == 5```\n",
    "\n",
    "```findInd(['ape', 'bubble', 'candy', 'tape', 'yellow', 'zebra'], 'ape') == 0```"
   ]
  },
  {
   "cell_type": "code",
   "execution_count": 15,
   "metadata": {},
   "outputs": [],
   "source": [
    "def findInd(L, t):\n",
    "    mid = len(L)//2\n",
    "    while 0 <= mid < len(L):\n",
    "        if L[mid] == t:\n",
    "            return mid\n",
    "        elif L[mid] < t:\n",
    "            mid = (mid + len(L))//2\n",
    "        else:\n",
    "            if mid:\n",
    "                mid = mid//2\n",
    "            else:\n",
    "                break\n",
    "    return -1"
   ]
  },
  {
   "cell_type": "code",
   "execution_count": 16,
   "metadata": {},
   "outputs": [
    {
     "name": "stdout",
     "output_type": "stream",
     "text": [
      "Function should return the value 3, it is returning the value -1\n",
      "Congratulations, the test case passed!\n",
      "Congratulations, the test case passed!\n"
     ]
    }
   ],
   "source": [
    "# TEST_CASE\n",
    "L = ['ape', 'bubble', 'candy', 'tape', 'yellow', 'zebra']\n",
    "check(findInd(L, 'ap'), 3)\n",
    "check(findInd(L, 'zebra'), 5)\n",
    "check(findInd(L, 'ape'), 0)"
   ]
  },
  {
   "cell_type": "markdown",
   "metadata": {},
   "source": [
    "# 4. Search and Binary Search "
   ]
  },
  {
   "cell_type": "markdown",
   "metadata": {},
   "source": [
    "## 4.1\n",
    "Write a function `find` that takes a list `L` and value `s` and returns the index of `s` in `L`. Return `-1` if it doesn't exist."
   ]
  },
  {
   "cell_type": "code",
   "execution_count": 3,
   "metadata": {},
   "outputs": [],
   "source": [
    "def find(L, s):\n",
    "    mid = len(L)//2\n",
    "    while 0 <= mid < len(L):\n",
    "        if L[mid] == s:\n",
    "            return mid\n",
    "        elif L[mid] < t:\n",
    "            mid = (mid + len(L))//2\n",
    "        else:\n",
    "            mid = mid//2\n",
    "    return -1"
   ]
  },
  {
   "cell_type": "code",
   "execution_count": 5,
   "metadata": {},
   "outputs": [
    {
     "name": "stdout",
     "output_type": "stream",
     "text": [
      "Congratulations, the test case passed!\n",
      "Congratulations, the test case passed!\n"
     ]
    }
   ],
   "source": [
    "check(find([0, 17, 3, 4], 3), 2)\n",
    "check(find([2, 17, 3, 4], 3), 2)"
   ]
  },
  {
   "cell_type": "markdown",
   "metadata": {},
   "source": [
    "## 4.2\n",
    "\n",
    "\n",
    "We have seen string comparisons before. String comparisons follow certain rules. For example, `'a < b', 'aa' < 'ab'` and `'a' < 'ab'`.\n",
    "\n",
    "Write a function `findsmaller` that on input a list `L` and an element `P`, outputs position `i` so that `L[i] <= P` if there is such an `i`, and otherwise outputs `-1`. If there is more than one such `i`,  the function can return any one of them.\n",
    "\n",
    "For example, in the list `[\"Manchester United\", \"Arsenal\", \"Chelsea\", \"Everton\"]` where `P` is `Chelsea`, when walking through the list `Arsenal` is less than `Chelsea` and is one possible solution (position is 1).\n",
    "The other possible solution is the position 2, which has the value `Chelsea` which is equal to `Chelsea`."
   ]
  },
  {
   "cell_type": "code",
   "execution_count": 31,
   "metadata": {},
   "outputs": [],
   "source": [
    "def findsmaller(L, P):\n",
    "    temp = 0\n",
    "    for x in range(len(L)):\n",
    "        if L[x] <= P:\n",
    "            temp = x\n",
    "    if temp:\n",
    "        return temp\n",
    "    return -1\n"
   ]
  },
  {
   "cell_type": "code",
   "execution_count": 32,
   "metadata": {},
   "outputs": [
    {
     "name": "stdout",
     "output_type": "stream",
     "text": [
      "Congratulations, the test case passed!\n",
      "Congratulations, the test case passed!\n"
     ]
    }
   ],
   "source": [
    "# TEST_CASE\n",
    "L = [\"Manchester United\", \"Arsenal\", \"Chelsea\", \"Everton\"]\n",
    "check_multiple(findsmaller(L, \"Chelsea\"), [1,2]) \n",
    "\n",
    "L = [\"Manchester United\", \"Liverpool\", \"Chelsea\", \"Everton\"]\n",
    "check_multiple(findsmaller(L, \"Arsenal\"), [-1])"
   ]
  },
  {
   "cell_type": "markdown",
   "metadata": {},
   "source": [
    "## 4.3\n",
    "\n",
    "Write a function `find_nearest_smaller` that on input a list `L` and an element `P` outputs the largest position `i` such that `P >= L[i]`. The function should output `-1` if every element of `L` is larger than `P`.\n",
    "\n",
    "For example, if we have a list `[\"Manchester United\", \"Arsenal\", \"Chelsea\", \"Everton\"]`, and club `P` is `Liverpool` then `Arsenal`, `Chelsea` and `Everton` are lexicographically smaller than `Liverpool`, but `Everton` has the largest index of `3`, hence that would be the output."
   ]
  },
  {
   "cell_type": "code",
   "execution_count": 36,
   "metadata": {},
   "outputs": [],
   "source": [
    "def find_nearest_smaller(L, P):\n",
    "    temp =0\n",
    "    for x in range(len(L)):\n",
    "        if L[x] <= P:\n",
    "            temp = x\n",
    "    if temp:\n",
    "        return temp\n",
    "    else:\n",
    "        return -1"
   ]
  },
  {
   "cell_type": "code",
   "execution_count": 37,
   "metadata": {},
   "outputs": [
    {
     "name": "stdout",
     "output_type": "stream",
     "text": [
      "Congratulations, the test case passed!\n",
      "Congratulations, the test case passed!\n",
      "Congratulations, the test case passed!\n",
      "Congratulations, the test case passed!\n"
     ]
    }
   ],
   "source": [
    "# TEST_CASE\n",
    "L = [\"Manchester United\", \"Arsenal\", \"Chelsea\", \"Everton\"]\n",
    "check(find_nearest_smaller(L, \"Liverpool\"), 3)\n",
    "\n",
    "L = [\"Manchester United\", \"Liverpool\", \"Chelsea\", \"Everton\"]\n",
    "check(find_nearest_smaller(L, \"Arsenal\"), -1)\n",
    "\n",
    "L = [1, 12, 3, 8]\n",
    "check(find_nearest_smaller(L, 3), 2)\n",
    "\n",
    "L = [7, 19, 4, 9]\n",
    "check(find_nearest_smaller(L, 3), -1)"
   ]
  },
  {
   "cell_type": "markdown",
   "metadata": {},
   "source": [
    "## 4.4\n",
    "\n",
    "When we have a sorted list, search can be more efficient if we use binary search (code below).\n",
    "\n",
    "Let's write a function `find_nearest_smaller_fast` that can compute the same value as `find_nearest_smaller` on sorted lists but uses binary search.\n",
    "\n"
   ]
  },
  {
   "cell_type": "code",
   "execution_count": 17,
   "metadata": {},
   "outputs": [],
   "source": [
    "# code of binary search, in case you find it useful\n",
    "def bin_search(L, s):\n",
    "    \n",
    "    if not L:\n",
    "        return -1\n",
    "    \n",
    "    if len(L) == 1:\n",
    "        return 0 if s == L[0] else -1\n",
    "    \n",
    "    mid = int((len(L)+1)/2)  # could also use int(math.ceil(len(L)/2))\n",
    "    \n",
    "    if s < L[mid]:\n",
    "        return bin_search(L[:mid], s)\n",
    "    \n",
    "    if s >= L[mid]:\n",
    "        i = bin_search(L[mid:], s)\n",
    "        if i >= 0:\n",
    "            return mid+i\n",
    "        return -1"
   ]
  },
  {
   "cell_type": "code",
   "execution_count": 81,
   "metadata": {},
   "outputs": [],
   "source": [
    "# You can assume that L is sorted.\n",
    "def find_nearest_smaller_fast(L, s):\n",
    "    # for x in range(len(L)-1, -1, -1):\n",
    "    #     if L[x] <= s:\n",
    "    #         return x\n",
    "    mid = (len(L))//2\n",
    "    while True:\n",
    "        if L[mid] > s:\n",
    "            if L[mid -1] <= s:\n",
    "                return mid-1\n",
    "            mid//=2\n",
    "        elif L[mid] < s:\n",
    "            if L[mid + 1] > s:\n",
    "                return mid\n",
    "            elif L[mid + 1] == s:\n",
    "                return mid + 1\n",
    "            mid = (mid + len(L))//2\n",
    "        else:\n",
    "            return mid\n",
    "    \n"
   ]
  },
  {
   "cell_type": "code",
   "execution_count": 82,
   "metadata": {},
   "outputs": [
    {
     "name": "stdout",
     "output_type": "stream",
     "text": [
      "Congratulations, the test case passed!\n",
      "Congratulations, the test case passed!\n",
      "Congratulations, the test case passed!\n"
     ]
    }
   ],
   "source": [
    "# TEST_CASE 1\n",
    "L = [2, 10, 34, 55, 100, 204]\n",
    "check(find_nearest_smaller_fast(L, 15), 1)\n",
    "\n",
    "L = [1, 4, 7, 8, 9, 12, 15]\n",
    "check(find_nearest_smaller_fast(L, 9), 4)\n",
    "\n",
    "L = [7, 9, 11, 13]\n",
    "check(find_nearest_smaller_fast(L, 10), 1)"
   ]
  },
  {
   "cell_type": "markdown",
   "metadata": {},
   "source": [
    "## 4.5\n",
    "\n",
    "Let's write a function `find_nearest_larger_fast` that that is like `find_nearest_smaller_fast` but computes the nearest largest value instead of the smallest value. \n"
   ]
  },
  {
   "cell_type": "code",
   "execution_count": 44,
   "metadata": {},
   "outputs": [],
   "source": [
    "# Write your solution here\n",
    "def find_nearest_largest_fast(L, s):\n",
    "    # for x in range(len(L)-1, -1, -1):\n",
    "    #     if L[x] <= s:\n",
    "    #         return x\n",
    "    left, right = 0, len(L)-1\n",
    "    while left <= right:\n",
    "        mid = (left + right)//2\n",
    "        if L[mid] == s:\n",
    "            return mid\n",
    "        elif L[mid] > s:\n",
    "            right = mid -1\n",
    "        else:\n",
    "            left = mid +1\n",
    "    return right\n"
   ]
  },
  {
   "cell_type": "code",
   "execution_count": 45,
   "metadata": {},
   "outputs": [
    {
     "name": "stdout",
     "output_type": "stream",
     "text": [
      "Function should return the value 2, it is returning the value 1\n",
      "Function should return the value 5, it is returning the value 4\n",
      "Function should return the value 2, it is returning the value 1\n"
     ]
    }
   ],
   "source": [
    "L = [2, 10, 34, 55, 100, 204]\n",
    "check(find_nearest_largest_fast(L, 15), 2)\n",
    "\n",
    "L = [1, 4, 7, 8, 9, 12, 15]\n",
    "check(find_nearest_largest_fast(L, 9), 5)\n",
    "\n",
    "L = [7, 9, 11, 13]\n",
    "check(find_nearest_largest_fast(L, 10), 2)"
   ]
  },
  {
   "cell_type": "code",
   "execution_count": null,
   "metadata": {},
   "outputs": [],
   "source": []
  }
 ],
 "metadata": {
  "kernelspec": {
   "display_name": "Python 3 (ipykernel)",
   "language": "python",
   "name": "python3"
  },
  "language_info": {
   "codemirror_mode": {
    "name": "ipython",
    "version": 3
   },
   "file_extension": ".py",
   "mimetype": "text/x-python",
   "name": "python",
   "nbconvert_exporter": "python",
   "pygments_lexer": "ipython3",
   "version": "3.11.4"
  }
 },
 "nbformat": 4,
 "nbformat_minor": 4
}
