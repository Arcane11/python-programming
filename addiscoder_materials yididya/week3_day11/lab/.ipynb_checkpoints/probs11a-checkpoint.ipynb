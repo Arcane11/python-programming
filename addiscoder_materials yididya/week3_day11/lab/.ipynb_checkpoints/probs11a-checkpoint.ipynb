{
 "cells": [
  {
   "cell_type": "markdown",
   "id": "0d125251",
   "metadata": {},
   "source": [
    "# Recap of Time Complexity\n",
    "\n",
    "Recall that **time complexity** refers to the computational complexity that describes the number of operations that the computer has to do to run an algorithm. It is expressed **as a function of the size of the input to the program**.\n",
    "\n",
    "What is an operation?\n",
    "\n",
    "Is `a = a + 1` one or two operations?\n",
    "\n",
    "Is `a += 1` one or two operations?\n",
    "\n",
    "We don't want to worry about such small details. Therefore time complexity is usually expressed in big O notation, which describes the worst-case scenario, and ignores (for example) constant factors. (It can also be used to describe the space used e.g., in memory or on disk by an algorithm.)\n",
    "\n",
    "Example: Assume the input size is `n`.\n",
    "\n",
    "- $n$ operations is $O(n)$.\n",
    "- $n + 5$ operations is $O(n)$.\n",
    "- $n + 200000$ operations is $O(n)$.\n",
    "- $n - 200000$ operations is $O(n)$.\n",
    "- $2n$ operations is $O(n)$.\n",
    "- $200000n$ operations is $O(n)$.\n",
    "- $n/200000$ operations is $O(n)$.\n",
    "\n",
    "All of these are the same in big O notation, as they only differ by constants. Below are some other examples:\n",
    "\n",
    "- $n^{2}$ operations is $O(n^{2})$.\n",
    "- $20000n^{2}$ operations is $O(n^{2})$.\n",
    "- $n^{2} + 20n + 4000$ operations is $O(n^{2})$, because $n^{2}$ is the fastest growing term.\n",
    "- $n^{1.1}$ operations is $O(n^{1.1})$.\n",
    "- $\\log_2 n$ operations is $O(\\log n)$.\n",
    "- $\\log_{10} n$ operations is $O(\\log n)$, because $\\log_{10} n = \\log_{10} 2 \\cdot \\log_{2} n$. We don't care about the base of the $\\log$\n",
    "- $n\\cdot \\log_2 n$ operations is $O(n \\log n)$.\n",
    "- $20000$ operations is $O(1)$.\n",
    "- $2^n$ operations is $O(2^n)$.\n",
    "- $3^n$ operations is $O(3^n)$ --- For powers, the base makes a difference!"
   ]
  },
  {
   "cell_type": "markdown",
   "id": "05c20e62",
   "metadata": {},
   "source": [
    "## Exercise 1\n",
    "\n",
    "For each of the following, give the number of operations in **big O notation**."
   ]
  },
  {
   "cell_type": "markdown",
   "id": "d427125e",
   "metadata": {},
   "source": [
    "(a) $1000000n + 1000$ operations"
   ]
  },
  {
   "cell_type": "markdown",
   "id": "6b8d80e8",
   "metadata": {},
   "source": [
    "Your answer here O(N)"
   ]
  },
  {
   "cell_type": "markdown",
   "id": "f42e9d24",
   "metadata": {},
   "source": [
    "(b) $4n^2 - 10000n^{1.5} + 50$ operations"
   ]
  },
  {
   "cell_type": "markdown",
   "id": "2a61e86c",
   "metadata": {},
   "source": [
    "Your answer here O(N^2)"
   ]
  },
  {
   "cell_type": "markdown",
   "id": "c7e89f02",
   "metadata": {},
   "source": [
    "(c) $n + 0.1\\sqrt{n}$ operations"
   ]
  },
  {
   "cell_type": "markdown",
   "id": "384b0e84",
   "metadata": {},
   "source": [
    "Your answer here O(N)"
   ]
  },
  {
   "cell_type": "markdown",
   "id": "cb12c300",
   "metadata": {},
   "source": [
    "(d) $n^2\\log_{3} n$ operations"
   ]
  },
  {
   "cell_type": "markdown",
   "id": "a5f7f1a0",
   "metadata": {},
   "source": [
    "Your answer here O(N^2log3n)"
   ]
  },
  {
   "cell_type": "markdown",
   "id": "7fa77bdb",
   "metadata": {},
   "source": [
    "(e) $\\log_2 (n^3)$ operations"
   ]
  },
  {
   "cell_type": "markdown",
   "id": "b4564827",
   "metadata": {},
   "source": [
    "Your answer here O(logN)"
   ]
  },
  {
   "cell_type": "markdown",
   "id": "27ba1ac8",
   "metadata": {},
   "source": [
    "(f) $n + \\log_2 n$ operations"
   ]
  },
  {
   "cell_type": "markdown",
   "id": "e98d54d6",
   "metadata": {},
   "source": [
    "Your answer here O(N)"
   ]
  },
  {
   "cell_type": "markdown",
   "id": "e08ee665",
   "metadata": {},
   "source": [
    "(g) $2^{n+1}$ operations"
   ]
  },
  {
   "cell_type": "markdown",
   "id": "aebed18c",
   "metadata": {},
   "source": [
    "O(2^N) Your answer here"
   ]
  },
  {
   "cell_type": "markdown",
   "id": "5c42b616",
   "metadata": {},
   "source": [
    "(h) $2^n + n^2$ operations"
   ]
  },
  {
   "cell_type": "markdown",
   "id": "d522c533",
   "metadata": {},
   "source": [
    "Your answer here O(2^N)"
   ]
  },
  {
   "cell_type": "markdown",
   "id": "db87242e",
   "metadata": {},
   "source": [
    "<details>\n",
    "<summary><i>Click here to see the solution</i></summary>\n",
    "\n",
    "- (a) $O(n)$\n",
    "- (b) $O(n^2)$\n",
    "- (c) $O(n)$, because $\\sqrt{n} = n^{0.5}$ which grows more slowly than $n$\n",
    "- (d) $O(n^2 \\log n)$\n",
    "- (e) $O(\\log n)$, because $\\log_2 n^3 = 3_2 \\log n$\n",
    "- (f) $O(n)$, because $\\log n$ grows more slowly than $n$\n",
    "- (g) $O(2^n)$, because $2^{n+1} = 2 \\cdot2^n$\n",
    "- (h) $O(2^n)$, because $2^n$ grows faster than $n^2$. (Any exponential grows faster than any polynomial.)\n",
    "</details>"
   ]
  },
  {
   "cell_type": "markdown",
   "id": "ede08b9e",
   "metadata": {},
   "source": [
    "## Exercise 2\n",
    "\n",
    "What is the time complexity of the following functions, in big O notation?"
   ]
  },
  {
   "cell_type": "code",
   "execution_count": null,
   "id": "3379f65f",
   "metadata": {},
   "outputs": [],
   "source": [
    "# (a)\n",
    "def sum_numbers(n):\n",
    "    summ = 0\n",
    "    for i in range(n):\n",
    "        summ += i\n",
    "    return i"
   ]
  },
  {
   "cell_type": "markdown",
   "id": "8a11a461",
   "metadata": {},
   "source": [
    "Your answer here O(N)"
   ]
  },
  {
   "cell_type": "code",
   "execution_count": null,
   "id": "0d3f8f64",
   "metadata": {},
   "outputs": [],
   "source": [
    "# (b)\n",
    "def sum_even_numbers(n):\n",
    "    summ = 0\n",
    "    for i in range(0, n, 2):\n",
    "        summ += i\n",
    "    return i"
   ]
  },
  {
   "cell_type": "markdown",
   "id": "ddc30831",
   "metadata": {},
   "source": [
    "Your answer here O(N)"
   ]
  },
  {
   "cell_type": "code",
   "execution_count": null,
   "id": "fe1ae0a8",
   "metadata": {},
   "outputs": [],
   "source": [
    "# (c)\n",
    "def sum_numbers2(n):\n",
    "    return n * (n-1) // 2"
   ]
  },
  {
   "cell_type": "markdown",
   "id": "d0d244a7",
   "metadata": {},
   "source": [
    "Your answer here O(1)"
   ]
  },
  {
   "cell_type": "code",
   "execution_count": null,
   "id": "0ad4385f",
   "metadata": {},
   "outputs": [],
   "source": [
    "# (d)\n",
    "def sum_and_prod(n):\n",
    "    summ = 0\n",
    "    for i in range(1, n):\n",
    "        summ += i\n",
    "    prod = 1\n",
    "    for i in range(1, n):\n",
    "        summ *= i\n",
    "    return [summ, prod]"
   ]
  },
  {
   "cell_type": "markdown",
   "id": "b2ab276d",
   "metadata": {},
   "source": [
    "Your answer here O(N)"
   ]
  },
  {
   "cell_type": "code",
   "execution_count": null,
   "id": "2eaa8594",
   "metadata": {},
   "outputs": [],
   "source": [
    "# (e)\n",
    "def sum_and_prod2(n):\n",
    "    summ = sum_numbers(n)  # calling the function from (a)\n",
    "    prod = 1\n",
    "    for i in range(1, n):\n",
    "        summ *= i\n",
    "    return [summ, prod]"
   ]
  },
  {
   "cell_type": "markdown",
   "id": "d2e49e23",
   "metadata": {},
   "source": [
    "Your answer here O(N)"
   ]
  },
  {
   "cell_type": "code",
   "execution_count": null,
   "id": "f6540526",
   "metadata": {},
   "outputs": [],
   "source": [
    "# (f)\n",
    "def print_all_pairs(n):\n",
    "    for i in range(n):\n",
    "        for j in range(n):\n",
    "            print(f\"({i}, {j})\")"
   ]
  },
  {
   "cell_type": "markdown",
   "id": "acfb6503",
   "metadata": {},
   "source": [
    "Your answer   O(N^2)"
   ]
  },
  {
   "cell_type": "code",
   "execution_count": null,
   "id": "ea09b43b",
   "metadata": {},
   "outputs": [],
   "source": [
    "# (g)\n",
    "def collect_all_pairs(n):\n",
    "    pairs = []\n",
    "    for i in range(n):\n",
    "        new_pairs = []\n",
    "        for j in range(n):\n",
    "            new_pairs.append([i, j])\n",
    "        pairs.append(new_pairs)\n",
    "    return pairs"
   ]
  },
  {
   "cell_type": "markdown",
   "id": "4ca9d915",
   "metadata": {},
   "source": [
    "Your answer here O(N^2)"
   ]
  },
  {
   "cell_type": "code",
   "execution_count": null,
   "id": "f45fb6c4",
   "metadata": {},
   "outputs": [],
   "source": [
    "# (h)\n",
    "def print_powers_up_to_n(n): \n",
    "    i = 1\n",
    "    while i < n:\n",
    "        print(i)\n",
    "        i *= 2"
   ]
  },
  {
   "cell_type": "markdown",
   "id": "72b7c366",
   "metadata": {},
   "source": [
    "Your answer here O(logN)"
   ]
  },
  {
   "cell_type": "code",
   "execution_count": null,
   "id": "89e4817b",
   "metadata": {},
   "outputs": [],
   "source": [
    "# (i)\n",
    "def print_rectangle(n):\n",
    "    for i in range(n):\n",
    "        for j in range(10):\n",
    "            print('*', end='')\n",
    "        print()"
   ]
  },
  {
   "cell_type": "markdown",
   "id": "67c382d4",
   "metadata": {},
   "source": [
    "Your answer here O(N)"
   ]
  },
  {
   "cell_type": "code",
   "execution_count": null,
   "id": "d2b5eb47",
   "metadata": {},
   "outputs": [],
   "source": [
    "# (j)\n",
    "def print_triangle(n):\n",
    "    for i in range(n+1):\n",
    "        for j in range(i+1):\n",
    "            print('*', end='')\n",
    "        print()"
   ]
  },
  {
   "cell_type": "markdown",
   "id": "4b6dc989",
   "metadata": {},
   "source": [
    "Your answer here O(N^2)"
   ]
  },
  {
   "cell_type": "markdown",
   "id": "0a8dc24a",
   "metadata": {},
   "source": [
    "<details>\n",
    "<summary><i>Click here to see the solution</i></summary>\n",
    "\n",
    "- (a) $O(n)$\n",
    "- (b) $O(n)$, because $n/2$ operations is still $O(n)$\n",
    "- (c) $O(1)$\n",
    "- (d) $O(n)$, because $n + n = 2n$ operations is $O(n)$\n",
    "- (e) $O(n)$. The function call takes $O(n)$, it is the same as (d). \n",
    "- (f) $O(n^2)$\n",
    "- (g) $O(n^2)$\n",
    "- (h) $O(\\log n)$, because $i$ needs to be doubled $\\log_2 n$ times until it exceeds $n$\n",
    "- (i) $O(n)$, because the inner loops is only repeated a constant number of times\n",
    "- (j) $O(n^2)$, because we print $1+2+3+\\cdots+n = n(n-1)/2 = 0.5n^2 - 0.5n$ stars\n",
    "</details>"
   ]
  },
  {
   "cell_type": "markdown",
   "id": "3362c18a",
   "metadata": {},
   "source": [
    "## Exercise 3\n",
    "\n",
    "What is $n$? Sometimes, we need to specify.\n",
    "\n",
    "What is the time complexity of the following functions, in big O notation?"
   ]
  },
  {
   "cell_type": "code",
   "execution_count": null,
   "id": "1e946e5f",
   "metadata": {},
   "outputs": [],
   "source": [
    "# (a)  n is the length of lst\n",
    "def find_min(lst):\n",
    "    min_e = lst[0]\n",
    "    for e in lst[1:]:\n",
    "        if e < min_e:\n",
    "            min_e = e\n",
    "    return min_e"
   ]
  },
  {
   "cell_type": "markdown",
   "id": "be4f860b",
   "metadata": {},
   "source": [
    "Your answer here  O(N)"
   ]
  },
  {
   "cell_type": "code",
   "execution_count": null,
   "id": "920dc206",
   "metadata": {},
   "outputs": [],
   "source": [
    "# (b)  matrix is a square n*n matrix\n",
    "def find_matrix_min(matrix):\n",
    "    min_e = matrix[0][0]\n",
    "    for row in matrix:\n",
    "        min_row = find_min(row)  # calling the function from (a)\n",
    "        if min_row < min_e:\n",
    "            min_e = min_row\n",
    "    return min_e"
   ]
  },
  {
   "cell_type": "markdown",
   "id": "c740d1db",
   "metadata": {},
   "source": [
    "Your answer here O(N^2)"
   ]
  },
  {
   "cell_type": "code",
   "execution_count": null,
   "id": "045cbdee",
   "metadata": {},
   "outputs": [],
   "source": [
    "# (c)  n is the length of the string\n",
    "def count_letter(string, letter):\n",
    "    count = 0\n",
    "    for c in string:\n",
    "        if c == letter:\n",
    "            count += 1\n",
    "    return count"
   ]
  },
  {
   "cell_type": "markdown",
   "id": "906d9455",
   "metadata": {},
   "source": [
    "Your answer here O(N)"
   ]
  },
  {
   "cell_type": "code",
   "execution_count": null,
   "id": "1c425ce9",
   "metadata": {},
   "outputs": [],
   "source": [
    "# (d)  n is the length of the string\n",
    "def count_all_letters(string):\n",
    "    counts = {}\n",
    "    for letter in 'abcdefghijklmnopqrstuvwxyz':\n",
    "        counts[letter] = count_letter(string, letter)  # calling the function from (c)\n",
    "    return counts"
   ]
  },
  {
   "cell_type": "markdown",
   "id": "13b579b1",
   "metadata": {},
   "source": [
    "Your answer here O(N)"
   ]
  },
  {
   "cell_type": "code",
   "execution_count": null,
   "id": "d7983cab",
   "metadata": {},
   "outputs": [],
   "source": [
    "# (e)  n is the length of the string\n",
    "def count_all_letters2(string):\n",
    "    counts = {}\n",
    "    for letter in string:\n",
    "        if letter in counts:\n",
    "            counts[letter] += 1\n",
    "        else:\n",
    "            counts[letter] = 1\n",
    "    return counts"
   ]
  },
  {
   "cell_type": "markdown",
   "id": "544a8651",
   "metadata": {},
   "source": [
    "Your answer here O(N)"
   ]
  },
  {
   "cell_type": "code",
   "execution_count": null,
   "id": "2c9f5123",
   "metadata": {},
   "outputs": [],
   "source": [
    "# (f): canvas is an image of dimension n*n\n",
    "\n",
    "from simpleimage import SimpleImage\n",
    "\n",
    "def make_black(canvas):\n",
    "    for column in range(canvas.width):\n",
    "        for row in range(canvas.height):\n",
    "            canvas.set_rgb(column, row, 0, 0, 0)"
   ]
  },
  {
   "cell_type": "markdown",
   "id": "99e71961",
   "metadata": {},
   "source": [
    "Your answer here O(N^2)"
   ]
  },
  {
   "cell_type": "markdown",
   "id": "548f4d65",
   "metadata": {},
   "source": [
    "<details>\n",
    "<summary><i>Click here to see the solution</i></summary>\n",
    "\n",
    "- (a) $O(n)$\n",
    "- (b) $O(n^2)$, because `find_min` takes $O(n)$ and is called $n$ times\n",
    "- (c) $O(n)$\n",
    "- (d) $O(n)$, because `count_letter` takes $O(n)$ and is called 26 (constant) times.\n",
    "- (e) $O(n)$.\n",
    "- (f) $O(n^2)$\n",
    "</details>"
   ]
  },
  {
   "cell_type": "markdown",
   "id": "770776b7",
   "metadata": {},
   "source": [
    "## Exercise 4\n",
    "\n",
    "Sometimes, how many operations **depends on the exact input**. In this case, we consider how many **operations** are needed in the **worst case**.\n",
    "\n",
    "What is the **worst case** time complexity of the following functions, in big O notation?\n",
    "\n",
    "Bonus: For which inputs do we need fewer operations? How many operations are needed in this case (best case)?"
   ]
  },
  {
   "cell_type": "code",
   "execution_count": null,
   "id": "953c0ca2",
   "metadata": {},
   "outputs": [],
   "source": [
    "# (a)  n is the length of lst\n",
    "def find_element(lst, elem):\n",
    "    for i in range(len(lst)):\n",
    "        if lst[i] == elem:\n",
    "            return i  # position of the element\n",
    "    return -1  # element not found"
   ]
  },
  {
   "cell_type": "markdown",
   "id": "f60ce5bd",
   "metadata": {},
   "source": [
    "Worst case: Your answer here when element is not available in the array\n",
    "\n",
    "Bonus: Your answer here when it is in the zeroth element in the array "
   ]
  },
  {
   "cell_type": "code",
   "execution_count": null,
   "id": "0082eb98",
   "metadata": {},
   "outputs": [],
   "source": [
    "# (b)  n is the length of lst, and the elements of list are smaller than n\n",
    "def add_sums_list(lst):\n",
    "    summ = 0\n",
    "    for i in lst:\n",
    "        summ += sum_numbers(i)  # Using the function from Exercise 2a\n",
    "    return summ"
   ]
  },
  {
   "cell_type": "markdown",
   "id": "b03eead5",
   "metadata": {},
   "source": [
    "Worst case: Your answer here  has large amount of elements in nested list\n",
    "\n",
    "Bonus: Your answer here has no elements"
   ]
  },
  {
   "cell_type": "code",
   "execution_count": null,
   "id": "d78f0c84",
   "metadata": {},
   "outputs": [],
   "source": [
    "# (c)  n is the length of lst, and the elements of list are smaller than n\n",
    "def add_sums_list(lst):\n",
    "    summ = 0\n",
    "    for i in lst:\n",
    "        summ += sum_numbers2(i)  # Using the function from Exercise 2c\n",
    "    return summ"
   ]
  },
  {
   "cell_type": "markdown",
   "id": "91632af4",
   "metadata": {},
   "source": [
    "Worst case: Your answer here have more elements\n",
    "\n",
    "Bonus: Your answer here has no element"
   ]
  },
  {
   "cell_type": "code",
   "execution_count": null,
   "id": "a8d847ef",
   "metadata": {},
   "outputs": [],
   "source": [
    "# (d): canvas is an image of dimension n*n\n",
    "\n",
    "from simpleimage import SimpleImage\n",
    "\n",
    "def draw_horizontal(canvas, x, y, length):\n",
    "    for i in range(length):\n",
    "        canvas.set_rgb(x+i, y, 0, 0, 0)"
   ]
  },
  {
   "cell_type": "markdown",
   "id": "e49f1352",
   "metadata": {},
   "source": [
    "Worst case: Your answer here when the length is becoming to long\n",
    "\n",
    "Bonus: Your answer here when the length is one"
   ]
  },
  {
   "cell_type": "markdown",
   "id": "de51f63b",
   "metadata": {},
   "source": [
    "<details>\n",
    "<summary><i>Click here to see the solution</i></summary>\n",
    "\n",
    "- (a)\n",
    "    - Worst case: We go through the whole list which takes $O(n)$\n",
    "    - Bonus: If `lst[0] == elem`, we might find the element immediately which takes $O(1)$\n",
    "- (b)\n",
    "    - Worst case: $O(n^2)$ because we repeat the `sum_numbers` function call $n$ times, and each call can take up to $O(n)$\n",
    "    - Bonus: If all the numbers are `1`, `sum_numbers(1)` takes $O(1)$ and we get overall $O(n)$\n",
    "- (c)\n",
    "    - Worst case: $O(n)$ because we repeat the `sum_numbers` function call $n$ times, and each call takes $O(1)$\n",
    "    - Bonus: the best case is the same as the worst case\n",
    "- (d)\n",
    "    - Worst case: $O(n)$ the length can be up to $n$ pixels\n",
    "    - Bonus: the best case is $O(1)$ if the length is 1.\n",
    "</details>"
   ]
  },
  {
   "cell_type": "markdown",
   "id": "600a999b",
   "metadata": {},
   "source": [
    "## Exercise 5\n",
    "\n",
    "What is the **worst case** time complexity of the following functions, in big O notation?"
   ]
  },
  {
   "cell_type": "code",
   "execution_count": null,
   "id": "6a2ef11c",
   "metadata": {},
   "outputs": [],
   "source": [
    "# (a)\n",
    "def factorial(n):\n",
    "    if n == 1:\n",
    "        return 1\n",
    "    return n * factorial(n-1)"
   ]
  },
  {
   "cell_type": "markdown",
   "id": "1ac3917a",
   "metadata": {},
   "source": [
    "Your answer here O(N)"
   ]
  },
  {
   "cell_type": "code",
   "execution_count": null,
   "id": "54689fd8",
   "metadata": {},
   "outputs": [],
   "source": [
    "# (b)  lst is a list of length n\n",
    "def sumAll(lst):\n",
    "    if len(lst) == 0:\n",
    "        return 0\n",
    "    else:\n",
    "        return lst[0] + sumAll(lst[1:])\n",
    "\n",
    "sumAll([1, 2, 3, 4])"
   ]
  },
  {
   "cell_type": "markdown",
   "id": "5919f332",
   "metadata": {},
   "source": [
    "Your answer here O(N^2)"
   ]
  },
  {
   "cell_type": "code",
   "execution_count": null,
   "id": "cdba8fb4",
   "metadata": {},
   "outputs": [],
   "source": [
    "# (c)\n",
    "def rounded_log2(n):\n",
    "    if n <= 1:\n",
    "        return 0\n",
    "    return 1 + rounded_log2(n // 2)"
   ]
  },
  {
   "cell_type": "markdown",
   "id": "71ff4929",
   "metadata": {},
   "source": [
    "Your answer here O(logN)"
   ]
  },
  {
   "cell_type": "markdown",
   "id": "160bd36d",
   "metadata": {},
   "source": [
    "<details>\n",
    "<summary><i>Click here to see the solution</i></summary>\n",
    "    \n",
    "- (a) $O(n)$\n",
    "- (b) $O(n^2)$\n",
    "- (c) $O(\\log n)$\n",
    "</details>"
   ]
  },
  {
   "cell_type": "markdown",
   "id": "70e7cac0",
   "metadata": {},
   "source": [
    "## Exercise 6\n",
    "\n",
    "Not all pre-defined functions take constant time.\n",
    "\n",
    "What is the **worst case** time complexity of the following functions, in big O notation?"
   ]
  },
  {
   "cell_type": "markdown",
   "id": "3d85f877",
   "metadata": {},
   "source": [
    "```python\n",
    "# (a)  lst is of length n\n",
    "x = max(lst)\n",
    "```"
   ]
  },
  {
   "cell_type": "markdown",
   "id": "072575fd",
   "metadata": {},
   "source": [
    "Your answer here O(N)"
   ]
  },
  {
   "cell_type": "markdown",
   "id": "8aa515f8",
   "metadata": {},
   "source": [
    "```python\n",
    "# (b)  lst is of length n\n",
    "x = lst[0]\n",
    "```"
   ]
  },
  {
   "cell_type": "markdown",
   "id": "1aa42ae9",
   "metadata": {},
   "source": [
    "Your answer here O(1)"
   ]
  },
  {
   "cell_type": "markdown",
   "id": "235ad0b9",
   "metadata": {},
   "source": [
    "```python\n",
    "# (c)  lst is of length n\n",
    "x = lst[1:]\n",
    "```"
   ]
  },
  {
   "cell_type": "markdown",
   "id": "36976aa8",
   "metadata": {},
   "source": [
    "Your answer here O(N)"
   ]
  },
  {
   "cell_type": "markdown",
   "id": "2398de15",
   "metadata": {},
   "source": [
    "```python\n",
    "# (d)  lst is of length n\n",
    "lst += [1]\n",
    "```"
   ]
  },
  {
   "cell_type": "markdown",
   "id": "759e2d82",
   "metadata": {},
   "source": [
    "Your answer here O(1)"
   ]
  },
  {
   "cell_type": "markdown",
   "id": "d26f687d",
   "metadata": {},
   "source": [
    "```python\n",
    "# (e)  lst is of length n\n",
    "new_lst = lst + [1]\n",
    "```"
   ]
  },
  {
   "cell_type": "markdown",
   "id": "909459e4",
   "metadata": {},
   "source": [
    "Your answer here O(N) "
   ]
  },
  {
   "cell_type": "markdown",
   "id": "22eb9719",
   "metadata": {},
   "source": [
    "```python\n",
    "# (f)  lst is of length n\n",
    "lst.pop()  # This removes the last element\n",
    "```"
   ]
  },
  {
   "cell_type": "markdown",
   "id": "3e4c878a",
   "metadata": {},
   "source": [
    "Your answer here O(1)"
   ]
  },
  {
   "cell_type": "markdown",
   "id": "559589dd",
   "metadata": {},
   "source": [
    "```python\n",
    "# (h)\n",
    "[i**2 for i in range(n)]\n",
    "```"
   ]
  },
  {
   "cell_type": "markdown",
   "id": "1de2dab8",
   "metadata": {},
   "source": [
    "Your answer here O(N)"
   ]
  },
  {
   "cell_type": "markdown",
   "id": "1552f1b1",
   "metadata": {},
   "source": [
    "```python\n",
    "# (i)  lst is of length n\n",
    "elem in lst  # This tell us whether the element is in the list\n",
    "```"
   ]
  },
  {
   "cell_type": "markdown",
   "id": "923190a2",
   "metadata": {},
   "source": [
    "Your answer here O(N)"
   ]
  },
  {
   "cell_type": "markdown",
   "id": "57164891",
   "metadata": {},
   "source": [
    "<details>\n",
    "<summary><i>Click here to see the solution</i></summary>\n",
    "    \n",
    "- (a) $O(n)$: Max has to go through the whole list\n",
    "- (b) $O(1)$\n",
    "- (c) $O(n)$: We're creating a copy of the whole list\n",
    "- (d) $O(1)$: We're modifying the existing list\n",
    "- (e) $O(n)$: We're creating a copy of the whole list\n",
    "- (f) $O(1)$\n",
    "- (h) $O(n)$: This is basically the same as a `for` loop.\n",
    "- (i) $O(n)$: We have to search the whole list\n",
    "</details>"
   ]
  },
  {
   "cell_type": "markdown",
   "id": "51b189fe",
   "metadata": {},
   "source": [
    "## Exercise 7\n",
    "\n",
    "Not all pre-defined functions take constant time.\n",
    "\n",
    "What is the **worst case** time complexity of the following functions, in big O notation?"
   ]
  },
  {
   "cell_type": "markdown",
   "id": "fcd50b9f",
   "metadata": {},
   "source": [
    "```python\n",
    "# (a)  dct is a dictionary with n elements\n",
    "x = dct[key]\n",
    "```"
   ]
  },
  {
   "cell_type": "markdown",
   "id": "070ec968",
   "metadata": {},
   "source": [
    "Your answer here O(1)"
   ]
  },
  {
   "cell_type": "markdown",
   "id": "6d451817",
   "metadata": {},
   "source": [
    "```python\n",
    "# (b)  dct is a dictionary with n elements\n",
    "dct[key] = x\n",
    "```"
   ]
  },
  {
   "cell_type": "markdown",
   "id": "d2331f52",
   "metadata": {},
   "source": [
    "Your answer here O(1)"
   ]
  },
  {
   "cell_type": "markdown",
   "id": "b3894ad9",
   "metadata": {},
   "source": [
    "```python\n",
    "# (c)  dct is a dictionary with n elements\n",
    "del dct[key]\n",
    "```"
   ]
  },
  {
   "cell_type": "markdown",
   "id": "55a02dbe",
   "metadata": {},
   "source": [
    "Your answer here O(1)"
   ]
  },
  {
   "cell_type": "markdown",
   "id": "6d22662e",
   "metadata": {},
   "source": [
    "```python\n",
    "# (d)\n",
    "{i : i**2 for i in range(n)}\n",
    "```"
   ]
  },
  {
   "cell_type": "markdown",
   "id": "a666b452",
   "metadata": {},
   "source": [
    "Your answer here O(N)"
   ]
  },
  {
   "cell_type": "markdown",
   "id": "2cbab9c3",
   "metadata": {},
   "source": [
    "```python\n",
    "# (e)  dct is a dictionary with n elements\n",
    "elem in dct  # This tell us whether the element is in the dict\n",
    "```"
   ]
  },
  {
   "cell_type": "markdown",
   "id": "830b2e95",
   "metadata": {},
   "source": [
    "Your answer here O(1)"
   ]
  },
  {
   "cell_type": "markdown",
   "id": "88acfae1",
   "metadata": {},
   "source": [
    "<details>\n",
    "<summary><i>Click here to see the solution</i></summary>\n",
    "    \n",
    "- (a) $O(1)$\n",
    "- (b) $O(1)$\n",
    "- (c) $O(1)$\n",
    "- (d) $O(n)$: This is basically the same as a `for` loop.\n",
    "- (e) $O(1)$: Note that this is different from the list!\n",
    "</details>"
   ]
  },
  {
   "cell_type": "markdown",
   "id": "62fd7841",
   "metadata": {},
   "source": [
    "## Exercise 8\n",
    "\n",
    "The following function finds whether there is an element that appears twice in this list, and returns `True` in that case.\n",
    "\n",
    "Example: `[\"a\", \"b\", \"a\", \"c\"]` ---> `True`, because `\"a\"` appears twice."
   ]
  },
  {
   "cell_type": "code",
   "execution_count": 1,
   "id": "2fcff56a",
   "metadata": {},
   "outputs": [
    {
     "name": "stdout",
     "output_type": "stream",
     "text": [
      "True\n"
     ]
    }
   ],
   "source": [
    "def has_repetition(lst):\n",
    "    for i in lst:\n",
    "        for j in lst:\n",
    "            if i == j:\n",
    "                return True\n",
    "    return False\n",
    "\n",
    "print(has_repetition([\"a\", \"b\", \"a\", \"c\"]))"
   ]
  },
  {
   "cell_type": "markdown",
   "id": "6fc077e1",
   "metadata": {},
   "source": [
    "What is the **worst case** time complexity of the above function?"
   ]
  },
  {
   "cell_type": "markdown",
   "id": "13c8611d",
   "metadata": {},
   "source": [
    "Your answer here O(n^2)"
   ]
  },
  {
   "cell_type": "markdown",
   "id": "ddc11606",
   "metadata": {},
   "source": [
    "**Write a function** that does the same, but has a better worst-time complexity!\n",
    "\n",
    "Hint: use a dictionary"
   ]
  },
  {
   "cell_type": "code",
   "execution_count": 7,
   "id": "00233189-64c4-4db6-adaf-29d5f21d90d0",
   "metadata": {},
   "outputs": [
    {
     "name": "stdout",
     "output_type": "stream",
     "text": [
      "0\n"
     ]
    }
   ],
   "source": [
    "dic = {}\n",
    "print(len(dic))"
   ]
  },
  {
   "cell_type": "code",
   "execution_count": 8,
   "id": "3f5511b4",
   "metadata": {},
   "outputs": [
    {
     "data": {
      "text/plain": [
       "True"
      ]
     },
     "execution_count": 8,
     "metadata": {},
     "output_type": "execute_result"
    }
   ],
   "source": [
    "# Your code here\n",
    "def has_repetition(lst):\n",
    "    n = len(lst)\n",
    "    lst = set(lst)\n",
    "    m = len(lst)\n",
    "    if n != m:\n",
    "        return True\n",
    "    return False\n",
    "has_repetition([3, 4, 5, 6, 2, 3])"
   ]
  },
  {
   "cell_type": "markdown",
   "id": "5f562ba8",
   "metadata": {},
   "source": [
    "What is the **worst case** time complexity of your improved function?"
   ]
  },
  {
   "cell_type": "markdown",
   "id": "53e914cf",
   "metadata": {},
   "source": [
    "Your answer here "
   ]
  },
  {
   "cell_type": "markdown",
   "id": "7f4cb5bf",
   "metadata": {},
   "source": [
    "<details>\n",
    "<summary><i>Click here to see the solution</i></summary>\n",
    "    \n",
    "This first solution has complexity $O(n^2)$.\n",
    "    \n",
    "The improved solution should have complexity $O(n)$.\n",
    "</details>"
   ]
  },
  {
   "cell_type": "markdown",
   "id": "f47030aa",
   "metadata": {},
   "source": [
    "## Exercise 9\n",
    "\n",
    "Given a list of `n` numbers and another number `s`, we want to know if there are two numbers in the list that sum up to `s`.\n",
    "\n",
    "Example: `lst=[1, 3, 2, 6, 8]` and `s=10` should give `True`, becuase `2+8=10`.\n",
    "\n",
    "**Write a function** `sum_to` that takes a list `lst` and an integer `s` and returns `True` if there are two numbers in `lst` summing up to `s`, False otherwise.\n",
    "\n",
    "Hint: Use a nested for loop."
   ]
  },
  {
   "cell_type": "code",
   "execution_count": 7,
   "id": "d8409ae9",
   "metadata": {},
   "outputs": [
    {
     "name": "stdout",
     "output_type": "stream",
     "text": [
      "True\n",
      "False\n"
     ]
    }
   ],
   "source": [
    "# Your code here\n",
    "def sum_to(lst, s):\n",
    "    for x in range(len(lst)):\n",
    "        for y in range(len(lst)):\n",
    "            if lst[x] + lst[y] == s and x != y:\n",
    "                return True\n",
    "    return False\n",
    "# Test your code:\n",
    "print(sum_to([1, 3, 2, 6, 8], 10))  # This should return True\n",
    "print(sum_to([1, 5, 2, 6, 8], 4))  # This should return False"
   ]
  },
  {
   "cell_type": "code",
   "execution_count": 3,
   "id": "9b588474-0bc5-4268-804d-3e381bb033ed",
   "metadata": {},
   "outputs": [
    {
     "name": "stdout",
     "output_type": "stream",
     "text": [
      "True\n",
      "False\n"
     ]
    }
   ],
   "source": [
    "def sum_to(lst, s):\n",
    "    for x in range(len(lst)):\n",
    "        if s-lst[x] in lst and lst.index(s-lst[x]) != x:\n",
    "            return True\n",
    "    return False\n",
    "# Test your code:\n",
    "print(sum_to([1, 3, 2, 6, 5, 5], 10))  # This should return True\n",
    "print(sum_to([1, 5, 2, 6, 8], 4))  # This should return False"
   ]
  },
  {
   "cell_type": "markdown",
   "id": "91086c58",
   "metadata": {},
   "source": [
    "What is the **worst case** time complexity of your function? O(n^2)"
   ]
  },
  {
   "cell_type": "markdown",
   "id": "9eebad75",
   "metadata": {},
   "source": [
    "Your answer here O(n)"
   ]
  },
  {
   "cell_type": "markdown",
   "id": "6ad7b71b",
   "metadata": {},
   "source": [
    "**Write a function** that does the same, but has a better worst-case time complexity!\n",
    "\n",
    "Hint: Convert one of the lists into a dictionary/set (set is a dictionary with keys and no values) before doing anything else."
   ]
  },
  {
   "cell_type": "code",
   "execution_count": 10,
   "id": "033aa9a9",
   "metadata": {},
   "outputs": [
    {
     "name": "stdout",
     "output_type": "stream",
     "text": [
      "[1, 3]\n"
     ]
    }
   ],
   "source": [
    "# Your code here\n",
    "def intersect(lst, lst2):    \n",
    "    dict = []\n",
    "    for x in lst:\n",
    "        if x in lst2:\n",
    "            dict.append(x)\n",
    "    return dict\n",
    "# Test your code:\n",
    "print(intersect([1, 2, 3, 4], [1, 3, 5, 7]))  # This should give [1, 3]"
   ]
  },
  {
   "cell_type": "code",
   "execution_count": 15,
   "id": "75887eca-9680-4f61-b838-fbb7ec915235",
   "metadata": {},
   "outputs": [
    {
     "name": "stdout",
     "output_type": "stream",
     "text": [
      "[1, 3]\n"
     ]
    }
   ],
   "source": [
    "def intersect(lst, lst2):    \n",
    "    dict = []\n",
    "    lst2 = set(lst2)\n",
    "    for x in lst:\n",
    "        if x in lst2:\n",
    "            dict.append(x)\n",
    "    return dict\n",
    "# Test your code:\n",
    "print(intersect([1, 2, 3, 4], [1, 3, 5, 7]))  # This should give [1, 3]"
   ]
  },
  {
   "cell_type": "markdown",
   "id": "0c2d91b9",
   "metadata": {},
   "source": [
    "What is the **worst case** time complexity of your improved function?"
   ]
  },
  {
   "cell_type": "markdown",
   "id": "d3c3b2d8",
   "metadata": {},
   "source": [
    "Your answer here O(N^2)"
   ]
  },
  {
   "cell_type": "markdown",
   "id": "6b4c4068",
   "metadata": {},
   "source": [
    "<details>\n",
    "<summary><i>Click here to see the solution</i></summary>\n",
    "    \n",
    "Your first solution should have complexity $O(n^2)$.\n",
    "    \n",
    "The improved solution should have complexity $O(n)$.\n",
    "</details>"
   ]
  }
 ],
 "metadata": {
  "kernelspec": {
   "display_name": "Python 3 (ipykernel)",
   "language": "python",
   "name": "python3"
  },
  "language_info": {
   "codemirror_mode": {
    "name": "ipython",
    "version": 3
   },
   "file_extension": ".py",
   "mimetype": "text/x-python",
   "name": "python",
   "nbconvert_exporter": "python",
   "pygments_lexer": "ipython3",
   "version": "3.11.4"
  }
 },
 "nbformat": 4,
 "nbformat_minor": 5
}
