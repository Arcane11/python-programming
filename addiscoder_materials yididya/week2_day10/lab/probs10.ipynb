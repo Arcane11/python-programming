{
 "cells": [
  {
   "cell_type": "markdown",
   "metadata": {},
   "source": [
    "# Week 2 Day 10 Friday Main Exercises\n"
   ]
  },
  {
   "cell_type": "markdown",
   "metadata": {},
   "source": [
    "**Errors Exercises, String stuff, List and Dictionary Comprehensions**\n"
   ]
  },
  {
   "cell_type": "markdown",
   "metadata": {},
   "source": [
    "## Understanding errors\n",
    "\n",
    "Each snippet of the following code crashes. Run the code, **scroll to the bottom** of the error message, and read it. Just above the error message, you will also find the line of code where the error occurred!\n",
    "\n",
    "Try to fix the errors! **Don't** copy your code from the previous labs, but make **minor** changes to the code here.\n",
    "\n",
    "Hints: \n",
    "- If you get a  `TypeError` mentioning `NoneType`, you likely forgot a `return` statement somewhere (and your function returns `None`).\n",
    "- If you encounter a `RecursionError` (infinite recursion), you likely forgot the base case or are calling the function `f` with the same argument (e.g. `n` or `lst`) rather than a smaller element (e.g. `n-1` or `lst[1:]`).\n",
    "- If you still can't find the error, sometimes it helps to add `print` statements to your function to see what the values of the variables are (don't forget to remove them at the end!). Or ask Ken how to use a debugger :)"
   ]
  },
  {
   "cell_type": "markdown",
   "metadata": {},
   "source": [
    "### Question 1\n",
    "\n",
    "Compute Fibonacci numbers:"
   ]
  },
  {
   "cell_type": "code",
   "execution_count": 4,
   "metadata": {},
   "outputs": [
    {
     "name": "stdout",
     "output_type": "stream",
     "text": [
      "5\n"
     ]
    }
   ],
   "source": [
    "def fibonacci(n):\n",
    "    if n <= 1:\n",
    "        return 1\n",
    "    else:\n",
    "        return fibonacci(n-1) + fibonacci(n-2)\n",
    "\n",
    "print(fibonacci(4))"
   ]
  },
  {
   "cell_type": "markdown",
   "metadata": {},
   "source": [
    "### Question 2\n",
    "\n",
    "Computing $a^b$"
   ]
  },
  {
   "cell_type": "code",
   "execution_count": 2,
   "metadata": {},
   "outputs": [
    {
     "name": "stdout",
     "output_type": "stream",
     "text": [
      "25\n"
     ]
    }
   ],
   "source": [
    "def exp(a, b):\n",
    "    if b == 0:\n",
    "        return 1\n",
    "    return exp(a, b-1) * a\n",
    "\n",
    "print(exp(5, 2))"
   ]
  },
  {
   "cell_type": "markdown",
   "metadata": {},
   "source": [
    "### Question 3\n",
    "\n",
    "Compute all permutation using numbers from 0 to `n`."
   ]
  },
  {
   "cell_type": "code",
   "execution_count": 6,
   "metadata": {},
   "outputs": [
    {
     "data": {
      "text/plain": [
       "[[2, 1, 0], [2, 0, 1], [1, 2, 0], [0, 2, 1], [1, 0, 2], [0, 1, 2]]"
      ]
     },
     "execution_count": 6,
     "metadata": {},
     "output_type": "execute_result"
    }
   ],
   "source": [
    "def permutations(n):\n",
    "    if n == 0:\n",
    "        return [[0]]\n",
    "    else:\n",
    "        new_permutations = []\n",
    "        for i in range(n+1):\n",
    "            for per in permutations(n-1):\n",
    "                new_permutation = per[:i] + [n] + per[i:]\n",
    "                new_permutations.append(new_permutation)\n",
    "        return new_permutations\n",
    "\n",
    "permutations(2)"
   ]
  },
  {
   "cell_type": "markdown",
   "metadata": {},
   "source": [
    "### Question 4\n",
    "\n",
    "Turn a string backwards"
   ]
  },
  {
   "cell_type": "code",
   "execution_count": 3,
   "metadata": {
    "scrolled": true
   },
   "outputs": [
    {
     "name": "stdout",
     "output_type": "stream",
     "text": [
      "siddA\n"
     ]
    }
   ],
   "source": [
    "def reverse_string(message):\n",
    "    if len(message) == 0:\n",
    "        return ''\n",
    "    return message[-1] + reverse_string(message[:-1])\n",
    "\n",
    "print(reverse_string(\"Addis\"))"
   ]
  },
  {
   "cell_type": "markdown",
   "metadata": {},
   "source": [
    "### Question 5\n",
    "\n",
    "Computing factorials"
   ]
  },
  {
   "cell_type": "code",
   "execution_count": 8,
   "metadata": {},
   "outputs": [
    {
     "name": "stdout",
     "output_type": "stream",
     "text": [
      "120\n"
     ]
    }
   ],
   "source": [
    "def factorial(n):\n",
    "    if n == 1:\n",
    "        return 1\n",
    "    return n * factorial(n-1)\n",
    "\n",
    "print(factorial(5))"
   ]
  },
  {
   "cell_type": "markdown",
   "metadata": {},
   "source": [
    "### Question 6\n",
    "\n",
    "Sum all numbers in a list"
   ]
  },
  {
   "cell_type": "code",
   "execution_count": null,
   "metadata": {},
   "outputs": [],
   "source": [
    "def sumAll(lst):\n",
    "    if len(lst) == 0:\n",
    "        return 0\n",
    "    else:\n",
    "        lst[0] + sumAll(lst[1:])\n",
    "\n",
    "sumAll([1, 2, 3, 4])"
   ]
  },
  {
   "cell_type": "markdown",
   "metadata": {},
   "source": [
    "### Question 7\n",
    "\n",
    "Computing the n-th Catalan number"
   ]
  },
  {
   "cell_type": "code",
   "execution_count": null,
   "metadata": {},
   "outputs": [],
   "source": [
    "def catalan(n):\n",
    "    if n == 0:\n",
    "        return 1\n",
    "    else:\n",
    "            summ = 0\n",
    "        for i in range(n):\n",
    "            summ += catalan(i)*catalan(n-1-i)\n",
    "        return summ\n",
    "\n",
    "print(catalan(5))"
   ]
  },
  {
   "cell_type": "markdown",
   "metadata": {},
   "source": [
    "## Part Zero: String stuff"
   ]
  },
  {
   "cell_type": "markdown",
   "metadata": {},
   "source": [
    "### F-Strings, Split, Join"
   ]
  },
  {
   "cell_type": "markdown",
   "metadata": {},
   "source": [
    " F-Strings, which are also called formatted string literals, have a shorter syntax and can be super helpful in string formatting."
   ]
  },
  {
   "cell_type": "markdown",
   "metadata": {},
   "source": [
    "Normally strings in Python are enclosed within double quotes `(\"\")` or single quotes `('')`. To create f-strings, you only need to add an f  or an F before the opening quotes of your string. \n",
    "- For example, `'Here'` is a string where as `f'Here'` is an f - string."
   ]
  },
  {
   "cell_type": "markdown",
   "metadata": {},
   "source": [
    "When using f-Strings to display variables, you only need to specify the names of the variables inside a set of curly braces {}. And at runtime, all variable names will be replaced with their respective values. \n",
    "- If you have multiple variables in the string, you need to enclose each of the variable names inside a set of curly braces. "
   ]
  },
  {
   "cell_type": "markdown",
   "metadata": {},
   "source": [
    "- For example, \n",
    "```python\n",
    "lang='python'\n",
    "program = \"AddisCoder\"\n",
    "print(f'I am learning {lang} in {program}.')\n",
    "\n",
    "name = \"I\"\n",
    "print(f\"{name} love {program}!\")\n",
    "```"
   ]
  },
  {
   "cell_type": "code",
   "execution_count": null,
   "metadata": {},
   "outputs": [],
   "source": [
    "\n"
   ]
  },
  {
   "cell_type": "markdown",
   "metadata": {},
   "source": [
    "### Question 1:\n"
   ]
  },
  {
   "cell_type": "markdown",
   "metadata": {},
   "source": [
    "Accept two numbers as inputs and then print the sum of the input numbers using f-string. You should print the numbers and their sum when you are printing. <br> <br> So, if the inputs are 1 and 2, you should print like: The sum of 1 and 2 is 3."
   ]
  },
  {
   "cell_type": "code",
   "execution_count": null,
   "metadata": {},
   "outputs": [],
   "source": [
    "# Your code here\n"
   ]
  },
  {
   "cell_type": "markdown",
   "metadata": {},
   "source": [
    "### 1.2"
   ]
  },
  {
   "cell_type": "markdown",
   "metadata": {},
   "source": [
    "\n",
    "```python\n",
    "favoriteFoods = {'Tony': 'Hot pot',\n",
    "                 'Akayou': 'Grilled fish',\n",
    "                 'Biniyam': 'Raw meat',\n",
    "                 'Alex': 'Fried chicken',\n",
    "                 'Ken': 'Matcha ice cream',\n",
    "                 'Helina': 'Tibs',\n",
    "                 'Henok': 'Shiro',\n",
    "                 'Noam': 'Hummus',\n",
    "                 'Abraham': 'Dulet',\n",
    "                 'Yeabsira': 'Misir wat',\n",
    "                 'Yared': 'Kitfo',\n",
    "                 'Hana': 'Doro wat',\n",
    "                 'Menbere': 'Rice',\n",
    "                 'Bontu': 'Shekla Tibs',\n",
    "                 'Georg': 'Tegabino'}\n",
    "\n",
    "ta = \"Georg\"\n",
    "```\n",
    "\n",
    "Given the above variables, use f strings and the varible `ta` to print the following: \n",
    "\n",
    "#### Georg's favorite dish is Tegabino"
   ]
  },
  {
   "cell_type": "code",
   "execution_count": null,
   "metadata": {},
   "outputs": [],
   "source": [
    "# YOUR CODE HERE"
   ]
  },
  {
   "cell_type": "markdown",
   "metadata": {},
   "source": [
    "### Split and join"
   ]
  },
  {
   "cell_type": "markdown",
   "metadata": {},
   "source": [
    "The split method can be used to separte each word in a string. The syntax is like this:\n",
    "```python\n",
    "txt = \"welcome to the world of programming\"\n",
    "x = txt.split()\n",
    "```\n",
    "Whereas using the join method you can connect or join each strings of a list or a tuple or a dictionary.\n",
    "The syntax is like this:\n",
    "```python\n",
    "mylist = [\"Alex\", \"Abraham\", \"Tony\", \"Hana\", \"Henok\"]\n",
    "mySeparator = \"_\"\n",
    "\n",
    "x = mySeparator.join(mylist)\n",
    "```"
   ]
  },
  {
   "cell_type": "markdown",
   "metadata": {},
   "source": [
    "### Question 2:"
   ]
  },
  {
   "cell_type": "markdown",
   "metadata": {},
   "source": [
    "#### 2.1"
   ]
  },
  {
   "cell_type": "markdown",
   "metadata": {},
   "source": [
    "Define a string that contains a sentence. And split the words of the sentence using the split method."
   ]
  },
  {
   "cell_type": "code",
   "execution_count": 9,
   "metadata": {},
   "outputs": [
    {
     "data": {
      "text/plain": [
       "'welcome,to,the,world,of,programming'"
      ]
     },
     "execution_count": 9,
     "metadata": {},
     "output_type": "execute_result"
    }
   ],
   "source": [
    "# Your code here\n",
    "txt = \"welcome to the world of programming\"\n",
    "x = txt.split()\n",
    "','.join(x)"
   ]
  },
  {
   "cell_type": "markdown",
   "metadata": {},
   "source": [
    "#### 2.2"
   ]
  },
  {
   "cell_type": "markdown",
   "metadata": {},
   "source": [
    "Given the following list join the names of the TAs using `'*'` as a separtor. You should use the join method. <br>\n",
    "`mylist = [\"Ken\", \"Liya\", \"Yared\", \"Yabsira\", \"Noam\", \"Menbere\", \"Nati\"]`"
   ]
  },
  {
   "cell_type": "code",
   "execution_count": null,
   "metadata": {},
   "outputs": [],
   "source": [
    "# Your code here\n"
   ]
  },
  {
   "cell_type": "code",
   "execution_count": null,
   "metadata": {},
   "outputs": [],
   "source": []
  },
  {
   "cell_type": "markdown",
   "metadata": {},
   "source": [
    "## **Part One: List Comprehensions**\n",
    "\n",
    "Note: You will learn about this in the afternoon lecture today. If you get here in the morning and don't know what to do, just go to `10_supp` instead."
   ]
  },
  {
   "cell_type": "markdown",
   "metadata": {},
   "source": [
    "**Example 1**"
   ]
  },
  {
   "cell_type": "code",
   "execution_count": 16,
   "metadata": {},
   "outputs": [
    {
     "data": {
      "text/plain": [
       "[0, 1, 2, 3, 4, 5, 6, 7, 8, 9]"
      ]
     },
     "execution_count": 16,
     "metadata": {},
     "output_type": "execute_result"
    }
   ],
   "source": [
    "\n",
    "lst = []\n",
    "for i in range(10):\n",
    "    lst += [i]\n",
    "lst"
   ]
  },
  {
   "cell_type": "markdown",
   "metadata": {},
   "source": [
    "**Question 1**\n",
    "\n",
    "Explain what the above code in **Example 1** does in plain English?"
   ]
  },
  {
   "cell_type": "markdown",
   "metadata": {},
   "source": [
    "lst = [i for i in range(10)]\n",
    "lst"
   ]
  },
  {
   "cell_type": "code",
   "execution_count": 14,
   "metadata": {},
   "outputs": [
    {
     "data": {
      "text/plain": [
       "[0, 1, 2, 3, 4, 5, 6, 7, 8, 9]"
      ]
     },
     "execution_count": 14,
     "metadata": {},
     "output_type": "execute_result"
    }
   ],
   "source": [
    "# print  lst and check the output of Example 1\n",
    "lst = [i for i in range(10)] \n",
    "lst"
   ]
  },
  {
   "cell_type": "code",
   "execution_count": null,
   "metadata": {},
   "outputs": [],
   "source": [
    "lst = []\n",
    "for i in range(10):\n",
    "    lst.append(i)"
   ]
  },
  {
   "cell_type": "code",
   "execution_count": null,
   "metadata": {},
   "outputs": [],
   "source": [
    "#print lst and check the output"
   ]
  },
  {
   "cell_type": "markdown",
   "metadata": {},
   "source": [
    "**Question 2**\n",
    "\n",
    "Use List Comprehensions to implement the code shown above to print a list of numbers \n",
    "from 0 to 9, inclusive of 0 and 9? "
   ]
  },
  {
   "cell_type": "code",
   "execution_count": null,
   "metadata": {},
   "outputs": [],
   "source": [
    "# Write your code here and check if it does the job\n",
    "\n"
   ]
  },
  {
   "cell_type": "markdown",
   "metadata": {},
   "source": [
    "**Example 2**\n"
   ]
  },
  {
   "cell_type": "code",
   "execution_count": 19,
   "metadata": {},
   "outputs": [
    {
     "data": {
      "text/plain": [
       "['H', 'e', 'l', 'l', 'o', 'W', 'o', 'r', 'l', 'd']"
      ]
     },
     "execution_count": 19,
     "metadata": {},
     "output_type": "execute_result"
    }
   ],
   "source": [
    "my_string = 'HelloWorld'\n",
    "my_list = []\n",
    "\n",
    "for letter in my_string:\n",
    "    my_list.append(letter)\n",
    "my_list"
   ]
  },
  {
   "cell_type": "markdown",
   "metadata": {},
   "source": [
    "**Question 3**\n",
    "\n",
    "Explain what the above code in **Example 2** does in plain English?"
   ]
  },
  {
   "cell_type": "markdown",
   "metadata": {},
   "source": []
  },
  {
   "cell_type": "code",
   "execution_count": 18,
   "metadata": {},
   "outputs": [
    {
     "data": {
      "text/plain": [
       "['H', 'e', 'l', 'l', 'o', 'W', 'o', 'r', 'l', 'd']"
      ]
     },
     "execution_count": 18,
     "metadata": {},
     "output_type": "execute_result"
    }
   ],
   "source": [
    "#print and check the output of the code in Example 2\n",
    "my_string = 'HelloWorld'\n",
    "my_list = [i for i in my_string]\n",
    "my_list"
   ]
  },
  {
   "cell_type": "markdown",
   "metadata": {},
   "source": [
    "**Question 4**\n",
    "\n",
    "Use the code above in **Example 2** write a code that does the same thing using list Comprehension."
   ]
  },
  {
   "cell_type": "code",
   "execution_count": null,
   "metadata": {},
   "outputs": [],
   "source": [
    "#Write your code here\n"
   ]
  },
  {
   "cell_type": "markdown",
   "metadata": {},
   "source": [
    "**Question 5**\n",
    "\n",
    "Write a code that generate a list of squares of numbers from 0 to 10 using the following methods. \n"
   ]
  },
  {
   "cell_type": "markdown",
   "metadata": {},
   "source": [
    "**a) Using any method**"
   ]
  },
  {
   "cell_type": "code",
   "execution_count": 21,
   "metadata": {},
   "outputs": [
    {
     "data": {
      "text/plain": [
       "[0, 1, 4, 9, 16, 25, 36, 49, 64, 81]"
      ]
     },
     "execution_count": 21,
     "metadata": {},
     "output_type": "execute_result"
    }
   ],
   "source": [
    "# Write your code for method 'a' here\n",
    "sqr = [i**2 for i in range(10)]\n",
    "sqr"
   ]
  },
  {
   "cell_type": "markdown",
   "metadata": {},
   "source": [
    "**b) Using List Comprehensions**"
   ]
  },
  {
   "cell_type": "code",
   "execution_count": null,
   "metadata": {},
   "outputs": [],
   "source": [
    "# Write your code for method 'b' here\n",
    "\n"
   ]
  },
  {
   "cell_type": "markdown",
   "metadata": {},
   "source": [
    "**Question 6**\n",
    "\n",
    "Write a code that filter out only even numbers from a given list using the following two methods. \n"
   ]
  },
  {
   "cell_type": "markdown",
   "metadata": {},
   "source": [
    "**a) Using any method**"
   ]
  },
  {
   "cell_type": "code",
   "execution_count": 23,
   "metadata": {},
   "outputs": [
    {
     "data": {
      "text/plain": [
       "[2, 4, 6, 8, 10]"
      ]
     },
     "execution_count": 23,
     "metadata": {},
     "output_type": "execute_result"
    }
   ],
   "source": [
    "# Given list\n",
    "numbers = [1, 2, 3, 4, 5, 6, 7, 8, 9, 10]\n",
    "even = [i for i in numbers if i%2==0]\n",
    "even\n",
    "# Write your code for method 'a' here"
   ]
  },
  {
   "cell_type": "markdown",
   "metadata": {},
   "source": [
    "**b) Using List Comprehensions**"
   ]
  },
  {
   "cell_type": "code",
   "execution_count": null,
   "metadata": {},
   "outputs": [],
   "source": [
    "# Given list\n",
    "numbers = [1, 2, 3, 4, 5, 6, 7, 8, 9, 10]\n",
    "\n",
    "# Write your code for method 'b' here"
   ]
  },
  {
   "cell_type": "markdown",
   "metadata": {},
   "source": [
    "## **Part Two: Dictionary Comprehensions**"
   ]
  },
  {
   "cell_type": "markdown",
   "metadata": {},
   "source": [
    "**Example 1**\n",
    "\n"
   ]
  },
  {
   "cell_type": "code",
   "execution_count": null,
   "metadata": {},
   "outputs": [],
   "source": [
    "square_dict = dict()\n",
    "for num in range(1, 11):\n",
    "    square_dict[num] = num*num"
   ]
  },
  {
   "cell_type": "markdown",
   "metadata": {},
   "source": [
    "**Question 1**\n",
    "\n",
    "Understand the code in **Example 1** and explain what it does in plain English. "
   ]
  },
  {
   "cell_type": "markdown",
   "metadata": {},
   "source": [
    "**your answer here**"
   ]
  },
  {
   "cell_type": "code",
   "execution_count": 25,
   "metadata": {},
   "outputs": [
    {
     "data": {
      "text/plain": [
       "{1: 1, 2: 4, 3: 9, 4: 16, 5: 25, 6: 36, 7: 49, 8: 64, 9: 81, 10: 100}"
      ]
     },
     "execution_count": 25,
     "metadata": {},
     "output_type": "execute_result"
    }
   ],
   "source": [
    "#print the code and check the output \n",
    "sqr = {i:i**2 for i in range(1, 11)}\n",
    "sqr"
   ]
  },
  {
   "cell_type": "markdown",
   "metadata": {},
   "source": [
    "**Question 2**\n",
    "\n",
    "Rewrite the above code using Dictionary Comprehensions. "
   ]
  },
  {
   "cell_type": "code",
   "execution_count": null,
   "metadata": {},
   "outputs": [],
   "source": [
    "#Write your code here"
   ]
  },
  {
   "cell_type": "markdown",
   "metadata": {},
   "source": [
    "**Question 3**\n",
    "\n",
    "Write a code that convert a lits of names into a dictionary where the names are keys and the length of their name are values using a dictionary comprehension. "
   ]
  },
  {
   "cell_type": "code",
   "execution_count": 26,
   "metadata": {},
   "outputs": [
    {
     "data": {
      "text/plain": [
       "{'Jelani': 6, 'Menbere': 7, 'Abraham': 7, 'Georg': 5, 'Liya': 4}"
      ]
     },
     "execution_count": 26,
     "metadata": {},
     "output_type": "execute_result"
    }
   ],
   "source": [
    "#List of given names\n",
    "names = [\"Jelani\", \"Menbere\", \"Abraham\", \"Georg\", \"Liya\"]\n",
    "dic = {i:len(i) for i in names}\n",
    "dic"
   ]
  },
  {
   "cell_type": "markdown",
   "metadata": {},
   "source": [
    "**Question 4**\n",
    "\n",
    "Given a dictionary of students' name and their corresponding scores, create a new dictionary using dictionary comprehension with only students who passed (scored 60 or above). "
   ]
  },
  {
   "cell_type": "code",
   "execution_count": 28,
   "metadata": {},
   "outputs": [
    {
     "data": {
      "text/plain": [
       "{'Mukerem': 79, 'Natnael': 75, 'Isaac': 92}"
      ]
     },
     "execution_count": 28,
     "metadata": {},
     "output_type": "execute_result"
    }
   ],
   "source": [
    "# Given dictionary of students' names and scores\n",
    "students_scores = {\n",
    "    'Mukerem': 79,\n",
    "    'Akayou': 55,\n",
    "    'Natnael': 75,\n",
    "    'Isaac': 92,\n",
    "    'Biniyam': 40\n",
    "}\n",
    "\n",
    "# Write your code here\n",
    "std = {key:students_scores[key] for key in students_scores if students_scores[key] > 60}\n",
    "std\n"
   ]
  },
  {
   "cell_type": "markdown",
   "metadata": {},
   "source": [
    "**Question 5**\n",
    "\n",
    "Given a playlist with song titles and their respective play counts, use dictionary comprehension to find the most played and least played songs. "
   ]
  },
  {
   "cell_type": "code",
   "execution_count": 31,
   "metadata": {},
   "outputs": [
    {
     "data": {
      "text/plain": [
       "{'Song 3': 120, 'Song 4': 60}"
      ]
     },
     "execution_count": 31,
     "metadata": {},
     "output_type": "execute_result"
    }
   ],
   "source": [
    "# Given playlist with song titles and play counts\n",
    "playlist = {\n",
    "    'Song 1': 100,\n",
    "    'Song 2': 80,\n",
    "    'Song 3': 120,\n",
    "    'Song 4': 60,\n",
    "    'Song 5': 90\n",
    "}\n",
    "song = {key: playlist[key] for key in playlist if playlist[key] == max(playlist.values()) or playlist[key] == min(playlist.values())}\n",
    "song\n",
    "#Write your code here"
   ]
  },
  {
   "cell_type": "markdown",
   "metadata": {},
   "source": [
    "**Question 6**\n",
    "\n",
    "Write a code  Given a dictionary with temperatures in Celsius for different cities, use dictionary comprehension to convert the temperatures to Fahrenheit."
   ]
  },
  {
   "cell_type": "code",
   "execution_count": 33,
   "metadata": {},
   "outputs": [
    {
     "data": {
      "text/plain": [
       "{'Adama': 77.0,\n",
       " 'Addis Ababa': 64.4,\n",
       " 'Semera': 86.0,\n",
       " 'Mekelle ': 82.4,\n",
       " 'Hawassa': 95.0,\n",
       " 'Gonder': 73.4}"
      ]
     },
     "execution_count": 33,
     "metadata": {},
     "output_type": "execute_result"
    }
   ],
   "source": [
    "# Given dictionary with temperatures in Celsius for different cities\n",
    "celsius_temperatures = {\n",
    "    'Adama': 25,\n",
    "    'Addis Ababa': 18,\n",
    "    'Semera': 30,\n",
    "    'Mekelle ': 28,\n",
    "    'Hawassa': 35,\n",
    "    'Gonder': 23\n",
    "}\n",
    "far = {i:(celsius_temperatures[i]* 9 / 5 + 32) for i in celsius_temperatures}\n",
    "far"
   ]
  },
  {
   "cell_type": "code",
   "execution_count": null,
   "metadata": {},
   "outputs": [],
   "source": []
  }
 ],
 "metadata": {
  "kernelspec": {
   "display_name": "Python 3 (ipykernel)",
   "language": "python",
   "name": "python3"
  },
  "language_info": {
   "codemirror_mode": {
    "name": "ipython",
    "version": 3
   },
   "file_extension": ".py",
   "mimetype": "text/x-python",
   "name": "python",
   "nbconvert_exporter": "python",
   "pygments_lexer": "ipython3",
   "version": "3.11.4"
  }
 },
 "nbformat": 4,
 "nbformat_minor": 4
}
