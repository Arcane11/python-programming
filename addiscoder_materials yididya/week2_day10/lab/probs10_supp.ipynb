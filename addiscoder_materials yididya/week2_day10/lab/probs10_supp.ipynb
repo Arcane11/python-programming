{
 "cells": [
  {
   "cell_type": "markdown",
   "id": "cb7079a9",
   "metadata": {},
   "source": [
    "## Understanding errors\n",
    "\n",
    "Each snippet of the following code crashes. Run the code, **scroll to the bottom** of the error message, and read it. Just above the error message, you will also find the line of code where the error occurred!\n",
    "\n",
    "Try to fix the errors! **Don't** copy your code from the previous labs, but make **minor** changes to the code here.\n",
    "\n",
    "Hints: \n",
    "- If you get a  `TypeError` mentioning `NoneType`, you likely forgot a `return` statement somewhere (and your function returns `None`).\n",
    "- If you encounter a `RecursionError` (infinite recursion), you likely forgot the base case or are calling the function `f` with the same argument (e.g. `n` or `lst`) rather than a smaller element (e.g. `n-1` or `lst[1:]`).\n",
    "- If you still can't find the error, sometimes it helps to add `print` statements to your function to see what the values of the variables are (don't forget to remove them at the end!). Or ask Ken how to use a debugger :)\n",
    "\n",
    "### Question 1\n",
    "\n",
    "Printing all elements in a nested list"
   ]
  },
  {
   "cell_type": "code",
   "execution_count": 2,
   "id": "ee7eb5e4",
   "metadata": {},
   "outputs": [
    {
     "name": "stdout",
     "output_type": "stream",
     "text": [
      "hello\n",
      "darkness\n",
      "my\n",
      "old\n",
      "friend\n"
     ]
    }
   ],
   "source": [
    "def print_list(lst):\n",
    "    if type(lst) == list:\n",
    "        for i in range(len(lst)):\n",
    "            print_list(lst[i])\n",
    "    else:\n",
    "        print(lst)\n",
    "\n",
    "print_list([[\"hello\"], \"darkness\", [\"my\", \"old\", [\"friend\"]]])"
   ]
  },
  {
   "cell_type": "markdown",
   "id": "b74bed3b",
   "metadata": {},
   "source": [
    "### Question 2\n",
    "\n",
    "Removing all occurrences of a letter in a string"
   ]
  },
  {
   "cell_type": "code",
   "execution_count": 5,
   "id": "ab28a0c1",
   "metadata": {},
   "outputs": [
    {
     "data": {
      "text/plain": [
       "'bcb'"
      ]
     },
     "execution_count": 5,
     "metadata": {},
     "output_type": "execute_result"
    }
   ],
   "source": [
    "def removeLetter(s, letter):\n",
    "    if len(s) == 0:  \n",
    "        return ''\n",
    "    if s[0] == letter:\n",
    "        return removeLetter(s[1:], letter)\n",
    "    return s[0] + removeLetter(s[1:], letter)\n",
    "\n",
    "removeLetter('abcaba', 'a')"
   ]
  },
  {
   "cell_type": "markdown",
   "id": "f4bd1b7a",
   "metadata": {},
   "source": [
    "### Question 3\n",
    "\n",
    "Summing up all elements in a nested list"
   ]
  },
  {
   "cell_type": "code",
   "execution_count": 3,
   "id": "6b54e765",
   "metadata": {},
   "outputs": [
    {
     "name": "stdout",
     "output_type": "stream",
     "text": [
      "15\n"
     ]
    }
   ],
   "source": [
    "def sum_list(lst):\n",
    "    if type(lst) == list:\n",
    "        summ = 0\n",
    "        for i in lst:\n",
    "            summ += sum_list(i)\n",
    "        return summ\n",
    "    else:\n",
    "        summ = 0\n",
    "        summ += lst\n",
    "        return summ\n",
    "\n",
    "print(sum_list([1, 2, [3, [4, 0], 5]]))"
   ]
  },
  {
   "cell_type": "markdown",
   "id": "c71410a3",
   "metadata": {},
   "source": [
    "### Question 4\n",
    "\n",
    "The following code should remove spaces from a string and print the result for the input `\"Addis Coder\"` and `\"Don't worry be happy\"`. But this code **does not work**."
   ]
  },
  {
   "cell_type": "code",
   "execution_count": 5,
   "id": "53cde54d",
   "metadata": {},
   "outputs": [
    {
     "name": "stdout",
     "output_type": "stream",
     "text": [
      "AddisCoder\n",
      "Don'tworrybehappy\n"
     ]
    }
   ],
   "source": [
    "def remove_spaces(string):\n",
    "    new_string = \"\"\n",
    "    for letter in string:\n",
    "        if letter != \" \":\n",
    "            new_string += letter\n",
    "    print(new_string)\n",
    "\n",
    "# remove_spaces(\"Addis Coder\")\n",
    "split(\"hello hi)\n",
    "# remove_spaces(\"Don't worry be happy\")"
   ]
  },
  {
   "cell_type": "markdown",
   "id": "4aba6798",
   "metadata": {},
   "source": [
    "## List and Dictionary Comprehensions"
   ]
  },
  {
   "cell_type": "markdown",
   "id": "7fb97221",
   "metadata": {},
   "source": [
    "**Question 5**\n",
    "\n",
    "Write a code that counts the occurrences of each numbers in a given interger list using the following methods."
   ]
  },
  {
   "cell_type": "markdown",
   "id": "70e8d0fe",
   "metadata": {},
   "source": [
    "**a) Using any method**\n"
   ]
  },
  {
   "cell_type": "code",
   "execution_count": 53,
   "id": "b6e99acf",
   "metadata": {},
   "outputs": [],
   "source": [
    "# Given list\n",
    "numbers = [1, 2, 2, 2, 3, 3, 3, 4, 4, 4, 4, 4]\n",
    "#Write your code here"
   ]
  },
  {
   "cell_type": "markdown",
   "id": "82967319",
   "metadata": {},
   "source": [
    "**b) Using Dictionary Comprehension Method**\n",
    "\n",
    "Hint: `lst.count(1)` counts how often 1 appears in `lst`."
   ]
  },
  {
   "cell_type": "code",
   "execution_count": 54,
   "id": "fc58d743",
   "metadata": {},
   "outputs": [],
   "source": [
    "# Given list\n",
    "numbers = [1, 2, 2, 2, 3,3 , 3, 4, 4, 4, 4, 4]\n",
    "\n",
    "#Write your code here"
   ]
  },
  {
   "cell_type": "markdown",
   "id": "e545f8d9",
   "metadata": {},
   "source": [
    "#### Question 6\n",
    "\n",
    "There is no question 6."
   ]
  },
  {
   "cell_type": "markdown",
   "id": "ac34a439",
   "metadata": {},
   "source": [
    "**Question 7**\n",
    "\n",
    "Write a code that extracts the first character of each word in a sentence using list comprehensions. \n",
    "\n",
    "Hint: You can use `string.split()` to turn a string into a list of words.\n"
   ]
  },
  {
   "cell_type": "code",
   "execution_count": 34,
   "id": "d7b8c270",
   "metadata": {},
   "outputs": [],
   "source": [
    "# Given sentence\n",
    "sentence = \"AddisCoder is helping Ethiopian HighSchoolers to achieve their dreams.\"\n",
    "\n",
    "# Write your code for method here"
   ]
  },
  {
   "cell_type": "markdown",
   "id": "6f9d6051",
   "metadata": {},
   "source": [
    "**Question 8**\n",
    "\n",
    "Write a code that takes list of strings and creates a new list with the length of each string using list comprehension.  \n"
   ]
  },
  {
   "cell_type": "code",
   "execution_count": 35,
   "id": "e6c61b08",
   "metadata": {},
   "outputs": [],
   "source": [
    "#Given list of strings\n",
    "\n",
    "string_list = [\"Heather\", \"Biniyam\", \"Ken\", \"Alex\", \"Yeabsira\", \"Hana\"]\n",
    "\n",
    "#Write your code here"
   ]
  },
  {
   "cell_type": "markdown",
   "id": "908d8462",
   "metadata": {},
   "source": [
    "**Question 9**\n",
    "\n",
    "Write a code that finds all the common elements between two given lists using a list comprehension."
   ]
  },
  {
   "cell_type": "code",
   "execution_count": 38,
   "id": "d6a6dc67",
   "metadata": {},
   "outputs": [],
   "source": [
    "#Given two lists\n",
    "\n",
    "list1 = [5, 2, 3, 4, 6, 8, 7, 9]\n",
    "list2 = [4, 5, 6, 7, 8, 3, 1, 10]\n",
    "\n",
    "#Write your code here"
   ]
  },
  {
   "cell_type": "markdown",
   "id": "d799272e",
   "metadata": {},
   "source": [
    "**Question 10**\n",
    "\n",
    "Write a code that finds all anagrams of a given word from a list of words using the following two methods.\n",
    "\n",
    "\"An **anagram** is a word or phrase formed by rearranging the letters of a different word or phrase, \n",
    "typically using all the original letters exactly once.\" \n",
    "\n",
    "Look here for more info: \n",
    "https://en.wikipedia.org/wiki/Anagram"
   ]
  },
  {
   "cell_type": "markdown",
   "id": "53ba7e97",
   "metadata": {},
   "source": [
    "**a) Using any method**"
   ]
  },
  {
   "cell_type": "code",
   "execution_count": 44,
   "id": "6a0f1308",
   "metadata": {},
   "outputs": [],
   "source": [
    "# Write your code for method 'a' here\n",
    "def is_anagram(word1, word2):\n",
    "    pass\n",
    "\n",
    "# Given word and list of words\n",
    "given_word = \"listen\"\n",
    "word_list = [\"enlist\", \"silent\", \"hello\", \"inlets\", \"world\", \"tinsel\"]\n",
    "\n",
    "\n",
    "# Print the list of anagrams\n",
    "\n",
    "\n"
   ]
  },
  {
   "cell_type": "markdown",
   "id": "f0397ff9",
   "metadata": {},
   "source": [
    "**b) Using List Comprehensions**"
   ]
  },
  {
   "cell_type": "code",
   "execution_count": 46,
   "id": "a94c8ee7",
   "metadata": {},
   "outputs": [],
   "source": [
    "# Write your code for method 'b' here\n",
    "\n",
    "def is_anagram(word1, word2):\n",
    "    pass\n",
    "\n",
    "# Given word and list of words\n",
    "given_word = \"listen\"\n",
    "word_list = [\"enlist\", \"silent\", \"hello\", \"inlets\", \"world\", \"tinsel\"]\n",
    "\n",
    "\n",
    "# Print the list of anagrams\n",
    "\n"
   ]
  },
  {
   "cell_type": "markdown",
   "id": "451a9a07",
   "metadata": {},
   "source": [
    "**Question 11**\n",
    "\n",
    "Write a code that finds a Transpose Matrix of a given Matrix by using the following two methods.\n",
    "\n",
    "Transpose matrix is a matrix that filiped over its diagonal. This means the that is, \n",
    "the row and column indices of the matrix are switched. \n",
    "\n",
    "Read to learn more about Transpose Matrix: https://en.wikipedia.org/wiki/Transpose\n"
   ]
  },
  {
   "cell_type": "markdown",
   "id": "9589a24a",
   "metadata": {},
   "source": [
    "**a) Use any method**"
   ]
  },
  {
   "cell_type": "code",
   "execution_count": 48,
   "id": "827e3e0c",
   "metadata": {},
   "outputs": [],
   "source": [
    "matrix = [[1, 2, 3, 4], [4, 5, 6, 8]]\n",
    "\n",
    "#Write your code here"
   ]
  },
  {
   "cell_type": "markdown",
   "id": "b89d2922",
   "metadata": {},
   "source": [
    "**b) List Comprehensions method**"
   ]
  },
  {
   "cell_type": "code",
   "execution_count": null,
   "id": "ac7ac4c5",
   "metadata": {},
   "outputs": [],
   "source": [
    "matrix = [[1, 2, 3, 4], [4, 5, 6, 8]]\n",
    "\n",
    "#Write your code here"
   ]
  }
 ],
 "metadata": {
  "kernelspec": {
   "display_name": "Python 3 (ipykernel)",
   "language": "python",
   "name": "python3"
  },
  "language_info": {
   "codemirror_mode": {
    "name": "ipython",
    "version": 3
   },
   "file_extension": ".py",
   "mimetype": "text/x-python",
   "name": "python",
   "nbconvert_exporter": "python",
   "pygments_lexer": "ipython3",
   "version": "3.11.4"
  }
 },
 "nbformat": 4,
 "nbformat_minor": 5
}
