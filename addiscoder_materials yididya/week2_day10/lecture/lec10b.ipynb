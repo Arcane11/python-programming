{
 "cells": [
  {
   "cell_type": "markdown",
   "metadata": {},
   "source": [
    "# AddisCoder 2023: Week 2, Day 5\n",
    "## Syntactic Sugar: List Comprehensions, Strings functions, Debugging\n",
    "\n",
    "Taught by Alex Krentsel (alex.krentsel@gmail.com)\n",
    "\n",
    "Python has a bunch of nice language features that let you do things more easily."
   ]
  },
  {
   "cell_type": "markdown",
   "metadata": {},
   "source": [
    "## List Comprehensions"
   ]
  },
  {
   "cell_type": "code",
   "execution_count": 1,
   "metadata": {},
   "outputs": [
    {
     "name": "stdout",
     "output_type": "stream",
     "text": [
      "[1, 2, 3, 4, 5, 6, 7, 8, 9, 10, 11, 12, 13, 14, 15, 16, 17, 18, 19, 20]\n"
     ]
    }
   ],
   "source": [
    "# How do we know how to make a list of all the numbers from 1 to 20?\n",
    "\n",
    "# We can use a for loop!\n",
    "nums = []\n",
    "for i in range(1,21):\n",
    "    nums.append(i)\n",
    "print(nums)"
   ]
  },
  {
   "cell_type": "code",
   "execution_count": 2,
   "metadata": {},
   "outputs": [],
   "source": [
    "# Python has some nice built-in features to do this more easily. Specifically, we can use list comprehensions.\n",
    "# List comprehensions are a way to create lists in Python. They are very useful and are used often in Python code.\n",
    "# Here is an example of a list comprehension that does the same thing as the for loop above.\n",
    "nums = [i for i in range(1,21)]"
   ]
  },
  {
   "cell_type": "code",
   "execution_count": 3,
   "metadata": {},
   "outputs": [
    {
     "name": "stdout",
     "output_type": "stream",
     "text": [
      "97\n",
      "122\n"
     ]
    }
   ],
   "source": [
    "# We can also use list comprehensions to create lists of strings.\n",
    "\n",
    "# Advanced example: we can use the chr() function to convert an integer to a character.\n",
    "# The ord() function converts a character to an integer.\n",
    "print(ord('a'))\n",
    "print(ord('z'))"
   ]
  },
  {
   "cell_type": "code",
   "execution_count": 4,
   "metadata": {},
   "outputs": [
    {
     "name": "stdout",
     "output_type": "stream",
     "text": [
      "a\n",
      "b\n"
     ]
    }
   ],
   "source": [
    "print(chr(97))\n",
    "print(chr(98))"
   ]
  },
  {
   "cell_type": "code",
   "execution_count": 5,
   "metadata": {},
   "outputs": [],
   "source": [
    "# Here is an example of a list comprehension that creates a list of the first 10 letters of the alphabet.\n",
    "letters = [chr(i) for i in range(ord('a'),ord('k'))]"
   ]
  },
  {
   "cell_type": "code",
   "execution_count": 6,
   "metadata": {},
   "outputs": [
    {
     "name": "stdout",
     "output_type": "stream",
     "text": [
      "[10, 9, 8, 7, 6, 5, 4, 3, 2, 1]\n"
     ]
    }
   ],
   "source": [
    "# We can use range as usual to change the step size.\n",
    "\n",
    "countdown = [n for n in range(10,0,-1)]\n",
    "print(countdown)"
   ]
  },
  {
   "cell_type": "code",
   "execution_count": 7,
   "metadata": {},
   "outputs": [
    {
     "name": "stdout",
     "output_type": "stream",
     "text": [
      "[0, 2, 4, 6, 8]\n"
     ]
    }
   ],
   "source": [
    "# We can also use if statements in list comprehensions\n",
    "lst = [x for x in range(10) if x%2 == 0]\n",
    "print(lst)"
   ]
  },
  {
   "cell_type": "markdown",
   "metadata": {},
   "source": [
    "More examples to practice..."
   ]
  },
  {
   "cell_type": "code",
   "execution_count": 8,
   "metadata": {},
   "outputs": [
    {
     "name": "stdout",
     "output_type": "stream",
     "text": [
      "[2, 2, 2, 2, 2, 2, 2, 2, 2, 2]\n"
     ]
    }
   ],
   "source": [
    "# Making a list containing 10 2s?\n",
    "lst = []\n",
    "for i in range(10):\n",
    "    lst.append(2)\n",
    "print(lst)"
   ]
  },
  {
   "cell_type": "code",
   "execution_count": 9,
   "metadata": {},
   "outputs": [
    {
     "name": "stdout",
     "output_type": "stream",
     "text": [
      "[2, 2, 2, 2, 2, 2, 2, 2, 2, 2]\n"
     ]
    }
   ],
   "source": [
    "lst = [2 for i in range(10)]\n",
    "print(lst)"
   ]
  },
  {
   "cell_type": "code",
   "execution_count": 10,
   "metadata": {},
   "outputs": [
    {
     "data": {
      "text/plain": [
       "[0, 2, 4, 6, 8, 10, 12, 14, 16, 18]"
      ]
     },
     "execution_count": 10,
     "metadata": {},
     "output_type": "execute_result"
    }
   ],
   "source": [
    "# Multiple of 2 \n",
    "lst = [2*x for x in range(0,10)]\n",
    "lst"
   ]
  },
  {
   "cell_type": "code",
   "execution_count": 11,
   "metadata": {},
   "outputs": [
    {
     "data": {
      "text/plain": [
       "[1, 3, 5, 7, 9, 11, 13, 15, 17, 19]"
      ]
     },
     "execution_count": 11,
     "metadata": {},
     "output_type": "execute_result"
    }
   ],
   "source": [
    "# Make a new list modifying a different list\n",
    "lst2 = [l+1 for l in lst]\n",
    "lst2"
   ]
  },
  {
   "cell_type": "markdown",
   "metadata": {},
   "source": [
    "## Dictionary Comprehensions"
   ]
  },
  {
   "cell_type": "code",
   "execution_count": 12,
   "metadata": {},
   "outputs": [],
   "source": [
    "# We can do the same thing for dictionaries\n",
    "powers_of_2 = {x:2**x for x in range(10)}\n",
    "even_powers_of_2 = {x:2**x for x in range(10) if x%2 == 0}"
   ]
  },
  {
   "cell_type": "code",
   "execution_count": 13,
   "metadata": {},
   "outputs": [
    {
     "name": "stdout",
     "output_type": "stream",
     "text": [
      "{97: 'a', 98: 'b', 99: 'c', 100: 'd', 101: 'e', 102: 'f', 103: 'g', 104: 'h', 105: 'i', 106: 'j', 107: 'k', 108: 'l', 109: 'm', 110: 'n', 111: 'o', 112: 'p', 113: 'q', 114: 'r', 115: 's', 116: 't', 117: 'u', 118: 'v', 119: 'w', 120: 'x', 121: 'y', 122: 'z'}\n"
     ]
    }
   ],
   "source": [
    "# Here's a handy example: let's make a dictionary that maps from a character's code to the character itself.\n",
    "\n",
    "code2char = {i:chr(i) for i in range(ord('a'),ord('z')+1)}\n",
    "print(code2char)"
   ]
  },
  {
   "cell_type": "markdown",
   "metadata": {},
   "source": [
    "## Final Wrapup\n",
    "\n",
    "A few other topics we should talk about before we wrap up with standard Python stuff. "
   ]
  },
  {
   "cell_type": "code",
   "execution_count": 14,
   "metadata": {},
   "outputs": [
    {
     "name": "stdout",
     "output_type": "stream",
     "text": [
      "odd\n",
      "even\n"
     ]
    }
   ],
   "source": [
    "# Ternary Operator\n",
    "\n",
    "# The ternary operator is a way to write if statements in one line. \n",
    "# The syntax is: <value if true> if <condition> else <value if false>\n",
    "\n",
    "# Example of a use of ternary:\n",
    "# We want to print \"even\" if a number is even and \"odd\" if a number is odd.\n",
    "\n",
    "def even_or_odd(n):\n",
    "    return \"even\" if n % 2 == 0 else \"odd\"\n",
    "\n",
    "print(even_or_odd(7))\n",
    "print(even_or_odd(42))\n"
   ]
  },
  {
   "cell_type": "markdown",
   "metadata": {},
   "source": [
    "## Useful String Functions"
   ]
  },
  {
   "cell_type": "code",
   "execution_count": 15,
   "metadata": {},
   "outputs": [
    {
     "name": "stdout",
     "output_type": "stream",
     "text": [
      "['This', 'is', 'a', 'sentence', 'made', 'up', 'of', 'some', 'words.']\n"
     ]
    }
   ],
   "source": [
    "\n",
    "# We can use the split() function to split a string into a list of strings.\n",
    "# We pass what \"delimiter\" we want to split on\n",
    "sentence = \"This is a sentence made up of some words.\"\n",
    "words = sentence.split(\" \")\n",
    "print(words)"
   ]
  },
  {
   "cell_type": "code",
   "execution_count": 16,
   "metadata": {},
   "outputs": [
    {
     "name": "stdout",
     "output_type": "stream",
     "text": [
      "['Aku', 'Abraham', 'Binyam', 'Georg', 'Liya']\n"
     ]
    }
   ],
   "source": [
    "\n",
    "names_string = \"Aku,Abraham,Binyam,Georg,Liya\"\n",
    "name_list = names_string.split(\",\")\n",
    "print(name_list)"
   ]
  },
  {
   "cell_type": "code",
   "execution_count": 17,
   "metadata": {},
   "outputs": [
    {
     "name": "stdout",
     "output_type": "stream",
     "text": [
      "['This', 'is', 'a', 'sentence', 'made', 'up', 'of', 'some', 'words.']\n",
      "This-is-a-sentence-made-up-of-some-words.\n",
      "This.is.a.sentence.made.up.of.some.words.\n",
      "ThisALEXisALEXaALEXsentenceALEXmadeALEXupALEXofALEXsomeALEXwords.\n"
     ]
    }
   ],
   "source": [
    "# We can do the opposite too.\n",
    "# If we have a list, we can join the list together into a single string:\n",
    "\n",
    "print(words)\n",
    "print(\"-\".join(words))\n",
    "print(\".\".join(words))\n",
    "print(\"ALEX\".join(words))"
   ]
  },
  {
   "cell_type": "code",
   "execution_count": 18,
   "metadata": {},
   "outputs": [
    {
     "name": "stdout",
     "output_type": "stream",
     "text": [
      "Hello, my name is Alex\n",
      "Hi, my name is Alex\n"
     ]
    }
   ],
   "source": [
    "# Printing using f-strings (formatted strings)\n",
    "\n",
    "# We can use f-strings to print strings with variables in them.\n",
    "# We put an f before the string and then put the variable in curly braces.\n",
    "name = \"Alex\"\n",
    "print(f\"Hello, my name is {name}\")\n",
    "\n",
    "greeting = \"Hi\"\n",
    "print(f\"{greeting}, my name is {name}\")"
   ]
  },
  {
   "cell_type": "code",
   "execution_count": 19,
   "metadata": {},
   "outputs": [
    {
     "name": "stdout",
     "output_type": "stream",
     "text": [
      "Hello, my name is Alex\n"
     ]
    }
   ],
   "source": [
    "# It doesn't have to be inside of a print statement.\n",
    "# We can use f-strings to create strings.\n",
    "name = \"Alex\"\n",
    "announcement = f\"Hello, my name is {name}\"\n",
    "print(announcement)"
   ]
  },
  {
   "cell_type": "code",
   "execution_count": 20,
   "metadata": {},
   "outputs": [
    {
     "name": "stdout",
     "output_type": "stream",
     "text": [
      "My name is Alex\n",
      "MY NAME IS ALEX\n",
      "my name is alex\n",
      "My Name Is Alex\n"
     ]
    }
   ],
   "source": [
    "# Going to uppercase or lowercase,\n",
    "\n",
    "sample_str = \"My name is Alex\"\n",
    "print(sample_str)\n",
    "print(sample_str.upper())\n",
    "print(sample_str.lower())\n",
    "\n",
    "# We can also use the title() function to capitalize the first letter of each word.\n",
    "print(sample_str.title())\n",
    "\n",
    "# And many many more functions. "
   ]
  },
  {
   "cell_type": "markdown",
   "metadata": {},
   "source": [
    "## How to Debug your Code\n",
    "\n",
    "Let's look at an error together."
   ]
  },
  {
   "cell_type": "markdown",
   "metadata": {},
   "source": []
  }
 ],
 "metadata": {
  "kernelspec": {
   "display_name": "Python 3",
   "language": "python",
   "name": "python3"
  },
  "language_info": {
   "codemirror_mode": {
    "name": "ipython",
    "version": 3
   },
   "file_extension": ".py",
   "mimetype": "text/x-python",
   "name": "python",
   "nbconvert_exporter": "python",
   "pygments_lexer": "ipython3",
   "version": "3.10.12"
  },
  "orig_nbformat": 4
 },
 "nbformat": 4,
 "nbformat_minor": 2
}
