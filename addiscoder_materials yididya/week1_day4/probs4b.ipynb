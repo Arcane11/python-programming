{
 "cells": [
  {
   "cell_type": "markdown",
   "metadata": {
    "colab_type": "text",
    "id": "gQVcTiChFEon"
   },
   "source": [
    "# Lecture 4, Part 2 Exercises\n",
    "\n",
    "\n",
    "Exercises on variable scope."
   ]
  },
  {
   "cell_type": "markdown",
   "metadata": {
    "colab_type": "text",
    "id": "xdqRwuuXFEor"
   },
   "source": [
    "\n",
    "####    1) There are two kinds of variables in a Python program depending on where they are defined and how long they exist. What are the kinds of variables in the Python program?\n",
    "       \n",
    "       "
   ]
  },
  {
   "cell_type": "markdown",
   "metadata": {
    "colab_type": "text",
    "id": "-Ma4IlnrFEou"
   },
   "source": [
    "1. What are variables defined outside of a function called?"
   ]
  },
  {
   "cell_type": "code",
   "execution_count": 1,
   "metadata": {
    "tags": []
   },
   "outputs": [],
   "source": [
    "# Answer here Global Variables"
   ]
  },
  {
   "cell_type": "markdown",
   "metadata": {
    "tags": []
   },
   "source": [
    "2. What are variables that only exist during the execution of a function called?"
   ]
  },
  {
   "cell_type": "code",
   "execution_count": null,
   "metadata": {},
   "outputs": [],
   "source": [
    "# Answer here Scoped Variables"
   ]
  },
  {
   "cell_type": "markdown",
   "metadata": {},
   "source": [
    "1. Write a funcation that adds two numbers x and y. "
   ]
  },
  {
   "cell_type": "code",
   "execution_count": 1,
   "metadata": {},
   "outputs": [],
   "source": [
    "def add_two(x,y):\n",
    "    #implement the code here\n",
    "    return x + y\n",
    "\n",
    "#Test your code here\n"
   ]
  },
  {
   "cell_type": "markdown",
   "metadata": {},
   "source": [
    "2. Write a Python function that sum all numbers in a list.\n",
    "\n",
    "Example:\n",
    "given_list = [8, 2, 3, 0, 7]\n",
    "Expected Output : 20"
   ]
  },
  {
   "cell_type": "code",
   "execution_count": 1,
   "metadata": {},
   "outputs": [
    {
     "data": {
      "text/plain": [
       "12"
      ]
     },
     "execution_count": 1,
     "metadata": {},
     "output_type": "execute_result"
    }
   ],
   "source": [
    "def add_elements(lst):\n",
    "    #implement the code here\n",
    "    Sum = 0\n",
    "    for i in lst:\n",
    "        Sum += i\n",
    "    return Sum\n",
    "\n",
    "#Test your code here\n",
    "\n",
    "add_elements([1,2,4,5])"
   ]
  },
  {
   "cell_type": "markdown",
   "metadata": {},
   "source": [
    "3. Write a Python program to reverse a string.\n",
    "\n",
    "Example String : \"AddisCoder\"\n",
    "Expected Output : \"redoCsiddA\""
   ]
  },
  {
   "cell_type": "code",
   "execution_count": 2,
   "metadata": {},
   "outputs": [
    {
     "name": "stdout",
     "output_type": "stream",
     "text": [
      "True\n"
     ]
    }
   ],
   "source": [
    "def reverse_string(Str):\n",
    "    temp = ''\n",
    "    i = len(Str) -1\n",
    "    while i >= 0:\n",
    "        temp += Str[i]\n",
    "        i -= 1\n",
    "    return temp\n",
    "\n",
    "reverse_string(\"LOL This won't work\")\n",
    "#Test your code here\n",
    "print(bool(True) == 1)"
   ]
  },
  {
   "cell_type": "markdown",
   "metadata": {},
   "source": [
    "4. Write a funcation called miles_to_km that takes miles as a parameter, and converts it into kiloemetrs and returns the result. "
   ]
  },
  {
   "cell_type": "code",
   "execution_count": 8,
   "metadata": {},
   "outputs": [
    {
     "data": {
      "text/plain": [
       "19.200000000000003"
      ]
     },
     "execution_count": 8,
     "metadata": {},
     "output_type": "execute_result"
    }
   ],
   "source": [
    "def miles_to_km(miles):\n",
    "    #implement the code here\n",
    "    FACTOR = 1.6\n",
    "    return miles * FACTOR\n",
    "\n",
    "miles_to_km(12)\n",
    "\n",
    "#Test your code here"
   ]
  },
  {
   "cell_type": "markdown",
   "metadata": {},
   "source": [
    "5. Write a function called get_highest that takes two numbers as parameters and returns the highest of the two numbers."
   ]
  },
  {
   "cell_type": "code",
   "execution_count": 11,
   "metadata": {},
   "outputs": [
    {
     "data": {
      "text/plain": [
       "12"
      ]
     },
     "execution_count": 11,
     "metadata": {},
     "output_type": "execute_result"
    }
   ],
   "source": [
    "def get_highest(x,y):\n",
    "    #implement the code here\n",
    "    if x > y :\n",
    "        return x \n",
    "    else:\n",
    "        return y\n",
    "    \n",
    "get_highest(12,4)\n",
    "    \n",
    "#Test your code here"
   ]
  },
  {
   "cell_type": "markdown",
   "metadata": {},
   "source": [
    "6. Write a function called is_prime that takes an integer as an argument and checks if it is a prime number or not, returning a Boolean."
   ]
  },
  {
   "cell_type": "code",
   "execution_count": 37,
   "metadata": {},
   "outputs": [
    {
     "data": {
      "text/plain": [
       "False"
      ]
     },
     "execution_count": 37,
     "metadata": {},
     "output_type": "execute_result"
    }
   ],
   "source": [
    "def is_prime(num):\n",
    "    #implement the code here\n",
    "    if num == 2:\n",
    "        return True\n",
    "    elif num < 2:\n",
    "        return False\n",
    "    for i in range(2, int((num)**0.5 + 2) ):\n",
    "        if num % i == 0:\n",
    "            return False\n",
    "        else:\n",
    "            return True\n",
    "    \n",
    "#Test your code here\n",
    "is_prime(-1)"
   ]
  },
  {
   "cell_type": "code",
   "execution_count": 25,
   "metadata": {},
   "outputs": [
    {
     "data": {
      "text/plain": [
       "[]"
      ]
     },
     "execution_count": 25,
     "metadata": {},
     "output_type": "execute_result"
    }
   ],
   "source": []
  },
  {
   "cell_type": "code",
   "execution_count": null,
   "metadata": {},
   "outputs": [],
   "source": []
  },
  {
   "cell_type": "markdown",
   "metadata": {
    "colab_type": "text",
    "id": "j_W_rYFVFEo4"
   },
   "source": [
    "\n",
    "#### 7) What is the outcome of running the following? Try to think of  before running the cell.\n",
    "   "
   ]
  },
  {
   "cell_type": "code",
   "execution_count": 38,
   "metadata": {
    "colab": {},
    "colab_type": "code",
    "id": "taRLCuFeFEo5",
    "tags": []
   },
   "outputs": [
    {
     "data": {
      "text/plain": [
       "(802, 246)"
      ]
     },
     "execution_count": 38,
     "metadata": {},
     "output_type": "execute_result"
    }
   ],
   "source": [
    "# 2A\n",
    "# Predict what will be printed, then run this cell to see the actual result.\n",
    "\n",
    "def reverse(a, b):\n",
    "    a, b = b, a\n",
    "    return a, b\n",
    "\n",
    "x, y = 246, 802\n",
    "\n",
    "reverse(x, y)"
   ]
  },
  {
   "cell_type": "markdown",
   "metadata": {
    "colab_type": "raw",
    "id": "MmyC9_OlFEo8"
   },
   "source": [
    "Now consider this similar function. Try to think of what will be printed before running the cell."
   ]
  },
  {
   "cell_type": "code",
   "execution_count": 40,
   "metadata": {
    "colab": {},
    "colab_type": "code",
    "id": "8vdtmfalFEo9"
   },
   "outputs": [
    {
     "data": {
      "text/plain": [
       "(802, 246)"
      ]
     },
     "execution_count": 40,
     "metadata": {},
     "output_type": "execute_result"
    }
   ],
   "source": [
    "# 2B\n",
    "# Predict what will be printed, then run this cell to see the actual result.\n",
    "\n",
    "def incorrect_reverse(a, b):\n",
    "    temp = a \n",
    "    a = b\n",
    "    b = temp\n",
    "    return a, b\n",
    "\n",
    "x, y = 246, 802\n",
    "\n",
    "incorrect_reverse(x, y)"
   ]
  },
  {
   "cell_type": "markdown",
   "metadata": {
    "colab_type": "text",
    "id": "6sGrzrdQFEpA"
   },
   "source": [
    "Please explain the difference between the two."
   ]
  },
  {
   "cell_type": "code",
   "execution_count": null,
   "metadata": {
    "colab": {},
    "colab_type": "code",
    "id": "uRvYrBRP-oCN"
   },
   "outputs": [],
   "source": [
    "# YOUR ANSWER HERE"
   ]
  },
  {
   "cell_type": "markdown",
   "metadata": {
    "colab_type": "text",
    "id": "tOAgWy9pFEpB"
   },
   "source": [
    "\n",
    "####  3) What is the outcome of running the code below? Try to think of the answer before running the code. \n",
    "       "
   ]
  },
  {
   "cell_type": "code",
   "execution_count": 1,
   "metadata": {
    "colab": {},
    "colab_type": "code",
    "id": "DWngfka2FEpC",
    "tags": []
   },
   "outputs": [
    {
     "name": "stdout",
     "output_type": "stream",
     "text": [
      "[4, 3, 4]\n"
     ]
    }
   ],
   "source": [
    "# Think of the answer, then run this cell to see the actual result.\n",
    "def change_value(x, y):\n",
    "    lst = [1, 2, 4]\n",
    "    lst[0] = [1,23,4]\n",
    "    a = 100\n",
    "    b = 200\n",
    "  \n",
    "\n",
    "lst = [4,3,4]\n",
    "a = 10\n",
    "b = 20\n",
    "change_value(a, b)\n",
    "\n",
    "print(lst)\n"
   ]
  },
  {
   "cell_type": "code",
   "execution_count": 3,
   "metadata": {},
   "outputs": [
    {
     "data": {
      "text/plain": [
       "'abc'"
      ]
     },
     "execution_count": 3,
     "metadata": {},
     "output_type": "execute_result"
    }
   ],
   "source": [
    "a = \"abc\"\n",
    "a = a + \"d\"\n",
    "a"
   ]
  },
  {
   "cell_type": "markdown",
   "metadata": {
    "colab_type": "text",
    "id": "X1IW718l-oCZ"
   },
   "source": [
    "####  3) What about this code? Try to think of the answer before running the code. "
   ]
  },
  {
   "cell_type": "code",
   "execution_count": 4,
   "metadata": {
    "colab": {},
    "colab_type": "code",
    "id": "jO_EVbFu-oCa",
    "tags": []
   },
   "outputs": [
    {
     "name": "stdout",
     "output_type": "stream",
     "text": [
      "10 20\n"
     ]
    }
   ],
   "source": [
    "# Think of the answer, then run this cell to see the actual result.\n",
    "def change_value(x, y):\n",
    "    x = 100\n",
    "    y = 200\n",
    "\n",
    "\n",
    "a = 10\n",
    "b = 20\n",
    "change_value(a, b)\n",
    "print(a, b)"
   ]
  },
  {
   "cell_type": "markdown",
   "metadata": {
    "colab_type": "text",
    "id": "Im21nNtIFEpF"
   },
   "source": [
    "#### 4) One of the three print statements from the code below will not run because the code has an error.\n",
    "\n",
    "```python\n",
    "a = 2 \n",
    "def my_func(a):\n",
    "    z = a * 5\n",
    "    return a, z\n",
    "print(my_func(3))\n",
    "print(a)\n",
    "print(z)\n",
    "```\n",
    "\n",
    "Figure out which one it is and explain the error without running the code."
   ]
  },
  {
   "cell_type": "markdown",
   "metadata": {
    "colab_type": "text",
    "id": "vbh-cjrlFEpJ"
   },
   "source": [
    "* *DOUBLE CLICK HERE TO WRITE YOUR EXPLANATION* Z is not defined because it is not a global variable"
   ]
  },
  {
   "cell_type": "markdown",
   "metadata": {
    "colab_type": "text",
    "id": "6NAObumQFEpK"
   },
   "source": [
    "#### 5) The `global` keyword is used to access and change the values of global variables inside functions. Taking note of that try to predict the outcome of the following code."
   ]
  },
  {
   "cell_type": "code",
   "execution_count": 2,
   "metadata": {
    "colab": {},
    "colab_type": "code",
    "id": "FKG1alHyFEpL",
    "tags": []
   },
   "outputs": [
    {
     "name": "stdout",
     "output_type": "stream",
     "text": [
      "0\n",
      "3.14\n"
     ]
    }
   ],
   "source": [
    "x = 0\n",
    "\n",
    "\n",
    "def MyFunc1():\n",
    "    x = 10\n",
    "\n",
    "\n",
    "def MyFunc2():\n",
    "    global x\n",
    "    x = 3.14\n",
    "\n",
    "\n",
    "MyFunc1()\n",
    "print(x)\n",
    "MyFunc2()\n",
    "print(x)\n",
    "\n"
   ]
  },
  {
   "cell_type": "code",
   "execution_count": 47,
   "metadata": {},
   "outputs": [
    {
     "name": "stdout",
     "output_type": "stream",
     "text": [
      "(3, 15)\n",
      "2\n"
     ]
    },
    {
     "ename": "NameError",
     "evalue": "name 'z' is not defined",
     "output_type": "error",
     "traceback": [
      "\u001b[0;31m---------------------------------------------------------------------------\u001b[0m",
      "\u001b[0;31mNameError\u001b[0m                                 Traceback (most recent call last)",
      "Cell \u001b[0;32mIn[47], line 7\u001b[0m\n\u001b[1;32m      5\u001b[0m \u001b[38;5;28mprint\u001b[39m(my_func(\u001b[38;5;241m3\u001b[39m))\n\u001b[1;32m      6\u001b[0m \u001b[38;5;28mprint\u001b[39m(a)\n\u001b[0;32m----> 7\u001b[0m \u001b[38;5;28mprint\u001b[39m(\u001b[43mz\u001b[49m)\n",
      "\u001b[0;31mNameError\u001b[0m: name 'z' is not defined"
     ]
    }
   ],
   "source": []
  },
  {
   "cell_type": "markdown",
   "metadata": {},
   "source": [
    "## Question 6 (Medium)"
   ]
  },
  {
   "cell_type": "markdown",
   "metadata": {},
   "source": [
    "Write a Python program that takes a list and returns each member of a list."
   ]
  },
  {
   "cell_type": "code",
   "execution_count": 3,
   "metadata": {},
   "outputs": [
    {
     "name": "stdout",
     "output_type": "stream",
     "text": [
      "1.43\n",
      "5\n",
      "23\n"
     ]
    }
   ],
   "source": [
    "#write your function here\n",
    "\n",
    "def returner(lst):\n",
    "    for i in lst:\n",
    "        print(i)\n",
    "        \n",
    "returner([1.43,5,23])"
   ]
  },
  {
   "cell_type": "markdown",
   "metadata": {},
   "source": [
    "## Question 7 (Medium)"
   ]
  },
  {
   "cell_type": "markdown",
   "metadata": {},
   "source": [
    "Write a function called `check_triangle `that takes three side lengths as input and determines the type of triangle based on the following conditions:\n",
    "\n",
    "    If all three sides are equal, it is an equilateral triangle.\n",
    "    If exactly two sides are equal, it is an isosceles triangle.\n",
    "    If all three sides are different, it is a scalene triangle.\n",
    "The function should return a `string` indicating the type of triangle. Write the check_triangle function that implements these conditions and returns the type of triangle based on the given side lengths. Test your function with different side lengths to verify its correctness.\""
   ]
  },
  {
   "cell_type": "code",
   "execution_count": 6,
   "metadata": {},
   "outputs": [
    {
     "data": {
      "text/plain": [
       "'equilateral triangle'"
      ]
     },
     "execution_count": 6,
     "metadata": {},
     "output_type": "execute_result"
    }
   ],
   "source": [
    "#write your function here\n",
    "def Triange_Checker(x,y,z):\n",
    "    if x == y and y == z:\n",
    "        return \"equilateral triangle\"\n",
    "    elif x == y and y != z:\n",
    "        return \"isosceles triangle\"\n",
    "    else:\n",
    "        return \"scalene triangle\"\n",
    "    \n",
    "Triange_Checker(1,1,1)\n",
    "        "
   ]
  },
  {
   "cell_type": "markdown",
   "metadata": {},
   "source": [
    "## Exercise 8 (Medium)"
   ]
  },
  {
   "cell_type": "markdown",
   "metadata": {},
   "source": [
    "Write a function called calculate_average that takes a list of numbers as input and returns the average (mean) of the numbers. Then, test your function with your own testcases. "
   ]
  },
  {
   "cell_type": "code",
   "execution_count": 10,
   "metadata": {},
   "outputs": [
    {
     "data": {
      "text/plain": [
       "1.0"
      ]
     },
     "execution_count": 10,
     "metadata": {},
     "output_type": "execute_result"
    }
   ],
   "source": [
    "#write your function here\n",
    "def Average(lst):\n",
    "    return sum(lst) / len(lst)\n",
    "\n",
    "Average([1,1,1,1])"
   ]
  },
  {
   "cell_type": "markdown",
   "metadata": {
    "colab_type": "text",
    "id": "-RS5Ik96FEpQ"
   },
   "source": [
    "## Challenge Problems\n",
    "\n",
    "### Question 1\n",
    "\n",
    "Now let's work on some fun problems.  Write a code after reading the instruction carefully. The hints will help ease the question.\n",
    "\n",
    "The code below is incomplete. You should complete it so that it performs the tasks mentioned below. \n",
    "\n",
    "Implement given functions: deposit(), withdrawal(), and bank() so that your program works like an ATM.\n",
    "\n",
    "Your program should ask user What do you want to do? deposit(d) or withdrawal(w) or balance check(c)? first and then:\n",
    "\n",
    "If user input is empty string, '', then quit this function using return.\n",
    "If user input is 'w', then ask the amount of money to be withdrawn and withdraw it.\n",
    "If user input is 'd', then ask the amount of money to be deposited and deposit it.\n",
    "If user input is 'c', then check the current balance.\n",
    "\n",
    "Hints:\n",
    "\n",
    "1) We have created a global variable \"balance\" that will have the value of the money you have in the bank. You need to access this variable everytime you need to deposit, withdraw, or check your balance.\n",
    "\n",
    "2) Normally global variables can be accessed but not changed from inside functions. so, Use global keyword to access and change global variables from inside function.\n",
    "\n",
    "3) There can not be a negative balance in the bank."
   ]
  },
  {
   "cell_type": "code",
   "execution_count": 12,
   "metadata": {},
   "outputs": [
    {
     "ename": "NameError",
     "evalue": "name 'Global' is not defined",
     "output_type": "error",
     "traceback": [
      "\u001b[0;31m---------------------------------------------------------------------------\u001b[0m",
      "\u001b[0;31mNameError\u001b[0m                                 Traceback (most recent call last)",
      "Cell \u001b[0;32mIn[12], line 1\u001b[0m\n\u001b[0;32m----> 1\u001b[0m help(\u001b[43mGlobal\u001b[49m)\n",
      "\u001b[0;31mNameError\u001b[0m: name 'Global' is not defined"
     ]
    }
   ],
   "source": []
  },
  {
   "cell_type": "code",
   "execution_count": 15,
   "metadata": {
    "colab": {},
    "colab_type": "code",
    "id": "7RvnN4T8FEpR"
   },
   "outputs": [
    {
     "name": "stdout",
     "output_type": "stream",
     "text": [
      "Deposit(d) or withdrawal(w) or balance check(c)? w\n",
      "How much do you want to withdraw?1243\n",
      "Withdraw is improper\n",
      "Please type d, w, c, or stop, then press enter.\n",
      "Deposit(d) or withdrawal(w) or balance check(c)? d\n",
      "How much do you want to deposit?12334\n",
      "You have deposited12334.0birr\n",
      "Please type d, w, c, or stop, then press enter.\n",
      "Deposit(d) or withdrawal(w) or balance check(c)? w\n",
      "How much do you want to withdraw?12\n",
      "Please type d, w, c, or stop, then press enter.\n",
      "Deposit(d) or withdrawal(w) or balance check(c)? c\n",
      "your current balance is 12322.0birr\n",
      "Please type d, w, c, or stop, then press enter.\n",
      "Deposit(d) or withdrawal(w) or balance check(c)? w\n",
      "How much do you want to withdraw?12322\n",
      "Please type d, w, c, or stop, then press enter.\n",
      "Deposit(d) or withdrawal(w) or balance check(c)? c\n",
      "your current balance is 0.0birr\n",
      "Please type d, w, c, or stop, then press enter.\n"
     ]
    },
    {
     "ename": "KeyboardInterrupt",
     "evalue": "Interrupted by user",
     "output_type": "error",
     "traceback": [
      "\u001b[0;31m---------------------------------------------------------------------------\u001b[0m",
      "\u001b[0;31mKeyboardInterrupt\u001b[0m                         Traceback (most recent call last)",
      "Cell \u001b[0;32mIn[15], line 52\u001b[0m\n\u001b[1;32m     48\u001b[0m             \u001b[38;5;28mprint\u001b[39m(\u001b[38;5;124m\"\u001b[39m\u001b[38;5;124mPlease type d, w, c, or stop, then press enter.\u001b[39m\u001b[38;5;124m\"\u001b[39m)\n\u001b[1;32m     49\u001b[0m             bank()\n\u001b[0;32m---> 52\u001b[0m \u001b[43mbank\u001b[49m\u001b[43m(\u001b[49m\u001b[43m)\u001b[49m\n",
      "Cell \u001b[0;32mIn[15], line 49\u001b[0m, in \u001b[0;36mbank\u001b[0;34m()\u001b[0m\n\u001b[1;32m     47\u001b[0m \u001b[38;5;28;01melse\u001b[39;00m:\n\u001b[1;32m     48\u001b[0m     \u001b[38;5;28mprint\u001b[39m(\u001b[38;5;124m\"\u001b[39m\u001b[38;5;124mPlease type d, w, c, or stop, then press enter.\u001b[39m\u001b[38;5;124m\"\u001b[39m)\n\u001b[0;32m---> 49\u001b[0m     \u001b[43mbank\u001b[49m\u001b[43m(\u001b[49m\u001b[43m)\u001b[49m\n",
      "Cell \u001b[0;32mIn[15], line 49\u001b[0m, in \u001b[0;36mbank\u001b[0;34m()\u001b[0m\n\u001b[1;32m     47\u001b[0m \u001b[38;5;28;01melse\u001b[39;00m:\n\u001b[1;32m     48\u001b[0m     \u001b[38;5;28mprint\u001b[39m(\u001b[38;5;124m\"\u001b[39m\u001b[38;5;124mPlease type d, w, c, or stop, then press enter.\u001b[39m\u001b[38;5;124m\"\u001b[39m)\n\u001b[0;32m---> 49\u001b[0m     \u001b[43mbank\u001b[49m\u001b[43m(\u001b[49m\u001b[43m)\u001b[49m\n",
      "    \u001b[0;31m[... skipping similar frames: bank at line 49 (3 times)]\u001b[0m\n",
      "Cell \u001b[0;32mIn[15], line 49\u001b[0m, in \u001b[0;36mbank\u001b[0;34m()\u001b[0m\n\u001b[1;32m     47\u001b[0m \u001b[38;5;28;01melse\u001b[39;00m:\n\u001b[1;32m     48\u001b[0m     \u001b[38;5;28mprint\u001b[39m(\u001b[38;5;124m\"\u001b[39m\u001b[38;5;124mPlease type d, w, c, or stop, then press enter.\u001b[39m\u001b[38;5;124m\"\u001b[39m)\n\u001b[0;32m---> 49\u001b[0m     \u001b[43mbank\u001b[49m\u001b[43m(\u001b[49m\u001b[43m)\u001b[49m\n",
      "Cell \u001b[0;32mIn[15], line 34\u001b[0m, in \u001b[0;36mbank\u001b[0;34m()\u001b[0m\n\u001b[1;32m     32\u001b[0m \u001b[38;5;28;01mdef\u001b[39;00m \u001b[38;5;21mbank\u001b[39m():\n\u001b[1;32m     33\u001b[0m     \u001b[38;5;28;01mwhile\u001b[39;00m \u001b[38;5;28;01mTrue\u001b[39;00m:\n\u001b[0;32m---> 34\u001b[0m         process \u001b[38;5;241m=\u001b[39m \u001b[38;5;28;43minput\u001b[39;49m\u001b[43m(\u001b[49m\u001b[38;5;124;43m\"\u001b[39;49m\u001b[38;5;124;43mDeposit(d) or withdrawal(w) or balance check(c)? \u001b[39;49m\u001b[38;5;124;43m\"\u001b[39;49m\u001b[43m)\u001b[49m\n\u001b[1;32m     35\u001b[0m         \u001b[38;5;28;01mif\u001b[39;00m process \u001b[38;5;241m==\u001b[39m \u001b[38;5;124m\"\u001b[39m\u001b[38;5;124md\u001b[39m\u001b[38;5;124m\"\u001b[39m:\n\u001b[1;32m     36\u001b[0m             amount \u001b[38;5;241m=\u001b[39m \u001b[38;5;28mfloat\u001b[39m(\u001b[38;5;28minput\u001b[39m(\u001b[38;5;124m\"\u001b[39m\u001b[38;5;124mHow much do you want to deposit?\u001b[39m\u001b[38;5;124m\"\u001b[39m))\n",
      "File \u001b[0;32m~/miniconda3/lib/python3.11/site-packages/ipykernel/kernelbase.py:1202\u001b[0m, in \u001b[0;36mKernel.raw_input\u001b[0;34m(self, prompt)\u001b[0m\n\u001b[1;32m   1200\u001b[0m     msg \u001b[38;5;241m=\u001b[39m \u001b[38;5;124m\"\u001b[39m\u001b[38;5;124mraw_input was called, but this frontend does not support input requests.\u001b[39m\u001b[38;5;124m\"\u001b[39m\n\u001b[1;32m   1201\u001b[0m     \u001b[38;5;28;01mraise\u001b[39;00m StdinNotImplementedError(msg)\n\u001b[0;32m-> 1202\u001b[0m \u001b[38;5;28;01mreturn\u001b[39;00m \u001b[38;5;28;43mself\u001b[39;49m\u001b[38;5;241;43m.\u001b[39;49m\u001b[43m_input_request\u001b[49m\u001b[43m(\u001b[49m\n\u001b[1;32m   1203\u001b[0m \u001b[43m    \u001b[49m\u001b[38;5;28;43mstr\u001b[39;49m\u001b[43m(\u001b[49m\u001b[43mprompt\u001b[49m\u001b[43m)\u001b[49m\u001b[43m,\u001b[49m\n\u001b[1;32m   1204\u001b[0m \u001b[43m    \u001b[49m\u001b[38;5;28;43mself\u001b[39;49m\u001b[38;5;241;43m.\u001b[39;49m\u001b[43m_parent_ident\u001b[49m\u001b[43m[\u001b[49m\u001b[38;5;124;43m\"\u001b[39;49m\u001b[38;5;124;43mshell\u001b[39;49m\u001b[38;5;124;43m\"\u001b[39;49m\u001b[43m]\u001b[49m\u001b[43m,\u001b[49m\n\u001b[1;32m   1205\u001b[0m \u001b[43m    \u001b[49m\u001b[38;5;28;43mself\u001b[39;49m\u001b[38;5;241;43m.\u001b[39;49m\u001b[43mget_parent\u001b[49m\u001b[43m(\u001b[49m\u001b[38;5;124;43m\"\u001b[39;49m\u001b[38;5;124;43mshell\u001b[39;49m\u001b[38;5;124;43m\"\u001b[39;49m\u001b[43m)\u001b[49m\u001b[43m,\u001b[49m\n\u001b[1;32m   1206\u001b[0m \u001b[43m    \u001b[49m\u001b[43mpassword\u001b[49m\u001b[38;5;241;43m=\u001b[39;49m\u001b[38;5;28;43;01mFalse\u001b[39;49;00m\u001b[43m,\u001b[49m\n\u001b[1;32m   1207\u001b[0m \u001b[43m\u001b[49m\u001b[43m)\u001b[49m\n",
      "File \u001b[0;32m~/miniconda3/lib/python3.11/site-packages/ipykernel/kernelbase.py:1245\u001b[0m, in \u001b[0;36mKernel._input_request\u001b[0;34m(self, prompt, ident, parent, password)\u001b[0m\n\u001b[1;32m   1242\u001b[0m \u001b[38;5;28;01mexcept\u001b[39;00m \u001b[38;5;167;01mKeyboardInterrupt\u001b[39;00m:\n\u001b[1;32m   1243\u001b[0m     \u001b[38;5;66;03m# re-raise KeyboardInterrupt, to truncate traceback\u001b[39;00m\n\u001b[1;32m   1244\u001b[0m     msg \u001b[38;5;241m=\u001b[39m \u001b[38;5;124m\"\u001b[39m\u001b[38;5;124mInterrupted by user\u001b[39m\u001b[38;5;124m\"\u001b[39m\n\u001b[0;32m-> 1245\u001b[0m     \u001b[38;5;28;01mraise\u001b[39;00m \u001b[38;5;167;01mKeyboardInterrupt\u001b[39;00m(msg) \u001b[38;5;28;01mfrom\u001b[39;00m \u001b[38;5;28;01mNone\u001b[39;00m\n\u001b[1;32m   1246\u001b[0m \u001b[38;5;28;01mexcept\u001b[39;00m \u001b[38;5;167;01mException\u001b[39;00m:\n\u001b[1;32m   1247\u001b[0m     \u001b[38;5;28mself\u001b[39m\u001b[38;5;241m.\u001b[39mlog\u001b[38;5;241m.\u001b[39mwarning(\u001b[38;5;124m\"\u001b[39m\u001b[38;5;124mInvalid Message:\u001b[39m\u001b[38;5;124m\"\u001b[39m, exc_info\u001b[38;5;241m=\u001b[39m\u001b[38;5;28;01mTrue\u001b[39;00m)\n",
      "\u001b[0;31mKeyboardInterrupt\u001b[0m: Interrupted by user"
     ]
    }
   ],
   "source": [
    "balance = 0\n",
    "\n",
    "\n",
    "def deposit(amount):\n",
    "    # YOUR CODE HERE\n",
    "    global balance\n",
    "    balance += amount\n",
    "\n",
    "    # Write code here to add the `amount` to the `balance`.\n",
    "\n",
    "    print(\"You have deposited\" + str(balance) + \"birr\")\n",
    "    pass\n",
    "\n",
    "\n",
    "def withdraw(amount):\n",
    "    # YOUR CODE HERE\n",
    "\n",
    "    # Write code here to withdraw the `amount` from the `balance`.\n",
    "    # If the amount is larger than the balance, make sure to print a message\n",
    "    # telling the customer that the withdrawal is improper.\n",
    "\n",
    "    # As an example for how to write print statements,\n",
    "    # see the print line written above in the deposit function.\n",
    "    global balance\n",
    "    if amount > balance:\n",
    "        print(\"Withdraw is improper\")\n",
    "    else:\n",
    "        balance -= amount\n",
    "    pass\n",
    "\n",
    "\n",
    "def bank():\n",
    "    while True:\n",
    "        process = input(\"Deposit(d) or withdrawal(w) or balance check(c)? \")\n",
    "        if process == \"d\":\n",
    "            amount = float(input(\"How much do you want to deposit?\"))\n",
    "            deposit(amount)\n",
    "\n",
    "        if process == \"c\":\n",
    "            print('your current balance is ' + str(balance) + 'birr')\n",
    "\n",
    "        if process == \"w\":\n",
    "            amount = float(input(\"How much do you want to withdraw?\"))\n",
    "            withdraw(amount)\n",
    "        if process == \"stop\":\n",
    "            break\n",
    "        else:\n",
    "            print(\"Please type d, w, c, or stop, then press enter.\")\n",
    "            bank()\n",
    "\n",
    "\n",
    "bank()"
   ]
  },
  {
   "cell_type": "markdown",
   "metadata": {
    "colab_type": "text",
    "id": "5GoXC866-oC5"
   },
   "source": [
    "### Question 2\n",
    "\n",
    "Write a Python function that accepts a string and calculate the number of upper case letters and lower case letters.\n",
    "Sample String : 'The quick Brow Fox'\n",
    "\n",
    "Expected Output : \n",
    "\n",
    "No. of Upper case characters : 3\n",
    "\n",
    "No. of Lower case Characters : 12"
   ]
  },
  {
   "cell_type": "code",
   "execution_count": null,
   "metadata": {
    "colab": {},
    "colab_type": "code",
    "id": "7SmS01zr-oC7"
   },
   "outputs": [],
   "source": [
    "def upper_lower(s):\n",
    "    # Your code here.\n",
    "    help()\n",
    "\n",
    "\n",
    "upper_lower(\"The quick Brow Fox\")"
   ]
  },
  {
   "cell_type": "markdown",
   "metadata": {
    "colab_type": "text",
    "id": "ohJaFN12-oDA"
   },
   "source": [
    "### Question 3"
   ]
  },
  {
   "cell_type": "markdown",
   "metadata": {
    "colab_type": "text",
    "id": "95O5P10x-oDB"
   },
   "source": [
    "Write a Python function that takes a list and returns a new list with unique elements of the first list. \n",
    "\n",
    "Sample List : `[1, 2 ,3, 3, 3, 3, 4, 5]`\n",
    "\n",
    "Unique List : `[1, 2, 3, 4, 5]`"
   ]
  },
  {
   "cell_type": "code",
   "execution_count": null,
   "metadata": {
    "colab": {},
    "colab_type": "code",
    "id": "S-thv04I-oDC"
   },
   "outputs": [],
   "source": [
    "lst = [1, 2, 3, 3, 3, 3, 4, 5]\n",
    "\n",
    "\n",
    "def unique_lst(l):\n",
    "    # Your code here.\n",
    "\n",
    "\n",
    "unique_lst(lst)  # Should be [1,2,3,4,5]"
   ]
  },
  {
   "cell_type": "markdown",
   "metadata": {
    "colab_type": "text",
    "id": "tanp6CMx-oDH"
   },
   "source": [
    "### Question 4\n",
    "Write a Python function to check whether a number is perfect or not. \n",
    "\n",
    "Note: In number theory, a perfect number is a positive integer that is equal to the sum of its proper positive \n",
    "divisors, that is, the sum of its positive divisors excluding the number itself. Equivalently, a perfect number is a number that is half the sum of all of its positive divisors (including itself).\n",
    "\n",
    "Example : The first perfect number is 6, because 1, 2, and 3 are its proper positive divisors, and `1 + 2 + 3 = 6`. Equivalently, the number 6 is equal to half the sum of all its positive divisors: `( 1 + 2 + 3 + 6 ) / 2 = 6`. \n",
    "\n",
    "The next perfect number is `28 = 1 + 2 + 4 + 7 + 14`. This is followed by the perfect numbers 496 and 8128."
   ]
  },
  {
   "cell_type": "code",
   "execution_count": null,
   "metadata": {
    "colab": {},
    "colab_type": "code",
    "id": "B79CZDc6-oDI"
   },
   "outputs": [],
   "source": [
    "def is_perfect(n):\n",
    "    # Your code here.\n",
    "\n",
    "\n",
    "is_perfect(6)  # Should be True"
   ]
  },
  {
   "cell_type": "markdown",
   "metadata": {
    "colab_type": "text",
    "id": "5GDL3ctC-oDO"
   },
   "source": [
    "### Question 5\n",
    "Write a Python function to check whether a string is a pangram or not. \n",
    "\n",
    "Note : Pangrams are words or sentences containing every letter of the alphabet at least once.\n",
    "For example : \"The quick brown fox jumps over the lazy dog\" "
   ]
  },
  {
   "cell_type": "code",
   "execution_count": null,
   "metadata": {
    "colab": {},
    "colab_type": "code",
    "id": "QszScp92-oDQ"
   },
   "outputs": [],
   "source": [
    "def is_pangram(s):\n",
    "    # Your code here.\n",
    "\n",
    "\n",
    "is_pangram('The quick brown fox jumps over the lazy dog')  # Should be True"
   ]
  },
  {
   "cell_type": "markdown",
   "metadata": {},
   "source": [
    "# Question 6\n",
    "\n",
    "Given an integer `x`, return `true` if `x` is a palindrome, and `false` otherwise.\n",
    "\n",
    "Note:A palindrome is a word, phrase, number, or sequence of characters that reads the same forwards and backwards"
   ]
  },
  {
   "cell_type": "code",
   "execution_count": null,
   "metadata": {},
   "outputs": [],
   "source": [
    "def isPalindrome(x):\n",
    "    # Your code here.\n",
    "\n",
    "# Test your code here.\n",
    "print(isPalindrome(121))  # Should be True\n",
    "print(isPalindrome(126621))  # Should be True\n",
    "print(isPalindrome(42214))  # Should be False"
   ]
  },
  {
   "cell_type": "markdown",
   "metadata": {},
   "source": [
    "### **Recursion Questions**"
   ]
  },
  {
   "cell_type": "markdown",
   "metadata": {},
   "source": [
    "1. Write a recursive function to calculate the factorial of a given positive integer."
   ]
  },
  {
   "cell_type": "code",
   "execution_count": 81,
   "metadata": {},
   "outputs": [
    {
     "data": {
      "text/plain": [
       "6"
      ]
     },
     "execution_count": 81,
     "metadata": {},
     "output_type": "execute_result"
    }
   ],
   "source": [
    "def factorial(x):\n",
    "     product = 1\n",
    "     y = 1\n",
    "     while y <= x:\n",
    "         product *= y\n",
    "         y += 1\n",
    "     return product\n",
    "\n",
    "        \n",
    "\n",
    "factorial(3)"
   ]
  },
  {
   "cell_type": "code",
   "execution_count": null,
   "metadata": {},
   "outputs": [],
   "source": []
  },
  {
   "cell_type": "markdown",
   "metadata": {},
   "source": [
    "2. Create a recursive function to find the nth term in the Fibonacci sequence."
   ]
  },
  {
   "cell_type": "code",
   "execution_count": 77,
   "metadata": {},
   "outputs": [
    {
     "name": "stdout",
     "output_type": "stream",
     "text": [
      "1\n",
      "1\n",
      "2\n",
      "3\n",
      "5\n",
      "8\n",
      "13\n",
      "21\n",
      "34\n",
      "55\n",
      "89\n",
      "144\n",
      "233\n",
      "377\n",
      "610\n",
      "987\n",
      "1597\n",
      "2584\n",
      "4181\n",
      "6765\n",
      "10946\n"
     ]
    }
   ],
   "source": [
    "# def fibonacci(n):\n",
    "#     # Write your code here\n",
    "\n",
    "# #Test your code here\n",
    "\n",
    "x = 0\n",
    "y = 1\n",
    "Sum = 0\n",
    "while (x < 10000):\n",
    "    temp = x\n",
    "    Sum = x + y\n",
    "    x = Sum\n",
    "    y = temp\n",
    "    print(Sum)"
   ]
  },
  {
   "cell_type": "markdown",
   "metadata": {},
   "source": [
    "3. Write a recursive function to calculate the sum of all elements in a given list."
   ]
  },
  {
   "cell_type": "code",
   "execution_count": null,
   "metadata": {},
   "outputs": [],
   "source": [
    "def recursive_sum(lst):\n",
    "    # Write your code here\n",
    "\n",
    "#Test your code here"
   ]
  },
  {
   "cell_type": "markdown",
   "metadata": {},
   "source": [
    "4. Create a recursive function to find the sum of all natural numbers up to a given positive integer."
   ]
  },
  {
   "cell_type": "code",
   "execution_count": null,
   "metadata": {},
   "outputs": [],
   "source": [
    "def recursive_sum_natural(n):\n",
    "    # Write your code here\n",
    "\n",
    "#Test your code"
   ]
  }
 ],
 "metadata": {
  "colab": {
   "collapsed_sections": [],
   "name": "probs4b_solutions.ipynb",
   "provenance": [],
   "version": "0.3.2"
  },
  "kernelspec": {
   "display_name": "Python 3 (ipykernel)",
   "language": "python",
   "name": "python3"
  },
  "language_info": {
   "codemirror_mode": {
    "name": "ipython",
    "version": 3
   },
   "file_extension": ".py",
   "mimetype": "text/x-python",
   "name": "python",
   "nbconvert_exporter": "python",
   "pygments_lexer": "ipython3",
   "version": "3.11.4"
  }
 },
 "nbformat": 4,
 "nbformat_minor": 4
}
