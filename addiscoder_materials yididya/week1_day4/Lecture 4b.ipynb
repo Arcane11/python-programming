{
 "cells": [
  {
   "cell_type": "markdown",
   "id": "a2d40a77",
   "metadata": {},
   "source": [
    "# Welcome back\n",
    "\n",
    "How was lab? Was anything confusing? "
   ]
  },
  {
   "cell_type": "markdown",
   "id": "312f0418",
   "metadata": {},
   "source": [
    "# Review\n",
    "\n",
    "Last time we covered functions. Functions are critical to programming."
   ]
  },
  {
   "cell_type": "markdown",
   "id": "236d480e",
   "metadata": {},
   "source": [
    "# Syntax for functions\n",
    "\n",
    "The general syntax for functions is:\n",
    "```python\n",
    "def function_name(<arguments>):\n",
    "    <body>\n",
    "    return <expression>\n",
    "```\n",
    "\n",
    "There are several things to note about the syntax (we will go through examples):\n",
    "- You can have zero, one, or more arguments.\n",
    "- You need the `:` after the function\n",
    "- The body can be complex!\n",
    "- You technically don't need a return statement at the end, but we will almost alway have a return at the end"
   ]
  },
  {
   "cell_type": "code",
   "execution_count": 2,
   "id": "8da5bf91",
   "metadata": {},
   "outputs": [
    {
     "data": {
      "text/plain": [
       "1"
      ]
     },
     "execution_count": 2,
     "metadata": {},
     "output_type": "execute_result"
    }
   ],
   "source": [
    "def minimum_two(x, y):\n",
    "    if x < y:\n",
    "        return x\n",
    "    else:\n",
    "        return y\n",
    "\n",
    "minimum_two(1, 2)"
   ]
  },
  {
   "cell_type": "code",
   "execution_count": 3,
   "id": "244223e3",
   "metadata": {},
   "outputs": [
    {
     "data": {
      "text/plain": [
       "1"
      ]
     },
     "execution_count": 3,
     "metadata": {},
     "output_type": "execute_result"
    }
   ],
   "source": [
    "def min_list(l):\n",
    "    minimum = l[0]\n",
    "    for x in l[1:]:\n",
    "        minimum = minimum_two(minimum, x)\n",
    "    return minimum\n",
    "\n",
    "min_list([6, 5, 4, 3, 2, 1])"
   ]
  },
  {
   "cell_type": "code",
   "execution_count": 4,
   "id": "2580891e",
   "metadata": {},
   "outputs": [
    {
     "data": {
      "text/plain": [
       "1"
      ]
     },
     "execution_count": 4,
     "metadata": {},
     "output_type": "execute_result"
    }
   ],
   "source": [
    "min(1, 2)"
   ]
  },
  {
   "cell_type": "code",
   "execution_count": 5,
   "id": "6790789b",
   "metadata": {},
   "outputs": [
    {
     "data": {
      "text/plain": [
       "2"
      ]
     },
     "execution_count": 5,
     "metadata": {},
     "output_type": "execute_result"
    }
   ],
   "source": [
    "max(1, 2)"
   ]
  },
  {
   "cell_type": "markdown",
   "id": "218543c6",
   "metadata": {},
   "source": [
    "# You cannot use certain words in Python as variables\n",
    "\n",
    "Conversion:\n",
    "- `int`\n",
    "- `float`\n",
    "- `bool`\n",
    "- `str`\n",
    "- `list`\n",
    "- `dict`\n",
    "\n",
    "Build in:\n",
    "- `min`\n",
    "- `max`\n",
    "- `sum`\n",
    "\n",
    "DO NOT USE THESE AS VARIABLE NAMES"
   ]
  },
  {
   "cell_type": "markdown",
   "id": "fd3a6996",
   "metadata": {},
   "source": [
    "# Function examples\n",
    "\n",
    "We will go through examples of functions"
   ]
  },
  {
   "cell_type": "code",
   "execution_count": 8,
   "id": "b2d48bc8",
   "metadata": {},
   "outputs": [
    {
     "data": {
      "text/plain": [
       "15"
      ]
     },
     "execution_count": 8,
     "metadata": {},
     "output_type": "execute_result"
    }
   ],
   "source": [
    "def sum_list(l):\n",
    "    s = 0\n",
    "    for x in l:\n",
    "        s += x\n",
    "    return s\n",
    "\n",
    "sum_list([1, 2, 3, 4, 5])"
   ]
  },
  {
   "cell_type": "code",
   "execution_count": 14,
   "id": "aa2a6544",
   "metadata": {},
   "outputs": [
    {
     "name": "stdout",
     "output_type": "stream",
     "text": [
      "True\n",
      "True\n",
      "False\n"
     ]
    }
   ],
   "source": [
    "def is_palindrome(s):\n",
    "    for ind in range(len(s)):\n",
    "        if s[ind] != s[len(s) - ind - 1]:\n",
    "            return False\n",
    "    return True\n",
    "\n",
    "print(is_palindrome(\"abccba\"))\n",
    "print(is_palindrome(\"abcba\"))\n",
    "print(is_palindrome(\"abcbab\"))"
   ]
  },
  {
   "cell_type": "markdown",
   "id": "eb3bc4ac",
   "metadata": {},
   "source": [
    "# Functions can call other functions"
   ]
  },
  {
   "cell_type": "code",
   "execution_count": 16,
   "id": "4fc204bf",
   "metadata": {},
   "outputs": [
    {
     "data": {
      "text/plain": [
       "3"
      ]
     },
     "execution_count": 16,
     "metadata": {},
     "output_type": "execute_result"
    }
   ],
   "source": [
    "def add_two_numbers(x, y):\n",
    "    return x + y\n",
    "\n",
    "add_two_numbers(1, 2)"
   ]
  },
  {
   "cell_type": "code",
   "execution_count": 17,
   "id": "1277d861",
   "metadata": {},
   "outputs": [
    {
     "data": {
      "text/plain": [
       "6"
      ]
     },
     "execution_count": 17,
     "metadata": {},
     "output_type": "execute_result"
    }
   ],
   "source": [
    "def add_three_numbers(x, y, z):\n",
    "    sum_two = add_two_numbers(x, y)\n",
    "    return sum_two + z\n",
    "\n",
    "add_three_numbers(1, 2, 3)"
   ]
  },
  {
   "cell_type": "markdown",
   "id": "3e7e101b",
   "metadata": {},
   "source": [
    "# Functions can _call themselves_"
   ]
  },
  {
   "cell_type": "code",
   "execution_count": 18,
   "id": "3aa7b083",
   "metadata": {},
   "outputs": [
    {
     "name": "stdout",
     "output_type": "stream",
     "text": [
      "2\n",
      "1\n",
      "0\n"
     ]
    },
    {
     "data": {
      "text/plain": [
       "0"
      ]
     },
     "execution_count": 18,
     "metadata": {},
     "output_type": "execute_result"
    }
   ],
   "source": [
    "def calls_itself(x):\n",
    "    if x < 0:\n",
    "        return 0\n",
    "    else:\n",
    "        print(x)\n",
    "        return calls_itself(x - 1)\n",
    "\n",
    "calls_itself(2)"
   ]
  },
  {
   "cell_type": "code",
   "execution_count": 19,
   "id": "b9b04ab6",
   "metadata": {},
   "outputs": [
    {
     "data": {
      "text/plain": [
       "6"
      ]
     },
     "execution_count": 19,
     "metadata": {},
     "output_type": "execute_result"
    }
   ],
   "source": [
    "def sum_list(l):\n",
    "    if len(l) == 0:\n",
    "        return 0\n",
    "    return l[0] + sum_list(l[1:])\n",
    "\n",
    "\n",
    "sum_list([1, 2, 3])"
   ]
  },
  {
   "cell_type": "markdown",
   "id": "639bcdff",
   "metadata": {},
   "source": [
    "\n",
    "# WARNING: IF A FUNCTION CALLS ITSELF, IT MUST STOP AT SOME POINT"
   ]
  },
  {
   "cell_type": "code",
   "execution_count": null,
   "id": "4894f368",
   "metadata": {},
   "outputs": [],
   "source": [
    "# WARNING\n",
    "# WARNING\n",
    "# WARNING\n",
    "# DO NOT RUN THIS CELL\n",
    "\n",
    "def calls_itself(x):\n",
    "    print(x)\n",
    "    return calls_itself(x - 1)\n",
    "\n",
    "calls_itself(2)"
   ]
  },
  {
   "cell_type": "markdown",
   "id": "e95e0935",
   "metadata": {},
   "source": [
    "# Recursion\n",
    "\n",
    "When a function calls itself, it is called _recursion_. This is a powerful, yet confusing concept."
   ]
  },
  {
   "cell_type": "code",
   "execution_count": 29,
   "id": "d041a021",
   "metadata": {},
   "outputs": [
    {
     "data": {
      "text/plain": [
       "32"
      ]
     },
     "execution_count": 29,
     "metadata": {},
     "output_type": "execute_result"
    }
   ],
   "source": [
    "def nth_power(x, nth):\n",
    "    if nth == 0:\n",
    "        return 1\n",
    "    return x * nth_power(x, nth - 1)\n",
    "\n",
    "nth_power(2, 5)"
   ]
  },
  {
   "cell_type": "code",
   "execution_count": 24,
   "id": "7ec405ef",
   "metadata": {},
   "outputs": [
    {
     "data": {
      "text/plain": [
       "21"
      ]
     },
     "execution_count": 24,
     "metadata": {},
     "output_type": "execute_result"
    }
   ],
   "source": [
    "def fibonacci(n):\n",
    "    if n < 0:\n",
    "        return 0\n",
    "    if n == 0 or n == 1:\n",
    "        return n\n",
    "    return fibonacci(n - 1) + fibonacci(n - 2)\n",
    "\n",
    "fibonacci(8)"
   ]
  },
  {
   "cell_type": "code",
   "execution_count": 26,
   "id": "1a55d094",
   "metadata": {},
   "outputs": [
    {
     "data": {
      "text/plain": [
       "120"
      ]
     },
     "execution_count": 26,
     "metadata": {},
     "output_type": "execute_result"
    }
   ],
   "source": [
    "def factorial(x):\n",
    "    if x == 1:\n",
    "        return 1\n",
    "    return x * factorial(x - 1)\n",
    "\n",
    "factorial(5)"
   ]
  },
  {
   "cell_type": "code",
   "execution_count": 31,
   "id": "71efcb7a",
   "metadata": {},
   "outputs": [
    {
     "data": {
      "text/plain": [
       "15"
      ]
     },
     "execution_count": 31,
     "metadata": {},
     "output_type": "execute_result"
    }
   ],
   "source": [
    "def sum_n(n):\n",
    "    if n == 1:\n",
    "        return 1\n",
    "    return n + sum_n(n - 1)\n",
    "\n",
    "sum_n(5)"
   ]
  },
  {
   "cell_type": "code",
   "execution_count": 32,
   "id": "ebafd91f",
   "metadata": {},
   "outputs": [
    {
     "data": {
      "text/plain": [
       "'ih'"
      ]
     },
     "execution_count": 32,
     "metadata": {},
     "output_type": "execute_result"
    }
   ],
   "source": [
    "def reverse(s):\n",
    "    if len(s) == 0:\n",
    "        return s\n",
    "    else:\n",
    "        return reverse(s[1:]) + s[0]\n",
    "    \n",
    "reverse(\"hi\")"
   ]
  },
  {
   "cell_type": "code",
   "execution_count": 35,
   "id": "3a72ef1f",
   "metadata": {},
   "outputs": [
    {
     "name": "stdout",
     "output_type": "stream",
     "text": [
      "True\n",
      "True\n",
      "False\n"
     ]
    }
   ],
   "source": [
    "def is_palindrome(s):\n",
    "    if len(s) <= 1:\n",
    "        return True\n",
    "    return (s[0] == s[-1]) and is_palindrome(s[1:-1])\n",
    "\n",
    "print(is_palindrome(\"abccba\"))\n",
    "print(is_palindrome(\"abcba\"))\n",
    "print(is_palindrome(\"abcbab\"))"
   ]
  },
  {
   "cell_type": "code",
   "execution_count": null,
   "id": "dc07c09a",
   "metadata": {},
   "outputs": [],
   "source": []
  }
 ],
 "metadata": {
  "kernelspec": {
   "display_name": "Python 3 (ipykernel)",
   "language": "python",
   "name": "python3"
  },
  "language_info": {
   "codemirror_mode": {
    "name": "ipython",
    "version": 3
   },
   "file_extension": ".py",
   "mimetype": "text/x-python",
   "name": "python",
   "nbconvert_exporter": "python",
   "pygments_lexer": "ipython3",
   "version": "3.9.16"
  }
 },
 "nbformat": 4,
 "nbformat_minor": 5
}
