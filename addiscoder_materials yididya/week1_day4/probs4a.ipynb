{
 "cells": [
  {
   "cell_type": "markdown",
   "id": "02a3fffe-d688-47ee-a755-5f020ba9faf0",
   "metadata": {},
   "source": [
    "# Loop unrolling"
   ]
  },
  {
   "cell_type": "markdown",
   "id": "b8514638-8b32-4ccc-aaaf-341aede2512f",
   "metadata": {},
   "source": [
    "Loops **repeat** the content of their **body**. To understand what exactly is happening, we can **unroll** the loop.\n",
    "\n",
    "Example:"
   ]
  },
  {
   "cell_type": "code",
   "execution_count": 1,
   "id": "5ec9995c-8ff7-4df4-8dcc-ed629e2c8dec",
   "metadata": {},
   "outputs": [
    {
     "name": "stdout",
     "output_type": "stream",
     "text": [
      "1\n",
      "4\n",
      "3\n",
      "6\n"
     ]
    }
   ],
   "source": [
    "for i in [1, 4, 3, 6]:\n",
    "    print(i)  # loop body"
   ]
  },
  {
   "cell_type": "markdown",
   "id": "080b61bc-7fe1-41b9-b5ba-0bc054a31220",
   "metadata": {},
   "source": [
    "To unroll, we repeat the body for each repetition to get the exact same result:"
   ]
  },
  {
   "cell_type": "code",
   "execution_count": 2,
   "id": "da6ef183-c153-44a3-a5e4-bb8ddc1f9ac8",
   "metadata": {},
   "outputs": [
    {
     "name": "stdout",
     "output_type": "stream",
     "text": [
      "1\n",
      "4\n",
      "3\n",
      "6\n"
     ]
    }
   ],
   "source": [
    "# First repetition\n",
    "i = 1     # assignment of loop variable\n",
    "print(i)  # loop body\n",
    "# Second repetition\n",
    "i = 4     # assignment of loop variable\n",
    "print(i)  # loop body\n",
    "# Third repetition\n",
    "i = 3     # assignment of loop variable\n",
    "print(i)  # loop body\n",
    "# Fourth repetition\n",
    "i = 6     # assignment of loop variable\n",
    "print(i)  # loop body"
   ]
  },
  {
   "cell_type": "markdown",
   "id": "30d61cbe-98ec-46af-b932-ed4187fafa9a",
   "metadata": {},
   "source": [
    "If you run each of the code pieces, both produce the **same result**."
   ]
  },
  {
   "cell_type": "markdown",
   "id": "5d03a1d8-775d-4a0c-98b2-63ce5bd255c0",
   "metadata": {},
   "source": [
    "---"
   ]
  },
  {
   "cell_type": "markdown",
   "id": "f2243df1-68cb-4f0e-addd-5a1da6cacc14",
   "metadata": {},
   "source": [
    "Unrolled loops can sometimes become very long (that why we are using loops in the end!).\n",
    "Look at this code."
   ]
  },
  {
   "cell_type": "code",
   "execution_count": 3,
   "id": "23e21afd-3a6d-457c-adaf-8e2ff0379de4",
   "metadata": {},
   "outputs": [
    {
     "name": "stdout",
     "output_type": "stream",
     "text": [
      "1\n",
      "3\n",
      "5\n"
     ]
    },
    {
     "data": {
      "text/plain": [
       "9"
      ]
     },
     "execution_count": 3,
     "metadata": {},
     "output_type": "execute_result"
    }
   ],
   "source": [
    "# Sum up odd numbers up to 5\n",
    "total = 0\n",
    "for i in range(6):  # range(6) is the same as [0, 1, 2, 3, 4, 5]\n",
    "    if i % 2 == 1:\n",
    "        print(i)\n",
    "        total += i\n",
    "total"
   ]
  },
  {
   "cell_type": "markdown",
   "id": "b24226a6-d566-4c19-b26f-18c159f67f24",
   "metadata": {},
   "source": [
    "Again, we write out each repetition of the loop explicitly."
   ]
  },
  {
   "cell_type": "code",
   "execution_count": 4,
   "id": "8750efec-41d9-430c-a133-aab389353b87",
   "metadata": {},
   "outputs": [
    {
     "name": "stdout",
     "output_type": "stream",
     "text": [
      "1\n",
      "3\n",
      "5\n"
     ]
    },
    {
     "data": {
      "text/plain": [
       "9"
      ]
     },
     "execution_count": 4,
     "metadata": {},
     "output_type": "execute_result"
    }
   ],
   "source": [
    "# Sum up odd numbers up to 5\n",
    "total = 0\n",
    "# First repetition\n",
    "i = 0  # assignment of loop variable\n",
    "if i % 2 == 1:\n",
    "    print(i)\n",
    "    total += i\n",
    "# Second repetition\n",
    "i = 1  # assignment of loop variable\n",
    "if i % 2 == 1:\n",
    "    print(i)\n",
    "    total += i\n",
    "# Third repetition\n",
    "i = 2  # assignment of loop variable\n",
    "if i % 2 == 1:\n",
    "    print(i)\n",
    "    total += i\n",
    "# Fourth repetition\n",
    "i = 3  # assignment of loop variable\n",
    "if i % 2 == 1:\n",
    "    print(i)\n",
    "    total += i\n",
    "# Fifth repetition\n",
    "i = 4  # assignment of loop variable\n",
    "if i % 2 == 1:\n",
    "    print(i)\n",
    "    total += i\n",
    "# Sixth repetition\n",
    "i = 5  # assignment of loop variable\n",
    "if i % 2 == 1:\n",
    "    print(i)\n",
    "    total += i\n",
    "# Code the follows the loop\n",
    "total"
   ]
  },
  {
   "cell_type": "markdown",
   "id": "9d5ff474-cc1c-4c64-9061-81cd48684ffa",
   "metadata": {},
   "source": [
    "Again, if you run each of the code pieces, both produce the **same result**."
   ]
  },
  {
   "cell_type": "markdown",
   "id": "805e2463-9d81-401b-a63f-d828f38122e1",
   "metadata": {},
   "source": [
    "### Exercise"
   ]
  },
  {
   "cell_type": "markdown",
   "id": "a830d436-1d80-4d60-830d-ef8eaecb8459",
   "metadata": {},
   "source": [
    "Look at the following code."
   ]
  },
  {
   "cell_type": "code",
   "execution_count": 5,
   "id": "326574ad-89d4-4b1f-8a39-ff64b2344b83",
   "metadata": {},
   "outputs": [
    {
     "data": {
      "text/plain": [
       "30"
      ]
     },
     "execution_count": 5,
     "metadata": {},
     "output_type": "execute_result"
    }
   ],
   "source": [
    "sum_of_squares = 0\n",
    "for y in [1, 2, 3, 4]:\n",
    "    sum_of_squares += y * y  # loop body\n",
    "sum_of_squares"
   ]
  },
  {
   "cell_type": "markdown",
   "id": "5629bdfc-97a7-4b58-bb79-d79e84456f14",
   "metadata": {},
   "source": [
    "**Unroll** the loop by writing out each repetition of the loop explicitly!"
   ]
  },
  {
   "cell_type": "code",
   "execution_count": null,
   "id": "9a4996ee-4bac-4a60-b841-4eff09f665c7",
   "metadata": {},
   "outputs": [],
   "source": []
  },
  {
   "cell_type": "markdown",
   "id": "daa3fb2c-b133-4ab6-8bfb-39b5050ee326",
   "metadata": {},
   "source": [
    "Run your code and make sure it shows the same result as the original code!"
   ]
  },
  {
   "cell_type": "markdown",
   "id": "aaeb83f1-707a-4098-8866-2547be6f9263",
   "metadata": {},
   "source": [
    "### Exercise"
   ]
  },
  {
   "cell_type": "markdown",
   "id": "45792ee2-c29e-4f69-b3b3-2da3827936b3",
   "metadata": {},
   "source": [
    "Look at the following code from the lecture."
   ]
  },
  {
   "cell_type": "code",
   "execution_count": null,
   "id": "10c8983a-2b9c-4d5f-9642-96805a4e37a6",
   "metadata": {},
   "outputs": [],
   "source": [
    "x = [1, 2, 3, 4]\n",
    "y = [5, 6, 7, 8]\n",
    "mul_sum = 0\n",
    "for ind in range(len(x)):\n",
    "    product = x[ind] * y[ind]\n",
    "    mul_sum += product\n",
    "mul_sum"
   ]
  },
  {
   "cell_type": "markdown",
   "id": "fd114694-c791-41ee-8f50-dba9cd2c8a8c",
   "metadata": {},
   "source": [
    "What is `len(x)`? **Your answer here** 4\n",
    "\n",
    "Expressed as a list, what is `range(len(x))`? **Your answer here** [0,1,2,3]"
   ]
  },
  {
   "cell_type": "markdown",
   "id": "eecf3812-3fa1-41fc-b976-63a5d507b1fe",
   "metadata": {},
   "source": [
    "Now **unroll** the loop by writing out each repetition of the loop explicitly!"
   ]
  },
  {
   "cell_type": "code",
   "execution_count": null,
   "id": "ec5729c6-f56e-41a3-ad2f-50cfc2e35b48",
   "metadata": {},
   "outputs": [],
   "source": []
  },
  {
   "cell_type": "markdown",
   "id": "8929bda2-18ba-4ae7-8f5a-0d8525bf539d",
   "metadata": {},
   "source": [
    "Run your code and make sure it shows the same result as the original code!"
   ]
  },
  {
   "cell_type": "markdown",
   "id": "c66cc7ef-ccf4-4410-89a3-beccebf029cb",
   "metadata": {},
   "source": [
    "## Loop unrolling: While loops"
   ]
  },
  {
   "cell_type": "markdown",
   "id": "467da7fb-993e-4b38-af7a-f86e40cdd028",
   "metadata": {},
   "source": [
    "You can also unroll while loops. This is trickier because you don't know yet how many times the loop will run."
   ]
  },
  {
   "cell_type": "code",
   "execution_count": 6,
   "id": "09a155ee-9403-47dc-86f9-d11287b8baf7",
   "metadata": {},
   "outputs": [
    {
     "name": "stdout",
     "output_type": "stream",
     "text": [
      "1\n",
      "2\n",
      "4\n",
      "8\n",
      "16\n",
      "32\n",
      "64\n"
     ]
    }
   ],
   "source": [
    "# print powers of 2 less than 100\n",
    "n = 1\n",
    "while n < 100:\n",
    "    print(n)  # loop body\n",
    "    n *= 2    # loop body"
   ]
  },
  {
   "cell_type": "markdown",
   "id": "fb20e542-6e82-4713-8056-ca533b92d30e",
   "metadata": {},
   "source": [
    "To unroll the loop, we need to keep track of the values of the variables, so that we know when the **condition** becomes false and the loop finished."
   ]
  },
  {
   "cell_type": "code",
   "execution_count": 7,
   "id": "06250317-b8ca-43dd-ade8-9259b0dd3b5c",
   "metadata": {},
   "outputs": [
    {
     "name": "stdout",
     "output_type": "stream",
     "text": [
      "1\n",
      "2\n",
      "4\n",
      "8\n",
      "16\n"
     ]
    }
   ],
   "source": [
    "# print powers of 2 less than 25\n",
    "n = 1\n",
    "# We need to check if n < 25. Because n = 1 and 1 < 25 == True, we run the loop body\n",
    "print(n)\n",
    "n *= 2  # now n = 2\n",
    "# We need to check if n < 25. Because n = 2 and 2 < 25 == True, we run the loop body\n",
    "print(n)\n",
    "n *= 2  # now n = 4\n",
    "# We need to check if n < 25. Because n = 4 and 4 < 25 == True, we run the loop body\n",
    "print(n)\n",
    "n *= 2  # now n = 8\n",
    "# We need to check if n < 25. Because n = 8 and 8 < 25 == True, we run the loop body\n",
    "print(n)\n",
    "n *= 2  # now n = 16\n",
    "# We need to check if n < 25. Because n = 16 and 16 < 25 == True, we run the loop body\n",
    "print(n)\n",
    "n *= 2  # now n = 32\n",
    "# We need to check if n < 25. Because n = 32 and 32 < 25 == True, we are finished!"
   ]
  },
  {
   "cell_type": "markdown",
   "id": "fd08eb1d-0363-4779-8763-82fa467d57ec",
   "metadata": {},
   "source": [
    "If you run each of the code pieces, both produce the **same result**."
   ]
  },
  {
   "cell_type": "markdown",
   "id": "dcda4f34-c4b6-428e-b774-9713e8087847",
   "metadata": {},
   "source": [
    "---"
   ]
  },
  {
   "cell_type": "markdown",
   "id": "8654a414-491d-4c1f-952a-7c94acf05d42",
   "metadata": {},
   "source": [
    "### Exercise\n",
    "\n",
    "Look at the following code from the lecture."
   ]
  },
  {
   "cell_type": "code",
   "execution_count": 8,
   "id": "22360933-4010-44a0-afee-687846262999",
   "metadata": {},
   "outputs": [
    {
     "name": "stdout",
     "output_type": "stream",
     "text": [
      "55\n"
     ]
    }
   ],
   "source": [
    "# Compute the sum of the first 5 square numbers\n",
    "i = 1\n",
    "summ = 0\n",
    "while i <= 5:\n",
    "    summ += i**2\n",
    "    i += 1\n",
    "print(summ)"
   ]
  },
  {
   "cell_type": "markdown",
   "id": "f46055d6-38c3-4795-9aca-2d5a73099158",
   "metadata": {},
   "source": [
    "**Unroll** the loop by writing out each repetition of the loop explicitly!"
   ]
  },
  {
   "cell_type": "code",
   "execution_count": null,
   "id": "86f883c2-d1b3-49bb-87dd-40f7660db95c",
   "metadata": {},
   "outputs": [],
   "source": []
  },
  {
   "cell_type": "markdown",
   "id": "86c5bbe7-7ff4-4feb-9cd4-d6eb4008e0d1",
   "metadata": {},
   "source": [
    "Run your code and make sure it shows the same result as the original code!"
   ]
  },
  {
   "cell_type": "markdown",
   "id": "a76b07bd-ec8f-4184-93f1-efc4b45d30fa",
   "metadata": {},
   "source": [
    "---"
   ]
  },
  {
   "cell_type": "markdown",
   "id": "082ca371-8065-4ca8-b4cf-20843d753949",
   "metadata": {},
   "source": [
    "### Example\n",
    "\n",
    "Let's look at a more complex example using if statements."
   ]
  },
  {
   "cell_type": "code",
   "execution_count": 9,
   "id": "3b256584-500e-4a22-b5f6-da359ef2456f",
   "metadata": {},
   "outputs": [
    {
     "name": "stdout",
     "output_type": "stream",
     "text": [
      "41\n",
      "89\n",
      "Done.\n"
     ]
    }
   ],
   "source": [
    "lst = [41, 2, 89]\n",
    "i = 0\n",
    "while i < len(lst):\n",
    "    if lst[i] > 20:\n",
    "        print(lst[i])\n",
    "    i += 1\n",
    "print(\"Done.\")"
   ]
  },
  {
   "cell_type": "markdown",
   "id": "149945a4-b311-495a-bb85-e8e37804bf05",
   "metadata": {},
   "source": [
    "After unrolling, we get the following code:"
   ]
  },
  {
   "cell_type": "code",
   "execution_count": 10,
   "id": "7257f033-ce9f-43d6-8156-bf3b45257f98",
   "metadata": {},
   "outputs": [
    {
     "name": "stdout",
     "output_type": "stream",
     "text": [
      "41\n",
      "89\n",
      "Done.\n"
     ]
    }
   ],
   "source": [
    "lst = [41, 2, 89]\n",
    "i = 0\n",
    "# We need to check if i < len(lst). Because i = 0 and 0 < 3 == True, we run the loop body\n",
    "if lst[i] > 20:\n",
    "    print(lst[i])\n",
    "i += 1  # i = 1\n",
    "# We need to check if i < len(lst). Because i = 1 and 1 < 3 == True, we run the loop body\n",
    "if lst[i] > 20:\n",
    "    print(lst[i])\n",
    "i += 1  # i = 2\n",
    "# We need to check if i < len(lst). Because i = 2 and 2 < 3 == True, we run the loop body\n",
    "if lst[i] > 20:\n",
    "    print(lst[i])\n",
    "i += 1  # i = 3\n",
    "lst = [41, 2, 89]\n",
    "# We need to check if i < len(lst). Because i = 3 and 3 < 3 == False, we are finished\n",
    "print(\"Done.\")"
   ]
  },
  {
   "cell_type": "markdown",
   "id": "ba8e48a5-6959-457b-80df-252077520ffa",
   "metadata": {},
   "source": [
    "If you run each of the code pieces, both produce the **same result**."
   ]
  },
  {
   "cell_type": "markdown",
   "id": "ad56651a-b453-4068-80d8-f736addb5522",
   "metadata": {},
   "source": [
    "Notice how we need to keep track of the value of `i` in order to know whether the while loop repeats or stops.\n",
    "\n",
    "When analysing and understanding code, it often helps to keep track of all variables that appear in the code. That way, we can also see what happens in the loop body, for example, if some if condition is true or false.\n",
    "\n",
    "To do this systematically, we can do something called **program tracing**."
   ]
  },
  {
   "cell_type": "markdown",
   "id": "396523ce-552b-4900-9bc5-0ec75016d0e6",
   "metadata": {
    "tags": []
   },
   "source": [
    "---"
   ]
  },
  {
   "cell_type": "markdown",
   "id": "29eb79c6-cebf-4cf5-95f4-37708abc795e",
   "metadata": {
    "tags": []
   },
   "source": [
    "## Program Tracing"
   ]
  },
  {
   "cell_type": "markdown",
   "id": "38abaf88-848d-4293-a5bf-b5e96e29b0fd",
   "metadata": {},
   "source": [
    "Let's talk about tracing your program. Tracing is stepping through the program line by line, and figuring out what is happening after each line. This is a very powerful way to figure out what is going on in your program!"
   ]
  },
  {
   "cell_type": "markdown",
   "id": "496d0366-b731-4543-bff7-5573000ce197",
   "metadata": {},
   "source": [
    "### Example 1. No Loops or Conditionals"
   ]
  },
  {
   "cell_type": "markdown",
   "id": "1430a71c-7f4a-44f1-8a8f-059b768a80b4",
   "metadata": {},
   "source": [
    "Consider this program:\n",
    "```\n",
    "a = 3      # Line 1\n",
    "b = 5      # Line 2\n",
    "temp = a   # *Line 3*\n",
    "a = b      # Line 4\n",
    "b = temp   # Line 5\n",
    "```\n",
    "#### 1.1 What is the value of a, b, and temp **after** Line 3?"
   ]
  },
  {
   "cell_type": "code",
   "execution_count": null,
   "id": "0b0b502e-f03d-4218-8bed-2c4dd0611114",
   "metadata": {},
   "outputs": [],
   "source": [
    "# Fill in the blanks:\n",
    "# a = ??? 5\n",
    "# b = ??? 3\n",
    "# temp = ??? 3"
   ]
  },
  {
   "cell_type": "markdown",
   "id": "30f3a85a-bb2c-41ff-b55d-16a6800d3604",
   "metadata": {},
   "source": [
    "### Tracing Table"
   ]
  },
  {
   "cell_type": "markdown",
   "id": "6e1d4c36-6ec2-4443-b7ae-36fb80a98dd6",
   "metadata": {},
   "source": [
    "Now let's put that into a tracing table. A tracing table has one line of code on each row, and all the variables in the program as columns. Next to each line of code, you write down the value of each variable **after** that line of code executes. Tracing tables are helpful to understand how the variables change over the life of the program. Let's see what the tracing table looks like up to this point:\n",
    "\n",
    "| Code                  | a   | b   | temp |     |\n",
    "| :-                    | :-: | :-: | :-:  | --- |\n",
    "| `a = 3      # Line 1` |  3  |     |      |     |\n",
    "| `b = 5      # Line 2` |  3  |  5  |      |     |\n",
    "| `temp = a   # Line 3` |  3  |  5  |  3   |**<<**|\n",
    "| `a = b      # Line 4` |     |     |      |     |\n",
    "| `b = temp   # Line 5` |     |     |      |     |\n",
    "\n",
    "**<<** indicates where the program is currently.\n",
    "\n",
    "#### 1.2 Now fill in the rest of the table (Line 4 and Line 5) on a piece of paper before proceeding."
   ]
  },
  {
   "cell_type": "markdown",
   "id": "8d520f17-d181-4d1b-8156-58f523e11c73",
   "metadata": {
    "tags": []
   },
   "source": [
    "<details>\n",
    "<summary><b>Click here to see the solution</b></summary>\n",
    "\n",
    "Compare the tracing table on your sheet of paper to this one:\n",
    "\n",
    "| Code                  | a   | b   | temp |     |\n",
    "| :-                    | :-: | :-: | :-:  | --- |\n",
    "| `a = 3      # Line 1` |  3  |     |      |     |\n",
    "| `b = 5      # Line 2` |  3  |  5  |      |     |\n",
    "| `temp = a   # Line 3` |  3  |  5  |  3   |     |\n",
    "| `a = b      # Line 4` |  5  |  5  |  3   |     |\n",
    "| `b = temp   # Line 5` |  5  |  3  |  3   |**<<**|\n",
    "\n",
    "Notice how `a` has a new value (5) in Line 4, and `b` has a new value (3) in Line 5.\n",
    "\n",
    "</details>"
   ]
  },
  {
   "cell_type": "markdown",
   "id": "d2190adc-bc95-4030-bb3d-6a9c7605f5aa",
   "metadata": {},
   "source": [
    "### Example 2. Tracing With Loops"
   ]
  },
  {
   "cell_type": "markdown",
   "id": "6973eedb",
   "metadata": {},
   "source": [
    "Tracing is a bit trickier with loops. You will need to repeat the table of the loop one time per pass. Sometimes you don't know when the loop will end when you start tracing. For conditionals, you will ignore rows that do not get executed. The specific format of the tracing table is not important, what is important is that you understand it yourself, and that it helps you see what the program is doing.\n",
    "\n",
    "Take a look at this program from Day 3, which we just unrolled earlier. \n",
    "```\n",
    "lst = [41, 2, 89]\n",
    "i = 0\n",
    "while i < len(lst):\n",
    "    if lst[i] > 20:\n",
    "        print(lst[i])\n",
    "    i += 1\n",
    "```\n",
    "\n",
    "Because there is a loop, the table for this program will contain sections for multiple passes. This looks a bit like the unrolled loop in the earlier section.\n",
    "\n",
    "| Code                            | i   | lst[i] | i<len(lst)? ||\n",
    "| :-                              | :-: | :-:    | :-:         |---|\n",
    "| `lst = [41, 2, 89]`             |     |        |             ||\n",
    "| `i = 0`                         |  0  |        |             ||\n",
    "| **Pass 1**                      |     |        |             ||\n",
    "| `while i < len(lst):`           |  0  |   41   |    Yes      ||\n",
    "| `    if lst[i] > 20:`           |  0  |   41   |             ||\n",
    "| `        print(lst[i])`         |  0  |   41   |             |*(Print 41)*|\n",
    "| `    i += 1`                    |  1  |    2   |             ||\n",
    "| **Pass 2**                      |     |        |             ||\n",
    "| `while i < len(lst):`           |  1  |    2   |    Yes      ||\n",
    "| `    if lst[i] > 20:`           |  1  |    2   |             ||\n",
    "| `        print(lst[i])`         |     |        |             |*(Is skipped)*| \n",
    "| `    i += 1`                    |  2  |   89   |             ||\n",
    "| **Pass 3**                      |     |        |             ||\n",
    "| `while i < len(lst):`           |  2  |   89   |    Yes      ||\n",
    "| `    if lst[i] > 20:`           |  2  |   89   |             ||\n",
    "| `        print(lst[i])`         |  2  |   89   |             |*(Print 89)*|\n",
    "| `    i += 1`                    |  4  |    ?   |             ||\n",
    "| **Pass 3**                      |     |        |             ||\n",
    "| `while i < len(lst):`           |  4  |    ?   |   **No**    ||\n",
    "\n",
    "Notice that we added some useful columns to track like `lst[i]` and `i<len(lst)`. These are not variables per se, but they are useful to track."
   ]
  },
  {
   "cell_type": "markdown",
   "id": "9d188ac4-0f0b-41d4-ae01-4b8e40646f0c",
   "metadata": {},
   "source": [
    "### Try out tracing loops\n",
    "\n",
    "Try tracing this program on a piece of paper. This is from Day 3.\n",
    "\n",
    "#### 2.1 Trace this program on paper\n",
    "\n",
    "```\n",
    "# I want to add (and print) the first few numbers until their sum exceeds 100.\n",
    "# but nothing is being printed\n",
    "total = 0\n",
    "i = 1\n",
    "while total >= 100:\n",
    "    total += i\n",
    "    i += 1\n",
    "    print(i)\n",
    "```"
   ]
  },
  {
   "cell_type": "markdown",
   "id": "613f168c-083e-4331-8cf5-b12a2df46334",
   "metadata": {
    "tags": []
   },
   "source": [
    "<details>\n",
    "    <summary><b>Solution 2.1 -- Don't look until you've written out your answer**</b></summary>\n",
    "\n",
    "Solution for 2.1:\n",
    "\n",
    "| Code                  | i   | total | total>=100? ||\n",
    "| :-                    | :-: |  :-:  |     :-:     |---|\n",
    "| `total = 0`           |     |   0   |             ||\n",
    "| `i = 1`               |  1  |       |             ||\n",
    "| **Pass 1**            |     |       |             ||\n",
    "| `while total >= 100:` |     |       |    **No**   |*(Program ends!)*|\n",
    "| `    total += i`      |     |       |             ||\n",
    "| `    i += 1`          |     |       |             ||\n",
    "| `    print(i)`        |     |       |             ||\n",
    "\n",
    "This problem comes from Day 3 Exercise A7. The reason why this program is wrong is because the condition `total >= 1000` is False from the start, so it never prints anything. You can tell easily if you trace through it systematically.\n",
    "\n",
    "**How can you fix this?**\n",
    "\n",
    "</details>"
   ]
  },
  {
   "cell_type": "markdown",
   "id": "1e55f37b-d6b7-4655-8ae1-5cb9e3ec7049",
   "metadata": {},
   "source": [
    "#### 2.2 Trace this program on paper\n",
    "\n",
    "```\n",
    "# I want to print the first number in my list that's bigger than 10.\n",
    "# But the answer I get, 5, is certainly not bigger than 10.\n",
    "myList = [1,3,9,5,-1,13,5,11,2]\n",
    "number = 0\n",
    "while myList[number] <= 10:\n",
    "    number += 1\n",
    "print(number)\n",
    "```"
   ]
  },
  {
   "cell_type": "markdown",
   "id": "1a2b9670-9011-4fbe-9d23-0e722b2bcb9b",
   "metadata": {},
   "source": [
    "<details>\n",
    "    <summary><b>Solution 2.2 -- Don't look until you've written out your answer**</b></summary>\n",
    "\n",
    "Solution for 2.1:\n",
    "\n",
    "| Code                            | number | myList[number] | myList[number] <= 10? ||\n",
    "| :-                              | :-:    |  :-:           |     :-:               |---|\n",
    "| `myList = [1,3,9,5,-1,13,5,11,2]` |        |                |                       ||\n",
    "| `number = 0                    `  |   0    |                |                       ||\n",
    "| **Pass 1**                      |        |                |                       ||\n",
    "| `while myList[number] <= 10:   `  |   0    |       1        |         Yes           ||\n",
    "| `    number += 1               `  |   1    |       1        |         Yes           ||\n",
    "| **Pass 2**                      |        |                |                       ||\n",
    "| `while myList[number] <= 10:   `  |   1    |       1        |         Yes           ||\n",
    "| `    number += 1               `  |   2    |       3        |         Yes           ||\n",
    "|         .....    .....          |   ..   |      ...       |          ...          ||\n",
    "| **Pass 6**                      |        |                |                       ||\n",
    "| `while myList[number] <= 10:   `  |   5    |       13       |        **No!!**         ||\n",
    "| `    number += 1               `  |        |                |                       ||\n",
    "| `print(number)                 `  |   5    |       13       |                       |*(Prints 5)*|\n",
    "\n",
    "This is another wrong program. It is supposed to print out 13, but it prints out 5 instead. \n",
    "\n",
    "**Why does it do this? What went wrong?**\n",
    "\n",
    "</details>"
   ]
  },
  {
   "cell_type": "markdown",
   "id": "26b4ae7d-8234-4941-96a1-ac66ae46c2f7",
   "metadata": {},
   "source": [
    "## Exercise: TRACE and FIX THE CODE"
   ]
  },
  {
   "cell_type": "markdown",
   "id": "4fa6f7d9-2201-4c56-84f7-b55470d28e61",
   "metadata": {},
   "source": [
    "For each of the code snippets:\n",
    "- Do **program tracing** to understand what is happening\n",
    "- Find the mistake in the code, and put a **fixed** version in the cell below.\n",
    "- Do **program tracing** on the **fixed** code."
   ]
  },
  {
   "cell_type": "code",
   "execution_count": 14,
   "id": "f9f28eb2-6930-42b6-8c19-0f8a9783c8f6",
   "metadata": {},
   "outputs": [
    {
     "name": "stdout",
     "output_type": "stream",
     "text": [
      "1\n",
      "3\n",
      "5\n"
     ]
    }
   ],
   "source": [
    "# We want to print the even numbers less than 6. I should get 1, 3, 5\n",
    "num = 0\n",
    "while num < 6:\n",
    "    if num % 2 == 1:\n",
    "        print(num)\n",
    "    num += 1\n",
    "    "
   ]
  },
  {
   "cell_type": "code",
   "execution_count": null,
   "id": "bc8c7703-dd1d-48d4-8b0f-9c2d26915628",
   "metadata": {},
   "outputs": [],
   "source": []
  },
  {
   "cell_type": "markdown",
   "id": "0aa68294-b8a6-4bf3-92e3-8d270a067c31",
   "metadata": {},
   "source": [
    "---"
   ]
  },
  {
   "cell_type": "code",
   "execution_count": 15,
   "id": "ee054958-a526-4088-adc6-77c41e3ffdb1",
   "metadata": {},
   "outputs": [
    {
     "name": "stdout",
     "output_type": "stream",
     "text": [
      "31\n"
     ]
    }
   ],
   "source": [
    "# I want to sum up the first 5 powers of 2 (1+2+4+8+16). The answer should be 31\n",
    "summ = 0\n",
    "for i in range(5):\n",
    "    power = 2**i\n",
    "    summ += power\n",
    "print(summ)"
   ]
  },
  {
   "cell_type": "code",
   "execution_count": null,
   "id": "32b7e559-c336-4f97-a60c-e2053a882606",
   "metadata": {},
   "outputs": [],
   "source": []
  },
  {
   "cell_type": "markdown",
   "id": "502ac5e3-3441-46c4-9fd3-38f5a2f59509",
   "metadata": {},
   "source": [
    "---"
   ]
  },
  {
   "cell_type": "code",
   "execution_count": 18,
   "id": "0d8b508f-bb8d-4e13-9277-ddaf2195741c",
   "metadata": {},
   "outputs": [
    {
     "data": {
      "text/plain": [
       "[4, 2, 0]"
      ]
     },
     "execution_count": 18,
     "metadata": {},
     "output_type": "execute_result"
    }
   ],
   "source": [
    "# We want to put even numbers less than 5 in a list, in decreasing order. Should get [4, 2, 0]\n",
    "num = 5\n",
    "myList = []\n",
    "while num >= 0:\n",
    "    num -= 1\n",
    "    if num % 2 == 0:\n",
    "        myList += [num]\n",
    "myList"
   ]
  },
  {
   "cell_type": "code",
   "execution_count": null,
   "id": "88fd9783-08f5-45c7-9afb-d49dfcb64799",
   "metadata": {},
   "outputs": [],
   "source": []
  },
  {
   "cell_type": "markdown",
   "id": "4a6b26ea-43b3-49b4-a24e-f8a936659f44",
   "metadata": {},
   "source": [
    "---"
   ]
  },
  {
   "cell_type": "code",
   "execution_count": 21,
   "id": "228bab17-3703-4318-912c-ed2e5e5e89f3",
   "metadata": {},
   "outputs": [
    {
     "data": {
      "text/plain": [
       "3"
      ]
     },
     "execution_count": 21,
     "metadata": {},
     "output_type": "execute_result"
    }
   ],
   "source": [
    "# I want to count how many numbers in my list are positive.\n",
    "# The answer should be 3, but I get 1.\n",
    "\n",
    "lst = [3, -4, -7, 8, 1]\n",
    "npositive = 0\n",
    "for elem in lst:\n",
    "    if elem >= 0:\n",
    "        npositive += 1\n",
    "npositive"
   ]
  },
  {
   "cell_type": "code",
   "execution_count": null,
   "id": "bea0417d-30ac-4906-9e21-397500d7bb5e",
   "metadata": {},
   "outputs": [],
   "source": []
  }
 ],
 "metadata": {
  "kernelspec": {
   "display_name": "Python 3 (ipykernel)",
   "language": "python",
   "name": "python3"
  },
  "language_info": {
   "codemirror_mode": {
    "name": "ipython",
    "version": 3
   },
   "file_extension": ".py",
   "mimetype": "text/x-python",
   "name": "python",
   "nbconvert_exporter": "python",
   "pygments_lexer": "ipython3",
   "version": "3.11.4"
  }
 },
 "nbformat": 4,
 "nbformat_minor": 5
}
