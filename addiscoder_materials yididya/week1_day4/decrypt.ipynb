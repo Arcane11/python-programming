{
 "cells": [
  {
   "cell_type": "markdown",
   "id": "bfbb7e6b",
   "metadata": {},
   "source": [
    "# Decoding substitution ciphers\n",
    "\n",
    "## Warm up\n",
    "\n",
    "One of the most basic ciphers is the substitution cipher where each letter is replaced with a different one.\n",
    "Given a dictionary mapping each of the 26 letters of the alphabet to a (unique) other letter, write code that takes a text and applies the mapping to it. (Note: This can either be used to encrypt or decrypt messages.) Only letters should be affected, everything else should stay the same.\n",
    "\n",
    "Decode the following message using the dictionary in the cell below:\n",
    "\n",
    "```\n",
    "nkq qtljsu suwkltq li u wldkqh aqylwq aqyqmxdqa uta oiqa lt nkq quhmp- nx sla-20nk wqtnohp nx dhxnqwn wxssqhwlum, aldmxsunlw, uta slmlnuhp wxssotlwunlxt. ln bui qsdmxpqa qcnqtilyqmp vp tuzl jqhsutp aohltj bxhma buh ll, lt umm vhutwkqi xr nkq jqhsut slmlnuhp. nkq qtljsu suwkltq bui wxtilaqhqa ix iqwohq nkun ln bui oiqa nx qtwldkqh nkq sxin nxd-iqwhqn sqiiujqi.\n",
    "```"
   ]
  },
  {
   "cell_type": "code",
   "execution_count": null,
   "id": "49ff5802",
   "metadata": {},
   "outputs": [],
   "source": [
    "d = {\n",
    "    \"a\" : \"d\",\n",
    "    \"b\" : \"w\",\n",
    "    \"c\" : \"x\",\n",
    "    \"d\" : \"p\",\n",
    "    \"e\" : \"q\",\n",
    "    \"f\" : \"j\",\n",
    "    \"g\" : \"k\",\n",
    "    \"h\" : \"r\",\n",
    "    \"i\" : \"s\",\n",
    "    \"j\" : \"g\",\n",
    "    \"k\" : \"h\",\n",
    "    \"l\" : \"i\",\n",
    "    \"m\" : \"l\",\n",
    "    \"n\" : \"t\",\n",
    "    \"o\" : \"u\",\n",
    "    \"p\" : \"y\",\n",
    "    \"q\" : \"e\",\n",
    "    \"r\" : \"f\",\n",
    "    \"s\" : \"m\",\n",
    "    \"t\" : \"n\",\n",
    "    \"u\" : \"a\",\n",
    "    \"v\" : \"b\",\n",
    "    \"w\" : \"c\",\n",
    "    \"x\" : \"o\",\n",
    "    \"y\" : \"v\",\n",
    "    \"z\" : \"z\",\n",
    "}\n",
    "\n"
   ]
  },
  {
   "cell_type": "markdown",
   "id": "19660332",
   "metadata": {},
   "source": [
    "## Main exercise\n",
    "\n",
    "Below is an example of a ciphertext from a substitution cipher. The original text is in English.\n",
    "\n",
    "```\n",
    "hvionewvmoai ovcev ne nay qebyvk mwy xml yddyhnctysi likekiqepl xcna ykhvioncek, nay hektyvlcek ed ckdevqmncek dveq m vymbmjsy lnmny ne moomvykn keklykly. nay evcwckmnev ed mk ykhvionyb qyllmwy lamvyl nay byhebckw nyhakcupy eksi xcna cknykbyb vyhcocyknl ne ovyhspby mhhyll dveq mbtyvlmvcyl. nay hvionewvmoai scnyvmnpvy ednyk plyl nay kmqyl mschy dev nay lykbyv, jej dev nay cknykbyb vyhcocykn, mkb yty dev nay mbtyvlmvi. lckhy nay bytyseoqykn ed venev hcoayv qmhackyl ck xevsb xmv eky mkb nay mbtykn ed heqopnyvl ck xevsb xmv nxe, nay qynaebl plyb ne hmvvi epn hvionesewi amty jyheqy ckhvymlckwsi heqosyr mkb cnl mooschmncek qevy xcbylovymb.\n",
    "\n",
    "qebyvk hvionewvmoai cl aymtcsi jmlyb ek qmnayqmnchms nayevi mkb heqopnyv lhcykhy ovmhnchy; hvionewvmoach mswevcnaql mvy bylcwkyb mvepkb heqopnmncekms amvbkyll mllpqoncekl, qmzckw lpha mswevcnaql amvb ne jvymz ck ovmhnchy ji mki mbtyvlmvi. cn cl nayevynchmssi oellcjsy ne jvymz lpha m lilnyq, jpn cn cl ckdymlcjsy ne be le ji mki zkexk ovmhnchms qymkl. nayly lhayqyl mvy nayvydevy nyvqyb heqopnmncekmssi lyhpvy; nayevynchms mbtmkhyl, dev yrmqosy, cqovetyqyknl ck cknywyv dmhnevcfmncek mswevcnaql, mkb dmlnyv heqopnckw nyhakesewi vyupcvy nayly lespncekl ne jy heknckpmssi mbmonyb. nayvy yrcln ckdevqmncek-nayevynchmssi lyhpvy lhayqyl namn ovetmjsi hmkken jy jvezyk ytyk xcna pkscqcnyb heqopnckw oexyv. mk yrmqosy cl nay eky-ncqy omb, jpn nayly lhayqyl mvy qevy bcddchpsn ne ply ck ovmhnchy namk nay jyln nayevynchmssi jvymzmjsy jpn heqopnmncekmssi lyhpvy qyhamkclql.\n",
    "\n",
    "nay wvexna ed hvionewvmoach nyhakesewi aml vmclyb m kpqjyv ed sywms cllpyl ck nay ckdevqmncek mwy. nay oenykncms ed hvionewvmoai dev ply ml m nees dev ylocekmwy mkb lybcncek aml syb qmki wetyvkqyknl ne hsmllcdi cn ml m xymoek mkb ne scqcn ev ytyk oveacjcn cnl ply mkb yroevn. ck leqy gpvclbchncekl xayvy nay ply ed hvionewvmoai cl sywms, smxl oyvqcn cktylncwmnevl ne heqoys nay bclhselpvy ed ykhvioncek zyil dev behpqyknl vysytmkn ne mk cktylncwmncek. hvionewvmoai msle osmil m qmgev vesy ck bcwcnms vcwanl qmkmwyqykn mkb heoivcwan ckdvckwyqykn ed bcwcnms qybcm.\n",
    "```\n",
    "\n",
    "\n",
    "Write code using dictionaries to do a single-letter frequency analysis as well as analysis of the most common bigrams. Use the results to help you find the mapping that turns this ciphertext into readable text. Encode that mapping into a dictionary and apply your code from above to get the original text.\n",
    "\n",
    "You can find the list of the most common letters and bigrams in English here:\n",
    "\n",
    "https://en.wikipedia.org/wiki/Frequency_analysis\n",
    "\n",
    "![](letter_freq.png)\n",
    "\n",
    "https://en.wikipedia.org/wiki/Bigram#Bigram_frequency_in_the_English_language\n",
    "\n",
    "```\n",
    "th 3.56%       of 1.17%       io 0.83%\n",
    "he 3.07%       ed 1.17%       le 0.83%\n",
    "in 2.43%       is 1.13%       ve 0.83%\n",
    "er 2.05%       it 1.12%       co 0.79%\n",
    "an 1.99%       al 1.09%       me 0.79%\n",
    "re 1.85%       ar 1.07%       de 0.76%\n",
    "on 1.76%       st 1.05%       hi 0.76%\n",
    "at 1.49%       to 1.05%       ri 0.73%\n",
    "en 1.45%       nt 1.04%       ro 0.73%\n",
    "nd 1.35%       ng 0.95%       ic 0.70%\n",
    "ti 1.34%       se 0.93%       ne 0.69%\n",
    "es 1.34%       ha 0.93%       ea 0.69%\n",
    "or 1.28%       as 0.87%       ra 0.69%\n",
    "te 1.20%       ou 0.87%       ce 0.65%\n",
    "```\n"
   ]
  },
  {
   "cell_type": "code",
   "execution_count": null,
   "id": "eab76fe1",
   "metadata": {},
   "outputs": [],
   "source": []
  }
 ],
 "metadata": {
  "kernelspec": {
   "display_name": "Python 3",
   "language": "python",
   "name": "python3"
  },
  "language_info": {
   "codemirror_mode": {
    "name": "ipython",
    "version": 3
   },
   "file_extension": ".py",
   "mimetype": "text/x-python",
   "name": "python",
   "nbconvert_exporter": "python",
   "pygments_lexer": "ipython3",
   "version": "3.6.9"
  }
 },
 "nbformat": 4,
 "nbformat_minor": 5
}
