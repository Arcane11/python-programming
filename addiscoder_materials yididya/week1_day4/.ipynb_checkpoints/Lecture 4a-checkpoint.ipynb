{
 "cells": [
  {
   "cell_type": "markdown",
   "id": "94525cbf",
   "metadata": {},
   "source": [
    "# Welcome back\n",
    "\n",
    "How was lab? Was anything confusing? "
   ]
  },
  {
   "cell_type": "markdown",
   "id": "83715781",
   "metadata": {},
   "source": [
    "# Review\n",
    "\n",
    "Last time, we covered:\n",
    "- For loop\n",
    "- Basic functions"
   ]
  },
  {
   "cell_type": "markdown",
   "id": "522cbbfb",
   "metadata": {},
   "source": [
    "# Basic syntax for `for` loops\n",
    "\n",
    "The basic syntax for `for` loops is\n",
    "```python\n",
    "for <variable> in <iterable expression>:\n",
    "    <expression>\n",
    "```\n",
    "\n",
    "Don't worry too much about what an `<iterable expression>` is for the time being. For this lecture, it will always be a list or `range`. We will cover `range` later.\n",
    "\n",
    "As with `if`s and `whiles`, the `<expression>` can be complex."
   ]
  },
  {
   "cell_type": "code",
   "execution_count": 1,
   "id": "3182e4d5",
   "metadata": {},
   "outputs": [
    {
     "name": "stdout",
     "output_type": "stream",
     "text": [
      "1\n",
      "2\n",
      "3\n",
      "4\n",
      "5\n",
      "6\n"
     ]
    }
   ],
   "source": [
    "x = [1, 2, 3, 4, 5, 6]\n",
    "for y in x:\n",
    "    print(y)"
   ]
  },
  {
   "cell_type": "code",
   "execution_count": 2,
   "id": "6d3632fd",
   "metadata": {},
   "outputs": [
    {
     "data": {
      "text/plain": [
       "91"
      ]
     },
     "execution_count": 2,
     "metadata": {},
     "output_type": "execute_result"
    }
   ],
   "source": [
    "x = [1, 2, 3, 4, 5, 6]\n",
    "sum_of_squares = 0\n",
    "\n",
    "for y in x:\n",
    "    sum_of_squares += y * y\n",
    "sum_of_squares"
   ]
  },
  {
   "cell_type": "code",
   "execution_count": 3,
   "id": "fd6673bd",
   "metadata": {},
   "outputs": [
    {
     "name": "stdout",
     "output_type": "stream",
     "text": [
      "1 4\n",
      "1 5\n",
      "2 4\n",
      "2 5\n",
      "3 4\n",
      "3 5\n"
     ]
    }
   ],
   "source": [
    "for x in [1, 2, 3]:\n",
    "    for y in [4, 5]:\n",
    "        print(x, y)"
   ]
  },
  {
   "cell_type": "code",
   "execution_count": 4,
   "id": "723e7866",
   "metadata": {},
   "outputs": [
    {
     "name": "stdout",
     "output_type": "stream",
     "text": [
      "0\n",
      "\n",
      "0\n",
      "1\n",
      "\n",
      "0\n",
      "1\n",
      "2\n",
      "\n"
     ]
    }
   ],
   "source": [
    "for x in [1, 2, 3]:\n",
    "    y = 0\n",
    "    while y < x:\n",
    "        print(y)\n",
    "        y += 1\n",
    "    print()"
   ]
  },
  {
   "cell_type": "code",
   "execution_count": 5,
   "id": "dded12fa",
   "metadata": {},
   "outputs": [
    {
     "name": "stdout",
     "output_type": "stream",
     "text": [
      "0\n",
      "1\n",
      "2\n",
      "3\n",
      "4\n"
     ]
    }
   ],
   "source": [
    "for x in range(5):\n",
    "    print(x)"
   ]
  },
  {
   "cell_type": "code",
   "execution_count": 6,
   "id": "bdede42a",
   "metadata": {},
   "outputs": [
    {
     "name": "stdout",
     "output_type": "stream",
     "text": [
      "1\n",
      "2\n",
      "3\n",
      "4\n"
     ]
    }
   ],
   "source": [
    "x = [1, 2, 3, 4]\n",
    "\n",
    "for ind in range(len(x)):\n",
    "    print(x[ind])"
   ]
  },
  {
   "cell_type": "code",
   "execution_count": 7,
   "id": "6c373508",
   "metadata": {},
   "outputs": [
    {
     "data": {
      "text/plain": [
       "70"
      ]
     },
     "execution_count": 7,
     "metadata": {},
     "output_type": "execute_result"
    }
   ],
   "source": [
    "x = [1, 2, 3, 4]\n",
    "y = [5, 6, 7, 8]\n",
    "\n",
    "mul_sum = 0\n",
    "for ind in range(len(x)):\n",
    "    mul_sum += x[ind] * y[ind]\n",
    "\n",
    "mul_sum"
   ]
  },
  {
   "cell_type": "code",
   "execution_count": 8,
   "id": "77d433d7",
   "metadata": {},
   "outputs": [
    {
     "data": {
      "text/plain": [
       "17"
      ]
     },
     "execution_count": 8,
     "metadata": {},
     "output_type": "execute_result"
    }
   ],
   "source": [
    "x = [1, 4, 7, 9, 11, 15]\n",
    "\n",
    "# Compute the squared sum of the values of x until we reach 7\n",
    "squared_sum = 0\n",
    "for y in x:\n",
    "    if y == 7:\n",
    "        break\n",
    "    squared_sum += y * y\n",
    "    \n",
    "squared_sum"
   ]
  },
  {
   "cell_type": "code",
   "execution_count": 9,
   "id": "56a4cdc1",
   "metadata": {},
   "outputs": [],
   "source": [
    "# Breaks can come anywhere in the body of a for loop\n",
    "\n",
    "for x in [1, 2, 3]:\n",
    "    break\n",
    "    print(x)"
   ]
  },
  {
   "cell_type": "code",
   "execution_count": 10,
   "id": "80546909",
   "metadata": {},
   "outputs": [
    {
     "data": {
      "text/plain": [
       "16"
      ]
     },
     "execution_count": 10,
     "metadata": {},
     "output_type": "execute_result"
    }
   ],
   "source": [
    "x = [1, 4, 7, 9, 11, 15]\n",
    "\n",
    "# Compute the squared sum of the _even_ values of x\n",
    "squared_sum = 0\n",
    "for y in x:\n",
    "    if y % 2 == 1:\n",
    "        continue\n",
    "    squared_sum += y * y\n",
    "    \n",
    "squared_sum"
   ]
  },
  {
   "cell_type": "markdown",
   "id": "4ea1c502",
   "metadata": {},
   "source": [
    "# Review redux: syntax for functions\n",
    "\n",
    "The general syntax for functions is:\n",
    "```python\n",
    "def function_name(<arguments>):\n",
    "    <body>\n",
    "    return <expression>\n",
    "```\n",
    "\n",
    "There are several things to note about the syntax (we will go through examples):\n",
    "- You can have zero, one, or more arguments.\n",
    "- You need the `:` after the function\n",
    "- The body can be complex!\n",
    "- You technically don't need a return statement at the end, but we will almost alway have a return at the end"
   ]
  },
  {
   "cell_type": "code",
   "execution_count": 11,
   "id": "a576b9f1",
   "metadata": {},
   "outputs": [],
   "source": [
    "def fahrenheit_to_celsius(f):\n",
    "    # ???\n",
    "    return 0"
   ]
  },
  {
   "cell_type": "code",
   "execution_count": 12,
   "id": "b4e5fbd4",
   "metadata": {},
   "outputs": [],
   "source": [
    "def celsius_to_fahrenheit(f):\n",
    "    # ???\n",
    "    return 0"
   ]
  },
  {
   "cell_type": "markdown",
   "id": "f4e22aa2",
   "metadata": {},
   "source": [
    "# Using other concepts in functions\n",
    "\n",
    "We can use other concepts we learned within functions, including `if`s, `while`s, and `for`s. "
   ]
  },
  {
   "cell_type": "code",
   "execution_count": 7,
   "id": "b5c69525",
   "metadata": {},
   "outputs": [
    {
     "data": {
      "text/plain": [
       "1"
      ]
     },
     "execution_count": 7,
     "metadata": {},
     "output_type": "execute_result"
    }
   ],
   "source": [
    "def minimum_two(x, y):\n",
    "    if x < y:\n",
    "        return x\n",
    "    else:\n",
    "        return y\n",
    "\n",
    "minimum_two(1, 2)"
   ]
  },
  {
   "cell_type": "code",
   "execution_count": 8,
   "id": "77a6dfe6",
   "metadata": {},
   "outputs": [
    {
     "data": {
      "text/plain": [
       "1"
      ]
     },
     "execution_count": 8,
     "metadata": {},
     "output_type": "execute_result"
    }
   ],
   "source": [
    "def min_list(l):\n",
    "    minimum = l[0]\n",
    "    for x in l[1:]:\n",
    "        minimum = minimum_two(minimum, x)\n",
    "    return minimum\n",
    "\n",
    "min_list([6, 5, 4, 3, 2, 1])"
   ]
  },
  {
   "cell_type": "markdown",
   "id": "63954fac",
   "metadata": {},
   "source": [
    "# Reusing functions\n",
    "\n",
    "Once we define a function once, we can use it anywhere. We can:\n",
    "- Use functions within expressions\n",
    "- Call functions within functions"
   ]
  },
  {
   "cell_type": "code",
   "execution_count": null,
   "id": "24fe6da3",
   "metadata": {},
   "outputs": [],
   "source": [
    "def minimum_two(x, y):\n",
    "    if x < y:\n",
    "        return x\n",
    "    else:\n",
    "        return y\n",
    "\n",
    "minimum_two(1, 2)"
   ]
  },
  {
   "cell_type": "code",
   "execution_count": 19,
   "id": "69807adc",
   "metadata": {},
   "outputs": [
    {
     "data": {
      "text/plain": [
       "1"
      ]
     },
     "execution_count": 19,
     "metadata": {},
     "output_type": "execute_result"
    }
   ],
   "source": [
    "minimum_two(1, minimum_two(2, 3))"
   ]
  },
  {
   "cell_type": "code",
   "execution_count": null,
   "id": "44a3a677",
   "metadata": {},
   "outputs": [],
   "source": [
    "def minimum_three(x, y, z):\n",
    "    min_xy = minimum_two(x, y)\n",
    "    return minimum_two(min_xy, z)\n",
    "\n",
    "minimum_three(1, 2, 3)"
   ]
  },
  {
   "cell_type": "markdown",
   "id": "cc209767",
   "metadata": {},
   "source": [
    "# Variable scope\n",
    "\n",
    "So far (up until functions), we've used variables that can be used anywhere in Jupyter. With functions, we will start to use variables that can only be used in certain places.\n",
    "\n",
    "Where variables can be used is called _variable scope_."
   ]
  },
  {
   "cell_type": "code",
   "execution_count": 11,
   "id": "e6fcdb6f",
   "metadata": {},
   "outputs": [
    {
     "ename": "NameError",
     "evalue": "name 'scoped_variable' is not defined",
     "output_type": "error",
     "traceback": [
      "\u001b[0;31m---------------------------------------------------------------------------\u001b[0m",
      "\u001b[0;31mNameError\u001b[0m                                 Traceback (most recent call last)",
      "\u001b[0;32m/tmp/ipykernel_3461/3623150709.py\u001b[0m in \u001b[0;36m<module>\u001b[0;34m\u001b[0m\n\u001b[1;32m      4\u001b[0m \u001b[0mvariable_scope_example\u001b[0m\u001b[0;34m(\u001b[0m\u001b[0;34m)\u001b[0m\u001b[0;34m\u001b[0m\u001b[0;34m\u001b[0m\u001b[0m\n\u001b[1;32m      5\u001b[0m \u001b[0;34m\u001b[0m\u001b[0m\n\u001b[0;32m----> 6\u001b[0;31m \u001b[0mscoped_variable\u001b[0m\u001b[0;34m\u001b[0m\u001b[0;34m\u001b[0m\u001b[0m\n\u001b[0m",
      "\u001b[0;31mNameError\u001b[0m: name 'scoped_variable' is not defined"
     ]
    }
   ],
   "source": [
    "def variable_scope_example():\n",
    "    scoped_variable = 0\n",
    "\n",
    "variable_scope_example()\n",
    "\n",
    "scoped_variable"
   ]
  },
  {
   "cell_type": "code",
   "execution_count": 10,
   "id": "ddb786df",
   "metadata": {},
   "outputs": [
    {
     "name": "stdout",
     "output_type": "stream",
     "text": [
      "0\n"
     ]
    }
   ],
   "source": [
    "# This is called using a global variable. Avoid using global variables whenever possible!\n",
    "\n",
    "x = 0\n",
    "\n",
    "def variable_scope_example_two():\n",
    "    print(x)\n",
    "\n",
    "variable_scope_example_two()"
   ]
  },
  {
   "cell_type": "markdown",
   "id": "b60ce230",
   "metadata": {},
   "source": [
    "# Built in functions\n",
    "\n",
    "Python provides us _built in functions_, which are functions that we can use for free!\n",
    "\n",
    "We've already seen some examples: `type`, `int`, etc."
   ]
  },
  {
   "cell_type": "code",
   "execution_count": 3,
   "id": "78c0b89e",
   "metadata": {},
   "outputs": [
    {
     "data": {
      "text/plain": [
       "int"
      ]
     },
     "execution_count": 3,
     "metadata": {},
     "output_type": "execute_result"
    }
   ],
   "source": [
    "type(1)"
   ]
  },
  {
   "cell_type": "code",
   "execution_count": 4,
   "id": "4604177c",
   "metadata": {},
   "outputs": [
    {
     "data": {
      "text/plain": [
       "1"
      ]
     },
     "execution_count": 4,
     "metadata": {},
     "output_type": "execute_result"
    }
   ],
   "source": [
    "int(True)"
   ]
  },
  {
   "cell_type": "code",
   "execution_count": 5,
   "id": "4a3c13d4",
   "metadata": {},
   "outputs": [
    {
     "data": {
      "text/plain": [
       "1"
      ]
     },
     "execution_count": 5,
     "metadata": {},
     "output_type": "execute_result"
    }
   ],
   "source": [
    "min(1, 2)"
   ]
  },
  {
   "cell_type": "code",
   "execution_count": 6,
   "id": "f3251052",
   "metadata": {},
   "outputs": [
    {
     "data": {
      "text/plain": [
       "2"
      ]
     },
     "execution_count": 6,
     "metadata": {},
     "output_type": "execute_result"
    }
   ],
   "source": [
    "max(1, 2)"
   ]
  },
  {
   "cell_type": "code",
   "execution_count": null,
   "id": "d30b8a73",
   "metadata": {},
   "outputs": [],
   "source": []
  }
 ],
 "metadata": {
  "kernelspec": {
   "display_name": "Python 3 (ipykernel)",
   "language": "python",
   "name": "python3"
  },
  "language_info": {
   "codemirror_mode": {
    "name": "ipython",
    "version": 3
   },
   "file_extension": ".py",
   "mimetype": "text/x-python",
   "name": "python",
   "nbconvert_exporter": "python",
   "pygments_lexer": "ipython3",
   "version": "3.9.16"
  }
 },
 "nbformat": 4,
 "nbformat_minor": 5
}
