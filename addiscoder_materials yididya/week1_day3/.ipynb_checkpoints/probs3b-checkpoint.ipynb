{
 "cells": [
  {
   "cell_type": "markdown",
   "metadata": {
    "colab_type": "text",
    "id": "cBfRc7j-3Dun"
   },
   "source": [
    "# WEEK 1, Day 3 Afternoon Exercises\n",
    "You will be working on a series of exercises for the material covered in lecture 3b.\n",
    "\n",
    "We covered:\n",
    "\n",
    "    For loops\n",
    "    Functions\n",
    "    Range\n",
    "    Continue/break\n",
    "\n",
    "We will go through a series of exercises to reinfornce the concepts covered today"
   ]
  },
  {
   "cell_type": "markdown",
   "metadata": {},
   "source": [
    "## Question 1"
   ]
  },
  {
   "cell_type": "markdown",
   "metadata": {},
   "source": [
    "### 1.1 \n",
    "\n",
    "Print the integers from 0 - 10 using a `for` loop"
   ]
  },
  {
   "cell_type": "code",
   "execution_count": 2,
   "metadata": {},
   "outputs": [
    {
     "name": "stdout",
     "output_type": "stream",
     "text": [
      "0\n",
      "1\n",
      "2\n",
      "3\n",
      "4\n",
      "5\n",
      "6\n",
      "7\n",
      "8\n",
      "9\n",
      "10\n"
     ]
    }
   ],
   "source": [
    "## Write your code below\n",
    "for i in range(0,11):\n",
    "    print(i)\n",
    "    "
   ]
  },
  {
   "cell_type": "markdown",
   "metadata": {},
   "source": [
    "### 1.2 \n",
    "\n",
    "Print the integers from 0 - 10 using a `while` loop"
   ]
  },
  {
   "cell_type": "code",
   "execution_count": 4,
   "metadata": {},
   "outputs": [
    {
     "name": "stdout",
     "output_type": "stream",
     "text": [
      "0\n",
      "1\n",
      "2\n",
      "3\n",
      "4\n",
      "5\n",
      "6\n",
      "7\n",
      "8\n",
      "9\n"
     ]
    }
   ],
   "source": [
    "## Write your code below\n",
    "i = 0\n",
    "while i < 10:\n",
    "    print(i)\n",
    "    i += 1"
   ]
  },
  {
   "cell_type": "markdown",
   "metadata": {},
   "source": [
    "### 1.3\n",
    "\n",
    "Write a function that takes `x` as input and prints it"
   ]
  },
  {
   "cell_type": "code",
   "execution_count": 5,
   "metadata": {},
   "outputs": [
    {
     "name": "stdout",
     "output_type": "stream",
     "text": [
      "12\n"
     ]
    }
   ],
   "source": [
    "## Write your code below\n",
    "def Input(x):\n",
    "    print(x)\n",
    "\n",
    "Input(12)"
   ]
  },
  {
   "cell_type": "code",
   "execution_count": 6,
   "metadata": {},
   "outputs": [
    {
     "name": "stdout",
     "output_type": "stream",
     "text": [
      "12\n"
     ]
    }
   ],
   "source": [
    "## Test your code here.\n",
    "\n",
    "Input(12)"
   ]
  },
  {
   "cell_type": "markdown",
   "metadata": {},
   "source": [
    "### 1.4\n",
    "\n",
    "Write a function that takes `x` and prints every number between 0 and `x-1` using a `for` loop"
   ]
  },
  {
   "cell_type": "code",
   "execution_count": 9,
   "metadata": {},
   "outputs": [
    {
     "name": "stdout",
     "output_type": "stream",
     "text": [
      "0\n",
      "1\n",
      "2\n",
      "3\n",
      "4\n",
      "5\n",
      "6\n",
      "7\n",
      "8\n",
      "9\n"
     ]
    }
   ],
   "source": [
    "## Write your code below\n",
    "def loopPrinter(x):\n",
    "    for i in range(0, x):\n",
    "        print(i)\n",
    "loopPrinter(10)\n",
    "    "
   ]
  },
  {
   "cell_type": "code",
   "execution_count": 10,
   "metadata": {},
   "outputs": [
    {
     "name": "stdout",
     "output_type": "stream",
     "text": [
      "0\n",
      "1\n",
      "2\n",
      "3\n",
      "4\n",
      "5\n",
      "6\n",
      "7\n",
      "8\n",
      "9\n"
     ]
    }
   ],
   "source": [
    "## Test your code here.\n",
    "loopPrinter(10)"
   ]
  },
  {
   "cell_type": "markdown",
   "metadata": {},
   "source": [
    "### 1.5\n",
    "\n",
    "Write a function that takes `x` and prints every number between 0 and `x-1` using a `while` loop"
   ]
  },
  {
   "cell_type": "code",
   "execution_count": 12,
   "metadata": {},
   "outputs": [
    {
     "name": "stdout",
     "output_type": "stream",
     "text": [
      "0\n",
      "1\n"
     ]
    }
   ],
   "source": [
    "## Write your code below\n",
    "def printer(x):\n",
    "    i = 0\n",
    "    while i < x:\n",
    "        print(i)\n",
    "        i += 1\n",
    "\n",
    "printer(2)"
   ]
  },
  {
   "cell_type": "code",
   "execution_count": 13,
   "metadata": {},
   "outputs": [
    {
     "name": "stdout",
     "output_type": "stream",
     "text": [
      "0\n",
      "1\n"
     ]
    }
   ],
   "source": [
    "## Test your code here.\n",
    "printer(2)"
   ]
  },
  {
   "cell_type": "markdown",
   "metadata": {},
   "source": [
    "## Question 2"
   ]
  },
  {
   "cell_type": "markdown",
   "metadata": {},
   "source": [
    "### 2.1 \n",
    "\n",
    "Use code to verify that 4 is even"
   ]
  },
  {
   "cell_type": "code",
   "execution_count": 18,
   "metadata": {},
   "outputs": [
    {
     "data": {
      "text/plain": [
       "'ODD :>'"
      ]
     },
     "execution_count": 18,
     "metadata": {},
     "output_type": "execute_result"
    }
   ],
   "source": [
    "## Write your code below\n",
    "def evenChecker(x):\n",
    "    if x % 2 == 0:\n",
    "        return ('EVEN!')\n",
    "    else:\n",
    "        return ('ODD :>')\n",
    "evenChecker(5)"
   ]
  },
  {
   "cell_type": "markdown",
   "metadata": {},
   "source": [
    "### 2.2 \n",
    "\n",
    "Write a function that takes `x` and returns `True` if `x` is even "
   ]
  },
  {
   "cell_type": "code",
   "execution_count": 20,
   "metadata": {},
   "outputs": [
    {
     "name": "stdout",
     "output_type": "stream",
     "text": [
      "True\n"
     ]
    }
   ],
   "source": [
    "## Write your code below\n",
    "def truthEvenChecker(x):\n",
    "    if evenChecker(x) == \"EVEN!\":\n",
    "        print(\"True\")\n",
    "        \n",
    "truthEvenChecker(4)"
   ]
  },
  {
   "cell_type": "code",
   "execution_count": 21,
   "metadata": {},
   "outputs": [
    {
     "name": "stdout",
     "output_type": "stream",
     "text": [
      "True\n"
     ]
    }
   ],
   "source": [
    "## Test your code here.\n",
    "truthEvenChecker(4)"
   ]
  },
  {
   "cell_type": "markdown",
   "metadata": {},
   "source": [
    "### 2.3 \n",
    "\n",
    "Write a function that takes `x` and prints odd number between 0 and `x-1` using a `for` loop"
   ]
  },
  {
   "cell_type": "code",
   "execution_count": 23,
   "metadata": {},
   "outputs": [
    {
     "name": "stdout",
     "output_type": "stream",
     "text": [
      "1\n",
      "3\n",
      "5\n",
      "7\n",
      "9\n",
      "11\n"
     ]
    }
   ],
   "source": [
    "## Write your code below\n",
    "def someFunction(x):\n",
    "    for i in range(0, x):\n",
    "        if not (i % 2 == 0):\n",
    "            print(i)\n",
    "            \n",
    "someFunction(12)"
   ]
  },
  {
   "cell_type": "code",
   "execution_count": 24,
   "metadata": {},
   "outputs": [
    {
     "name": "stdout",
     "output_type": "stream",
     "text": [
      "1\n",
      "3\n",
      "5\n",
      "7\n",
      "9\n",
      "11\n"
     ]
    }
   ],
   "source": [
    "## Test your code here.\n",
    "someFunction(12)"
   ]
  },
  {
   "cell_type": "markdown",
   "metadata": {},
   "source": [
    "### 2.4 \n",
    "\n",
    "Write a function that takes `x` and prints every EVEN number between 0 and `x-1` using a `for` loop"
   ]
  },
  {
   "cell_type": "code",
   "execution_count": 25,
   "metadata": {},
   "outputs": [
    {
     "name": "stdout",
     "output_type": "stream",
     "text": [
      "0\n",
      "2\n",
      "4\n",
      "6\n",
      "8\n",
      "10\n"
     ]
    }
   ],
   "source": [
    "## Write your code below\n",
    "def someFunctionEven(x):\n",
    "    for i in range(0, x):\n",
    "        if (i % 2 == 0):\n",
    "            print(i)\n",
    "            \n",
    "someFunctionEven(12)"
   ]
  },
  {
   "cell_type": "code",
   "execution_count": 26,
   "metadata": {},
   "outputs": [
    {
     "name": "stdout",
     "output_type": "stream",
     "text": [
      "0\n",
      "2\n",
      "4\n",
      "6\n",
      "8\n",
      "10\n"
     ]
    }
   ],
   "source": [
    "## Test your code here.\n",
    "someFunctionEven(12)"
   ]
  },
  {
   "cell_type": "markdown",
   "metadata": {},
   "source": [
    "## 2.5 \n",
    "\n",
    "Write a function that takes `x` and prints every EVEN number between 0 and `x-1` using a `while` loop"
   ]
  },
  {
   "cell_type": "code",
   "execution_count": 32,
   "metadata": {},
   "outputs": [],
   "source": [
    "## Write your code below\n",
    "def whileEven(x):\n",
    "    i = 0\n",
    "    while i < x:\n",
    "        if (i % 2 == 0):\n",
    "            print(i)\n",
    "        i += 1"
   ]
  },
  {
   "cell_type": "code",
   "execution_count": 33,
   "metadata": {},
   "outputs": [
    {
     "name": "stdout",
     "output_type": "stream",
     "text": [
      "0\n",
      "2\n",
      "4\n",
      "6\n",
      "8\n",
      "10\n"
     ]
    }
   ],
   "source": [
    "## Test your code here.\n",
    "whileEven(12)"
   ]
  },
  {
   "cell_type": "markdown",
   "metadata": {},
   "source": [
    "### 2.6 \n",
    "\n",
    "Using `while True:`, print the integers from 0 - 10"
   ]
  },
  {
   "cell_type": "code",
   "execution_count": 34,
   "metadata": {},
   "outputs": [
    {
     "name": "stdout",
     "output_type": "stream",
     "text": [
      "1\n",
      "2\n",
      "3\n",
      "4\n",
      "5\n",
      "6\n",
      "7\n",
      "8\n",
      "9\n",
      "10\n"
     ]
    }
   ],
   "source": [
    "## Write your code below\n",
    "i = 0\n",
    "while True:\n",
    "    i += 1\n",
    "    print(i)\n",
    "    if i == 10:\n",
    "        break\n"
   ]
  },
  {
   "cell_type": "markdown",
   "metadata": {},
   "source": [
    "Note: If your code does not stop running and has an `[*]` on the left, it is in an infinite loop. To get out of this loop, in the top menu, select Kernel -> Interrupt, or press the black square button in the top menu bar."
   ]
  },
  {
   "cell_type": "markdown",
   "metadata": {},
   "source": [
    "### 2.7 \n",
    "\n",
    "Write a function that takes `x` and prints every EVEN number between 0 and `x-1` using `while True:`"
   ]
  },
  {
   "cell_type": "code",
   "execution_count": 35,
   "metadata": {},
   "outputs": [
    {
     "name": "stdout",
     "output_type": "stream",
     "text": [
      "1\n",
      "2\n",
      "3\n",
      "4\n",
      "5\n",
      "6\n",
      "7\n",
      "8\n",
      "9\n",
      "10\n",
      "11\n",
      "12\n"
     ]
    }
   ],
   "source": [
    "## Write your code below\n",
    "def evenNumberWhile(x):\n",
    "    i = 0\n",
    "    while True:\n",
    "        i += 1\n",
    "        print(i)\n",
    "        if i == x:\n",
    "            break\n",
    "evenNumberWhile(12)\n"
   ]
  },
  {
   "cell_type": "code",
   "execution_count": null,
   "metadata": {},
   "outputs": [],
   "source": [
    "## Test your code here.\n",
    "evenNumberWhile(12)\n"
   ]
  },
  {
   "cell_type": "markdown",
   "metadata": {},
   "source": [
    "### 2.8 \n",
    "Write a function that takes `x` and prints every EVEN number between 0 and `x-1` using a `for` loop, without **control flow** (i.e. no `if` statements)"
   ]
  },
  {
   "cell_type": "code",
   "execution_count": 36,
   "metadata": {},
   "outputs": [
    {
     "name": "stdout",
     "output_type": "stream",
     "text": [
      "0\n",
      "2\n",
      "4\n",
      "6\n",
      "8\n"
     ]
    }
   ],
   "source": [
    "def evenForLoop(x):\n",
    "    for i in range(0,x,2):\n",
    "        print(i)\n",
    "evenForLoop(10)"
   ]
  },
  {
   "cell_type": "code",
   "execution_count": 37,
   "metadata": {},
   "outputs": [
    {
     "name": "stdout",
     "output_type": "stream",
     "text": [
      "0\n",
      "2\n",
      "4\n",
      "6\n",
      "8\n"
     ]
    }
   ],
   "source": [
    "## Test your code here.\n",
    "evenForLoop(10)"
   ]
  },
  {
   "cell_type": "markdown",
   "metadata": {
    "colab_type": "text",
    "id": "KPM2evaq3Duo"
   },
   "source": [
    "## Question 3"
   ]
  },
  {
   "cell_type": "markdown",
   "metadata": {
    "colab_type": "text",
    "id": "jwOebVs73Dup"
   },
   "source": [
    "### 3.1 \n",
    "\n",
    "Print the integers from 0 - 100 that are divisible by 7 in decreasing order using a `for` loop.\n"
   ]
  },
  {
   "cell_type": "code",
   "execution_count": 40,
   "metadata": {
    "colab": {},
    "colab_type": "code",
    "id": "4hPQYv0C3Duq"
   },
   "outputs": [
    {
     "name": "stdout",
     "output_type": "stream",
     "text": [
      "0\n",
      "7\n",
      "14\n",
      "21\n",
      "28\n",
      "35\n",
      "42\n",
      "49\n",
      "56\n",
      "63\n",
      "70\n",
      "77\n",
      "84\n",
      "91\n",
      "98\n"
     ]
    }
   ],
   "source": [
    "# Your code goes here.\n",
    "for i in range(0,100,7):\n",
    "        print(i)"
   ]
  },
  {
   "cell_type": "markdown",
   "metadata": {
    "colab_type": "text",
    "id": "F8U0tapU3Duw"
   },
   "source": [
    "### 3.2 \n",
    "Print the integers from 0 - 100 that are divisible by 7 in decreasing order using a `while` loop."
   ]
  },
  {
   "cell_type": "code",
   "execution_count": 42,
   "metadata": {
    "colab": {},
    "colab_type": "code",
    "id": "g7TxFr5X3Dux"
   },
   "outputs": [
    {
     "name": "stdout",
     "output_type": "stream",
     "text": [
      "0\n",
      "7\n",
      "14\n",
      "21\n",
      "28\n",
      "35\n",
      "42\n",
      "49\n",
      "56\n",
      "63\n",
      "70\n",
      "77\n",
      "84\n",
      "91\n",
      "98\n"
     ]
    }
   ],
   "source": [
    "# Your code goes here.\n",
    "i = 0\n",
    "while i < 100:\n",
    "    if i % 7 == 0:\n",
    "        print(i)\n",
    "    i += 1"
   ]
  },
  {
   "cell_type": "markdown",
   "metadata": {
    "colab_type": "text",
    "id": "8dqsENZT3Du1"
   },
   "source": [
    "### 3.3 \n",
    "Print the integers from 0 - 100 that are divisible by 7 in decreasing order using a `for` loop, but without using an if statement."
   ]
  },
  {
   "cell_type": "code",
   "execution_count": 43,
   "metadata": {
    "colab": {},
    "colab_type": "code",
    "id": "-DFnop2A3Du2"
   },
   "outputs": [
    {
     "name": "stdout",
     "output_type": "stream",
     "text": [
      "0\n",
      "7\n",
      "14\n",
      "21\n",
      "28\n",
      "35\n",
      "42\n",
      "49\n",
      "56\n",
      "63\n",
      "70\n",
      "77\n",
      "84\n",
      "91\n",
      "98\n"
     ]
    }
   ],
   "source": [
    "# Your code goes here.\n",
    "for i in range(0,100,7):\n",
    "        print(i)\n"
   ]
  },
  {
   "cell_type": "markdown",
   "metadata": {
    "colab_type": "text",
    "id": "2bEISxGiBjuH"
   },
   "source": [
    "## Question 4"
   ]
  },
  {
   "cell_type": "markdown",
   "metadata": {
    "colab_type": "text",
    "id": "vT5ro7yBBjuN"
   },
   "source": [
    "### 4.1 \n",
    "DNA has 4 bases: Adenine (A), Thymine (T), Cytosine (C), Guanine (G). In the DNA, each base fits like a puzzle piece, with another base. So, Adenine will pair up with Thymine (A-T base pairing) and Cytosine will pair up with Guanine (C-G base pairing), and vice versa. DNA is double stranded, so if we look at one side side of the strand, we can figure out the other side that matches. For example:\n",
    "\n",
    "- `ATACGTACGATCA` #this is the strand we know\n",
    "- `TATGCATGCTAGT` #this is the _complement strand_, that we can figure out.\n",
    "\n",
    "Just as an exercise, fill in the complement strand to the following strands manually: \n",
    "\n",
    "1.\n",
    "Strand:     `ATCCGGGATCAA`\n",
    "Complement: ?"
   ]
  },
  {
   "cell_type": "raw",
   "metadata": {},
   "source": [
    "TAGGCCTAGTT"
   ]
  },
  {
   "cell_type": "markdown",
   "metadata": {},
   "source": [
    "2.\n",
    "Strand:     `GGCCCCATTTTC`\n",
    "Complement: ?"
   ]
  },
  {
   "cell_type": "raw",
   "metadata": {},
   "source": [
    "AATTTTGCCCCT"
   ]
  },
  {
   "cell_type": "markdown",
   "metadata": {},
   "source": [
    "3.\n",
    "Strand:     `TTACCAGGGGAT`\n",
    "Complement: ?"
   ]
  },
  {
   "cell_type": "raw",
   "metadata": {},
   "source": [
    "CCGTTGAAAAGC"
   ]
  },
  {
   "cell_type": "markdown",
   "metadata": {
    "colab_type": "text",
    "id": "BugmqcanBjug"
   },
   "source": [
    "### 4.2 \n",
    "Given a string `x` that contains only A, C, G, and T characters, write a function called `containsA` that returns `True` if the string contains an Adenine, expressed as an `'A'`. "
   ]
  },
  {
   "cell_type": "code",
   "execution_count": 46,
   "metadata": {
    "colab": {},
    "colab_type": "code",
    "id": "7YM4SrAjBjuq"
   },
   "outputs": [
    {
     "name": "stdout",
     "output_type": "stream",
     "text": [
      "True\n"
     ]
    }
   ],
   "source": [
    "def containsA(DNA):\n",
    "    # Write your code here.\n",
    "    for i in range(0, len(DNA)):\n",
    "        if(DNA[i] == \"A\"):\n",
    "            print(\"True\")\n",
    "            break\n",
    "            \n",
    "containsA(\"ATCCGGGATCAA\")"
   ]
  },
  {
   "cell_type": "code",
   "execution_count": null,
   "metadata": {},
   "outputs": [],
   "source": [
    "# Test your code here.\n",
    "containsA(\"ATCCGGGATCAA\")\n",
    "\n"
   ]
  },
  {
   "cell_type": "markdown",
   "metadata": {
    "colab_type": "text",
    "id": "bMjPvKB_Bju2"
   },
   "source": [
    "### 4.3 \n",
    "Given a string `x` that contains only A, C, G, and T characters, write a function called `complementStrand` that will return the complement DNA strand explained in 2.1. "
   ]
  },
  {
   "cell_type": "code",
   "execution_count": 56,
   "metadata": {
    "colab": {
     "base_uri": "https://localhost:8080/",
     "height": 34
    },
    "colab_type": "code",
    "executionInfo": {
     "elapsed": 2040,
     "status": "ok",
     "timestamp": 1562631721638,
     "user": {
      "displayName": "Stephen Koo",
      "photoUrl": "https://lh4.googleusercontent.com/-puW04LijCY0/AAAAAAAAAAI/AAAAAAABMD8/p1HymCYlPUI/s64/photo.jpg",
      "userId": "00528687567139275578"
     },
     "user_tz": 240
    },
    "id": "2OLKTIr6BjvI",
    "outputId": "e0657145-a150-4239-e155-9f46117d2409"
   },
   "outputs": [],
   "source": [
    "def complement(DNA):\n",
    "    # Write your code here.\n",
    "    result = ''\n",
    "    for i in DNA:\n",
    "        if(i == \"A\"):\n",
    "            result += \"T\"\n",
    "        elif(i == \"T\"):\n",
    "            result += \"A\"\n",
    "        elif(i == \"C\"):\n",
    "            result += \"G\"\n",
    "        elif(i == \"G\"):\n",
    "            result += \"C\"\n",
    "    return (result)\n",
    "\n",
    "\n",
    "                \n",
    "    "
   ]
  },
  {
   "cell_type": "code",
   "execution_count": 57,
   "metadata": {},
   "outputs": [
    {
     "name": "stdout",
     "output_type": "stream",
     "text": [
      "CTAATGT\n"
     ]
    }
   ],
   "source": [
    "# Here is a test case to check if your code works correctly.\n",
    "print(complement('GATTACA'))  # Should be 'CTAATGT'\n",
    "# Add your own test."
   ]
  },
  {
   "cell_type": "markdown",
   "metadata": {
    "colab_type": "text",
    "id": "vHT4jMhFBjvU"
   },
   "source": [
    "## Question 5\n",
    "_Execute all the following cells in order._"
   ]
  },
  {
   "cell_type": "markdown",
   "metadata": {
    "colab_type": "text",
    "id": "kO7pcsRvBjvf"
   },
   "source": [
    "### 5.1 \n",
    "Create a list called `vowels` that contains all the vowels from the English alphabet. "
   ]
  },
  {
   "cell_type": "code",
   "execution_count": 69,
   "metadata": {
    "colab": {},
    "colab_type": "code",
    "id": "LULFD0jtBjvi",
    "scrolled": false
   },
   "outputs": [],
   "source": [
    "# Write your code here.\n",
    "listAlpha = [\"a\",\"i\",\"o\",\"u\",\"e\"]\n",
    "# for i in range(97, 124):\n",
    "#     listAlpha.append(chr(i))\n",
    "\n",
    "# listAlpha"
   ]
  },
  {
   "cell_type": "markdown",
   "metadata": {
    "colab_type": "text",
    "id": "bt6EeQ6CBjvt"
   },
   "source": [
    "### 5.2 \n",
    "Create a variable called `my_letter` that has the value `\"a\"`."
   ]
  },
  {
   "cell_type": "code",
   "execution_count": 64,
   "metadata": {
    "colab": {},
    "colab_type": "code",
    "id": "qg8vg3q8Bjvv"
   },
   "outputs": [],
   "source": [
    "# Write your code here.\n",
    "my_letter = \"a\""
   ]
  },
  {
   "cell_type": "markdown",
   "metadata": {
    "colab_type": "text",
    "id": "jy2e2o_UBjv_"
   },
   "source": [
    "### 5.3 \n",
    "Now, write a conditional expression that returns `True` when `my_letter` is equal to `\"a\"`."
   ]
  },
  {
   "cell_type": "code",
   "execution_count": 65,
   "metadata": {
    "colab": {
     "base_uri": "https://localhost:8080/",
     "height": 34
    },
    "colab_type": "code",
    "executionInfo": {
     "elapsed": 2060,
     "status": "ok",
     "timestamp": 1562631721675,
     "user": {
      "displayName": "Stephen Koo",
      "photoUrl": "https://lh4.googleusercontent.com/-puW04LijCY0/AAAAAAAAAAI/AAAAAAABMD8/p1HymCYlPUI/s64/photo.jpg",
      "userId": "00528687567139275578"
     },
     "user_tz": 240
    },
    "id": "oYKfEl7_BjwA",
    "outputId": "ffd2acd7-7317-4ecc-b7a7-89557f08a681"
   },
   "outputs": [
    {
     "name": "stdout",
     "output_type": "stream",
     "text": [
      "true\n"
     ]
    }
   ],
   "source": [
    "# Write your code here.\n",
    "if my_letter == \"a\":\n",
    "    print(\"true\")"
   ]
  },
  {
   "cell_type": "markdown",
   "metadata": {
    "colab_type": "text",
    "id": "uysGN0QhBjwG"
   },
   "source": [
    "### 5.4 \n",
    "Write a function `printVowels` that iterates through `vowels` and prints each element."
   ]
  },
  {
   "cell_type": "code",
   "execution_count": 66,
   "metadata": {
    "colab": {},
    "colab_type": "code",
    "id": "bIs1opb3BjwR"
   },
   "outputs": [],
   "source": [
    "def printVowels(vowels):\n",
    "    for i in vowels:\n",
    "        print(i)"
   ]
  },
  {
   "cell_type": "code",
   "execution_count": 70,
   "metadata": {},
   "outputs": [
    {
     "name": "stdout",
     "output_type": "stream",
     "text": [
      "a\n",
      "i\n",
      "o\n",
      "u\n",
      "e\n"
     ]
    }
   ],
   "source": [
    "# Test your code here.\n",
    "printVowels(listAlpha)"
   ]
  },
  {
   "cell_type": "markdown",
   "metadata": {
    "colab_type": "text",
    "id": "R-VPfg6uBjwf"
   },
   "source": [
    "### 5.5 \n",
    "Now, write a function called `isVowel` that takes in a string `letter` and returns `True` if `letter` is a vowel and `False` otherwise. **Do this by looping through `vowels`.**"
   ]
  },
  {
   "cell_type": "code",
   "execution_count": 73,
   "metadata": {
    "colab": {
     "base_uri": "https://localhost:8080/",
     "height": 52
    },
    "colab_type": "code",
    "executionInfo": {
     "elapsed": 812,
     "status": "ok",
     "timestamp": 1562631887876,
     "user": {
      "displayName": "Stephen Koo",
      "photoUrl": "https://lh4.googleusercontent.com/-puW04LijCY0/AAAAAAAAAAI/AAAAAAABMD8/p1HymCYlPUI/s64/photo.jpg",
      "userId": "00528687567139275578"
     },
     "user_tz": 240
    },
    "id": "pzjkqsy5Bjwi",
    "outputId": "33524da2-9271-4774-c6bf-e1d6f6c81ab5"
   },
   "outputs": [
    {
     "data": {
      "text/plain": [
       "True"
      ]
     },
     "execution_count": 73,
     "metadata": {},
     "output_type": "execute_result"
    }
   ],
   "source": [
    "def isVowel(letter):   \n",
    "    if(letter == \"e\"):\n",
    "        return True\n",
    "    elif(letter == \"i\"):\n",
    "        return True\n",
    "    elif(letter == \"a\"):\n",
    "        return True\n",
    "    elif(letter == \"u\"):\n",
    "        return True\n",
    "    elif(letter == \"o\"):\n",
    "        return True\n",
    "    \n",
    "isVowel(my_letter)"
   ]
  },
  {
   "cell_type": "code",
   "execution_count": 74,
   "metadata": {},
   "outputs": [
    {
     "data": {
      "text/plain": [
       "True"
      ]
     },
     "execution_count": 74,
     "metadata": {},
     "output_type": "execute_result"
    }
   ],
   "source": [
    "# Test your code here.\n",
    "isVowel(my_letter)"
   ]
  },
  {
   "cell_type": "markdown",
   "metadata": {
    "colab_type": "text",
    "id": "lIFFJEl_Bjwy"
   },
   "source": [
    "### 5.6 \n",
    "Write a function `isVowel2` that does the same thing as $3.5$, but using only conditional expressions or boolean expressions."
   ]
  },
  {
   "cell_type": "code",
   "execution_count": 76,
   "metadata": {
    "colab": {
     "base_uri": "https://localhost:8080/",
     "height": 52
    },
    "colab_type": "code",
    "executionInfo": {
     "elapsed": 911,
     "status": "ok",
     "timestamp": 1562632073118,
     "user": {
      "displayName": "Stephen Koo",
      "photoUrl": "https://lh4.googleusercontent.com/-puW04LijCY0/AAAAAAAAAAI/AAAAAAABMD8/p1HymCYlPUI/s64/photo.jpg",
      "userId": "00528687567139275578"
     },
     "user_tz": 240
    },
    "id": "5aadHoyXBjw1",
    "outputId": "5f68d32c-e21f-4a1b-8382-560ad7af1881"
   },
   "outputs": [
    {
     "data": {
      "text/plain": [
       "True"
      ]
     },
     "execution_count": 76,
     "metadata": {},
     "output_type": "execute_result"
    }
   ],
   "source": [
    "def isVowel2(letter):   \n",
    "    if(letter == \"e\"):\n",
    "        return True\n",
    "    elif(letter == \"i\"):\n",
    "        return True\n",
    "    elif(letter == \"a\"):\n",
    "        return True\n",
    "    elif(letter == \"u\"):\n",
    "        return True\n",
    "    elif(letter == \"o\"):\n",
    "        return True\n",
    "    \n",
    "isVowel2(my_letter)"
   ]
  },
  {
   "cell_type": "code",
   "execution_count": 77,
   "metadata": {},
   "outputs": [
    {
     "data": {
      "text/plain": [
       "True"
      ]
     },
     "execution_count": 77,
     "metadata": {},
     "output_type": "execute_result"
    }
   ],
   "source": [
    "isVowel2(my_letter)"
   ]
  },
  {
   "cell_type": "markdown",
   "metadata": {
    "colab_type": "text",
    "id": "eIDh6sMBBjxD"
   },
   "source": [
    "### 5.7 \n",
    "Create a function called `isConsonant`, that returns `True` if the input is not a vowel, and `False` otherwise. \n"
   ]
  },
  {
   "cell_type": "code",
   "execution_count": 79,
   "metadata": {
    "colab": {},
    "colab_type": "code",
    "id": "_B__mSChBjxF"
   },
   "outputs": [],
   "source": [
    "def isConsonant(letter):\n",
    "    if (letter == \"a\") or (letter == \"o\") or (letter == \"i\") or (letter == \"e\") or (letter == \"u\"):\n",
    "        return False\n",
    "    else:\n",
    "        return True"
   ]
  },
  {
   "cell_type": "code",
   "execution_count": 82,
   "metadata": {},
   "outputs": [
    {
     "data": {
      "text/plain": [
       "False"
      ]
     },
     "execution_count": 82,
     "metadata": {},
     "output_type": "execute_result"
    }
   ],
   "source": [
    "# Test your code here.\n",
    "isConsonant(my_letter)"
   ]
  },
  {
   "cell_type": "markdown",
   "metadata": {
    "colab_type": "text",
    "id": "e9RIu5URBjxm"
   },
   "source": [
    "### 5.8 \n",
    "Try running the code below. Does it do what you expect?"
   ]
  },
  {
   "cell_type": "code",
   "execution_count": 83,
   "metadata": {
    "colab": {
     "base_uri": "https://localhost:8080/",
     "height": 34
    },
    "colab_type": "code",
    "executionInfo": {
     "elapsed": 2098,
     "status": "ok",
     "timestamp": 1562631721740,
     "user": {
      "displayName": "Stephen Koo",
      "photoUrl": "https://lh4.googleusercontent.com/-puW04LijCY0/AAAAAAAAAAI/AAAAAAABMD8/p1HymCYlPUI/s64/photo.jpg",
      "userId": "00528687567139275578"
     },
     "user_tz": 240
    },
    "id": "8XRvBNvyBjxs",
    "outputId": "8714b5ce-5cd2-4704-f6fa-4a00e2690661",
    "tags": []
   },
   "outputs": [
    {
     "name": "stdout",
     "output_type": "stream",
     "text": [
      "False\n",
      "True\n",
      "True\n",
      "True\n"
     ]
    }
   ],
   "source": [
    "print(isConsonant(\"a\"))\n",
    "print(isConsonant(\"b\"))\n",
    "print(isConsonant(\"1\"))\n",
    "print(isConsonant(\".\"))"
   ]
  },
  {
   "cell_type": "markdown",
   "metadata": {
    "colab_type": "text",
    "id": "RlmpMoS5Bjx5"
   },
   "source": [
    "### 5.9 \n",
    "Rewrite `isConsonant` so that it also returns `False` when it is not part of the alphabet. \n",
    "\n",
    "_Hint: Use >, <, >=, and/or <= as string comparators to test if it's part of the alphabet._"
   ]
  },
  {
   "cell_type": "code",
   "execution_count": 86,
   "metadata": {
    "colab": {},
    "colab_type": "code",
    "id": "EZ-whg4BBjx9"
   },
   "outputs": [
    {
     "name": "stdout",
     "output_type": "stream",
     "text": [
      "False\n",
      "True\n",
      "True\n",
      "True\n"
     ]
    }
   ],
   "source": [
    "def isConsonant(letter):\n",
    "    if (letter == \"a\") or (letter == \"o\") or (letter == \"i\") or (letter == \"e\") or (letter == \"u\") or (letter < \" \"):\n",
    "        return False\n",
    "    else:\n",
    "        return True\n",
    "# Test your code here!\n",
    "print(isConsonant(\"a\"))\n",
    "print(isConsonant(\"b\"))\n",
    "print(isConsonant(\"1\"))\n",
    "print(isConsonant(\".\"))"
   ]
  },
  {
   "cell_type": "markdown",
   "metadata": {
    "colab_type": "text",
    "id": "VBX3T-643Dvv"
   },
   "source": [
    "## Question 6"
   ]
  },
  {
   "cell_type": "markdown",
   "metadata": {
    "colab_type": "text",
    "id": "FbNSOIbJBjyJ"
   },
   "source": [
    "### 6.1 \n",
    "Write a function ``inTheList`` that takes in a list `lst` and a target element `t` that returns `True` if `t` is in `lst` and `False` otherwise. **Use a `for`-loop.**"
   ]
  },
  {
   "cell_type": "code",
   "execution_count": 93,
   "metadata": {
    "colab": {},
    "colab_type": "code",
    "id": "RkF7quPrBjyL"
   },
   "outputs": [],
   "source": [
    "def inTheList(lst, t):\n",
    "    for i in range(0,len(lst)):\n",
    "        if lst[i] == t:\n",
    "            return True\n",
    "    return False"
   ]
  },
  {
   "cell_type": "code",
   "execution_count": 96,
   "metadata": {},
   "outputs": [
    {
     "data": {
      "text/plain": [
       "False"
      ]
     },
     "execution_count": 96,
     "metadata": {},
     "output_type": "execute_result"
    }
   ],
   "source": [
    "# Test your code here.\n",
    "inTheList(\"hey\", \"o\")"
   ]
  },
  {
   "cell_type": "markdown",
   "metadata": {
    "colab_type": "text",
    "id": "RiAp26MdBjyU"
   },
   "source": [
    "### 6.2 \n",
    "Write a function `overlaps` which takes in two lists, `lst1` and `lst2`, and returns `True` if any element of `lst1` is in `lst2` and `False` otherwise. **You must use `for`-loops.**"
   ]
  },
  {
   "cell_type": "code",
   "execution_count": 110,
   "metadata": {
    "colab": {},
    "colab_type": "code",
    "id": "apR_jF8EBjyd"
   },
   "outputs": [],
   "source": [
    "def overlaps(lst1, lst2):\n",
    "    for i in range(0,len(lst1)):\n",
    "        for j in range(0,len(lst2)):\n",
    "            if lst1[i] == lst2[j]:\n",
    "                return True\n",
    "    return False\n",
    "            \n"
   ]
  },
  {
   "cell_type": "code",
   "execution_count": 111,
   "metadata": {},
   "outputs": [
    {
     "data": {
      "text/plain": [
       "False"
      ]
     },
     "execution_count": 111,
     "metadata": {},
     "output_type": "execute_result"
    }
   ],
   "source": [
    "# Test your function here.\n",
    "overlaps([1,2,3], [6,5,7])"
   ]
  },
  {
   "cell_type": "markdown",
   "metadata": {
    "colab_type": "text",
    "id": "13AFPZnQBjzH"
   },
   "source": [
    "### 6.3 \n",
    "Write a function `intersection` which takes in two lists, `lst1` and `lst2`, and returns a list containing the all the elements present in both lists. **You must use `for`-loops.**"
   ]
  },
  {
   "cell_type": "code",
   "execution_count": 115,
   "metadata": {
    "colab": {
     "base_uri": "https://localhost:8080/",
     "height": 34
    },
    "colab_type": "code",
    "executionInfo": {
     "elapsed": 1189,
     "status": "ok",
     "timestamp": 1562632697844,
     "user": {
      "displayName": "Stephen Koo",
      "photoUrl": "https://lh4.googleusercontent.com/-puW04LijCY0/AAAAAAAAAAI/AAAAAAABMD8/p1HymCYlPUI/s64/photo.jpg",
      "userId": "00528687567139275578"
     },
     "user_tz": 240
    },
    "id": "H4ho20CcBjzK",
    "outputId": "4517fd41-77bf-4f9e-867c-5009d640d456"
   },
   "outputs": [],
   "source": [
    "def intersection(lst1, lst2):\n",
    "    lst = []\n",
    "    for i in range(0,len(lst1)):\n",
    "        for j in range(0,len(lst2)):\n",
    "            if lst1[i] == lst2[j]:\n",
    "                lst.append(lst1[i])\n",
    "    return lst\n",
    "\n"
   ]
  },
  {
   "cell_type": "code",
   "execution_count": 116,
   "metadata": {
    "colab": {},
    "colab_type": "code",
    "id": "UeH_tcUA3DwS"
   },
   "outputs": [
    {
     "data": {
      "text/plain": [
       "[2, 3, 6]"
      ]
     },
     "execution_count": 116,
     "metadata": {},
     "output_type": "execute_result"
    }
   ],
   "source": [
    "# Test your function here. \n",
    "intersection([2,3,5,6], [2,6,7,3])"
   ]
  },
  {
   "cell_type": "markdown",
   "metadata": {},
   "source": [
    "## Question 7"
   ]
  },
  {
   "cell_type": "markdown",
   "metadata": {},
   "source": [
    "### 7.1\n",
    "\n",
    "A **palindrome** is a word that is spelt the same forward as it is backwards. \n",
    "\n",
    "For each of the following strings, say whether they are palindromes (in words):\n",
    "\n",
    "- \"radar\"\n",
    "- \"proper\"\n",
    "- \"aibohphobia\n",
    "- \"123123\""
   ]
  },
  {
   "cell_type": "raw",
   "metadata": {},
   "source": [
    "*Fill this in.*\n",
    "\n",
    "1. palindrome\n",
    "2. Not palindrome...\n",
    "3. palindrome\n",
    "4. not palindrome"
   ]
  },
  {
   "cell_type": "markdown",
   "metadata": {},
   "source": [
    "*Note:* A **palindrome** is a word that is spelt the same forward as it is backwards.\n",
    "- Palindromes:\n",
    "    - racecar\n",
    "    - madam\n",
    "    - 12321"
   ]
  },
  {
   "cell_type": "markdown",
   "metadata": {},
   "source": [
    "### Question 7.2\n",
    "Write a function that takes a string and returns `True` if the second and second to last characters of the string are the same and `False` otherwise."
   ]
  },
  {
   "cell_type": "code",
   "execution_count": 117,
   "metadata": {},
   "outputs": [],
   "source": [
    "## Write your code below\n",
    "def palindrome(x):\n",
    "    return x[0] == x[-1]"
   ]
  },
  {
   "cell_type": "code",
   "execution_count": 119,
   "metadata": {},
   "outputs": [
    {
     "data": {
      "text/plain": [
       "True"
      ]
     },
     "execution_count": 119,
     "metadata": {},
     "output_type": "execute_result"
    }
   ],
   "source": [
    "## Test your code here.\n"
   ]
  },
  {
   "cell_type": "markdown",
   "metadata": {},
   "source": [
    "### Question 7.3\n",
    "Write a function that takes a string and returns `True` if the string is a plaindrome. Use a `while` loop."
   ]
  },
  {
   "cell_type": "code",
   "execution_count": 128,
   "metadata": {},
   "outputs": [],
   "source": [
    "def isPalindrome(string):\n",
    "    \n",
    "    # Fill in your code here!\n",
    "    for i in range(0, len(string)):\n",
    "        if not (string[i] == string[(i + 1) * -1]):\n",
    "            return (\"False\")\n",
    "            break;\n",
    "        else:\n",
    "            return (\"True\")\n",
    "            \n"
   ]
  },
  {
   "cell_type": "code",
   "execution_count": 129,
   "metadata": {},
   "outputs": [
    {
     "data": {
      "text/plain": [
       "'True'"
      ]
     },
     "execution_count": 129,
     "metadata": {},
     "output_type": "execute_result"
    }
   ],
   "source": [
    "## Test your code here.\n",
    "isPalindrome(\"racecar\")"
   ]
  },
  {
   "cell_type": "markdown",
   "metadata": {},
   "source": [
    "## Question 8"
   ]
  },
  {
   "cell_type": "markdown",
   "metadata": {},
   "source": [
    "### Question 8.1 \n",
    "Write code that will print all the numbers between 0 and 20 that are not multiples of 3 using continue"
   ]
  },
  {
   "cell_type": "code",
   "execution_count": 133,
   "metadata": {},
   "outputs": [
    {
     "name": "stdout",
     "output_type": "stream",
     "text": [
      "1\n",
      "2\n",
      "4\n",
      "5\n",
      "7\n",
      "8\n",
      "10\n",
      "11\n",
      "13\n",
      "14\n",
      "16\n",
      "17\n",
      "19\n",
      "20\n"
     ]
    }
   ],
   "source": [
    "## Write your code here\n",
    "for i in range(0,21):\n",
    "    if not (i % 3 == 0):\n",
    "        print(i)"
   ]
  },
  {
   "cell_type": "markdown",
   "metadata": {},
   "source": [
    "### 8.2\n",
    "\n",
    "Try running the code below and see what happens (hint: you might need to use the stop button at the top of the page)."
   ]
  },
  {
   "cell_type": "code",
   "execution_count": 135,
   "metadata": {},
   "outputs": [],
   "source": [
    "i = 0\n",
    "while True:\n",
    "    i += 1\n",
    "    print(i)"
   ]
  },
  {
   "cell_type": "markdown",
   "metadata": {},
   "source": [
    "### 8.3\n",
    "\n",
    "Now, edit the code above to only print the numbers up to 20, using `break`."
   ]
  },
  {
   "cell_type": "code",
   "execution_count": 136,
   "metadata": {},
   "outputs": [
    {
     "name": "stdout",
     "output_type": "stream",
     "text": [
      "1\n"
     ]
    }
   ],
   "source": [
    "# Copy in the code from 8.2 and edit it.\n",
    "i = 0\n",
    "while True:\n",
    "    i += 1\n",
    "    print(i)\n",
    "    break;"
   ]
  },
  {
   "cell_type": "markdown",
   "metadata": {},
   "source": [
    "### 8.4\n",
    "\n",
    "Now, using `continue`, use the same code from 8.2 to print the numbers up to 20 that are not multiples of 3."
   ]
  },
  {
   "cell_type": "code",
   "execution_count": 137,
   "metadata": {},
   "outputs": [
    {
     "name": "stdout",
     "output_type": "stream",
     "text": [
      "1\n",
      "2\n",
      "3\n",
      "4\n",
      "5\n",
      "6\n",
      "7\n",
      "8\n",
      "9\n",
      "10\n",
      "11\n",
      "12\n",
      "13\n",
      "14\n",
      "15\n",
      "16\n",
      "17\n",
      "18\n",
      "19\n",
      "20\n"
     ]
    }
   ],
   "source": [
    "# Copy in the code from 8.2 and edit it.\n",
    "i = 0\n",
    "while True:\n",
    "    i += 1\n",
    "    print(i)\n",
    "    if i == 20:\n",
    "        break"
   ]
  },
  {
   "cell_type": "markdown",
   "metadata": {},
   "source": [
    "## Question 9"
   ]
  },
  {
   "cell_type": "markdown",
   "metadata": {},
   "source": [
    "Write a `while` loop that displays the first fifty prime numbers."
   ]
  },
  {
   "cell_type": "code",
   "execution_count": 143,
   "metadata": {},
   "outputs": [
    {
     "name": "stdout",
     "output_type": "stream",
     "text": [
      "2\n",
      "3\n",
      "5\n",
      "7\n",
      "11\n",
      "13\n",
      "17\n",
      "19\n",
      "23\n",
      "29\n",
      "31\n",
      "37\n",
      "41\n",
      "43\n",
      "47\n"
     ]
    }
   ],
   "source": [
    "n = 50 # Number of primes to display\n",
    "number = 2 # First prime number\n",
    "\n",
    "# Write your code here.    \n",
    "def is_prime(n):\n",
    "    i = 2\n",
    "    flag = True\n",
    "    while i <= ((n)**0.5):\n",
    "        if (n % i == 0):\n",
    "            flag = not flag\n",
    "            break;\n",
    "        else:\n",
    "            i += 1\n",
    "    return flag\n",
    "\n",
    "for i in range(0, n + 1):\n",
    "    if(is_prime(i)) and i >= 2:\n",
    "        print(i)\n",
    "    \n",
    "    "
   ]
  },
  {
   "cell_type": "markdown",
   "metadata": {
    "colab_type": "text",
    "id": "_UhGlRUc3Dw0"
   },
   "source": [
    "## Question 10"
   ]
  },
  {
   "cell_type": "markdown",
   "metadata": {
    "colab_type": "text",
    "id": "P1ekwsWW3Dw1"
   },
   "source": [
    "### 10.1 \n",
    "Look at the function below. Without calling it, can you predict the outcomes of calling ```funkyFunc(100)```, ```funkyFunc(123456)```, and ```funkyFunc(420)```?"
   ]
  },
  {
   "cell_type": "code",
   "execution_count": 168,
   "metadata": {
    "colab": {},
    "colab_type": "code",
    "id": "NHDP7jkW3Dw1"
   },
   "outputs": [
    {
     "data": {
      "text/plain": [
       "12"
      ]
     },
     "execution_count": 168,
     "metadata": {},
     "output_type": "execute_result"
    }
   ],
   "source": [
    "# Run this cell first.\n",
    "def funkyFunc(x):\n",
    "    z = x * 10\n",
    "    x = x % 10\n",
    "    z = z + x\n",
    "    return z\n",
    "\n",
    "funkyFunc(12) // 10"
   ]
  },
  {
   "cell_type": "code",
   "execution_count": null,
   "metadata": {
    "colab": {},
    "colab_type": "code",
    "id": "mIjxn2aa3Dw2"
   },
   "outputs": [],
   "source": [
    "# FILL IN YOUR ANSWERS FOR ??\n",
    "\n",
    "# for x = 100,     funkyFunc(x) = ?? 1000\n",
    "# for x = 123456,  funkyFunc(x) = ?? 1234566\n",
    "# for x = 420,      funkyFunc(x) = ?? 4200\n",
    "\n",
    "# Check your answers below with code:"
   ]
  },
  {
   "cell_type": "markdown",
   "metadata": {
    "colab_type": "text",
    "id": "W_rNUgyF3Dw6"
   },
   "source": [
    "### 10.2 \n",
    "Can you write a function ```funkierFunc``` which takes one argument and for which the following equation is true for any $x>0$:\n",
    " \n",
    " ```funkierFunc ( funkyFunc(x) ) = x```\n",
    " "
   ]
  },
  {
   "cell_type": "code",
   "execution_count": 170,
   "metadata": {
    "colab": {
     "base_uri": "https://localhost:8080/",
     "height": 34
    },
    "colab_type": "code",
    "executionInfo": {
     "elapsed": 1068,
     "status": "ok",
     "timestamp": 1564138141887,
     "user": {
      "displayName": "Stephen Koo",
      "photoUrl": "https://lh3.googleusercontent.com/a-/AAuE7mBMuHvf2j89kjsex3el-nRjPCbBTs0fFHlWIdsmmg=s64",
      "userId": "10496446536891937763"
     },
     "user_tz": -180
    },
    "id": "WsApCAky3Dw6",
    "outputId": "b3a9c5f1-042a-4648-8b27-bf81100dea0a"
   },
   "outputs": [
    {
     "data": {
      "text/plain": [
       "12124124"
      ]
     },
     "execution_count": 170,
     "metadata": {},
     "output_type": "execute_result"
    }
   ],
   "source": [
    "def funkierFunc(x):\n",
    "    return (funkyFunc(x) // 10)  \n",
    "    # Your code here.\n",
    "    \n",
    "funkierFunc(12124124)"
   ]
  },
  {
   "cell_type": "code",
   "execution_count": null,
   "metadata": {},
   "outputs": [],
   "source": [
    "# Test your code here."
   ]
  },
  {
   "cell_type": "markdown",
   "metadata": {},
   "source": [
    "## Question 11\n",
    "\n",
    "You are given the while loop below. Do NOT run it yet.\n",
    "\n",
    "\n",
    "```\n",
    "x, y, loops = 0, 21, 0\n",
    "\n",
    "while y:\n",
    "    loops += 1\n",
    "    if x <= y:\n",
    "        if x % 2 == 1:\n",
    "            x, y = y, x\n",
    "        elif x == 0:\n",
    "            x += (2 ** 2)\n",
    "        else:\n",
    "            x = x + 3\n",
    "            y = y // 2\n",
    "    else:\n",
    "    y = 0\n",
    "   \n",
    "```"
   ]
  },
  {
   "cell_type": "markdown",
   "metadata": {},
   "source": [
    "What would `x` output? Do NOT check your answer until after going through the while loop manually. Write your answer below."
   ]
  },
  {
   "cell_type": "raw",
   "metadata": {},
   "source": [
    "10"
   ]
  },
  {
   "cell_type": "markdown",
   "metadata": {},
   "source": [
    "What would `loops` output? Do NOT check your answer until after going through the while loop manually. Write your answer below."
   ]
  },
  {
   "cell_type": "raw",
   "metadata": {},
   "source": [
    "4"
   ]
  },
  {
   "cell_type": "markdown",
   "metadata": {},
   "source": [
    "Try the code above to see if you are correct."
   ]
  },
  {
   "cell_type": "code",
   "execution_count": 172,
   "metadata": {},
   "outputs": [
    {
     "name": "stdout",
     "output_type": "stream",
     "text": [
      "10 0 4\n"
     ]
    }
   ],
   "source": [
    "x, y, loops = 0, 21, 0\n",
    "\n",
    "while y:\n",
    "    loops += 1\n",
    "    if x <= y:\n",
    "        if x % 2 == 1:\n",
    "            x, y = y, x\n",
    "        elif x == 0:\n",
    "            x += (2 ** 2)\n",
    "        else:\n",
    "            x = x + 3\n",
    "            y = y // 2\n",
    "    else:\n",
    "        y = 0\n",
    "print(x,y,loops)"
   ]
  },
  {
   "cell_type": "markdown",
   "metadata": {},
   "source": [
    "## Question 12\n",
    "Implement `ramp`, which takes a non-negative integer n and returns whether it has more increases\n",
    "than decreases when reading its digits from left to right.  \n",
    "\n",
    "For example, `ramp(12343)` would return `True` since there are 3 increases and 1 decrease when reading from left to right."
   ]
  },
  {
   "cell_type": "code",
   "execution_count": 230,
   "metadata": {},
   "outputs": [],
   "source": [
    "def ramp(n):\n",
    "    \"\"\"Return whether non-negative integer N has more increases than decreases\"\"\"\n",
    "    digits = list(str(n))\n",
    "    digits = list(map(lambda x: int(x), digits))\n",
    "    \n",
    "    countIncrease = 0\n",
    "    countDecrease = 0\n",
    "    \n",
    "    for i in range(len(digits)):\n",
    "        if not ((i + 1) >=len(digits)):\n",
    "            if digits[i] > digits[i+1]:\n",
    "                print(digits[i])\n",
    "                countDecrease  += 1\n",
    "            if digits[i] < digits[i+1]:\n",
    "                countIncrease += 1\n",
    "    if countIncrease > countDecrease:\n",
    "        print(f\"count increase {countIncrease}\")\n",
    "        print(f\"count increase {countDecrease}\")\n",
    "        return True\n",
    "    else: \n",
    "        print(f\"count increase {countIncrease}\")\n",
    "        print(f\"count increase {countDecrease}\")\n",
    "        return False"
   ]
  },
  {
   "cell_type": "code",
   "execution_count": 233,
   "metadata": {},
   "outputs": [
    {
     "name": "stdout",
     "output_type": "stream",
     "text": [
      "4\n",
      "3\n",
      "2\n",
      "count increase 3\n",
      "count increase 3\n"
     ]
    },
    {
     "data": {
      "text/plain": [
       "False"
      ]
     },
     "execution_count": 233,
     "metadata": {},
     "output_type": "execute_result"
    }
   ],
   "source": [
    "# Test your code here.\n",
    "\n",
    "\n",
    "# digits = list(str(1234))\n",
    "# digits = list(map(lambda x: int(x), digits))\n",
    "\n",
    "# digits = []\n",
    "# for d in digits:\n",
    "#     digits.append(int(d))\n",
    "\n",
    "\n",
    "ramp(1234321)"
   ]
  },
  {
   "cell_type": "markdown",
   "metadata": {},
   "source": [
    "## Question 13\n",
    "Implement `unique_largest`, which takes a positive integer n. It returns whether the largest digit\n",
    "in n appears only once in n. You may assign values to multiple names in an assignment statement.\n",
    "You may not write call expressions or parentheses. You may not write `if`, `max`, `set`, `and`, or `or`.\n",
    "\n",
    "Example output:\n",
    "\n",
    "`unique_largest(132123)` # 3 is largest and appears twice\n",
    "False\n",
    "\n",
    "`unique_largest(1321523)` # 5 is largest and appears only once\n",
    "True\n",
    "\n",
    "`unique_largest(5)`\n",
    "True"
   ]
  },
  {
   "cell_type": "code",
   "execution_count": 254,
   "metadata": {},
   "outputs": [
    {
     "data": {
      "text/plain": [
       "True"
      ]
     },
     "execution_count": 254,
     "metadata": {},
     "output_type": "execute_result"
    }
   ],
   "source": [
    "def unique_largest(n):\n",
    "    \"\"\"Return whether the largest digit in n appears only once.\"\"\"\n",
    "    temp = n \n",
    "    for i in range(len(str(n))):\n",
    "        x =  n % 10\n",
    "        y = (n // 10 ** i) % 10 ** i\n",
    "        temp = n // 10 ** i\n",
    "        print(x,y,temp)\n",
    "    return x,y,temp\n",
    "\n",
    "def unique_largest(n):\n",
    "    digits = list(map(int, str(n)))\n",
    "    \n",
    "    # Counting the digits\n",
    "    table = [0] * 10\n",
    "    for d in digits:\n",
    "        table[d] += 1\n",
    "    # 123123 -> [0, 2, 2, 2, 0, 0, 0, 0, 0, 0]\n",
    "    # table[5] += 1\n",
    "    \n",
    "    # go through digits from large to small \n",
    "    for digit in range(9, -1, -1):\n",
    "        while table[digit] > 0:\n",
    "            while table[digit] == 1:\n",
    "                return True\n",
    "            return False\n",
    "    return False\n",
    "\n",
    "\n",
    "def unique_largest(n):\n",
    "    digits = list(map(int, str(n)))\n",
    "    digits = sorted(digits)\n",
    "    \n",
    "    # edge case with only single digit\n",
    "    while len(digits) == 1:\n",
    "        return True\n",
    "    \n",
    "    # just need to check the largest digit, and whether the previous one is the same \n",
    "    l = len(digits) - 1\n",
    "    # while index > 0:\n",
    "    while digits[l] == digits[l - 1]:\n",
    "        return False\n",
    "    return True\n",
    "\n",
    "\n",
    "unique_largest(2)"
   ]
  },
  {
   "cell_type": "code",
   "execution_count": 246,
   "metadata": {},
   "outputs": [
    {
     "name": "stdout",
     "output_type": "stream",
     "text": [
      "[0, 1, 1, 1, 1, 0, 0, 0, 0, 0]\n"
     ]
    }
   ],
   "source": [
    "# Test your code here\n",
    "unique_largest(1234)"
   ]
  },
  {
   "cell_type": "markdown",
   "metadata": {},
   "source": [
    "## Question 14\n",
    "Implement `same_digits`, which takes two positive integers. It returns whether they both become\n",
    "the same number after replacing each sequence of a digit repeated consecutively with only one of that\n",
    "digit. For example, in 12222321, the sequence 2222 would be replaced by only 2, leaving 12321.\n",
    "Restriction: You may only write combinations of the following in the blanks: a, b, end, 10, %, if, while, and, or, ==, !=, True, False, and return. (No division allowed!).\n",
    "\n",
    "Example outputs:\n",
    "\n",
    "`same_digits(2002200, 2202000)` # Ignoring repeats, both are 2020\n",
    "\n",
    "True\n",
    "\n",
    "`same_digits(21, 12)` # Digits must appear in the same order\n",
    "\n",
    "False\n",
    "\n",
    "`same_digits(12, 2212)` # 12 and 212 are not the same\n",
    "\n",
    "False\n",
    "\n",
    "`same_digits(2020, 20)` # 2020 and 20 are not the same\n",
    "\n",
    "False"
   ]
  },
  {
   "cell_type": "code",
   "execution_count": null,
   "metadata": {},
   "outputs": [],
   "source": [
    "def same_digits(a, b):\n",
    "    \"\"\"Return whether a and b become the same number after removing adjacent repeats.\"\"\"\n",
    "    \n",
    "    # TODO\n",
    "    \n",
    "    return a == b"
   ]
  },
  {
   "cell_type": "markdown",
   "metadata": {},
   "source": [
    "## Question 15\n",
    "Write a function `letter_freq` that takes in a string and returns a dictionary of the characters in the string as the keys and how many times they appear in the word as the values.  \n",
    "For example `letter_freq(\"Addiscoder is superfun!\")` should return `{\"A\":1 , \"d\":2 , \"i\":2 , \"s\":3 , \"c\":1 , \"o\":1 , \"d\":1 , \"e\":2 , \"r\":2 , \" \":2 \"u\":2 , \"p\":1 , \"f\":1 , \"n\":1 , \"!\":1}`"
   ]
  },
  {
   "cell_type": "code",
   "execution_count": null,
   "metadata": {},
   "outputs": [],
   "source": [
    "def letter_freq(str1):\n",
    "    \n",
    "    #TODO\n",
    "    \n",
    "    return"
   ]
  },
  {
   "cell_type": "code",
   "execution_count": null,
   "metadata": {},
   "outputs": [],
   "source": [
    "##Test your code here."
   ]
  }
 ],
 "metadata": {
  "colab": {
   "collapsed_sections": [],
   "name": "probs1b.ipynb",
   "provenance": [],
   "version": "0.3.2"
  },
  "kernelspec": {
   "display_name": "Python 3 (ipykernel)",
   "language": "python",
   "name": "python3"
  },
  "language_info": {
   "codemirror_mode": {
    "name": "ipython",
    "version": 3
   },
   "file_extension": ".py",
   "mimetype": "text/x-python",
   "name": "python",
   "nbconvert_exporter": "python",
   "pygments_lexer": "ipython3",
   "version": "3.11.0"
  }
 },
 "nbformat": 4,
 "nbformat_minor": 1
}
