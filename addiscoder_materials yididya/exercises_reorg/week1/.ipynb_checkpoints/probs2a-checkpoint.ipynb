{
 "cells": [
  {
   "cell_type": "markdown",
   "id": "170db53a",
   "metadata": {},
   "source": [
    "# Exercises for day 2a\n",
    "\n",
    "You will be working on a series of exercises for the material covered in lecture 2a.\n",
    "\n",
    "We covered:\n",
    "- Variables\n",
    "- Variable reassignment\n",
    "- Printing\n",
    "- Comments\n",
    "\n",
    "Remember, programming variables are NOT mathematical variables!"
   ]
  },
  {
   "cell_type": "markdown",
   "id": "423df225",
   "metadata": {},
   "source": [
    "## Exercise 1\n",
    "\n",
    "We will start with simple variable exercises. In order to see the value, make sure to put the variable at the end\n",
    "\n",
    "Assign the following values to `x`, one per cell:\n",
    "- `523798`\n",
    "- `True`\n",
    "- `\"this is a string\"`\n",
    "And make sure it's visible in Jupyter!"
   ]
  },
  {
   "cell_type": "code",
   "execution_count": 2,
   "id": "309edbac",
   "metadata": {},
   "outputs": [],
   "source": [
    "x=523798"
   ]
  },
  {
   "cell_type": "code",
   "execution_count": 3,
   "id": "f1b5b936",
   "metadata": {},
   "outputs": [],
   "source": [
    "x=True"
   ]
  },
  {
   "cell_type": "code",
   "execution_count": 4,
   "id": "bc9a6798",
   "metadata": {},
   "outputs": [],
   "source": [
    "x= \"this is a string\""
   ]
  },
  {
   "cell_type": "markdown",
   "id": "46e42ed4",
   "metadata": {},
   "source": [
    "# Exercise 2\n",
    "\n",
    "We will now focus on variable reassignment. For each of the following code blocks, guess what the output will be. Then, check your answer in Jupyter.\n",
    "\n",
    "1. Code block 1\n",
    "```python\n",
    "x = 7\n",
    "x = 3\n",
    "x\n",
    "```\n",
    "\n",
    "2. Code block 2\n",
    "```python\n",
    "x = 7\n",
    "y = x\n",
    "y\n",
    "```\n",
    "\n",
    "3. Code block 3\n",
    "```python\n",
    "x = 7\n",
    "y = x\n",
    "x\n",
    "```"
   ]
  },
  {
   "cell_type": "code",
   "execution_count": 5,
   "id": "fbe8756d",
   "metadata": {},
   "outputs": [
    {
     "data": {
      "text/plain": [
       "3"
      ]
     },
     "execution_count": 5,
     "metadata": {},
     "output_type": "execute_result"
    }
   ],
   "source": [
    "x = 7\n",
    "x = 3\n",
    "x\n"
   ]
  },
  {
   "cell_type": "code",
   "execution_count": null,
   "id": "0aefc0ac",
   "metadata": {},
   "outputs": [],
   "source": []
  },
  {
   "cell_type": "code",
   "execution_count": null,
   "id": "449baed1",
   "metadata": {},
   "outputs": [],
   "source": []
  },
  {
   "cell_type": "markdown",
   "id": "8e7f147a",
   "metadata": {},
   "source": [
    "# Exercise 3\n",
    "\n",
    "As with exercise 2, for each of the following code blocks, guess what the output will be. Write your guesses as comments in the code cells below! Then, check your answer in Jupyter.\n",
    "\n",
    "1. Code block 1\n",
    "```python\n",
    "x = 3\n",
    "y = x\n",
    "x = 4\n",
    "y\n",
    "```\n",
    "\n",
    "2. Code block 2\n",
    "```python\n",
    "x = 3\n",
    "y = x\n",
    "x = 4\n",
    "x\n",
    "```"
   ]
  },
  {
   "cell_type": "code",
   "execution_count": 6,
   "id": "55e26126",
   "metadata": {},
   "outputs": [
    {
     "data": {
      "text/plain": [
       "3"
      ]
     },
     "execution_count": 6,
     "metadata": {},
     "output_type": "execute_result"
    }
   ],
   "source": [
    "# My guess for y: 3\n",
    "x = 3\n",
    "y = x\n",
    "x = 4\n",
    "y\n",
    "\n"
   ]
  },
  {
   "cell_type": "code",
   "execution_count": 7,
   "id": "88339370",
   "metadata": {},
   "outputs": [
    {
     "data": {
      "text/plain": [
       "4"
      ]
     },
     "execution_count": 7,
     "metadata": {},
     "output_type": "execute_result"
    }
   ],
   "source": [
    "# My guess for x: 4\n",
    "\n",
    "x = 3\n",
    "y = x\n",
    "x = 4\n",
    "x\n"
   ]
  },
  {
   "cell_type": "markdown",
   "id": "930901f7",
   "metadata": {},
   "source": [
    "# Exercise 4\n",
    "\n",
    "As with exercises 2 and 3, for each of the following code blocks, guess what the output will be.  Write your guesses as comments in the code cells below! Then, check your answer in Jupyter.\n",
    "\n",
    "1. Code block 1\n",
    "```python\n",
    "x = \"hello\"\n",
    "y = \" world\"\n",
    "x + y\n",
    "```\n",
    "\n",
    "2. Code block 2\n",
    "```python\n",
    "x = \"hello\"\n",
    "y = \" world\"\n",
    "z = x + y\n",
    "x = \"bye\"\n",
    "z\n",
    "```\n",
    "\n",
    "3. Code block 3\n",
    "```python\n",
    "x = True\n",
    "y = 3\n",
    "z = x + y\n",
    "z\n",
    "```"
   ]
  },
  {
   "cell_type": "code",
   "execution_count": 8,
   "id": "e722307a",
   "metadata": {},
   "outputs": [
    {
     "data": {
      "text/plain": [
       "'hello world'"
      ]
     },
     "execution_count": 8,
     "metadata": {},
     "output_type": "execute_result"
    }
   ],
   "source": [
    "#answer: \"hello world\"\n",
    "\n",
    "x = \"hello\"\n",
    "y = \" world\"\n",
    "x + y\n"
   ]
  },
  {
   "cell_type": "code",
   "execution_count": 9,
   "id": "e4806b93",
   "metadata": {},
   "outputs": [
    {
     "data": {
      "text/plain": [
       "'hello world'"
      ]
     },
     "execution_count": 9,
     "metadata": {},
     "output_type": "execute_result"
    }
   ],
   "source": [
    "x = \"hello\"\n",
    "y = \" world\"\n",
    "z = x + y\n",
    "x = \"bye\"\n",
    "z\n",
    "# answer: \"hello world\""
   ]
  },
  {
   "cell_type": "code",
   "execution_count": 10,
   "id": "518c1f29",
   "metadata": {},
   "outputs": [
    {
     "data": {
      "text/plain": [
       "4"
      ]
     },
     "execution_count": 10,
     "metadata": {},
     "output_type": "execute_result"
    }
   ],
   "source": [
    "x = True\n",
    "y = 3\n",
    "z = x + y\n",
    "z\n",
    "#answer:4"
   ]
  },
  {
   "cell_type": "markdown",
   "id": "0842b471",
   "metadata": {},
   "source": [
    "## Exercise 5\n",
    "\n",
    "What happens when you try to do a computation with a variable which you have not yet given a value?\n",
    "Run the following code:\n",
    "\n",
    "```python\n",
    "a = 5\n",
    "x = a + b\n",
    "x\n",
    "```"
   ]
  },
  {
   "cell_type": "markdown",
   "id": "bd94029c",
   "metadata": {},
   "source": [
    "What do you need to add to the code so that it does not give an error?"
   ]
  },
  {
   "cell_type": "code",
   "execution_count": 11,
   "id": "b23b1842",
   "metadata": {},
   "outputs": [
    {
     "ename": "NameError",
     "evalue": "name 'b' is not defined",
     "output_type": "error",
     "traceback": [
      "\u001b[0;31m---------------------------------------------------------------------------\u001b[0m",
      "\u001b[0;31mNameError\u001b[0m                                 Traceback (most recent call last)",
      "Cell \u001b[0;32mIn[11], line 2\u001b[0m\n\u001b[1;32m      1\u001b[0m a \u001b[38;5;241m=\u001b[39m \u001b[38;5;241m5\u001b[39m\n\u001b[0;32m----> 2\u001b[0m x \u001b[38;5;241m=\u001b[39m a \u001b[38;5;241m+\u001b[39m \u001b[43mb\u001b[49m\n\u001b[1;32m      3\u001b[0m x\n\u001b[1;32m      4\u001b[0m \u001b[38;5;66;03m# error\u001b[39;00m\n",
      "\u001b[0;31mNameError\u001b[0m: name 'b' is not defined"
     ]
    }
   ],
   "source": [
    "a = 5\n",
    "x = a + b\n",
    "x\n",
    "# error"
   ]
  },
  {
   "cell_type": "markdown",
   "id": "37281ace",
   "metadata": {},
   "source": [
    "## Exercise 6"
   ]
  },
  {
   "cell_type": "markdown",
   "id": "284d359e",
   "metadata": {},
   "source": [
    "Given this code:\n",
    "```\n",
    "x = 12\n",
    "y = 5\n",
    "z = y\n",
    "y = 12\n",
    "x = 1 + z\n",
    "z = x + y + z\n",
    "```\n",
    "What is the value of x, y and z?  Write your guesses as comments in the code cells below!\n",
    "\n",
    "Then verify your solution by running the code above and adding a print statement for each of the variables at the end so that you can see the values of the variables."
   ]
  },
  {
   "cell_type": "code",
   "execution_count": 14,
   "id": "68715a4d",
   "metadata": {},
   "outputs": [
    {
     "name": "stdout",
     "output_type": "stream",
     "text": [
      "6\n",
      "12\n",
      "23\n"
     ]
    }
   ],
   "source": [
    "x = 12\n",
    "y = 5\n",
    "z = y\n",
    "y = 12\n",
    "x = 1 + z\n",
    "z = x + y + z\n",
    "print(x)\n",
    "print(y)\n",
    "print(z)\n",
    "# x=6, y=12, z=23"
   ]
  },
  {
   "cell_type": "markdown",
   "id": "70e46aaf",
   "metadata": {
    "colab_type": "text",
    "id": "8c5-cSN-zjOs"
   },
   "source": [
    "## Exercise 7: Variables"
   ]
  },
  {
   "cell_type": "markdown",
   "id": "53e1ce30",
   "metadata": {
    "colab_type": "text",
    "id": "L5UPycg-zjOt"
   },
   "source": [
    "### 7.1\n",
    "Define a variable ```x```, that has a value of ```5```. "
   ]
  },
  {
   "cell_type": "code",
   "execution_count": 15,
   "id": "2d23a676",
   "metadata": {
    "colab": {},
    "colab_type": "code",
    "id": "M-7O5a-JzjOv"
   },
   "outputs": [],
   "source": [
    "x=5"
   ]
  },
  {
   "cell_type": "markdown",
   "id": "afd02c31",
   "metadata": {
    "colab_type": "text",
    "id": "zBVhxkKMzjO2"
   },
   "source": [
    "### 7.2\n",
    "Define a variable ```y```, that has a value of ```x```. "
   ]
  },
  {
   "cell_type": "code",
   "execution_count": 16,
   "id": "8982a36c",
   "metadata": {
    "colab": {},
    "colab_type": "code",
    "id": "W5oQ3wyrzjO3"
   },
   "outputs": [],
   "source": [
    "y=x"
   ]
  },
  {
   "cell_type": "markdown",
   "id": "43ac687b",
   "metadata": {
    "colab_type": "text",
    "id": "iFMa1mHrzjO9"
   },
   "source": [
    "### 7.3\n",
    "What is the value of ```y```? "
   ]
  },
  {
   "cell_type": "code",
   "execution_count": 17,
   "id": "7f14c9c1",
   "metadata": {
    "colab": {},
    "colab_type": "code",
    "id": "LmNI_bIazjO-"
   },
   "outputs": [
    {
     "data": {
      "text/plain": [
       "5"
      ]
     },
     "execution_count": 17,
     "metadata": {},
     "output_type": "execute_result"
    }
   ],
   "source": [
    "x=5\n",
    "y=x\n",
    "y\n",
    "#answer:y=5"
   ]
  },
  {
   "cell_type": "markdown",
   "id": "8ba3ce4c",
   "metadata": {
    "colab_type": "text",
    "id": "-1a_vMUnzjPD"
   },
   "source": [
    "### 7.4\n",
    "Change ```x``` to ```4```. What is the value of ```y```? "
   ]
  },
  {
   "cell_type": "code",
   "execution_count": 21,
   "id": "9fd63f86",
   "metadata": {
    "colab": {},
    "colab_type": "code",
    "id": "zBDjO2KbzjPF"
   },
   "outputs": [
    {
     "data": {
      "text/plain": [
       "5"
      ]
     },
     "execution_count": 21,
     "metadata": {},
     "output_type": "execute_result"
    }
   ],
   "source": [
    "x=5\n",
    "y=x\n",
    "y\n",
    "x=4\n",
    "y\n",
    "#y=5"
   ]
  },
  {
   "cell_type": "markdown",
   "id": "d3258002",
   "metadata": {
    "colab_type": "text",
    "id": "_s3wCQgGzjPO"
   },
   "source": [
    "### 7.5\n",
    "Define a variable ```z```, that has a value of the sum of ```x``` and ```y```"
   ]
  },
  {
   "cell_type": "code",
   "execution_count": 19,
   "id": "ad0415b6",
   "metadata": {
    "colab": {},
    "colab_type": "code",
    "id": "MHIt7cdWzjPQ"
   },
   "outputs": [
    {
     "data": {
      "text/plain": [
       "9"
      ]
     },
     "execution_count": 19,
     "metadata": {},
     "output_type": "execute_result"
    }
   ],
   "source": [
    "z=x+y\n",
    "z"
   ]
  },
  {
   "cell_type": "markdown",
   "id": "f45480a0",
   "metadata": {
    "colab_type": "text",
    "id": "pPUKjYEfzjPc"
   },
   "source": [
    "### 7.6\n",
    "Assign ```x``` another value, ```12```. What are the values of ```y``` and ```z```? "
   ]
  },
  {
   "cell_type": "code",
   "execution_count": 22,
   "id": "51c2bb41",
   "metadata": {
    "colab": {},
    "colab_type": "code",
    "id": "uIJME8kazjPe"
   },
   "outputs": [
    {
     "name": "stdout",
     "output_type": "stream",
     "text": [
      "5\n",
      "9\n"
     ]
    }
   ],
   "source": [
    "x=12\n",
    "print(y)\n",
    "print(z)\n"
   ]
  },
  {
   "cell_type": "markdown",
   "id": "23df224d",
   "metadata": {
    "colab_type": "text",
    "id": "3zdY03w0zjOj"
   },
   "source": [
    "### 7.7\n",
    "Define a variable ```x``` and assign it the value of ```False```,  **but without using the keyword `False`**. \n",
    "\n",
    "Hint: You can do it using one special operator."
   ]
  },
  {
   "cell_type": "code",
   "execution_count": 24,
   "id": "ab178761",
   "metadata": {
    "colab": {},
    "colab_type": "code",
    "id": "L94xAZ9Z9aRY"
   },
   "outputs": [
    {
     "data": {
      "text/plain": [
       "False"
      ]
     },
     "execution_count": 24,
     "metadata": {},
     "output_type": "execute_result"
    }
   ],
   "source": [
    "x=bool(0)\n",
    "x"
   ]
  },
  {
   "cell_type": "markdown",
   "id": "878e5a63",
   "metadata": {
    "colab_type": "text",
    "id": "OPXbR38HzjPm"
   },
   "source": [
    "## Exercise 8: Tricky variable name"
   ]
  },
  {
   "cell_type": "markdown",
   "id": "0b9ff92d",
   "metadata": {
    "colab_type": "text",
    "id": "JYQFw6qfzjPo"
   },
   "source": [
    "### 8.1\n",
    "Given the following lines of code, what is the value of the variable ```seven```? "
   ]
  },
  {
   "cell_type": "markdown",
   "id": "5cb17b2b",
   "metadata": {
    "colab_type": "text",
    "id": "9m2pdJ4QzjPq"
   },
   "source": [
    "```python\n",
    "seven = 8\n",
    "```"
   ]
  },
  {
   "cell_type": "code",
   "execution_count": 25,
   "id": "ca10b7ed",
   "metadata": {
    "colab": {},
    "colab_type": "code",
    "id": "VGKOFVdTzjPs"
   },
   "outputs": [
    {
     "data": {
      "text/plain": [
       "8"
      ]
     },
     "execution_count": 25,
     "metadata": {},
     "output_type": "execute_result"
    }
   ],
   "source": [
    "8"
   ]
  },
  {
   "cell_type": "markdown",
   "id": "06b7ecbe",
   "metadata": {
    "colab_type": "text",
    "id": "AxYGPLMfzjPz"
   },
   "source": [
    "### 8.2\n",
    "Given the following lines of code, are the variables ```shiro``` and ```Shiro``` equivalent? "
   ]
  },
  {
   "cell_type": "code",
   "execution_count": 26,
   "id": "d65b85e5",
   "metadata": {
    "colab": {},
    "colab_type": "code",
    "id": "ZwyxT1aEzjP8"
   },
   "outputs": [
    {
     "data": {
      "text/plain": [
       "False"
      ]
     },
     "execution_count": 26,
     "metadata": {},
     "output_type": "execute_result"
    }
   ],
   "source": [
    "shiro = 10\n",
    "Shiro = 12\n",
    "#no\n",
    "shiro==Shiro"
   ]
  },
  {
   "cell_type": "markdown",
   "id": "a488400c",
   "metadata": {},
   "source": [
    "How can you look at the values of these variables? Use the `print` function to print the values of both!"
   ]
  },
  {
   "cell_type": "code",
   "execution_count": 27,
   "id": "4a7903e2",
   "metadata": {},
   "outputs": [
    {
     "name": "stdout",
     "output_type": "stream",
     "text": [
      "10\n",
      "12\n"
     ]
    }
   ],
   "source": [
    "print(shiro)\n",
    "print(Shiro)"
   ]
  },
  {
   "cell_type": "markdown",
   "id": "dfee85e3",
   "metadata": {},
   "source": [
    "## Exercise 9\n",
    "\n",
    "Look at the following code\n",
    "```python\n",
    "x = 99\n",
    "x /= 10\n",
    "x *= 50\n",
    "y = x\n",
    "y += 5\n",
    "x -= y\n",
    "y %= x\n",
    "\n",
    "```\n",
    "What is ```x``` and ```y```?  Try to do it in your head (or on paper) first and write your guesses as comments in the cell below. Only then try running it with code (use print statements to print the values of `x` and `y`)."
   ]
  },
  {
   "cell_type": "code",
   "execution_count": 29,
   "id": "953f4753",
   "metadata": {},
   "outputs": [
    {
     "data": {
      "text/plain": [
       "-0.0"
      ]
     },
     "execution_count": 29,
     "metadata": {},
     "output_type": "execute_result"
    }
   ],
   "source": [
    "x = 99\n",
    "x /= 10\n",
    "x *= 50\n",
    "y = x\n",
    "y += 5\n",
    "x -= y\n",
    "y %= x\n",
    "#y=0\n",
    "y"
   ]
  },
  {
   "cell_type": "markdown",
   "id": "be69dfdb",
   "metadata": {
    "colab_type": "text",
    "id": "5WSDbPAwzjQJ"
   },
   "source": [
    "## Exercise 10: Maths and Increment operations "
   ]
  },
  {
   "cell_type": "markdown",
   "id": "1a1bb665",
   "metadata": {
    "colab_type": "text",
    "id": "Jw5IpadlzjQM"
   },
   "source": [
    "### 10.1\n",
    "Define a variable ```x``` that has the value ```10``` times ```20```.\n"
   ]
  },
  {
   "cell_type": "code",
   "execution_count": 30,
   "id": "c89222ec",
   "metadata": {
    "colab": {},
    "colab_type": "code",
    "id": "P9eu6VbqzjQQ"
   },
   "outputs": [
    {
     "data": {
      "text/plain": [
       "200"
      ]
     },
     "execution_count": 30,
     "metadata": {},
     "output_type": "execute_result"
    }
   ],
   "source": [
    "x=10*20\n",
    "x"
   ]
  },
  {
   "cell_type": "markdown",
   "id": "7a39d0f8",
   "metadata": {
    "colab_type": "text",
    "id": "R_uf0e4SzjQi"
   },
   "source": [
    "### 10.2\n",
    "Now increment `x` by 3."
   ]
  },
  {
   "cell_type": "code",
   "execution_count": 31,
   "id": "73be65b6",
   "metadata": {
    "colab": {},
    "colab_type": "code",
    "id": "lirsaov9zjQk"
   },
   "outputs": [
    {
     "data": {
      "text/plain": [
       "203"
      ]
     },
     "execution_count": 31,
     "metadata": {},
     "output_type": "execute_result"
    }
   ],
   "source": [
    "x+=3\n",
    "x"
   ]
  },
  {
   "cell_type": "markdown",
   "id": "ec2d6724",
   "metadata": {
    "colab_type": "text",
    "id": "vJsa2wTG58fF"
   },
   "source": [
    "Can you increment `x` by 3 in a different way (using a different operator)?"
   ]
  },
  {
   "cell_type": "code",
   "execution_count": 33,
   "id": "d50ab543",
   "metadata": {
    "colab": {},
    "colab_type": "code",
    "id": "q-bb4lFK6Cg9"
   },
   "outputs": [
    {
     "data": {
      "text/plain": [
       "203"
      ]
     },
     "execution_count": 33,
     "metadata": {},
     "output_type": "execute_result"
    }
   ],
   "source": [
    "x=200\n",
    "x=x+3\n",
    "x"
   ]
  },
  {
   "cell_type": "markdown",
   "id": "1cba8dcd",
   "metadata": {
    "colab_type": "text",
    "id": "MaYucDnfzjRA"
   },
   "source": [
    "### 10.3\n",
    "Find the remainder of ```78``` divided by ```14``` using one operator from lecture. For example - \n",
    "\n",
    "$16 = 5 * 3 + 1$ (1 is the remainder). "
   ]
  },
  {
   "cell_type": "code",
   "execution_count": 34,
   "id": "4e87af27",
   "metadata": {
    "colab": {},
    "colab_type": "code",
    "id": "ASBdD-jYzjRK"
   },
   "outputs": [
    {
     "data": {
      "text/plain": [
       "8"
      ]
     },
     "execution_count": 34,
     "metadata": {},
     "output_type": "execute_result"
    }
   ],
   "source": [
    "x=78\n",
    "x%=14\n",
    "x"
   ]
  },
  {
   "cell_type": "markdown",
   "id": "7661c3b1",
   "metadata": {
    "colab_type": "text",
    "id": "4qmkRp6PzjRS"
   },
   "source": [
    "### 10.4\n",
    "Given ```x```, make ```x``` 10 times smaller using one operation. Return a value that has the type ```int```. "
   ]
  },
  {
   "cell_type": "code",
   "execution_count": 37,
   "id": "dcdf7f74",
   "metadata": {
    "colab": {},
    "colab_type": "code",
    "id": "3LvyQaJxzjRT"
   },
   "outputs": [
    {
     "data": {
      "text/plain": [
       "2"
      ]
     },
     "execution_count": 37,
     "metadata": {},
     "output_type": "execute_result"
    }
   ],
   "source": [
    "x=20\n",
    "x//=10\n",
    "x"
   ]
  },
  {
   "cell_type": "markdown",
   "id": "78358771",
   "metadata": {
    "colab_type": "text",
    "id": "g1zA998VzjRz"
   },
   "source": [
    "### 10.5\n",
    "Write one line of code each that modifies the variable containing `\"Shiro\"` so that it contains the new value\n",
    "\n",
    "a. ```\"ShiroShiroShiro\"```\n",
    "\n",
    "b. ```\"Shiro3\"```"
   ]
  },
  {
   "cell_type": "code",
   "execution_count": 40,
   "id": "fb0b87ad",
   "metadata": {},
   "outputs": [
    {
     "data": {
      "text/plain": [
       "'ShiroShiroShiro'"
      ]
     },
     "execution_count": 40,
     "metadata": {},
     "output_type": "execute_result"
    }
   ],
   "source": [
    "shiro = \"Shiro\"\n",
    "# Add one line of code here that modifies shiro\n",
    "shiro='Shiro'*3\n",
    "shiro"
   ]
  },
  {
   "cell_type": "code",
   "execution_count": 41,
   "id": "5bf01c3d",
   "metadata": {},
   "outputs": [
    {
     "data": {
      "text/plain": [
       "'Shiro3'"
      ]
     },
     "execution_count": 41,
     "metadata": {},
     "output_type": "execute_result"
    }
   ],
   "source": [
    "shiro = \"Shiro\"\n",
    "# Add one line of code here that modifies shiro\n",
    "shiro =\"Shiro3\"\n",
    "shiro"
   ]
  },
  {
   "cell_type": "markdown",
   "id": "77e23393",
   "metadata": {},
   "source": [
    "## Exercise 11: Commenting code\n",
    "\n",
    "The following code computes the area of the shape below. \n",
    "\n",
    "![](shape.png)\n",
    "\n",
    "However, it is not very easy to understand what happens in each line. Add a comment at the end of each line explaining what is going on!"
   ]
  },
  {
   "cell_type": "code",
   "execution_count": 42,
   "id": "b82a2c11",
   "metadata": {},
   "outputs": [
    {
     "data": {
      "text/plain": [
       "16.429614317029973"
      ]
     },
     "execution_count": 42,
     "metadata": {},
     "output_type": "execute_result"
    }
   ],
   "source": [
    "a = 3\n",
    "#length of the square\n",
    "s = 3**2\n",
    "#area of the square\n",
    "d = 0.5*3.14*(a/2)**2\n",
    "#area of the half circle\n",
    "t = 3**0.5 / 4 * a**2 \n",
    "#area of the triangle\n",
    "aa = s + d + t\n",
    "#total area of the figure\n",
    "aa"
   ]
  },
  {
   "cell_type": "markdown",
   "id": "45ed78c2",
   "metadata": {},
   "source": [
    "Adding comments to complicated code is generally good practice, because it helps other people (and also yourself if you read your code in the future) to understand your code more easily.\n",
    "\n",
    "One other thing that helps make code easier to understand is to use variable names that represent what is stored in the variable. For example, instead of `aa`, you could use `total_area`. Copy the code from above and rename the variables that are used in the code to make it easier to understand!"
   ]
  },
  {
   "cell_type": "code",
   "execution_count": 43,
   "id": "9840eba1",
   "metadata": {},
   "outputs": [
    {
     "data": {
      "text/plain": [
       "16.429614317029973"
      ]
     },
     "execution_count": 43,
     "metadata": {},
     "output_type": "execute_result"
    }
   ],
   "source": [
    "a = 3\n",
    "#length of the square\n",
    "s = 3**2\n",
    "#area of the square\n",
    "d = 0.5*3.14*(a/2)**2\n",
    "#area of the half circle\n",
    "t = 3**0.5 / 4 * a**2 \n",
    "#area of the triangle\n",
    "total_area = s + d + t\n",
    "#total area of the figure\n",
    "total_area"
   ]
  },
  {
   "cell_type": "markdown",
   "id": "d4f01089",
   "metadata": {},
   "source": [
    "# Conditionals\n",
    "\n",
    "Conditionals refers to `if`, `elif`, `else` statements, which the next few exercises are about.\n",
    "\n",
    "<hr>\n",
    "\n",
    "## Exercise 12\n",
    "\n",
    "Define a list `l`. Write code that prints \"This list is empty\" if the list is empty (has no elements), and \"This list has N elements\" (where N is the number of elements) otherwise. Make sure your code works even if you change `l`."
   ]
  },
  {
   "cell_type": "code",
   "execution_count": 47,
   "id": "80f579a7",
   "metadata": {
    "colab_type": "text",
    "id": "xaRSaQ7kzjRh"
   },
   "outputs": [
    {
     "ename": "IndentationError",
     "evalue": "unexpected indent (2719839776.py, line 3)",
     "output_type": "error",
     "traceback": [
      "\u001b[0;36m  Cell \u001b[0;32mIn[47], line 3\u001b[0;36m\u001b[0m\n\u001b[0;31m    if [l]=0:\u001b[0m\n\u001b[0m    ^\u001b[0m\n\u001b[0;31mIndentationError\u001b[0m\u001b[0;31m:\u001b[0m unexpected indent\n"
     ]
    }
   ],
   "source": [
    "list=l\n",
    "l=[1,2,3,4]\n",
    "    if [l]=0:\n",
    "        print (\"this list is empty\")\n",
    "    else:\n",
    "        print(\"this list has [l] elements\")\n",
    "l"
   ]
  },
  {
   "cell_type": "markdown",
   "id": "8bd75615",
   "metadata": {},
   "source": [
    "## Exercise 13\n",
    "\n",
    "Define a **positive floating point** number `x`.\n",
    "\n",
    "Write code that computes and prints the **rounded** version of that `x`. Make sure it works for all values of `x`.\n",
    "\n",
    "Example:\n",
    "- `x = 1.2` --> 1\n",
    "- `x = 12.6` --> 13\n",
    "- `x = 0.5` --> 1\n",
    "\n",
    "Hint: You can **round down** a number by converting it to an integer. Could that be useful here?"
   ]
  },
  {
   "cell_type": "code",
   "execution_count": 48,
   "id": "37229ae6",
   "metadata": {},
   "outputs": [
    {
     "ename": "SyntaxError",
     "evalue": "invalid syntax (3059063139.py, line 3)",
     "output_type": "error",
     "traceback": [
      "\u001b[0;36m  Cell \u001b[0;32mIn[48], line 3\u001b[0;36m\u001b[0m\n\u001b[0;31m    if x>=x.5:\u001b[0m\n\u001b[0m           ^\u001b[0m\n\u001b[0;31mSyntaxError\u001b[0m\u001b[0;31m:\u001b[0m invalid syntax\n"
     ]
    }
   ],
   "source": [
    "x=pfp\n",
    "#pfp=positive floating point\n",
    "if x>=int(x)+0.5:\n",
    "    print(int(x)+1)\n",
    "else:\n",
    "    print(int(x))\n",
    "    "
   ]
  },
  {
   "cell_type": "markdown",
   "id": "b206835e",
   "metadata": {
    "colab_type": "text",
    "id": "n6GNRgohwkhi"
   },
   "source": [
    "## Exercise 14"
   ]
  },
  {
   "cell_type": "markdown",
   "id": "b9bbe1a2",
   "metadata": {
    "colab_type": "text",
    "id": "W1EgkPa2wkhj"
   },
   "source": [
    "Different **ages** correspond to different **school** in Ethiopia. This shows these categories:\n",
    "\n",
    "    0 - 5     No School\n",
    " \n",
    "    6 - 13    Elementary School     \n",
    "\n",
    "    14 - 18   High School\n",
    "    \n",
    "    19 - 22   University\n",
    "\n",
    "    23 - 100  No School   \n",
    "    "
   ]
  },
  {
   "cell_type": "markdown",
   "id": "c5897b0b",
   "metadata": {
    "colab_type": "text",
    "id": "TVsNVl2ewkhp"
   },
   "source": [
    "Write a variable for Daniel that stores his age (an integer between 0 and 100). \n",
    "\n",
    "Now **using this variable**, how would you write a **conditional** to check if Daniel is in **elementary** school? If this is `True`, **print** the string `\"Elementary School\"`."
   ]
  },
  {
   "cell_type": "code",
   "execution_count": 56,
   "id": "5aca0f1b",
   "metadata": {
    "colab": {},
    "colab_type": "code",
    "id": "4_GCPYF7wkhq"
   },
   "outputs": [
    {
     "name": "stdout",
     "output_type": "stream",
     "text": [
      "34\n",
      "No school\n"
     ]
    }
   ],
   "source": [
    "# Write code here to verify if Daniel is in \"Elementary School\" using conditionals (`if`, `elif`, `else`)\n",
    "x=int(input())\n",
    "if 0<=x<=5:\n",
    "    print(\"no school\")\n",
    "elif 6<=x<14:\n",
    "    print(\"elementary school\")\n",
    "elif 14<=x<=18:\n",
    "    print(\"high school\")\n",
    "elif 19<=x<=22:\n",
    "    print(\"university\")\n",
    "elif 23<=x<=100:\n",
    "    print(\"No school\")\n",
    "else:\n",
    "    print(\"on the path of death\")\n",
    "\n"
   ]
  },
  {
   "cell_type": "markdown",
   "id": "acb02c2d",
   "metadata": {
    "colab_type": "text",
    "id": "RAzlArUcwkhv"
   },
   "source": [
    "Similar to above, how would you write a **conditional** to check if Daniel is in the `\"No School\"` category? Make sure to verify both cases (`\"Elementary School\"` and `\"No School\"`) and if the age is in those ranges, **print** the string `\"No School\"` and `\"Elementary School\"` respectively. "
   ]
  },
  {
   "cell_type": "code",
   "execution_count": 58,
   "id": "3b0c8b88",
   "metadata": {
    "colab": {},
    "colab_type": "code",
    "id": "Fho2HC2owkhw"
   },
   "outputs": [
    {
     "name": "stdout",
     "output_type": "stream",
     "text": [
      "elementary school\n"
     ]
    }
   ],
   "source": [
    "# Write code here to verify if Daniel is in \"Elementary School\" or \"No School\" using conditionals (`if`, `elif`, `else`)\n",
    "x=13\n",
    "if 0<=x<=5 or 23<=x<=100:\n",
    "    print(\"no school\")\n",
    "elif 6<=x<14:\n",
    "    print(\"elementary school\")\n",
    "else:\n",
    "    print(\"nothing\")\n",
    "\n"
   ]
  },
  {
   "cell_type": "markdown",
   "id": "210d89b0",
   "metadata": {
    "colab_type": "text",
    "id": "-SnwOJL3wkhy"
   },
   "source": [
    "Write a **conditional** that prints `\"No School\"` if the person is not in school or `\"School\"` if the person is in school."
   ]
  },
  {
   "cell_type": "code",
   "execution_count": 59,
   "id": "85a1ed89",
   "metadata": {
    "colab": {},
    "colab_type": "code",
    "id": "7yhHh-iMwkhz"
   },
   "outputs": [
    {
     "name": "stdout",
     "output_type": "stream",
     "text": [
      "school\n"
     ]
    }
   ],
   "source": [
    "x=13\n",
    "if 0<=x<=5 or 23<=x<=100:\n",
    "    print(\"no school\")\n",
    "elif 6<=x<14 or 14<=x<=18 or 19<=x<=22:\n",
    "    print(\"school\")\n",
    "else:\n",
    "    print(\"nothing\")"
   ]
  },
  {
   "cell_type": "markdown",
   "id": "b63b722d",
   "metadata": {
    "colab_type": "text",
    "id": "ffKowNP4wkh1"
   },
   "source": [
    "Now using the code pieces you just wrote and your knowledge of **conditionals**, write a **conditional** that prints the category of school they are in (string).\n",
    "Test it for different ages to make sure that it works as intended."
   ]
  },
  {
   "cell_type": "code",
   "execution_count": null,
   "id": "d8648da7",
   "metadata": {},
   "outputs": [],
   "source": []
  },
  {
   "cell_type": "markdown",
   "id": "4221513c",
   "metadata": {
    "colab": {},
    "colab_type": "code",
    "id": "a29XjSewwkh1"
   },
   "source": [
    "## Exercise 15"
   ]
  },
  {
   "cell_type": "markdown",
   "id": "30db6a6d",
   "metadata": {},
   "source": [
    "The sign of a number is +1 if the number is positive, -1 if the number is negative, and 0 if it is 0.\n",
    "\n",
    "Define a variable `n1`, and write code that computes and prints its sign"
   ]
  },
  {
   "cell_type": "code",
   "execution_count": 62,
   "id": "9e2944e6",
   "metadata": {},
   "outputs": [
    {
     "name": "stdout",
     "output_type": "stream",
     "text": [
      "+\n"
     ]
    }
   ],
   "source": [
    "n1=3\n",
    "if n1>0:\n",
    "    print(\"+\")\n",
    "elif n1<0:\n",
    "    print(\"-\")\n",
    "else:\n",
    "    print(0)\n",
    "        "
   ]
  },
  {
   "cell_type": "markdown",
   "id": "dd86ac9d",
   "metadata": {
    "colab": {},
    "colab_type": "code",
    "id": "ByPI6HfMzjR0"
   },
   "source": [
    "Define another variable `n2`, and write code that computes and prints the absolute value of that number."
   ]
  },
  {
   "cell_type": "code",
   "execution_count": 67,
   "id": "e7409343",
   "metadata": {},
   "outputs": [
    {
     "name": "stdout",
     "output_type": "stream",
     "text": [
      "0\n"
     ]
    }
   ],
   "source": [
    "\n",
    "n2=0\n",
    "#av=absolute value\n",
    "if n2>0:\n",
    "    print(n2)\n",
    "elif n2<0:\n",
    "    print(n2*-1)\n",
    "else:\n",
    "    print(0)\n"
   ]
  },
  {
   "cell_type": "markdown",
   "id": "65829936",
   "metadata": {},
   "source": [
    "Using the code from above, write code that takes two variables `n1` and `n2` and computes and prints the number `n2` but with the sign of `n1`.\n",
    "\n",
    "Example:\n",
    "- `n1 = 16` and `n2 = -2` --> 2 \n",
    "- `n1 = 16` and `n2 = -14` --> 14 \n",
    "- `n1 = -16` and `n2 = -2` --> -2\n",
    "- `n1 = -16` and `n2 = 2` --> -2\n",
    "- `n1 = 0` and `n2 = 2` --> 0"
   ]
  },
  {
   "cell_type": "code",
   "execution_count": 68,
   "id": "2c4fa512",
   "metadata": {},
   "outputs": [
    {
     "name": "stdout",
     "output_type": "stream",
     "text": [
      "1\n",
      "-2\n",
      "2\n"
     ]
    }
   ],
   "source": [
    "n1=int(input())\n",
    "n2=int(input())\n",
    "if n1>0 and n2<0:\n",
    "    print (n2*-1)\n",
    "else:\n",
    "    print (0)"
   ]
  },
  {
   "cell_type": "code",
   "execution_count": null,
   "id": "e4c2cf18",
   "metadata": {},
   "outputs": [],
   "source": []
  }
 ],
 "metadata": {
  "kernelspec": {
   "display_name": "Python 3 (ipykernel)",
   "language": "python",
   "name": "python3"
  },
  "language_info": {
   "codemirror_mode": {
    "name": "ipython",
    "version": 3
   },
   "file_extension": ".py",
   "mimetype": "text/x-python",
   "name": "python",
   "nbconvert_exporter": "python",
   "pygments_lexer": "ipython3",
   "version": "3.11.0"
  }
 },
 "nbformat": 4,
 "nbformat_minor": 5
}
