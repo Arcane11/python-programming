{
 "cells": [
  {
   "cell_type": "markdown",
   "metadata": {},
   "source": [
    "### Challenge: Finding slices of lists that sum to zero\n",
    "Consider a list named `foo`"
   ]
  },
  {
   "cell_type": "code",
   "execution_count": 7,
   "metadata": {},
   "outputs": [],
   "source": [
    "foo = [2, 3, -23, 1, -2, 5, 1]\n",
    "\n",
    "for i in range(len(foo)):\n",
    "    for j in range(len(foo)):\n",
    "        if (sum(foo[i:j]) == 0) and len(foo[i:j]) != 0 :\n",
    "            print(foo[i:j])\n",
    "#         else:\n",
    "#             print(\"nop No can do\")\n"
   ]
  },
  {
   "cell_type": "markdown",
   "metadata": {},
   "source": [
    "Notice how `foo[1:5]`, that is, `[3, -2, 1, -2]`, sums to zero.\n",
    "\n",
    "That is, 3 + (-2) + 1 + (-2) = 0."
   ]
  },
  {
   "cell_type": "code",
   "execution_count": 3,
   "metadata": {},
   "outputs": [
    {
     "name": "stdout",
     "output_type": "stream",
     "text": [
      "Here is a slice of foo: [3, -2, 1, -2]\n",
      "This slice sums to: 0\n"
     ]
    }
   ],
   "source": [
    "print('Here is a slice of foo:', foo[1:5])\n",
    "print('This slice sums to:', sum(foo[1:5]))"
   ]
  },
  {
   "cell_type": "markdown",
   "metadata": {},
   "source": [
    "What if we wanted to write a python function named `zeroSumSlice()` that:\n",
    "1. Takes any list of integers as an argument. \n",
    "2. Returns a slice of that list that sums to zero. \n",
    "\n",
    "Specifically, this function should return **any** slice that sums to zero, \n",
    "so long as that slice is **not** an empty list `[]`. \n",
    "\n",
    "If there is no such slice in the list, this function should return `None` instead. \n",
    "\n",
    "```\n",
    "zeroSumSlice([1,-3,3,1]) # returns [-3, 3]\n",
    "zeroSumSlice([1,2,3])    # returns None\n",
    "```\n",
    "\n",
    "Here is one way to write this function. \n"
   ]
  },
  {
   "cell_type": "code",
   "execution_count": 11,
   "metadata": {},
   "outputs": [
    {
     "name": "stdout",
     "output_type": "stream",
     "text": [
      "[3, -2, 1, -2]\n",
      "[-3, 3]\n",
      "None\n"
     ]
    }
   ],
   "source": [
    "def zeroSumSlice(foo):\n",
    "#     n = len(lst)\n",
    "#     # try every possible slice in the list.\n",
    "#     # see if any slice sums to zero.\n",
    "#     for i in range(n):\n",
    "#         for j in range(i + 1, n):\n",
    "#             someSlice = lst[i:j]\n",
    "#             if sum(someSlice) == 0:\n",
    "#                 return someSlice\n",
    "#     # no slice found\n",
    "#     return None\n",
    "    for i in range(len(foo)):\n",
    "        for j in range(len(foo)):\n",
    "            if (sum(foo[i:j]) == 0) and len(foo[i:j]) != 0:\n",
    "                return(foo[i:j])\n",
    "    return None\n",
    "\n",
    "\n",
    "print(zeroSumSlice([2, 3, -2, 1, -2, 5, 1]))\n",
    "print(zeroSumSlice([1, -3, 3, 1]))\n",
    "print(zeroSumSlice([1, 2, 3]))"
   ]
  },
  {
   "cell_type": "markdown",
   "metadata": {},
   "source": [
    "#### Question 1 \n",
    "In python, `sum()` is a built-in function. Try writing your own `mySum()` function to see how it works"
   ]
  },
  {
   "cell_type": "code",
   "execution_count": 14,
   "metadata": {},
   "outputs": [
    {
     "name": "stdout",
     "output_type": "stream",
     "text": [
      "True\n",
      "True\n",
      "True\n",
      "True\n"
     ]
    }
   ],
   "source": [
    "# mySum takes a list of numbers, lst, and returns the sum of those numbers.\n",
    "def mySum(lst):\n",
    "    # YOUR CODE HERE. Use a for loop. Do not use sum()!\n",
    "    Sum = 0\n",
    "    for i in lst:\n",
    "        Sum += i\n",
    "    return Sum\n",
    "\n",
    "\n",
    "# If your code is correct,\n",
    "# these statements should all print True\n",
    "print(mySum([1, 2, 3]) == 6)\n",
    "print(mySum(range(100)) == 4950)\n",
    "print(mySum([]) == 0)\n",
    "print(mySum([1, -1]) == 0)"
   ]
  },
  {
   "cell_type": "markdown",
   "metadata": {},
   "source": [
    "#### Question 2\n",
    "If we call the length of the list `n`, what is the time complexity of `mySum()` in terms of `n`? Use asymptotic (Big-O) notation. \n",
    "\n",
    "Note: Time complexity counts how many operations are done in your code. If you have a single for loop from 1 to `n`, it takes approximately `n` operations to do the counting in the for loops. We call that linear time, or $O(n)$.\n",
    "For example, the python `sum` function, to sum up `n` numbers, also takes $O(n)$. \n",
    "\n",
    "If you use the `sum` function within a `for` loop from 1 to `n`, the `sum` function is called $O(n)$ times, and each time it uses $O(n)$ operations, for a total of $O(n^2)$, called quadratic time complexity. Similarly, if you have a for loop within a for loop, you get $O(n^2)$.\n",
    "\n",
    "If you use `sum` inside a for loop inside a for loop, you get cubic time complexity, $O(n^3)$.\n",
    "\n",
    "Ask a TA to explain these concepts to you in more detail!"
   ]
  },
  {
   "cell_type": "code",
   "execution_count": 103,
   "metadata": {},
   "outputs": [
    {
     "name": "stdout",
     "output_type": "stream",
     "text": [
      "[2, 1, 123, 153, 3, 3, 7]\n",
      "[2, 1, 3, 3, 7] 53 [123]\n",
      "[2, 1] 3 [3, 7]\n",
      "[] 1 [2]\n",
      "[3] 7 []\n"
     ]
    },
    {
     "data": {
      "text/plain": [
       "[1, 2, 3, 3, 7, 53, 123]"
      ]
     },
     "execution_count": 103,
     "metadata": {},
     "output_type": "execute_result"
    }
   ],
   "source": [
    "# # YOUR ANSWER HERE. Use Big-O notation.\n",
    "# # def Sum_list(lst):\n",
    "# #     Sum = 0\n",
    "# #     for i in lst:\n",
    "# #         Sum += i\n",
    "# #     return Sum\n",
    "\n",
    "def bubbleSort(lst):\n",
    "    n = len(lst)\n",
    "    for i in range(n):\n",
    "        for j in range(n - 1):\n",
    "            if lst[i] < lst[j]:\n",
    "                lst[i] , lst[j] = lst[j] , lst[i]\n",
    "    return lst\n",
    "\n",
    "\n",
    "# def duplicates(lst):\n",
    "#     for i in range(len(lst)):\n",
    "#         for j in range(len(lst)):\n",
    "#             if lst[i] == lst[j] and i != j:\n",
    "#                 return True\n",
    "#     return False\n",
    "            \n",
    "# def dic_dup(lst):\n",
    "#     dic = {}\n",
    "#     for i in lst:\n",
    "#         if i in dic:\n",
    "#             return True   \n",
    "#         dic[i] = 0\n",
    "#     return False\n",
    " \n",
    "# n*log(n)\n",
    "# mergedSort\n",
    "# quickSort\n",
    "# #O(log_2(n))             \n",
    "            \n",
    "# dic_dup([5,4,1,9,8])\n",
    "import random\n",
    "\n",
    "def quickSort(lst):\n",
    "    if lst == []:\n",
    "        return []\n",
    "    if len(lst) == 1:\n",
    "        return lst\n",
    "#     x = random.randint(0, len(lst) - 1)\n",
    "    x = len(lst) // 2\n",
    "    #print(lst[x])\n",
    "    small =[]\n",
    "    large = []\n",
    "    \n",
    "    for i in range(len(lst)):\n",
    "        if lst[i] < lst[x]:\n",
    "            small += [lst[i]]\n",
    "        elif i != x:\n",
    "            large += [lst[i]]\n",
    "    print(small , lst[x], large)\n",
    "    return quickSort(small)  + [lst[x]] + quickSort(large)\n",
    "\n",
    "print([2,1,123,153,3,3,7])\n",
    "quickSort([2,1,123,53,3,3,7])\n",
    "    "
   ]
  },
  {
   "cell_type": "markdown",
   "metadata": {},
   "source": [
    "#### Question 3 \n",
    "Look at the code for `zeroSumSlice()`. What is the time complexity of `zeroSumSlice()` in terms of the length of the list, `n`? "
   ]
  },
  {
   "cell_type": "code",
   "execution_count": null,
   "metadata": {},
   "outputs": [],
   "source": [
    "# YOUR ANSER HERE. Use Big-O notation.\n",
    "# O(n**2)"
   ]
  },
  {
   "cell_type": "markdown",
   "metadata": {},
   "source": [
    "#### Question 4 \n",
    "`zeroSumSlice` is copied below. Make a small change to zeroSumSlice that improves the time complexity. You only need to change a few lines of code. "
   ]
  },
  {
   "cell_type": "code",
   "execution_count": 107,
   "metadata": {},
   "outputs": [
    {
     "ename": "UnboundLocalError",
     "evalue": "cannot access local variable 'j' where it is not associated with a value",
     "output_type": "error",
     "traceback": [
      "\u001b[0;31m---------------------------------------------------------------------------\u001b[0m",
      "\u001b[0;31mUnboundLocalError\u001b[0m                         Traceback (most recent call last)",
      "Cell \u001b[0;32mIn[107], line 20\u001b[0m\n\u001b[1;32m     16\u001b[0m     \u001b[38;5;66;03m# no slice found\u001b[39;00m\n\u001b[1;32m     17\u001b[0m     \u001b[38;5;28;01mreturn\u001b[39;00m \u001b[38;5;28;01mNone\u001b[39;00m\n\u001b[0;32m---> 20\u001b[0m \u001b[38;5;28mprint\u001b[39m(\u001b[43mbetterZeroSumSlice\u001b[49m\u001b[43m(\u001b[49m\u001b[43m[\u001b[49m\u001b[38;5;241;43m2\u001b[39;49m\u001b[43m,\u001b[49m\u001b[43m \u001b[49m\u001b[38;5;241;43m3\u001b[39;49m\u001b[43m,\u001b[49m\u001b[43m \u001b[49m\u001b[38;5;241;43m-\u001b[39;49m\u001b[38;5;241;43m2\u001b[39;49m\u001b[43m,\u001b[49m\u001b[43m \u001b[49m\u001b[38;5;241;43m1\u001b[39;49m\u001b[43m,\u001b[49m\u001b[43m \u001b[49m\u001b[38;5;241;43m-\u001b[39;49m\u001b[38;5;241;43m2\u001b[39;49m\u001b[43m,\u001b[49m\u001b[43m \u001b[49m\u001b[38;5;241;43m5\u001b[39;49m\u001b[43m,\u001b[49m\u001b[43m \u001b[49m\u001b[38;5;241;43m1\u001b[39;49m\u001b[43m]\u001b[49m\u001b[43m)\u001b[49m)\n\u001b[1;32m     21\u001b[0m \u001b[38;5;28mprint\u001b[39m(betterZeroSumSlice([\u001b[38;5;241m1\u001b[39m, \u001b[38;5;241m-\u001b[39m\u001b[38;5;241m3\u001b[39m, \u001b[38;5;241m3\u001b[39m, \u001b[38;5;241m1\u001b[39m]))\n\u001b[1;32m     22\u001b[0m \u001b[38;5;28mprint\u001b[39m(betterZeroSumSlice([\u001b[38;5;241m1\u001b[39m, \u001b[38;5;241m2\u001b[39m, \u001b[38;5;241m3\u001b[39m]))\n",
      "Cell \u001b[0;32mIn[107], line 11\u001b[0m, in \u001b[0;36mbetterZeroSumSlice\u001b[0;34m(lst)\u001b[0m\n\u001b[1;32m      9\u001b[0m Sum \u001b[38;5;241m=\u001b[39m \u001b[38;5;241m0\u001b[39m\n\u001b[1;32m     10\u001b[0m \u001b[38;5;28;01mfor\u001b[39;00m i \u001b[38;5;129;01min\u001b[39;00m \u001b[38;5;28mrange\u001b[39m(n):\n\u001b[0;32m---> 11\u001b[0m     candidateSlice \u001b[38;5;241m=\u001b[39m lst[i:\u001b[43mj\u001b[49m]\n\u001b[1;32m     12\u001b[0m     Sum \u001b[38;5;241m+\u001b[39m\u001b[38;5;241m=\u001b[39m candidateSlice[i]\n\u001b[1;32m     13\u001b[0m     \u001b[38;5;28;01mfor\u001b[39;00m j \u001b[38;5;129;01min\u001b[39;00m \u001b[38;5;28mrange\u001b[39m(i \u001b[38;5;241m+\u001b[39m \u001b[38;5;241m1\u001b[39m, n):\n",
      "\u001b[0;31mUnboundLocalError\u001b[0m: cannot access local variable 'j' where it is not associated with a value"
     ]
    }
   ],
   "source": [
    "# CHANGE A FEW LINES of this code to make it faster.\n",
    "# HINT: remove the sum() call and do something else.\n",
    "\n",
    "\n",
    "# def betterZeroSumSlice(lst):\n",
    "#     n = len(lst)\n",
    "#     # try every possible slice in the list.\n",
    "#     # see if any slice sums to zero.\n",
    "#     Sum = 0\n",
    "#     for i in range(n):\n",
    "#         for j in range(i + 1, n): \n",
    "#             if sum(candidateSlice) == 0:\n",
    "#                 return candidateSlice\n",
    "#     # no slice found\n",
    "#     return None\n",
    "\n"
   ]
  },
  {
   "cell_type": "code",
   "execution_count": 12,
   "metadata": {},
   "outputs": [
    {
     "name": "stdout",
     "output_type": "stream",
     "text": [
      "[3, -2, 1, -2]\n",
      "[-3, 3]\n",
      "No subarray with sum of 0\n"
     ]
    }
   ],
   "source": [
    "# def betterZeroSumSlice(lst):\n",
    "#     n = len(lst)\n",
    "#     for i in range(n):\n",
    "#         slc = lst[:i+1]\n",
    "#         total = sum(slc)\n",
    "#         for k in range(i+1):\n",
    "#             if total == 0:\n",
    "#                 return lst[k:i+1]\n",
    "#             total -= lst[k]\n",
    "#     return \"No subarray with sum of 0\"\n",
    "\n",
    "print(betterZeroSumSlice(([2, 3, -2, 1, -2, 5, 1])))\n",
    "print(betterZeroSumSlice([1, -3, 3, 1]))\n",
    "print(betterZeroSumSlice([1, 2, 3]))\n",
    "\n",
    "            "
   ]
  },
  {
   "cell_type": "code",
   "execution_count": 15,
   "metadata": {},
   "outputs": [
    {
     "name": "stdout",
     "output_type": "stream",
     "text": [
      "[3, -2, 1, -2]\n",
      "[-3, 3]\n",
      "No subarray with sum of 0\n"
     ]
    }
   ],
   "source": [
    "def betterZeroSumSliceReversed(lst):\n",
    "    n = len(lst) # 5\n",
    "    for i in range(n,0,-1): # 5\n",
    "        slc = lst[i: i - 1] # lst[5]\n",
    "        total = sum(slc)\n",
    "        for k in range(i+1):\n",
    "            if total == 0:\n",
    "                return lst[k:i+1]\n",
    "            total -= lst[k]\n",
    "    return \"No subarray with sum of 0\"\n",
    "print(betterZeroSumSlice(([2, 3, -2, 1, -2, 5, 1])))\n",
    "print(betterZeroSumSlice([1, -3, 3, 1]))\n",
    "print(betterZeroSumSlice([1, 2, 3]))\n"
   ]
  },
  {
   "cell_type": "markdown",
   "metadata": {},
   "source": [
    "#### Question 5\n",
    "What is the time complexity of `betterZeroSumSlice` from question 4? "
   ]
  },
  {
   "cell_type": "code",
   "execution_count": 14,
   "metadata": {},
   "outputs": [
    {
     "data": {
      "text/plain": [
       "[2, 1]"
      ]
     },
     "execution_count": 14,
     "metadata": {},
     "output_type": "execute_result"
    }
   ],
   "source": [
    "# YOUR ANSWER HERE. Use Big-O notation.\n",
    "list(range(2,0,-1))"
   ]
  },
  {
   "cell_type": "markdown",
   "metadata": {},
   "source": [
    "#### Question 6 \n",
    "Write your own version of `zeroSumSlice` that is as fast as possible. "
   ]
  },
  {
   "cell_type": "code",
   "execution_count": null,
   "metadata": {},
   "outputs": [],
   "source": [
    "def bestZeroSumSlice(lst):\n",
    "    return l"
   ]
  },
  {
   "cell_type": "markdown",
   "metadata": {},
   "source": [
    "#### Question 7\n",
    "What is the time complexity of `bestZeroSumSlice`? "
   ]
  },
  {
   "cell_type": "code",
   "execution_count": null,
   "metadata": {},
   "outputs": [],
   "source": [
    "# YOUR ANSWER HERE. Use Big-O notation."
   ]
  }
 ],
 "metadata": {
  "kernelspec": {
   "display_name": "Python 3 (ipykernel)",
   "language": "python",
   "name": "python3"
  },
  "language_info": {
   "codemirror_mode": {
    "name": "ipython",
    "version": 3
   },
   "file_extension": ".py",
   "mimetype": "text/x-python",
   "name": "python",
   "nbconvert_exporter": "python",
   "pygments_lexer": "ipython3",
   "version": "3.11.0"
  }
 },
 "nbformat": 4,
 "nbformat_minor": 2
}
