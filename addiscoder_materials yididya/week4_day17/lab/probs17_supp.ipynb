{
 "cells": [
  {
   "cell_type": "markdown",
   "metadata": {},
   "source": [
    "# Week 4 Day 17: Supplementary"
   ]
  },
  {
   "cell_type": "markdown",
   "metadata": {
    "colab_type": "text",
    "id": "b6GAp7CXJova"
   },
   "source": [
    "## 4. The Adventures of Mini-Tron Part II: Rescue Mission"
   ]
  },
  {
   "cell_type": "markdown",
   "metadata": {
    "colab_type": "text",
    "id": "_bHsPA3IJovb"
   },
   "source": [
    "Congratulations! Mini-Tron has made it out of the building. But now it needs to navigate its way to the rescue destination. But before the robot makes an effort to get to the destination, we want to make sure it will be able to reach the destination in time. If it's not going to make it in time, why even bother right?\n",
    "\n",
    "Given a cost matrix where the cost for each cell is the amount of time it takes to walk through the cell, we want to find out the minimum time it would take for the robot to get from *point A(source)* to *point Z(destination).*\n",
    "\n",
    "But there are a couple of restrictions: \n",
    "1. The robot can only move down, right or diagonally lower cells from a given cell. i.e. from a given cell $[i,j]$, the robot can only move to 3 adjacent cells: $(i+1, j), (i, j+1)$, or $(i+1, j+1)$. \n",
    "2. There are some inaccessible cells that have landmines on them; they are represented with cost of infinity. \n",
    "\n",
    "An example cost matrix is \n",
    "```\n",
    "inf = float('inf')\n",
    "cost = [[1,2,inf],\n",
    "        [8,inf,2],\n",
    "        [3,5,1]]  \n",
    "```"
   ]
  },
  {
   "cell_type": "markdown",
   "metadata": {
    "colab_type": "text",
    "id": "kX0Ss3jdJovd"
   },
   "source": [
    "### 4.1.1"
   ]
  },
  {
   "cell_type": "markdown",
   "metadata": {
    "colab_type": "text",
    "id": "ZsoKQwa_Jovd"
   },
   "source": [
    "Write a simple recursive function `minTime(grid,x,y)` that takes in a 2d array `grid` and coordinates `x,y` and outputs the minimum time required to go from `(0,0)` to `(x,y)` in the grid."
   ]
  },
  {
   "cell_type": "code",
   "execution_count": null,
   "metadata": {
    "colab": {},
    "colab_type": "code",
    "id": "2KdJjsZhJovf"
   },
   "outputs": [],
   "source": [
    "def minTime(grid, x, y):\n",
    "    pass\n",
    "    # Write your solution here"
   ]
  },
  {
   "cell_type": "code",
   "execution_count": null,
   "metadata": {
    "colab": {
     "base_uri": "https://localhost:8080/",
     "height": 69
    },
    "colab_type": "code",
    "executionInfo": {
     "elapsed": 882,
     "status": "ok",
     "timestamp": 1564145331476,
     "user": {
      "displayName": "Hailey James Sorenson",
      "photoUrl": "",
      "userId": "02576305393335956279"
     },
     "user_tz": 240
    },
    "id": "X7GiQ1zDJovn",
    "outputId": "c9fa2b21-313d-4c42-cba6-d3b25f2c45c5"
   },
   "outputs": [],
   "source": [
    "# test minTime\n",
    "\n",
    "inf = float('inf')\n",
    "Grid = [[2,4,inf],\n",
    "        [1,inf,9],\n",
    "        [3,1,4]]\n",
    "\n",
    "check(minTime(Grid, 2,2),8)\n",
    "check(minTime(Grid, 1, 2), 15)\n",
    "check(minTime(Grid, 1, 1), inf)"
   ]
  },
  {
   "cell_type": "markdown",
   "metadata": {
    "colab_type": "text",
    "id": "rD_jeL8RJovv"
   },
   "source": [
    "### 4.1.2"
   ]
  },
  {
   "cell_type": "markdown",
   "metadata": {
    "colab_type": "text",
    "id": "znqjxxaSJovx"
   },
   "source": [
    "What is the time complexity of the `minTime` algorithm?"
   ]
  },
  {
   "cell_type": "markdown",
   "metadata": {
    "colab_type": "text",
    "id": "LWf1rpdlK35P"
   },
   "source": [
    "Write your answer here:"
   ]
  },
  {
   "cell_type": "markdown",
   "metadata": {
    "colab_type": "text",
    "id": "h7wik9JvJov5"
   },
   "source": [
    "### 4.2.1"
   ]
  },
  {
   "cell_type": "markdown",
   "metadata": {
    "colab_type": "text",
    "id": "z0HWtDcZJov7"
   },
   "source": [
    "Write a memoized version of `minTime` function and call it `minTime_mem`."
   ]
  },
  {
   "cell_type": "code",
   "execution_count": null,
   "metadata": {
    "colab": {},
    "colab_type": "code",
    "id": "YaCgSVmmJov9"
   },
   "outputs": [],
   "source": [
    "# Write your solution here (Hint: You might want to use a helper function.)\n",
    "\n",
    "def minTime_mem(grid,x,y):\n",
    "    pass\n",
    "    # write your code here"
   ]
  },
  {
   "cell_type": "code",
   "execution_count": null,
   "metadata": {
    "colab": {
     "base_uri": "https://localhost:8080/",
     "height": 69
    },
    "colab_type": "code",
    "executionInfo": {
     "elapsed": 847,
     "status": "ok",
     "timestamp": 1564145574857,
     "user": {
      "displayName": "Hailey James Sorenson",
      "photoUrl": "",
      "userId": "02576305393335956279"
     },
     "user_tz": 240
    },
    "id": "f4WQry0wJowB",
    "outputId": "78a0b055-fda2-4097-b201-dbe4e9ef98a7"
   },
   "outputs": [],
   "source": [
    "## test minTime_mem\n",
    "\n",
    "# test-case set 1\n",
    "inf = float(\"inf\")\n",
    "Grid = [[2,4,inf],\n",
    "        [1,inf,9],\n",
    "        [3,1,4]]\n",
    "\n",
    "check(minTime_mem(Grid, 2,2),8)\n",
    "check(minTime_mem(Grid, 1, 2), 15)\n",
    "check(minTime_mem(Grid, 1, 1), inf)"
   ]
  },
  {
   "cell_type": "code",
   "execution_count": null,
   "metadata": {
    "colab": {
     "base_uri": "https://localhost:8080/",
     "height": 69
    },
    "colab_type": "code",
    "executionInfo": {
     "elapsed": 953,
     "status": "ok",
     "timestamp": 1564145626810,
     "user": {
      "displayName": "Hailey James Sorenson",
      "photoUrl": "",
      "userId": "02576305393335956279"
     },
     "user_tz": 240
    },
    "id": "yuJtjnKXJowL",
    "outputId": "405346a7-21e8-4dda-d370-1f0c5b9ea96d"
   },
   "outputs": [],
   "source": [
    "# test-case set 2\n",
    "Grid = [[2,4,inf,9, 1, 3, 8, 9],\n",
    "        [1,inf,9,13, 12, 2, 4, 1],\n",
    "        [3,1,4,1, 6, 2, 2, 2 ]]\n",
    "\n",
    "check(minTime_mem(Grid, 2,7),21)\n",
    "check(minTime_mem(Grid, 0,7), inf)\n",
    "check(minTime_mem(Grid, 1, 4), 40)"
   ]
  },
  {
   "cell_type": "markdown",
   "metadata": {
    "colab_type": "text",
    "id": "qfaC41YVJowR"
   },
   "source": [
    "### 4.2.2"
   ]
  },
  {
   "cell_type": "markdown",
   "metadata": {
    "colab_type": "text",
    "id": "qelCuLGqJowp"
   },
   "source": [
    "What is the time complexity of the `minTime_mem` algorithm?"
   ]
  },
  {
   "cell_type": "markdown",
   "metadata": {
    "colab_type": "text",
    "id": "KzG_9UonMR0c"
   },
   "source": [
    "Write your answer here:"
   ]
  },
  {
   "cell_type": "markdown",
   "metadata": {
    "colab_type": "text",
    "id": "f6PDa1DEJowu"
   },
   "source": [
    "## 4.3"
   ]
  },
  {
   "cell_type": "markdown",
   "metadata": {
    "colab_type": "text",
    "id": "3FCrgMeGJowv"
   },
   "source": [
    "Now that we've found the minimum **time** required to get from the source cell (cell A) to the destination cell (cell B), we want to figure out the minimum or shortest **path**. Implement a `minPath(grid, x, y)` function that returns the shortest path from cell A to cell B. You should return a list of tuples where the tuples represent the coordinates (x,y) of the path, including the origin and the destination.\n",
    "\n",
    "**Example:** \n",
    "```\n",
    "Grid = [[2,4,inf],\n",
    "        [1,7,9],\n",
    "        [3,1,4]]\n",
    "```\n",
    "       \n",
    "`minPath(Grid, 2, 2)` => [(0,0),(1,0),(2,0),(2,1),(2,2)]\n",
    "\n",
    "NOTE: `minPath(grid, x, y)` should return an empty list if there is no valid path from the origin to the destination\n",
    "        "
   ]
  },
  {
   "cell_type": "markdown",
   "metadata": {
    "colab_type": "text",
    "id": "yryZIZY7Joww"
   },
   "source": [
    "### 4.3.1"
   ]
  },
  {
   "cell_type": "code",
   "execution_count": null,
   "metadata": {
    "colab": {},
    "colab_type": "code",
    "id": "XfFEXgVQJowx"
   },
   "outputs": [],
   "source": [
    "def minPath(grid, x, y):\n",
    "    pass\n",
    "    # Write your solution here"
   ]
  },
  {
   "cell_type": "code",
   "execution_count": null,
   "metadata": {
    "colab": {
     "base_uri": "https://localhost:8080/",
     "height": 69
    },
    "colab_type": "code",
    "executionInfo": {
     "elapsed": 898,
     "status": "ok",
     "timestamp": 1564146001671,
     "user": {
      "displayName": "Hailey James Sorenson",
      "photoUrl": "",
      "userId": "02576305393335956279"
     },
     "user_tz": 240
    },
    "id": "8Kk5YT72Jow2",
    "outputId": "0af042a0-8ba6-4695-b561-f6b38da53e01"
   },
   "outputs": [],
   "source": [
    "# test minPath\n",
    "\n",
    "# test-case set 1\n",
    "inf = float(\"inf\")\n",
    "grid = [[2,4,inf],\n",
    "        [1,inf,9],\n",
    "        [3,1,4]]\n",
    "\n",
    "check(minPath(grid, 2, 2), [(0, 0), (1, 0), (2, 1), (2, 2)])\n",
    "check(minPath(grid, 2, 1), [(0, 0), (1, 0), (2, 1)])\n",
    "check(minPath(grid, 1, 1), [])"
   ]
  },
  {
   "cell_type": "markdown",
   "metadata": {
    "colab_type": "text",
    "id": "dHzNrBdHJow7"
   },
   "source": [
    "### 4.3.2"
   ]
  },
  {
   "cell_type": "markdown",
   "metadata": {
    "colab_type": "text",
    "id": "X53qIXmVJow8"
   },
   "source": [
    "Now write the memoized version of the `minPath` function and call it `minPath_mem(grid, x, y)`."
   ]
  },
  {
   "cell_type": "code",
   "execution_count": null,
   "metadata": {
    "colab": {},
    "colab_type": "code",
    "id": "mBX74s3FJow9"
   },
   "outputs": [],
   "source": [
    "# Write your solution here (you may want to create a helper function)\n",
    "\n",
    "def minPath_mem(grid, x, y):\n",
    "    pass"
   ]
  },
  {
   "cell_type": "code",
   "execution_count": null,
   "metadata": {
    "colab": {
     "base_uri": "https://localhost:8080/",
     "height": 69
    },
    "colab_type": "code",
    "executionInfo": {
     "elapsed": 795,
     "status": "ok",
     "timestamp": 1564146660136,
     "user": {
      "displayName": "Hailey James Sorenson",
      "photoUrl": "",
      "userId": "02576305393335956279"
     },
     "user_tz": 240
    },
    "id": "FJqAm-aQYfB4",
    "outputId": "ba3f0207-45d2-490f-fa06-0bb175ea754a"
   },
   "outputs": [],
   "source": [
    "# test minPath_mem\n",
    "\n",
    "# test-case set 1\n",
    "inf = float(\"inf\")\n",
    "grid = [[2,4,inf],\n",
    "        [1,inf,9],\n",
    "        [3,1,4]]\n",
    "\n",
    "check(minPath(grid, 2, 2), [(0, 0), (1, 0), (2, 1), (2, 2)])\n",
    "check(minPath(grid, 2, 1), [(0, 0), (1, 0), (2, 1)])\n",
    "check(minPath(grid, 1, 1), [])"
   ]
  }
 ],
 "metadata": {
  "colab": {
   "collapsed_sections": [
    "Ny609jpKJosX"
   ],
   "name": "week4_day2_problems_reviewed_final.ipynb",
   "provenance": [],
   "version": "0.3.2"
  },
  "kernelspec": {
   "display_name": "Python 3 (ipykernel)",
   "language": "python",
   "name": "python3"
  },
  "language_info": {
   "codemirror_mode": {
    "name": "ipython",
    "version": 3
   },
   "file_extension": ".py",
   "mimetype": "text/x-python",
   "name": "python",
   "nbconvert_exporter": "python",
   "pygments_lexer": "ipython3",
   "version": "3.11.5"
  }
 },
 "nbformat": 4,
 "nbformat_minor": 4
}
