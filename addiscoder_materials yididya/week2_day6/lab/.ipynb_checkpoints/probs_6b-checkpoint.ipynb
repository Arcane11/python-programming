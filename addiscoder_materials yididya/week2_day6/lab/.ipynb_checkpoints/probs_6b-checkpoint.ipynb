{
 "cells": [
  {
   "cell_type": "markdown",
   "id": "c277dc5d",
   "metadata": {},
   "source": [
    "# Week 2 Day 1 Afternoon Exercises\n",
    "In the lecture we have covered the following topics.\n",
    "- When to use while vs For loops\n",
    "- Nested loops \n",
    "- Simple vs Complex type assignment\n",
    "- taking input()\n",
    "- modules, using imports, `math` and `random`  \n",
    "\n",
    "We will do a few exercises to solifdify your understanding on some of these concepts."
   ]
  },
  {
   "cell_type": "markdown",
   "id": "8df8405f",
   "metadata": {},
   "source": [
    "## 1.\n",
    "\n",
    "### 1.1.\n",
    "Look at the following function that prints the first n even natural numbers implemented using a while loop.\n",
    "\n",
    "```python\n",
    "def smaller_evens(n):\n",
    "    i = 1\n",
    "    while i <= 10:\n",
    "        print(2 * i)\n",
    "    return\n",
    "```\n",
    "\n",
    "Can you implement the same function using a for loop?"
   ]
  },
  {
   "cell_type": "code",
   "execution_count": 8,
   "id": "d8d16814",
   "metadata": {},
   "outputs": [
    {
     "name": "stdout",
     "output_type": "stream",
     "text": [
      "0\n",
      "2\n",
      "4\n",
      "6\n",
      "8\n",
      "10\n",
      "12\n",
      "14\n",
      "16\n",
      "18\n",
      "20\n",
      "2\n",
      "4\n",
      "6\n",
      "8\n",
      "10\n",
      "12\n",
      "14\n",
      "16\n",
      "18\n",
      "20\n"
     ]
    }
   ],
   "source": [
    "# ## Write your code here.\n",
    "\n",
    "# def smaller_evens_while(n):\n",
    "#     i = 0\n",
    "#     while i <= n:\n",
    "#         print(i * 2)\n",
    "#         i += 1\n",
    "# smaller_evens_while(10)\n",
    "\n",
    "# def smaller_evens(n):\n",
    "#     for i in range(1,n + 1):\n",
    "#         print(2*i)\n",
    "# smaller_evens(10)"
   ]
  },
  {
   "cell_type": "markdown",
   "id": "6f651b2f",
   "metadata": {},
   "source": [
    "### 1.2.\n",
    "Now look at the following function that returns the index of the first instance of an item in a list using a for loop. Can you rewrite it using a while loop? \n",
    "```python\n",
    "def linear_search(lst, item):\n",
    "    for i in range(len(lst)):\n",
    "        if lst[i] == item:\n",
    "            return i\n",
    "    return -1\n",
    "```"
   ]
  },
  {
   "cell_type": "code",
   "execution_count": 12,
   "id": "40ced712",
   "metadata": {},
   "outputs": [
    {
     "data": {
      "text/plain": [
       "-1"
      ]
     },
     "execution_count": 12,
     "metadata": {},
     "output_type": "execute_result"
    }
   ],
   "source": [
    "## Write your code here.\n",
    "def linear_search(lst, item):\n",
    "    i=0\n",
    "    while i< len(lst):\n",
    "        if lst[i] == item:\n",
    "            return i\n",
    "        i+=1\n",
    "    return -1\n",
    "\n",
    "lst = [1,3,4,5,6,3,5]\n",
    "\n",
    "linear_search(lst,0)"
   ]
  },
  {
   "cell_type": "markdown",
   "id": "c3d849a4",
   "metadata": {},
   "source": [
    "### 1.3.\n",
    "Now look at the following function and see if you can write it using a for loop. Don't use the `break` keyword.\n",
    "```python\n",
    "import random\n",
    "def count_random_bits(n):\n",
    "    rand_sum = 0\n",
    "    i = 0\n",
    "    while rand_sum < n:\n",
    "        rand_sum += random.randint(0,1)\n",
    "        i += 1\n",
    "    return i \n",
    "```"
   ]
  },
  {
   "cell_type": "code",
   "execution_count": 17,
   "id": "1f3f35ba",
   "metadata": {},
   "outputs": [
    {
     "name": "stdout",
     "output_type": "stream",
     "text": [
      "1\n",
      "2\n",
      "3\n",
      "4\n",
      "4\n",
      "5\n",
      "6\n",
      "6\n",
      "7\n",
      "8\n"
     ]
    },
    {
     "data": {
      "text/plain": [
       "8"
      ]
     },
     "execution_count": 17,
     "metadata": {},
     "output_type": "execute_result"
    }
   ],
   "source": [
    "## Write your code here. \n",
    "import random\n",
    "def count_random_bits(n):\n",
    "    rand_sum = 0\n",
    "    i = 0\n",
    "    while rand_sum < n:\n",
    "        rand_sum += random.randint(0,1)\n",
    "        print(rand_sum)\n",
    "        i += 1\n",
    "    return i \n",
    "\n",
    "# count_random_bits(10)\n",
    "\n",
    "def count_random_bits_for(n):\n",
    "    rand_sum = 0\n",
    "    for i in range(n):\n",
    "        rand_sum += random.randint(0,1)\n",
    "        print(rand_sum)\n",
    "    return rand_sum\n",
    "        \n",
    "        \n",
    "count_random_bits_for(10)\n",
    "        \n"
   ]
  },
  {
   "cell_type": "markdown",
   "id": "3a0ade1c",
   "metadata": {},
   "source": [
    "Don't worry if you can't. Why were you not able to?"
   ]
  },
  {
   "cell_type": "raw",
   "id": "ecbc5250",
   "metadata": {},
   "source": []
  },
  {
   "cell_type": "markdown",
   "id": "f2cd9b95",
   "metadata": {},
   "source": [
    "## 2.\n",
    "Write a function `name_checker` that takes in no arguments but asks the user to input their name and returns `True` if the input is a string only containing letters of the alphabet and empty spaces. We've provided you a helper function, `isalphaspace()`, which checks this condition.\n",
    "\n",
    "If there is a character in the string that isn't in the alphabet, the function should prompt the user again to input their name until a valid input is given. Additionally, if the user inputs the string `'quit'`, the program should return false. "
   ]
  },
  {
   "cell_type": "code",
   "execution_count": 37,
   "id": "f8d31b41",
   "metadata": {},
   "outputs": [
    {
     "name": "stdout",
     "output_type": "stream",
     "text": [
      "Enter a word or character: quit\n"
     ]
    },
    {
     "data": {
      "text/plain": [
       "False"
      ]
     },
     "execution_count": 37,
     "metadata": {},
     "output_type": "execute_result"
    }
   ],
   "source": [
    "# isalphaspace(s) returns True if all characters in s are alphabetic or space, and False otherwise.\n",
    "def isalphaspace(s):\n",
    "    for char in s:\n",
    "        if not (char.isalpha() or char.isspace()):\n",
    "            return False\n",
    "    return True\n",
    "\n",
    "# isalphaspace(\"adjia\")\n",
    "def name_checker():\n",
    "    # Write your code here.\n",
    "    userInput = input(\"Enter a word or character: \")\n",
    "    if userInput == \"quit\":\n",
    "        return False\n",
    "    elif isalphaspace(userInput):\n",
    "        return True\n",
    "    while not isalphaspace(userInput):\n",
    "        userInput = input(\"Enter a word or character: \")\n",
    "    if userInput == \"quit\":\n",
    "        return False\n",
    "    elif isalphaspace(userInput):\n",
    "        return True\n",
    "        \n",
    "        \n",
    "        \n",
    "name_checker()\n",
    "            "
   ]
  },
  {
   "cell_type": "markdown",
   "id": "cbbe4aca",
   "metadata": {},
   "source": [
    "## 3.\n",
    "Write a function `approximate_pi(n)` that approximates pi using the following sum, where you keep adding terms to the sum until the new terms are less than 10<sup>-n</sup>.\n",
    "\n",
    "$\\pi = \\frac{8}{1 \\cdot 3} + \\frac{8}{5 \\cdot 7} + \\frac{8}{9 \\cdot 11} + \\cdots$\n",
    "\n",
    "Think carefully about which kind of loop to use.\n",
    "\n",
    "You can compare your result with the actual result of pi, which you can get from the math module by typing `math.pi`. This function is quite slow and you might want to try it for an n less than 14."
   ]
  },
  {
   "cell_type": "code",
   "execution_count": 56,
   "id": "8fa96812",
   "metadata": {},
   "outputs": [
    {
     "ename": "KeyboardInterrupt",
     "evalue": "",
     "output_type": "error",
     "traceback": [
      "\u001b[0;31m---------------------------------------------------------------------------\u001b[0m",
      "\u001b[0;31mKeyboardInterrupt\u001b[0m                         Traceback (most recent call last)",
      "Cell \u001b[0;32mIn[56], line 9\u001b[0m\n\u001b[1;32m      7\u001b[0m \u001b[38;5;66;03m#         print(i, (i + 2))\u001b[39;00m\n\u001b[1;32m      8\u001b[0m     \u001b[38;5;28;01mreturn\u001b[39;00m total\n\u001b[0;32m----> 9\u001b[0m \u001b[38;5;28mprint\u001b[39m(\u001b[43mapproximate_pi\u001b[49m\u001b[43m(\u001b[49m\u001b[38;5;241;43m10\u001b[39;49m\u001b[43m)\u001b[49m)\n\u001b[1;32m     10\u001b[0m approximate_pi(\u001b[38;5;241m10\u001b[39m)\u001b[38;5;241m==\u001b[39mmath\u001b[38;5;241m.\u001b[39mpi\n",
      "Cell \u001b[0;32mIn[56], line 6\u001b[0m, in \u001b[0;36mapproximate_pi\u001b[0;34m(n)\u001b[0m\n\u001b[1;32m      4\u001b[0m     total \u001b[38;5;241m=\u001b[39m \u001b[38;5;241m0\u001b[39m\n\u001b[1;32m      5\u001b[0m     \u001b[38;5;28;01mfor\u001b[39;00m i \u001b[38;5;129;01min\u001b[39;00m \u001b[38;5;28mrange\u001b[39m(\u001b[38;5;241m1\u001b[39m,\u001b[38;5;241m10\u001b[39m\u001b[38;5;241m*\u001b[39m\u001b[38;5;241m*\u001b[39mn,\u001b[38;5;241m4\u001b[39m):\n\u001b[0;32m----> 6\u001b[0m         total \u001b[38;5;241m+\u001b[39m\u001b[38;5;241m=\u001b[39m \u001b[38;5;241;43m8\u001b[39;49m\u001b[43m \u001b[49m\u001b[38;5;241;43m/\u001b[39;49m\u001b[43m \u001b[49m\u001b[43m(\u001b[49m\u001b[43mi\u001b[49m\u001b[43m \u001b[49m\u001b[38;5;241;43m*\u001b[39;49m\u001b[43m \u001b[49m\u001b[43m(\u001b[49m\u001b[43mi\u001b[49m\u001b[43m \u001b[49m\u001b[38;5;241;43m+\u001b[39;49m\u001b[43m \u001b[49m\u001b[38;5;241;43m2\u001b[39;49m\u001b[43m)\u001b[49m\u001b[43m)\u001b[49m\n\u001b[1;32m      7\u001b[0m \u001b[38;5;66;03m#         print(i, (i + 2))\u001b[39;00m\n\u001b[1;32m      8\u001b[0m     \u001b[38;5;28;01mreturn\u001b[39;00m total\n",
      "\u001b[0;31mKeyboardInterrupt\u001b[0m: "
     ]
    }
   ],
   "source": [
    "## Write your code here.\n",
    "import math\n",
    "def approximate_pi(n):\n",
    "    total = 0\n",
    "    for i in range(1,10**n,4):\n",
    "        total += 8 / (i * (i + 2))\n",
    "#         print(i, (i + 2))\n",
    "    return total\n",
    "print(approximate_pi(10))\n",
    "approximate_pi(10)==math.pi\n"
   ]
  },
  {
   "cell_type": "markdown",
   "id": "7b642cda",
   "metadata": {},
   "source": [
    "## 4. \n",
    "### 4.1. \n",
    "Define a dictionary of menu items filled with your favorite foods together with their prices."
   ]
  },
  {
   "cell_type": "code",
   "execution_count": 1,
   "id": "d1c4bdcf",
   "metadata": {},
   "outputs": [],
   "source": [
    "menu = {\n",
    "    \"pizza\":300,\n",
    "    \"shiro\":50,\n",
    "    \"dorowot\":200,\n",
    "    \"macaroni\":35.3,\n",
    "}"
   ]
  },
  {
   "cell_type": "markdown",
   "id": "b96f4f65",
   "metadata": {},
   "source": [
    "### 4.2. \n",
    "Write a function that displays the menu and takes the users order. If the input is not a key in the dictionary, it should keep trying to take your order until you type `'quit'`."
   ]
  },
  {
   "cell_type": "code",
   "execution_count": 4,
   "id": "8ca32ebb",
   "metadata": {},
   "outputs": [
    {
     "name": "stdout",
     "output_type": "stream",
     "text": [
      "enter your orderpizza\n",
      "enter your orderawd\n",
      "Oh, we don't have those!shiro\n",
      "enter your orderdorowot\n",
      "enter your orderquit\n"
     ]
    },
    {
     "data": {
      "text/plain": [
       "['pizza', 'shiro', 'dorowot']"
      ]
     },
     "execution_count": 4,
     "metadata": {},
     "output_type": "execute_result"
    }
   ],
   "source": [
    "## Write your code here.\n",
    "def ordertaker():\n",
    "    lstOfOrders = []\n",
    "    userInput = input(\"enter your order\")\n",
    "    while userInput != \"quit\":\n",
    "        if userInput in menu:\n",
    "            lstOfOrders += [userInput]\n",
    "            userInput = input(\"enter your order\")\n",
    "        else:\n",
    "            userInput = input(\"Oh, we don't have those!\")\n",
    "    return lstOfOrders\n",
    "    \n",
    "ordertaker()\n",
    "            \n",
    "    "
   ]
  },
  {
   "cell_type": "markdown",
   "id": "9a423f51",
   "metadata": {},
   "source": [
    "## 5. \n",
    "Given a list of integers L (that may have repeats), return a list of all the unique elements in L. You may not use any built-in Python functions. Try doing it without making a new list to store the output.\n",
    "\n",
    "Example: If L = `[1,1,1,2,2,3,3,3,3]` Output = `[1,2,3]`\n",
    "\n",
    "This is tricky! Ask for a hint if you get stuck."
   ]
  },
  {
   "cell_type": "code",
   "execution_count": 23,
   "id": "df24b6a3",
   "metadata": {},
   "outputs": [
    {
     "name": "stdout",
     "output_type": "stream",
     "text": [
      "[1, 2, 3]\n"
     ]
    }
   ],
   "source": [
    "## Write your code here.\n",
    "l = [1,1,1,2,2,3,3,3,3]\n",
    "\n",
    "\n",
    "\n",
    "# for i in range(len(l)):\n",
    "#     if l[i] == l[i+1]:\n",
    "#         l\n",
    "\n",
    "# i = 0\n",
    "# j = 0\n",
    "# while i < len(l):\n",
    "#     if l[i] in l[i+1:]:\n",
    "#         j += 1\n",
    "#         print(l)\n",
    "#         l = l[:i] + l[i+1:]\n",
    "#     i += 1\n",
    "\n",
    "# # for i in range(0,len(l)-1):\n",
    "# #     print(i)\n",
    "# #     if l[i] in l:\n",
    "# #         l = l[1:len(l)]\n",
    "\n",
    "i = j = 0\n",
    "while j < len(l):\n",
    "    if l[j] not in l[:j]:\n",
    "        l[i] = l[j]\n",
    "        i += 1\n",
    "    j += 1\n",
    "print(l[:i])\n",
    "        \n",
    "\n",
    "\n",
    "\n",
    "\n"
   ]
  },
  {
   "cell_type": "markdown",
   "id": "081675a1",
   "metadata": {},
   "source": [
    "## 6.\n",
    "### 6.1.\n",
    "Write the function that counts the frequency of a number in a list L using a while loop."
   ]
  },
  {
   "cell_type": "code",
   "execution_count": null,
   "id": "5eea8593",
   "metadata": {},
   "outputs": [],
   "source": [
    "## Write your code here."
   ]
  },
  {
   "cell_type": "markdown",
   "id": "20daf987",
   "metadata": {},
   "source": [
    "### 6.2.\n",
    "Do the same thing in 6.1 using a for loop."
   ]
  },
  {
   "cell_type": "code",
   "execution_count": 1,
   "id": "d94f012e",
   "metadata": {},
   "outputs": [
    {
     "data": {
      "text/plain": [
       "[1, 1, 1, 2, 2, 3, 3, 3, 3]"
      ]
     },
     "execution_count": 1,
     "metadata": {},
     "output_type": "execute_result"
    }
   ],
   "source": [
    "## Write your code here.\n"
   ]
  },
  {
   "cell_type": "markdown",
   "id": "5ba892d3",
   "metadata": {},
   "source": [
    "### 6.3.\n",
    "Which one do you think is easier to implement from 6.1 and 6.2? Why?"
   ]
  },
  {
   "cell_type": "raw",
   "id": "7f1d1efe",
   "metadata": {},
   "source": []
  },
  {
   "cell_type": "markdown",
   "id": "5f498c70",
   "metadata": {},
   "source": [
    "## 7. \n",
    "\n",
    "### 7.1.\n",
    "Use the `sqrt` function in the math module to calculate the square root of a number."
   ]
  },
  {
   "cell_type": "code",
   "execution_count": null,
   "id": "cc98002e",
   "metadata": {},
   "outputs": [],
   "source": [
    "## Write your code here."
   ]
  },
  {
   "cell_type": "markdown",
   "id": "0804abb8",
   "metadata": {},
   "source": [
    "### 7.2.\n",
    "Write a function that takes in a positive integer `n` and calculates the largest integer whose square is less than or equal to `n`. Compare it with the output of the `sqrt` function."
   ]
  },
  {
   "cell_type": "code",
   "execution_count": null,
   "id": "09c364d2",
   "metadata": {},
   "outputs": [],
   "source": [
    "## Write your code here."
   ]
  },
  {
   "cell_type": "markdown",
   "id": "da06bc16",
   "metadata": {},
   "source": [
    "## 8.\n",
    "### 8.1.\n",
    "Write a function that rounds a number to the closest integer using the `ceil` and `floor` functions in the math module."
   ]
  },
  {
   "cell_type": "code",
   "execution_count": null,
   "id": "257c427a",
   "metadata": {},
   "outputs": [],
   "source": [
    "## Write your code here."
   ]
  },
  {
   "cell_type": "markdown",
   "id": "bcc21026",
   "metadata": {},
   "source": [
    "### 8.2.\n",
    "You have seen the identity function before, which returns the input you gave it. Try and implement the same function that works for integers or floats using the `log` function in the math module and the `pow` function. You might have to use the rounding function above."
   ]
  },
  {
   "cell_type": "code",
   "execution_count": null,
   "id": "017e3a89",
   "metadata": {},
   "outputs": [],
   "source": [
    "## Write your code here."
   ]
  },
  {
   "cell_type": "markdown",
   "id": "e865bd5b",
   "metadata": {},
   "source": [
    "## 9.\n",
    "Given a list of lists of 0s and 1s, write a function that prints `.` when there is a 0 and `#` when there is a 1. \n",
    "For example, when the function is given `[[0,1,0,0,0,1,0],[0,0,0,0,0,0,0],[1,0,0,0,0,0,1],[0,0,1,1,1,0,0]]`, it will print  \n",
    "```\n",
    ".#...#.\n",
    ".......\n",
    "#.....#\n",
    "..###..\n",
    "```"
   ]
  },
  {
   "cell_type": "code",
   "execution_count": null,
   "id": "97303b2f",
   "metadata": {},
   "outputs": [],
   "source": [
    "## Write your code here."
   ]
  }
 ],
 "metadata": {
  "kernelspec": {
   "display_name": "Python 3 (ipykernel)",
   "language": "python",
   "name": "python3"
  },
  "language_info": {
   "codemirror_mode": {
    "name": "ipython",
    "version": 3
   },
   "file_extension": ".py",
   "mimetype": "text/x-python",
   "name": "python",
   "nbconvert_exporter": "python",
   "pygments_lexer": "ipython3",
   "version": "3.11.0"
  }
 },
 "nbformat": 4,
 "nbformat_minor": 5
}
