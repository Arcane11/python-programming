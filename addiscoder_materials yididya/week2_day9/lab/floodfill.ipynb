{
 "cells": [
  {
   "cell_type": "markdown",
   "id": "2115913a",
   "metadata": {},
   "source": [
    "In this exercise, we want to use recursion to create a flood-fill function for images. Our flood-fill function is supposed to fill a connected region of black pixels with a different color, for example, if we do flood-fill with red color on the center of this image:\n",
    "\n",
    "![](floodfill-example-base.png)\n",
    "\n",
    "the region containing the center pixel becomes red:\n",
    "\n",
    "![](floodfill-example-filled.png)\n",
    "\n",
    "We first start with a function generating black-white noise images that we can use to test our function on later. Run the code below."
   ]
  },
  {
   "cell_type": "code",
   "execution_count": 1,
   "id": "cdeeb704",
   "metadata": {
    "scrolled": true
   },
   "outputs": [
    {
     "ename": "ImportError",
     "evalue": "cannot import name 'Resampling'",
     "output_type": "error",
     "traceback": [
      "\u001b[0;31m---------------------------------------------------------------------------\u001b[0m",
      "\u001b[0;31mImportError\u001b[0m                               Traceback (most recent call last)",
      "\u001b[0;32m<ipython-input-1-6717906daf8e>\u001b[0m in \u001b[0;36m<module>\u001b[0;34m\u001b[0m\n\u001b[0;32m----> 1\u001b[0;31m \u001b[0;32mfrom\u001b[0m \u001b[0msimpleimage\u001b[0m \u001b[0;32mimport\u001b[0m \u001b[0mSimpleImage\u001b[0m\u001b[0;34m\u001b[0m\u001b[0;34m\u001b[0m\u001b[0m\n\u001b[0m\u001b[1;32m      2\u001b[0m \u001b[0;32mimport\u001b[0m \u001b[0mrandom\u001b[0m\u001b[0;34m\u001b[0m\u001b[0;34m\u001b[0m\u001b[0m\n\u001b[1;32m      3\u001b[0m \u001b[0;34m\u001b[0m\u001b[0m\n\u001b[1;32m      4\u001b[0m \u001b[0;32mdef\u001b[0m \u001b[0mget_random_image\u001b[0m\u001b[0;34m(\u001b[0m\u001b[0msize\u001b[0m\u001b[0;34m,\u001b[0m \u001b[0mthreshold\u001b[0m\u001b[0;34m)\u001b[0m\u001b[0;34m:\u001b[0m\u001b[0;34m\u001b[0m\u001b[0;34m\u001b[0m\u001b[0m\n\u001b[1;32m      5\u001b[0m     \u001b[0mimage\u001b[0m \u001b[0;34m=\u001b[0m \u001b[0mSimpleImage\u001b[0m\u001b[0;34m.\u001b[0m\u001b[0mblank\u001b[0m\u001b[0;34m(\u001b[0m\u001b[0msize\u001b[0m\u001b[0;34m,\u001b[0m \u001b[0msize\u001b[0m\u001b[0;34m)\u001b[0m\u001b[0;34m\u001b[0m\u001b[0;34m\u001b[0m\u001b[0m\n",
      "\u001b[0;32m/data/projects/addiscoder/addiscoder2023/labs/exercises_reorg/week2/simpleimage.py\u001b[0m in \u001b[0;36m<module>\u001b[0;34m\u001b[0m\n\u001b[1;32m     38\u001b[0m \u001b[0;31m# If the following line fails, \"Pillow\" needs to be installed. Ask your\u001b[0m\u001b[0;34m\u001b[0m\u001b[0;34m\u001b[0m\u001b[0;34m\u001b[0m\u001b[0m\n\u001b[1;32m     39\u001b[0m \u001b[0;31m# TA for help.\u001b[0m\u001b[0;34m\u001b[0m\u001b[0;34m\u001b[0m\u001b[0;34m\u001b[0m\u001b[0m\n\u001b[0;32m---> 40\u001b[0;31m \u001b[0;32mfrom\u001b[0m \u001b[0mPIL\u001b[0m \u001b[0;32mimport\u001b[0m \u001b[0mImage\u001b[0m\u001b[0;34m,\u001b[0m \u001b[0mResampling\u001b[0m\u001b[0;34m\u001b[0m\u001b[0;34m\u001b[0m\u001b[0m\n\u001b[0m\u001b[1;32m     41\u001b[0m \u001b[0;34m\u001b[0m\u001b[0m\n\u001b[1;32m     42\u001b[0m \u001b[0;34m\u001b[0m\u001b[0m\n",
      "\u001b[0;31mImportError\u001b[0m: cannot import name 'Resampling'"
     ]
    }
   ],
   "source": [
    "from simpleimage import SimpleImage\n",
    "import random\n",
    "\n",
    "def get_random_image(size, threshold):\n",
    "    image = SimpleImage.blank(size, size)\n",
    "    for y in range(size):\n",
    "        for x in range(size):\n",
    "            if random.random() > threshold:\n",
    "                image.set_rgb(x, y, 0, 0, 0)\n",
    "    return image\n",
    "\n",
    "image = get_random_image(50, 0.7)\n",
    "image.show(resize_width=200)"
   ]
  },
  {
   "cell_type": "markdown",
   "id": "62660921",
   "metadata": {},
   "source": [
    "Now fill in the `floodfill` function below. It takes an image `img` to do the flood-fill on, a starting position `x` and `y`, and the `r`, `g` and `b` components of the color to fill in. Whenever we find a black pixel, we fill it with the new color and then do the same flood-fill procedure for the neighbors of our pixel, to expand the region we are filling in. Proceed as follows:\n",
    "\n",
    "Check if $(x, y)$ is within the boundary of the image, and if the pixel at $(x, y)$ is black. If yes:\n",
    "- change the color of the pixel at $(x, y)$\n",
    "- recursively call `floodfill` for the pixels at $(x-1, y)$, $(x+1, y)$, $(x, y-1)$ and $(x, y+1)$."
   ]
  },
  {
   "cell_type": "code",
   "execution_count": null,
   "id": "909dd92b",
   "metadata": {},
   "outputs": [],
   "source": [
    "def floodfill(img, x, y, r, g, b):\n",
    "    # Your code here!\n",
    "      \n",
    "# This code tests your function on a 15x15 random image\n",
    "image = get_random_image(15, 0.45)\n",
    "image.set_rgb(7, 7, 0, 0, 0)  # Make sure the center pixel is black\n",
    "image.show(resize_width=200)  # Show image before flood-fill\n",
    "floodfill(image, 7, 7, 255, 0, 0)  # Do flood-fill at the center.\n",
    "image.show(resize_width=200)  # Show image after flood-fill"
   ]
  },
  {
   "cell_type": "markdown",
   "id": "0b09723d",
   "metadata": {},
   "source": [
    "## Catalan numbers"
   ]
  },
  {
   "cell_type": "markdown",
   "id": "8aecf8be",
   "metadata": {},
   "source": [
    "The [Catalan numbers](https://en.wikipedia.org/wiki/Catalan_number) count (among many other things) the number of parentheses expressions using `n` correctly matched pairs of parentheses. (You will see these expressions in `9a_supp`.)\n",
    "\n",
    "For example:\n",
    "- $C_1 = 1$: `()`\n",
    "- $C_2 = 2$: `(())       ()()`\n",
    "- $C_3 = 5$: `((()))     (()())     (())()     ()(())     ()()() `\n",
    "\n",
    "They are defined recursively as follows:\n",
    "\n",
    "$$C_0 = 0$$\n",
    "\n",
    "$$C_n = \\sum_{i=0}^n C_iC_{n-1}$$\n",
    "\n",
    "**Write a function** that computes $C_n$ given an input value `n`. **Use recursion!**"
   ]
  },
  {
   "cell_type": "code",
   "execution_count": null,
   "id": "3ba512b8",
   "metadata": {},
   "outputs": [],
   "source": []
  }
 ],
 "metadata": {
  "kernelspec": {
   "display_name": "Python 3",
   "language": "python",
   "name": "python3"
  },
  "language_info": {
   "codemirror_mode": {
    "name": "ipython",
    "version": 3
   },
   "file_extension": ".py",
   "mimetype": "text/x-python",
   "name": "python",
   "nbconvert_exporter": "python",
   "pygments_lexer": "ipython3",
   "version": "3.6.9"
  }
 },
 "nbformat": 4,
 "nbformat_minor": 5
}
