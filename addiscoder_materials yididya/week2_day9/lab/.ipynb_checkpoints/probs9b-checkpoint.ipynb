{
 "cells": [
  {
   "cell_type": "markdown",
   "metadata": {
    "id": "hLR6YHzecZJM"
   },
   "source": [
    "# Week 2, Day 4 Afternoon Exercises: Time Complexity"
   ]
  },
  {
   "cell_type": "code",
   "execution_count": null,
   "metadata": {
    "id": "BY9aZJfMIqls"
   },
   "outputs": [],
   "source": [
    "# RUN THIS BLOCK OF CODE BEFORE RUNNING ANY CELLS\n",
    "def check_test(actual, expected):\n",
    "    if expected != actual:\n",
    "        print(f\"Function should return the value {expected}, it is returning the value {actual}\")\n",
    "    else:\n",
    "        print(f\"Congratulations, the test case passed!\")"
   ]
  },
  {
   "cell_type": "markdown",
   "metadata": {},
   "source": [
    "## Unrelated Warmup: Default Parameters\n",
    "\n",
    "Let's do one practice problem on default parameters, which we covered in lecture earlier in the week."
   ]
  },
  {
   "cell_type": "code",
   "execution_count": null,
   "metadata": {},
   "outputs": [],
   "source": [
    "def print_menu(name, meat=\"beef\", dish=\"stew\"):\n",
    "    print(\"Hi \" + name + \", today's special is: \" + meat + \" \" + dish)\n",
    "\n",
    "# What will each of the following print? Write it in the comment above the function call.\n",
    "# (1): \n",
    "print_menu(\"Abeba\")\n",
    "\n",
    "# (2):\n",
    "print_menu(\"Desta\", \"lamb\", \"tibbs\")\n",
    "\n",
    "# (2):\n",
    "print_menu(\"Amara\", \"chicken\")\n",
    "\n",
    "# (3):\n",
    "print_menu(\"Aku\", dish=\"fish\")\n",
    "\n",
    "# (4):\n",
    "print_menu(\"Girma\", meat=\"lamb\")\n",
    "\n",
    "# (5):\n",
    "print_menu(\"Hakim\", meat=\"chicken\", dish=\"pasta\")"
   ]
  },
  {
   "cell_type": "markdown",
   "metadata": {},
   "source": [
    "# Recap of Time Complexity\n",
    "\n",
    "Recall that **time complexity** refers to the computational complexity that describes the amount of computer time taken by an algorithm to run, **as a function of the size of the input to the program**. The time complexity is usually expressed in big O notation, which describes the worst-case scenario, and can be used to describe the execution time required or the space used (e.g., in memory or on disk) by an algorithm.\n",
    "\n",
    "\n",
    "## Understanding Time Complexity and Big-O Notation\n",
    "\n",
    "Let's take a few common examples to illustrate time complexity:\n",
    "\n",
    "### Constant Time: $O(1)$\n",
    "An algorithm is said to have a constant time when **it is not dependent on the input data size**. Whether your input data size is 1 or 1000 or 1 million, the time taken to compute the result is constant.\n",
    "\n",
    "```\n",
    "def get_first_item(items):\n",
    "    return items[0]\n",
    "```\n",
    "\n",
    "In the above Python function, no matter how large the list items is, the function would take the same amount of time to get the first item in the list. This is thus $O(1)$ time complexity.\n",
    "\n",
    "\n",
    "### Linear Time: $O(n)$\n",
    "An algorithm is said to have a linear time complexity when the running time **increases linearly** with the size of the input data.\n",
    "\n",
    "```\n",
    "def linear_search(items, target):\n",
    "  for i in range(len(items)):\n",
    "    if items[i] == target:\n",
    "      return i\n",
    "  return -1\n",
    "```\n",
    "\n",
    "In the function above, in the worst-case scenario (if the target is at the end of the list or not in the list at all), the function will have to look at each item in the list once. Therefore, the time complexity is $O(n)$, where n is the number of items in the list.\n",
    "\n",
    "\n",
    "### Quadratic Time: $O(n^2)$\n",
    "An algorithm is said to have a quadratic time complexity when the time execution is proportional to the square of the input size. A common example of this is the nested for loop.\n",
    "\n",
    "```\n",
    "def bubble_sort(items):\n",
    "    n = len(items)\n",
    "    for i in range(n):\n",
    "        for j in range(0, n - i - 1):\n",
    "            if items[j] > items[j + 1]:\n",
    "                items[j], items[j + 1] = items[j + 1], items[j]\n",
    "\n",
    "```\n",
    "\n",
    "In the bubble sort function above, for each item in the list, we're potentially looking at every other item in the list. As such, this gives us a time complexity of $O(n^2)$.\n",
    "\n",
    "### Why It's Important?\n",
    "Understanding time complexity is crucial for writing efficient code, especially when dealing with large volumes of data. Poorly optimized code can take significantly longer to run, which can be problematic in real-world applications where performance is important.\n",
    "\n"
   ]
  },
  {
   "cell_type": "markdown",
   "metadata": {},
   "source": [
    "# Important: Show your answer to a TA when you are done!!!!!"
   ]
  },
  {
   "cell_type": "markdown",
   "metadata": {
    "id": "sv_d7QBeYHpb"
   },
   "source": [
    "# Question 1\n"
   ]
  },
  {
   "cell_type": "markdown",
   "metadata": {
    "id": "Nu4pLrLvtadW"
   },
   "source": [
    "Consider the following code:\n",
    "\n",
    "```\n",
    "def addNums(n):\n",
    "    answer = 0\n",
    "    for i in range(n):\n",
    "        answer += i\n",
    "\n",
    "    return answer\n",
    "```\n"
   ]
  },
  {
   "cell_type": "code",
   "execution_count": null,
   "metadata": {
    "id": "hUOj2eS7Oo2B"
   },
   "outputs": [],
   "source": [
    "# For how many iterations is the loop going to run?\n",
    "# Put your answer below."
   ]
  },
  {
   "cell_type": "code",
   "execution_count": null,
   "metadata": {
    "id": "ay13Q0XYtlnG"
   },
   "outputs": [],
   "source": []
  },
  {
   "cell_type": "code",
   "execution_count": null,
   "metadata": {
    "id": "ci7AvuGhgCI4"
   },
   "outputs": [],
   "source": [
    "# What is the time complexity of the code in terms of big O notation?\n",
    "# Put your answer below."
   ]
  },
  {
   "cell_type": "code",
   "execution_count": null,
   "metadata": {
    "id": "XxgKX-augN0s"
   },
   "outputs": [],
   "source": []
  },
  {
   "cell_type": "markdown",
   "metadata": {
    "id": "hu3cT62ytmLy"
   },
   "source": [
    "Now let's consider another function addNumList(n). It takes in a list of numbers, and calls the addNums function for each item in the list.\n",
    "\n",
    "\n",
    "\n",
    "```\n",
    "def addNumList(lst):\n",
    "    for i in lst:\n",
    "        addNums(i)\n",
    "```\n",
    "\n",
    "\n"
   ]
  },
  {
   "cell_type": "code",
   "execution_count": null,
   "metadata": {
    "id": "JE6vZuqDuH7L"
   },
   "outputs": [],
   "source": [
    "# How many times does the addNumList function call addNums()?\n",
    "# [Your answer here]"
   ]
  },
  {
   "cell_type": "code",
   "execution_count": null,
   "metadata": {
    "id": "Js0p01ixuI8S"
   },
   "outputs": [],
   "source": [
    "# Now, how many addition operations are going to be performed in total?\n",
    "# [Your answer here]"
   ]
  },
  {
   "cell_type": "code",
   "execution_count": null,
   "metadata": {
    "id": "Ej0FmgBCgYhk"
   },
   "outputs": [],
   "source": [
    "# What is the time complexity of the code in terms of big O notation?\n",
    "# [Your answer here]"
   ]
  },
  {
   "cell_type": "code",
   "execution_count": null,
   "metadata": {},
   "outputs": [],
   "source": []
  },
  {
   "cell_type": "markdown",
   "metadata": {},
   "source": [
    "# Question 2: Image Filters Revisited\n",
    "\n",
    "### 2.1. Filling in colors\n",
    "\n",
    "Remember the filters from Day 7?\n",
    "\n",
    "```python\n",
    "canvas = SimpleImage.blank(600, 255)\n",
    "for column in range(canvas.width):\n",
    "    for row in range(canvas.height):\n",
    "        # If we want to make sure this works for any size image:\n",
    "        red = int((column / canvas.width) * 255)\n",
    "        green = 0\n",
    "        blue = 0\n",
    "        canvas.set_rgb(column, row, red, green, blue)\n",
    "canvas.show()\n",
    "```\n",
    "\n",
    "Here is that filter that paints a red gradient. We saw this during the lecture. If the width and height of the image is given by `n` , what is its time complexity?\n"
   ]
  },
  {
   "cell_type": "markdown",
   "metadata": {},
   "source": [
    "Your answer here (pick one):\n",
    "1. $O(1)$\n",
    "2. $O(\\log n)$\n",
    "3. $O(n)$\n",
    "4. $O(n^2)$\n",
    "5. $O(n^3)$"
   ]
  },
  {
   "cell_type": "markdown",
   "metadata": {},
   "source": [
    "### 2.2. Horizontal Line\n",
    "\n",
    "What about this program that draws a horizontal line across the canvas?\n",
    "\n",
    "```python\n",
    "for col in range(10):\n",
    "    canvas.set_rgb(col, 0, 255, 0, 0)\n",
    "canvas.show(resize_width=200)\n",
    "```\n"
   ]
  },
  {
   "cell_type": "markdown",
   "metadata": {},
   "source": [
    "Your answer here (pick one):\n",
    "1. $O(1)$\n",
    "2. $O(\\log n)$\n",
    "3. $O(n)$\n",
    "4. $O(n^2)$\n",
    "5. $O(n^3)$"
   ]
  },
  {
   "cell_type": "code",
   "execution_count": null,
   "metadata": {},
   "outputs": [],
   "source": []
  },
  {
   "cell_type": "markdown",
   "metadata": {},
   "source": [
    "# Question 3\n",
    "\n",
    "Give the worst-case big-O time complexity of each of the following python functions that take a list L as input.\n",
    "\n",
    "Your answers MUST be selected from $O(1)$, $O(log n)$, $O(n)$, $O(n \\log n)$, $O(n^2)$, and $O(n^3)$. You should assume that functions `constantfun` and `linearfun`, when run on lists of `n` elements, have worst-case time complexity $O(1)$ and $O(n)$, respectively. \n",
    "\n",
    "You may assume the `len`` function in Python runs in constant time. Make sure to justify each of your answers.\n",
    "\n",
    "\n",
    "```python\n",
    "def fun1(L):\n",
    "    n = len(L)\n",
    "    constantfun(L)\n",
    "    for i in range(0, n//10): \n",
    "        linearfun(L)\n",
    "\n",
    "def fun2(L): \n",
    "    n = len(L)\n",
    "    for i in range(0,20000):\n",
    "        for j in range(0, 20000): \n",
    "            constantfun(L) \n",
    "            constantfun(L)\n",
    "\n",
    "def fun3(L): \n",
    "    n = len(L)\n",
    "    for i in range(0,n-3): \n",
    "        constantfun(L)\n",
    "    for j in range(0,n-3): \n",
    "        constantfun(L)\n",
    "    constantfun(L)\n",
    "\n",
    "def fun4(L): \n",
    "    n = len(L) \n",
    "    while  (n>0):\n",
    "        constantfun(L) \n",
    "        n = n//3\n",
    "```\n"
   ]
  },
  {
   "cell_type": "markdown",
   "metadata": {},
   "source": [
    "Your answer should be like this:\n",
    "- `fun1` has big-O time complexity O(?) because...\n",
    "- `fun2` has big-O time complexity O(?) because...\n",
    "- `fun3` has big-O time complexity O(?) because...\n",
    "- `fun4` has big-O time complexity O(?) because...\n"
   ]
  },
  {
   "cell_type": "raw",
   "metadata": {},
   "source": []
  },
  {
   "cell_type": "markdown",
   "metadata": {},
   "source": [
    "# Question 4\n",
    "\n",
    "You are interested in solving a particular problem on a list of `n` numbers. A friend says she has found three possible ways to solve the problem.\n",
    "\n",
    "The first solution divides the list into 2 equal sized parts in O(n) time, recursively solves each half, and then combines the solutions with an O(n2) combine step.\n",
    "\n",
    "The second solution does more work up front and takes O(n2)  time to process the list  and  divide it into two lists of n/2 elements each. Then, four recursive calls are made on these lists of size n/2. The combine step is O(n).\n",
    "\n",
    "The third solution uses the following code. You should assume linearfun runs in O(n) time.\n",
    "\n",
    "```python\n",
    "def third_alg(x):\n",
    "  n = len(x)\n",
    "  if (n <= 1):\n",
    "    return 0\n",
    "  left = linearfun(x[:n // 2])\n",
    "  right = linearfun(x[n // 2:])\n",
    "  #left and right are each lists of size n/2\n",
    "  if (left[0] <= right[0]):\n",
    "    soln = third_alg(left)\n",
    "  else:\n",
    "    soln = third_alg(right)\n",
    "  return soln\n",
    "```\n",
    "\n",
    "For each of the above three proposals analyze their time complexity. Which of the three algorithms would you choose to solve the problem? Explain your answer."
   ]
  },
  {
   "cell_type": "code",
   "execution_count": null,
   "metadata": {},
   "outputs": [],
   "source": []
  },
  {
   "cell_type": "markdown",
   "metadata": {},
   "source": [
    "# Question 5\n",
    "\n",
    "Consider the following code:\n",
    "\n",
    "```python\n",
    "def fun(n):\n",
    "    if n <= 1:\n",
    "        return 1\n",
    "    else:\n",
    "        return fun(n-1) + fun(n-1)\n",
    "```\n",
    "\n",
    "What is the time complexity of `fun`? Explain your answer."
   ]
  },
  {
   "cell_type": "markdown",
   "metadata": {},
   "source": []
  },
  {
   "cell_type": "code",
   "execution_count": null,
   "metadata": {},
   "outputs": [],
   "source": [
    "\n"
   ]
  },
  {
   "cell_type": "markdown",
   "metadata": {},
   "source": [
    "# Question 6\n",
    "\n",
    "Consider the following code:\n",
    "\n",
    "```python\n",
    "def fun(n):\n",
    "    i = 1\n",
    "    while i < n:\n",
    "        i = i * 2\n",
    "```\n",
    "\n",
    "What is the time complexity of `fun`? Explain your answer."
   ]
  },
  {
   "cell_type": "code",
   "execution_count": null,
   "metadata": {},
   "outputs": [],
   "source": []
  },
  {
   "cell_type": "markdown",
   "metadata": {},
   "source": [
    "# Question 7\n",
    "\n",
    "Consider the following code:\n",
    "\n",
    "```python\n",
    "def fun(arr):\n",
    "    n = len(arr)\n",
    "    result = [0] * n\n",
    "    for i in range(n):\n",
    "        result[i] = max(arr[:i+1])\n",
    "    return result\n",
    "```\n",
    "\n",
    "What is the time complexity of `fun`? Explain your answer."
   ]
  },
  {
   "cell_type": "markdown",
   "metadata": {},
   "source": []
  },
  {
   "cell_type": "markdown",
   "metadata": {},
   "source": [
    "# Question 8\n",
    "\n",
    "Implement a function called `linear_search` that takes in two parameters: a list of integers and a target integer. The function should return the index of the target integer if it is found in the list, or `-1` if it is not present. Use the linear search algorithm to solve this problem.\n",
    "\n",
    "For example, given the list `[4, 2, 7, 1, 9, 5]` and the target integer `7` , the function should return `2` since `7` is located at index `2` in the list.\n",
    "\n"
   ]
  },
  {
   "cell_type": "code",
   "execution_count": null,
   "metadata": {},
   "outputs": [],
   "source": [
    "def linear_search(array, target):\n",
    "  # WRITE YOUR CODE HERE\n",
    "  pass\n",
    "\n",
    "\n",
    "# TEST CASES\n",
    "check_test(linear_search([1, 2, 3, 4, 5], 3), 2)\n",
    "check_test(linear_search([1, 2, 3, 4, 5], 6), -1)\n",
    "check_test(linear_search([1, 2, 3, 4, 5], 1), 0)\n",
    "check_test(linear_search([1, 2, 3, 4, 5], 5), 4)\n",
    "check_test(linear_search([1, 2, 3, 4, 5], 4), 3)\n",
    "check_test(linear_search([4, 2, 7, 1, 9, 5], 7), 2)\n",
    "check_test(linear_search([1, 2, 3, 4, 5], 5), 4)\n",
    "check_test(linear_search([4, 2, 7, 1, 9, 5], 3), -1)"
   ]
  }
 ],
 "metadata": {
  "colab": {
   "provenance": []
  },
  "kernelspec": {
   "display_name": "Python 3 (ipykernel)",
   "language": "python",
   "name": "python3"
  },
  "language_info": {
   "codemirror_mode": {
    "name": "ipython",
    "version": 3
   },
   "file_extension": ".py",
   "mimetype": "text/x-python",
   "name": "python",
   "nbconvert_exporter": "python",
   "pygments_lexer": "ipython3",
   "version": "3.11.0"
  }
 },
 "nbformat": 4,
 "nbformat_minor": 1
}
