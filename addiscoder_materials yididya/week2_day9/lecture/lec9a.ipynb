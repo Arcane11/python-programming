{
 "cells": [
  {
   "cell_type": "markdown",
   "metadata": {},
   "source": [
    "# AddisCoder: Week 2, Day 4\n",
    "## Getting the Hang of Recursion"
   ]
  },
  {
   "cell_type": "markdown",
   "metadata": {},
   "source": [
    "Some problems split into multiple smaller problems, rather than just 1 smaller problem..."
   ]
  },
  {
   "cell_type": "markdown",
   "metadata": {},
   "source": [
    "## Review with Example"
   ]
  },
  {
   "cell_type": "markdown",
   "metadata": {},
   "source": [
    "To find the value to the following expression ${2^n}$ for non-negative integers ${n}$, we can use an old friend `for` loop."
   ]
  },
  {
   "cell_type": "code",
   "execution_count": null,
   "metadata": {},
   "outputs": [
    {
     "name": "stdout",
     "output_type": "stream",
     "text": [
      "32\n"
     ]
    }
   ],
   "source": [
    "def exponentiate(base, exponent):\n",
    "    total = 1\n",
    "    for i in range(exponent):\n",
    "        total *= base\n",
    "    return total\n",
    "\n",
    "print(exponentiate(2, 5))"
   ]
  },
  {
   "cell_type": "markdown",
   "metadata": {},
   "source": [
    "But we can also use __recursion__ to help find the value for the same expression. When solving a problem in programming, often times, multiple solutions to the same problem exist."
   ]
  },
  {
   "cell_type": "code",
   "execution_count": null,
   "metadata": {},
   "outputs": [
    {
     "name": "stdout",
     "output_type": "stream",
     "text": [
      "True\n"
     ]
    }
   ],
   "source": [
    "def exponentiate_recur(base, exponent):\n",
    "    if exponent == 0: #base case\n",
    "        return 1\n",
    "    return exponentiate_recur(base, exponent-1) * base\n",
    "    # try on your own\n",
    "    \n",
    "print(exponentiate_recur(2, 5) == 32) # this should print out True"
   ]
  },
  {
   "cell_type": "markdown",
   "metadata": {},
   "source": [
    "### BASE CASE"
   ]
  },
  {
   "cell_type": "markdown",
   "metadata": {},
   "source": [
    "The base case returns the answer to the smallest version of the problem. \n",
    "  \n",
    "For our example, the smallest version of the problem would be finding the answer to ${2^0}$."
   ]
  },
  {
   "cell_type": "markdown",
   "metadata": {},
   "source": [
    "```\n",
    "if exponent == 0:\n",
    "    return 1\n",
    "```"
   ]
  },
  {
   "cell_type": "markdown",
   "metadata": {},
   "source": [
    "### RECURSION STEP"
   ]
  },
  {
   "cell_type": "markdown",
   "metadata": {},
   "source": [
    "The recursion step solves smaller version of the problem and combines answers at each step of the smaller problem to return the final answer.  \n",
    "  \n",
    "For our example, knowing the answer to ${2^4}$ would help find the answer to ${2^5}$, knowing the answer to ${2^3}$ would help find the answer to ${2^4}$, ..."
   ]
  },
  {
   "cell_type": "markdown",
   "metadata": {},
   "source": [
    "```\n",
    "small_answer = exponentiate_recur(base, exponent - 1)\n",
    "return 2 * small_answer\n",
    "```"
   ]
  },
  {
   "cell_type": "markdown",
   "metadata": {},
   "source": [
    "### Tracing steps"
   ]
  },
  {
   "cell_type": "markdown",
   "metadata": {},
   "source": [
    "`exponentiate_recur(2, 5)` =>  recursion step =>  \n",
    "  \n",
    "`2 * exponentiate_recur(2,4)` =>  recursion step =>  \n",
    "  \n",
    "`2 * 2 * exponentiate_recur(2,3)` =>  recursion step =>  \n",
    "  \n",
    "`2 * 2 * 2 * exponentiate_recur(2,2)` =>  recursion step =>  \n",
    "  \n",
    "`2 * 2 * 2 * 2 * exponentiate_recur(2,1)` =>  recursion step =>  \n",
    "  \n",
    "`2 * 2 * 2 * 2 * 2 * exponentiate_recur(2,0)` =>  base case =>  \n",
    "  \n",
    "`2 * 2 * 2 * 2 * 2 * 1` =>  recursion step (to combine answers) =>  \n",
    "  \n",
    "`32`"
   ]
  },
  {
   "cell_type": "code",
   "execution_count": null,
   "metadata": {},
   "outputs": [],
   "source": [
    "def exponentiate_with_print(base, exponent):\n",
    "    if exponent == 0:\n",
    "        print(\"Current exponent is: \"+ str(exponent)+ \", returning 1\")\n",
    "        return 1\n",
    "    print(\"Current exponent is: \"+ str(exponent)+ \", returning \" + str(base) + \" * \" + \"exponentiate_with_print(\"+ str(base) + \", \" + str(exponent - 1) + \")\")\n",
    "    return base * exponentiate_with_print(base, exponent - 1)\n",
    "\n",
    "exponentiate_with_print(2, 5)"
   ]
  },
  {
   "cell_type": "markdown",
   "metadata": {},
   "source": [
    "## Branching Recursion\n",
    "\n",
    "Sometimes, recursion can *branch*."
   ]
  },
  {
   "cell_type": "markdown",
   "metadata": {},
   "source": [
    "The following sequence of numbers is called the **Fibonacci numbers**:\n",
    "\n",
    "```\n",
    "0, 1, 1, 2, 3, 5, 8, 13, 21, 34, ...\n",
    "```\n",
    "\n",
    "Can you see the pattern in this sequence?\n",
    "\n",
    "The **Fibonacci numbers** are defined as follows:\n",
    "\n",
    "```\n",
    "F(0) = 0\n",
    "F(1) = 1\n",
    "F(n) = F(n - 1) + F(n - 2), for n >= 2\n",
    "```\n",
    "\n",
    "We can expand this out a bit to see the first few __Fibonacci numbers__ in the sequence:\n",
    "\n",
    "```\n",
    "F(0) = 0, by definition, (0-th Fibonacci number)\n",
    "F(1) = 1, by definition, (1-st Fibonacci number)\n",
    "F(2) = F(1) + F(0) = 1 + 0 = 1, (2-nd Fibonacci number)\n",
    "F(3) = F(2) + F(1) = 1 + 1 = 2, (3-rd Fibonacci number)\n",
    "F(4) = F(3) + F(2) = 2 + 1 = 3, (4-th Fibonacci number)\n",
    "...\n",
    "```\n",
    "\n",
    "This sequence appears in algorithms, math, and in nature in various places. Today, we can use the definition of Fibonacci numbers to program a function that returns the n-th Fibonacci number!"
   ]
  },
  {
   "cell_type": "markdown",
   "metadata": {},
   "source": [
    "Let us define a function ```fib(n)``` that takes a non-negative integer ${n}$ as an input and outputs the $n^{th}$ Fibonacci number.\n",
    "\n",
    "```python\n",
    "def fib(n):\n",
    "```"
   ]
  },
  {
   "cell_type": "code",
   "execution_count": null,
   "metadata": {},
   "outputs": [
    {
     "data": {
      "text/plain": [
       "3"
      ]
     },
     "metadata": {},
     "output_type": "display_data"
    }
   ],
   "source": [
    "# implementation of fib using for loop:\n",
    "def fib(n):\n",
    "\n",
    "    fib_i_prev_prev = 0  # initialized to F(0)\n",
    "    fib_i_prev = 1       # initialized to F(1)\n",
    "    \n",
    "    for i in range(n - 1):\n",
    "        # compute the next number in the sequence\n",
    "        fib_i = fib_i_prev_prev + fib_i_prev\n",
    "        # save state to use for the next computation\n",
    "        fib_i_prev_prev = fib_i_prev\n",
    "        fib_i_prev = fib_i\n",
    "        \n",
    "    return fib_i\n",
    "\n",
    "fib(4)"
   ]
  },
  {
   "cell_type": "markdown",
   "metadata": {},
   "source": [
    "### 7 lines of code!"
   ]
  },
  {
   "cell_type": "markdown",
   "metadata": {},
   "source": [
    "Try, on your own, writing what a recursive method for finding the n-th Fibonacci number might look like"
   ]
  },
  {
   "cell_type": "code",
   "execution_count": null,
   "metadata": {},
   "outputs": [],
   "source": [
    "# implementation of fib using recursion:\n",
    "def fib(n):\n",
    "    # base case:\n",
    "    # ?\n",
    "    \n",
    "    # recursion step:\n",
    "    # ?\n",
    "\n",
    "fib(4)"
   ]
  },
  {
   "cell_type": "markdown",
   "metadata": {},
   "source": [
    "### 3 lines of code!!"
   ]
  },
  {
   "cell_type": "markdown",
   "metadata": {},
   "source": [
    "While recursion solutions can be more difficult to think about at first, they can be simpler and more elegant solutions to a problem."
   ]
  },
  {
   "cell_type": "code",
   "execution_count": null,
   "metadata": {},
   "outputs": [],
   "source": [
    "# Let's try running it with a few different values of n:\n",
    "\n",
    "print(fib(0))"
   ]
  },
  {
   "cell_type": "code",
   "execution_count": null,
   "metadata": {},
   "outputs": [],
   "source": [
    "print(fib(5))"
   ]
  },
  {
   "cell_type": "code",
   "execution_count": 12,
   "metadata": {},
   "outputs": [
    {
     "name": "stdout",
     "output_type": "stream",
     "text": [
      "987\n"
     ]
    }
   ],
   "source": [
    "# Hmm, that's interesting. It takes a while to run.\n",
    "print(fib(20))"
   ]
  },
  {
   "cell_type": "code",
   "execution_count": 13,
   "metadata": {},
   "outputs": [],
   "source": [
    "# We'll talk about why it takes a while to run in the afternoon."
   ]
  },
  {
   "cell_type": "markdown",
   "metadata": {},
   "source": [
    "### Extra Practice Problems"
   ]
  },
  {
   "cell_type": "code",
   "execution_count": null,
   "metadata": {},
   "outputs": [],
   "source": [
    "# Question 1: Skip Add\n",
    "# Write a function skip_add that takes a single argument n and computes the sum of every other integers between 0 and n starting from n. Assume n is non-negative.\n",
    "def skip_add(n):\n",
    "    \"\"\" Takes a number x and returns x + x-2 + x-4 + x-6 + ... + 0.\n",
    "\n",
    "    >>> skip_add(5)  # 5 + 3 + 1 + 0\n",
    "    9\n",
    "    >>> skip_add(10) # 10 + 8 + 6 + 4 + 2 + 0\n",
    "    30\n",
    "    \"\"\"\n",
    "    \"*** YOUR CODE HERE ***\""
   ]
  },
  {
   "cell_type": "code",
   "execution_count": null,
   "metadata": {},
   "outputs": [],
   "source": [
    "# Question 3: Common Misconception\n",
    "# Fix the error with this recursive function.\n",
    "def skip_mul(n):\n",
    "    \"\"\"Return the product of n * (n - 2) * (n - 4) * ...\n",
    "\n",
    "    >>> skip_mul(5) # 5 * 3 * 1\n",
    "    15\n",
    "    >>> skip_mul(8) # 8 * 6 * 4 * 2  * 0\n",
    "    0\n",
    "    \"\"\"\n",
    "    if n == 0:\n",
    "        return 0\n",
    "    else:\n",
    "        return n * skip_mul(n - 2)"
   ]
  },
  {
   "cell_type": "code",
   "execution_count": null,
   "metadata": {},
   "outputs": [],
   "source": [
    "# Question 4: Common Misconception\n",
    "# Fix the error with the following recursive function.\n",
    "def factorial(n):\n",
    "    \"\"\"Return n * (n - 1) * (n - 2) * ... * 1.\n",
    "\n",
    "    >>> factorial(5)\n",
    "    120\n",
    "    \"\"\"\n",
    "    if n == 0:\n",
    "        return 1\n",
    "    else:\n",
    "        n * factorial(n-1)"
   ]
  },
  {
   "cell_type": "code",
   "execution_count": null,
   "metadata": {},
   "outputs": [],
   "source": [
    "# Question 5: Common Misconception\n",
    "# Fix the error with the following recursive function:\n",
    "def print_up_to(n):\n",
    "    \"\"\"Print every natural number up to n, inclusive.\n",
    "\n",
    "    >>> print_up_to(5)\n",
    "    1\n",
    "    2\n",
    "    3\n",
    "    4\n",
    "    5\n",
    "    \"\"\"\n",
    "    i = 1\n",
    "    if i > n:\n",
    "        return\n",
    "    else:\n",
    "        print(i)\n",
    "        i += 1\n",
    "        print_up_to(n)"
   ]
  },
  {
   "cell_type": "code",
   "execution_count": null,
   "metadata": {},
   "outputs": [],
   "source": [
    "# Question 7: Hailstone\n",
    "# For the hailstone function from homework 1, you pick a positive integer n as the start. If n is even, divide it by 2. If n\n",
    "# is odd, multiply it by 3 and add 1. Repeat this process until n is 1. Write a recursive version of hailstone that prints out\n",
    "# the values of the sequence and returns the number of steps.\n",
    "def hailstone(n):\n",
    "    \"\"\"Print out the hailstone sequence starting at n, and return the\n",
    "    number of elements in the sequence.\n",
    "\n",
    "    >>> a = hailstone(10)\n",
    "    10\n",
    "    5\n",
    "    16\n",
    "    8\n",
    "    4\n",
    "    2\n",
    "    1\n",
    "    >>> a\n",
    "    7\n",
    "    \"\"\"\n",
    "    \"*** YOUR CODE HERE ***\""
   ]
  }
 ],
 "metadata": {
  "kernelspec": {
   "display_name": "Python 3",
   "language": "python",
   "name": "python3"
  },
  "language_info": {
   "codemirror_mode": {
    "name": "ipython",
    "version": 3
   },
   "file_extension": ".py",
   "mimetype": "text/x-python",
   "name": "python",
   "nbconvert_exporter": "python",
   "pygments_lexer": "ipython3",
   "version": "3.11.4"
  },
  "orig_nbformat": 4
 },
 "nbformat": 4,
 "nbformat_minor": 2
}
