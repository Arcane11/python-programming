{
 "cells": [
  {
   "cell_type": "code",
   "execution_count": 2,
   "id": "9c410611",
   "metadata": {},
   "outputs": [],
   "source": [
    "from simpleimage import SimpleImage"
   ]
  },
  {
   "cell_type": "markdown",
   "id": "8c34ee5f",
   "metadata": {},
   "source": [
    "### Question 1\n",
    "\n",
    "Write code that draws the background of the Ethiopian flag.\n",
    "\n",
    "Hint: What RGB code do you need to get red, yellow and green?\n",
    "\n",
    "![](ethiopia-plain.png)"
   ]
  },
  {
   "cell_type": "code",
   "execution_count": 9,
   "id": "b828af73",
   "metadata": {
    "scrolled": true
   },
   "outputs": [
    {
     "data": {
      "image/jpeg": "[encoded data removed]",
      "image/png": "[encoded data removed]",
      "text/plain": [
       "<PIL.Image.Image image mode=RGB size=200x200>"
      ]
     },
     "metadata": {},
     "output_type": "display_data"
    }
   ],
   "source": [
    "size = 11\n",
    "image = SimpleImage.blank(size, size)\n",
    "# your code to create the image here\n",
    "for row in range(image.width):\n",
    "    for col in range(image.height):\n",
    "        if 0 <= row < 4:\n",
    "            image.set_rgb(col,row,0,255,0)\n",
    "        elif 4 <= row < 7:\n",
    "            image.set_rgb(col,row,255,255,0)\n",
    "        else:\n",
    "            image.set_rgb(col,row,255,0,0)\n",
    "            \n",
    "            \n",
    "            \n",
    "image.show(resize_width=200)\n",
    "\n",
    "\n",
    "            \n",
    "    "
   ]
  },
  {
   "cell_type": "markdown",
   "id": "b72f65fb",
   "metadata": {},
   "source": [
    "### Question 2\n",
    "\n",
    "We're missing the blue emblem in the center. Let's figure out how to draw a circle.\n",
    "\n",
    "If the size of the image is `size`, what are the coordinates of the image center?"
   ]
  },
  {
   "cell_type": "code",
   "execution_count": null,
   "id": "a453b3f7",
   "metadata": {},
   "outputs": [],
   "source": [
    "# size // 2"
   ]
  },
  {
   "cell_type": "markdown",
   "id": "59a570ec",
   "metadata": {},
   "source": [
    "If we have a pixel at $(x, y)$, how do we compute the (square) distance between that pixel and the image center?"
   ]
  },
  {
   "cell_type": "code",
   "execution_count": null,
   "id": "9a81d3c1",
   "metadata": {},
   "outputs": [],
   "source": []
  },
  {
   "cell_type": "markdown",
   "id": "bb27a207",
   "metadata": {},
   "source": [
    "Now draw a circle.\n",
    "\n",
    "- use a double for loop as usual\n",
    "- compute the distance from the pixel to the center\n",
    "- if the distance is less than a certain value, draw the pixel, otherwise don't.\n",
    "\n",
    "![](simple-circle.png)"
   ]
  },
  {
   "cell_type": "code",
   "execution_count": 26,
   "id": "424f3863",
   "metadata": {
    "scrolled": true
   },
   "outputs": [
    {
     "data": {
      "image/jpeg": "[encoded data removed]",
      "image/png": "[encoded data removed]",
      "text/plain": [
       "<PIL.Image.Image image mode=RGB size=200x200>"
      ]
     },
     "metadata": {},
     "output_type": "display_data"
    }
   ],
   "source": [
    "size = 11\n",
    "image = SimpleImage.blank(size, size)\n",
    "# your code to create the image here\n",
    "            \n",
    "for row in range(image.width):\n",
    "    for col in range(image.height):\n",
    "        if (row - size//2)**2 + (col - size//2)**2 < 7:\n",
    "            image.set_rgb(col,row,0,0,255)\n",
    "            \n",
    "image.show(resize_width=200)"
   ]
  },
  {
   "cell_type": "markdown",
   "id": "46085a11",
   "metadata": {},
   "source": [
    "### Question 3\n",
    "\n",
    "Now use your code to add a blue circle to your Ethiopian flag!\n",
    "\n",
    "![](ethiopia-with-circle.png)"
   ]
  },
  {
   "cell_type": "code",
   "execution_count": 24,
   "id": "ff4db298",
   "metadata": {
    "scrolled": true
   },
   "outputs": [
    {
     "data": {
      "image/jpeg": "[encoded data removed]",
      "image/png": "[encoded data removed]",
      "text/plain": [
       "<PIL.Image.Image image mode=RGB size=200x200>"
      ]
     },
     "metadata": {},
     "output_type": "display_data"
    }
   ],
   "source": [
    "size = 11\n",
    "image = SimpleImage.blank(size, size)\n",
    "# your code to create the image here\n",
    "for row in range(image.width):\n",
    "    for col in range(image.height):\n",
    "        if 0 <= row < 4:\n",
    "            image.set_rgb(col,row,0,255,0)\n",
    "        elif 4 <= row < 7:\n",
    "            image.set_rgb(col,row,255,255,0)\n",
    "        else:\n",
    "            image.set_rgb(col,row,255,0,0)\n",
    "            \n",
    "for row in range(image.width):\n",
    "    for col in range(image.height):\n",
    "        if (row - size//2)**2 + (col - size//2)**2 < 7:\n",
    "            image.set_rgb(col,row,0,0,255)\n",
    "            \n",
    "image.show(resize_width=200)"
   ]
  },
  {
   "cell_type": "markdown",
   "id": "87d188e7",
   "metadata": {},
   "source": [
    "### Question 4\n",
    "\n",
    "If you want, write code that adds a few pixels for the yellow star to the center of the blue circle!\n",
    "\n",
    "![](ethiopia-with-star.png)"
   ]
  },
  {
   "cell_type": "code",
   "execution_count": 31,
   "id": "edd12068",
   "metadata": {
    "scrolled": true
   },
   "outputs": [
    {
     "data": {
      "image/jpeg": "[encoded data removed]",
      "image/png": "[encoded data removed]",
      "text/plain": [
       "<PIL.Image.Image image mode=RGB size=200x200>"
      ]
     },
     "metadata": {},
     "output_type": "display_data"
    }
   ],
   "source": [
    "size = 11\n",
    "image = SimpleImage.blank(size, size)\n",
    "# your code to create the image here\n",
    "for row in range(image.width):\n",
    "    for col in range(image.height):\n",
    "        if 0 <= row < 4:\n",
    "            image.set_rgb(col,row,0,255,0)\n",
    "        elif 4 <= row < 7:\n",
    "            image.set_rgb(col,row,255,255,0)\n",
    "        else:\n",
    "            image.set_rgb(col,row,255,0,0)\n",
    "            \n",
    "for row in range(image.width):\n",
    "    for col in range(image.height):\n",
    "        if (row - size//2)**2 + (col - size//2)**2 < 7:\n",
    "            image.set_rgb(col,row,0,0,255)\n",
    "            \n",
    "for row in range(4,7):\n",
    "    if row % 2 == 0:\n",
    "        for col in range(4,7):\n",
    "            if col % 2 == 0:\n",
    "                image.set_rgb(col,row,255,255,0)\n",
    "    else:\n",
    "        for col in range(4,7):\n",
    "            if col % 2 != 0:\n",
    "                image.set_rgb(col,row,255,255,0)\n",
    "        \n",
    "            \n",
    "            \n",
    "image.show(resize_width=200)"
   ]
  },
  {
   "cell_type": "code",
   "execution_count": null,
   "id": "32406b96",
   "metadata": {},
   "outputs": [],
   "source": []
  },
  {
   "cell_type": "markdown",
   "id": "6733e022",
   "metadata": {},
   "source": [
    "### Question 5\n",
    "Draw horizontal bars, as shown here.\n",
    "\n",
    "![](horizontal-bars.png)"
   ]
  },
  {
   "cell_type": "markdown",
   "id": "c0a03f69",
   "metadata": {},
   "source": [
    "### Question 6\n",
    "Draw the flag of Liberia, as shown here.\n",
    "\n",
    "Hint: \n",
    "- First use your code to draw the horizontal bars.\n",
    "- Use another for loop to overwrite the top left with a blue rectangle\n",
    "- Draw a few extra pixels for the star.\n",
    "\n",
    "![](liberia-flag.png)\n"
   ]
  },
  {
   "cell_type": "code",
   "execution_count": 80,
   "id": "0e399196",
   "metadata": {},
   "outputs": [
    {
     "data": {
      "image/jpeg": "[encoded data removed]",
      "image/png": "[encoded data removed]",
      "text/plain": [
       "<PIL.Image.Image image mode=RGB size=200x200>"
      ]
     },
     "metadata": {},
     "output_type": "display_data"
    }
   ],
   "source": [
    "size = 11\n",
    "image = SimpleImage.blank(size, size)\n",
    "# your code to create the image here\n",
    "for row in range(0,image.width,2):\n",
    "    for col in range(image.height):\n",
    "        image.set_rgb(col,row,255,0,0)\n",
    "        \n",
    "for row in range(5):\n",
    "    for col in range(5):\n",
    "         image.set_rgb(col,row,0,0,255)\n",
    "            \n",
    "for row in range(1,4):\n",
    "    if row % 2 == 0:\n",
    "        for col in range(1,4):\n",
    "            if col % 2 == 0:\n",
    "                image.set_rgb(col,row,255,255,255)\n",
    "    else:\n",
    "        for col in range(1,4):\n",
    "            if col % 2 != 0:\n",
    "                image.set_rgb(col,row,255,255,255)\n",
    "        \n",
    "image.show(resize_width=200)"
   ]
  },
  {
   "cell_type": "markdown",
   "id": "d185df6f",
   "metadata": {},
   "source": [
    "## Gradients"
   ]
  },
  {
   "cell_type": "markdown",
   "id": "d4ca94de",
   "metadata": {},
   "source": [
    "### Question 7\n",
    "\n",
    "Remember the gradients from 7a. Now make a 2-directional gradient.\n",
    "\n",
    "- You will now need values `k1` and `k2`\n",
    "- Some RGB components should use `k1` and some of them `k2`\n",
    "\n",
    "![](2d-gradient.png)"
   ]
  },
  {
   "cell_type": "code",
   "execution_count": null,
   "id": "92a53cae",
   "metadata": {
    "scrolled": true
   },
   "outputs": [],
   "source": [
    "size = 11\n",
    "image = SimpleImage.blank(size, size)\n",
    "# your code to create the image here\n",
    "image.show(resize_width=200)"
   ]
  },
  {
   "cell_type": "markdown",
   "id": "505d4c69",
   "metadata": {},
   "source": [
    "### Question 8\n",
    "Draw the horizontal bars with a smooth color gradient?\n",
    "\n",
    "Hint:\n",
    "- How many pixels are you drawing in total?\n",
    "- Count how many pixels you have drawn, and use that to compute your value `k`.\n",
    "\n",
    "![](horizontal-bar-gradient.png)"
   ]
  },
  {
   "cell_type": "code",
   "execution_count": null,
   "id": "e39dacca",
   "metadata": {},
   "outputs": [],
   "source": [
    "size = 11\n",
    "image = SimpleImage.blank(size, size)\n",
    "# your code to create the image here\n",
    "image.show(resize_width=200)"
   ]
  },
  {
   "cell_type": "markdown",
   "id": "24850c93",
   "metadata": {},
   "source": [
    "### Question 9\n",
    "\n",
    "Draw the bars while cycling through the colors in the list `cycle`.\n",
    "\n",
    "Hint: \n",
    "- Count how many pixels you have drawn\n",
    "- Use `counter % 6` to decide which color to choose.\n",
    "\n",
    "![](color-cycle.png)"
   ]
  },
  {
   "cell_type": "code",
   "execution_count": null,
   "id": "5f452b01",
   "metadata": {},
   "outputs": [],
   "source": [
    "cycle = [\n",
    "    [255, 0, 0],\n",
    "    [255, 255, 0],\n",
    "    [0, 255, 0],\n",
    "    [0, 255, 255],\n",
    "    [0, 0, 255],\n",
    "    [255, 0, 255],\n",
    "]\n",
    "size = 11\n",
    "image = SimpleImage.blank(size, size)\n",
    "# your code to create the image here\n",
    "image.show(resize_width=200)"
   ]
  },
  {
   "cell_type": "markdown",
   "id": "2539d49f",
   "metadata": {},
   "source": [
    "### Question 10\n",
    "Draw a snake, as shown below.\n",
    "\n",
    "![](snake.png)"
   ]
  },
  {
   "cell_type": "code",
   "execution_count": null,
   "id": "ce815183",
   "metadata": {},
   "outputs": [],
   "source": [
    "size = 11\n",
    "image = SimpleImage.blank(size, size)\n",
    "# your code to create the image here\n",
    "image.show(resize_width=200)"
   ]
  },
  {
   "cell_type": "markdown",
   "id": "e570e84c",
   "metadata": {},
   "source": [
    "### Question 11\n",
    "Draw a spiral, as shown below.\n",
    "\n",
    "![](black-white-spiral.png)"
   ]
  },
  {
   "cell_type": "code",
   "execution_count": null,
   "id": "b847b874",
   "metadata": {},
   "outputs": [],
   "source": [
    "size = 11\n",
    "image = SimpleImage.blank(size, size)\n",
    "# your code to create the image here\n",
    "image.show(resize_width=200)"
   ]
  },
  {
   "cell_type": "markdown",
   "id": "5c0de9d8",
   "metadata": {},
   "source": [
    "### Question 12\n",
    "\n",
    "Modify your code so the spiral uses a color gradient, as shown below.\n",
    "\n",
    "![](gradient-spiral.png)"
   ]
  },
  {
   "cell_type": "code",
   "execution_count": null,
   "id": "3d1f7682",
   "metadata": {},
   "outputs": [],
   "source": [
    "size = 11\n",
    "image = SimpleImage.blank(size, size)\n",
    "# your code to create the image here\n",
    "image.show(resize_width=200)"
   ]
  },
  {
   "cell_type": "markdown",
   "id": "349ffebc",
   "metadata": {},
   "source": [
    "### Question 13\n",
    "\n",
    "Draw another spiral over the previous spiral with another color gradient, as shown below.\n",
    "\n",
    "![](double-gradient-spiral.png)"
   ]
  },
  {
   "cell_type": "code",
   "execution_count": null,
   "id": "a7c543e6",
   "metadata": {},
   "outputs": [],
   "source": [
    "size = 11\n",
    "image = SimpleImage.blank(size, size)\n",
    "# your code to create the image here\n",
    "image.show(resize_width=200)"
   ]
  },
  {
   "cell_type": "markdown",
   "id": "012f4703",
   "metadata": {},
   "source": [
    "### Question 14\n",
    "\n",
    "Draw a snake that fills every line with a color gradient from black to white.\n",
    "\n",
    "![](snake-gradient.png)"
   ]
  },
  {
   "cell_type": "code",
   "execution_count": null,
   "id": "fc20ee81",
   "metadata": {},
   "outputs": [],
   "source": [
    "size = 11\n",
    "image = SimpleImage.blank(size, size)\n",
    "# your code to create the image here\n",
    "image.show(resize_width=200)"
   ]
  },
  {
   "cell_type": "markdown",
   "id": "63e4c719",
   "metadata": {},
   "source": [
    "### Question 15\n",
    "\n",
    "Define a function `interpolate linear` that takes two colors and a value `t` and computes a new color that is between `color1` and `color2`, with the color components being `color2[i]*t + color1[i]*(1-t)`.\n",
    "\n",
    "Draw a vertical gradient from magenta to green, as shown below.\n",
    "\n",
    "![](magenta-gradient.png)"
   ]
  },
  {
   "cell_type": "code",
   "execution_count": null,
   "id": "fdaf385a",
   "metadata": {},
   "outputs": [],
   "source": [
    "size = 11\n",
    "image = SimpleImage.blank(size, size)\n",
    "# your code to create the image here\n",
    "image.show(resize_width=200)"
   ]
  },
  {
   "cell_type": "markdown",
   "id": "65dff99b",
   "metadata": {},
   "source": [
    "### Question 16\n",
    "Draw a colored snake that fills every line, as shown below.\n",
    "\n",
    "Use the color cycle from before, and the function `interpolate_linear` to interpolate between consecutive colors.\n",
    "\n",
    "![](colored-snake.png)"
   ]
  },
  {
   "cell_type": "code",
   "execution_count": null,
   "id": "6c80b39a",
   "metadata": {},
   "outputs": [],
   "source": [
    "cycle = [\n",
    "    [255, 0, 0],\n",
    "    [255, 255, 0],\n",
    "    [0, 255, 0],\n",
    "    [0, 255, 255],\n",
    "    [0, 0, 255],\n",
    "    [255, 0, 255],\n",
    "]\n",
    "size = 11\n",
    "image = SimpleImage.blank(size, size)\n",
    "# your code to create the image here\n",
    "image.show(resize_width=200)"
   ]
  }
 ],
 "metadata": {
  "kernelspec": {
   "display_name": "Python 3 (ipykernel)",
   "language": "python",
   "name": "python3"
  },
  "language_info": {
   "codemirror_mode": {
    "name": "ipython",
    "version": 3
   },
   "file_extension": ".py",
   "mimetype": "text/x-python",
   "name": "python",
   "nbconvert_exporter": "python",
   "pygments_lexer": "ipython3",
   "version": "3.11.0"
  }
 },
 "nbformat": 4,
 "nbformat_minor": 5
}
