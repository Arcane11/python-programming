{
 "cells": [
  {
   "cell_type": "code",
   "execution_count": 2,
   "id": "9c410611",
   "metadata": {},
   "outputs": [],
   "source": [
    "from simpleimage import SimpleImage"
   ]
  },
  {
   "cell_type": "markdown",
   "id": "f1e275d1",
   "metadata": {},
   "source": [
    "As a reminder, here are the image functions we learned about in class.\n",
    "\n",
    "```\n",
    "# Create image:\n",
    "image = SimpleImage.blank(400, 200)   # create new image of size 400, 200\n",
    "\n",
    "# Access size:\n",
    "w = image.width\n",
    "h = image.height\n",
    "\n",
    "# Get pixel at x,y (0,0 is the top left corner):\n",
    "pix = image.get_rgb(x, y)\n",
    "# pix is an RGB list like [100, 200, 0], where the color components of the\n",
    "# pixel are Red = 100, Green = 200, and Blue = 0.\n",
    "\n",
    "# Set pixel at x,y:\n",
    "image.set_rgb(x, y, r, g, b)\n",
    "\n",
    "# Show image on screen:\n",
    "image.show()\n",
    "\n",
    "# Show a small image zoomed-in (larger) so it's easier to see the pixels:\n",
    "image.show(resize_width=200)\n",
    "```\n"
   ]
  },
  {
   "cell_type": "markdown",
   "id": "b6f79bad",
   "metadata": {},
   "source": [
    "### Question 1\n",
    "\n",
    "Let's create a blank image with a white background, that is an 11 by 11 square."
   ]
  },
  {
   "cell_type": "code",
   "execution_count": 7,
   "id": "71b431e7",
   "metadata": {},
   "outputs": [
    {
     "data": {
      "image/jpeg": "[encoded data removed]",
      "image/png": "[encoded data removed]",
      "text/plain": [
       "<PIL.Image.Image image mode=RGB size=11x11>"
      ]
     },
     "metadata": {},
     "output_type": "display_data"
    },
    {
     "data": {
      "image/jpeg": "[encoded data removed]",
      "image/png": "[encoded data removed]",
      "text/plain": [
       "<PIL.Image.Image image mode=RGB size=200x200>"
      ]
     },
     "metadata": {},
     "output_type": "display_data"
    }
   ],
   "source": [
    "size = 11\n",
    "image = SimpleImage.blank(size,size)\n",
    "\n",
    "image.show()\n",
    "image.show(resize_width = 200)"
   ]
  },
  {
   "cell_type": "markdown",
   "id": "6733e022",
   "metadata": {},
   "source": [
    "### Question 2\n",
    "Now, let's set the middle pixel to a black dot by using the `set_rgb()` function."
   ]
  },
  {
   "cell_type": "code",
   "execution_count": 11,
   "id": "88d4bf0e",
   "metadata": {},
   "outputs": [
    {
     "data": {
      "image/jpeg": "[encoded data removed]",
      "image/png": "[encoded data removed]",
      "text/plain": [
       "<PIL.Image.Image image mode=RGB size=200x200>"
      ]
     },
     "metadata": {},
     "output_type": "display_data"
    }
   ],
   "source": [
    "image.set_rgb(size//2 ,size//2, 0,0,0)\n",
    "image.show(resize_width=200)"
   ]
  },
  {
   "cell_type": "markdown",
   "id": "d4ca94de",
   "metadata": {},
   "source": [
    "### Question 3\n",
    "\n",
    "After painting the center pixel of the picture black, let us paint the four corners black.\n",
    "\n",
    "It should look something like this. \n",
    "\n",
    "![](four_dots_and_middle_dot.png)"
   ]
  },
  {
   "cell_type": "code",
   "execution_count": 16,
   "id": "92a53cae",
   "metadata": {
    "scrolled": true
   },
   "outputs": [
    {
     "data": {
      "image/jpeg": "[encoded data removed]",
      "image/png": "[encoded data removed]",
      "text/plain": [
       "<PIL.Image.Image image mode=RGB size=200x200>"
      ]
     },
     "metadata": {},
     "output_type": "display_data"
    }
   ],
   "source": [
    "for col in range(image.width):\n",
    "    for row in range(image.height):\n",
    "        if (col == 0 or col == image.width - 1) and (row == 0 or row == image.height -1):\n",
    "            image.set_rgb(col,row,0,0,0)\n",
    "            \n",
    "image.show(resize_width=200)"
   ]
  },
  {
   "cell_type": "markdown",
   "id": "507abf72",
   "metadata": {},
   "source": [
    "### Question 4\n",
    "\n",
    "Define a function called `draw_horizontal(img, x, y,length)` that will draw a horizontal line given an image, starting pixel, ending pixel and its length."
   ]
  },
  {
   "cell_type": "code",
   "execution_count": 4,
   "id": "3a382cdd",
   "metadata": {},
   "outputs": [
    {
     "ename": "IndexError",
     "evalue": "image index out of range",
     "output_type": "error",
     "traceback": [
      "\u001b[1;31m---------------------------------------------------------------------------\u001b[0m",
      "\u001b[1;31mIndexError\u001b[0m                                Traceback (most recent call last)",
      "Cell \u001b[1;32mIn[4], line 9\u001b[0m\n\u001b[0;32m      6\u001b[0m             img\u001b[38;5;241m.\u001b[39mset_rgb(col,row,\u001b[38;5;241m0\u001b[39m,\u001b[38;5;241m0\u001b[39m,\u001b[38;5;241m0\u001b[39m)\n\u001b[0;32m      7\u001b[0m     \u001b[38;5;28;01mreturn\u001b[39;00m img\n\u001b[1;32m----> 9\u001b[0m hrimg \u001b[38;5;241m=\u001b[39m \u001b[43mdraw_horizontal\u001b[49m\u001b[43m(\u001b[49m\u001b[43mimage\u001b[49m\u001b[43m,\u001b[49m\u001b[38;5;241;43m7\u001b[39;49m\u001b[43m,\u001b[49m\u001b[38;5;241;43m7\u001b[39;49m\u001b[43m,\u001b[49m\u001b[38;5;241;43m11\u001b[39;49m\u001b[43m)\u001b[49m\n\u001b[0;32m     11\u001b[0m hrimg\u001b[38;5;241m.\u001b[39mshow(resize_width\u001b[38;5;241m=\u001b[39m\u001b[38;5;241m200\u001b[39m)\n",
      "Cell \u001b[1;32mIn[4], line 6\u001b[0m, in \u001b[0;36mdraw_horizontal\u001b[1;34m(img, x, y, length)\u001b[0m\n\u001b[0;32m      4\u001b[0m \u001b[38;5;28;01mfor\u001b[39;00m col \u001b[38;5;129;01min\u001b[39;00m \u001b[38;5;28mrange\u001b[39m(x\u001b[38;5;241m+\u001b[39mlength):\n\u001b[0;32m      5\u001b[0m     \u001b[38;5;28;01mfor\u001b[39;00m row \u001b[38;5;129;01min\u001b[39;00m \u001b[38;5;28mrange\u001b[39m(x,y\u001b[38;5;241m+\u001b[39m\u001b[38;5;241m1\u001b[39m):\n\u001b[1;32m----> 6\u001b[0m         \u001b[43mimg\u001b[49m\u001b[38;5;241;43m.\u001b[39;49m\u001b[43mset_rgb\u001b[49m\u001b[43m(\u001b[49m\u001b[43mcol\u001b[49m\u001b[43m,\u001b[49m\u001b[43mrow\u001b[49m\u001b[43m,\u001b[49m\u001b[38;5;241;43m0\u001b[39;49m\u001b[43m,\u001b[49m\u001b[38;5;241;43m0\u001b[39;49m\u001b[43m,\u001b[49m\u001b[38;5;241;43m0\u001b[39;49m\u001b[43m)\u001b[49m\n\u001b[0;32m      7\u001b[0m \u001b[38;5;28;01mreturn\u001b[39;00m img\n",
      "File \u001b[1;32m~\\Desktop\\addiscoder_materials\\week2_day7\\lab\\simpleimage.py:140\u001b[0m, in \u001b[0;36mSimpleImage.set_rgb\u001b[1;34m(self, x, y, red, green, blue)\u001b[0m\n\u001b[0;32m    134\u001b[0m \u001b[38;5;28;01mdef\u001b[39;00m \u001b[38;5;21mset_rgb\u001b[39m(\u001b[38;5;28mself\u001b[39m, x, y, red, green, blue):\n\u001b[0;32m    135\u001b[0m \u001b[38;5;250m    \u001b[39m\u001b[38;5;124;03m\"\"\"\u001b[39;00m\n\u001b[0;32m    136\u001b[0m \u001b[38;5;124;03m    Set the pixel at the given x,y to have\u001b[39;00m\n\u001b[0;32m    137\u001b[0m \u001b[38;5;124;03m    the given red/green/blue values without\u001b[39;00m\n\u001b[0;32m    138\u001b[0m \u001b[38;5;124;03m    requiring a separate pixel object.\u001b[39;00m\n\u001b[0;32m    139\u001b[0m \u001b[38;5;124;03m    \"\"\"\u001b[39;00m\n\u001b[1;32m--> 140\u001b[0m     \u001b[38;5;28;43mself\u001b[39;49m\u001b[38;5;241;43m.\u001b[39;49m\u001b[43mpx\u001b[49m\u001b[43m[\u001b[49m\u001b[43mx\u001b[49m\u001b[43m,\u001b[49m\u001b[43m \u001b[49m\u001b[43my\u001b[49m\u001b[43m]\u001b[49m \u001b[38;5;241m=\u001b[39m (red, green, blue)\n",
      "\u001b[1;31mIndexError\u001b[0m: image index out of range"
     ]
    }
   ],
   "source": [
    "size = 11\n",
    "image = SimpleImage.blank(size, size)\n",
    "def draw_horizontal(img,x,y,length): \n",
    "    for col in range(length):\n",
    "        for row in range(x,y+1):\n",
    "            img.set_rgb(col,row,0,0,0)\n",
    "    return img\n",
    "\n",
    "hrimg = draw_horizontal(image,7,7,11)\n",
    "\n",
    "hrimg.show(resize_width=200)\n"
   ]
  },
  {
   "cell_type": "markdown",
   "id": "3cf6c108",
   "metadata": {},
   "source": [
    "### Question 5\n",
    "Define a function called `draw_vertical(img, x, y,length)` that draws a vertical line given an image, starting pixel, ending pixel and its length."
   ]
  },
  {
   "cell_type": "code",
   "execution_count": 41,
   "id": "77c93297",
   "metadata": {},
   "outputs": [
    {
     "data": {
      "image/jpeg": "[encoded data removed]",
      "image/png": "[encoded data removed]",
      "text/plain": [
       "<PIL.Image.Image image mode=RGB size=200x200>"
      ]
     },
     "metadata": {},
     "output_type": "display_data"
    }
   ],
   "source": [
    "image = SimpleImage.blank(size, size)\n",
    "# YOUR CODE GOES HERE\n",
    "def draw_vertical(img,x,y,length): \n",
    "    for col in range(x,y+1):\n",
    "        for row in range(length):\n",
    "            img.set_rgb(col,row,0,0,0)\n",
    "    return img\n",
    "\n",
    "vrimg = draw_vertical(image,5,5,size)\n",
    "vrimg = draw_horizontal(image,5,5,size)\n",
    "vrimg.show(resize_width=200)"
   ]
  },
  {
   "cell_type": "markdown",
   "id": "d37342b0",
   "metadata": {},
   "source": [
    "### Question 6\n",
    "\n",
    "Define a function called `draw_line(img,x,y,length,vertical)` that draws a vertical line if the argument vertical is true and horizontal line if false. Use the functions you create in **Question 4** and **Question 5**."
   ]
  },
  {
   "cell_type": "code",
   "execution_count": 44,
   "id": "ea28764d",
   "metadata": {},
   "outputs": [
    {
     "data": {
      "image/jpeg": "[encoded data removed]",
      "image/png": "[encoded data removed]",
      "text/plain": [
       "<PIL.Image.Image image mode=RGB size=200x200>"
      ]
     },
     "metadata": {},
     "output_type": "display_data"
    }
   ],
   "source": [
    "image = SimpleImage.blank(size, size)\n",
    "def draw_line(img,x,y,length,vertical):\n",
    "    if vertical:\n",
    "        return draw_vertical(img,x,y,length)\n",
    "    return draw_horizontal(img,x,y,length)\n",
    "\n",
    "unknownimage = draw_line(image,2,3,size,True)\n",
    "unknownimage.show(resize_width=200)"
   ]
  },
  {
   "cell_type": "markdown",
   "id": "b81a600e",
   "metadata": {},
   "source": [
    "### Question 7\n",
    "\n",
    "Define a function called `draw_diagonal(img)` that draws a diagonal line from the `pixel(0,0)` to `(size-1,size-1)`. It should look something like this: \n",
    "\n",
    "![](diagonal.png)"
   ]
  },
  {
   "cell_type": "code",
   "execution_count": 48,
   "id": "87db0181",
   "metadata": {},
   "outputs": [
    {
     "data": {
      "image/jpeg": "[encoded data removed]",
      "image/png": "[encoded data removed]",
      "text/plain": [
       "<PIL.Image.Image image mode=RGB size=200x200>"
      ]
     },
     "metadata": {},
     "output_type": "display_data"
    }
   ],
   "source": [
    "image = SimpleImage.blank(size, size)\n",
    "# YOUR CODE GOES HERE\n",
    "for col in range(image.width):\n",
    "    for row in range(image.height):\n",
    "        if (row == 0 or row == image.height - 1) or (col == 0 or col == image.width - 1) or col == row:\n",
    "            image.set_rgb(col,row,0,0,0)\n",
    "image.show(resize_width= 200)"
   ]
  },
  {
   "cell_type": "markdown",
   "id": "2768982f",
   "metadata": {},
   "source": [
    "###  Question 8\n",
    "\n",
    "Define a function that draws a triangle. The triangle could be a right angle triangle, an equilateral one as well. "
   ]
  },
  {
   "cell_type": "code",
   "execution_count": 56,
   "id": "fdaf1be7",
   "metadata": {},
   "outputs": [
    {
     "data": {
      "image/jpeg": "[encoded data removed]",
      "image/png": "[encoded data removed]",
      "text/plain": [
       "<PIL.Image.Image image mode=RGB size=200x200>"
      ]
     },
     "metadata": {},
     "output_type": "display_data"
    }
   ],
   "source": [
    "image = SimpleImage.blank(size, size)\n",
    "# YOUR CODE GOES HERE\n",
    "for col in range(image.width):\n",
    "    for row in range(image.height):\n",
    "        if (row == image.height - 1) or (col == 0 ) or col == row:\n",
    "            image.set_rgb(col,row,0,0,0)\n",
    "image.show(resize_width= 200)"
   ]
  },
  {
   "cell_type": "markdown",
   "id": "1ea559eb",
   "metadata": {},
   "source": [
    "###  Question 9\n",
    "\n",
    "Define a function that draws a checker board pattern. `Pixel(0,0)` should be white, `Pixel(0,1)` should black be and so on. It should look something like this: \n",
    "\n",
    "![](checkers.png)"
   ]
  },
  {
   "cell_type": "code",
   "execution_count": 3,
   "id": "c57ed7a2",
   "metadata": {},
   "outputs": [
    {
     "data": {
      "image/jpeg": "[encoded data removed]",
      "image/png": "[encoded data removed]",
      "text/plain": [
       "<PIL.Image.Image image mode=RGB size=200x200>"
      ]
     },
     "metadata": {},
     "output_type": "display_data"
    }
   ],
   "source": [
    "image = SimpleImage.blank(5,5)\n",
    "# YOUR CODE GOES HERE\n",
    "for row in range(image.width):\n",
    "    if row % 2 == 0:\n",
    "        for col in range(image.height):\n",
    "            if col % 2 != 0:\n",
    "                image.set_rgb(col,row,0,0,0)\n",
    "    else:\n",
    "        for col in range(image.height):\n",
    "            if col % 2 == 0:\n",
    "                image.set_rgb(col,row,0,0,0)\n",
    "# step = 1\n",
    "# for col in range(image.width):\n",
    "#     if col % 2 == 0:\n",
    "#         step == 1\n",
    "#     for row in range(0,image.height,step):\n",
    "#         image.set_rgb(col,row,0,0,0)\n",
    "    \n",
    "    \n",
    "    \n",
    "            \n",
    "\n",
    "        \n",
    "image.show(resize_width=200)"
   ]
  },
  {
   "cell_type": "markdown",
   "id": "a88070b0",
   "metadata": {},
   "source": [
    "###  Question 10\n",
    "\n",
    "\n",
    "Write a function that inverts the color of each square in the board above. i.e `Pixel(0,0)` should now be black, `Pixel(0,1)` white and so on. The function should only take the image as an argument and invert the color of each cell in the given image. It should look like this: \n",
    "\n",
    "![](checkers2.png)"
   ]
  },
  {
   "cell_type": "code",
   "execution_count": 127,
   "id": "cf542dda",
   "metadata": {},
   "outputs": [
    {
     "data": {
      "image/jpeg": "[encoded data removed]",
      "image/png": "[encoded data removed]",
      "text/plain": [
       "<PIL.Image.Image image mode=RGB size=200x200>"
      ]
     },
     "metadata": {},
     "output_type": "display_data"
    }
   ],
   "source": [
    "# DON'T USE 'image = SimpleImage.blank(size, size)' TO REMOVE THE PREVIOUSLY DRAWN IMAGE.\n",
    "\n",
    "for row in range(image.width):\n",
    "    for col in range(image.height):\n",
    "        if image.get_rgb(row,col)[0] == 255:\n",
    "            image.set_rgb(row,col,0,0,0)\n",
    "        else:\n",
    "            image.set_rgb(row,col,255,255,255)\n",
    "            \n",
    "image.show(resize_width=200)\n",
    "\n"
   ]
  },
  {
   "cell_type": "markdown",
   "id": "91a38fa4",
   "metadata": {},
   "source": [
    "###  Question 11\n",
    "\n",
    "Now that you have inverted the colors of the board, let's create a function that changes the black tiles to red tiles. It should look something like this: \n",
    "![](red_checkers.png)"
   ]
  },
  {
   "cell_type": "code",
   "execution_count": 130,
   "id": "d5e32c91",
   "metadata": {},
   "outputs": [
    {
     "data": {
      "image/jpeg": "[encoded data removed]",
      "image/png": "[encoded data removed]",
      "text/plain": [
       "<PIL.Image.Image image mode=RGB size=200x200>"
      ]
     },
     "metadata": {},
     "output_type": "display_data"
    }
   ],
   "source": [
    "# DON'T USE 'image = SimpleImage.blank(size, size)' TO REMOVE THE PREVIOUSLY DRAWN IMAGE.\n",
    "for row in range(image.width):\n",
    "    for col in range(image.height):\n",
    "        if image.get_rgb(row,col)[0] == 0:\n",
    "            image.set_rgb(row,col,255,0,0)\n",
    "        else:\n",
    "            image.set_rgb(row,col,255,255,255)\n",
    "            \n",
    "image.show(resize_width=200)\n"
   ]
  },
  {
   "cell_type": "markdown",
   "id": "5c027893",
   "metadata": {},
   "source": [
    "## Gradients"
   ]
  },
  {
   "cell_type": "markdown",
   "id": "7418220b",
   "metadata": {},
   "source": [
    "### Question 12\n",
    "\n",
    "Make a horizontal gradient from black to white.\n",
    "\n",
    "Note:\n",
    "- The RGB values for black are `[0, 0, 0]`\n",
    "- The RGB values for white are `[255, 255, 255]`\n",
    "- The RGB values for grey are `[k, k, k]` for some `k`. Larger `k` is lighter grey, smaller `k` is darker grey.\n",
    "- as `x` goes from 0 to `size`, `k` should go from 0 to `255`. So compute `k = x*255//size`\n",
    "\n",
    "![](grayscale-horizontal.png)"
   ]
  },
  {
   "cell_type": "code",
   "execution_count": 150,
   "id": "1dda73e8",
   "metadata": {},
   "outputs": [
    {
     "data": {
      "image/jpeg": "[encoded data removed]",
      "image/png": "[encoded data removed]",
      "text/plain": [
       "<PIL.Image.Image image mode=RGB size=200x200>"
      ]
     },
     "metadata": {},
     "output_type": "display_data"
    }
   ],
   "source": [
    "image = SimpleImage.blank(size, size)\n",
    "# YOUR CODE GOES HERE\n",
    "for row in range(image.width):\n",
    "    value = 0\n",
    "    for col in range(1,image.height):\n",
    "        image.set_rgb(col,row,value,value,value)\n",
    "        value = col*255//size\n",
    "        \n",
    "image.show(resize_width=200)"
   ]
  },
  {
   "cell_type": "markdown",
   "id": "6bce7c36",
   "metadata": {},
   "source": [
    "### Question 13 "
   ]
  },
  {
   "cell_type": "markdown",
   "id": "42d15088",
   "metadata": {},
   "source": [
    "Change your code so that the gradient goes from black to red.\n",
    "\n",
    "Note:\n",
    "- red is [255, 0, 0]\n",
    "\n",
    "![](red-horizontal.png)"
   ]
  },
  {
   "cell_type": "code",
   "execution_count": 156,
   "id": "25f62dc5",
   "metadata": {},
   "outputs": [
    {
     "data": {
      "image/jpeg": "[encoded data removed]",
      "image/png": "[encoded data removed]",
      "text/plain": [
       "<PIL.Image.Image image mode=RGB size=200x200>"
      ]
     },
     "metadata": {},
     "output_type": "display_data"
    }
   ],
   "source": [
    "image = SimpleImage.blank(size, size)\n",
    "# YOUR CODE GOES HERE\n",
    "\n",
    "for row in range(image.width):\n",
    "    value = 0\n",
    "    for col in range(1,image.height):\n",
    "        image.set_rgb(col,row,value,0,0)\n",
    "        value = col*255//size\n",
    "        \n",
    "image.show(resize_width=200)\n"
   ]
  },
  {
   "cell_type": "markdown",
   "id": "7caa5cd0",
   "metadata": {},
   "source": [
    "Change your code so that the gradient is vertical.\n",
    "\n",
    "Hint: before, the value `k` depended on `x`. What should it depend on now?\n",
    "\n",
    "![](red-vertical.png)"
   ]
  },
  {
   "cell_type": "code",
   "execution_count": 157,
   "id": "39904457",
   "metadata": {},
   "outputs": [
    {
     "data": {
      "image/jpeg": "[encoded data removed]",
      "image/png": "[encoded data removed]",
      "text/plain": [
       "<PIL.Image.Image image mode=RGB size=200x200>"
      ]
     },
     "metadata": {},
     "output_type": "display_data"
    }
   ],
   "source": [
    "image = SimpleImage.blank(size, size)\n",
    "# YOUR CODE GOES HERE\n",
    "\n",
    "for row in range(image.width):\n",
    "    value = 0\n",
    "    for col in range(1,image.height):\n",
    "        image.set_rgb(row,col,value,0,0)\n",
    "        value = col*255//size\n",
    "        \n",
    "image.show(resize_width=200)"
   ]
  }
 ],
 "metadata": {
  "kernelspec": {
   "display_name": "Python 3 (ipykernel)",
   "language": "python",
   "name": "python3"
  },
  "language_info": {
   "codemirror_mode": {
    "name": "ipython",
    "version": 3
   },
   "file_extension": ".py",
   "mimetype": "text/x-python",
   "name": "python",
   "nbconvert_exporter": "python",
   "pygments_lexer": "ipython3",
   "version": "3.11.4"
  },
  "vscode": {
   "interpreter": {
    "hash": "c8884883e351fde4c474bbf00101d3d0f14ad84b75ec063926751a05fa09a539"
   }
  }
 },
 "nbformat": 4,
 "nbformat_minor": 5
}
