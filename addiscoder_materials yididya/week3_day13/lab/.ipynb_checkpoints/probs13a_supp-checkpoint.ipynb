{
 "cells": [
  {
   "cell_type": "markdown",
   "metadata": {},
   "source": [
    "# 13A Supplementary"
   ]
  },
  {
   "cell_type": "markdown",
   "metadata": {},
   "source": [
    "### `Run the following cell first!!!`"
   ]
  },
  {
   "cell_type": "code",
   "execution_count": 1,
   "metadata": {},
   "outputs": [],
   "source": [
    "# This function is for testing, do not modify\n",
    "def check(actual, expected):\n",
    "    if expected != actual:\n",
    "        print(\n",
    "            f\"Function should return the value {expected}, it is returning the value {actual}\")\n",
    "    else:\n",
    "        print(f\"Congratulations, the test case passed!\")"
   ]
  },
  {
   "cell_type": "markdown",
   "metadata": {},
   "source": [
    "## 1. Sort by Heights (Medium)\n",
    "\n",
    "You are given an array of strings names, and an array of numberes heights. Both arrays are of length n.\n",
    "\n",
    "For each index i, names[i] and heights[i] denote the name and height of the ith person.\n",
    "\n",
    "Return names sorted in `descending` order by the people's heights.\n",
    "\n",
    "`If there is a tie in heights`, then sort the names alphabetically in `ascending` order.\n",
    "\n",
    "Example 1:\n",
    "\n",
    "Input: `names = [\"Mary\",\"John\",\"Emma\"]`, `heights = [180,165,170]`\n",
    "\n",
    "Output: `[\"Mary\",\"Emma\",\"John\"]`\n",
    "\n",
    "Explanation: Mary is the tallest, followed by Emma and John.\n",
    "\n",
    "Example 2:\n",
    "\n",
    "Input: `names = [\"Tony\", \"Noam\", \"Abraham\", \"Georg\"]`, `heights = [200,160, 160, 170]`\n",
    "\n",
    "Output: `[\"Tony\",  \"Georg\", \"Abraham\", \"Noam\"]`\n",
    "\n",
    "Explanation: Abraham and Noam have the same height, but \"Noam\"is alphabetically larger than \"Abraham\", so you need to put \"Noam\" after \"Abraham\".\n"
   ]
  },
  {
   "cell_type": "code",
   "execution_count": 17,
   "metadata": {},
   "outputs": [],
   "source": [
    "def sortHeights(names, heights):\n",
    "    swapped = False\n",
    "    for x in range(len(names)):\n",
    "        for y in range(len(heights)-1-x):\n",
    "            if heights[y] < heights[y+1]:\n",
    "                heights[y], heights[y+1] = heights[y+1], heights[y]\n",
    "                names[y], names[y+1] = names[y+1], names[y]\n",
    "                swapped = True\n",
    "            elif heights[y] == heights[y+1] and names[y] > names[y+1]:\n",
    "                heights[y], heights[y+1] = heights[y+1], heights[y]\n",
    "                names[y], names[y+1] = names[y+1], names[y]\n",
    "                swapped = True\n",
    "        if not swapped:\n",
    "            return names\n",
    "    return names    "
   ]
  },
  {
   "cell_type": "code",
   "execution_count": 18,
   "metadata": {},
   "outputs": [
    {
     "name": "stdout",
     "output_type": "stream",
     "text": [
      "Congratulations, the test case passed!\n",
      "Congratulations, the test case passed!\n"
     ]
    }
   ],
   "source": [
    "check(sortHeights([\"Mary\",\"John\",\"Emma\"],[180,165,170]),[\"Mary\",\"Emma\",\"John\"])\n",
    "check(sortHeights([\"Tony\", \"Noam\", \"Abraham\", \"Georg\"],[200,160, 160, 170]),[\"Tony\",  \"Georg\", \"Abraham\", \"Noam\"])"
   ]
  },
  {
   "cell_type": "markdown",
   "metadata": {},
   "source": [
    "## 2. Iterative Merge Sort (Challenge)"
   ]
  },
  {
   "cell_type": "markdown",
   "metadata": {},
   "source": [
    "Now you know how use the recursive approach to implement merge sort algorithm. Let's try to implement it iteratively. \n",
    "\n",
    "Hint: During the algorithm, we mantain a nested list `sublists` containing sorted lists. In each pass of `merging`, we pop the first two sub-lists, merge them together and add the merged list to the end of `sublists`. In the end, once `sublists` contains only a single list, we extract and return the inner list."
   ]
  },
  {
   "cell_type": "code",
   "execution_count": 7,
   "metadata": {},
   "outputs": [
    {
     "data": {
      "text/plain": [
       "[0, 2, 2, 4, 5, 7, 7, 10, 11, 11, 13, 15, 19]"
      ]
     },
     "execution_count": 7,
     "metadata": {},
     "output_type": "execute_result"
    }
   ],
   "source": [
    "def mergeSortIter(lst):\n",
    "    tot = []\n",
    "    lst = [[i] for i in lst]\n",
    "    while len(lst) > 1:\n",
    "        ls1 = lst.pop(0)\n",
    "        ls2 = lst.pop(0)\n",
    "        lst += merg(ls1, ls2)\n",
    "    return lst[0]\n",
    "\n",
    "\n",
    "def merg(l1, l2):\n",
    "    j=i=0\n",
    "    lst = []\n",
    "    while j < len(l1) and i < len(l2):\n",
    "        if l1[j] <= l2[i]:\n",
    "            lst += [l1[j]]\n",
    "            j+=1\n",
    "        else:\n",
    "            lst += [l2[i]]\n",
    "            i+=1\n",
    "    if i == len(l2):\n",
    "        lst += l1[j:]\n",
    "    if j == len(l1):\n",
    "        lst += l2[i:]\n",
    "    return [lst]\n",
    "# merg([2, 4, 7, 10],[2, 5, 7, 13, 15])\n",
    "mergeSortIter([2, 4, 7, 10, 11, 19, 13, 15, 2, 5, 7, 0, 11])"
   ]
  },
  {
   "cell_type": "code",
   "execution_count": 8,
   "metadata": {},
   "outputs": [
    {
     "name": "stdout",
     "output_type": "stream",
     "text": [
      "[0, 1, 2, 3, 4, 5, 6, 7, 8, 9, 10, 11, 12, 13, 14, 15, 16, 17, 18, 19, 20, 21, 22, 23, 24, 25, 26, 27, 28, 29, 30, 31, 32, 33, 34, 35, 36, 37, 38, 39, 40, 41, 42, 43, 44, 45, 46, 47, 48, 49] L\n",
      "[0, 1, 2, 3, 4, 5, 6, 7, 8, 9, 10, 11, 12, 13, 14, 15, 16, 17, 18, 19, 20, 21, 22, 23, 24, 25, 26, 27, 28, 29, 30, 31, 32, 33, 34, 35, 36, 37, 38, 39, 40, 41, 42, 43, 44, 45, 46, 47, 48, 49] lst\n",
      "[47, 34, 31, 32, 3, 5, 8, 33, 39, 10, 49, 48, 15, 46, 38, 17, 26, 23, 11, 37, 20, 22, 14, 42, 25, 12, 40, 19, 16, 18, 44, 7, 0, 35, 21, 36, 27, 6, 24, 1, 9, 29, 41, 4, 2, 43, 45, 30, 13, 28] shuffled\n",
      "Congratulations, the test case passed!\n"
     ]
    }
   ],
   "source": [
    "import random\n",
    "L = list(range(50))\n",
    "print(L, 'L')\n",
    "P = list(L)\n",
    "print(P, 'lst')\n",
    "\n",
    "random.shuffle(L)\n",
    "print(L, 'shuffled')\n",
    "\n",
    "check(mergeSortIter(L), P)"
   ]
  },
  {
   "cell_type": "markdown",
   "metadata": {},
   "source": [
    "## 3. Majority Elements (Hard)"
   ]
  },
  {
   "cell_type": "markdown",
   "metadata": {},
   "source": [
    "Given an array nums of size n, return the majority element.\n",
    "\n",
    "The majority element is the element that appears more than ⌊n / 2⌋ times. You may assume that the majority element always exists in the array.\n",
    "\n",
    "Example 1:\n",
    "\n",
    "Input: `nums = [3,2,3]`\n",
    "\n",
    "Output: 3\n",
    "\n",
    "Example 2:\n",
    "\n",
    "Input: `nums = [2,2,1,1,1,2,2]`\n",
    "\n",
    "Output: 2"
   ]
  },
  {
   "cell_type": "markdown",
   "metadata": {},
   "source": [
    "### 3.1\n",
    "Use a dictionary to solve it. You solution should have time complexity O(n), where n is the length of the input list `nums`."
   ]
  },
  {
   "cell_type": "code",
   "execution_count": 18,
   "metadata": {},
   "outputs": [],
   "source": [
    "def majority(nums):\n",
    "    dic = {}\n",
    "    for num in nums:\n",
    "        if num in dic:\n",
    "            dic[num] += 1\n",
    "        else:\n",
    "            dic[num] = 1\n",
    "    temp = [0,0]\n",
    "    for ele in dic:\n",
    "        if dic[ele] > len(nums)/2 and dic[ele] > temp[1]:\n",
    "            temp = [ele, dic[ele]]\n",
    "    return temp[0]\n"
   ]
  },
  {
   "cell_type": "code",
   "execution_count": 19,
   "metadata": {},
   "outputs": [
    {
     "name": "stdout",
     "output_type": "stream",
     "text": [
      "Congratulations, the test case passed!\n",
      "Congratulations, the test case passed!\n",
      "Congratulations, the test case passed!\n"
     ]
    }
   ],
   "source": [
    "check(majority([3, 2, 3]), 3)\n",
    "check(majority([2, 2, 1, 1, 1, 2, 2]), 2)\n",
    "import random\n",
    "L = [2] * 10 + [4] * 14 + [3] * 6 + [1] * 31\n",
    "random.shuffle(L)\n",
    "check(majority(L), 1)"
   ]
  },
  {
   "cell_type": "markdown",
   "metadata": {},
   "source": [
    "### 3.2\n",
    "Use recursion to solve it. Do not use a dictionary.\n",
    "Hint: Divide the list into two. How can you find the majority given the majority of each sublist?"
   ]
  },
  {
   "cell_type": "code",
   "execution_count": null,
   "metadata": {},
   "outputs": [],
   "source": [
    "def rec_majority(nums):\n",
    "    \n"
   ]
  },
  {
   "cell_type": "code",
   "execution_count": null,
   "metadata": {},
   "outputs": [],
   "source": [
    "check(rec_majority([3, 2, 3]), 3)\n",
    "check(rec_majority([2, 2, 1, 1, 1, 2, 2]), 2)\n",
    "import random\n",
    "L = [2] * 10 + [4] * 14 + [3] * 6 + [1] * 31\n",
    "random.shuffle(L)\n",
    "check(rec_majority(L), 1)"
   ]
  },
  {
   "cell_type": "markdown",
   "metadata": {},
   "source": [
    "## 4. Intersections of Two  (Medium)\n",
    "\n",
    "Given two integer arrays nums1 and nums2, return an array of their intersection. Each element in the result must appear as many times as it shows in both arrays and you may return the result in any order.\n",
    "\n",
    "Example 1:\n",
    "\n",
    "Input: nums1 = `[1,2,2,1]`, nums2 = `[2,2]`\n",
    "\n",
    "Output: `[2,2]`\n",
    "\n",
    "Example 2:\n",
    "\n",
    "Input: nums1 = `[4,9,5]`, nums2 = `[9,4,9,8,4]`\n",
    "\n",
    "Output: `[4,9]`\n",
    "\n",
    "Explanation: `[9,4]` is also accepted."
   ]
  },
  {
   "cell_type": "markdown",
   "metadata": {},
   "source": [
    "`You are not allowed to use a dictionary.`"
   ]
  },
  {
   "cell_type": "code",
   "execution_count": 29,
   "metadata": {},
   "outputs": [
    {
     "data": {
      "text/plain": [
       "[2, 2]"
      ]
     },
     "execution_count": 29,
     "metadata": {},
     "output_type": "execute_result"
    }
   ],
   "source": [
    "# def intersect(lst1, lst2):\n",
    "#     if not lst1 or not lst2:\n",
    "#         return []\n",
    "#     elif lst1[0] in lst2:\n",
    "#         lst2.pop(lst2.index(lst1[0]))\n",
    "#         return [lst1[0]] + intersect(lst1[1:], lst2)\n",
    "#     else:\n",
    "#         return intersect(lst1[1:], lst2)\n",
    "def intersect(lst1, lst2):\n",
    "    lst = []\n",
    "    for x in lst1:\n",
    "        if x in lst2:\n",
    "            lst += [x]\n",
    "            lst2.pop(lst2.index(x))\n",
    "    return lst\n",
    "intersect([1, 2, 2, 1], [2, 2])"
   ]
  },
  {
   "cell_type": "code",
   "execution_count": 28,
   "metadata": {},
   "outputs": [
    {
     "name": "stdout",
     "output_type": "stream",
     "text": [
      "Congratulations, the test case passed!\n",
      "Congratulations, the test case passed!\n",
      "Congratulations, the test case passed!\n"
     ]
    }
   ],
   "source": [
    "check(sorted(intersect([1, 2, 2, 1], [2, 2])), [2, 2])\n",
    "check(sorted(intersect([4, 9, 5], [9, 4, 9, 8, 4])), [4, 9])\n",
    "import random\n",
    "L = [1, 2, 3, 4, 5] + list(range(6, 20))\n",
    "P = [1, 2, 3, 4, 5] + list(range(21, 30))\n",
    "random.shuffle(L)\n",
    "random.shuffle(P)\n",
    "check(sorted(intersect(L, P)), [1, 2, 3, 4, 5])"
   ]
  },
  {
   "cell_type": "code",
   "execution_count": null,
   "metadata": {},
   "outputs": [],
   "source": []
  }
 ],
 "metadata": {
  "kernelspec": {
   "display_name": "Python 3 (ipykernel)",
   "language": "python",
   "name": "python3"
  },
  "language_info": {
   "codemirror_mode": {
    "name": "ipython",
    "version": 3
   },
   "file_extension": ".py",
   "mimetype": "text/x-python",
   "name": "python",
   "nbconvert_exporter": "python",
   "pygments_lexer": "ipython3",
   "version": "3.11.4"
  }
 },
 "nbformat": 4,
 "nbformat_minor": 4
}
