{
 "cells": [
  {
   "cell_type": "markdown",
   "metadata": {},
   "source": [
    "# Memoization applied to graphs: shortest paths"
   ]
  },
  {
   "cell_type": "markdown",
   "metadata": {
    "slideshow": {
     "slide_type": "slide"
    }
   },
   "source": [
    "Suppose we have a graph representing an airport network, a road network, etc. For example consider an airport network: vertices are airports, and edges represent direct flights from one airport to the next. Each edge now has an associated length corresponding to the length of the flight. Now how can we find the shortest path from one vertex to the others in such a graph? This can be done using recursion and memoization. The non-recursive, iterative implementation of this approach (that is, loops instead of recursion) is called the <i>Bellman-Ford</i> algorithm."
   ]
  },
  {
   "cell_type": "markdown",
   "metadata": {},
   "source": [
    "The basic idea is to create a recursive function ```shortestPathHelper```($x$, $y$, $t$) which finds the shortest path from $x$ to $y$ which takes at most $t$ steps. One option is that it is the same as the shortest path taking at most $t − 1$ steps, and the other is that we should travel to some vertex $z$ first in $t − 1$ steps then take the edge $(z, y)$ in the $t^{th}$ step. We recurse on both options and take the better of the two, and we use memoization to make the function faster. Note that if it’s possible to get from $x$ to $y$ at all, then it is possible to do so in $n − 1$ steps, where the graph has $n$ vertices, so the length of the shortest path from $x$ to $y$ is ```shortestPathHelper```($x, y, n-1$)."
   ]
  },
  {
   "cell_type": "code",
   "execution_count": 1,
   "metadata": {},
   "outputs": [],
   "source": [
    "# returns length of shortest path from x to y using at most t steps\n",
    "# B is an inverse adjacency list. That is, B[y] is a list [ [x0,w0], ..., [x1, w1] ]\n",
    "# such that for each i there is an edge (xi, y) with weight wi\n",
    "def shortestPathHelper(B, x, y, t, mem, seen):\n",
    "    if t == 0:\n",
    "        if x == y:\n",
    "            return 0\n",
    "        else:\n",
    "            return float('infinity')\n",
    "    elif seen[y][t]:\n",
    "        return mem[y][t]\n",
    "    \n",
    "    seen[y][t] = True\n",
    "        \n",
    "    # first option: do it in t-1 steps\n",
    "    ans = shortestPathHelper(B, x, y, t-1, mem, seen)\n",
    "\n",
    "    # second option: go to a vertex z that has an edge to y first, in\n",
    "    # at most t-1 steps, then take the edge (z, y)\n",
    "    for p in B[y]:\n",
    "        z = p[0]\n",
    "        weight = p[1]\n",
    "        val = shortestPathHelper(B, x, z, t-1, mem, seen)\n",
    "        ans = min(ans, weight + val)\n",
    "\n",
    "    mem[y][t] = ans\n",
    "    return ans\n",
    "\n",
    "# A is the adjacency list of the graph\n",
    "# A[u][i][0] is the ith neighbor of vertex u, and A[u][i][1] is the\n",
    "# weight of the edge (u, A[u][i][0])\n",
    "#\n",
    "# returns the length of the shortest path from x to y\n",
    "def shortestPath(A, x, y):\n",
    "    # mem[i][j] should be float(‘infinity’) if we can’t get from x to i in at\n",
    "    # most j steps. Otherwise, it’s the length of the shortest path from x to\n",
    "    # i taking at most j steps.\n",
    "    mem = [ [0]*(len(A)+1) for i in range(len(A)) ]\n",
    "    seen = [ [False]*(len(A)+1) for i in range(len(A)) ]\n",
    "    \n",
    "    # B is an inverse adjacency list. B[i] is a list of lists.\n",
    "    # Each element of B[i] is a list [x, w] representing that (x,i)\n",
    "    # is an edge in the graph, and w is its length\n",
    "    B = [ [] for i in range(len(A)) ]\n",
    "    for i in range(len(A)):\n",
    "        for p in A[i]:\n",
    "            # p is the pair [j, length(i,j)]\n",
    "            B[p[0]] += [[i, p[1]]]\n",
    "    \n",
    "    return shortestPathHelper(B, x, y, len(A) - 1, mem, seen)"
   ]
  },
  {
   "cell_type": "markdown",
   "metadata": {},
   "source": [
    "# Example\n",
    "\n",
    "![title](bellmanford.jpg)"
   ]
  },
  {
   "cell_type": "code",
   "execution_count": 2,
   "metadata": {},
   "outputs": [],
   "source": [
    "# as an adjacency list with weights\n",
    "A = [ \n",
    "        [[2, 4]], # (0,2) with weight 4\n",
    "        [[3, 2]], # (1,3) with weight 2\n",
    "        [[1, 1], [3, 4]], # (2,1) with weight 1, (2,3) with weight 4\n",
    "        [[4, 7]], # (3,4) with weight 7\n",
    "        [] # vertex 4 has no outgoing edges\n",
    "    ]"
   ]
  },
  {
   "cell_type": "code",
   "execution_count": 3,
   "metadata": {},
   "outputs": [
    {
     "data": {
      "text/plain": [
       "4"
      ]
     },
     "execution_count": 3,
     "metadata": {},
     "output_type": "execute_result"
    }
   ],
   "source": [
    "shortestPath(A, 0, 2)"
   ]
  },
  {
   "cell_type": "code",
   "execution_count": 4,
   "metadata": {},
   "outputs": [
    {
     "data": {
      "text/plain": [
       "7"
      ]
     },
     "execution_count": 4,
     "metadata": {},
     "output_type": "execute_result"
    }
   ],
   "source": [
    "# there are two routes\n",
    "# 0->2->3 and 0->2->1->3\n",
    "# 0->2->3 has total length 4+4 = 8\n",
    "# 0->2->1->3 has total length 4+1+2 = 7\n",
    "shortestPath(A, 0, 3)"
   ]
  },
  {
   "cell_type": "code",
   "execution_count": 5,
   "metadata": {},
   "outputs": [
    {
     "data": {
      "text/plain": [
       "inf"
      ]
     },
     "execution_count": 5,
     "metadata": {},
     "output_type": "execute_result"
    }
   ],
   "source": [
    "shortestPath(A, 3, 0)"
   ]
  },
  {
   "cell_type": "markdown",
   "metadata": {
    "slideshow": {
     "slide_type": "slide"
    }
   },
   "source": [
    "# Finding the actual path\n",
    "\n",
    "Typically we don't just want to know the length of the shortest path. We want to know what the shortest path is itself! What route should we take? Just as we remembered the choices we made for going to parties yesterday, we can similarly here also remember the choices we made. Below is a modified version of the above code which remembers our choices."
   ]
  },
  {
   "cell_type": "code",
   "execution_count": 6,
   "metadata": {
    "slideshow": {
     "slide_type": "slide"
    }
   },
   "outputs": [],
   "source": [
    "# returns length of shortest path from x to y using at most t steps\n",
    "# B is an inverse adjacency list. That is, B[y] is a list [ [x0,w0], ..., [x1, w1] ]\n",
    "# such that for each i there is an edge (xi, y) with weight wi\n",
    "def shortestPathHelper(B, x, y, t, mem, seen, choices):\n",
    "    if t == 0:\n",
    "        if x == y:\n",
    "            return 0,choices\n",
    "        else:\n",
    "            return float('infinity'),choices\n",
    "    elif seen[y][t]:\n",
    "        return mem[y][t],choices\n",
    "    \n",
    "    seen[y][t] = True\n",
    "        \n",
    "    # first option: do it in t-1 steps\n",
    "    choices[y][t] = -1 # we use -1 to mean we actually just used t-1 steps\n",
    "    ans,choices = shortestPathHelper(B, x, y, t-1, mem, seen, choices)\n",
    "\n",
    "    # second option: go to a vertex z that has an edge to y first, in\n",
    "    # at most t-1 steps, then take the edge (z, y)\n",
    "    for p in B[y]:\n",
    "        z = p[0]\n",
    "        weight = p[1]\n",
    "        val,choices = shortestPathHelper(B, x, z, t-1, mem, seen, choices)\n",
    "        if weight + val < ans:\n",
    "            # it is cheaper to go through z\n",
    "            choices[y][t] = z\n",
    "            ans = weight + val\n",
    "\n",
    "    mem[y][t] = ans\n",
    "    return ans,choices\n",
    "\n",
    "# A is the adjacency list of the graph\n",
    "# A[u][i][0] is the ith neighbor of vertex u, and A[u][i][1] is the\n",
    "# weight of the edge (u, A[u][i][0])\n",
    "#\n",
    "# returns the length of the shortest path from x to y\n",
    "def shortestPath(A, x, y):\n",
    "    # mem[i][j] should be float(‘infinity’) if we can’t get from x to i in at\n",
    "    # most j steps. Otherwise, it’s the length of the shortest path from x to\n",
    "    # i taking at most j steps.\n",
    "    mem = [ [0]*(len(A)+1) for i in range(len(A)) ]\n",
    "    seen = [ [False]*(len(A)+1) for i in range(len(A)) ]\n",
    "    choices = [ [0]*(len(A)+1) for i in range(len(A)) ]\n",
    "    \n",
    "    # B is an inverse adjacency list. B[i] is a list of lists.\n",
    "    # Each element of B[i] is a list [x, w] representing that (x,i)\n",
    "    # is an edge in the graph, and w is its length\n",
    "    B = [ [] for i in range(len(A)) ]\n",
    "    for i in range(len(A)):\n",
    "        for p in A[i]:\n",
    "            # p is the pair [j, length(i,j)]\n",
    "            B[p[0]] += [[i, p[1]]]\n",
    "    \n",
    "    return shortestPathHelper(B, x, y, len(A) - 1, mem, seen, choices)\n",
    "\n",
    "# if no path, return [[], float('infinity')]\n",
    "# else return a list of size 2: first element is an optimal path, starting at x and ending at y\n",
    "# and the second element is the weight of the path\n",
    "def findPath(A, x, y):\n",
    "    length,choices = shortestPath(A, x, y)\n",
    "    if length == float('infinity'):\n",
    "        return [[], length]\n",
    "    path = [y]\n",
    "    t = len(A) - 1\n",
    "    while t > 0:\n",
    "        if choices[y][t] != -1:\n",
    "            path = [choices[y][t]] + path\n",
    "            y = choices[y][t]\n",
    "        t -= 1\n",
    "    return [path, length]"
   ]
  },
  {
   "cell_type": "markdown",
   "metadata": {},
   "source": [
    "![title](bellmanford.jpg)"
   ]
  },
  {
   "cell_type": "code",
   "execution_count": 7,
   "metadata": {},
   "outputs": [
    {
     "data": {
      "text/plain": [
       "[[0, 2, 1, 3], 7]"
      ]
     },
     "execution_count": 7,
     "metadata": {},
     "output_type": "execute_result"
    }
   ],
   "source": [
    "findPath(A, 0, 3)"
   ]
  },
  {
   "cell_type": "markdown",
   "metadata": {},
   "source": [
    "What's the runtime of Bellman-Ford? Well, in ```shortestPathHelper``` fix a specific $t$. For that $t$, for each value of $y$, we do about $1 + indeg(y)$ steps, where indeg($y$) is the \"in-degree\" of $y$, i.e. the number of edges pointing into $y$. Thus the total work we do for a fixed $t$ is\n",
    "$$\n",
    "\\sum_{y=1}^n 1 + indeg(y) ,\n",
    "$$\n",
    "which is just $n + m$, the sum of the number of vertices and edges."
   ]
  },
  {
   "cell_type": "markdown",
   "metadata": {},
   "source": [
    "This was for fixed $t$, and there are $n$ possible values of $t$ (from $0$ to $n-1$), so the total time is $O(n(n+m))$. In a graph in which each vertex has at least one edge touching it, $m \\ge n/2$, in which case we can simplify the description of the running time to $O(mn)$."
   ]
  },
  {
   "cell_type": "markdown",
   "metadata": {},
   "source": [
    "### Another shorest paths problem: All Pairs Shortest Paths\n",
    "\n",
    "Bellman-Ford takes $O(mn)$ time, which could be as bad as $O(n^3)$ if $m \\approx n^2$. So if we want the length of the shortest path between $u,v$ for all vertices $u$ and $v$, we would run it $n$ times, one for each starting vertex, for a total time of $O(n^4)$. We can do better though, via an algorithm called Floyd-Warshall."
   ]
  },
  {
   "cell_type": "markdown",
   "metadata": {},
   "source": [
    "### Floyd-Warshall\n",
    "The main idea is to define a recursive function ```fw(u, v, k)``` which is the length of the shortest path from vertex $u$ to vertex $v$ where the intermediate vertices are only allowed to be in the set $\\{1,\\ldots,k\\}$. Then the length of the shortest path from $u$ to $v$ is actually ```fw(u, v, n-1)```. We can implement fw using recursion."
   ]
  },
  {
   "cell_type": "code",
   "execution_count": 10,
   "metadata": {},
   "outputs": [],
   "source": [
    "# we assume w[][] is a list of lists, where w[i][j] is the weight of the edge (i, j)\n",
    "# if the edge doesn't exist, then it has weight INFINITY\n",
    "def fw(w, u, v, k):\n",
    "    if k == 0:\n",
    "        return w[u][v]\n",
    "    else:\n",
    "        # we can either not use vertex k or use it\n",
    "        # if we use it, then we go u....k....v, where the segments between u and k, and k and v only\n",
    "        # need to use vertices in {1,...,k-1}\n",
    "        return min(fw(w, u, v, k-1), fw(w, u, k, k-1) + fw(w, k, v, k-1))"
   ]
  },
  {
   "cell_type": "code",
   "execution_count": 13,
   "metadata": {},
   "outputs": [],
   "source": [
    "def floydWarshall(A):\n",
    "    n = len(A)\n",
    "    w = [[float('inf')]*n for _ in range(n)]\n",
    "    for i in range(n):\n",
    "        edges = A[i]\n",
    "        for e in edges:\n",
    "            w[i][e[0]] = e[1]\n",
    "    lengths = [[float('inf')]*n for _ in range(n)]\n",
    "    for u in range(n):\n",
    "        for v in range(n):\n",
    "            lengths[u][v] = fw(w, u, v, n-1)\n",
    "    return lengths"
   ]
  },
  {
   "cell_type": "code",
   "execution_count": 14,
   "metadata": {},
   "outputs": [
    {
     "data": {
      "text/plain": [
       "[[inf, 5, 4, 7, 14],\n",
       " [inf, inf, inf, 2, 9],\n",
       " [inf, 1, inf, 3, 10],\n",
       " [inf, inf, inf, inf, 7],\n",
       " [inf, inf, inf, inf, inf]]"
      ]
     },
     "execution_count": 14,
     "metadata": {},
     "output_type": "execute_result"
    }
   ],
   "source": [
    "floydWarshall(A)"
   ]
  },
  {
   "cell_type": "markdown",
   "metadata": {},
   "source": [
    "As usual, we can speed this recursive algorithm up using memoization"
   ]
  },
  {
   "cell_type": "code",
   "execution_count": 20,
   "metadata": {},
   "outputs": [],
   "source": [
    "def fwMemo(w, u, v, k, mem):\n",
    "    if k == 0:\n",
    "        return w[u][v]\n",
    "    elif mem[u][v][k] != -1:\n",
    "        return mem[u][v][k]\n",
    "    else:\n",
    "        mem[u][v][k] = min(fw(w, u, v, k-1), fw(w, u, k, k-1) + fw(w, k, v, k-1))\n",
    "        return mem[u][v][k]\n",
    "\n",
    "def floydWarshallFast(A):\n",
    "    n = len(A)\n",
    "    w = [[float('inf')]*n for _ in range(n)]\n",
    "    for i in range(n):\n",
    "        edges = A[i]\n",
    "        for e in edges:\n",
    "            w[i][e[0]] = e[1]\n",
    "            \n",
    "    # create a 3d array for memory (indexed by u,v,k)\n",
    "    mem = []\n",
    "    for _ in range(n):\n",
    "        mem += [[[-1]*n for _ in range(n)]]\n",
    "    \n",
    "    \n",
    "    lengths = [[float('inf')]*n for _ in range(n)]\n",
    "    for u in range(n):\n",
    "        for v in range(n):\n",
    "            lengths[u][v] = fwMemo(w, u, v, n-1, mem)\n",
    "    return lengths"
   ]
  },
  {
   "cell_type": "code",
   "execution_count": 21,
   "metadata": {},
   "outputs": [
    {
     "data": {
      "text/plain": [
       "[[inf, 5, 4, 7, 14],\n",
       " [inf, inf, inf, 2, 9],\n",
       " [inf, 1, inf, 3, 10],\n",
       " [inf, inf, inf, inf, 7],\n",
       " [inf, inf, inf, inf, inf]]"
      ]
     },
     "execution_count": 21,
     "metadata": {},
     "output_type": "execute_result"
    }
   ],
   "source": [
    "floydWarshallFast(A)"
   ]
  },
  {
   "cell_type": "markdown",
   "metadata": {},
   "source": [
    "### Runtime analysis\n",
    "There are $n$ possibilities for each of $u$, $v$, and $k$, and for each one we only do $O(1)$ steps, so the total time is $O(n^3)$."
   ]
  }
 ],
 "metadata": {
  "anaconda-cloud": {},
  "celltoolbar": "Slideshow",
  "kernelspec": {
   "display_name": "Python 3",
   "language": "python",
   "name": "python3"
  },
  "language_info": {
   "codemirror_mode": {
    "name": "ipython",
    "version": 3
   },
   "file_extension": ".py",
   "mimetype": "text/x-python",
   "name": "python",
   "nbconvert_exporter": "python",
   "pygments_lexer": "ipython3",
   "version": "3.6.6"
  },
  "varInspector": {
   "cols": {
    "lenName": 16,
    "lenType": 16,
    "lenVar": 40
   },
   "kernels_config": {
    "python": {
     "delete_cmd_postfix": "",
     "delete_cmd_prefix": "del ",
     "library": "var_list.py",
     "varRefreshCmd": "print(var_dic_list())"
    },
    "r": {
     "delete_cmd_postfix": ") ",
     "delete_cmd_prefix": "rm(",
     "library": "var_list.r",
     "varRefreshCmd": "cat(var_dic_list()) "
    }
   },
   "types_to_exclude": [
    "module",
    "function",
    "builtin_function_or_method",
    "instance",
    "_Feature"
   ],
   "window_display": false
  }
 },
 "nbformat": 4,
 "nbformat_minor": 1
}
