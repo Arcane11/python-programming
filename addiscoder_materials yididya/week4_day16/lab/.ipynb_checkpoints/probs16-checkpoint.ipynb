{
 "cells": [
  {
   "cell_type": "markdown",
   "metadata": {
    "colab_type": "text",
    "id": "suZMjIwNga0E"
   },
   "source": [
    "# Week 4 Day 1, Core: Memoization"
   ]
  },
  {
   "cell_type": "code",
   "execution_count": 1,
   "metadata": {},
   "outputs": [],
   "source": [
    "def check_test(actual, expected):\n",
    "    if expected != actual:\n",
    "        print(f\"Function should return the value {expected}, it is returning the value {actual}\")\n",
    "    else:\n",
    "        print(f\"Congratulations, the test case passed!\")"
   ]
  },
  {
   "cell_type": "markdown",
   "metadata": {},
   "source": [
    "## 0. Climbing Stairs"
   ]
  },
  {
   "cell_type": "markdown",
   "metadata": {},
   "source": [
    "You are climbing a staircase. It takes `n` steps to reach the top. Each time you can either climb `1` or `2` steps. In how many distinct ways can you climb to the top?"
   ]
  },
  {
   "cell_type": "markdown",
   "metadata": {},
   "source": [
    "### 0.1"
   ]
  },
  {
   "cell_type": "markdown",
   "metadata": {},
   "source": [
    "Write a recursive function `climbing_stairs(n)` that takes an integer `n` and returns the number of distinct ways  you can climb to the top.\n",
    "\n",
    "<details>\n",
    "    <summary><b>Give me a Hint (click)</b></summary>\n",
    "    If you know in how many ways you can climb <tt>n-2</tt> steps, and in how many ways you can climb <tt>n-1</tt> steps, how does that help you in computing in how many ways you can climb <tt>n</tt> steps?\n",
    "</details>"
   ]
  },
  {
   "cell_type": "code",
   "execution_count": 2,
   "metadata": {},
   "outputs": [],
   "source": [
    "def climbing_stairs(n):\n",
    "    # print(\"Calculating value for \" + str(n))\n",
    "    if n <= 2:\n",
    "        return n\n",
    "    else:\n",
    "        return climbing_stairs(n-1) + climbing_stairs(n-2)\n"
   ]
  },
  {
   "cell_type": "code",
   "execution_count": 3,
   "metadata": {},
   "outputs": [
    {
     "name": "stdout",
     "output_type": "stream",
     "text": [
      "89\n",
      "14930352\n"
     ]
    }
   ],
   "source": [
    "# Test your code\n",
    "print(climbing_stairs(10))  # This should give 89\n",
    "print(climbing_stairs(35))  # This should give 14930352"
   ]
  },
  {
   "cell_type": "markdown",
   "metadata": {},
   "source": [
    "You might notice that the computation of `climbing_stairs(35)` takes a few seconds."
   ]
  },
  {
   "cell_type": "markdown",
   "metadata": {
    "colab_type": "text",
    "id": "v68sfB2tga0S"
   },
   "source": [
    "### 0.2 \n",
    "Add `print(\"Calculating value for \" + str(n))` at the beginning of your function (make it the first line), run it, and run the cell below :"
   ]
  },
  {
   "cell_type": "code",
   "execution_count": 3,
   "metadata": {
    "colab": {},
    "colab_type": "code",
    "id": "yAdHACrHga0U"
   },
   "outputs": [
    {
     "data": {
      "text/plain": [
       "89"
      ]
     },
     "execution_count": 3,
     "metadata": {},
     "output_type": "execute_result"
    }
   ],
   "source": [
    "climbing_stairs(10)"
   ]
  },
  {
   "cell_type": "markdown",
   "metadata": {
    "colab_type": "text",
    "id": "idYBMNpbga0a"
   },
   "source": [
    "How many times does it print `3` ?"
   ]
  },
  {
   "cell_type": "markdown",
   "metadata": {
    "colab": {},
    "colab_type": "code",
    "id": "HBqIFVhtga0a"
   },
   "source": [
    "Answer here:"
   ]
  },
  {
   "cell_type": "markdown",
   "metadata": {},
   "source": [
    "What did you learn from the number?"
   ]
  },
  {
   "cell_type": "markdown",
   "metadata": {},
   "source": [
    "Answer here: "
   ]
  },
  {
   "cell_type": "markdown",
   "metadata": {
    "colab_type": "text",
    "id": "-YlcjAqCga0f"
   },
   "source": [
    "## Check your answer here"
   ]
  },
  {
   "cell_type": "code",
   "execution_count": 9,
   "metadata": {
    "colab": {
     "base_uri": "https://localhost:8080/",
     "height": 237
    },
    "colab_type": "code",
    "id": "jsCXkbuZga0h",
    "outputId": "9dfdfb57-6907-4408-d320-a00832fb8c46"
   },
   "outputs": [
    {
     "name": "stdout",
     "output_type": "stream",
     "text": [
      "Congratulations, the test case passed!\n",
      "Congratulations, the test case passed!\n",
      "Congratulations, the test case passed!\n"
     ]
    }
   ],
   "source": [
    "def check_test(actual, expected):\n",
    "    if expected != actual:\n",
    "        print(f\"Function should return the value {expected}, it is returning the value {actual}\")\n",
    "    else:\n",
    "        print(f\"Congratulations, the test case passed!\")\n",
    "        \n",
    "check_test(climbing_stairs(2), 2)\n",
    "check_test(climbing_stairs(5), 8)\n",
    "check_test(climbing_stairs(6), 13)"
   ]
  },
  {
   "cell_type": "markdown",
   "metadata": {
    "colab_type": "text",
    "id": "cA6Ceq1fga0n"
   },
   "source": [
    "## 1. Climbing Stairs - Memoized"
   ]
  },
  {
   "cell_type": "markdown",
   "metadata": {
    "colab_type": "text",
    "id": "eAS1h_Swga0q"
   },
   "source": [
    "We are going to store things we have computed before in a list `mem` such that <br/><br/>\n",
    "$$\n",
    "mem[i] = \\begin{cases}-1 \\text{ if we haven't computed } climbing\\_stairs_i \\text{ before }\\\\\n",
    "      climbing\\_stairs_i \\text{ if we have already computed it}\n",
    "    \\end{cases}\n",
    "$$\n",
    "\n",
    "### 1.1\n",
    "Write a function `create_memory(n)` that takes an integer `n` and returns a list L of length `n` that contains the integer `-1` repeated `n` times.\n",
    "\n"
   ]
  },
  {
   "cell_type": "code",
   "execution_count": 34,
   "metadata": {
    "colab": {},
    "colab_type": "code",
    "id": "OCStBzgsga0r"
   },
   "outputs": [
    {
     "data": {
      "text/plain": [
       "[None, None, None, None, None, None, None, None, None, None, None, None, None]"
      ]
     },
     "execution_count": 34,
     "metadata": {},
     "output_type": "execute_result"
    }
   ],
   "source": [
    "def create_memory(n):\n",
    "    lst = [None] * (n+1)\n",
    "    return lst\n",
    "create_memory(12)"
   ]
  },
  {
   "cell_type": "markdown",
   "metadata": {
    "colab_type": "text",
    "id": "Y_fWeVs7ga0v"
   },
   "source": [
    "\n",
    "### 1.2\n",
    "Write a function `check(i, mem)` that takes an index `i` and a list `mem` and returns `True` if `mem[i]` is not equal to `-1`:"
   ]
  },
  {
   "cell_type": "code",
   "execution_count": 60,
   "metadata": {
    "colab": {},
    "colab_type": "code",
    "id": "PkpQzsCDga0w"
   },
   "outputs": [
    {
     "data": {
      "text/plain": [
       "True"
      ]
     },
     "execution_count": 60,
     "metadata": {},
     "output_type": "execute_result"
    }
   ],
   "source": [
    "def check(i, mem):\n",
    "    return mem[i] == None\n",
    "check(3, create_memory(8))"
   ]
  },
  {
   "cell_type": "markdown",
   "metadata": {
    "colab_type": "text",
    "id": "BFGzDAR2ga01"
   },
   "source": [
    "### 1.3\n",
    "Write a function `add(mem, i, value)` that takes a list `mem`, an index `i` and an integer `value` and that stores the integer `value` in the list `mem` at index `i` :"
   ]
  },
  {
   "cell_type": "code",
   "execution_count": 61,
   "metadata": {
    "colab": {},
    "colab_type": "code",
    "id": "ru6HcGpfga02"
   },
   "outputs": [
    {
     "data": {
      "text/plain": [
       "[None, None, None, 12, None, None, None, None, None]"
      ]
     },
     "execution_count": 61,
     "metadata": {},
     "output_type": "execute_result"
    }
   ],
   "source": [
    "def add(mem, i, value):\n",
    "    mem[i] = value\n",
    "    return mem\n",
    "add(create_memory(8), 3, 12)"
   ]
  },
  {
   "cell_type": "markdown",
   "metadata": {
    "colab_type": "text",
    "id": "_qDt6nZJga06"
   },
   "source": [
    "### 1.4\n",
    "Write a recursive function `memo_climbing_stairs(n, mem)` that takes an integer `n` and a list `mem`.<br/><br/>\n",
    "Here is how it should work : \n",
    "<ul>\n",
    "    <li> If <code>mem[n]</code> is <i>not</i> equal to <code>-1</code>, it should return <code>mem[n]</code></li>\n",
    "    <li> If <code>mem[n]</code> is equal to <code>-1</code>, it should compute the value recursively and store it in <code>mem[n]</code> before returning it.</li>\n",
    "</ul>"
   ]
  },
  {
   "cell_type": "code",
   "execution_count": 73,
   "metadata": {
    "colab": {},
    "colab_type": "code",
    "id": "BhILEwXOga08"
   },
   "outputs": [],
   "source": [
    "def memo_climbing_stairs(n, mem):\n",
    "    if n <= 2:\n",
    "        return n\n",
    "    if mem[n] != None:\n",
    "        return mem[n]\n",
    "    else:\n",
    "        mem[n] = memo_climbing_stairs(n-1, mem) + memo_climbing_stairs(n-2, mem)\n",
    "        return mem[n]\n"
   ]
  },
  {
   "cell_type": "markdown",
   "metadata": {
    "colab_type": "text",
    "id": "M_W9w0C0ga0_"
   },
   "source": [
    "### 1.5\n",
    "Write a function `climbing_stairs(n)` that takes an integer `n`. It should use `create_memory(n)` and `memo_climbing_stairs(n, mem)`.<br><br>*Hint: Remember that we are storing values from 0 to n*"
   ]
  },
  {
   "cell_type": "code",
   "execution_count": null,
   "metadata": {},
   "outputs": [],
   "source": []
  },
  {
   "cell_type": "code",
   "execution_count": 94,
   "metadata": {
    "colab": {},
    "colab_type": "code",
    "id": "9H0d7-zQga1A"
   },
   "outputs": [
    {
     "name": "stdout",
     "output_type": "stream",
     "text": [
      "Congratulations, the test case passed!\n",
      "Congratulations, the test case passed!\n",
      "Congratulations, the test case passed!\n",
      "Congratulations, the test case passed!\n"
     ]
    }
   ],
   "source": [
    "def climbing_stairs(n):\n",
    "    mem = create_memory(n)\n",
    "    return memo_climbing_stairs(n, mem)\n",
    "   \n",
    "\n",
    "# Check your answer here\n",
    "check_test(climbing_stairs(2), 2)\n",
    "check_test(climbing_stairs(5), 8)\n",
    "check_test(climbing_stairs(6), 13)\n",
    "check_test(climbing_stairs(35), 14930352)"
   ]
  },
  {
   "cell_type": "markdown",
   "metadata": {},
   "source": [
    "Do you notice any difference in how long it takes to compute `climbing_stairs(35)`?"
   ]
  },
  {
   "cell_type": "markdown",
   "metadata": {},
   "source": [
    "**your answer here**"
   ]
  },
  {
   "cell_type": "markdown",
   "metadata": {
    "colab_type": "text",
    "id": "_AdSca-lga0J"
   },
   "source": [
    "## 2. Fibonnacci Sequence\n",
    "\n",
    "The fibonnacci sequence is defined as below :\n",
    "\n",
    "$$\n",
    "\\Large\n",
    "f_n = \\begin{cases}n \\text{ if }  \\leq 1\\\\\n",
    "    f_{n-1} + f_{n-2} \\text{ if } n > 1\n",
    "    \\end{cases}\n",
    "$$\n",
    "\n",
    "For example, the first eight Fibonnacci numbers are:\n",
    "\n",
    "0,1,1,2,3,5,8,13 . . .\n",
    "\n",
    "### 2.1\n",
    "\n",
    "Write a recursive function `fib(n)` that takes an integer `n` and returns $f_n$."
   ]
  },
  {
   "cell_type": "code",
   "execution_count": 53,
   "metadata": {},
   "outputs": [
    {
     "data": {
      "text/plain": [
       "8"
      ]
     },
     "execution_count": 53,
     "metadata": {},
     "output_type": "execute_result"
    }
   ],
   "source": [
    "def fib(n):\n",
    "    if n <= 1:\n",
    "        return n\n",
    "    else:\n",
    "        return fib(n-1) + fib(n-2)\n",
    "fib(6)"
   ]
  },
  {
   "cell_type": "markdown",
   "metadata": {},
   "source": [
    "### 2.2\n",
    "\n",
    "Write a memoized version of the above function.\n",
    "\n",
    "<details>\n",
    "    <summary><b>Give me a Hint (click)</b></summary>\n",
    "This should work the same way as 2.4.\n",
    "</details>"
   ]
  },
  {
   "cell_type": "code",
   "execution_count": 84,
   "metadata": {},
   "outputs": [],
   "source": [
    "def memo_fib(n, mem):\n",
    "    if n <= 1:\n",
    "        return n\n",
    "    if mem[n] != None:\n",
    "        return mem[n]\n",
    "    else:\n",
    "        mem[n] = memo_fib(n-1, mem) + memo_fib(n-2, mem)\n",
    "        return mem[n]"
   ]
  },
  {
   "cell_type": "markdown",
   "metadata": {},
   "source": [
    "### 2.3\n",
    "\n",
    "Write a function `fib(n)` that takes an integer `n`. It should use `create_memory(n)` and `memo_fib(n, mem)`.<br><br>*Hint: Remember that we are storing fibs from 0 to n*"
   ]
  },
  {
   "cell_type": "code",
   "execution_count": 85,
   "metadata": {},
   "outputs": [],
   "source": [
    "def fib(n):\n",
    "    lst = [None] * (n+1)\n",
    "    return memo_fib(n, lst)\n",
    "    # Your code here"
   ]
  },
  {
   "cell_type": "markdown",
   "metadata": {},
   "source": [
    "## Check your answer here"
   ]
  },
  {
   "cell_type": "code",
   "execution_count": 86,
   "metadata": {},
   "outputs": [
    {
     "name": "stdout",
     "output_type": "stream",
     "text": [
      "Congratulations, the test case passed!\n",
      "Congratulations, the test case passed!\n",
      "Congratulations, the test case passed!\n"
     ]
    }
   ],
   "source": [
    "check_test(fib(7), 13)\n",
    "check_test(fib(0), 0)\n",
    "check_test(fib(1), 1)"
   ]
  },
  {
   "cell_type": "markdown",
   "metadata": {},
   "source": [
    "## Q:\n",
    "Do you think `fibonnacci sequence` and `climbing stairs` are related? If so, how?"
   ]
  },
  {
   "cell_type": "markdown",
   "metadata": {},
   "source": [
    "YOUR ANSWER GOES HERE"
   ]
  },
  {
   "cell_type": "markdown",
   "metadata": {},
   "source": [
    "## 3. Making Basketball Teams\n",
    "\n",
    "You have `n` classmates. You want to create a team of `k` players. How many different teams can you create ?\n",
    "\n",
    "You may have seen in math class that the number we are looking for is :\n",
    "$$\n",
    "\\Large\n",
    "\\binom{n}{k}\n",
    "$$\n",
    "\n",
    "To choose your team, you can either pick the tallest classmate and then pick the remaining `k-1` players, or you can decide to leave out your tallest classmate and pick a team among `n-1` classmates. \n",
    "\n",
    "This yields the recursive formula :\n",
    "$$\n",
    "\\binom{n}{k} = \\binom{n-1}{k-1} + \\binom{n-1}{k}\n",
    "$$\n",
    "\n",
    "\n",
    "### 3.1\n",
    "Write a recursive function `binom(n, k)` that takes two integers `n` and `k` and returns $\\binom{n}{k}$ :\n",
    "\n",
    "*Hint : Think of your base case carefully. What is $\\binom{n}{0}$ ? What is $\\binom{0}{k}$ if $k \\neq 0$ ?*\n"
   ]
  },
  {
   "cell_type": "code",
   "execution_count": 5,
   "metadata": {},
   "outputs": [
    {
     "data": {
      "text/plain": [
       "5"
      ]
     },
     "execution_count": 5,
     "metadata": {},
     "output_type": "execute_result"
    }
   ],
   "source": [
    "def comb(n, k):\n",
    "    if k == 0 or n == k:\n",
    "        return 1\n",
    "    else:\n",
    "        return comb(n-1, k-1) + comb(n-1, k)\n",
    "comb(5, 1)"
   ]
  },
  {
   "cell_type": "markdown",
   "metadata": {},
   "source": [
    "### 3.2\n",
    "We're going to create a list of lists called `mem` such that : <br/><br/>\n",
    "$$\n",
    "mem[i][j] =\n",
    "\\begin{cases}\n",
    "-1 \\text{  if }\\binom{i}{j} \\text{ has not been computed before}\\\\\n",
    "\\binom{i}{j} \\text{ if it has}\n",
    "\\end{cases}\n",
    "$$\n",
    "\n",
    "Write a function `create_memory(r, c)` that takes two integers `r` and `c` and returns a list of lists with `r` rows and `c` colums where **all entries are -1**.\n",
    "\n",
    "<details>\n",
    "    <summary><b>Give me a Hint (click)</b></summary>\n",
    "Make sure the rows are referencing different lists!\n",
    "    \n",
    "For example, the code below **does NOT work**:\n",
    "```python\n",
    "lst = [ [-1] * 4 ] * 3\n",
    "```\n",
    "\n",
    "If you now modify an entry, for example `list[0][0] = 5`, the whole first column will change to 5, because all rows point to the same list. If you have internet, you can use `pythontutor.com` to visualize this!\n",
    "    \n",
    "Instead, use a list comprehension or for loop to create the rows.\n",
    "</details>"
   ]
  },
  {
   "cell_type": "code",
   "execution_count": 15,
   "metadata": {},
   "outputs": [
    {
     "name": "stdout",
     "output_type": "stream",
     "text": [
      "Function should return the value [[-1, -1], [-1, -1], [-1, -1]], it is returning the value [[-1, -1, -1], [-1, -1, -1], [-1, -1, -1], [-1, -1, -1]]\n",
      "Function should return the value [[5, -1], [-1, -1], [-1, -1]], it is returning the value [[5, -1, -1], [-1, -1, -1], [-1, -1, -1], [-1, -1, -1]]\n"
     ]
    }
   ],
   "source": [
    "def create_memory(r, c):\n",
    "    lst = [[-1 for i in range(c+1)] for i in range(r+1)]\n",
    "    return lst\n",
    "\n",
    "# Check your answer here\n",
    "matrix = create_memory(3, 2)\n",
    "check_test(matrix, [[-1, -1], [-1, -1], [-1, -1]])\n",
    "matrix[0][0] = 5  # Make sure only one entry changes\n",
    "check_test(matrix, [[5, -1], [-1, -1], [-1, -1]])"
   ]
  },
  {
   "cell_type": "markdown",
   "metadata": {},
   "source": [
    "### 3.3\n",
    "Write a function `memo_binom(n, k, mem)` that takes two integers `n`, `k` and a list of lists `mem` and that returns $\\binom{n}{k}$.\n",
    "\n",
    "As before, this function should **check** in `mem` if $\\binom{n}{k}$ has been computed before, and if not, compute it recursively and add the answer to `mem`."
   ]
  },
  {
   "cell_type": "code",
   "execution_count": 16,
   "metadata": {},
   "outputs": [],
   "source": [
    "def memo_binom(n, k, mem):\n",
    "    if n == k or k == 0:\n",
    "        return 1\n",
    "    if mem[n][k] != -1:\n",
    "        return mem[n][k]\n",
    "    else:\n",
    "        mem[n][k] = memo_binom(n-1, k-1, mem) + memo_binom(n-1, k, mem)\n",
    "        return mem[n][k]"
   ]
  },
  {
   "cell_type": "markdown",
   "metadata": {},
   "source": [
    "### 3.4\n",
    "Write a function `binom(n, k)` that returns $\\binom{n}{k}$. It should use `create_memory(r, c)` and `memo_binom(n, k, mem)`."
   ]
  },
  {
   "cell_type": "code",
   "execution_count": 19,
   "metadata": {},
   "outputs": [
    {
     "data": {
      "text/plain": [
       "1480104745929620586801229263917788342299723850887397949428679475343823521601773279175778894614796889658289173217411692364269915295033791955038477305050"
      ]
     },
     "execution_count": 19,
     "metadata": {},
     "output_type": "execute_result"
    }
   ],
   "source": [
    "def binom(n, k):\n",
    "    mem = create_memory(n, k)\n",
    "    return memo_binom(n, k, mem)\n",
    "binom(1256, 100)"
   ]
  },
  {
   "cell_type": "markdown",
   "metadata": {},
   "source": [
    "## 4. Moving in a grid\n",
    "\n",
    "\n",
    "We want to find the number of paths that go from `A` to `Z` in the grid below :\n",
    "\n",
    "<center>\n",
    "    <img src = \"gridpaths.png\" width = \"500px\">\n",
    "</center>\n",
    "\n",
    "Two examples paths are drawn below in red: \n",
    "\n",
    "<table>\n",
    "    <tr>\n",
    "        <td><img src = \"onepath.png\" width = \"300px\"> </td>\n",
    "        <td><img src = \"path2.png\" width = \"300px\"> </td>\n",
    "    </tr>\n",
    "</table>\n",
    "\n",
    "We number the points in the grid like so :\n",
    " <img src = \"numbered.png\" width = \"300px\"> \n",
    "\n",
    "Let $T(a,b)$ denote the number of ways of getting from (0,0) to (a, b). For example $T(0,1) = 1$ and $T(1,1) = 3$\n",
    "\n",
    "##### Recursive formula :\n",
    "\n",
    "If you know $T(a-1, b)$, $T(a, b-1)$ and $T(a-1, b-1)$, how can you find $T(a,b)$ ? \n"
   ]
  },
  {
   "cell_type": "markdown",
   "metadata": {},
   "source": [
    "**Your answer here**"
   ]
  },
  {
   "cell_type": "markdown",
   "metadata": {},
   "source": [
    "\n",
    "### 4.1\n",
    "Write a recursive function `T(a,b)` that takes two integers `a` and `b` and returns the number of ways of getting from (0,0) to (a,b):\n",
    "\n",
    "\n",
    "<details>\n",
    "    <summary><b>Give me a Hint (click)</b></summary>\n",
    "For the base case, how many different paths are there from $(0, 0)$ to $(a, 0)$? How many different paths are there from $(0, 0)$ to $(0, b)$?\n",
    "</details>"
   ]
  },
  {
   "cell_type": "code",
   "execution_count": 133,
   "metadata": {},
   "outputs": [
    {
     "data": {
      "text/plain": [
       "231"
      ]
     },
     "execution_count": 133,
     "metadata": {},
     "output_type": "execute_result"
    }
   ],
   "source": [
    "def path(a, b):\n",
    "    if a == 0 or b == 0:\n",
    "        return 1\n",
    "    else:\n",
    "        return path(a-1, b) + path(a, b-1) + path(a-1, b-1)\n",
    "path(3, 5)     "
   ]
  },
  {
   "cell_type": "markdown",
   "metadata": {},
   "source": [
    "### 4.2\n",
    "How many ways are there of getting from `A` to `Z` ?\n",
    "<br/>\n",
    "\n"
   ]
  },
  {
   "cell_type": "code",
   "execution_count": null,
   "metadata": {},
   "outputs": [],
   "source": [
    "# Answer here\n",
    "\n"
   ]
  },
  {
   "cell_type": "markdown",
   "metadata": {},
   "source": [
    "### 4.3\n",
    "Following the previous exercise's procedure, write a function `memo_T(a,b)` that takes integers `a` and `b` and returns $T(a,b)$: "
   ]
  },
  {
   "cell_type": "code",
   "execution_count": 144,
   "metadata": {},
   "outputs": [
    {
     "data": {
      "text/plain": [
       "231"
      ]
     },
     "execution_count": 144,
     "metadata": {},
     "output_type": "execute_result"
    }
   ],
   "source": [
    "def t(a, b):\n",
    "    lst = [[-1 for i in range(a+1)] for i in range(b+1)]\n",
    "    return memo_t(a, b, lst)\n",
    "t(3, 5)"
   ]
  },
  {
   "cell_type": "markdown",
   "metadata": {},
   "source": [
    "### 4.4 \n",
    "Write a function `T(a, b)` that takes two integers `a` and `b` and returns the number of ways of getting from (0,0) to (a,b). It should use `memo_T(a, b)` :"
   ]
  },
  {
   "cell_type": "code",
   "execution_count": 142,
   "metadata": {},
   "outputs": [],
   "source": [
    "def memo_t(a, b, mem):\n",
    "    if a == 0 or b== 0:\n",
    "        return 1\n",
    "    if mem[b][a] != -1:\n",
    "        return mem[b][a]\n",
    "    else:\n",
    "        mem[b][a] = memo_t(a-1, b, mem) + memo_t(a, b-1, mem) + memo_t(a-1, b-1, mem)\n",
    "        return mem[b][a]"
   ]
  },
  {
   "cell_type": "markdown",
   "metadata": {},
   "source": [
    "## 5. Min Number of Ways to Make Change\n",
    "\n",
    "Suppose you live in a country whose coin denominations are in the list ```L```. For example, in Ethiopia we would have ```L = [1,5,10,50,100,200]```, but other countries have different coin systems. Implement a function ```makeChange(n, L)``` which returns the minimum number of coins needed to make change for ```n``` cents using the coins in ```L```. \n",
    "\n",
    "*For example*, ```makeChange(14, [1,5,10,50,100,200])``` should return ```5```, since you can make change for ```14``` cents by giving one ```10``` cent piece and four ```1``` cent pieces, for a total of ```5``` coins (you could also give two ```5``` cent pieces and four ```1``` cent pieces, or ```14``` ```1``` cent pieces, but those options would each require more coins). If it is impossible to make change for ```n``` cents using ```L```, you should return ```-1```. For example, ```makeChange(3, [2, 5])``` should return ```-1``` since there is no way to make change for ```3``` cents using ```2``` cent and ```5``` cent pieces.\n",
    "\n",
    "### 5.1 \n",
    "First implement a function ```makeChange``` that takes as input an integer $n$ and a list $L$ (with coin values sorted in increasing order) and returns the minimum number of ways to make change using plain recursion."
   ]
  },
  {
   "cell_type": "code",
   "execution_count": 20,
   "metadata": {},
   "outputs": [
    {
     "name": "stdout",
     "output_type": "stream",
     "text": [
      "Congratulations, the test case passed!\n",
      "Congratulations, the test case passed!\n",
      "Congratulations, the test case passed!\n"
     ]
    }
   ],
   "source": [
    "def make_change(n, l):\n",
    "    if n == 0:\n",
    "        return 0\n",
    "    min_change = float('inf')\n",
    "    for coin in l:\n",
    "        if coin <= n:\n",
    "            current = make_change(n-coin, l) + 1\n",
    "            min_change = min(min_change, current)\n",
    "    return min_change\n",
    "check_test(make_change(14,[1,5,10,25,50,100]), 5)\n",
    "check_test(make_change(12,[1,4,6,8,10,12]), 1)\n",
    "check_test(make_change(11,[4,6,8]), float(\"inf\"))"
   ]
  },
  {
   "cell_type": "markdown",
   "metadata": {},
   "source": [
    "### 5.2\n",
    "Implement a faster version or your solution using memoization in `makeChange_memo(n, L)`."
   ]
  },
  {
   "cell_type": "code",
   "execution_count": 25,
   "metadata": {},
   "outputs": [
    {
     "name": "stdout",
     "output_type": "stream",
     "text": [
      "Congratulations, the test case passed!\n",
      "Congratulations, the test case passed!\n",
      "Congratulations, the test case passed!\n"
     ]
    }
   ],
   "source": [
    "def make_change(n, L, mem):\n",
    "    if n == 0:\n",
    "        return 0\n",
    "    if n < 0:\n",
    "        return float(\"inf\")\n",
    "        \n",
    "    if mem[n][len(L)] != -1:\n",
    "        return mem[n][len(L)]\n",
    "    else:\n",
    "        temp = float('inf')\n",
    "        for x in L:\n",
    "            if x <= n:\n",
    "                current = make_change(n-x, L, mem) + 1\n",
    "                temp = min(temp, current)\n",
    "        mem[n][len(L)] = temp\n",
    "        return temp\n",
    "\n",
    "check_test(make_change_memo(14, [1,5,10,25,50,100]), 5)\n",
    "check_test(make_change_memo(50,[1,4,6,8,10,12]), 5)\n",
    "check_test(make_change_memo(11,[4,6,8]), -1)"
   ]
  },
  {
   "cell_type": "code",
   "execution_count": 21,
   "metadata": {},
   "outputs": [],
   "source": [
    "def make_change_memo(n, L):\n",
    "    mem = [[-1 for x in range(len(L)+1)] for y in range(n+1)]\n",
    "    if all(L[n] % 2 == 0 for n in range(len(L))) and n % 2!= 0:\n",
    "        return -1\n",
    "    return make_change(n, L, mem)"
   ]
  },
  {
   "cell_type": "markdown",
   "metadata": {},
   "source": [
    "### 5.3 (Challenge)\n",
    "\n",
    "Can you modify your code so that it returns the list of coins that sum up to the amount you want (or `None` if no solution exists)?\n",
    "\n",
    "Hint: In your memoization table, store lists of coins rather than the amount of coins."
   ]
  },
  {
   "cell_type": "code",
   "execution_count": 26,
   "metadata": {},
   "outputs": [],
   "source": [
    "def make_change_memo(n, L):\n",
    "    mem = [-1 for i in range(n + 1)]\n",
    "    if all(L[n] % 2 == 0 for n in range(len(L))) and n % 2!= 0:\n",
    "        return -1\n",
    "    return make_change(n, L, mem)\n",
    "def make_change(n, l, mem):\n",
    "    if n == 0:\n",
    "        return 0\n",
    "    min_change = float('inf')\n",
    "    if mem[n] != -1:\n",
    "        return mem[n]\n",
    "    else:\n",
    "        for coin in l:\n",
    "            if coin <= n:\n",
    "                current = make_change(n-coin, l, mem) + 1\n",
    "                min_change = min(min_change, current)\n",
    "        mem[n] = min_change      \n",
    "        return min_change"
   ]
  },
  {
   "cell_type": "code",
   "execution_count": 27,
   "metadata": {},
   "outputs": [
    {
     "name": "stdout",
     "output_type": "stream",
     "text": [
      "Congratulations, the test case passed!\n",
      "Congratulations, the test case passed!\n",
      "Congratulations, the test case passed!\n"
     ]
    }
   ],
   "source": [
    "check_test(make_change_memo(14, [1,5,10,25,50,100]), 5)\n",
    "check_test(make_change_memo(50,[1,4,6,8,10,12]), 5)\n",
    "check_test(make_change_memo(11,[4,6,8]), -1)"
   ]
  },
  {
   "cell_type": "code",
   "execution_count": 43,
   "metadata": {},
   "outputs": [],
   "source": [
    "def make_change_memo(n, L):\n",
    "    mem = [-1 for i in range(n + 1)]\n",
    "    # lst = []\n",
    "    if all(L[n] % 2 == 0 for n in range(len(L))) and n % 2!= 0:\n",
    "        return -1\n",
    "    return make_change(n, L, mem)\n",
    "def make_change(n, l, mem):\n",
    "    if n == 0:\n",
    "        return 0\n",
    "    min_change = float('inf')\n",
    "    if mem[n] != -1:\n",
    "        return mem[n]\n",
    "    else:\n",
    "        for coin in l:\n",
    "            if coin <= n:\n",
    "                current = make_change(n-coin, l, mem) + 1\n",
    "                min_change = min(min_change, current)\n",
    "                print(n-coin)\n",
    "        mem[n] = min_change      \n",
    "        return min_change"
   ]
  },
  {
   "cell_type": "code",
   "execution_count": 44,
   "metadata": {},
   "outputs": [
    {
     "name": "stdout",
     "output_type": "stream",
     "text": [
      "0\n",
      "1\n",
      "2\n",
      "3\n",
      "4\n",
      "0\n",
      "5\n",
      "1\n",
      "6\n",
      "2\n",
      "7\n",
      "3\n",
      "8\n",
      "4\n",
      "9\n",
      "5\n",
      "0\n",
      "10\n",
      "6\n",
      "1\n",
      "11\n",
      "7\n",
      "2\n",
      "12\n",
      "8\n",
      "3\n",
      "13\n",
      "9\n",
      "4\n",
      "Congratulations, the test case passed!\n"
     ]
    }
   ],
   "source": [
    "check_test(make_change_memo(14, [1,5,10,25,50,100]), 5)"
   ]
  },
  {
   "cell_type": "code",
   "execution_count": null,
   "metadata": {},
   "outputs": [],
   "source": []
  }
 ],
 "metadata": {
  "colab": {
   "collapsed_sections": [],
   "name": "week4_day1_problems1234.ipynb",
   "provenance": [],
   "version": "0.3.2"
  },
  "kernelspec": {
   "display_name": "Python 3 (ipykernel)",
   "language": "python",
   "name": "python3"
  },
  "language_info": {
   "codemirror_mode": {
    "name": "ipython",
    "version": 3
   },
   "file_extension": ".py",
   "mimetype": "text/x-python",
   "name": "python",
   "nbconvert_exporter": "python",
   "pygments_lexer": "ipython3",
   "version": "3.11.4"
  },
  "varInspector": {
   "cols": {
    "lenName": 16,
    "lenType": 16,
    "lenVar": 40
   },
   "kernels_config": {
    "python": {
     "delete_cmd_postfix": "",
     "delete_cmd_prefix": "del ",
     "library": "var_list.py",
     "varRefreshCmd": "print(var_dic_list())"
    },
    "r": {
     "delete_cmd_postfix": ") ",
     "delete_cmd_prefix": "rm(",
     "library": "var_list.r",
     "varRefreshCmd": "cat(var_dic_list()) "
    }
   },
   "types_to_exclude": [
    "module",
    "function",
    "builtin_function_or_method",
    "instance",
    "_Feature"
   ],
   "window_display": false
  }
 },
 "nbformat": 4,
 "nbformat_minor": 4
}
