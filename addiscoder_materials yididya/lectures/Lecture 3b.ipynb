{
 "cells": [
  {
   "cell_type": "markdown",
   "id": "e27e04b6",
   "metadata": {},
   "source": [
    "# Welcome back\n",
    "\n",
    "How was lab? Was anything confusing? \n"
   ]
  },
  {
   "cell_type": "markdown",
   "id": "14f9cb03",
   "metadata": {},
   "source": [
    "# Review\n",
    "\n",
    "We covered:\n",
    "- While loops\n",
    "- Basic functions"
   ]
  },
  {
   "cell_type": "markdown",
   "id": "a3897adc",
   "metadata": {},
   "source": [
    "# While loop syntax\n",
    "\n",
    "The syntax for while loops is:\n",
    "```python\n",
    "while <condition>:\n",
    "    <expression>\n",
    "```\n",
    "\n",
    "As with `if` statements, the `<condition>` can be anything that evaluates to a boolean. The `<expression>` can be complex."
   ]
  },
  {
   "cell_type": "code",
   "execution_count": null,
   "id": "c1eeec84",
   "metadata": {},
   "outputs": [],
   "source": [
    "a = 1\n",
    "b = 1\n",
    "num = 0\n",
    "\n",
    "while num < 15:\n",
    "    print(a)\n",
    "    c = a + b\n",
    "    a = b\n",
    "    b = c\n",
    "    num += 1"
   ]
  },
  {
   "cell_type": "code",
   "execution_count": null,
   "id": "c9f247cc",
   "metadata": {},
   "outputs": [],
   "source": [
    "num = 0\n",
    "while num < 10:\n",
    "    if num % 2 == 0:\n",
    "        print(num)\n",
    "    num += 1"
   ]
  },
  {
   "cell_type": "markdown",
   "id": "a8018297",
   "metadata": {},
   "source": [
    "# IMPORTANT: THE WHILE LOOP MUST TERMINATE"
   ]
  },
  {
   "cell_type": "code",
   "execution_count": null,
   "id": "f69b93e9",
   "metadata": {},
   "outputs": [],
   "source": [
    "# WARNING\n",
    "# WARNING\n",
    "# WARNING\n",
    "# DO NOT RUN THIS\n",
    "\n",
    "while True:\n",
    "    print('hi')"
   ]
  },
  {
   "cell_type": "code",
   "execution_count": null,
   "id": "d03e9277",
   "metadata": {},
   "outputs": [],
   "source": [
    "# WARNING\n",
    "# WARNING\n",
    "# WARNING\n",
    "# DO NOT RUN THIS\n",
    "\n",
    "num = 0\n",
    "while num < 10:\n",
    "    print(num)"
   ]
  },
  {
   "cell_type": "markdown",
   "id": "c12fa007",
   "metadata": {},
   "source": [
    "# Syntax for functions\n",
    "\n",
    "The general syntax for functions is:\n",
    "```python\n",
    "def function_name(<arguments>):\n",
    "    <body>\n",
    "    return <expression>\n",
    "```\n",
    "\n",
    "There are several things to note about the syntax (we will go through examples):\n",
    "- You can have zero, one, or more arguments.\n",
    "- You need the `:` after the function\n",
    "- The body can be complex!\n",
    "- You technically don't need a return statement at the end, but we will almost alway have a return at the end"
   ]
  },
  {
   "cell_type": "code",
   "execution_count": 1,
   "id": "eb74c40e",
   "metadata": {},
   "outputs": [
    {
     "data": {
      "text/plain": [
       "30"
      ]
     },
     "execution_count": 1,
     "metadata": {},
     "output_type": "execute_result"
    }
   ],
   "source": [
    "def add_two_numbers(x, y):\n",
    "    return x + y\n",
    "\n",
    "add_two_numbers(10, 20)"
   ]
  },
  {
   "cell_type": "code",
   "execution_count": 2,
   "id": "d3c6ebb4",
   "metadata": {},
   "outputs": [
    {
     "ename": "SyntaxError",
     "evalue": "invalid syntax (1189982192.py, line 1)",
     "output_type": "error",
     "traceback": [
      "\u001b[0;36m  File \u001b[0;32m\"/tmp/ipykernel_859006/1189982192.py\"\u001b[0;36m, line \u001b[0;32m1\u001b[0m\n\u001b[0;31m    def add_two_numbers(x, y)\u001b[0m\n\u001b[0m                             ^\u001b[0m\n\u001b[0;31mSyntaxError\u001b[0m\u001b[0;31m:\u001b[0m invalid syntax\n"
     ]
    }
   ],
   "source": [
    "def add_two_numbers(x, y)\n",
    "    return x + y\n",
    "\n",
    "add_two_numbers(10, 20)"
   ]
  },
  {
   "cell_type": "code",
   "execution_count": 3,
   "id": "f9d3a4c3",
   "metadata": {},
   "outputs": [],
   "source": [
    "def add_two_numbers(x, y):\n",
    "    x + y\n",
    "\n",
    "add_two_numbers(10, 20)"
   ]
  },
  {
   "cell_type": "code",
   "execution_count": 4,
   "id": "58506cba",
   "metadata": {},
   "outputs": [
    {
     "data": {
      "text/plain": [
       "21"
      ]
     },
     "execution_count": 4,
     "metadata": {},
     "output_type": "execute_result"
    }
   ],
   "source": [
    "def fibonacci(nth):\n",
    "    a = 1\n",
    "    b = 1\n",
    "    num = 0\n",
    "\n",
    "    while num < nth - 1:\n",
    "        c = a + b\n",
    "        a = b\n",
    "        b = c\n",
    "        num += 1\n",
    "    return a\n",
    "\n",
    "fibonacci(8)"
   ]
  },
  {
   "cell_type": "code",
   "execution_count": 5,
   "id": "aa95aebd",
   "metadata": {},
   "outputs": [
    {
     "data": {
      "text/plain": [
       "610"
      ]
     },
     "execution_count": 5,
     "metadata": {},
     "output_type": "execute_result"
    }
   ],
   "source": [
    "fibonacci(15)"
   ]
  },
  {
   "cell_type": "markdown",
   "id": "933a8859",
   "metadata": {},
   "source": [
    "# New kind of loop: for loop\n",
    "\n",
    "In addition to while loops, there is another kind of loop called a `for` loop. Like `while` loops, they allow for repeated computation. The syntax and how they work (semantics) are different though.\n",
    "\n",
    "As usual we will do examples, the syntax, and go in depth."
   ]
  },
  {
   "cell_type": "code",
   "execution_count": 6,
   "id": "4f7aa593",
   "metadata": {},
   "outputs": [
    {
     "name": "stdout",
     "output_type": "stream",
     "text": [
      "1\n",
      "2\n",
      "3\n"
     ]
    }
   ],
   "source": [
    "for x in [1, 2, 3]:\n",
    "    print(x)"
   ]
  },
  {
   "cell_type": "markdown",
   "id": "855ef8de",
   "metadata": {},
   "source": [
    "# Basic syntax for `for` loops\n",
    "\n",
    "The basic syntax for `for` loops is\n",
    "```python\n",
    "for <variable> in <iterable expression>:\n",
    "    <expression>\n",
    "```\n",
    "\n",
    "Don't worry too much about what an `<iterable expression>` is for the time being. For this lecture, it will always be a list or `range`. We will cover `range` later.\n",
    "\n",
    "As with `if`s and `whiles`, the `<expression>` can be complex."
   ]
  },
  {
   "cell_type": "code",
   "execution_count": 7,
   "id": "3fa73955",
   "metadata": {},
   "outputs": [
    {
     "name": "stdout",
     "output_type": "stream",
     "text": [
      "1\n",
      "2\n",
      "3\n",
      "4\n",
      "5\n",
      "6\n"
     ]
    }
   ],
   "source": [
    "x = [1, 2, 3, 4, 5, 6]\n",
    "for y in x:\n",
    "    print(y)"
   ]
  },
  {
   "cell_type": "code",
   "execution_count": 8,
   "id": "a595cec5",
   "metadata": {},
   "outputs": [
    {
     "name": "stdout",
     "output_type": "stream",
     "text": [
      "2\n",
      "4\n",
      "6\n"
     ]
    }
   ],
   "source": [
    "x = [1, 2, 3, 4, 5, 6]\n",
    "for y in x:\n",
    "    if y % 2 == 0:\n",
    "        print(y)"
   ]
  },
  {
   "cell_type": "code",
   "execution_count": 9,
   "id": "b50b37f8",
   "metadata": {},
   "outputs": [
    {
     "data": {
      "text/plain": [
       "91"
      ]
     },
     "execution_count": 9,
     "metadata": {},
     "output_type": "execute_result"
    }
   ],
   "source": [
    "x = [1, 2, 3, 4, 5, 6]\n",
    "sum_of_squares = 0\n",
    "\n",
    "for y in x:\n",
    "    sum_of_squares += y * y\n",
    "sum_of_squares"
   ]
  },
  {
   "cell_type": "markdown",
   "id": "b33bb03c",
   "metadata": {},
   "source": [
    "# Expressions can be complex!\n",
    "\n",
    "We've seen condtionals within a for loop but you can have loops inside loops!"
   ]
  },
  {
   "cell_type": "code",
   "execution_count": 10,
   "id": "9cb5969e",
   "metadata": {},
   "outputs": [
    {
     "name": "stdout",
     "output_type": "stream",
     "text": [
      "1 4\n",
      "1 5\n",
      "2 4\n",
      "2 5\n",
      "3 4\n",
      "3 5\n"
     ]
    }
   ],
   "source": [
    "for x in [1, 2, 3]:\n",
    "    for y in [4, 5]:\n",
    "        print(x, y)"
   ]
  },
  {
   "cell_type": "code",
   "execution_count": 13,
   "id": "840ca6d0",
   "metadata": {},
   "outputs": [
    {
     "name": "stdout",
     "output_type": "stream",
     "text": [
      "0\n",
      "\n",
      "0\n",
      "1\n",
      "\n",
      "0\n",
      "1\n",
      "2\n",
      "\n"
     ]
    }
   ],
   "source": [
    "for x in [1, 2, 3]:\n",
    "    y = 0\n",
    "    while y < x:\n",
    "        print(y)\n",
    "        y += 1\n",
    "    print()"
   ]
  },
  {
   "cell_type": "markdown",
   "id": "d05b22f9",
   "metadata": {},
   "source": [
    "# Special function: range\n",
    "\n",
    "When using `for` loops, we will sometimes use a special function called `range`. Don't worry too much about what it returns for the time being - we will stick to using range in `for` loops."
   ]
  },
  {
   "cell_type": "code",
   "execution_count": 14,
   "id": "c33951fd",
   "metadata": {},
   "outputs": [
    {
     "name": "stdout",
     "output_type": "stream",
     "text": [
      "0\n",
      "1\n",
      "2\n",
      "3\n",
      "4\n"
     ]
    }
   ],
   "source": [
    "for x in range(5):\n",
    "    print(x)"
   ]
  },
  {
   "cell_type": "code",
   "execution_count": 15,
   "id": "c07c14ba",
   "metadata": {},
   "outputs": [
    {
     "name": "stdout",
     "output_type": "stream",
     "text": [
      "0\n",
      "1\n",
      "2\n",
      "3\n",
      "4\n",
      "5\n",
      "6\n",
      "7\n",
      "8\n",
      "9\n"
     ]
    }
   ],
   "source": [
    "for x in range(10):\n",
    "    print(x)"
   ]
  },
  {
   "cell_type": "code",
   "execution_count": 16,
   "id": "962a8bec",
   "metadata": {},
   "outputs": [
    {
     "name": "stdout",
     "output_type": "stream",
     "text": [
      "3\n",
      "4\n",
      "5\n",
      "6\n"
     ]
    }
   ],
   "source": [
    "for x in range(3, 7):\n",
    "    print(x)"
   ]
  },
  {
   "cell_type": "code",
   "execution_count": 17,
   "id": "df1733a6",
   "metadata": {},
   "outputs": [
    {
     "name": "stdout",
     "output_type": "stream",
     "text": [
      "6\n",
      "7\n",
      "8\n"
     ]
    }
   ],
   "source": [
    "for x in range(6, 9):\n",
    "    print(x)"
   ]
  },
  {
   "cell_type": "code",
   "execution_count": 18,
   "id": "e91b6a2b",
   "metadata": {},
   "outputs": [
    {
     "name": "stdout",
     "output_type": "stream",
     "text": [
      "3\n",
      "5\n",
      "7\n",
      "9\n"
     ]
    }
   ],
   "source": [
    "for x in range(3, 10, 2):\n",
    "    print(x)"
   ]
  },
  {
   "cell_type": "code",
   "execution_count": 20,
   "id": "1b610fba",
   "metadata": {},
   "outputs": [
    {
     "name": "stdout",
     "output_type": "stream",
     "text": [
      "10\n",
      "9\n",
      "8\n",
      "7\n",
      "6\n",
      "5\n",
      "4\n"
     ]
    }
   ],
   "source": [
    "for x in range(10, 3, -1):\n",
    "    print(x)"
   ]
  },
  {
   "cell_type": "code",
   "execution_count": 21,
   "id": "4fd34559",
   "metadata": {},
   "outputs": [
    {
     "name": "stdout",
     "output_type": "stream",
     "text": [
      "10\n",
      "8\n",
      "6\n",
      "4\n"
     ]
    }
   ],
   "source": [
    "for x in range(10, 3, -2):\n",
    "    print(x)"
   ]
  },
  {
   "cell_type": "markdown",
   "id": "5b5bdf95",
   "metadata": {},
   "source": [
    "# One specific use of range"
   ]
  },
  {
   "cell_type": "code",
   "execution_count": 23,
   "id": "11b32dee",
   "metadata": {},
   "outputs": [
    {
     "name": "stdout",
     "output_type": "stream",
     "text": [
      "1\n",
      "2\n",
      "3\n",
      "4\n"
     ]
    }
   ],
   "source": [
    "x = [1, 2, 3, 4]\n",
    "\n",
    "for ind in range(len(x)):\n",
    "    print(x[ind])"
   ]
  },
  {
   "cell_type": "code",
   "execution_count": 22,
   "id": "91f4fb31",
   "metadata": {},
   "outputs": [
    {
     "data": {
      "text/plain": [
       "70"
      ]
     },
     "execution_count": 22,
     "metadata": {},
     "output_type": "execute_result"
    }
   ],
   "source": [
    "x = [1, 2, 3, 4]\n",
    "y = [5, 6, 7, 8]\n",
    "\n",
    "mul_sum = 0\n",
    "for ind in range(len(x)):\n",
    "    mul_sum += x[ind] * y[ind]\n",
    "\n",
    "mul_sum"
   ]
  },
  {
   "cell_type": "markdown",
   "id": "32349b0a",
   "metadata": {},
   "source": [
    "# `while` loops vs `for` loops\n",
    "\n",
    "Every `while` loop can be written as a `for` loop and vice versa. When to use which loop depends on the situation at hand. For the time being, we will practice both ways."
   ]
  },
  {
   "cell_type": "code",
   "execution_count": 24,
   "id": "79b8fdea",
   "metadata": {},
   "outputs": [
    {
     "name": "stdout",
     "output_type": "stream",
     "text": [
      "1\n",
      "4\n",
      "9\n",
      "16\n",
      "\n",
      "1\n",
      "4\n",
      "9\n",
      "16\n"
     ]
    }
   ],
   "source": [
    "x = [1, 2, 3, 4]\n",
    "for y in x:\n",
    "    print(y * y)\n",
    "\n",
    "print()\n",
    "\n",
    "i = 0\n",
    "while i < len(x):\n",
    "    print(x[i] * x[i])\n",
    "    i += 1"
   ]
  },
  {
   "cell_type": "code",
   "execution_count": 26,
   "id": "2a8ddc21",
   "metadata": {},
   "outputs": [
    {
     "name": "stdout",
     "output_type": "stream",
     "text": [
      "10\n",
      "17\n",
      "24\n",
      "\n",
      "10\n",
      "17\n",
      "24\n"
     ]
    }
   ],
   "source": [
    "for num in range(10, 30, 7):\n",
    "    print(num)\n",
    "\n",
    "print()\n",
    "\n",
    "num = 10\n",
    "while num < 30:\n",
    "    print(num)\n",
    "    num += 7"
   ]
  },
  {
   "cell_type": "markdown",
   "id": "972eadf5",
   "metadata": {},
   "source": [
    "# Advanced loop concepts: break\n",
    "\n",
    "Sometimes we want to end a loop early. We can do this using the `break` keyword."
   ]
  },
  {
   "cell_type": "code",
   "execution_count": 28,
   "id": "4edc25f7",
   "metadata": {},
   "outputs": [
    {
     "data": {
      "text/plain": [
       "17"
      ]
     },
     "execution_count": 28,
     "metadata": {},
     "output_type": "execute_result"
    }
   ],
   "source": [
    "x = [1, 4, 7, 9, 11, 15]\n",
    "\n",
    "# Compute the squared sum of the values of x until we reach 7\n",
    "squared_sum = 0\n",
    "for y in x:\n",
    "    if y == 7:\n",
    "        break\n",
    "    squared_sum += y * y\n",
    "    \n",
    "squared_sum"
   ]
  },
  {
   "cell_type": "code",
   "execution_count": null,
   "id": "8361e114",
   "metadata": {},
   "outputs": [],
   "source": [
    "# Fun exercise: do the same with a while loop!"
   ]
  },
  {
   "cell_type": "code",
   "execution_count": 30,
   "id": "9135c7e2",
   "metadata": {},
   "outputs": [],
   "source": [
    "# Breaks can come anywhere in the body of a for loop\n",
    "\n",
    "for x in [1, 2, 3]:\n",
    "    break\n",
    "    print(x)"
   ]
  },
  {
   "cell_type": "markdown",
   "id": "552796f0",
   "metadata": {},
   "source": [
    "# Advanced loop concepts: continue\n",
    "\n",
    "Sometimes we want to skip the rest of the body of a loop. We can do this using the `continue` keyword."
   ]
  },
  {
   "cell_type": "code",
   "execution_count": 31,
   "id": "924e980e",
   "metadata": {},
   "outputs": [
    {
     "data": {
      "text/plain": [
       "16"
      ]
     },
     "execution_count": 31,
     "metadata": {},
     "output_type": "execute_result"
    }
   ],
   "source": [
    "x = [1, 4, 7, 9, 11, 15]\n",
    "\n",
    "# Compute the squared sum of the _even_ values of x\n",
    "squared_sum = 0\n",
    "for y in x:\n",
    "    if y % 2 == 1:\n",
    "        continue\n",
    "    squared_sum += y * y\n",
    "    \n",
    "squared_sum"
   ]
  },
  {
   "cell_type": "code",
   "execution_count": 32,
   "id": "5117e547",
   "metadata": {},
   "outputs": [
    {
     "data": {
      "text/plain": [
       "477"
      ]
     },
     "execution_count": 32,
     "metadata": {},
     "output_type": "execute_result"
    }
   ],
   "source": [
    "x = [1, 4, 7, 9, 11, 15]\n",
    "\n",
    "# Compute the squared sum of the _odd_ values of x\n",
    "squared_sum = 0\n",
    "for y in x:\n",
    "    if y % 2 == 0:\n",
    "        continue\n",
    "    squared_sum += y * y\n",
    "    \n",
    "squared_sum"
   ]
  },
  {
   "cell_type": "code",
   "execution_count": 33,
   "id": "e897b047",
   "metadata": {},
   "outputs": [
    {
     "data": {
      "text/plain": [
       "50"
      ]
     },
     "execution_count": 33,
     "metadata": {},
     "output_type": "execute_result"
    }
   ],
   "source": [
    "x = [1, 4, 7, 9, 11, 15]\n",
    "\n",
    "# Compute the squared sum of the _odd_ values of x. Stop at 9\n",
    "squared_sum = 0\n",
    "for y in x:\n",
    "    if y % 2 == 0:\n",
    "        continue\n",
    "    if y == 9:\n",
    "        break\n",
    "    squared_sum += y * y\n",
    "    \n",
    "squared_sum"
   ]
  },
  {
   "cell_type": "markdown",
   "id": "329ba9fd",
   "metadata": {},
   "source": [
    "# Review redux: syntax for functions\n",
    "\n",
    "The general syntax for functions is:\n",
    "```python\n",
    "def function_name(<arguments>):\n",
    "    <body>\n",
    "    return <expression>\n",
    "```\n",
    "\n",
    "There are several things to note about the syntax (we will go through examples):\n",
    "- You can have zero, one, or more arguments.\n",
    "- You need the `:` after the function\n",
    "- The body can be complex!\n",
    "- You technically don't need a return statement at the end, but we will almost alway have a return at the end"
   ]
  },
  {
   "cell_type": "code",
   "execution_count": 34,
   "id": "c8e96d82",
   "metadata": {},
   "outputs": [],
   "source": [
    "def fahrenheit_to_celsius(f):\n",
    "    # ???\n",
    "    return 0"
   ]
  },
  {
   "cell_type": "code",
   "execution_count": 35,
   "id": "6ccb286a",
   "metadata": {},
   "outputs": [],
   "source": [
    "def celsius_to_fahrenheit(f):\n",
    "    # ???\n",
    "    return 0"
   ]
  },
  {
   "cell_type": "markdown",
   "id": "d928f5b4",
   "metadata": {},
   "source": [
    "# A more involved example\n",
    "\n",
    "Let's say we had a meal with friends. We ordered multiple items.\n",
    "\n",
    "Let's put the price of the items with a list:\n",
    "- One shiro: 100 birr\n",
    "- One tibbs: 200 birr\n",
    "- Two firr-firr: 150 birr x 2\n",
    "\n",
    "The list might look like `[100, 200, 150, 150]`\n",
    "\n",
    "Let's create a function that computes the total for the bill."
   ]
  },
  {
   "cell_type": "code",
   "execution_count": 36,
   "id": "ca6de083",
   "metadata": {},
   "outputs": [
    {
     "data": {
      "text/plain": [
       "600"
      ]
     },
     "execution_count": 36,
     "metadata": {},
     "output_type": "execute_result"
    }
   ],
   "source": [
    "def sum_bill(bill):\n",
    "    total = 0\n",
    "    for item in bill:\n",
    "        total += item\n",
    "    return total\n",
    "\n",
    "sum_bill([100, 200, 150, 150])"
   ]
  },
  {
   "cell_type": "code",
   "execution_count": 37,
   "id": "278c6d84",
   "metadata": {},
   "outputs": [
    {
     "data": {
      "text/plain": [
       "800"
      ]
     },
     "execution_count": 37,
     "metadata": {},
     "output_type": "execute_result"
    }
   ],
   "source": [
    "sum_bill([100, 200, 200, 150, 150])"
   ]
  },
  {
   "cell_type": "markdown",
   "id": "9afd864f",
   "metadata": {},
   "source": [
    "But wait! We forgot the tax. Let's say there's a 5% tax rate. We can _reuse_ functions we've created before. Let's try that now"
   ]
  },
  {
   "cell_type": "code",
   "execution_count": 38,
   "id": "f0d99b5c",
   "metadata": {},
   "outputs": [
    {
     "data": {
      "text/plain": [
       "630.0"
      ]
     },
     "execution_count": 38,
     "metadata": {},
     "output_type": "execute_result"
    }
   ],
   "source": [
    "def total_after_tax(bill):\n",
    "    sum_total = sum_bill(bill)\n",
    "    return sum_total * 1.05\n",
    "\n",
    "total_after_tax([100, 200, 150, 150])"
   ]
  },
  {
   "cell_type": "markdown",
   "id": "b24c68db",
   "metadata": {},
   "source": [
    "# Functions can call functions!\n",
    "\n",
    "As we've seen, functions can call functions. This will become critical later!"
   ]
  },
  {
   "cell_type": "markdown",
   "id": "26396cfa",
   "metadata": {},
   "source": [
    "# Warning: function naming\n",
    "\n",
    "Functions cannot have the same name as a variable and vice versa. For this class, do not name a function a variable you've already declared and vice versa."
   ]
  },
  {
   "cell_type": "code",
   "execution_count": null,
   "id": "f0d9301f",
   "metadata": {},
   "outputs": [],
   "source": []
  }
 ],
 "metadata": {
  "kernelspec": {
   "display_name": "Python 3 (ipykernel)",
   "language": "python",
   "name": "python3"
  },
  "language_info": {
   "codemirror_mode": {
    "name": "ipython",
    "version": 3
   },
   "file_extension": ".py",
   "mimetype": "text/x-python",
   "name": "python",
   "nbconvert_exporter": "python",
   "pygments_lexer": "ipython3",
   "version": "3.11.4"
  }
 },
 "nbformat": 4,
 "nbformat_minor": 5
}
