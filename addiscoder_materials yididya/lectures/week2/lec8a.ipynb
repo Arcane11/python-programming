{
 "cells": [
  {
   "attachments": {},
   "cell_type": "markdown",
   "metadata": {},
   "source": [
    "# Recursion Basics\n",
    "\n",
    "AddisCoder 2023 Week 2\n",
    "\n",
    "Taught by Alex Krentsel (alex.krentsel@gmail.com), material based on past semesters. "
   ]
  },
  {
   "cell_type": "code",
   "execution_count": 18,
   "metadata": {},
   "outputs": [],
   "source": [
    "def sumTwo(x, y):\n",
    "    return x + y"
   ]
  },
  {
   "cell_type": "code",
   "execution_count": 19,
   "metadata": {},
   "outputs": [],
   "source": [
    "def sumThree(x, y, z):\n",
    "    return x + y + z"
   ]
  },
  {
   "cell_type": "code",
   "execution_count": 20,
   "metadata": {},
   "outputs": [],
   "source": [
    "# We know how to have functions call other functions\n",
    "def sumFour(x, y, z, w):\n",
    "    return x + y + z + w"
   ]
  },
  {
   "cell_type": "code",
   "execution_count": 21,
   "metadata": {},
   "outputs": [],
   "source": [
    "# It'd be nice if we could have a function that could sum any number of numbers\n",
    "# How do we do that? \n",
    "# Let's say we don't want to use iteration (for loops)...\n",
    "def sumList(nums):\n",
    "    total = 0\n",
    "    # ???\n",
    "    return total"
   ]
  },
  {
   "cell_type": "code",
   "execution_count": 22,
   "metadata": {},
   "outputs": [],
   "source": [
    "# NOTE: if there is a board, do this on the board\n",
    "# recSumList([0, 1, 2, 3])\n",
    "# 0 + recSumList([1, 2, 3])\n",
    "# 0 + 1 + recSumList([2, 3])\n",
    "# 0 + 1 + 2 + recSumList([3])\n",
    "# 0 + 1 + 2 + 3\n",
    "# -> 6\n",
    "\n",
    "# Also do without base case"
   ]
  },
  {
   "attachments": {},
   "cell_type": "markdown",
   "metadata": {},
   "source": [
    "## Recursion Basics\n",
    "\n",
    "In recursion, a function _calls itself_. Recursion is used when a problem can be easily divided into smaller problems of the same form.\n",
    "\n",
    "A recursive function has 2 components:\n",
    "\n",
    "- Base case: Simplest possible input and prevents infinite recursion.\n",
    "- Recursion step: Call the same function itself with a smaller/easier input to the function and act on the output of the smaller function call.\n",
    "\n",
    "Key steps to making a function recursive: figure out the base case and the recursive step for your problem.\n",
    "\n",
    "The steps of writing a recursive function:\n",
    "1. Given a large instance of a problem, how can you break the problem down into smaller pieces?\n",
    "   (ignore the base-case)\n",
    "2. What instances of the problem do you know the answer to? (base case)\n",
    "3. Put them together"
   ]
  },
  {
   "cell_type": "code",
   "execution_count": 23,
   "metadata": {},
   "outputs": [
    {
     "data": {
      "text/plain": [
       "17"
      ]
     },
     "execution_count": 23,
     "metadata": {},
     "output_type": "execute_result"
    }
   ],
   "source": [
    "# In addition to being able to call other functions, a function can call itself!\n",
    "# A function calling itself is \"recursion\"\n",
    "# NOTE: bewarned. As with while loops, these can go on forever\n",
    "# YOU MUST HAVE A BASE CASE!!\n",
    "\n",
    "def recSumList(x):\n",
    "    if len(x) == 1: #4,3,2,1\n",
    "        return x[0]\n",
    "    return x[0] + recSumList(x[1:])\n",
    "recSumList([1, 10, 2, 4])"
   ]
  },
  {
   "cell_type": "code",
   "execution_count": 24,
   "metadata": {},
   "outputs": [],
   "source": [
    "# Iterative Implementation of the same func?\n",
    "\n",
    "# For loops\n",
    "def sumList(x):\n",
    "    z=0\n",
    "    for i in x:\n",
    "        z += i\n",
    "    return z\n",
    "\n",
    "# While loops\n",
    "def sumList(x): \n",
    "    i=0\n",
    "    s=0\n",
    "    while i<len(x):\n",
    "        s+= x[i] \n",
    "        i+=1 \n",
    "    return s"
   ]
  },
  {
   "attachments": {},
   "cell_type": "markdown",
   "metadata": {},
   "source": [
    "### Factorial"
   ]
  },
  {
   "cell_type": "code",
   "execution_count": null,
   "metadata": {},
   "outputs": [],
   "source": [
    "# Definition of factorial: n! = n * (n - 1) * (n - 2) * ... * 3 * 2 * 1\n",
    "# Also, 1! = 1\n",
    "# How can you turn this into a recursion?\n",
    "# Recursive case: \n",
    "# Base case: 1! = 1\n",
    "#n! = n * (n - 1)!\n",
    "def factorial(n):\n",
    "    #n=5\n",
    "    #n=4\n",
    "    #n=3\n",
    "    #n=2\n",
    "    #n=1\n",
    "    if n==1: \n",
    "        return 1\n",
    "    return n*factorial(n-1)\n",
    "    #factorial(5)\n",
    "    #return 5*factorial(5-1)\n",
    "        #return 4*factorial(4-1)\n",
    "    #retrun 3*factorial(3-1)\n",
    "    #return 2*factorial(2-1)\n",
    "    #return 1\n",
    "print(factorial(5))\n",
    "\n",
    "\n",
    "def factorial2(n):\n",
    "    if n == 1:\n",
    "        return 1\n",
    "    return n * factorial(n - 1)\n",
    "\n",
    "print(factorial(1))\n",
    "print(factorial(2))\n",
    "print(factorial(3))\n",
    "print(factorial(4))"
   ]
  },
  {
   "attachments": {},
   "cell_type": "markdown",
   "metadata": {},
   "source": [
    "Some problems split into multiple smaller problems, rather than just 1 smaller problem...\n",
    "\n",
    "### Fibonacci\n",
    "\n",
    "See slides for visualization"
   ]
  },
  {
   "cell_type": "code",
   "execution_count": 26,
   "metadata": {},
   "outputs": [
    {
     "name": "stdout",
     "output_type": "stream",
     "text": [
      "1\n",
      "2\n",
      "3\n",
      "5\n",
      "987\n"
     ]
    }
   ],
   "source": [
    "# This is the fibonacci sequence\n",
    "# f(0) = 1\n",
    "# f(1) = 1\n",
    "# f(2) = f(1) + f(0) -> 1 + 1 -> 2\n",
    "# f(3) = f(2) + f(1) -> 2 + 1 -> 3\n",
    "# f(4) = f(3) + f(2)\n",
    "# f(n) = f(n - 1) + f(n - 2)\n",
    "\n",
    "# How can we write this with code?\n",
    "\n",
    "def fib(n):\n",
    "    if n == 0 or n == 1:\n",
    "        return 1\n",
    "    return fib(n - 1) + fib(n - 2)\n",
    "\n",
    "print(fib(1))\n",
    "print(fib(2))\n",
    "print(fib(3))\n",
    "print(fib(4))\n",
    "print(fib(15))"
   ]
  },
  {
   "attachments": {
    "image.png": {
     "image/png": "[encoded data removed]"
    }
   },
   "cell_type": "markdown",
   "metadata": {},
   "source": [
    "## Brief Aside on Trees\n",
    "\n",
    "We can draw a graph of the call structure to visualize what's going on. Each node is a distinct call. (Draw on board if available)\n",
    "\n",
    "![image.png](attachment:image.png)\n",
    "\n",
    "Since this graph has a root and no loops, we call it a \"tree\". "
   ]
  },
  {
   "attachments": {},
   "cell_type": "markdown",
   "metadata": {},
   "source": [
    "## Exponentiation"
   ]
  },
  {
   "cell_type": "code",
   "execution_count": null,
   "metadata": {},
   "outputs": [],
   "source": [
    "# Exponentiation\n",
    "def exp(base, power):\n",
    "    # our code here\n",
    "    return 0"
   ]
  },
  {
   "attachments": {},
   "cell_type": "markdown",
   "metadata": {},
   "source": [
    "### Extra Practice Problems"
   ]
  },
  {
   "cell_type": "code",
   "execution_count": 27,
   "metadata": {},
   "outputs": [],
   "source": [
    "# Question 1: Skip Add\n",
    "# Write a function skip_add that takes a single argument n and computes the sum of every other integers between 0 and n starting from n. Assume n is non-negative.\n",
    "def skip_add(n):\n",
    "    \"\"\" Takes a number x and returns x + x-2 + x-4 + x-6 + ... + 0.\n",
    "\n",
    "    >>> skip_add(5)  # 5 + 3 + 1 + 0\n",
    "    9\n",
    "    >>> skip_add(10) # 10 + 8 + 6 + 4 + 2 + 0\n",
    "    30\n",
    "    \"\"\"\n",
    "    \"*** YOUR CODE HERE ***\""
   ]
  },
  {
   "cell_type": "code",
   "execution_count": 28,
   "metadata": {},
   "outputs": [],
   "source": [
    "# Question 2: Common Misconception\n",
    "# Fix the error with the following recursive function.\n",
    "def count_up(n):\n",
    "    \"\"\"Print out all numbers up to and including n in ascending order.\n",
    "\n",
    "    >>> count_up(5)\n",
    "    1\n",
    "    2\n",
    "    3\n",
    "    4\n",
    "    5\n",
    "    \"\"\"\n",
    "    i = 1\n",
    "    if i == n:\n",
    "        return\n",
    "    print(i)\n",
    "    i += 1\n",
    "    count_up(n-1)"
   ]
  },
  {
   "cell_type": "code",
   "execution_count": 29,
   "metadata": {},
   "outputs": [],
   "source": [
    "# Question 3: Common Misconception\n",
    "# Fix the error with this recursive function.\n",
    "def skip_mul(n):\n",
    "    \"\"\"Return the product of n * (n - 2) * (n - 4) * ...\n",
    "\n",
    "    >>> skip_mul(5) # 5 * 3 * 1\n",
    "    15\n",
    "    >>> skip_mul(8) # 8 * 6 * 4 * 2  * 0\n",
    "    0\n",
    "    \"\"\"\n",
    "    if n == 0:\n",
    "        return 0\n",
    "    else:\n",
    "        return n * skip_mul(n - 2)"
   ]
  },
  {
   "cell_type": "code",
   "execution_count": 30,
   "metadata": {},
   "outputs": [],
   "source": [
    "# Question 4: Common Misconception\n",
    "# Fix the error with the following recursive function.\n",
    "def factorial(n):\n",
    "    \"\"\"Return n * (n - 1) * (n - 2) * ... * 1.\n",
    "\n",
    "    >>> factorial(5)\n",
    "    120\n",
    "    \"\"\"\n",
    "    if n == 0:\n",
    "        return 1\n",
    "    else:\n",
    "        n * factorial(n-1)"
   ]
  },
  {
   "cell_type": "code",
   "execution_count": 31,
   "metadata": {},
   "outputs": [],
   "source": [
    "# Question 5: Common Misconception\n",
    "# Fix the error with the following recursive function:\n",
    "def print_up_to(n):\n",
    "    \"\"\"Print every natural number up to n, inclusive.\n",
    "\n",
    "    >>> print_up_to(5)\n",
    "    1\n",
    "    2\n",
    "    3\n",
    "    4\n",
    "    5\n",
    "    \"\"\"\n",
    "    i = 1\n",
    "    if i > n:\n",
    "        return\n",
    "    else:\n",
    "        print(i)\n",
    "        i += 1\n",
    "        print_up_to(n)"
   ]
  },
  {
   "cell_type": "code",
   "execution_count": 32,
   "metadata": {},
   "outputs": [],
   "source": [
    "# Question 7: Hailstone\n",
    "# For the hailstone function from homework 1, you pick a positive integer n as the start. If n is even, divide it by 2. If n\n",
    "# is odd, multiply it by 3 and add 1. Repeat this process until n is 1. Write a recursive version of hailstone that prints out\n",
    "# the values of the sequence and returns the number of steps.\n",
    "def hailstone(n):\n",
    "    \"\"\"Print out the hailstone sequence starting at n, and return the\n",
    "    number of elements in the sequence.\n",
    "\n",
    "    >>> a = hailstone(10)\n",
    "    10\n",
    "    5\n",
    "    16\n",
    "    8\n",
    "    4\n",
    "    2\n",
    "    1\n",
    "    >>> a\n",
    "    7\n",
    "    \"\"\"\n",
    "    \"*** YOUR CODE HERE ***\""
   ]
  }
 ],
 "metadata": {
  "kernelspec": {
   "display_name": "Python 3",
   "language": "python",
   "name": "python3"
  },
  "language_info": {
   "codemirror_mode": {
    "name": "ipython",
    "version": 3
   },
   "file_extension": ".py",
   "mimetype": "text/x-python",
   "name": "python",
   "nbconvert_exporter": "python",
   "pygments_lexer": "ipython3",
   "version": "3.11.3"
  },
  "orig_nbformat": 4
 },
 "nbformat": 4,
 "nbformat_minor": 2
}
