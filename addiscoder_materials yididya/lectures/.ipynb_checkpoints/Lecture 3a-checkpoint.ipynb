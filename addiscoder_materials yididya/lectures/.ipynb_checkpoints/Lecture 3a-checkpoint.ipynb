{
 "cells": [
  {
   "cell_type": "markdown",
   "id": "f71bcb10",
   "metadata": {},
   "source": [
    "# Welcome back\n",
    "\n",
    "How was lab? Was anything confusing? "
   ]
  },
  {
   "cell_type": "markdown",
   "id": "d757d39e",
   "metadata": {},
   "source": [
    "# Review\n",
    "\n",
    "We covered:\n",
    "- What lists are\n",
    "- List and string indexing\n",
    "- Modifying lists\n",
    "- List and string slicing\n",
    "- Dictionaries (what they are, modification)"
   ]
  },
  {
   "cell_type": "code",
   "execution_count": 1,
   "id": "55f62824",
   "metadata": {},
   "outputs": [
    {
     "data": {
      "text/plain": [
       "[1, True, 'hello']"
      ]
     },
     "execution_count": 1,
     "metadata": {},
     "output_type": "execute_result"
    }
   ],
   "source": [
    "x = [1, True, \"hello\"]\n",
    "x"
   ]
  },
  {
   "cell_type": "code",
   "execution_count": 3,
   "id": "820c5efa",
   "metadata": {},
   "outputs": [
    {
     "data": {
      "text/plain": [
       "[1, False, 'hello']"
      ]
     },
     "execution_count": 3,
     "metadata": {},
     "output_type": "execute_result"
    }
   ],
   "source": [
    "x[1] = False\n",
    "x"
   ]
  },
  {
   "cell_type": "code",
   "execution_count": 4,
   "id": "33ffa88a",
   "metadata": {},
   "outputs": [
    {
     "data": {
      "text/plain": [
       "3"
      ]
     },
     "execution_count": 4,
     "metadata": {},
     "output_type": "execute_result"
    }
   ],
   "source": [
    "len(x)"
   ]
  },
  {
   "cell_type": "code",
   "execution_count": 5,
   "id": "c522f1f4",
   "metadata": {},
   "outputs": [
    {
     "data": {
      "text/plain": [
       "'hello'"
      ]
     },
     "execution_count": 5,
     "metadata": {},
     "output_type": "execute_result"
    }
   ],
   "source": [
    "y = \"hello\"\n",
    "y"
   ]
  },
  {
   "cell_type": "code",
   "execution_count": 6,
   "id": "6b16a29a",
   "metadata": {},
   "outputs": [
    {
     "data": {
      "text/plain": [
       "5"
      ]
     },
     "execution_count": 6,
     "metadata": {},
     "output_type": "execute_result"
    }
   ],
   "source": [
    "len(y)"
   ]
  },
  {
   "cell_type": "code",
   "execution_count": 7,
   "id": "06ba9b37",
   "metadata": {},
   "outputs": [
    {
     "data": {
      "text/plain": [
       "{1: 2, 3: 4, 4: 5}"
      ]
     },
     "execution_count": 7,
     "metadata": {},
     "output_type": "execute_result"
    }
   ],
   "source": [
    "x = {\n",
    "    1: 2,\n",
    "    3: 4,\n",
    "    4: 5\n",
    "}\n",
    "x"
   ]
  },
  {
   "cell_type": "code",
   "execution_count": 8,
   "id": "110f64e1",
   "metadata": {},
   "outputs": [
    {
     "data": {
      "text/plain": [
       "{1: 4, 3: 4, 4: 5}"
      ]
     },
     "execution_count": 8,
     "metadata": {},
     "output_type": "execute_result"
    }
   ],
   "source": [
    "x[1] = 4\n",
    "x"
   ]
  },
  {
   "cell_type": "code",
   "execution_count": 9,
   "id": "520dc43f",
   "metadata": {},
   "outputs": [
    {
     "data": {
      "text/plain": [
       "{1: 4, 3: 4, 4: 5, 10: 10}"
      ]
     },
     "execution_count": 9,
     "metadata": {},
     "output_type": "execute_result"
    }
   ],
   "source": [
    "x[10] = 10\n",
    "x"
   ]
  },
  {
   "cell_type": "markdown",
   "id": "0a084a98",
   "metadata": {},
   "source": [
    "# Review: conditionals"
   ]
  },
  {
   "cell_type": "markdown",
   "id": "aaaa22c1",
   "metadata": {},
   "source": [
    "The general syntax for conditionals is\n",
    "```python\n",
    "if <condition>:\n",
    "    <expression>\n",
    "elif <condition>:\n",
    "    <expression>\n",
    "else:\n",
    "    <expression>\n",
    "```\n",
    "\n",
    "A `<condition>` is an `<expression that evaluates to a boolean>`."
   ]
  },
  {
   "cell_type": "code",
   "execution_count": 35,
   "id": "e589da6d",
   "metadata": {},
   "outputs": [
    {
     "data": {
      "text/plain": [
       "'C'"
      ]
     },
     "execution_count": 35,
     "metadata": {},
     "output_type": "execute_result"
    }
   ],
   "source": [
    "numeric_grade = 75\n",
    "\n",
    "if numeric_grade > 90:\n",
    "    letter_grade = 'A'\n",
    "elif numeric_grade > 80:\n",
    "    letter_grade = 'B'\n",
    "elif numeric_grade > 70:\n",
    "    numeric_grade = 'C'\n",
    "elif numeric_grade > 60:\n",
    "    numeric_grade = 'D'\n",
    "else:\n",
    "    numeric_grade = 'F'\n",
    "\n",
    "numeric_grade"
   ]
  },
  {
   "cell_type": "markdown",
   "id": "66b0b226",
   "metadata": {},
   "source": [
    "# Repeated computation\n",
    "\n",
    "Now that we know what a conditional is, we will use boolean expressions in a different way. \n",
    "\n",
    "Often times, we want to repeat a comptuation a number of times."
   ]
  },
  {
   "cell_type": "code",
   "execution_count": 31,
   "id": "5008cf35",
   "metadata": {},
   "outputs": [
    {
     "name": "stdout",
     "output_type": "stream",
     "text": [
      "32587\n",
      "18\n",
      "43\n",
      "985\n",
      "274398\n"
     ]
    }
   ],
   "source": [
    "x = [32587, 18, 43, 985, 274398]\n",
    "print(x[0])\n",
    "print(x[1])\n",
    "print(x[2])\n",
    "print(x[3])\n",
    "print(x[4])"
   ]
  },
  {
   "cell_type": "markdown",
   "id": "9a66bc69",
   "metadata": {},
   "source": [
    "# We can do this with while loops!\n",
    "\n",
    "We'll start with some examples before defining the syntax"
   ]
  },
  {
   "cell_type": "code",
   "execution_count": 32,
   "id": "8e164c40",
   "metadata": {},
   "outputs": [
    {
     "name": "stdout",
     "output_type": "stream",
     "text": [
      "32587\n",
      "18\n",
      "43\n",
      "985\n",
      "274398\n"
     ]
    }
   ],
   "source": [
    "x = [32587, 18, 43, 985, 274398]\n",
    "\n",
    "\n",
    "index = 0\n",
    "while index < len(x):\n",
    "    print(x[index])\n",
    "    index += 1"
   ]
  },
  {
   "cell_type": "markdown",
   "id": "2847af08",
   "metadata": {},
   "source": [
    "# While loop syntax\n",
    "\n",
    "The syntax for while loops is:\n",
    "```python\n",
    "while <condition>:\n",
    "    <expression>\n",
    "```\n",
    "\n",
    "As with `if` statements, the `<condition>` can be anything that evaluates to a boolean. The `<expression>` can be complex."
   ]
  },
  {
   "cell_type": "code",
   "execution_count": 33,
   "id": "2067a774",
   "metadata": {},
   "outputs": [
    {
     "name": "stdout",
     "output_type": "stream",
     "text": [
      "0\n",
      "1\n",
      "2\n",
      "3\n",
      "4\n",
      "5\n",
      "6\n",
      "7\n",
      "8\n",
      "9\n"
     ]
    }
   ],
   "source": [
    "num = 0\n",
    "while num < 10:\n",
    "    print(num)\n",
    "    num += 1"
   ]
  },
  {
   "cell_type": "markdown",
   "id": "3833efcc",
   "metadata": {},
   "source": [
    "# IMPORTANT: THE WHILE LOOP MUST TERMINATE"
   ]
  },
  {
   "cell_type": "code",
   "execution_count": null,
   "id": "b6c47df3",
   "metadata": {},
   "outputs": [],
   "source": [
    "# WARNING\n",
    "# WARNING\n",
    "# WARNING\n",
    "# DO NOT RUN THIS\n",
    "\n",
    "while True:\n",
    "    print('hi')"
   ]
  },
  {
   "cell_type": "code",
   "execution_count": null,
   "id": "8c8deb3c",
   "metadata": {},
   "outputs": [],
   "source": [
    "# WARNING\n",
    "# WARNING\n",
    "# WARNING\n",
    "# DO NOT RUN THIS\n",
    "\n",
    "num = 0\n",
    "while num < 10:\n",
    "    print(num)"
   ]
  },
  {
   "cell_type": "markdown",
   "id": "1c49ea84",
   "metadata": {},
   "source": [
    "# While loops can contain conditionals!"
   ]
  },
  {
   "cell_type": "code",
   "execution_count": 36,
   "id": "fca99b5c",
   "metadata": {},
   "outputs": [
    {
     "name": "stdout",
     "output_type": "stream",
     "text": [
      "0\n",
      "2\n",
      "4\n",
      "6\n",
      "8\n"
     ]
    }
   ],
   "source": [
    "num = 0\n",
    "while num < 10:\n",
    "    if num % 2 == 0:\n",
    "        print(num)\n",
    "    num += 1"
   ]
  },
  {
   "cell_type": "markdown",
   "id": "82c40005",
   "metadata": {},
   "source": [
    "# You can do complex things now!"
   ]
  },
  {
   "cell_type": "code",
   "execution_count": 37,
   "id": "c81b1761",
   "metadata": {},
   "outputs": [
    {
     "name": "stdout",
     "output_type": "stream",
     "text": [
      "1\n",
      "2\n",
      "4\n",
      "8\n",
      "16\n"
     ]
    }
   ],
   "source": [
    "num = 1\n",
    "while num < 20:\n",
    "    print(num)\n",
    "    num = num * 2"
   ]
  },
  {
   "cell_type": "code",
   "execution_count": 41,
   "id": "b0b73dd6",
   "metadata": {},
   "outputs": [
    {
     "name": "stdout",
     "output_type": "stream",
     "text": [
      "1\n",
      "1\n",
      "2\n",
      "3\n",
      "5\n",
      "8\n",
      "13\n",
      "21\n",
      "34\n",
      "55\n",
      "89\n",
      "144\n",
      "233\n",
      "377\n",
      "610\n"
     ]
    }
   ],
   "source": [
    "a = 1\n",
    "b = 1\n",
    "num = 0\n",
    "\n",
    "while num < 15:\n",
    "    print(a)\n",
    "    c = a + b\n",
    "    a = b\n",
    "    b = c\n",
    "    num += 1"
   ]
  },
  {
   "cell_type": "markdown",
   "id": "41e039c9",
   "metadata": {},
   "source": [
    "# Advanced topic: motivation for functions\n",
    "\n",
    "Many times, we want to do the same computation on many different inputs. \n",
    "\n",
    "Right now, it's quite annoying"
   ]
  },
  {
   "cell_type": "code",
   "execution_count": 43,
   "id": "4ea6ba5d",
   "metadata": {},
   "outputs": [
    {
     "name": "stdout",
     "output_type": "stream",
     "text": [
      "1\n",
      "1\n",
      "2\n",
      "3\n",
      "5\n",
      "8\n",
      "13\n",
      "21\n"
     ]
    }
   ],
   "source": [
    "# Compute the 8th fibonacci number\n",
    "\n",
    "a = 1\n",
    "b = 1\n",
    "num = 0\n",
    "\n",
    "while num < 8:\n",
    "    print(a)\n",
    "    c = a + b\n",
    "    a = b\n",
    "    b = c\n",
    "    num += 1"
   ]
  },
  {
   "cell_type": "code",
   "execution_count": 42,
   "id": "308f7cfc",
   "metadata": {},
   "outputs": [
    {
     "name": "stdout",
     "output_type": "stream",
     "text": [
      "1\n",
      "1\n",
      "2\n",
      "3\n",
      "5\n",
      "8\n",
      "13\n",
      "21\n",
      "34\n",
      "55\n",
      "89\n",
      "144\n",
      "233\n",
      "377\n",
      "610\n"
     ]
    }
   ],
   "source": [
    "# Compute the 15th fibonacci number\n",
    "\n",
    "a = 1\n",
    "b = 1\n",
    "num = 0\n",
    "\n",
    "while num < 15:\n",
    "    print(a)\n",
    "    c = a + b\n",
    "    a = b\n",
    "    b = c\n",
    "    num += 1"
   ]
  },
  {
   "cell_type": "markdown",
   "id": "66d6649e",
   "metadata": {},
   "source": [
    "# Functions\n",
    "\n",
    "Can we avoid repeating this kind of computation? Yes we can!\n",
    "\n",
    "We will use _function_.\n",
    "\n",
    "As before, we'll start with examples, describe the syntax, and go through more examples."
   ]
  },
  {
   "cell_type": "code",
   "execution_count": 45,
   "id": "afff4735",
   "metadata": {},
   "outputs": [
    {
     "data": {
      "text/plain": [
       "21"
      ]
     },
     "execution_count": 45,
     "metadata": {},
     "output_type": "execute_result"
    }
   ],
   "source": [
    "def fibonacci(nth):\n",
    "    a = 1\n",
    "    b = 1\n",
    "    num = 0\n",
    "\n",
    "    while num < nth - 1:\n",
    "        c = a + b\n",
    "        a = b\n",
    "        b = c\n",
    "        num += 1\n",
    "    return a\n",
    "\n",
    "fibonacci(8)"
   ]
  },
  {
   "cell_type": "code",
   "execution_count": 46,
   "id": "98454339",
   "metadata": {},
   "outputs": [
    {
     "data": {
      "text/plain": [
       "610"
      ]
     },
     "execution_count": 46,
     "metadata": {},
     "output_type": "execute_result"
    }
   ],
   "source": [
    "fibonacci(15)"
   ]
  },
  {
   "cell_type": "markdown",
   "id": "484fe8c8",
   "metadata": {},
   "source": [
    "# Syntax for functions\n",
    "\n",
    "The general syntax for functions is:\n",
    "```python\n",
    "def function_name(<arguments>):\n",
    "    <body>\n",
    "    return <expression>\n",
    "```\n",
    "\n",
    "There are several things to note about the syntax (we will go through examples):\n",
    "- You can have zero, one, or more arguments.\n",
    "- You need the `:` after the function\n",
    "- The body can be complex!\n",
    "- You technically don't need a return statement at the end, but we will almost alway have a return at the end"
   ]
  },
  {
   "cell_type": "code",
   "execution_count": 48,
   "id": "9777f95a",
   "metadata": {},
   "outputs": [
    {
     "data": {
      "text/plain": [
       "30"
      ]
     },
     "execution_count": 48,
     "metadata": {},
     "output_type": "execute_result"
    }
   ],
   "source": [
    "def add_two_numbers(x, y):\n",
    "    return x + y\n",
    "\n",
    "add_two_numbers(10, 20)"
   ]
  },
  {
   "cell_type": "code",
   "execution_count": 49,
   "id": "04b39bae",
   "metadata": {},
   "outputs": [
    {
     "ename": "SyntaxError",
     "evalue": "invalid syntax (1189982192.py, line 1)",
     "output_type": "error",
     "traceback": [
      "\u001b[0;36m  File \u001b[0;32m\"/tmp/ipykernel_830477/1189982192.py\"\u001b[0;36m, line \u001b[0;32m1\u001b[0m\n\u001b[0;31m    def add_two_numbers(x, y)\u001b[0m\n\u001b[0m                             ^\u001b[0m\n\u001b[0;31mSyntaxError\u001b[0m\u001b[0;31m:\u001b[0m invalid syntax\n"
     ]
    }
   ],
   "source": [
    "def add_two_numbers(x, y)\n",
    "    return x + y\n",
    "\n",
    "add_two_numbers(10, 20)"
   ]
  },
  {
   "cell_type": "code",
   "execution_count": 50,
   "id": "1dff37ec",
   "metadata": {},
   "outputs": [],
   "source": [
    "def add_two_numbers(x, y):\n",
    "    x + y\n",
    "\n",
    "add_two_numbers(10, 20)"
   ]
  },
  {
   "cell_type": "markdown",
   "id": "bdb04d52",
   "metadata": {},
   "source": [
    "# Functions are a complex topic!\n",
    "\n",
    "Pay close attention to the exercises. Think of interesting functions to write!"
   ]
  },
  {
   "cell_type": "code",
   "execution_count": 51,
   "id": "3429c27c",
   "metadata": {},
   "outputs": [],
   "source": [
    "def fahrenheit_to_celsius(f):\n",
    "    # ???\n",
    "    return 0"
   ]
  },
  {
   "cell_type": "code",
   "execution_count": 52,
   "id": "6c4e8682",
   "metadata": {},
   "outputs": [],
   "source": [
    "def celsius_to_fahrenheit(f):\n",
    "    # ???\n",
    "    return 0"
   ]
  },
  {
   "cell_type": "code",
   "execution_count": null,
   "id": "d03ff4fb",
   "metadata": {},
   "outputs": [],
   "source": []
  }
 ],
 "metadata": {
  "kernelspec": {
   "display_name": "Python 3 (ipykernel)",
   "language": "python",
   "name": "python3"
  },
  "language_info": {
   "codemirror_mode": {
    "name": "ipython",
    "version": 3
   },
   "file_extension": ".py",
   "mimetype": "text/x-python",
   "name": "python",
   "nbconvert_exporter": "python",
   "pygments_lexer": "ipython3",
   "version": "3.9.16"
  }
 },
 "nbformat": 4,
 "nbformat_minor": 5
}
