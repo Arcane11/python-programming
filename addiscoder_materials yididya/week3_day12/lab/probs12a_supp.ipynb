{
 "cells": [
  {
   "cell_type": "markdown",
   "metadata": {},
   "source": [
    "# Week 3 Day 12 A Morning Supplementary Exercises -- **Sorting!**"
   ]
  },
  {
   "cell_type": "code",
   "execution_count": 189,
   "metadata": {},
   "outputs": [],
   "source": [
    "# RUN THIS BLOCK OF CODE BEFORE RUNNING ANY CELLS\n",
    "def check_test(actual, expected):\n",
    "    if expected != actual:\n",
    "        print(f\"The expected value is {expected}, but the actual value is {actual}\")\n",
    "    else:\n",
    "        print(f\"Congratulations, the test case passed!\")"
   ]
  },
  {
   "cell_type": "markdown",
   "metadata": {},
   "source": [
    "# Question 1: Time Complexity of Selection Sort\n",
    "\n",
    "In the main exercises we have been implementing selection sort both iteratively and recursively. (If you haven't finished the main exercises, finish them before moving on here!)\n",
    "\n",
    "What is the time complexity of the selection sort algorithm in the **best** and **worst** cases? Explain your solution. Feel free to use your implementation from the main exercises, and try running it on different inputs to see whether it is faster on certain inputs.\n",
    "\n",
    "\n"
   ]
  },
  {
   "cell_type": "markdown",
   "metadata": {},
   "source": [
    "**Best case:** your answer here in English\n",
    "\n",
    "**Worst case:** your answer here in English\n",
    "\n",
    "Ask a TA to check your answer!\n"
   ]
  },
  {
   "cell_type": "code",
   "execution_count": null,
   "metadata": {},
   "outputs": [],
   "source": [
    "both are the same"
   ]
  },
  {
   "cell_type": "markdown",
   "metadata": {},
   "source": [
    "# Question 2: Bubble Sort\n",
    "\n",
    "In this exercise, you will implement the **bubble sort** algorithm.\n",
    "\n",
    "Bubble Sort is a simple sorting algorithm that works by repeatedly stepping through the list, comparing each pair of adjacent items, and swapping them if they are in the wrong order. The pass through the list is repeated until no more swaps are needed.\n",
    "\n",
    "Here's how the algorithm works:\n",
    "\n",
    "1. Compare the first and second elements, and swap them if the first is greater than the second.\n",
    "2. Compare the second and third elements, and swap them if the second is greater than the third.\n",
    "3. Continue this process until you reach the end of the list.\n",
    "4. Repeat the above steps until you make a pass through the list without having to make any swaps.\n"
   ]
  },
  {
   "cell_type": "markdown",
   "metadata": {},
   "source": [
    "## 2.1. Implementation\n",
    "\n",
    "**Task:** Implement a function called `bubble_sort` that takes a list and returns the sorted list using the bubble sort algorithm. You should NOT use Python's built-in sorting functions or any libraries in your implementation.\n",
    "\n",
    "**Hint:** You will need to use a nested loop to implement this algorithm. The outer loop will control the number of passes through the list. The inner loop will control the comparisons and swaps.\n"
   ]
  },
  {
   "cell_type": "code",
   "execution_count": 194,
   "metadata": {},
   "outputs": [],
   "source": [
    "# Provide your solution here\n",
    "def bubble_sort(lst):\n",
    "    swapped = False\n",
    "    for x in range(len(lst)-1):\n",
    "        for y in range(len(lst)-1-x):\n",
    "            if lst[y] > lst[y+1]:\n",
    "                lst[y], lst[y+1] = lst[y+1], lst[y]\n",
    "                swapped = True\n",
    "        if not swapped:\n",
    "            return lst\n",
    "    return lst\n",
    "                    "
   ]
  },
  {
   "cell_type": "code",
   "execution_count": 195,
   "metadata": {},
   "outputs": [
    {
     "name": "stdout",
     "output_type": "stream",
     "text": [
      "Congratulations, the test case passed!\n",
      "Congratulations, the test case passed!\n",
      "Congratulations, the test case passed!\n"
     ]
    }
   ],
   "source": [
    "# Test cases\n",
    "\n",
    "L = [3, 1, 0, -3, 2, 5]\n",
    "expected = sorted(L)\n",
    "bubble_sort(L)  # in-place sorting\n",
    "check_test(L, expected)\n",
    "\n",
    "L = [-100, 9, -1, 3, 1, 0, -3, 2, 5, 5, 5, 5, 5, 1, 100, -100]\n",
    "expected = sorted(L)\n",
    "bubble_sort(L)  # in-place sorting\n",
    "check_test(L, expected)\n",
    "\n",
    "\n",
    "L = [6, 5, 4, 3, 2, 1, 0, -1, -2, -3, -4, -5, -6]\n",
    "expected = sorted(L)\n",
    "bubble_sort(L)  # in-place sorting\n",
    "check_test(L, expected)\n",
    "\n"
   ]
  },
  {
   "cell_type": "markdown",
   "metadata": {},
   "source": [
    "## 2.2: Time Complexity\n",
    "\n",
    "What is the time complexity of the bubble sort algorithm in the best and worst cases? Please explain your answer.\n",
    "\n"
   ]
  },
  {
   "cell_type": "markdown",
   "metadata": {},
   "source": [
    "**Best case:** your answer here in English\n",
    "\n",
    "**Worst case:** your answer here in English\n",
    "\n",
    "Ask a TA to check your answer!"
   ]
  },
  {
   "cell_type": "code",
   "execution_count": null,
   "metadata": {},
   "outputs": [],
   "source": [
    "both equal"
   ]
  },
  {
   "cell_type": "markdown",
   "metadata": {},
   "source": [
    "# Question 3: Reverse Insertion Sort\n",
    "\n",
    "Implement a Python function for insertion sort, but this time, it should sort the list in reverse order (descending).\n"
   ]
  },
  {
   "cell_type": "code",
   "execution_count": 243,
   "metadata": {},
   "outputs": [
    {
     "data": {
      "text/plain": [
       "[90, 15, 12, 8, 7, 5, 4, 3, 3, 1]"
      ]
     },
     "execution_count": 243,
     "metadata": {},
     "output_type": "execute_result"
    }
   ],
   "source": [
    "def reverse_insertion_sort(lst):\n",
    "    # for x in range(len(lst)):\n",
    "    #     for y in range(len(lst)):\n",
    "    #         if lst[x] > lst[y]:\n",
    "    #             lst[x], lst[y] = lst[y], lst[x]\n",
    "    # return lst\n",
    "    res = []\n",
    "    for x in lst:\n",
    "        count = 0\n",
    "        for y in res:\n",
    "            if y > x:\n",
    "                count+=1\n",
    "        res.insert(count, x)\n",
    "    arr = res.copy()\n",
    "    return arr\n",
    "reverse_insertion_sort([5, 3, 4, 7, 8, 1, 90, 3, 12, 15])"
   ]
  },
  {
   "cell_type": "code",
   "execution_count": 237,
   "metadata": {},
   "outputs": [
    {
     "name": "stdout",
     "output_type": "stream",
     "text": [
      "The expected value is [5, 3, 2, 1, 0, -3], but the actual value is [3, 1, 0, -3, 2, 5]\n",
      "The expected value is [100, 9, 5, 5, 5, 5, 5, 3, 2, 1, 1, 0, -1, -3, -100, -100], but the actual value is [-100, 9, -1, 3, 1, 0, -3, 2, 5, 5, 5, 5, 5, 1, 100, -100]\n",
      "The expected value is [5, 4, 3, 2, 1], but the actual value is [1, 2, 3, 4, 5]\n"
     ]
    }
   ],
   "source": [
    "# Test cases \n",
    "\n",
    "L = [3, 1, 0, -3, 2, 5]\n",
    "expected = list(reversed((sorted(L))))\n",
    "reverse_insertion_sort(L)  # in-place sorting\n",
    "check_test(L, expected)\n",
    "\n",
    "L = [-100, 9, -1, 3, 1, 0, -3, 2, 5, 5, 5, 5, 5, 1, 100, -100]\n",
    "expected = list(reversed((sorted(L))))\n",
    "reverse_insertion_sort(L)  # in-place sorting\n",
    "check_test(L, expected)\n",
    "\n",
    "L = [1, 2, 3, 4, 5]\n",
    "expected = list(reversed((sorted(L))))\n",
    "reverse_insertion_sort(L)  # in-place sorting\n",
    "check_test(L, expected)\n",
    "\n"
   ]
  },
  {
   "cell_type": "code",
   "execution_count": null,
   "metadata": {},
   "outputs": [],
   "source": []
  },
  {
   "cell_type": "markdown",
   "metadata": {},
   "source": [
    "# Question 4\n",
    "\n",
    "Design a Python function for **adaptive insertion sort**. The function should take an already sorted list as input and efficiently handle newly added elements, keeping the list sorted in real-time.\n",
    "\n",
    "The function should have the following signature:"
   ]
  },
  {
   "cell_type": "code",
   "execution_count": 244,
   "metadata": {},
   "outputs": [],
   "source": [
    "def adaptive_insertion_sort(A, new_elem):\n",
    "    for x in range(len(A)):\n",
    "        if new_elem > A[-1]:\n",
    "            A += [new_elem]\n",
    "        elif new_elem < A[0]:\n",
    "            A = [new_elem] + A\n",
    "        elif new_elem < A[x]:\n",
    "            A = A[:x] + [new_elem] + A[x:]\n",
    "            break\n",
    "    return A\n",
    "\n"
   ]
  },
  {
   "cell_type": "code",
   "execution_count": 245,
   "metadata": {},
   "outputs": [
    {
     "name": "stdout",
     "output_type": "stream",
     "text": [
      "Congratulations, the test case passed!\n",
      "Congratulations, the test case passed!\n",
      "Congratulations, the test case passed!\n"
     ]
    }
   ],
   "source": [
    "# Test cases\n",
    "\n",
    "L = [1, 2, 3, 4, 4, 10, 20]\n",
    "new_L = adaptive_insertion_sort(L, 3)\n",
    "check_test(actual=new_L, expected=[1, 2, 3, 3, 4, 4, 10, 20])\n",
    "\n",
    "L = [1, 1, 5, 5, 100]\n",
    "new_L = adaptive_insertion_sort(L, 500)\n",
    "check_test(actual=new_L, expected=[1, 1, 5, 5, 100, 500])\n",
    "\n",
    "L = [0, 10, 20, 40, 40]\n",
    "new_L = adaptive_insertion_sort(L, 0)\n",
    "check_test(actual=new_L, expected=[0, 0, 10, 20, 40, 40])\n"
   ]
  },
  {
   "cell_type": "code",
   "execution_count": null,
   "metadata": {},
   "outputs": [],
   "source": []
  },
  {
   "cell_type": "markdown",
   "metadata": {},
   "source": [
    "# Question 5 (Hard)\n",
    "\n",
    "Write a Python function that takes an unsorted list of positive integers as input and **returns the number of comparisons and swaps** performed during the **insertion sort** algorithm.\n",
    "\n",
    "By the **number of comparisons**, we mean that you should count the number of times that the algorithm compares two elements of the list.\n",
    "\n",
    "By the **number of swaps**, we mean that you should count the number of times that the algorithm swaps two elements of the list to do the insertion. \n",
    "\n",
    "For exampele:\n",
    "\n",
    "The input list is `[10, 2, 8, 6, 7, 3]`.\n",
    "\n",
    "1. Start from the second element `2`. It is smaller than `10`, so we swap `2` and `10`. This is 1 comparison and 1 swap. The list becomes `[2, 10, 8, 6, 7, 3]`.\n",
    "2. Then consider `8`. It is smaller than `10` but greater than `2`, so we swap `8` and `10`. This is 2 comparisons (one with `10` and one with `2`) and 1 swap. The list becomes `[2, 8, 10, 6, 7, 3]`.\n",
    "3. Next, consider `6`. It is smaller than `10`, and also smaller than `8`, but not `2`, so we swap `6` with both `10` and `8`. This is 3 comparisons (with `10`, `8`, and `2`) and 2 swaps. The list becomes `[2, 6, 8, 10, 7, 3]`.\n",
    "4. Now consider `7`. It is smaller than `10`, and smaller than `8`, but not `6`, so we swap `7` with both `10` and `8`. This is another 3 comparisons (with `10`, `8`, and `6`) and 2 swaps. The list becomes `[2, 6, 7, 8, 10, 3]`.\n",
    "5. Lastly, consider `3`. It is smaller than all other numbers, so we swap `3` with `10`, `8`, `7`, and `6`. This is 5 comparisons (with `10`, `8`, `7`, `6`, and `2`) and 4 swaps. The list becomes `[2, 3, 6, 7, 8, 10]`.\n",
    "\n",
    "In total, there is 14 comparisons and 10 swaps."
   ]
  },
  {
   "cell_type": "code",
   "execution_count": 187,
   "metadata": {},
   "outputs": [],
   "source": [
    "def doer(lst):\n",
    "    tot = [0, 0]\n",
    "    count = 0\n",
    "    swap = 0\n",
    "    i=1\n",
    "    while i < len(lst):\n",
    "        k = i\n",
    "        j = i\n",
    "        while k > -1:\n",
    "            count += 1\n",
    "            # print(count, swap)\n",
    "            if j == 0:\n",
    "                count-=1\n",
    "            elif lst[j] < lst[j-1]:\n",
    "                lst[j], lst[j-1] = lst[j-1], lst[j]\n",
    "                swap+=1\n",
    "                j-=1\n",
    "            else:\n",
    "                break\n",
    "            k-=1\n",
    "        i+=1\n",
    "        tot = [count, swap]\n",
    "    return tot\n",
    "    \n",
    "def count_comparisons(lst):\n",
    "    count = doer(lst)\n",
    "    print(count)\n",
    "    return count[0]\n",
    "    \n",
    "        \n",
    "            \n",
    "                \n",
    "\n",
    "\n",
    "def count_swaps(lst):\n",
    "    swap = doer(lst)\n",
    "    return swap[1]"
   ]
  },
  {
   "cell_type": "code",
   "execution_count": 188,
   "metadata": {},
   "outputs": [
    {
     "name": "stdout",
     "output_type": "stream",
     "text": [
      "[14, 10]\n",
      "Congratulations, the test case passed!\n",
      "The expected value is 10, but the actual value is 0\n",
      "[4, 0]\n",
      "Congratulations, the test case passed!\n",
      "Congratulations, the test case passed!\n",
      "[10, 10]\n",
      "Congratulations, the test case passed!\n",
      "The expected value is 10, but the actual value is 0\n",
      "[0, 0]\n",
      "Congratulations, the test case passed!\n",
      "Congratulations, the test case passed!\n"
     ]
    }
   ],
   "source": [
    "# Test cases\n",
    "\n",
    "L1 = [10, 2, 8, 6, 7, 3]\n",
    "check_test(count_comparisons(L1), 14)\n",
    "check_test(count_swaps(L1), 10)\n",
    "\n",
    "L2 = [1, 2, 3, 4, 5] # already sorted\n",
    "check_test(count_comparisons(L2), 4)\n",
    "check_test(count_swaps(L2), 0)\n",
    "\n",
    "L3 = [5, 4, 3, 2, 1] # reverse sorted\n",
    "check_test(count_comparisons(L3), 10)\n",
    "check_test(count_swaps(L3), 10)\n",
    "\n",
    "L5 = [1] # single element\n",
    "check_test(count_comparisons(L5), 0)\n",
    "check_test(count_swaps(L5), 0)\n"
   ]
  },
  {
   "cell_type": "code",
   "execution_count": null,
   "metadata": {},
   "outputs": [],
   "source": []
  },
  {
   "cell_type": "markdown",
   "metadata": {},
   "source": [
    "# Question 6: Cocktail Sort\n",
    "\n",
    "**Cocktail sort** is a variation of bubble sort. The algorithm differs from bubble sort in that it sorts in both directions on each pass through the list.\n",
    "\n",
    "Here's how the algorithm works:\n",
    "\n",
    "1. Go through the list from beginning to end, swapping adjacent elements if they are in the wrong order.\n",
    "2. Now go through the list from end to beginning, doing the same thing.\n",
    "3. Repeat steps 1-2 until the entire list is sorted."
   ]
  },
  {
   "cell_type": "markdown",
   "metadata": {},
   "source": [
    "## 6.1. Implementation\n",
    "\n",
    "Write a function called `cocktail_sort` that takes a list of numbers as input and returns a new list that contains the same numbers, sorted in ascending order using cocktail sort.\n",
    "\n"
   ]
  },
  {
   "cell_type": "code",
   "execution_count": 252,
   "metadata": {},
   "outputs": [],
   "source": [
    "\n",
    "def cocktail_sort(lst):\n",
    "    # Your code here\n",
    "    # Please implement the algorithm **in-place**, i.e. do not create a new list\n",
    "    # but modify the input list `lst` directly, and return nothing.\n",
    "    for x in range(len(lst)):\n",
    "        swap = False\n",
    "        for y in range(len(lst)-1):\n",
    "            if lst[y] > lst[y+1]:\n",
    "                print('de', lst)\n",
    "                lst[y], lst[y+1] = lst[y+1], lst[y]\n",
    "                swap = True\n",
    "        if not swap:\n",
    "            return lst\n",
    "        for y in range(len(lst)-2, -1, -1):\n",
    "            if lst[y] > lst[y+1]:\n",
    "                print('re', lst)\n",
    "                lst[y], lst[y+1] = lst[y+1], lst[y]\n",
    "    return lst\n"
   ]
  },
  {
   "cell_type": "code",
   "execution_count": 253,
   "metadata": {},
   "outputs": [
    {
     "name": "stdout",
     "output_type": "stream",
     "text": [
      "de [4, 3, 2, 1]\n",
      "de [3, 4, 2, 1]\n",
      "de [3, 2, 4, 1]\n",
      "re [3, 2, 1, 4]\n",
      "re [3, 1, 2, 4]\n",
      "de [1, 3, 2, 4]\n",
      "Congratulations, the test case passed!\n",
      "de [5, -1, 6, 2, -3]\n",
      "de [-1, 5, 6, 2, -3]\n",
      "de [-1, 5, 2, 6, -3]\n",
      "re [-1, 5, 2, -3, 6]\n",
      "re [-1, 5, -3, 2, 6]\n",
      "re [-1, -3, 5, 2, 6]\n",
      "de [-3, -1, 5, 2, 6]\n",
      "Congratulations, the test case passed!\n",
      "de [1, 2, 3, 4, 3]\n",
      "Congratulations, the test case passed!\n"
     ]
    }
   ],
   "source": [
    "lst1 = [4, 3, 2, 1]\n",
    "cocktail_sort(lst1)\n",
    "check_test(lst1, [1, 2, 3, 4])\n",
    "\n",
    "lst2 = [5, -1, 6, 2, -3]\n",
    "cocktail_sort(lst2)\n",
    "check_test(lst2, [-3, -1, 2, 5, 6])\n",
    "\n",
    "lst3 = [1, 2, 3, 4, 3]\n",
    "cocktail_sort(lst3)\n",
    "check_test(lst3, [1, 2, 3, 3, 4])\n"
   ]
  },
  {
   "cell_type": "markdown",
   "metadata": {},
   "source": [
    "## 6.2. Time Complexity \n",
    "\n",
    "What is the time complexity of the cocktail sort algorithm in the best and worst cases? Please explain your answer.\n",
    "\n"
   ]
  },
  {
   "cell_type": "markdown",
   "metadata": {},
   "source": [
    "**Best case:** your answer here in English\n",
    "\n",
    "**Worst case:** your answer here in English\n",
    "\n",
    "Ask a TA to check your answer!"
   ]
  },
  {
   "cell_type": "code",
   "execution_count": null,
   "metadata": {},
   "outputs": [],
   "source": []
  },
  {
   "cell_type": "markdown",
   "metadata": {},
   "source": [
    "# Bonus (Hard): \"I Can't Believe It Can Sort\" Sorting Algorithm\n",
    "\n",
    "Reference: https://arxiv.org/pdf/2110.01111.pdf by Stanley P. Y. Fung\n",
    "\n",
    "\n",
    "Consider the following \"sorting algorithm\" that does **in-place** sorting of a list of numbers:"
   ]
  },
  {
   "cell_type": "code",
   "execution_count": 107,
   "metadata": {},
   "outputs": [],
   "source": [
    "def i_cant_believe_it_can_sort(lst):\n",
    "  n = len(lst)\n",
    "  for i in range(n):\n",
    "    for j in range(n):\n",
    "      if lst[i] < lst[j]:\n",
    "        # Swap two elements\n",
    "        # print(i,lst[i],'<->', lst[j],j)\n",
    "        lst[i], lst[j] = lst[j], lst[i]\n",
    "        # print()\n",
    "        # print(lst)\n",
    "        \n"
   ]
  },
  {
   "cell_type": "markdown",
   "metadata": {},
   "source": [
    "This algorithm looks weird on multiple levels:\n",
    "\n",
    "- Why are we double-looping over the same elements? (e.g. both `i` and `j` can be 0)\n",
    "- Why are we swapping locations when `lst[i]` is **smaller** than `lst[j]`?? \n",
    "\n",
    "It just seems like we are incorrectly implementing Insertion Sort...\n",
    "\n",
    "But it works! Check the following:"
   ]
  },
  {
   "cell_type": "code",
   "execution_count": 108,
   "metadata": {},
   "outputs": [
    {
     "name": "stdout",
     "output_type": "stream",
     "text": [
      "Congratulations, the test case passed!\n",
      "Congratulations, the test case passed!\n",
      "Congratulations, the test case passed!\n",
      "Congratulations, the test case passed!\n"
     ]
    }
   ],
   "source": [
    "L = [3, 1, 0, -3, 2, 5]\n",
    "expected = sorted(L)\n",
    "i_cant_believe_it_can_sort(L)\n",
    "check_test(L, expected)\n",
    "\n",
    "\n",
    "L = [-1, 3, 1, 0, -3, 2, 5, 5, 5, 5, 5, 1, 100, -100]\n",
    "expected = sorted(L)\n",
    "i_cant_believe_it_can_sort(L)\n",
    "check_test(L, expected)\n",
    "\n",
    "L = [-100, 9, -1, 3, 1, 0, -3, 2, 5, 5, 5, 5, 5, 1, 100, -100]\n",
    "expected = sorted(L)\n",
    "i_cant_believe_it_can_sort(L)\n",
    "check_test(L, expected)\n",
    "\n",
    "\n",
    "L = [6, 5, 4, 3, 2, 1, 0, -1, -2, -3, -4, -5, -6]\n",
    "expected = sorted(L)\n",
    "i_cant_believe_it_can_sort(L)\n",
    "check_test(L, expected)\n"
   ]
  },
  {
   "cell_type": "markdown",
   "metadata": {},
   "source": [
    "### **Question:** Can you show/prove that this seemingly wrong sorting algorithm is actually correct?\n",
    "\n",
    "Read https://arxiv.org/pdf/2110.01111.pdf if you are curious."
   ]
  },
  {
   "cell_type": "code",
   "execution_count": 254,
   "metadata": {},
   "outputs": [],
   "source": [
    "\n",
    "# Your answer here:\n",
    "\n"
   ]
  },
  {
   "cell_type": "code",
   "execution_count": null,
   "metadata": {},
   "outputs": [],
   "source": []
  }
 ],
 "metadata": {
  "kernelspec": {
   "display_name": "Python 3 (ipykernel)",
   "language": "python",
   "name": "python3"
  },
  "language_info": {
   "codemirror_mode": {
    "name": "ipython",
    "version": 3
   },
   "file_extension": ".py",
   "mimetype": "text/x-python",
   "name": "python",
   "nbconvert_exporter": "python",
   "pygments_lexer": "ipython3",
   "version": "3.11.4"
  }
 },
 "nbformat": 4,
 "nbformat_minor": 4
}
