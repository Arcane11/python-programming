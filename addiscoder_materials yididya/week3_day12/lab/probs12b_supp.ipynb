{
 "cells": [
  {
   "cell_type": "markdown",
   "metadata": {},
   "source": [
    "# Week 3 Day 12b Supplementary Exercises"
   ]
  },
  {
   "cell_type": "code",
   "execution_count": 3,
   "metadata": {},
   "outputs": [],
   "source": [
    "#This function is for testing, do not modify\n",
    "def check(actual, expected):\n",
    "    if expected != actual:\n",
    "        print(f\"Function should return the value {expected}, it is returning the value {actual}\")\n",
    "    else:\n",
    "        print(f\"Congratulations, the test case passed!\")"
   ]
  },
  {
   "cell_type": "markdown",
   "metadata": {},
   "source": [
    "For `quicksort`, pivot selection can be critical in determining the overall algorithmic performance. For example, if the pivot selection algorithm always selects the last value of the list and the list is already sorted, then the resultant partitions will be imbalanced. Lets try a quick sort with a different pivot selection technique to avoid such an issue!"
   ]
  },
  {
   "cell_type": "code",
   "execution_count": 19,
   "metadata": {},
   "outputs": [
    {
     "name": "stdout",
     "output_type": "stream",
     "text": [
      "[3, 5, 6, 7, 9]\n",
      "[4, 4, 4, 5, 5]\n",
      "[1, 2, 3, 4, 5]\n"
     ]
    }
   ],
   "source": [
    "import random\n",
    "# `select_random_pivot_index` will select a random pivot index value from `lst`.\n",
    "# Hint: You can use random.randint(start, end) to obtain a random integer value in that range. \n",
    "def Qsort(arr):\n",
    "    if len(arr) == 0:\n",
    "        return []\n",
    "    elif len(arr) == 1:\n",
    "        return arr\n",
    "    else:\n",
    "        index = random.randrange(0, len(arr))\n",
    "        temp = arr[index]\n",
    "        lst = [temp]\n",
    "        for x in range(len(arr)):\n",
    "            if arr[x] >= temp and x != index:\n",
    "                lst += [arr[x]]\n",
    "            elif arr[x] < temp and x != index:\n",
    "                lst = [arr[x]] + lst\n",
    "        \n",
    "    return Qsort(lst[:lst.index(temp)]) + [temp] + Qsort(lst[lst.index(temp)+1:])\n",
    "    # return lst\n",
    "print(Qsort([5, 3, 7, 9, 6]))  # This should give [3, 5, 6, 7, 9]\n",
    "print(Qsort([4, 5, 5, 4, 4]))  # This should give [4, 4, 4, 5, 5]\n",
    "print(Qsort(test_data))  # This should give [1, 2, 3, 4, 5]\n",
    "test_data = [1,2,3,4,5]\n",
    "# test_run = select_random_pivot_index(test_data)\n",
    "# assert test_run >= 0 and test_run < len(test_data) "
   ]
  },
  {
   "cell_type": "markdown",
   "metadata": {},
   "source": [
    "Now that we have our random pivot selection function, lets write another function which partions our list around this value."
   ]
  },
  {
   "cell_type": "code",
   "execution_count": 21,
   "metadata": {},
   "outputs": [
    {
     "name": "stdout",
     "output_type": "stream",
     "text": [
      "Congratulations, the test case passed!\n"
     ]
    }
   ],
   "source": [
    "# `partition_lists` will partition the `lst` into two lists, one where all the\n",
    "#  elements are smaller than the value at `pivot_index` and another with all \n",
    "#  values greater or equal.\n",
    "# Hint: Make sure to not include the pivot in either of the returned lists.\n",
    "def randindex(lst):\n",
    "    index = random.randrange(0, len(lst))\n",
    "    return index\n",
    "def partition_lists(lst, pivot_index):\n",
    "    lst_small = []\n",
    "    lst_big = []\n",
    "    for x in range(len(lst)):\n",
    "        if lst[x] >= lst[pivot_index] and x != pivot_index:\n",
    "            lst_big += [lst[x]]\n",
    "        elif lst[x] < lst[pivot_index] and x != pivot_index:\n",
    "            lst_small += [lst[x]] \n",
    "    # Write your code here.\n",
    "    return lst_small, lst_big\n",
    "\n",
    "check(partition_lists([3,57,0,4,23,9,5], 4), ([3, 0, 4, 9, 5],[57]))"
   ]
  },
  {
   "cell_type": "markdown",
   "metadata": {},
   "source": [
    "Great, now that we are able to select a pivot and partition our data around this value lets implement the quicksort algorithm using these helper functions. Implement this recursively.\n",
    "\n",
    "Hint: You can get the partitioned lists by doing \n",
    "\n",
    "```python\n",
    "lst_small, lst_big = partition_lists(lst, pivot_index)\n",
    "```"
   ]
  },
  {
   "cell_type": "code",
   "execution_count": 25,
   "metadata": {},
   "outputs": [
    {
     "name": "stdout",
     "output_type": "stream",
     "text": [
      "Congratulations, the test case passed!\n",
      "Congratulations, the test case passed!\n"
     ]
    }
   ],
   "source": [
    "def quicksort(lst):\n",
    "    if len(lst) == 0 or len(lst) == 1:\n",
    "        return lst\n",
    "    else:\n",
    "        piv = lst[(len(lst)-1)//2]\n",
    "        small, larg = partition_lists(lst, (len(lst)-1)//2)\n",
    "        return quicksort(small) + [piv] + quicksort(larg)\n",
    "\n",
    "check(quicksort([3,57,0,4,23,9,5]),[0, 3, 4, 5, 9, 23, 57])\n",
    "check(quicksort([]),[])\n"
   ]
  },
  {
   "cell_type": "markdown",
   "metadata": {},
   "source": [
    "What is the worst case time complexity for the runtime of the quicksort algorithm?"
   ]
  },
  {
   "cell_type": "code",
   "execution_count": null,
   "metadata": {},
   "outputs": [],
   "source": [
    "# Write your answer here: "
   ]
  },
  {
   "cell_type": "markdown",
   "metadata": {},
   "source": [
    "The aforementioned pivoting and partitioning techniques are not unique to the `quicksort` algorithm. In fact, there is a selection algorithm called `quickselect` that can be used to select the k-th smallest element from an unordered list. The general algorithm can be described in the following steps ...\n",
    "\n",
    "- Select a pivot (e.g. randomly selected)\n",
    "- Partition elements around the pivot\n",
    "- Determine whether the k-th smallest element has been found, if so return this value\n",
    "- Otherwise, search one half (either left or right) depending on the k-th smallest search value relative to the current pivot\n",
    " \n",
    "Try implementing the `quickselect` function recursively, and remember to reuse the helper functions `select_random_pivot_index` and `partition_lists`."
   ]
  },
  {
   "cell_type": "code",
   "execution_count": 26,
   "metadata": {},
   "outputs": [
    {
     "name": "stdout",
     "output_type": "stream",
     "text": [
      "Congratulations, the test case passed!\n",
      "Congratulations, the test case passed!\n",
      "Congratulations, the test case passed!\n"
     ]
    }
   ],
   "source": [
    "def quickselect(lst, k):\n",
    "    lst2 = quicksort(lst)\n",
    "    return lst2[k]\n",
    "\n",
    "check(quickselect([5,3,7,9,6,3,2,6,8,97,4,0], 8), 7)\n",
    "check(quickselect([5,3,7,9,6,3,2,6,8,97,4,0], 5), 5)\n",
    "check(quickselect([5,3,7,9,6,3,2,6,8,97,4,0], 10), 9)"
   ]
  },
  {
   "cell_type": "markdown",
   "metadata": {},
   "source": [
    "What is the worst case time complexity for the runtime of the quickselect algorithm?"
   ]
  },
  {
   "cell_type": "code",
   "execution_count": null,
   "metadata": {},
   "outputs": [],
   "source": [
    "# Write your answer here: "
   ]
  },
  {
   "cell_type": "markdown",
   "metadata": {},
   "source": [
    "Challenge: What is the best case runtime for quickselect?"
   ]
  },
  {
   "cell_type": "code",
   "execution_count": null,
   "metadata": {},
   "outputs": [],
   "source": [
    "# Write your answer here: "
   ]
  }
 ],
 "metadata": {
  "interpreter": {
   "hash": "aee8b7b246df8f9039afb4144a1f6fd8d2ca17a180786b69acc140d282b71a49"
  },
  "kernelspec": {
   "display_name": "Python 3 (ipykernel)",
   "language": "python",
   "name": "python3"
  },
  "language_info": {
   "codemirror_mode": {
    "name": "ipython",
    "version": 3
   },
   "file_extension": ".py",
   "mimetype": "text/x-python",
   "name": "python",
   "nbconvert_exporter": "python",
   "pygments_lexer": "ipython3",
   "version": "3.11.5"
  }
 },
 "nbformat": 4,
 "nbformat_minor": 4
}
