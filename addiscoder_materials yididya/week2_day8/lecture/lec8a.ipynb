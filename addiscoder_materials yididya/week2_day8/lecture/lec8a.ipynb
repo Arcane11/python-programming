{
 "cells": [
  {
   "attachments": {},
   "cell_type": "markdown",
   "metadata": {},
   "source": [
    "# AddisCoder 2023: Week 2\n",
    "## Introduction to Recursion\n",
    "\n",
    "Taught by Alex Krentsel (alex.krentsel@gmail.com), material based on past semesters. "
   ]
  },
  {
   "cell_type": "code",
   "execution_count": 1,
   "metadata": {},
   "outputs": [],
   "source": [
    "# We've gotten comfortable with writing functions.\n",
    "\n",
    "def sumTwo(x, y):\n",
    "    return x + y"
   ]
  },
  {
   "cell_type": "code",
   "execution_count": 2,
   "metadata": {},
   "outputs": [],
   "source": [
    "def sumThree(x, y, z):\n",
    "    return x + y + z"
   ]
  },
  {
   "cell_type": "code",
   "execution_count": 3,
   "metadata": {},
   "outputs": [],
   "source": [
    "# We know how to have functions call other functions\n",
    "def sumFour(x, y, z, w):\n",
    "    return x + y + z + w"
   ]
  },
  {
   "cell_type": "code",
   "execution_count": 4,
   "metadata": {},
   "outputs": [],
   "source": [
    "# It'd be nice if we could have a function that could sum any number of numbers\n",
    "# How do we do that? \n",
    "def sumList(nums):\n",
    "    total = 0\n",
    "    # ???\n",
    "    return total"
   ]
  },
  {
   "cell_type": "code",
   "execution_count": 5,
   "metadata": {},
   "outputs": [],
   "source": [
    "# The typical way we do this is by using a loop:\n",
    "def sumListFor(nums):\n",
    "    total = 0\n",
    "    for num in nums:\n",
    "        total += num\n",
    "    return total\n",
    "\n",
    "# But there's another way we can do this, if we notice an interesting pattern about this problem."
   ]
  },
  {
   "cell_type": "code",
   "execution_count": 6,
   "metadata": {},
   "outputs": [],
   "source": [
    "# NOTE: if there is a board, do this on the board\n",
    "# recSumList([0, 1, 2, 3])\n",
    "# 0 + recSumList([1, 2, 3])\n",
    "# 0 + 1 + recSumList([2, 3])\n",
    "# 0 + 1 + 2 + recSumList([3])\n",
    "# 0 + 1 + 2 + 3\n",
    "# -> 6\n",
    "\n",
    "# This is a recursive pattern! We can write a recursive function to do this."
   ]
  },
  {
   "attachments": {},
   "cell_type": "markdown",
   "metadata": {},
   "source": [
    "## Recursion Basics\n",
    "\n",
    "In recursion, a function _calls itself_. Recursion is used when a problem can be easily divided into smaller problems of the same form.\n",
    "\n",
    "A recursive function has 2 components:\n",
    "\n",
    "- Base case: Simplest possible input and prevents infinite recursion.\n",
    "- Recursion step: Call the same function itself with a smaller/easier input to the function and act on the output of the smaller function call."
   ]
  },
  {
   "cell_type": "code",
   "execution_count": 7,
   "metadata": {},
   "outputs": [],
   "source": [
    "## Anatomy of a Recursive Function\n",
    "\n",
    "# Recursive functions always have two parts:\n",
    "# 1. Base Case:\n",
    "#    - This is the simplest version of the problem that we can solve. It's the \"base\" of the recursion.\n",
    "#    - We always need a base case, otherwise our function will recurse forever!\n",
    "# 2. Recursive Case:\n",
    "#    - This is the more complex version of the problem that we can solve.\n",
    "#    - We always need to make progress towards the base case, otherwise our function will recurse forever!\n",
    "\n",
    "# Let's try this together for sumList:\n",
    "def recSumList(nums):\n",
    "    # What is the \"base case\" that we know how to solve?\n",
    "    if len(nums) == 1:\n",
    "        return nums[0]\n",
    "    # What is the \"recursive case\" that we can make progress towards the base case?\n",
    "    return nums[0] + recSumList(nums[1:])"
   ]
  },
  {
   "cell_type": "code",
   "execution_count": 8,
   "metadata": {},
   "outputs": [],
   "source": [
    "# Does this work for all lists?\n",
    "# What happens if we call recSumList([])?\n",
    "# Let's fix that:\n",
    "def recSumList(nums):\n",
    "    # What is the \"base case\" that we know how to solve?\n",
    "    if len(nums) == 0:\n",
    "        return 0\n",
    "    # What is the \"recursive case\" that we can make progress towards the base case?\n",
    "    return nums[0] + recSumList(nums[1:])"
   ]
  },
  {
   "cell_type": "markdown",
   "metadata": {},
   "source": [
    "The steps of writing a recursive function:\n",
    "1. Given a large instance of a problem, how can you break the problem down into smaller pieces to make progress?\n",
    "   (ignore the base-case)\n",
    "2. What instances of the problem do you know the answer to? (base case)\n",
    "3. Put them together\n",
    "\n",
    "\n",
    "You have to make sure that you are always making progress towards a solution.\n",
    "\n",
    "We're going to spend the rest of this lecture practicing recognizing recursive problems."
   ]
  },
  {
   "cell_type": "code",
   "execution_count": 9,
   "metadata": {},
   "outputs": [],
   "source": [
    "# Example one: Count Down from n to 0, then print \"Blastoff!\"\n",
    "# What is the base case?\n",
    "# What is the recursive case?\n",
    "\n",
    "# Here's a simpler example of recursion\n",
    "\n",
    "def recCountdown(n):\n",
    "    if n == 0:\n",
    "        print(\"Blastoff!\")\n",
    "    else:\n",
    "        print(n)\n",
    "        recCountdown(n - 1)\n"
   ]
  },
  {
   "cell_type": "code",
   "execution_count": 10,
   "metadata": {},
   "outputs": [
    {
     "name": "stdout",
     "output_type": "stream",
     "text": [
      "120\n",
      "1\n",
      "2\n",
      "6\n",
      "24\n"
     ]
    }
   ],
   "source": [
    "# Example Two: Factorial\n",
    "\n",
    "# Definition of factorial: n! = n * (n - 1) * (n - 2) * ... * 3 * 2 * 1\n",
    "# Also, 1! = 1\n",
    "# How can you turn this into a recursion?\n",
    "# Recursive case: \n",
    "# Base case: 1! = 1\n",
    "#n! = n * (n - 1)!\n",
    "def factorial(n):\n",
    "    #n=5\n",
    "    #n=4\n",
    "    #n=3\n",
    "    #n=2\n",
    "    #n=1\n",
    "    if n==1: \n",
    "        return 1\n",
    "    return n*factorial(n-1)\n",
    "    #factorial(5)\n",
    "    #return 5*factorial(5-1)\n",
    "        #return 4*factorial(4-1)\n",
    "    #retrun 3*factorial(3-1)\n",
    "    #return 2*factorial(2-1)\n",
    "    #return 1\n",
    "print(factorial(5))\n",
    "\n",
    "\n",
    "def factorial2(n):\n",
    "    if n == 1:\n",
    "        return 1\n",
    "    return n * factorial(n - 1)\n",
    "\n",
    "print(factorial(1))\n",
    "print(factorial(2))\n",
    "print(factorial(3))\n",
    "print(factorial(4))"
   ]
  },
  {
   "cell_type": "code",
   "execution_count": 11,
   "metadata": {},
   "outputs": [],
   "source": [
    "# Let's fix the error in a few recursive functions.\n",
    "# what's wrong here? (talk with someone next to you)\n",
    "\n",
    "def count_up(n):\n",
    "    \"\"\"Print out all numbers up to and including n in ascending order.\n",
    "\n",
    "    >>> count_up(5)\n",
    "    1\n",
    "    2\n",
    "    3\n",
    "    4\n",
    "    5\n",
    "    \"\"\"\n",
    "    i = 1\n",
    "    if i == n:\n",
    "        return\n",
    "    print(i)\n",
    "    i += 1\n",
    "    count_up(n-1)"
   ]
  },
  {
   "cell_type": "code",
   "execution_count": 12,
   "metadata": {},
   "outputs": [
    {
     "data": {
      "text/plain": [
       "262144"
      ]
     },
     "execution_count": 12,
     "metadata": {},
     "output_type": "execute_result"
    }
   ],
   "source": [
    "# What does this function do?\n",
    "def mystery(a):\n",
    "    if a == 0:\n",
    "        return 0\n",
    "    return a ** mystery(a - 1)\n",
    "\n",
    "# What is the output of the line of code below?\n",
    "mystery(4)"
   ]
  },
  {
   "cell_type": "code",
   "execution_count": null,
   "metadata": {},
   "outputs": [],
   "source": []
  }
 ],
 "metadata": {
  "kernelspec": {
   "display_name": "Python 3",
   "language": "python",
   "name": "python3"
  },
  "language_info": {
   "codemirror_mode": {
    "name": "ipython",
    "version": 3
   },
   "file_extension": ".py",
   "mimetype": "text/x-python",
   "name": "python",
   "nbconvert_exporter": "python",
   "pygments_lexer": "ipython3",
   "version": "3.10.12"
  },
  "orig_nbformat": 4
 },
 "nbformat": 4,
 "nbformat_minor": 2
}
