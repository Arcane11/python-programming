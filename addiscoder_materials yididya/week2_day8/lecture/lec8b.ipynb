{
 "cells": [
  {
   "cell_type": "markdown",
   "metadata": {},
   "source": [
    "# AddisCoder 2023: Week 2\n",
    "## More Practice with Recursion\n",
    "\n",
    "Taught by Alex Krentsel (alex.krentsel@gmail.com). \n",
    "\n",
    "Let's continue on practicing more recursion problems together, to get practice recognizing the recursive structure of a problem."
   ]
  },
  {
   "cell_type": "markdown",
   "metadata": {},
   "source": [
    "# Sum of numbers from 0 to x (including x) using a for loop "
   ]
  },
  {
   "cell_type": "code",
   "execution_count": null,
   "metadata": {},
   "outputs": [],
   "source": [
    "def sumNumbersForLoop(x):\n",
    "    total = 0    # Create a variable to hold the sum\n",
    "    for loopVariable in range(x+1): # Loop [0, 1, ..., x]\n",
    "        total += loopVariable # Add loopVariable to sum\n",
    "    return total   # Return the output of the function"
   ]
  },
  {
   "cell_type": "code",
   "execution_count": null,
   "metadata": {},
   "outputs": [],
   "source": [
    "output = sumNumbersForLoop(4)\n",
    "print(output)"
   ]
  },
  {
   "cell_type": "code",
   "execution_count": null,
   "metadata": {},
   "outputs": [],
   "source": [
    "# The above call does the following:\n",
    "# output = sumNumbersForLoop(4)\n",
    "# sumNumbersForLoop(4)\n",
    "    # x = 4\n",
    "    # total = 0 \n",
    "    # loopVariable = 0\n",
    "    # total = total + loopVariable = 0 + 0 = 0\n",
    "    # loopVariable = 1\n",
    "    # total = total + loopVariable = 0 + 1 = 1\n",
    "    # loopVariable = 2\n",
    "    # total = total + loopVariable = 1 + 2 = 3\n",
    "    # loopVariable = 3\n",
    "    # total = total + loopVariable = 3 + 3 = 6\n",
    "    # loopVariable = 4\n",
    "    # total = total + loopVariable = 6 + 4 = 10\n",
    "    # return 10\n",
    "# output = 10\n",
    "# print(output)"
   ]
  },
  {
   "cell_type": "markdown",
   "metadata": {},
   "source": [
    "## Recursion basics"
   ]
  },
  {
   "cell_type": "markdown",
   "metadata": {},
   "source": [
    "In recursion, a function **calls** itself. Recursion is used when a problem can be easily divided into **easier** problems. \n",
    "\n",
    "A recursive function has **2 components**:\n",
    "\n",
    "1. **Base case:** Simplest possible input and prevents **infinite recursion**.\n",
    "2. **Recursion step:** Call the same function itself with a **smaller/easier** input to the function and act on the output of the smaller function call."
   ]
  },
  {
   "cell_type": "markdown",
   "metadata": {},
   "source": [
    "## Sum of numbers from 0 to x using recursion"
   ]
  },
  {
   "cell_type": "code",
   "execution_count": null,
   "metadata": {},
   "outputs": [],
   "source": [
    "def sumNumbersRecurse(x):\n",
    "    if x == 0:          # Base case, simplest possible number\n",
    "        return 0\n",
    "    \n",
    "    sum_zero_to_xminus1 = sumNumbersRecurse(x-1) # Recursion step, with simpler input\n",
    "    total = x + sum_zero_to_xminus1\n",
    "    \n",
    "    return total"
   ]
  },
  {
   "cell_type": "markdown",
   "metadata": {},
   "source": [
    "### Walk-through of code\n",
    "The above call does the following (draw out on the board):\n",
    "\n",
    "```output = sumNumbersRecurse(4)```\n",
    "\n",
    "First, ```sumNumbersRecurse``` calls itself \n",
    "```\n",
    "sumNumbersRecurse(4) = sumNumbersRecurse(3) + 4\n",
    "sumNumbersRecurse(3) = sumNumbersRecurse(2) + 3\n",
    "sumNumbersRecurse(2) = sumNumbersRecurse(1) + 2\n",
    "sumNumbersRecurse(1) = sumNumbersRecurse(0) + 1\n",
    "sumNumbersRecurse(0) = 0\n",
    "```\n",
    "When ```sumNumbersRecurse(x)``` receives the output from ```sumNumbersRecurse(x-1)```, it **adds $x$** and then returns the sum.\n",
    "\n",
    "```\n",
    "sumNumbersRecurse(1) = 0 + 1 = 1\n",
    "sumNumbersRecurse(2) = 1 + 2 = 3\n",
    "sumNumbersRecurse(3) = 3 + 3 = 6\n",
    "sumNumbersRecurse(4) = 6 + 4 = 10\n",
    "output = 10\n",
    "```"
   ]
  },
  {
   "cell_type": "markdown",
   "metadata": {},
   "source": [
    "## DEMO TIME\n"
   ]
  },
  {
   "cell_type": "markdown",
   "metadata": {},
   "source": [
    "# Common mistakes"
   ]
  },
  {
   "cell_type": "markdown",
   "metadata": {},
   "source": [
    "## Forgetting the base case"
   ]
  },
  {
   "cell_type": "code",
   "execution_count": null,
   "metadata": {},
   "outputs": [],
   "source": [
    "# Let's use the factorial problem we solved together in the morning and see common issues.\n",
    "\n",
    "# The formula for factorial is:\n",
    "# 0! = 1\n",
    "# x! = x * (x-1) * (x-2) * ... * 1\n",
    "\n",
    "def brokenFactorial(x):\n",
    "\n",
    "    print(\"x = \" + str(x) + \", call brokenFactorial(\" + str(x-1) + \")\")\n",
    "    factorial_x_minus_1 = brokenFactorial(x-1)\n",
    "    result = x * factorial_x_minus_1\n",
    "    print(\"I'm about to return a result: \" + str(result))\n",
    "    return result"
   ]
  },
  {
   "cell_type": "code",
   "execution_count": null,
   "metadata": {},
   "outputs": [],
   "source": [
    "output = brokenFactorial(5)\n",
    "print('output = ' + str(output))"
   ]
  },
  {
   "cell_type": "markdown",
   "metadata": {},
   "source": [
    "## Forgetting to use partial answers"
   ]
  },
  {
   "cell_type": "code",
   "execution_count": null,
   "metadata": {},
   "outputs": [],
   "source": [
    "def anotherBrokenFactorial(x):\n",
    "    if x == 0:\n",
    "        print(\"x = \" + str(x) + \", returning 1\")\n",
    "        return 1\n",
    "\n",
    "    print(\"x = \" + str(x) + \", call anotherBrokenFactorial(\" + str(x-1) + \")\")\n",
    "\n",
    "    factorial_x_minus_1 = anotherBrokenFactorial(x-1)\n",
    "\n",
    "    result = factorial_x_minus_1\n",
    "    print(\"x = \" + str(x) + \", I'm about to return a result: \" + str(result))\n",
    "    return result\n"
   ]
  },
  {
   "cell_type": "code",
   "execution_count": null,
   "metadata": {},
   "outputs": [],
   "source": [
    "output = anotherBrokenFactorial(5)\n",
    "print('output = ' + str(output))"
   ]
  },
  {
   "cell_type": "markdown",
   "metadata": {},
   "source": [
    "## Your Turn :)"
   ]
  },
  {
   "cell_type": "code",
   "execution_count": null,
   "metadata": {},
   "outputs": [],
   "source": [
    "# What does this second function do?\n",
    "def mystery2(a, b):\n",
    "    if b == 0:\n",
    "        return 0\n",
    "    return a + mystery2(a, b - 1)\n",
    "\n",
    "# what is the output of the line of code below?\n",
    "mystery2(5, 4)"
   ]
  },
  {
   "cell_type": "code",
   "execution_count": null,
   "metadata": {},
   "outputs": [],
   "source": []
  }
 ],
 "metadata": {
  "kernelspec": {
   "display_name": "Python 3",
   "language": "python",
   "name": "python3"
  },
  "language_info": {
   "codemirror_mode": {
    "name": "ipython",
    "version": 3
   },
   "file_extension": ".py",
   "mimetype": "text/x-python",
   "name": "python",
   "nbconvert_exporter": "python",
   "pygments_lexer": "ipython3",
   "version": "3.10.12"
  },
  "orig_nbformat": 4
 },
 "nbformat": 4,
 "nbformat_minor": 2
}
