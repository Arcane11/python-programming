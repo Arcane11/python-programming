{
 "cells": [
  {
   "cell_type": "markdown",
   "metadata": {
    "colab_type": "text",
    "id": "suZMjIwNga0E"
   },
   "source": [
    "# Week 4 Day 17"
   ]
  },
  {
   "cell_type": "code",
   "execution_count": null,
   "metadata": {},
   "outputs": [],
   "source": [
    "def check_test(actual, expected):\n",
    "    if expected != actual:\n",
    "        print(f\"Function should return the value {expected}, it is returning the value {actual}\")\n",
    "    else:\n",
    "        print(f\"Congratulations, the test case passed!\")\n",
    "check = check_test"
   ]
  },
  {
   "cell_type": "markdown",
   "metadata": {},
   "source": [
    "## 1. Warmup: Climbing Stairs"
   ]
  },
  {
   "cell_type": "markdown",
   "metadata": {},
   "source": [
    "You are climbing a staircase. It takes `n` steps to reach the top. Each time you can either climb `1`, `2` or `3` steps. In how many distinct ways can you climb to the top?"
   ]
  },
  {
   "cell_type": "markdown",
   "metadata": {},
   "source": [
    "### 1.1"
   ]
  },
  {
   "cell_type": "markdown",
   "metadata": {},
   "source": [
    "Write a recursive function `climbing_stairs(n)` that takes an integer `n` and returns the number of distinct ways  you can climb to the top.\n",
    "\n",
    "<details>\n",
    "    <summary><b>Give me a Hint (click)</b></summary>\n",
    "    If you know in how many ways you can climb <tt>n-2</tt> steps, and in how many ways you can climb <tt>n-1</tt> steps, how does that help you in computing in how many ways you can climb <tt>n</tt> steps?\n",
    "</details>"
   ]
  },
  {
   "cell_type": "code",
   "execution_count": null,
   "metadata": {},
   "outputs": [],
   "source": [
    "def climbing_stairs(n):\n",
    "    # Your code here\n",
    "    pass"
   ]
  },
  {
   "cell_type": "code",
   "execution_count": null,
   "metadata": {},
   "outputs": [],
   "source": [
    "# Test your code\n",
    "print(climbing_stairs(3))   # This should give 4\n",
    "print(climbing_stairs(4))   # This should give 7\n",
    "print(climbing_stairs(10))  # This should give 274"
   ]
  },
  {
   "cell_type": "markdown",
   "metadata": {},
   "source": [
    "### 1.2\n",
    "\n",
    "We are going to store things we have computed before in a list `mem` such that <br/><br/>\n",
    "$$\n",
    "mem[i] = \\begin{cases}-1 \\text{ if we haven't computed } climbing\\_stairs_i \\text{ before }\\\\\n",
    "      climbing\\_stairs_i \\text{ if we have already computed it}\n",
    "    \\end{cases}\n",
    "$$\n",
    "\n",
    "Write a function `create_memory(n)` that takes an integer `n` and returns a list L of length `n` that contains the integer `-1` repeated `n` times."
   ]
  },
  {
   "cell_type": "code",
   "execution_count": null,
   "metadata": {},
   "outputs": [],
   "source": [
    "def create_memory(n):\n",
    "    # Your code here"
   ]
  },
  {
   "cell_type": "markdown",
   "metadata": {},
   "source": [
    "### 1.3\n",
    "Write a recursive function `memo_climbing_stairs(n, mem)` that takes an integer `n` and a list `mem`.<br/><br/>\n",
    "Here is how it should work : \n",
    "<ul>\n",
    "    <li> If <code>mem[n]</code> is <i>not</i> equal to <code>-1</code>, it should return <code>mem[n]</code></li>\n",
    "    <li> If <code>mem[n]</code> is equal to <code>-1</code>, it should compute the value recursively and store it in <code>mem[n]</code> before returning it.</li>\n",
    "</ul>"
   ]
  },
  {
   "cell_type": "code",
   "execution_count": null,
   "metadata": {},
   "outputs": [],
   "source": [
    "def memo_climbing_stairs(n, mem):\n",
    "    # Your code here"
   ]
  },
  {
   "cell_type": "markdown",
   "metadata": {},
   "source": [
    "### 1.4\n",
    "Write a function `climbing_stairs(n)` that takes an integer `n`. It should use `create_memory(n)` and `memo_climbing_stairs(n, mem)`.<br><br>*Hint: Remember that we are storing values from 0 to n*"
   ]
  },
  {
   "cell_type": "code",
   "execution_count": null,
   "metadata": {},
   "outputs": [],
   "source": [
    "def climbing_stairs(n):\n",
    "    # Your code here\n",
    "\n",
    "# Test your code\n",
    "print(climbing_stairs(3))   # This should give 4\n",
    "print(climbing_stairs(4))   # This should give 7\n",
    "print(climbing_stairs(10))  # This should give 274"
   ]
  },
  {
   "cell_type": "markdown",
   "metadata": {},
   "source": [
    "## 2. Partition Problem"
   ]
  },
  {
   "cell_type": "markdown",
   "metadata": {},
   "source": [
    "Given a list of positive integers, we want to know if it is possible to partition the list into two subsets with equal sum. For example, given the list `L = [3,1,1,2,2,1]` we can partition `L` into two partitions each having sum 5. `L1 = [1,1,1,2]` and `L2 = [2,3]`. Note that this solution is not unique. Another solution would be `L1 = [3,1,1]` and `L2 = [2,2,1]`."
   ]
  },
  {
   "cell_type": "markdown",
   "metadata": {},
   "source": [
    "### 2.1.0 Partitioning a list"
   ]
  },
  {
   "cell_type": "markdown",
   "metadata": {},
   "source": [
    "Given the `L = [ 3, 5, 2, 1, 1 ]`, is it possible to partition it to two sets with the same sum? If yes, write down what the two lists would be."
   ]
  },
  {
   "cell_type": "markdown",
   "metadata": {},
   "source": [
    "<details>\n",
    "<summary><i>Click here to see the solution</i></summary><br/>\n",
    "Yes! The two lists are [5, 1] and [3, 2, 1]. In this case there is only one answer, but sometimes there can be multiple.\n",
    "</details>"
   ]
  },
  {
   "cell_type": "markdown",
   "metadata": {},
   "source": [
    "### 2.1.1"
   ]
  },
  {
   "cell_type": "markdown",
   "metadata": {},
   "source": [
    "Given the `L =  [ 3, 5, 2, 1, 1, 2 ]`, is it possible to partition it to two sets with the same sum? If yes, write down what the two lists would be."
   ]
  },
  {
   "cell_type": "code",
   "execution_count": null,
   "metadata": {},
   "outputs": [],
   "source": [
    "# Your answer here"
   ]
  },
  {
   "cell_type": "markdown",
   "metadata": {},
   "source": [
    "<details>\n",
    "<summary><i>Click here to see the solution</i></summary><br/>\n",
    "The two lists are [5, 2] and [3, 2, 1, 1]. This is not the only answer, another pairing might be [5, 1, 1] and [3, 2, 2]."
   ]
  },
  {
   "cell_type": "markdown",
   "metadata": {},
   "source": [
    "### 2.2 Partition List Without Memoization"
   ]
  },
  {
   "cell_type": "markdown",
   "metadata": {},
   "source": [
    "We want implement a function called `partition(L)` which returns `True` if it is possible to partition the list `L` into two lists with equal sum.\n",
    "\n",
    "To help with this, we start by writing a function `subset_sum(L, s)` which returns `True` if there is a subset of `L` whose sum is `s`. `L` is a list of positive integers.\n",
    "\n",
    "Example: `subset_sum([1, 2, 4, 10, 20], 16)` is `True`, because `2+4+10=16`.\n",
    "\n",
    "Before writing code, answer the questions below."
   ]
  },
  {
   "cell_type": "markdown",
   "metadata": {},
   "source": [
    "#### 2.2.1 Base case \n",
    "Let's start by writing down the base cases. When does `subset_sum(L, s)` become a trivial (simple) problem?"
   ]
  },
  {
   "cell_type": "markdown",
   "metadata": {},
   "source": [
    "<details>\n",
    "<summary>Click here to see the solution</summary>\n",
    "    \n",
    "When the list is empty (base case) but `s` is not zero, we return `False`. If the list is empty but `s=0`, we return True.\n",
    "    \n",
    "We can also immediately return false if `s` is negative or not an integer.\n",
    "\n",
    "</details>"
   ]
  },
  {
   "cell_type": "markdown",
   "metadata": {},
   "source": [
    "#### 2.2.2 Recursive case\n",
    "How can you reduce `subset_sum(L, s)`, the problem for the list `L`, to subproblems for the list `L[:-1]`?"
   ]
  },
  {
   "cell_type": "markdown",
   "metadata": {},
   "source": [
    "<details>\n",
    "<summary>Click here to see the solution</summary>\n",
    "\n",
    "We have two choices:\n",
    "    \n",
    "- Either we add the element `L[-1]` to the sum, and then we need to select a subset of elements of `L[:-1]` that sum up to `s-L[-1]`\n",
    "- Or we do not add the element `L[-1]` to the sum, and then we need to select a subset of elements of `L[:-1]` that sum up to `s`\n",
    "    \n",
    "If either of these two choices works out, then it is possible to have a subset of `L` summing up to `s`.\n",
    "\n",
    "</details>"
   ]
  },
  {
   "cell_type": "markdown",
   "metadata": {},
   "source": [
    "#### 2.2.3 Subset sum Using Recursion\n",
    "Now write a function which returns true if the list can be partitioned. You may need to use a helper function to keep track of the difference between the two partitions so far.\n"
   ]
  },
  {
   "cell_type": "code",
   "execution_count": null,
   "metadata": {},
   "outputs": [],
   "source": [
    "def subset_sum(L, s):\n",
    "    # Write your answer here\n",
    "    pass\n",
    "\n",
    "L = [3,1,1,2,2,1]\n",
    "check(subset_sum(L, 6), True)\n",
    "L = [5,2,2,4,2,2]\n",
    "check(subset_sum(L, 3), False)\n",
    "L = [1,1,2,4,8,16,32]\n",
    "check(subset_sum(L, 14), True)"
   ]
  },
  {
   "cell_type": "markdown",
   "metadata": {},
   "source": [
    "#### 2.2.4 Partition Using subset sum\n",
    "\n",
    "How can we use `subset_sum(L, s)` to find out whether there is a partition of `L` into two subsets with equal sum?\n",
    "\n",
    "<details>\n",
    "    \n",
    "<summary><b>Click here to see the solution</b></summary>\n",
    "\n",
    "Essentially we want to find a set of numbers in `L` that sum up to `sum(L)/2`.\n",
    "\n",
    "</details>\n",
    "\n",
    "Implement `partition(L)` so that it returns `True` if it is possible to partition the list `L` into two subsets with equal sum, and `False` otherwise."
   ]
  },
  {
   "cell_type": "code",
   "execution_count": null,
   "metadata": {},
   "outputs": [],
   "source": [
    "def partition(L):\n",
    "    # Write your answer here\n",
    "    # Use subset_sum(L, s) here\n",
    "    pass"
   ]
  },
  {
   "cell_type": "code",
   "execution_count": null,
   "metadata": {},
   "outputs": [],
   "source": [
    "# test-case 1\n",
    "L = [3,1,1,2,2,1]\n",
    "check(partition(L), True)\n",
    "L = [3,3,3,3,3,1,1]\n",
    "check(partition(L), False)\n",
    "L = [1,1,2,4,8,16,32]\n",
    "check(partition(L), True)"
   ]
  },
  {
   "cell_type": "markdown",
   "metadata": {},
   "source": [
    "### 2.3 Use Memoization"
   ]
  },
  {
   "cell_type": "markdown",
   "metadata": {},
   "source": [
    "Think how you could use memoization to improve the running time of the algorithm and write down a function `partition_memo` which contains a memoized version of the above solution.\n",
    "\n",
    "Hint: You'll need to memoize `subset_sum`. \n",
    "\n",
    "First, modify `subset_sum(L, s)` into `subset_sum(L, i, s)` so that `subset_sum(L, i, s)` returns `True` if there is a subset of `L[:i+1]` that sums up to `s`.\n"
   ]
  },
  {
   "cell_type": "code",
   "execution_count": null,
   "metadata": {},
   "outputs": [],
   "source": []
  },
  {
   "cell_type": "markdown",
   "metadata": {},
   "source": [
    "### 2.4\n",
    "\n",
    "Now add memoization to create `subset_sum(L, mem, i, s)`\n",
    "\n",
    "`mem` should be a dictionary whose keys are pairs `(i, s)` and the values are `True` if there is a subset if `L[:i+1]` that sums up to `s`."
   ]
  },
  {
   "cell_type": "code",
   "execution_count": null,
   "metadata": {},
   "outputs": [],
   "source": [
    "def partition_memo(L):\n",
    "    # Write the memoized version of the previous solution here.\n",
    "    # You might need a helper function\n",
    "    pass"
   ]
  },
  {
   "cell_type": "code",
   "execution_count": null,
   "metadata": {
    "scrolled": true
   },
   "outputs": [],
   "source": [
    "# test-case 2\n",
    "L = [3,1,1,2,2,1,2,3,2,1,100,123,3,1,32,1,23,1,23,12,321,32,123,213,1,1]\n",
    "check(partition_memo(L),True)\n",
    "L = [3,1,1,2,2,1]\n",
    "check(partition_memo(L), True)\n",
    "L = [500, 500, 10, 15, 1000, 5]\n",
    "check(partition_memo(L), True)\n",
    "L = [200, 200, 200, 200, 200, 200, 200, 200, 200, 200]\n",
    "check(partition_memo(L), True)\n",
    "L = [4,21,3,100,2,30,1000,20,200,1]\n",
    "check(partition_memo(L), False)\n"
   ]
  },
  {
   "cell_type": "markdown",
   "metadata": {},
   "source": [
    "### 2.5 Challenge\n",
    "\n",
    "Add code that allows you to also output such a partition.\n",
    "\n",
    "Hint: Again, do the same for `subset_sum` first.\n",
    "\n",
    "Modify your code to use another dictionary whose keys are also `(i, s)`, but the values are a boolean that stores whether `L[i]` is contained in the subset of `L[:i+1]` that sums up to `s`.\n",
    "\n",
    "Then, use this new dictionary to extract a subset."
   ]
  },
  {
   "cell_type": "code",
   "execution_count": null,
   "metadata": {},
   "outputs": [],
   "source": []
  },
  {
   "cell_type": "markdown",
   "metadata": {},
   "source": [
    "## 3. Longest Increasing Subsequence \n",
    "\n",
    "We want to write a function ```lis(L)``` which takes as input a list of integers ```L``` and outputs the length of the longest increasing subsequence (lis) of ```L```. A subsequence of ```L``` is a sublist of ```L``` that does not have to be contiguous. For example, ```[1,5,9]``` is a subsequence of the list ```L = [1,2,3,4,5,6,7,8,9]``` since ```1,5,9``` appear in the list ```L``` in the same order (though just not in a row). ```9,5,1``` is not a subsequence of ```L``` since it does not appear in ```L``` in that order.\n",
    "\n",
    "We write a helper function `lis_end(L)` which gives us the longest increasing subsequence that contains `L[-1]`.\n",
    "\n",
    "First, answer the following questions:\n",
    "\n",
    "### 3.1 What is the base case?"
   ]
  },
  {
   "cell_type": "code",
   "execution_count": null,
   "metadata": {},
   "outputs": [],
   "source": []
  },
  {
   "cell_type": "markdown",
   "metadata": {},
   "source": [
    "<details>\n",
    "<summary>Click here to see the solution</summary>\n",
    "    \n",
    "When the list has 0 elements, the longest increasing subsequence has length 0.\n",
    "    \n",
    "When the list has 1 element, the longest increasing subsequence has length 1.\n",
    "\n",
    "</details>\n"
   ]
  },
  {
   "cell_type": "markdown",
   "metadata": {},
   "source": [
    "\n",
    "### 3.2 Recursive case\n",
    "\n",
    "If we know `lis_end(L[:i])` for all `i` up to `n-1`, how can this help us find the longest increasing subsequence of `L[:n]` that uses `L[n]`?"
   ]
  },
  {
   "cell_type": "code",
   "execution_count": null,
   "metadata": {},
   "outputs": [],
   "source": []
  },
  {
   "cell_type": "markdown",
   "metadata": {},
   "source": [
    "<details>\n",
    "<summary>Click here to see the solution</summary>\n",
    "    \n",
    "We can add `L[n]` to the longest increasing subsequence of any `L[:i]` as long as `L[i] < L[n]`.\n",
    "                                                                                                \n",
    "So we need to find the maximum of `lis_end(L[:i])` for all `i` for which `L[i] < L[n]`, and then add 1, because we're adding `L[n]` to the sequence.\n",
    "</details>\n",
    "\n",
    "\n",
    "\n",
    "### 3.3\n",
    "First implement ```lis_end``` using plain recursion."
   ]
  },
  {
   "cell_type": "code",
   "execution_count": null,
   "metadata": {},
   "outputs": [],
   "source": []
  },
  {
   "cell_type": "markdown",
   "metadata": {},
   "source": [
    "\n",
    "### 3.4\n",
    "First implement ```lis``` using `lis_end`."
   ]
  },
  {
   "cell_type": "code",
   "execution_count": null,
   "metadata": {},
   "outputs": [],
   "source": []
  },
  {
   "cell_type": "markdown",
   "metadata": {},
   "source": [
    "### 3.5\n",
    "Implement a faster version of `lis` using memoization."
   ]
  },
  {
   "cell_type": "code",
   "execution_count": null,
   "metadata": {},
   "outputs": [],
   "source": []
  },
  {
   "cell_type": "markdown",
   "metadata": {},
   "source": [
    "### 3.6\n",
    "\n",
    "Change your code so that it outputs such a sequence (not just the length of the sequence)"
   ]
  },
  {
   "cell_type": "code",
   "execution_count": null,
   "metadata": {},
   "outputs": [],
   "source": []
  }
 ],
 "metadata": {
  "colab": {
   "collapsed_sections": [],
   "name": "week4_day1_problems1234.ipynb",
   "provenance": [],
   "version": "0.3.2"
  },
  "kernelspec": {
   "display_name": "Python 3",
   "language": "python",
   "name": "python3"
  },
  "language_info": {
   "codemirror_mode": {
    "name": "ipython",
    "version": 3
   },
   "file_extension": ".py",
   "mimetype": "text/x-python",
   "name": "python",
   "nbconvert_exporter": "python",
   "pygments_lexer": "ipython3",
   "version": "3.10.9"
  },
  "varInspector": {
   "cols": {
    "lenName": 16,
    "lenType": 16,
    "lenVar": 40
   },
   "kernels_config": {
    "python": {
     "delete_cmd_postfix": "",
     "delete_cmd_prefix": "del ",
     "library": "var_list.py",
     "varRefreshCmd": "print(var_dic_list())"
    },
    "r": {
     "delete_cmd_postfix": ") ",
     "delete_cmd_prefix": "rm(",
     "library": "var_list.r",
     "varRefreshCmd": "cat(var_dic_list()) "
    }
   },
   "types_to_exclude": [
    "module",
    "function",
    "builtin_function_or_method",
    "instance",
    "_Feature"
   ],
   "window_display": false
  }
 },
 "nbformat": 4,
 "nbformat_minor": 1
}
