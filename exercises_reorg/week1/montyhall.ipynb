{
 "cells": [
  {
   "cell_type": "code",
   "execution_count": 2,
   "metadata": {},
   "outputs": [],
   "source": [
    "import random\n",
    "import math"
   ]
  },
  {
   "cell_type": "markdown",
   "metadata": {
    "slideshow": {
     "slide_type": "slide"
    }
   },
   "source": [
    "# Monty Hall"
   ]
  },
  {
   "cell_type": "markdown",
   "metadata": {},
   "source": [
    "Implement the following game, known as the <a href=\"https://en.wikipedia.org/wiki/Monty_Hall_problem\">Monty Hall problem</a>, variations of which have appeared in real game shows:\n",
    "\n",
    "You as the player are presented with 3 doors, one of which contains the grand prize (e.g. a car), and 2 of them contain a junk prize (e.g. a goat), but you don't know which contains which.\n",
    "\n",
    "You are asked to pick one of the doors. From the remaining doors, the game master then opens one which contains a junk prize, and asks you if you would like to stick with the door that you picked earlier, or switch to the other remaining door.\n",
    "\n",
    "The door of your choice is then revealed, and you either win the grand prize or a junk prize.\n",
    "\n",
    "_Hints:_\n",
    "\n",
    "- The first part is very similar to the basic \"Guess my number\" game from the first lecture, when the numbers are between 1 and 3 (inclusive), except that you don't immediately reveal whether the guess was correct or not.\n",
    "- To find a door to reveal, you can use a `while` loop which picks a random door until the picked door is neither the door chosen by the player nor the door containing the grand prize.\n",
    "- After asking the player whether to stick with their choice or change, there are only two doors left. Some simple `if/elif/else` should be enough to figure out if the player won the grand prize.\n",
    "\n",
    "Once you're done, play it yourself for a couple of rounds to see if works.\n",
    "\n",
    "Remark: In the 4th session, you will use your code to simulate many rounds of this game and figure out whether it's better to stick with your choice or change it."
   ]
  },
  {
   "cell_type": "code",
   "execution_count": null,
   "metadata": {
    "slideshow": {
     "slide_type": "fragment"
    }
   },
   "outputs": [
    {
     "name": "stdout",
     "output_type": "stream",
     "text": [
      "3\n"
     ]
    },
    {
     "ename": "ValueError",
     "evalue": "invalid literal for int() with base 10: ''",
     "output_type": "error",
     "traceback": [
      "\u001b[31m---------------------------------------------------------------------------\u001b[39m",
      "\u001b[31mValueError\u001b[39m                                Traceback (most recent call last)",
      "\u001b[36mCell\u001b[39m\u001b[36m \u001b[39m\u001b[32mIn[5]\u001b[39m\u001b[32m, line 20\u001b[39m\n\u001b[32m     18\u001b[39m                 \u001b[38;5;28;01mbreak\u001b[39;00m\n\u001b[32m     19\u001b[39m     \u001b[38;5;28;01mreturn\u001b[39;00m \u001b[33mf\u001b[39m\u001b[33m\"\u001b[39m\u001b[33mThat was so close blud. You didn\u001b[39m\u001b[33m'\u001b[39m\u001b[33mt get that number. It was \u001b[39m\u001b[38;5;132;01m{\u001b[39;00mrandom_int\u001b[38;5;132;01m}\u001b[39;00m\u001b[33m\"\u001b[39m\n\u001b[32m---> \u001b[39m\u001b[32m20\u001b[39m \u001b[43mmontyHall\u001b[49m\u001b[43m(\u001b[49m\u001b[43m)\u001b[49m\n",
      "\u001b[36mCell\u001b[39m\u001b[36m \u001b[39m\u001b[32mIn[5]\u001b[39m\u001b[32m, line 6\u001b[39m, in \u001b[36mmontyHall\u001b[39m\u001b[34m()\u001b[39m\n\u001b[32m      4\u001b[39m junky = [x \u001b[38;5;28;01mfor\u001b[39;00m x \u001b[38;5;129;01min\u001b[39;00m \u001b[38;5;28mrange\u001b[39m(\u001b[32m1\u001b[39m,\u001b[32m4\u001b[39m) \u001b[38;5;28;01mif\u001b[39;00m x != random_int] \n\u001b[32m      5\u001b[39m \u001b[38;5;28;01mwhile\u001b[39;00m \u001b[38;5;28;01mTrue\u001b[39;00m:\n\u001b[32m----> \u001b[39m\u001b[32m6\u001b[39m     user_input = \u001b[38;5;28;43mint\u001b[39;49m\u001b[43m(\u001b[49m\u001b[38;5;28;43minput\u001b[39;49m\u001b[43m(\u001b[49m\u001b[33;43m\"\u001b[39;49m\u001b[33;43mHello dear, I would like you to guess my number. You will have 3 options from 1 upto 3.\u001b[39;49m\u001b[33;43m\"\u001b[39;49m\u001b[43m)\u001b[49m\u001b[43m)\u001b[49m \u001b[38;5;66;03m# 2\u001b[39;00m\n\u001b[32m      7\u001b[39m     y = [a \u001b[38;5;28;01mfor\u001b[39;00m a \u001b[38;5;129;01min\u001b[39;00m junky \u001b[38;5;28;01mif\u001b[39;00m a != user_input] \u001b[38;5;66;03m# 3\u001b[39;00m\n\u001b[32m      8\u001b[39m     last_chance = \u001b[38;5;28minput\u001b[39m(\u001b[33mf\u001b[39m\u001b[33m\"\u001b[39m\u001b[33mDamn homie, That was a good guess. You should play this game more often!!!!!\u001b[39m\u001b[38;5;130;01m\\n\u001b[39;00m\u001b[33m Now one of the numbers is \u001b[39m\u001b[38;5;132;01m{\u001b[39;00my[\u001b[32m0\u001b[39m]\u001b[38;5;132;01m}\u001b[39;00m\u001b[33m. Would you like to stick with your first choice? (Y/N)\u001b[39m\u001b[33m\"\u001b[39m).capitalize()\n",
      "\u001b[31mValueError\u001b[39m: invalid literal for int() with base 10: ''"
     ]
    }
   ],
   "source": [
    "def montyHall():\n",
    "    random_int = random.randrange(1,4) \n",
    "    print(random_int)\n",
    "    junky = [x for x in range(1,4) if x != random_int] \n",
    "    while True:\n",
    "        user_input = int(input(\"Hello dear, I would like you to guess my number. You will have 3 options from 1 upto 3.\")) # 2\n",
    "        y = junky.remove(user_input) \n",
    "        last_chance = input(f\"Damn homie, That was a good guess. You should play this game more often!!!!!\\n Now one of the numbers is {y[0]}. Would you like to stick with your first choice? (Y/N)\").capitalize()\n",
    "        if last_chance == \"Y\":\n",
    "            if user_input == random_int:\n",
    "                return \"Damn brodie, you have got that dawg in you. Believing your guts saved you.\"\n",
    "            else:\n",
    "                break\n",
    "        elif last_chance == \"N\":\n",
    "            if random_int in [b for b in range(1,4) if b not in junky]:\n",
    "                return \"You have changed your decision for better. You have got it\"\n",
    "            else:\n",
    "                break\n",
    "    return f\"That was so close blud. You didn't get that number. It was {random_int}\"\n",
    "montyHall()"
   ]
  },
  {
   "cell_type": "markdown",
   "metadata": {},
   "source": [
    "### Exercise (optional):  More than 3 doors\n",
    "\n",
    "We want to make the game more general. Introduce a variable for the number of doors.\n",
    "\n",
    "The first part of the game is as before: The player can choose one of the doors.<br>\n",
    "Now the game master opens all doors except for two: The one the player chose, and one other one. He chooses the doors to be openend in such a way that none of them contain the prize.\n",
    "As before, the computer then asks the player if (s)he wants to stick with their choice or switch to the other remaining door. The game master then proclaims whether the chosen door contains the grand prize or a junk prize."
   ]
  },
  {
   "cell_type": "code",
   "execution_count": null,
   "metadata": {
    "slideshow": {
     "slide_type": "fragment"
    }
   },
   "outputs": [],
   "source": []
  },
  {
   "cell_type": "markdown",
   "metadata": {},
   "source": [
    "### Exercise: Simulation\n",
    "\n",
    "We want to simulate playing the game many times, with the strategy \"always change\" and \"never change\". \n",
    "- Replace the first `input()` with a random door, the second with your strategy.\n",
    "- Wrap everything into a loop to run it 10 times.\n",
    "- Add code to keep count of how many times you won and lost.\n",
    "- Remove/uncomment all the `print` commands.\n",
    "- Run the loop 1000 instead of 10 times.\n",
    "- Print the number of times you got the main prize, and the number of times you got the trash prize.\n",
    "\n",
    "Hint: Select a block and press TAB to indent it, Shift+TAB to unindent it, Ctrl+/ to comment it in/out."
   ]
  },
  {
   "cell_type": "code",
   "execution_count": null,
   "metadata": {},
   "outputs": [],
   "source": []
  },
  {
   "cell_type": "markdown",
   "metadata": {},
   "source": [
    "### Exercise: Simulation with many doors\n",
    "\n",
    "For each number of doors from 3 to 10, run the simulation above and print the results."
   ]
  },
  {
   "cell_type": "code",
   "execution_count": null,
   "metadata": {},
   "outputs": [],
   "source": []
  }
 ],
 "metadata": {
  "kernelspec": {
   "display_name": "Python 3",
   "language": "python",
   "name": "python3"
  },
  "language_info": {
   "codemirror_mode": {
    "name": "ipython",
    "version": 3
   },
   "file_extension": ".py",
   "mimetype": "text/x-python",
   "name": "python",
   "nbconvert_exporter": "python",
   "pygments_lexer": "ipython3",
   "version": "3.13.3"
  }
 },
 "nbformat": 4,
 "nbformat_minor": 1
}
