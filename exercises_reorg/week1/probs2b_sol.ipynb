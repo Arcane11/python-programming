{
 "cells": [
  {
   "cell_type": "markdown",
   "id": "524a5b7b",
   "metadata": {},
   "source": [
    "# Exercises for day 2b\n",
    "\n",
    "You will be working on a series of exercises for the material covered in lecture 2b.\n",
    "\n",
    "We covered:\n",
    "- What lists are\n",
    "- Adding lists\n",
    "- Multiplying lists\n",
    "- Accessing lists/strings via indexing\n",
    "- Slices\n",
    "- Lengths\n",
    "- Dictionaries\n",
    "\n",
    "We will go through a series of exercises to reinfornce the concepts covered today"
   ]
  },
  {
   "cell_type": "markdown",
   "id": "3d652dfb",
   "metadata": {},
   "source": [
    "## Exercise 1.0 (Basic)\n",
    "\n",
    "Use `len` function to find the lengths of a string `s = \"hello\"` and a list `lst  = [2 ,3, 45, \"t5\", \"ew\", 4]`"
   ]
  },
  {
   "cell_type": "code",
   "execution_count": 104,
   "id": "0201e074",
   "metadata": {},
   "outputs": [],
   "source": [
    "s = \"hello\"\n",
    "lst  = [2 ,3, 45, \"t5\", \"ew\", 4]"
   ]
  },
  {
   "cell_type": "code",
   "execution_count": 105,
   "id": "37fec79f",
   "metadata": {},
   "outputs": [
    {
     "data": {
      "text/plain": [
       "5"
      ]
     },
     "execution_count": 105,
     "metadata": {},
     "output_type": "execute_result"
    }
   ],
   "source": [
    "len(s)"
   ]
  },
  {
   "cell_type": "code",
   "execution_count": 106,
   "id": "c996c652",
   "metadata": {},
   "outputs": [
    {
     "data": {
      "text/plain": [
       "6"
      ]
     },
     "execution_count": 106,
     "metadata": {},
     "output_type": "execute_result"
    }
   ],
   "source": [
    "len(lst)"
   ]
  },
  {
   "cell_type": "markdown",
   "id": "43f5c155",
   "metadata": {},
   "source": [
    "## Exercise 1.1 (Basic)"
   ]
  },
  {
   "cell_type": "markdown",
   "id": "413d801a",
   "metadata": {},
   "source": [
    "Which of the following options are the correct way to swap two elements `m` and `n`'s values.\n",
    "\n",
    "For example, `m = 3` and `n = 2` initially, and after certain operations, `m = 2` and `n = 3`\n",
    "\n",
    "A. \n",
    "$\\newline m = 3\n",
    "\\newline n = 2\n",
    "\\newline m = n\n",
    "\\newline n = m$\n",
    "\n",
    "B.\n",
    "$\\newline m = 3\n",
    "\\newline n = 2\n",
    "\\newline m = n\n",
    "\\newline temp = m\n",
    "\\newline n = temp$\n",
    "\n",
    "C.\n",
    "$\\newline m = 3\n",
    "\\newline n = 2\n",
    "\\newline temp = n\n",
    "\\newline n = m\n",
    "\\newline m = temp$\n",
    "\n",
    "D.\n",
    "$\\newline m = 3\n",
    "\\newline n = 2\n",
    "\\newline temp = m\n",
    "\\newline n = temp\n",
    "\\newline m = n$\n"
   ]
  },
  {
   "cell_type": "markdown",
   "id": "f169d958",
   "metadata": {},
   "source": [
    "Type your answer here: "
   ]
  },
  {
   "cell_type": "markdown",
   "id": "2dc1da92",
   "metadata": {},
   "source": [
    "C"
   ]
  },
  {
   "cell_type": "markdown",
   "id": "828090a2",
   "metadata": {},
   "source": [
    "## Exercise 2 (Basic)\n",
    "\n",
    "Create one list containing the following:\n",
    "The number `5731`, the string `\"bye\"`, and the boolean `True`"
   ]
  },
  {
   "cell_type": "code",
   "execution_count": 1,
   "id": "22857e10",
   "metadata": {},
   "outputs": [
    {
     "data": {
      "text/plain": [
       "[5731, 'bye', True]"
      ]
     },
     "execution_count": 1,
     "metadata": {},
     "output_type": "execute_result"
    }
   ],
   "source": [
    "[5731, \"bye\", True]"
   ]
  },
  {
   "cell_type": "markdown",
   "id": "86830410",
   "metadata": {},
   "source": [
    "## Exercise 3 (Easy)\n",
    "\n",
    "First define two lists:\n",
    "1. `[87, 109, 38]`\n",
    "2. `[\"string1\", \"string2\", \"string3\"]`\n",
    "\n",
    "Assign them to two variables `list1`, `list2`\n",
    "\n",
    "Add the two lists together to create a new list `list3`. Use `print(list3)` to print out `list3`. What happens when you switch the order of addition?"
   ]
  },
  {
   "cell_type": "code",
   "execution_count": 2,
   "id": "58c8b679",
   "metadata": {},
   "outputs": [
    {
     "name": "stdout",
     "output_type": "stream",
     "text": [
      "[87, 109, 38, 'string1', 'string2', 'string3']\n"
     ]
    }
   ],
   "source": [
    "list1 = [87, 109, 38]\n",
    "list2 = [\"string1\", \"string2\", \"string3\"]\n",
    "list3 = list1 + list2\n",
    "print(list3)"
   ]
  },
  {
   "cell_type": "markdown",
   "id": "019a1b05",
   "metadata": {},
   "source": [
    "## Exercise 4 (Easy)\n",
    "\n",
    "Suppose `list1` is [1, 2, 3]. Use list multiplication to create a new list `list2`, which is [1, 2, 3, 1, 2, 3]. Use `print(list2)` to print out `list2`"
   ]
  },
  {
   "cell_type": "code",
   "execution_count": 3,
   "id": "4c766850",
   "metadata": {},
   "outputs": [],
   "source": [
    "list1 = [1, 2, 3]"
   ]
  },
  {
   "cell_type": "code",
   "execution_count": 4,
   "id": "20300081",
   "metadata": {},
   "outputs": [
    {
     "name": "stdout",
     "output_type": "stream",
     "text": [
      "[1, 2, 3, 1, 2, 3]\n"
     ]
    }
   ],
   "source": [
    "list2 = list1 * 2\n",
    "print(list2)"
   ]
  },
  {
   "cell_type": "markdown",
   "id": "b1c7e083",
   "metadata": {},
   "source": [
    "## Exercise 5 (Basic)\n",
    "\n",
    "Suppose that `lst = [2, 5, 2, 5, 9, 7]`, what is `lst[2]`?"
   ]
  },
  {
   "cell_type": "code",
   "execution_count": 5,
   "id": "29a0fc08",
   "metadata": {},
   "outputs": [],
   "source": [
    "lst = [2, 5, 2, 5, 9, 7]"
   ]
  },
  {
   "cell_type": "markdown",
   "id": "62de07ea",
   "metadata": {},
   "source": [
    "Type your answer here:"
   ]
  },
  {
   "cell_type": "markdown",
   "id": "cb37013f",
   "metadata": {},
   "source": [
    "## Exercise 6 (Medium)\n",
    "Suppose that you are given a sorted list `lst = [0 ,2, 3, 5, 7, 21, 837, 3284, 23842934]`, what is the median of this list? Use `len(lst)` to find the length of this list."
   ]
  },
  {
   "cell_type": "code",
   "execution_count": 6,
   "id": "d6981932",
   "metadata": {},
   "outputs": [],
   "source": [
    "lst = [0 ,2, 3, 5, 7, 21, 837, 3284, 23842934]"
   ]
  },
  {
   "cell_type": "code",
   "execution_count": 7,
   "id": "bbbbbb62",
   "metadata": {},
   "outputs": [
    {
     "name": "stdout",
     "output_type": "stream",
     "text": [
      "7\n"
     ]
    }
   ],
   "source": [
    "print(lst[len(lst) // 2])"
   ]
  },
  {
   "cell_type": "markdown",
   "id": "9c4a5d0f",
   "metadata": {},
   "source": [
    "## Exercise 7 (Basic)\n",
    "\n",
    "Given a string `st = \"addis coder\"`, find the second to the last char. "
   ]
  },
  {
   "cell_type": "code",
   "execution_count": 8,
   "id": "59fa5b70",
   "metadata": {},
   "outputs": [],
   "source": [
    "st = \"addis coder\""
   ]
  },
  {
   "cell_type": "code",
   "execution_count": 9,
   "id": "6bd5e4b5",
   "metadata": {},
   "outputs": [
    {
     "data": {
      "text/plain": [
       "'e'"
      ]
     },
     "execution_count": 9,
     "metadata": {},
     "output_type": "execute_result"
    }
   ],
   "source": [
    "st[-2]"
   ]
  },
  {
   "cell_type": "markdown",
   "id": "0bc8e02d",
   "metadata": {},
   "source": [
    "### 7.1\n",
    "\n",
    "Change the second to the last char of the above `st` to `'i'`, and see if it is possible."
   ]
  },
  {
   "cell_type": "code",
   "execution_count": 10,
   "id": "883071db",
   "metadata": {},
   "outputs": [
    {
     "ename": "TypeError",
     "evalue": "'str' object does not support item assignment",
     "output_type": "error",
     "traceback": [
      "\u001b[0;31m---------------------------------------------------------------------------\u001b[0m",
      "\u001b[0;31mTypeError\u001b[0m                                 Traceback (most recent call last)",
      "Cell \u001b[0;32mIn[10], line 1\u001b[0m\n\u001b[0;32m----> 1\u001b[0m st[\u001b[39m-\u001b[39;49m\u001b[39m1\u001b[39;49m] \u001b[39m=\u001b[39m \u001b[39m'\u001b[39m\u001b[39mi\u001b[39m\u001b[39m'\u001b[39m\n",
      "\u001b[0;31mTypeError\u001b[0m: 'str' object does not support item assignment"
     ]
    }
   ],
   "source": [
    "st[-1] = 'i'"
   ]
  },
  {
   "cell_type": "markdown",
   "id": "8bbcf5f5",
   "metadata": {},
   "source": [
    "## Exercise 8 (Easy)\n",
    "\n",
    "Given a string `st = \"ddkang\"`, remove the first two letters of `st` to create a new string `str1`. Create a second string `str2` from `str1` so that `str2` is `\"daniel kang\"`"
   ]
  },
  {
   "cell_type": "code",
   "execution_count": 11,
   "id": "680d2db1",
   "metadata": {},
   "outputs": [],
   "source": [
    "st = \"ddkang\""
   ]
  },
  {
   "cell_type": "code",
   "execution_count": 12,
   "id": "b028dd01",
   "metadata": {},
   "outputs": [
    {
     "name": "stdout",
     "output_type": "stream",
     "text": [
      "daniel kang\n"
     ]
    }
   ],
   "source": [
    "str1 =  st[2:]\n",
    "str2 = \"daniel \" + str1\n",
    "print(str2)"
   ]
  },
  {
   "cell_type": "markdown",
   "id": "0c737021",
   "metadata": {},
   "source": [
    "## Exercise 9 (Medium)\n",
    "\n",
    "Given a list `lst = [2 ,3 ,4 ,5, 6]` of odd length, print out the middle three numbers in a new list."
   ]
  },
  {
   "cell_type": "code",
   "execution_count": 13,
   "id": "3870680a",
   "metadata": {},
   "outputs": [],
   "source": [
    "lst = [2 ,3 ,4 ,5, 6]"
   ]
  },
  {
   "cell_type": "code",
   "execution_count": 14,
   "id": "1487a083",
   "metadata": {},
   "outputs": [
    {
     "name": "stdout",
     "output_type": "stream",
     "text": [
      "[3, 4, 5]\n"
     ]
    }
   ],
   "source": [
    "print(lst[len(lst) // 2 - 1 : len(lst) // 2 + 2])"
   ]
  },
  {
   "cell_type": "markdown",
   "id": "91de1e40",
   "metadata": {},
   "source": [
    "## Exercise 10 (Basic)\n",
    "\n",
    "Suppose that you have a dictionary `dic = {\"Daniel\": \"San Fransisco\", \"Nati\": \"Addis Ababa\", \"Jelani\": \"Cambridge\" }`. Find `\"Jelani\"`'s city."
   ]
  },
  {
   "cell_type": "code",
   "execution_count": 15,
   "id": "faa7212f",
   "metadata": {},
   "outputs": [],
   "source": [
    "dic = {\"Daniel\": \"San Fransisco\", \"Nati\": \"Addis Ababa\", \"Jelani\": \"Cambridge\" }"
   ]
  },
  {
   "cell_type": "code",
   "execution_count": 16,
   "id": "83eb5090",
   "metadata": {},
   "outputs": [
    {
     "data": {
      "text/plain": [
       "'Cambridge'"
      ]
     },
     "execution_count": 16,
     "metadata": {},
     "output_type": "execute_result"
    }
   ],
   "source": [
    "dic[\"Jelani\"]"
   ]
  },
  {
   "cell_type": "markdown",
   "id": "9bcff608",
   "metadata": {},
   "source": [
    "### 10.1\n",
    "\n",
    "Suppose that you have a dictionary `dic = {\"Daniel\": \"San Fransisco\", \"Nati\": \"Addis Ababa\", \"Jelani\": \"Cambridge\" }`. Change `\"Jelani\"`'s city to  `\"Berkeley\"`."
   ]
  },
  {
   "cell_type": "code",
   "execution_count": 17,
   "id": "35cc46d5",
   "metadata": {},
   "outputs": [],
   "source": [
    "dic = {\"Daniel\": \"San Fransisco\", \"Nati\": \"Addis Ababa\", \"Jelani\": \"Cambridge\" }"
   ]
  },
  {
   "cell_type": "code",
   "execution_count": 18,
   "id": "1d085fd8",
   "metadata": {},
   "outputs": [],
   "source": [
    "dic[\"Jelani\"] = \"Berkeley\""
   ]
  },
  {
   "cell_type": "markdown",
   "id": "4b21d72a",
   "metadata": {},
   "source": [
    "### 10.2\n",
    "\n",
    "Print the length of `dic`."
   ]
  },
  {
   "cell_type": "code",
   "execution_count": 19,
   "id": "8d5558db",
   "metadata": {},
   "outputs": [
    {
     "name": "stdout",
     "output_type": "stream",
     "text": [
      "3\n"
     ]
    }
   ],
   "source": [
    "print(len(dic))"
   ]
  },
  {
   "cell_type": "markdown",
   "id": "49887183",
   "metadata": {},
   "source": [
    "### 10.3\n",
    "Print the keys of `dic` as a list"
   ]
  },
  {
   "cell_type": "code",
   "execution_count": 20,
   "id": "26ade0b2",
   "metadata": {},
   "outputs": [
    {
     "name": "stdout",
     "output_type": "stream",
     "text": [
      "['Daniel', 'Nati', 'Jelani']\n"
     ]
    }
   ],
   "source": [
    "print(list(dic.keys()))"
   ]
  },
  {
   "cell_type": "markdown",
   "id": "39a9ccad",
   "metadata": {},
   "source": [
    "## Exercise 11 (Basic)\n",
    "\n",
    "Suppose you have a list of 3 numbers `lst = [1, 3, -4]`, and you want to negate the elements of the list to get `[-1, -3, 4]`. Create a new list containing the negated elements of `lst` (in such a way that your code works even if the values of the entries are different)!"
   ]
  },
  {
   "cell_type": "code",
   "execution_count": 21,
   "id": "3fcbb53f",
   "metadata": {},
   "outputs": [],
   "source": [
    "lst = [1, 3, -4]"
   ]
  },
  {
   "cell_type": "code",
   "execution_count": 24,
   "id": "d550710c",
   "metadata": {},
   "outputs": [
    {
     "name": "stdout",
     "output_type": "stream",
     "text": [
      "[-1, -3, 4]\n"
     ]
    }
   ],
   "source": [
    "lst2 = [-lst[0], -lst[1], -lst[2]]\n",
    "print(lst2)"
   ]
  },
  {
   "cell_type": "markdown",
   "id": "60871abe",
   "metadata": {},
   "source": [
    "## Exercise 12 (Medium)\n",
    "\n",
    "Suppose you have a nested list `lst = [[\"addis\", 1, 3, [\"coder\"]], [237894, \"ajhfoiah\"]]`.\n",
    "- What's the type of `lst[0]`?\n",
    "- What's the value of `lst[0][0]`?\n",
    "- Print out the element `\"coder\"` from this list."
   ]
  },
  {
   "cell_type": "markdown",
   "id": "ba2a81a7",
   "metadata": {},
   "source": [
    "Type your answer here: list"
   ]
  },
  {
   "cell_type": "markdown",
   "id": "4b26aee8",
   "metadata": {},
   "source": [
    "Type your answer here: \"addis\""
   ]
  },
  {
   "cell_type": "code",
   "execution_count": 26,
   "id": "b640b7c2",
   "metadata": {},
   "outputs": [],
   "source": [
    "lst = [[\"addis\", 1, 3, [\"coder\"]], [237894, \"ajhfoiah\"]]"
   ]
  },
  {
   "cell_type": "code",
   "execution_count": 27,
   "id": "00c5423a",
   "metadata": {},
   "outputs": [
    {
     "name": "stdout",
     "output_type": "stream",
     "text": [
      "coder\n"
     ]
    }
   ],
   "source": [
    "print(lst[0][3][0])"
   ]
  },
  {
   "cell_type": "markdown",
   "id": "f5c15468",
   "metadata": {},
   "source": [
    "## Exercise 13 (Easy)\n",
    "\n",
    "You can put lists inside of lists to create a matrix, like:\n",
    "\n",
    "\n",
    "```\n",
    "matrix = [[1, 2, 3], [4, 5, 6], [7, 8, 9]]\n",
    "```\n",
    "\n",
    "to represent\n",
    "\n",
    "$$\\begin{bmatrix}\n",
    "1&2&3\\\\\n",
    "4&5&6\\\\\n",
    "7&8&9\n",
    "\\end{bmatrix}$$\n",
    "\n",
    "How would you access the entry in the first row, first column (whose value is 1)?"
   ]
  },
  {
   "cell_type": "markdown",
   "id": "5df3a569",
   "metadata": {},
   "source": [
    "Write your answer here: `matrix[0][0]`"
   ]
  },
  {
   "cell_type": "markdown",
   "id": "1e5a8fae",
   "metadata": {},
   "source": [
    "How would you access the entry whose value is 8?"
   ]
  },
  {
   "cell_type": "markdown",
   "id": "c2c374b3",
   "metadata": {},
   "source": [
    "Write your answer here: `matrix[2][1]`"
   ]
  },
  {
   "cell_type": "markdown",
   "id": "a60bb403",
   "metadata": {},
   "source": [
    "## Exercise 14 (Basic)"
   ]
  },
  {
   "cell_type": "markdown",
   "id": "c4889c13",
   "metadata": {},
   "source": [
    "Use a while loop to print the numbers between `0` to `10` (inclusive on both ends)."
   ]
  },
  {
   "cell_type": "code",
   "execution_count": 28,
   "id": "7ffaad7d",
   "metadata": {},
   "outputs": [
    {
     "name": "stdout",
     "output_type": "stream",
     "text": [
      "0\n",
      "1\n",
      "2\n",
      "3\n",
      "4\n",
      "5\n",
      "6\n",
      "7\n",
      "8\n",
      "9\n",
      "10\n"
     ]
    }
   ],
   "source": [
    "i = 0\n",
    "while i <= 10:\n",
    "    print(i)\n",
    "    i += 1\n"
   ]
  },
  {
   "cell_type": "markdown",
   "id": "56a2a0b8",
   "metadata": {},
   "source": [
    "## Exercise 15 (Medium)"
   ]
  },
  {
   "cell_type": "markdown",
   "id": "7dccdec5",
   "metadata": {},
   "source": [
    "Let `n = 345323`. Write a code that checks if `n` is prime. Print `\"n is prime\"` if it is, or `\"n is not prime\"` otherwise."
   ]
  },
  {
   "cell_type": "code",
   "execution_count": 29,
   "id": "5214467e",
   "metadata": {},
   "outputs": [],
   "source": [
    "n = 345323"
   ]
  },
  {
   "cell_type": "code",
   "execution_count": 30,
   "id": "c9b2b860",
   "metadata": {},
   "outputs": [
    {
     "name": "stdout",
     "output_type": "stream",
     "text": [
      "n is not prime\n"
     ]
    }
   ],
   "source": [
    "i = 2\n",
    "cnt = 0\n",
    "while i < n:\n",
    "    if n % i == 0:\n",
    "        cnt += 1\n",
    "    if cnt > 1:\n",
    "        print(\"n is not prime\")\n",
    "        break\n",
    "    i += 1\n",
    "if cnt == 0: print(\"n is prime\")\n",
    "\n",
    "    "
   ]
  },
  {
   "cell_type": "markdown",
   "id": "813602e3",
   "metadata": {},
   "source": [
    "## Exercise 16 (Hard)"
   ]
  },
  {
   "cell_type": "markdown",
   "id": "f3ee9d3f",
   "metadata": {},
   "source": [
    "Write a while loop that prints out all the prime numbers between `2` and `100`."
   ]
  },
  {
   "cell_type": "code",
   "execution_count": 31,
   "id": "d8600727",
   "metadata": {},
   "outputs": [
    {
     "name": "stdout",
     "output_type": "stream",
     "text": [
      "[2, 3, 5, 7, 11, 13, 17, 19, 23, 29, 31, 37, 41, 43, 47, 53, 59, 61, 67, 71, 73, 79, 83, 89, 97]\n"
     ]
    }
   ],
   "source": [
    "n = 2\n",
    "primes = []\n",
    "while n <= 100:\n",
    "    i = 0\n",
    "    cnt = 0\n",
    "    while i < len(primes):\n",
    "        if n % primes[i] == 0:\n",
    "            cnt += 1\n",
    "        i += 1\n",
    "    if cnt == 0:\n",
    "        primes.append(n)\n",
    "    n += 1\n",
    "print(primes)"
   ]
  },
  {
   "cell_type": "markdown",
   "id": "e12eca59",
   "metadata": {},
   "source": [
    "## Exercise 17 (Medium)"
   ]
  },
  {
   "cell_type": "markdown",
   "id": "3ea0975f",
   "metadata": {},
   "source": [
    "Abebe is a billionaire. As a billionaire he doesn't have much time to spend on reading things. He wants to look at his bank account and know how much money he has right away. Unfortunately, the bank's mobile app doesn't use commas to separate digits so we have to help him. Currently the bank's mobile applicaiton says he has `M = 1123456789`amount of money. Can you write a few lines of code to make the amount of money to look like `1,123,456,789`? \n",
    "\n",
    "Use `while` loop to make your code work for any positive amount of money (in other words, assume that `M > 0`).\n",
    "\n",
    "Hint: when should your while loop stop?"
   ]
  },
  {
   "cell_type": "code",
   "execution_count": 32,
   "id": "52b11264",
   "metadata": {},
   "outputs": [],
   "source": [
    "M = 1123456789"
   ]
  },
  {
   "cell_type": "code",
   "execution_count": 33,
   "id": "78695b77",
   "metadata": {},
   "outputs": [
    {
     "name": "stdout",
     "output_type": "stream",
     "text": [
      "1,123,456,789\n"
     ]
    }
   ],
   "source": [
    "st = \"\"\n",
    "while M > 0:\n",
    "    st = (\",\" + str(M % 1000)) + st\n",
    "    M //= 1000\n",
    "print(st[1:])"
   ]
  },
  {
   "cell_type": "markdown",
   "id": "c9666574",
   "metadata": {},
   "source": [
    "## Exercise 18 (Medium)"
   ]
  },
  {
   "cell_type": "markdown",
   "id": "34105b32",
   "metadata": {},
   "source": [
    "Suppose that you have `lst = [1, 2, 3, 4, 5, 6, 7, 8, 9, 10]`, reverse the list using a while loop."
   ]
  },
  {
   "cell_type": "code",
   "execution_count": 34,
   "id": "70a92b64",
   "metadata": {},
   "outputs": [],
   "source": [
    "lst = [1, 2, 3, 4, 5, 6, 7, 8, 9, 10]"
   ]
  },
  {
   "cell_type": "code",
   "execution_count": 35,
   "id": "29ff7085",
   "metadata": {},
   "outputs": [
    {
     "name": "stdout",
     "output_type": "stream",
     "text": [
      "[10, 9, 8, 7, 6, 5, 4, 3, 2, 1]\n"
     ]
    }
   ],
   "source": [
    "i = 0\n",
    "l = len(lst)\n",
    "while i < l // 2:\n",
    "    temp = lst[i]\n",
    "    lst[i] = lst[l - i - 1]\n",
    "    lst[l - i - 1] = temp\n",
    "    i += 1\n",
    "print(lst)"
   ]
  },
  {
   "cell_type": "markdown",
   "id": "217bca1f",
   "metadata": {},
   "source": [
    "## Exercise 19 (Medium)"
   ]
  },
  {
   "cell_type": "markdown",
   "id": "3f96892a",
   "metadata": {},
   "source": [
    "The Fibonnaci sequence is defined as follows: The first two elements in the sequence `f(0)` and `f(1)` are equal to `1`. For every `n>1`, the `n`-th element in the sequence is $$f(n)=f(n-1)+f(n-2).$$\n",
    "Use a while loop to write a code that prints ous a list containing the first `15` numbers in the fibonnaci sequance."
   ]
  },
  {
   "cell_type": "code",
   "execution_count": 36,
   "id": "c04eee2b",
   "metadata": {},
   "outputs": [
    {
     "name": "stdout",
     "output_type": "stream",
     "text": [
      "[1, 1, 2, 3, 5, 8, 13, 21, 34, 55, 89, 144, 233, 377, 610]\n"
     ]
    }
   ],
   "source": [
    "lst = [1, 1]\n",
    "i = 3\n",
    "while i <= 15:\n",
    "    fib = lst[-1]+lst[-2]\n",
    "    lst.append(fib)\n",
    "    i += 1\n",
    "print(lst)"
   ]
  },
  {
   "cell_type": "markdown",
   "id": "13dc82e4",
   "metadata": {},
   "source": [
    "## Exercise 20 (Bubble Sort, Challenge)"
   ]
  },
  {
   "cell_type": "markdown",
   "id": "cba8e1ef",
   "metadata": {},
   "source": [
    "Sorting a list is making the list goes from smallest number to the biggest one.\n",
    "\n",
    "Bubble sort is a simple sorting procedure that repeatedly steps through the input list element by element, comparing the current element with the one after it, swapping their values if needed. \n",
    "\n",
    "Use this algorithm to sort `lst = [9, 8, 7, 6, 5, 4, 3, 2, 1]`\n",
    "\n",
    "Hint: There are `len(lst)` number of passes, and in each pass we need to iterate through the list to compare every adjcent pair of elements."
   ]
  },
  {
   "cell_type": "code",
   "execution_count": 38,
   "id": "9318f4af",
   "metadata": {},
   "outputs": [],
   "source": [
    "lst = [9, 8, 7, 6, 5, 4, 3, 2, 1]"
   ]
  },
  {
   "cell_type": "code",
   "execution_count": 39,
   "id": "3e8722fe",
   "metadata": {},
   "outputs": [
    {
     "name": "stdout",
     "output_type": "stream",
     "text": [
      "[1, 2, 3, 4, 5, 6, 7, 8, 9]\n"
     ]
    }
   ],
   "source": [
    "i = 0\n",
    "l = len(lst)\n",
    "while i < l:\n",
    "    j = 0\n",
    "    while j < l - 1:\n",
    "        if lst[j] > lst[j + 1]:\n",
    "            temp = lst[j]\n",
    "            lst[j] = lst[j + 1]\n",
    "            lst[j + 1] = temp\n",
    "        j += 1\n",
    "    i += 1\n",
    "print(lst)"
   ]
  },
  {
   "cell_type": "markdown",
   "id": "a223562c",
   "metadata": {},
   "source": [
    "## Exercise 21 (Medium)"
   ]
  },
  {
   "cell_type": "markdown",
   "id": "3e9e9a1b",
   "metadata": {},
   "source": [
    "You are given two **lists of strings** called ```names``` and ```cities```. The **first person** in ```names``` lives in the **last city** in ```cities```, the second person lives in the second to last city, the third lives in the third to last, and so on. Write code to create a third list called ```inOrder``` such that the even indexes (0, 2, 4, etc.) are the names of the people (in order) and that the odd indexes (1, 3, 5, etc.) are the cities. For a person in index $i$, their corresponding city should be in index $i+1$. \n",
    "\n",
    "For example:\n",
    "\n",
    "```python\n",
    "names = [\"Daniel\", \"Nati\", \"Jelani\"]\n",
    "cities = [\"Cambridge\",\"Addis Ababa\", \"San Fransisco\"]\n",
    "```\n",
    "In this case, \n",
    "\n",
    "    - Daniel lives in San Francisco\n",
    "    - Nati lives in Addis Ababa\n",
    "    - Jelani lives Cambridge\n",
    "    \n",
    "    \n",
    "You should create the final list:\n",
    "```python\n",
    "inOrder = [\"Daniel\",\"San Fransisco\", \"Nati\", \"Addis Ababa\", \"Jelani\", \"Cambridge\"]\n",
    "```"
   ]
  },
  {
   "cell_type": "code",
   "execution_count": 43,
   "id": "74ac4a53",
   "metadata": {},
   "outputs": [],
   "source": [
    "names = [\"Timnit\", \"Binam\", \"Basi\"]\n",
    "cities = [\"Harar\", \"Addis Ababa\", \"Gondar\"]"
   ]
  },
  {
   "cell_type": "code",
   "execution_count": 48,
   "id": "d6cdbb5a",
   "metadata": {},
   "outputs": [
    {
     "name": "stdout",
     "output_type": "stream",
     "text": [
      "['Timnit', 'Gondar', 'Binam', 'Addis Ababa', 'Basi', 'Harar']\n"
     ]
    }
   ],
   "source": [
    "inOrder = []\n",
    "i = 0\n",
    "while i < len(names):\n",
    "    inOrder.append(names[i])\n",
    "    inOrder.append(cities[-i - 1])\n",
    "    i += 1\n",
    "\n",
    "print(inOrder)\n"
   ]
  }
 ],
 "metadata": {
  "kernelspec": {
   "display_name": "Python 3",
   "language": "python",
   "name": "python3"
  },
  "language_info": {
   "codemirror_mode": {
    "name": "ipython",
    "version": 3
   },
   "file_extension": ".py",
   "mimetype": "text/x-python",
   "name": "python",
   "nbconvert_exporter": "python",
   "pygments_lexer": "ipython3",
   "version": "3.11.4"
  }
 },
 "nbformat": 4,
 "nbformat_minor": 5
}
