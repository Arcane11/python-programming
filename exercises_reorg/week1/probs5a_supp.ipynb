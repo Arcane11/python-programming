{
 "cells": [
  {
   "cell_type": "markdown",
   "metadata": {},
   "source": [
    "# Week 1, Day5 and Part A Extra Exercises \n",
    "### *All of your answers should use recursion!*"
   ]
  },
  {
   "cell_type": "markdown",
   "metadata": {},
   "source": [
    "# Table of Contents  "
   ]
  },
  {
   "cell_type": "markdown",
   "metadata": {},
   "source": [
    "- Question 1:  Print the numbers from 1-10 recursively\n",
    "- Question 2:  Get all combinations of size k\n",
    "- Question 3:  Find the factorial of a number\n",
    "- Question 4:  Find the nth tribonacci number\n",
    "- Question 5:  Check if a word is a palindrome\n",
    "- Question 6:  Generate all the subsets of a given list\n",
    "- Question 7:  Count the digits of a number\n",
    "- Question 8:  Find the sum of numbers between a and b\n",
    "- Question 9:  Find the sum of a nested list\n",
    "- Question 10: Find all the unique permutations of a list\n"
   ]
  },
  {
   "cell_type": "markdown",
   "metadata": {},
   "source": [
    "**Question 1: Print the first 10 positive integers recursively**"
   ]
  },
  {
   "cell_type": "markdown",
   "metadata": {},
   "source": [
    "## Question 1\n",
    "\n",
    "Consider a recursive function called `printNumbers`. \n",
    "* It takes a positive integer n.\n",
    "* prints all the numbers from 1 to n.\n",
    "\n",
    "For example:\n",
    "\n",
    "```\n",
    "printNumbers(2) == 1 2\n",
    "printNumbers(3) == 1 2 3\n",
    "printNumbers(5) == 1 2 3 4 5\n",
    "```\n",
    "\n",
    "#### 1.1\n",
    "What is the recursive case for `printNumbers()`? Describe your answer using English."
   ]
  },
  {
   "cell_type": "markdown",
   "metadata": {},
   "source": []
  },
  {
   "cell_type": "markdown",
   "metadata": {},
   "source": [
    "### 1.2\n",
    "What is the base case for `printNumbers()`? Please use English."
   ]
  },
  {
   "cell_type": "markdown",
   "metadata": {},
   "source": []
  },
  {
   "cell_type": "markdown",
   "metadata": {},
   "source": [
    "### 1.3\n",
    "Using your recursive case and base case, write the code for the function `printNumbers(n)`"
   ]
  },
  {
   "cell_type": "code",
   "execution_count": null,
   "metadata": {},
   "outputs": [],
   "source": [
    "def printNumbers(n):\n",
    "    # your code here\n",
    "    pass"
   ]
  },
  {
   "cell_type": "markdown",
   "metadata": {},
   "source": [
    "## Question 2  \n",
    "\n",
    "Consider a recursive function called `combinations`. \n",
    "* It takes a list of numbers and a number k.\n",
    "* It returns all the possible combinations of size k.\n",
    "\n",
    "*Combinations of size k refer to the subsets or groupings of elements taken from a given set, where each combination consists of exactly k elements. In other words, it represents the selection of k distinct elements from a larger set, without considering the order of the elements.*\n",
    "\n",
    "For example:\n",
    "\n",
    "```\n",
    "combinations([1, 2, 3], 2) == [[1, 2], [1, 3], [2, 3]]\n",
    "combinations([4, 5, 6], 3) == [[4, 5, 6]]\n",
    "combinations([1, 2, 3, 4], 5) == []\n",
    "```\n",
    "\n",
    "#### 2.1\n",
    "What is the recursive case for `combinations()`? Describe your answer using English."
   ]
  },
  {
   "cell_type": "markdown",
   "metadata": {},
   "source": []
  },
  {
   "cell_type": "markdown",
   "metadata": {},
   "source": [
    "#### 2.2\n",
    "What is the base case for `combinations()`? Use English."
   ]
  },
  {
   "cell_type": "markdown",
   "metadata": {},
   "source": []
  },
  {
   "cell_type": "markdown",
   "metadata": {},
   "source": [
    "#### 2.3\n",
    "Use your base case and recursive case to write a `combinations()` function"
   ]
  },
  {
   "cell_type": "code",
   "execution_count": 4,
   "metadata": {},
   "outputs": [
    {
     "name": "stdout",
     "output_type": "stream",
     "text": [
      "Test: (combinations([1, 2, 3], 2) == [[1, 2], [1, 3], [2, 3]])=False\n",
      "Test: (combinations([4, 5, 6], 3) == [[4, 5, 6]])=False\n",
      "Test: (combinations([1, 2, 3, 4], 5) == [])=True\n"
     ]
    }
   ],
   "source": [
    "def combinations(lst, k):\n",
    "    # TODO: your code here\n",
    "    return []\n",
    "\n",
    "# Test cases\n",
    "print('Test passed:', combinations([1, 2, 3], 2) == [[1, 2], [1, 3], [2, 3]])\n",
    "print('Test passed:', combinations([4, 5, 6], 3) == [[4, 5, 6]])\n",
    "print('Test passed:', combinations([1, 2, 3, 4], 5) == [])"
   ]
  },
  {
   "cell_type": "markdown",
   "metadata": {},
   "source": [
    "## Question 3\n",
    "Consider a recursive function called `factorial(num)`:\n",
    "* It takes a positive integer num\n",
    "* It returns the factorial of that number.\n",
    "\n",
    "For example:\n",
    "\n",
    "```\n",
    "factorial(0) == 0\n",
    "factorial(1) == 1\n",
    "factorial(3) == 6\n",
    "factorial(5) == 120\n",
    "factorial(10) == 3628800\n",
    "```\n",
    "\n",
    "#### 3.1\n",
    "What is the recursive case for `factorial(num)`? "
   ]
  },
  {
   "cell_type": "markdown",
   "metadata": {},
   "source": []
  },
  {
   "cell_type": "markdown",
   "metadata": {},
   "source": [
    "#### 3.2\n",
    "What is the base case for `factorial(num)`? "
   ]
  },
  {
   "cell_type": "markdown",
   "metadata": {},
   "source": []
  },
  {
   "cell_type": "markdown",
   "metadata": {},
   "source": [
    "### 3.3\n",
    "Using your base case and recursive case, write the code for the function `factorial(num)`"
   ]
  },
  {
   "cell_type": "code",
   "execution_count": 5,
   "metadata": {},
   "outputs": [
    {
     "name": "stdout",
     "output_type": "stream",
     "text": [
      "Test: False\n",
      "Test: False\n",
      "Test: False\n",
      "Test: False\n",
      "Test: False\n"
     ]
    }
   ],
   "source": [
    "def factorial(num):\n",
    "    # your code here\n",
    "    pass\n",
    "\n",
    "# after you finish, these all should print true\n",
    "print('Test passed:', factorial(0) == 1)\n",
    "print('Test passed:', factorial(1) == 1)\n",
    "print('Test passed:', factorial(2) == 2)\n",
    "print('Test passed:', factorial(3) == 6)\n",
    "print('Test passed:', factorial(5) == 120)"
   ]
  },
  {
   "cell_type": "markdown",
   "metadata": {},
   "source": [
    "## Question 4\n",
    "Consider a recursive function called `tribonacci(n)`:\n",
    "* It takes a positive integer n\n",
    "* It returns the nth number in the tribonacci series.\n",
    "\n",
    "**Tribonacci numbers** are like the Fibonacci numbers, but instead of starting with two predetermined terms, the sequence starts with three predetermined terms and each term afterwards is the sum of the preceding three terms. The first few tribonacci numbers are:\n",
    "\n",
    "```\n",
    "tribonacci(0) == 0\n",
    "tribonacci(1) == 0\n",
    "tribonacci(2) == 1\n",
    "tribonacci(4) == 2\n",
    "tribonacci(5) == 4\n",
    "tribonacci(6) == 7\n",
    "tribonacci(7) == 13\n",
    "tribonacci(9) == 44\n",
    "tribonacci(11) == 149\n",
    "```\n",
    "\n",
    "#### 4.2\n",
    "What is the recursive case for `tribonacci(num)`? \n"
   ]
  },
  {
   "cell_type": "markdown",
   "metadata": {},
   "source": []
  },
  {
   "cell_type": "markdown",
   "metadata": {},
   "source": [
    "#### 4.2\n",
    "What is the base case for `tribonacci(num)`? "
   ]
  },
  {
   "cell_type": "markdown",
   "metadata": {},
   "source": []
  },
  {
   "cell_type": "markdown",
   "metadata": {},
   "source": [
    "#### 4.3\n",
    "Use your base case and recursive case to write a `tribonacci(n)` function"
   ]
  },
  {
   "cell_type": "code",
   "execution_count": 6,
   "metadata": {},
   "outputs": [
    {
     "name": "stdout",
     "output_type": "stream",
     "text": [
      "Test passed: False\n",
      "Test passed: False\n",
      "Test passed: False\n",
      "Test passed: False\n",
      "Test passed: False\n"
     ]
    }
   ],
   "source": [
    "def tribonacci(n):\n",
    "    # your code here\n",
    "    return -1\n",
    "\n",
    "# after you finish, these all should print true\n",
    "print('Test passed:', tribonacci(0) == 0)\n",
    "print('Test passed:', tribonacci(1) == 1)\n",
    "print('Test passed:', tribonacci(4) == 3)\n",
    "print('Test passed:', tribonacci(5) == 5 )\n",
    "print('Test passed:', tribonacci(10) == 55)"
   ]
  },
  {
   "cell_type": "markdown",
   "metadata": {},
   "source": [
    "## Question 5\n",
    "Consider a recursive function called `palindromeCheck(word)`:\n",
    "* It takes a string word.\n",
    "* It returns True if the word is a palindrome, and False otherwise.\n",
    "\n",
    "For example:\n",
    "\n",
    "```\n",
    "palindromeCheck(\"racecar\") == True\n",
    "palindromeCheck(\"hello\") == False\n",
    "palindromeCheck(\"level\") == True\n",
    "palindromeCheck(\"python\") == False\n",
    "```\n",
    "\n",
    "#### 5.2\n",
    "What is the recursive case for `palindromeCheck(word)`? \n"
   ]
  },
  {
   "cell_type": "markdown",
   "metadata": {},
   "source": []
  },
  {
   "cell_type": "markdown",
   "metadata": {},
   "source": [
    "#### 5.2\n",
    "What is the base case for `palindromeCheck(word)`?"
   ]
  },
  {
   "cell_type": "markdown",
   "metadata": {},
   "source": []
  },
  {
   "cell_type": "markdown",
   "metadata": {},
   "source": [
    "#### 5.3\n",
    "Use your base case and recursive case to write a `palindromeCheck(word)` function"
   ]
  },
  {
   "cell_type": "code",
   "execution_count": 7,
   "metadata": {},
   "outputs": [
    {
     "name": "stdout",
     "output_type": "stream",
     "text": [
      "Test passed: True\n",
      "Test passed: False\n",
      "Test passed: True\n",
      "Test passed: False\n"
     ]
    }
   ],
   "source": [
    "def palindromeCheck(n):\n",
    "    # your code here\n",
    "    return True\n",
    "\n",
    "# after you finish, these all should print true\n",
    "print('Test passed:', palindromeCheck(\"racecar\") == True)\n",
    "print('Test passed:', palindromeCheck(\"hello\") == False)\n",
    "print('Test passed:', palindromeCheck(\"level\") == True)\n",
    "print('Test passed:', palindromeCheck(\"python\") == False)"
   ]
  },
  {
   "cell_type": "markdown",
   "metadata": {},
   "source": [
    "## Question 6\n",
    "Consider a recursive function called `generateSubsets(nums)`:\n",
    "* It takes a list of integers `nums`.\n",
    "* It returns a list containing all possible subsets of `nums`.\n",
    "\n",
    "**Note:** A subset is a collection of elements from the original set, and it can include elements in any order.\n",
    "\n",
    "For example:\n",
    "\n",
    "```\n",
    "generateSubsets([1, 2, 3]) == [[], [1], [2], [3], [1, 2], [1, 3], [2, 3], [1, 2, 3]]                            \n",
    "generateSubsets([4, 5]) == [[], [4], [5], [4, 5]]\n",
    "generateSubsets([6]) == [[], [6]]\n",
    "```\n",
    "#### 6.1\n",
    "What is the recursive case for `generateSubsets(nums)`? \n",
    "\n",
    "**Note:** The subsets are generated using a recursive approach, where subsets of smaller sizes are combined to form subsets of larger sizes.\n"
   ]
  },
  {
   "cell_type": "markdown",
   "metadata": {},
   "source": []
  },
  {
   "cell_type": "markdown",
   "metadata": {},
   "source": [
    "#### 6.2\n",
    "What is the base case for `generateSubsets(nums)`? "
   ]
  },
  {
   "cell_type": "markdown",
   "metadata": {},
   "source": []
  },
  {
   "cell_type": "markdown",
   "metadata": {},
   "source": [
    "#### 6.3\n",
    "Use your base case and recursive case to write a `generateSubsets(nums)` function"
   ]
  },
  {
   "cell_type": "code",
   "execution_count": 8,
   "metadata": {},
   "outputs": [
    {
     "name": "stdout",
     "output_type": "stream",
     "text": [
      "Test passed: False\n",
      "Test passed: False\n",
      "Test passed: False\n"
     ]
    }
   ],
   "source": [
    "def generateSubsets(n):\n",
    "    # your code here\n",
    "    return []\n",
    "\n",
    "\n",
    "print('Test passed:', sorted(generateSubsets([1, 2, 3]))  == [[], [1], [1, 2], [1, 2, 3], [1, 3], [2], [2, 3], [3]])\n",
    "print('Test passed:', sorted(generateSubsets([4, 5]))  == [[], [4], [4, 5], [5]])\n",
    "print('Test passed:', sorted(generateSubsets([6]))  == [[], [6]])"
   ]
  },
  {
   "cell_type": "markdown",
   "metadata": {},
   "source": [
    "## Question 7\n",
    "Consider a recursive function called `countDigits(n)`:\n",
    "* It takes a positive integer `n`.\n",
    "* It returns the count of digits in `n`.\n",
    "\n",
    "For example:\n",
    "```\n",
    "countDigits(0) == 1\n",
    "countDigits(123) == 3\n",
    "countDigits(987654321) == 9\n",
    "```\n",
    "\n",
    "#### 7.1\n",
    "What is the recursive case for `countDigits(n)`? \n"
   ]
  },
  {
   "cell_type": "markdown",
   "metadata": {},
   "source": []
  },
  {
   "cell_type": "markdown",
   "metadata": {},
   "source": [
    "#### 7.2\n",
    "What is the base case for `countDigits(n)`? "
   ]
  },
  {
   "cell_type": "markdown",
   "metadata": {},
   "source": []
  },
  {
   "cell_type": "markdown",
   "metadata": {},
   "source": [
    "#### 7.3\n",
    "Use your base case and recursive case to write a `countDigits(n)` function"
   ]
  },
  {
   "cell_type": "code",
   "execution_count": null,
   "metadata": {},
   "outputs": [],
   "source": [
    "def countDigits(n):\n",
    "    # your code here\n",
    "    return 0\n",
    "\n",
    "# after you finish, these all should print true\n",
    "print('Test passed:', countDigits(0) == 1)\n",
    "print('Test passed:', countDigits(123) == 3)\n",
    "print('Test passed:', countDigits(987654321) == 9)"
   ]
  },
  {
   "cell_type": "markdown",
   "metadata": {},
   "source": [
    "## Question 8\n",
    "Consider a recursive function called `sumRange(a, b)`:\n",
    "* It takes two positive integers a and b.\n",
    "* It then returns the sum of the numbers in between a and b, including a and b.\n",
    "\n",
    "For example:\n",
    "\n",
    "```\n",
    "sumRange(0, 0) == 0\n",
    "sumRange(1, 5) == 15\n",
    "sumRange(10, 15) == 75\n",
    "sumRange(5, 10) == 45\n",
    "\n",
    "```\n",
    "### 8.1\n",
    "What is the recursive case `sumRange(a, b)`"
   ]
  },
  {
   "cell_type": "markdown",
   "metadata": {},
   "source": []
  },
  {
   "cell_type": "markdown",
   "metadata": {},
   "source": [
    "### 8.2\n",
    "What is the base case `sumRange(a, b)`"
   ]
  },
  {
   "cell_type": "markdown",
   "metadata": {},
   "source": []
  },
  {
   "cell_type": "markdown",
   "metadata": {},
   "source": [
    "#### 8.3\n",
    "Use your base case and recursive case to write a `sumRange(a, b)` function"
   ]
  },
  {
   "cell_type": "code",
   "execution_count": 9,
   "metadata": {},
   "outputs": [
    {
     "name": "stdout",
     "output_type": "stream",
     "text": [
      "Test passed: True\n",
      "Test passed: False\n",
      "Test passed: False\n",
      "Test passed: False\n"
     ]
    }
   ],
   "source": [
    "def sumRange(a, b):\n",
    "    # your code here\n",
    "    return 0\n",
    "\n",
    "\n",
    "# after you finish, these all should print true\n",
    "print('Test passed:', sumRange(0, 0) == 0)\n",
    "print('Test passed:', sumRange(1, 5) == 15)\n",
    "print('Test passed:', sumRange(10, 15) == 75)\n",
    "print('Test passed:', sumRange(5, 10) == 45)"
   ]
  },
  {
   "cell_type": "markdown",
   "metadata": {},
   "source": [
    "## Question 9\n",
    "Consider a recursive function called `nestedListSum(nestedList)`:\n",
    "* It takes a nested list `nestedList`, which can contain either integers or nested lists.\n",
    "* It returns the sum of all the integers in the nested list.\n",
    "\n",
    "For example:\n",
    "\n",
    "```\n",
    "nestedListSum([1, 2, 3, [4, 5]]) == 15\n",
    "nestedListSum([[1, 2], [3, [4, 5]]]) == 15\n",
    "nestedListSum([1, [2, [3, [4, [5]]]]]) == 15\n",
    "```\n",
    "### 9.1\n",
    "What is the recursive case `nestedListSum(nestedList)`\n"
   ]
  },
  {
   "cell_type": "markdown",
   "metadata": {},
   "source": []
  },
  {
   "cell_type": "markdown",
   "metadata": {},
   "source": [
    "### 9.2\n",
    "What is the base case for `nestedListSum(nestedList)`"
   ]
  },
  {
   "cell_type": "markdown",
   "metadata": {},
   "source": []
  },
  {
   "cell_type": "markdown",
   "metadata": {},
   "source": [
    "#### 9.3\n",
    "Use your base case and recursive case to write a `nestedListSum(nestedList)` function"
   ]
  },
  {
   "cell_type": "code",
   "execution_count": null,
   "metadata": {},
   "outputs": [],
   "source": [
    "def nestedListSum(nestedList):\n",
    "    # your code here\n",
    "    return 0\n",
    "\n",
    "\n",
    "# after you finish, these all should print true\n",
    "print('Test passed:', nestedListSum([1, 2, 3, [4, 5]]) == 15)\n",
    "print('Test passed:', nestedListSum([[1, 2], [3, [4, 5]]]) == 15)\n",
    "print('Test passed:', nestedListSum([1, [2, [3, [4, [5]]]]]) == 15)"
   ]
  },
  {
   "cell_type": "markdown",
   "metadata": {},
   "source": [
    "## Question 10\n",
    "Consider a recursive function called `uniquePermutations(lst)`:\n",
    "* It takes a list of numbers\n",
    "* It returns all the unique permutations of the list in any order.\n",
    "\n",
    "*A unique permutation refers to a distinct arrangement of the elements in a given list, where each arrangement is different from all others.*\n",
    "\n",
    "For example:\n",
    "\n",
    "```\n",
    "uniquePermutations([1, 1]) == [[1, 1]]\n",
    "uniquePermutations([1,1,2]) == [[1,1,2], [1,2,1], [2,1,1]]\n",
    "uniquePermutations([1,2,3]) == [[1,2,3],[1,3,2],[2,1,3],[2,3,1],[3,1,2],[3,2,1]]\n",
    "```\n",
    "### 10.1\n",
    "What is the recursive case `uniquePermutations(lst)`\n"
   ]
  },
  {
   "cell_type": "markdown",
   "metadata": {},
   "source": []
  },
  {
   "cell_type": "markdown",
   "metadata": {},
   "source": [
    "### 10.2\n",
    "What is the base case for `uniquePermutations(lst)`"
   ]
  },
  {
   "cell_type": "markdown",
   "metadata": {},
   "source": []
  },
  {
   "cell_type": "markdown",
   "metadata": {},
   "source": [
    "#### 10.3\n",
    "Use your base case and recursive case to write a `uniquePermutations(lst)` function"
   ]
  },
  {
   "cell_type": "code",
   "execution_count": null,
   "metadata": {},
   "outputs": [],
   "source": [
    "def uniquePermutations(lst):\n",
    "    # your code here\n",
    "    return []\n",
    "\n",
    "# after you finish check your results with the description\n",
    "uniquePermutations([1, 1]) \n",
    "uniquePermutations([1,1,2])\n",
    "uniquePermutations([1,2,3])"
   ]
  },
  {
   "cell_type": "markdown",
   "metadata": {},
   "source": [
    "## Question 11. Tower of Hanoi (Hard)\n",
    "\n",
    "You may have heard of the game \"Tower of Hanoi\" (see figure below):\n",
    "\n",
    "![](hanoi.jpeg)\n",
    "\n",
    "The goal of the game is to move all the disks from the leftmost peg to the rightmost peg. The middle peg can be used as a helper peg to temporarily hold the disks.\n",
    "\n",
    "There are only two simple rules: \n",
    "1. You can only move one disk at a time.\n",
    "2. You can only place a smaller disk on top of a larger disk.\n",
    "\n",
    "The puzzle starts with `n` disks on the leftmost peg, and the disks are sorted from smallest to largest, with the largest disk on the bottom.\n",
    "\n",
    "Your task is to write a **recursive function** called `hanoi(n, source, helper, target)` that prints out the steps to solve the Tower of Hanoi puzzle.\n",
    "\n",
    "For example:\n",
    "\n",
    "```\n",
    "hanoi(1, \"A\", \"B\", \"C\") # ---> prints \"Move disk 1 from peg A to peg C\"\n",
    "hanoi(2, \"A\", \"B\", \"C\") # ---> prints \"Move disk 1 from peg A to peg B\"\n",
    "                                      \"Move disk 2 from peg A to peg C\"\n",
    "                                      \"Move disk 1 from peg B to peg C\"\n",
    "hanoi(3, \"A\", \"B\", \"C\") # ---> prints \"Move disk 1 from peg A to peg C\"\n",
    "                                      \"Move disk 2 from peg A to peg B\"\n",
    "                                      \"Move disk 1 from peg C to peg B\"\n",
    "                                      \"Move disk 3 from peg A to peg C\"\n",
    "                                      \"Move disk 1 from peg B to peg A\"\n",
    "                                      \"Move disk 2 from peg B to peg C\"\n",
    "                                      \"Move disk 1 from peg A to peg C\"\n",
    "```\n",
    "\n",
    "**Hint:** Think about what the base case and recursive case would be; the recursive case should reduce the problem to a smaller version of itself (in this problem, a Tower of Hanoi with fewer disks).\n",
    "\n"
   ]
  },
  {
   "cell_type": "code",
   "execution_count": 10,
   "metadata": {},
   "outputs": [],
   "source": [
    "def hanoi(n, source, helper, target):\n",
    "    # TODO: your code here\n",
    "    # NOTE: you don't need to return anything from the function; just print\n",
    "    # out the individual moves \n",
    "    pass"
   ]
  },
  {
   "cell_type": "code",
   "execution_count": null,
   "metadata": {},
   "outputs": [],
   "source": []
  }
 ],
 "metadata": {
  "kernelspec": {
   "display_name": "Python 3",
   "language": "python",
   "name": "python3"
  },
  "language_info": {
   "codemirror_mode": {
    "name": "ipython",
    "version": 3
   },
   "file_extension": ".py",
   "mimetype": "text/x-python",
   "name": "python",
   "nbconvert_exporter": "python",
   "pygments_lexer": "ipython3",
   "version": "3.9.14"
  },
  "orig_nbformat": 4
 },
 "nbformat": 4,
 "nbformat_minor": 2
}
