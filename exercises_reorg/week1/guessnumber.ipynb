{
 "cells": [
  {
   "cell_type": "markdown",
   "metadata": {},
   "source": [
    "### Inputs\n",
    "\n",
    "You can make your code interactive by asking for inputs. The `input` function provides this functionality. It opens an input field, and returns the input that the user provided as a string."
   ]
  },
  {
   "cell_type": "code",
   "execution_count": 1,
   "metadata": {},
   "outputs": [
    {
     "name": "stdout",
     "output_type": "stream",
     "text": [
      "Enter a number\n",
      "The number you entered was Enter\n",
      "Three times your number is EnterEnterEnter\n"
     ]
    }
   ],
   "source": [
    "print(\"Enter a number\")\n",
    "number = input()\n",
    "print(\"The number you entered was \" + number)\n",
    "print(\"Three times your number is \" + number*3)"
   ]
  },
  {
   "cell_type": "markdown",
   "metadata": {},
   "source": [
    "The last result doesn't seem quite right. This is because `number` is a string.\n",
    "\n",
    "If you want the input as a number, you have to convert it from string to integer."
   ]
  },
  {
   "cell_type": "code",
   "execution_count": 2,
   "metadata": {},
   "outputs": [
    {
     "name": "stdout",
     "output_type": "stream",
     "text": [
      "Enter a number\n",
      "The number you entered was 4\n",
      "Three times your number is 12\n"
     ]
    }
   ],
   "source": [
    "print(\"Enter a number\")\n",
    "number = int(input())\n",
    "print(\"The number you entered was \" + str(number))\n",
    "print(\"Three times your number is \" + str(number*3))"
   ]
  },
  {
   "cell_type": "markdown",
   "metadata": {},
   "source": [
    "#### Exercise 1\n",
    "\n",
    "Pick a secret number between 1 and 4, and write code that lets the player guess the number. Let the player keep guessing until they get the right number, and tell them each time if their guess was correct."
   ]
  },
  {
   "cell_type": "code",
   "execution_count": 6,
   "metadata": {},
   "outputs": [
    {
     "name": "stdout",
     "output_type": "stream",
     "text": [
      "2\n",
      "2\n"
     ]
    }
   ],
   "source": [
    "import random\n",
    "while True:\n",
    "    rand1 = random.randrange(1,4)\n",
    "    print(rand1)\n",
    "    inp1 = int(input(\"guess a number.\"))\n",
    "    print(inp1)\n",
    "    if rand1 ==inp1:\n",
    "        break"
   ]
  },
  {
   "cell_type": "markdown",
   "metadata": {},
   "source": [
    "### Random numbers\n",
    "\n",
    "`random.randrange(a, b)` is a function to generate a random integer between `a` and `b` (excluding `b` itself, like `range`).\n",
    "\n",
    "To use this function, you first need to import the `random` module by running\n",
    "`import random`\n",
    "in your notebook.\n",
    "Run the code below to generate a random number between 1 and (excluding) 4."
   ]
  },
  {
   "cell_type": "code",
   "execution_count": 7,
   "metadata": {},
   "outputs": [
    {
     "name": "stdout",
     "output_type": "stream",
     "text": [
      "3\n"
     ]
    }
   ],
   "source": [
    "import random\n",
    "print(random.randrange(1,4))"
   ]
  },
  {
   "cell_type": "code",
   "execution_count": 8,
   "metadata": {},
   "outputs": [
    {
     "name": "stdout",
     "output_type": "stream",
     "text": [
      "2\n",
      "2\n",
      "1\n",
      "1\n",
      "1\n",
      "2\n",
      "3\n",
      "1\n",
      "1\n",
      "1\n"
     ]
    }
   ],
   "source": [
    "for i in range(10):\n",
    "    print(random.randrange(1,4))"
   ]
  },
  {
   "cell_type": "markdown",
   "metadata": {
    "slideshow": {
     "slide_type": "slide"
    }
   },
   "source": [
    "#### Exercise 2\n",
    "\n",
    "Modify the code from exercise 1 so that the secret number is picked randomly between 1 and 50. After each guess, let the player know whether their guess was too large or too small."
   ]
  },
  {
   "cell_type": "code",
   "execution_count": null,
   "metadata": {
    "scrolled": true,
    "slideshow": {
     "slide_type": "fragment"
    }
   },
   "outputs": [
    {
     "name": "stdout",
     "output_type": "stream",
     "text": [
      "30\n",
      "8\n",
      "A little too low.\n",
      "20\n",
      "A little too low.\n",
      "26\n",
      "A little too low.\n",
      "30\n",
      "you got it right\n"
     ]
    }
   ],
   "source": [
    "import random\n",
    "rand1 = random.randrange(1,50)\n",
    "# print(rand1)\n",
    "while True:\n",
    "    inp1 = int(input(\"guess a number.\"))\n",
    "    print(inp1)\n",
    "    if rand1 > inp1:\n",
    "        print(\"A little too low.\")\n",
    "    elif rand1 <inp1:\n",
    "        print(\"a little bit higher\")\n",
    "    else:\n",
    "        print(\"you got it right\")\n",
    "        break"
   ]
  },
  {
   "cell_type": "markdown",
   "metadata": {
    "slideshow": {
     "slide_type": "slide"
    }
   },
   "source": [
    "Try to find strategies that can guess the number in as few guesses as possible!\n",
    "Outline your strategies below, and estimate how many guesses they take in the worst case. How many guesses are needed if the secret number is picked between 1 and `n`?"
   ]
  },
  {
   "cell_type": "markdown",
   "metadata": {},
   "source": [
    "**Write your answer here**"
   ]
  },
  {
   "cell_type": "markdown",
   "metadata": {
    "scrolled": true,
    "slideshow": {
     "slide_type": "fragment"
    }
   },
   "source": [
    "#### Exercise 3:\n",
    "\n",
    "Reverse the roles: Computer guesses the player's number! Write an AI that guesses the number using your best strategy. Now the player tells each round whether the guess was too big or small."
   ]
  },
  {
   "cell_type": "code",
   "execution_count": null,
   "metadata": {},
   "outputs": [],
   "source": []
  }
 ],
 "metadata": {
  "celltoolbar": "Slideshow",
  "kernelspec": {
   "display_name": "Python 3",
   "language": "python",
   "name": "python3"
  },
  "language_info": {
   "codemirror_mode": {
    "name": "ipython",
    "version": 3
   },
   "file_extension": ".py",
   "mimetype": "text/x-python",
   "name": "python",
   "nbconvert_exporter": "python",
   "pygments_lexer": "ipython3",
   "version": "3.13.3"
  },
  "livereveal": {
   "scroll": true,
   "start_slideshow_at": "selected",
   "transitionSpeed": "fast"
  }
 },
 "nbformat": 4,
 "nbformat_minor": 2
}
