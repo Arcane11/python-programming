{
 "cells": [
  {
   "cell_type": "markdown",
   "metadata": {},
   "source": [
    "### Inputs\n",
    "\n",
    "You can make your code interactive by asking for inputs. The `input` function provides this functionality. It opens an input field, and returns the input that the user provided as a string."
   ]
  },
  {
   "cell_type": "code",
   "execution_count": 85,
   "metadata": {},
   "outputs": [],
   "source": [
    "import math\n",
    "import random"
   ]
  },
  {
   "cell_type": "code",
   "execution_count": 86,
   "metadata": {},
   "outputs": [
    {
     "name": "stdout",
     "output_type": "stream",
     "text": [
      "Enter a number\n",
      "The number you entered was \n",
      "Three times your number is \n"
     ]
    }
   ],
   "source": [
    "print(\"Enter a number\")\n",
    "number = input()\n",
    "print(\"The number you entered was \" + number)\n",
    "print(\"Three times your number is \" + number*3)"
   ]
  },
  {
   "cell_type": "markdown",
   "metadata": {},
   "source": [
    "The last result doesn't seem quite right. This is because `number` is a string.\n",
    "\n",
    "If you want the input as a number, you have to convert it from string to integer."
   ]
  },
  {
   "cell_type": "code",
   "execution_count": 87,
   "metadata": {},
   "outputs": [
    {
     "name": "stdout",
     "output_type": "stream",
     "text": [
      "Enter a number\n"
     ]
    },
    {
     "ename": "ValueError",
     "evalue": "invalid literal for int() with base 10: ''",
     "output_type": "error",
     "traceback": [
      "\u001b[31m---------------------------------------------------------------------------\u001b[39m",
      "\u001b[31mValueError\u001b[39m                                Traceback (most recent call last)",
      "\u001b[36mCell\u001b[39m\u001b[36m \u001b[39m\u001b[32mIn[87]\u001b[39m\u001b[32m, line 2\u001b[39m\n\u001b[32m      1\u001b[39m \u001b[38;5;28mprint\u001b[39m(\u001b[33m\"\u001b[39m\u001b[33mEnter a number\u001b[39m\u001b[33m\"\u001b[39m)\n\u001b[32m----> \u001b[39m\u001b[32m2\u001b[39m number = \u001b[38;5;28;43mint\u001b[39;49m\u001b[43m(\u001b[49m\u001b[38;5;28;43minput\u001b[39;49m\u001b[43m(\u001b[49m\u001b[43m)\u001b[49m\u001b[43m)\u001b[49m\n\u001b[32m      3\u001b[39m \u001b[38;5;28mprint\u001b[39m(\u001b[33m\"\u001b[39m\u001b[33mThe number you entered was \u001b[39m\u001b[33m\"\u001b[39m + \u001b[38;5;28mstr\u001b[39m(number))\n\u001b[32m      4\u001b[39m \u001b[38;5;28mprint\u001b[39m(\u001b[33m\"\u001b[39m\u001b[33mThree times your number is \u001b[39m\u001b[33m\"\u001b[39m + \u001b[38;5;28mstr\u001b[39m(number*\u001b[32m3\u001b[39m))\n",
      "\u001b[31mValueError\u001b[39m: invalid literal for int() with base 10: ''"
     ]
    }
   ],
   "source": [
    "print(\"Enter a number\")\n",
    "number = int(input())\n",
    "print(\"The number you entered was \" + str(number))\n",
    "print(\"Three times your number is \" + str(number*3))"
   ]
  },
  {
   "cell_type": "markdown",
   "metadata": {},
   "source": [
    "#### Exercise 1\n",
    "\n",
    "Pick a secret number between 1 and 4, and write code that lets the player guess the number. Let the player keep guessing until they get the right number, and tell them each time if their guess was correct."
   ]
  },
  {
   "cell_type": "code",
   "execution_count": null,
   "metadata": {},
   "outputs": [
    {
     "name": "stdout",
     "output_type": "stream",
     "text": [
      "1\n",
      "4\n",
      "1\n",
      "3\n",
      "2\n",
      "2\n"
     ]
    }
   ],
   "source": [
    "import random\n",
    "while True:\n",
    "    rand1 = random.randrange(1,4)\n",
    "    print(rand1)\n",
    "    inp1 = int(input(\"guess a number.\"))\n",
    "    print(inp1)\n",
    "    if rand1 ==inp1:\n",
    "        break"
   ]
  },
  {
   "cell_type": "markdown",
   "metadata": {},
   "source": [
    "### Random numbers\n",
    "\n",
    "`random.randrange(a, b)` is a function to generate a random integer between `a` and `b` (excluding `b` itself, like `range`).\n",
    "\n",
    "To use this function, you first need to import the `random` module by running\n",
    "`import random`\n",
    "in your notebook.\n",
    "Run the code below to generate a random number between 1 and (excluding) 4."
   ]
  },
  {
   "cell_type": "code",
   "execution_count": null,
   "metadata": {},
   "outputs": [
    {
     "name": "stdout",
     "output_type": "stream",
     "text": [
      "3\n"
     ]
    }
   ],
   "source": [
    "import random\n",
    "print(random.randrange(1,4))"
   ]
  },
  {
   "cell_type": "code",
   "execution_count": null,
   "metadata": {},
   "outputs": [
    {
     "name": "stdout",
     "output_type": "stream",
     "text": [
      "2\n",
      "2\n",
      "1\n",
      "1\n",
      "1\n",
      "2\n",
      "3\n",
      "1\n",
      "1\n",
      "1\n"
     ]
    }
   ],
   "source": [
    "for i in range(10):\n",
    "    print(random.randrange(1,4))"
   ]
  },
  {
   "cell_type": "markdown",
   "metadata": {
    "slideshow": {
     "slide_type": "slide"
    }
   },
   "source": [
    "#### Exercise 2\n",
    "\n",
    "Modify the code from exercise 1 so that the secret number is picked randomly between 1 and 50. After each guess, let the player know whether their guess was too large or too small."
   ]
  },
  {
   "cell_type": "code",
   "execution_count": null,
   "metadata": {
    "scrolled": true,
    "slideshow": {
     "slide_type": "fragment"
    }
   },
   "outputs": [
    {
     "name": "stdout",
     "output_type": "stream",
     "text": [
      "30\n",
      "8\n",
      "A little too low.\n",
      "20\n",
      "A little too low.\n",
      "26\n",
      "A little too low.\n",
      "30\n",
      "you got it right\n"
     ]
    }
   ],
   "source": [
    "import random\n",
    "rand1 = random.randrange(1,50)\n",
    "# print(rand1)\n",
    "while True:\n",
    "    inp1 = int(input(\"guess a number.\"))\n",
    "    print(inp1)\n",
    "    if rand1 > inp1:\n",
    "        print(\"A little too low.\")\n",
    "    elif rand1 <inp1:\n",
    "        print(\"a little bit higher\")\n",
    "    else:\n",
    "        print(\"you got it right\")\n",
    "        break"
   ]
  },
  {
   "cell_type": "markdown",
   "metadata": {
    "slideshow": {
     "slide_type": "slide"
    }
   },
   "source": [
    "Try to find strategies that can guess the number in as few guesses as possible!\n",
    "Outline your strategies below, and estimate how many guesses they take in the worst case. How many guesses are needed if the secret number is picked between 1 and `n`?"
   ]
  },
  {
   "cell_type": "markdown",
   "metadata": {},
   "source": [
    "**Write your answer here**"
   ]
  },
  {
   "cell_type": "code",
   "execution_count": 4,
   "metadata": {},
   "outputs": [
    {
     "name": "stdout",
     "output_type": "stream",
     "text": [
      "random integer is 42\n",
      "the number processed is 25\n",
      "the number processed is 37\n",
      "the number processed is 46\n",
      "the number processed is 39\n",
      "the number processed is 43\n",
      "the number processed is 39\n",
      "the number processed is 42\n",
      "you got it right\n"
     ]
    }
   ],
   "source": [
    "import math\n",
    "import random\n",
    "n = 50\n",
    "random1 = random.randrange(1,n)\n",
    "print(\"random integer is\",random1)\n",
    "input1 = math.floor(n/2)\n",
    "count = 1\n",
    "while True:\n",
    "    coefficient = input1/(2*count)\n",
    "    print(\"the number processed is\",input1)\n",
    "    if random1 > input1:\n",
    "        input1 += math.floor(coefficient) \n",
    "    elif random1 < input1:\n",
    "        input1 -= math.floor(coefficient)\n",
    "    else:\n",
    "        print(\"you got it right\")\n",
    "        break\n",
    "    count += 1\n",
    "    if count > n/5:\n",
    "        count = 1"
   ]
  },
  {
   "cell_type": "markdown",
   "metadata": {
    "scrolled": true,
    "slideshow": {
     "slide_type": "fragment"
    }
   },
   "source": [
    "#### Exercise 3:\n",
    "\n",
    "Reverse the roles: Computer guesses the player's number! Write an AI that guesses the number using your best strategy. Now the player tells each round whether the guess was too big or small."
   ]
  },
  {
   "cell_type": "code",
   "execution_count": null,
   "metadata": {},
   "outputs": [],
   "source": []
  }
 ],
 "metadata": {
  "celltoolbar": "Slideshow",
  "kernelspec": {
   "display_name": "Python 3",
   "language": "python",
   "name": "python3"
  },
  "language_info": {
   "codemirror_mode": {
    "name": "ipython",
    "version": 3
   },
   "file_extension": ".py",
   "mimetype": "text/x-python",
   "name": "python",
   "nbconvert_exporter": "python",
   "pygments_lexer": "ipython3",
   "version": "3.13.3"
  },
  "livereveal": {
   "scroll": true,
   "start_slideshow_at": "selected",
   "transitionSpeed": "fast"
  }
 },
 "nbformat": 4,
 "nbformat_minor": 2
}
