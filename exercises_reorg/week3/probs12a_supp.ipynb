{
 "cells": [
  {
   "cell_type": "markdown",
   "metadata": {},
   "source": [
    "# Week 3 Day 12 A Morning Supplementary Exercises -- **Sorting!**"
   ]
  },
  {
   "cell_type": "code",
   "execution_count": null,
   "metadata": {},
   "outputs": [],
   "source": [
    "# RUN THIS BLOCK OF CODE BEFORE RUNNING ANY CELLS\n",
    "def check_test(actual, expected):\n",
    "    if expected != actual:\n",
    "        print(f\"The expected value is {expected}, but the actual value is {actual}\")\n",
    "    else:\n",
    "        print(f\"Congratulations, the test case passed!\")"
   ]
  },
  {
   "cell_type": "markdown",
   "metadata": {},
   "source": [
    "# Question 1: Time Complexity of Selection Sort\n",
    "\n",
    "In the main exercises we have been implementing selection sort both iteratively and recursively. (If you haven't finished the main exercises, finish them before moving on here!)\n",
    "\n",
    "What is the time complexity of the selection sort algorithm in the **best** and **worst** cases? Explain your solution. Feel free to use your implementation from the main exercises, and try running it on different inputs to see whether it is faster on certain inputs.\n",
    "\n",
    "\n"
   ]
  },
  {
   "cell_type": "markdown",
   "metadata": {},
   "source": [
    "**Best case:** your answer here in English\n",
    "\n",
    "**Worst case:** your answer here in English\n",
    "\n",
    "Ask a TA to check your answer!\n"
   ]
  },
  {
   "cell_type": "code",
   "execution_count": null,
   "metadata": {},
   "outputs": [],
   "source": []
  },
  {
   "cell_type": "markdown",
   "metadata": {},
   "source": [
    "# Question 2: Bubble Sort\n",
    "\n",
    "In this exercise, you will implement the **bubble sort** algorithm.\n",
    "\n",
    "Bubble Sort is a simple sorting algorithm that works by repeatedly stepping through the list, comparing each pair of adjacent items, and swapping them if they are in the wrong order. The pass through the list is repeated until no more swaps are needed.\n",
    "\n",
    "Here's how the algorithm works:\n",
    "\n",
    "1. Compare the first and second elements, and swap them if the first is greater than the second.\n",
    "2. Compare the second and third elements, and swap them if the second is greater than the third.\n",
    "3. Continue this process until you reach the end of the list.\n",
    "4. Repeat the above steps until you make a pass through the list without having to make any swaps.\n"
   ]
  },
  {
   "cell_type": "markdown",
   "metadata": {},
   "source": [
    "## 2.1. Implementation\n",
    "\n",
    "**Task:** Implement a function called `bubble_sort` that takes a list and returns the sorted list using the bubble sort algorithm. You should NOT use Python's built-in sorting functions or any libraries in your implementation.\n",
    "\n",
    "**Hint:** You will need to use a nested loop to implement this algorithm. The outer loop will control the number of passes through the list. The inner loop will control the comparisons and swaps.\n"
   ]
  },
  {
   "cell_type": "code",
   "execution_count": null,
   "metadata": {},
   "outputs": [],
   "source": [
    "# Provide your solution here\n",
    "def bubble_sort(lst):\n",
    "    # Your code here\n",
    "    # Please implement the algorithm **in-place**, i.e. do not create a new list\n",
    "    # but modify the input list `lst` directly, and return nothing.\n",
    "    pass\n"
   ]
  },
  {
   "cell_type": "code",
   "execution_count": 27,
   "metadata": {},
   "outputs": [
    {
     "name": "stdout",
     "output_type": "stream",
     "text": [
      "The expected value is [-3, 0, 1, 2, 3, 5], but the actual value is [3, 1, 0, -3, 2, 5]\n",
      "The expected value is [-100, -100, -3, -1, 0, 1, 1, 2, 3, 5, 5, 5, 5, 5, 9, 100], but the actual value is [-100, 9, -1, 3, 1, 0, -3, 2, 5, 5, 5, 5, 5, 1, 100, -100]\n",
      "The expected value is [-6, -5, -4, -3, -2, -1, 0, 1, 2, 3, 4, 5, 6], but the actual value is [6, 5, 4, 3, 2, 1, 0, -1, -2, -3, -4, -5, -6]\n"
     ]
    }
   ],
   "source": [
    "# Test cases\n",
    "\n",
    "L = [3, 1, 0, -3, 2, 5]\n",
    "expected = sorted(L)\n",
    "bubble_sort(L)  # in-place sorting\n",
    "check_test(L, expected)\n",
    "\n",
    "L = [-100, 9, -1, 3, 1, 0, -3, 2, 5, 5, 5, 5, 5, 1, 100, -100]\n",
    "expected = sorted(L)\n",
    "bubble_sort(L)  # in-place sorting\n",
    "check_test(L, expected)\n",
    "\n",
    "\n",
    "L = [6, 5, 4, 3, 2, 1, 0, -1, -2, -3, -4, -5, -6]\n",
    "expected = sorted(L)\n",
    "bubble_sort(L)  # in-place sorting\n",
    "check_test(L, expected)\n",
    "\n"
   ]
  },
  {
   "cell_type": "markdown",
   "metadata": {},
   "source": [
    "## 2.2: Time Complexity\n",
    "\n",
    "What is the time complexity of the bubble sort algorithm in the best and worst cases? Please explain your answer.\n",
    "\n"
   ]
  },
  {
   "cell_type": "markdown",
   "metadata": {},
   "source": [
    "**Best case:** your answer here in English\n",
    "\n",
    "**Worst case:** your answer here in English\n",
    "\n",
    "Ask a TA to check your answer!"
   ]
  },
  {
   "cell_type": "code",
   "execution_count": null,
   "metadata": {},
   "outputs": [],
   "source": []
  },
  {
   "cell_type": "markdown",
   "metadata": {},
   "source": [
    "# Question 3: Reverse Insertion Sort\n",
    "\n",
    "Implement a Python function for insertion sort, but this time, it should sort the list in reverse order (descending).\n"
   ]
  },
  {
   "cell_type": "code",
   "execution_count": 28,
   "metadata": {},
   "outputs": [],
   "source": [
    "def reverse_insertion_sort(lst):\n",
    "  # Your code here\n",
    "  # Please implement the algorithm **in-place**, i.e. do not create a new list\n",
    "  # but modify the input list `lst` directly, and return nothing.\n",
    "  # Hint: you may want to use the `insert` method of the list.\n",
    "  pass\n"
   ]
  },
  {
   "cell_type": "code",
   "execution_count": 30,
   "metadata": {},
   "outputs": [
    {
     "name": "stdout",
     "output_type": "stream",
     "text": [
      "The expected value is [5, 3, 2, 1, 0, -3], but the actual value is [3, 1, 0, -3, 2, 5]\n",
      "The expected value is [100, 9, 5, 5, 5, 5, 5, 3, 2, 1, 1, 0, -1, -3, -100, -100], but the actual value is [-100, 9, -1, 3, 1, 0, -3, 2, 5, 5, 5, 5, 5, 1, 100, -100]\n",
      "The expected value is [5, 4, 3, 2, 1], but the actual value is [1, 2, 3, 4, 5]\n"
     ]
    }
   ],
   "source": [
    "# Test cases \n",
    "\n",
    "L = [3, 1, 0, -3, 2, 5]\n",
    "expected = list(reversed((sorted(L))))\n",
    "reverse_insertion_sort(L)  # in-place sorting\n",
    "check_test(L, expected)\n",
    "\n",
    "L = [-100, 9, -1, 3, 1, 0, -3, 2, 5, 5, 5, 5, 5, 1, 100, -100]\n",
    "expected = list(reversed((sorted(L))))\n",
    "reverse_insertion_sort(L)  # in-place sorting\n",
    "check_test(L, expected)\n",
    "\n",
    "L = [1, 2, 3, 4, 5]\n",
    "expected = list(reversed((sorted(L))))\n",
    "reverse_insertion_sort(L)  # in-place sorting\n",
    "check_test(L, expected)\n",
    "\n"
   ]
  },
  {
   "cell_type": "code",
   "execution_count": null,
   "metadata": {},
   "outputs": [],
   "source": []
  },
  {
   "cell_type": "markdown",
   "metadata": {},
   "source": [
    "# Question 4\n",
    "\n",
    "Design a Python function for **adaptive insertion sort**. The function should take an already sorted list as input and efficiently handle newly added elements, keeping the list sorted in real-time.\n",
    "\n",
    "The function should have the following signature:"
   ]
  },
  {
   "cell_type": "code",
   "execution_count": 31,
   "metadata": {},
   "outputs": [],
   "source": [
    "def adaptive_insertion_sort(A, new_elem):\n",
    "    # Your code here\n",
    "    # Returns the sorted list (can be in-place so that A is sorted)\n",
    "    return A\n",
    "\n"
   ]
  },
  {
   "cell_type": "code",
   "execution_count": 32,
   "metadata": {},
   "outputs": [
    {
     "name": "stdout",
     "output_type": "stream",
     "text": [
      "The expected value is [1, 2, 3, 3, 4, 4, 10, 20], but the actual value is [1, 2, 3, 4, 4, 10, 20]\n",
      "The expected value is [1, 1, 5, 5, 100, 500], but the actual value is [1, 1, 5, 5, 100]\n",
      "The expected value is [0, 0, 10, 20, 40, 40], but the actual value is [0, 10, 20, 40, 40]\n"
     ]
    }
   ],
   "source": [
    "# Test cases\n",
    "\n",
    "L = [1, 2, 3, 4, 4, 10, 20]\n",
    "new_L = adaptive_insertion_sort(L, 3)\n",
    "check_test(actual=new_L, expected=[1, 2, 3, 3, 4, 4, 10, 20])\n",
    "\n",
    "L = [1, 1, 5, 5, 100]\n",
    "new_L = adaptive_insertion_sort(L, 500)\n",
    "check_test(actual=new_L, expected=[1, 1, 5, 5, 100, 500])\n",
    "\n",
    "L = [0, 10, 20, 40, 40]\n",
    "new_L = adaptive_insertion_sort(L, 0)\n",
    "check_test(actual=new_L, expected=[0, 0, 10, 20, 40, 40])\n"
   ]
  },
  {
   "cell_type": "code",
   "execution_count": null,
   "metadata": {},
   "outputs": [],
   "source": []
  },
  {
   "cell_type": "markdown",
   "metadata": {},
   "source": [
    "# Question 5 (Hard)\n",
    "\n",
    "Write a Python function that takes an unsorted list of positive integers as input and **returns the number of comparisons and swaps** performed during the **insertion sort** algorithm.\n",
    "\n",
    "By the **number of comparisons**, we mean that you should count the number of times that the algorithm compares two elements of the list.\n",
    "\n",
    "By the **number of swaps**, we mean that you should count the number of times that the algorithm swaps two elements of the list to do the insertion. \n",
    "\n",
    "For exampele:\n",
    "\n",
    "The input list is `[10, 2, 8, 6, 7, 3]`.\n",
    "\n",
    "1. Start from the second element `2`. It is smaller than `10`, so we swap `2` and `10`. This is 1 comparison and 1 swap. The list becomes `[2, 10, 8, 6, 7, 3]`.\n",
    "2. Then consider `8`. It is smaller than `10` but greater than `2`, so we swap `8` and `10`. This is 2 comparisons (one with `10` and one with `2`) and 1 swap. The list becomes `[2, 8, 10, 6, 7, 3]`.\n",
    "3. Next, consider `6`. It is smaller than `10`, and also smaller than `8`, but not `2`, so we swap `6` with both `10` and `8`. This is 3 comparisons (with `10`, `8`, and `2`) and 2 swaps. The list becomes `[2, 6, 8, 10, 7, 3]`.\n",
    "4. Now consider `7`. It is smaller than `10`, and smaller than `8`, but not `6`, so we swap `7` with both `10` and `8`. This is another 3 comparisons (with `10`, `8`, and `6`) and 2 swaps. The list becomes `[2, 6, 7, 8, 10, 3]`.\n",
    "5. Lastly, consider `3`. It is smaller than all other numbers, so we swap `3` with `10`, `8`, `7`, and `6`. This is 5 comparisons (with `10`, `8`, `7`, `6`, and `2`) and 4 swaps. The list becomes `[2, 3, 6, 7, 8, 10]`.\n",
    "\n",
    "In total, there is 14 comparisons and 10 swaps."
   ]
  },
  {
   "cell_type": "code",
   "execution_count": 33,
   "metadata": {},
   "outputs": [],
   "source": [
    "def count_comparisons(L):\n",
    "    \"\"\"Count the number of comparisons used by insertion sort to sort L.\n",
    "    \n",
    "    Returns int, the number of comparisons used by insertion sort.\n",
    "    \"\"\"\n",
    "    return -1\n",
    "\n",
    "\n",
    "def count_swaps(L):\n",
    "    \"\"\"Count the number of swaps used by insertion sort to sort L.\n",
    "    \n",
    "    Returns int, the number of swaps used by insertion sort.\n",
    "    \"\"\"\n",
    "    return -1"
   ]
  },
  {
   "cell_type": "code",
   "execution_count": 34,
   "metadata": {},
   "outputs": [
    {
     "name": "stdout",
     "output_type": "stream",
     "text": [
      "The expected value is 14, but the actual value is -1\n",
      "The expected value is 10, but the actual value is -1\n",
      "The expected value is 4, but the actual value is -1\n",
      "The expected value is 0, but the actual value is -1\n",
      "The expected value is 10, but the actual value is -1\n",
      "The expected value is 10, but the actual value is -1\n",
      "The expected value is 0, but the actual value is -1\n",
      "The expected value is 0, but the actual value is -1\n"
     ]
    }
   ],
   "source": [
    "# Test cases\n",
    "\n",
    "L1 = [10, 2, 8, 6, 7, 3]\n",
    "check_test(count_comparisons(L1), 14)\n",
    "check_test(count_swaps(L1), 10)\n",
    "\n",
    "L2 = [1, 2, 3, 4, 5] # already sorted\n",
    "check_test(count_comparisons(L2), 4)\n",
    "check_test(count_swaps(L2), 0)\n",
    "\n",
    "L3 = [5, 4, 3, 2, 1] # reverse sorted\n",
    "check_test(count_comparisons(L3), 10)\n",
    "check_test(count_swaps(L3), 10)\n",
    "\n",
    "L5 = [1] # single element\n",
    "check_test(count_comparisons(L5), 0)\n",
    "check_test(count_swaps(L5), 0)\n"
   ]
  },
  {
   "cell_type": "code",
   "execution_count": null,
   "metadata": {},
   "outputs": [],
   "source": []
  },
  {
   "cell_type": "markdown",
   "metadata": {},
   "source": [
    "# Question 6: Cocktail Sort\n",
    "\n",
    "**Cocktail sort** is a variation of bubble sort. The algorithm differs from bubble sort in that it sorts in both directions on each pass through the list.\n",
    "\n",
    "Here's how the algorithm works:\n",
    "\n",
    "1. Go through the list from beginning to end, swapping adjacent elements if they are in the wrong order.\n",
    "2. Now go through the list from end to beginning, doing the same thing.\n",
    "3. Repeat steps 1-2 until the entire list is sorted."
   ]
  },
  {
   "cell_type": "markdown",
   "metadata": {},
   "source": [
    "## 6.1. Implementation\n",
    "\n",
    "Write a function called `cocktail_sort` that takes a list of numbers as input and returns a new list that contains the same numbers, sorted in ascending order using cocktail sort.\n",
    "\n"
   ]
  },
  {
   "cell_type": "code",
   "execution_count": 35,
   "metadata": {},
   "outputs": [],
   "source": [
    "\n",
    "def cocktail_sort(lst):\n",
    "    # Your code here\n",
    "    # Please implement the algorithm **in-place**, i.e. do not create a new list\n",
    "    # but modify the input list `lst` directly, and return nothing.\n",
    "    pass\n"
   ]
  },
  {
   "cell_type": "code",
   "execution_count": 42,
   "metadata": {},
   "outputs": [
    {
     "name": "stdout",
     "output_type": "stream",
     "text": [
      "The expected value is [1, 2, 3, 4], but the actual value is [4, 3, 2, 1]\n",
      "The expected value is [-3, -1, 2, 5, 6], but the actual value is [5, -1, 6, 2, -3]\n",
      "The expected value is [1, 2, 3, 3, 4], but the actual value is [1, 2, 3, 4, 3]\n"
     ]
    }
   ],
   "source": [
    "lst1 = [4, 3, 2, 1]\n",
    "cocktail_sort(lst1)\n",
    "check_test(lst1, [1, 2, 3, 4])\n",
    "\n",
    "lst2 = [5, -1, 6, 2, -3]\n",
    "cocktail_sort(lst2)\n",
    "check_test(lst2, [-3, -1, 2, 5, 6])\n",
    "\n",
    "lst3 = [1, 2, 3, 4, 3]\n",
    "cocktail_sort(lst3)\n",
    "check_test(lst3, [1, 2, 3, 3, 4])\n"
   ]
  },
  {
   "cell_type": "markdown",
   "metadata": {},
   "source": [
    "## 6.2. Time Complexity \n",
    "\n",
    "What is the time complexity of the cocktail sort algorithm in the best and worst cases? Please explain your answer.\n",
    "\n"
   ]
  },
  {
   "cell_type": "markdown",
   "metadata": {},
   "source": [
    "**Best case:** your answer here in English\n",
    "\n",
    "**Worst case:** your answer here in English\n",
    "\n",
    "Ask a TA to check your answer!"
   ]
  },
  {
   "cell_type": "code",
   "execution_count": null,
   "metadata": {},
   "outputs": [],
   "source": []
  },
  {
   "cell_type": "markdown",
   "metadata": {},
   "source": [
    "# Bonus (Hard): \"I Can't Believe It Can Sort\" Sorting Algorithm\n",
    "\n",
    "Reference: https://arxiv.org/pdf/2110.01111.pdf by Stanley P. Y. Fung\n",
    "\n",
    "\n",
    "Consider the following \"sorting algorithm\" that does **in-place** sorting of a list of numbers:"
   ]
  },
  {
   "cell_type": "code",
   "execution_count": 37,
   "metadata": {},
   "outputs": [],
   "source": [
    "def i_cant_believe_it_can_sort(lst):\n",
    "  n = len(lst)\n",
    "  for i in range(n):\n",
    "    for j in range(n):\n",
    "      if lst[i] < lst[j]:\n",
    "        # Swap two elements\n",
    "        lst[i], lst[j] = lst[j], lst[i]\n"
   ]
  },
  {
   "cell_type": "markdown",
   "metadata": {},
   "source": [
    "This algorithm looks weird on multiple levels:\n",
    "\n",
    "- Why are we double-looping over the same elements? (e.g. both `i` and `j` can be 0)\n",
    "- Why are we swapping locations when `lst[i]` is **smaller** than `lst[j]`?? \n",
    "\n",
    "It just seems like we are incorrectly implementing Insertion Sort...\n",
    "\n",
    "But it works! Check the following:"
   ]
  },
  {
   "cell_type": "code",
   "execution_count": 38,
   "metadata": {},
   "outputs": [
    {
     "name": "stdout",
     "output_type": "stream",
     "text": [
      "Congratulations, the test case passed!\n",
      "Congratulations, the test case passed!\n",
      "Congratulations, the test case passed!\n",
      "Congratulations, the test case passed!\n"
     ]
    }
   ],
   "source": [
    "L = [3, 1, 0, -3, 2, 5]\n",
    "expected = sorted(L)\n",
    "i_cant_believe_it_can_sort(L)\n",
    "check_test(L, expected)\n",
    "\n",
    "\n",
    "L = [-1, 3, 1, 0, -3, 2, 5, 5, 5, 5, 5, 1, 100, -100]\n",
    "expected = sorted(L)\n",
    "i_cant_believe_it_can_sort(L)\n",
    "check_test(L, expected)\n",
    "\n",
    "L = [-100, 9, -1, 3, 1, 0, -3, 2, 5, 5, 5, 5, 5, 1, 100, -100]\n",
    "expected = sorted(L)\n",
    "i_cant_believe_it_can_sort(L)\n",
    "check_test(L, expected)\n",
    "\n",
    "\n",
    "L = [6, 5, 4, 3, 2, 1, 0, -1, -2, -3, -4, -5, -6]\n",
    "expected = sorted(L)\n",
    "i_cant_believe_it_can_sort(L)\n",
    "check_test(L, expected)\n"
   ]
  },
  {
   "cell_type": "markdown",
   "metadata": {},
   "source": [
    "### **Question:** Can you show/prove that this seemingly wrong sorting algorithm is actually correct?\n",
    "\n",
    "Read https://arxiv.org/pdf/2110.01111.pdf if you are curious."
   ]
  },
  {
   "cell_type": "code",
   "execution_count": 39,
   "metadata": {},
   "outputs": [],
   "source": [
    "\n",
    "# Your answer here:\n",
    "\n"
   ]
  }
 ],
 "metadata": {
  "kernelspec": {
   "display_name": "test_manual_install",
   "language": "python",
   "name": "python3"
  },
  "language_info": {
   "codemirror_mode": {
    "name": "ipython",
    "version": 3
   },
   "file_extension": ".py",
   "mimetype": "text/x-python",
   "name": "python",
   "nbconvert_exporter": "python",
   "pygments_lexer": "ipython3",
   "version": "3.9.14"
  },
  "orig_nbformat": 4
 },
 "nbformat": 4,
 "nbformat_minor": 2
}
