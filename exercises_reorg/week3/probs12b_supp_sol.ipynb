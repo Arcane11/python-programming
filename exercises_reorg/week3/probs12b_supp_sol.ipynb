{
 "cells": [
  {
   "cell_type": "markdown",
   "metadata": {},
   "source": [
    "# Week 3 Day 12b Supplementary Exercises Solutions"
   ]
  },
  {
   "cell_type": "code",
   "execution_count": null,
   "metadata": {},
   "outputs": [],
   "source": [
    "#This function is for testing, do not modify\n",
    "def check(actual, expected):\n",
    "    if expected != actual:\n",
    "        print(f\"Function should return the value {expected}, it is returning the value {actual}\")\n",
    "    else:\n",
    "        print(f\"Congratulations, the test case passed!\")"
   ]
  },
  {
   "cell_type": "markdown",
   "metadata": {},
   "source": [
    "For `quicksort`, pivot selection can be critical in determining the overall algorithmic performance. For example, if the pivot selection algorithm always selects the last value of the list and the list is already sorted, then the resultant partitions will be imbalanced. Lets try a quick sort with a different pivot selection technique to avoid such an issue!"
   ]
  },
  {
   "cell_type": "code",
   "execution_count": null,
   "metadata": {},
   "outputs": [],
   "source": [
    "import random\n",
    "# `select_random_pivot_index` will select a random pivot index value from `lst`.\n",
    "# Hint: You can use random.randint(start, end) to obtain a random integer value in that range. \n",
    "def select_random_pivot_index(lst):\n",
    "    return random.randint(0, len(lst) - 1)\n",
    "\n",
    "# Testing below this line.\n",
    "test_data = [1,2,3,4,5]\n",
    "test_run = select_random_pivot_index(test_data)\n",
    "assert test_run >= 0 and test_run < len(test_data) "
   ]
  },
  {
   "cell_type": "markdown",
   "metadata": {},
   "source": [
    "Now that we have our random pivot selection function, lets write another function which partions our list around this value."
   ]
  },
  {
   "cell_type": "code",
   "execution_count": null,
   "metadata": {},
   "outputs": [
    {
     "name": "stdout",
     "output_type": "stream",
     "text": [
      "Congratulations, the test case passed!\n"
     ]
    }
   ],
   "source": [
    "# `partition_lists` will partition the `lst` into two lists, one where all the\n",
    "#  elements are smaller than the value at `pivot_index` and another with all \n",
    "#  values greater or equal.\n",
    "# Hint: Make sure to not include the pivot in either of the returned lists.\n",
    "def partition_lists(lst, pivot_index):\n",
    "    lst_small = []\n",
    "    lst_big = []\n",
    "    for i in range(len(lst)):\n",
    "        if i == pivot_index:\n",
    "            continue\n",
    "        if lst[i] < lst[pivot_index]:\n",
    "            lst_small.append(lst[i])\n",
    "        else:\n",
    "            lst_big.append(lst[i])\n",
    "    return lst_small, lst_big\n",
    "\n",
    "check(partition_lists([3,57,0,4,23,9,5], 4), ([3, 0, 4, 9, 5],[57]))"
   ]
  },
  {
   "cell_type": "markdown",
   "metadata": {},
   "source": [
    "Great, now that we are able to select a pivot and partition our data around this value lets implement the quicksort algorithm using these helper functions. Implement this recursively.\n",
    "\n",
    "Hint: You can get the partitioned lists by doing \n",
    "\n",
    "```python\n",
    "lst_small, lst_big = partition_lists(lst, pivot_index)\n",
    "```"
   ]
  },
  {
   "cell_type": "code",
   "execution_count": null,
   "metadata": {},
   "outputs": [
    {
     "name": "stdout",
     "output_type": "stream",
     "text": [
      "Congratulations, the test case passed!\n",
      "Congratulations, the test case passed!\n"
     ]
    }
   ],
   "source": [
    "def quicksort(lst):\n",
    "    if len(lst) <= 1:\n",
    "        return lst\n",
    "    pivot_index = select_random_pivot_index(lst)\n",
    "    lst_small, lst_big = partition_lists(lst, pivot_index)\n",
    "    sorted_small = quicksort(lst_small)\n",
    "    sorted_big = quicksort(lst_big)\n",
    "    return sorted_small + [lst[pivot_index]] + sorted_big\n",
    "\n",
    "check(quicksort([3,57,0,4,23,9,5]),[0, 3, 4, 5, 9, 23, 57])\n",
    "check(quicksort([]),[])\n"
   ]
  },
  {
   "cell_type": "markdown",
   "metadata": {},
   "source": [
    "What is the worst case time complexity for the runtime of the quicksort algorithm?"
   ]
  },
  {
   "cell_type": "code",
   "execution_count": null,
   "metadata": {},
   "outputs": [],
   "source": [
    "# Write your answer here: O(n^2)"
   ]
  },
  {
   "cell_type": "markdown",
   "metadata": {},
   "source": [
    "The aforementioned pivoting and partitioning techniques are not unique to the `quicksort` algorithm. In fact, there is a selection algorithm called `quickselect` that can be used to select the k-th smallest element from an unordered list. The general algorithm can be described in the following steps ...\n",
    "\n",
    "- Select a pivot (e.g. randomly selected)\n",
    "- Partition elements around the pivot\n",
    "- Determine whether the k-th smallest element has been found, if so return this value\n",
    "- Otherwise, search one half (either left or right) depending on the k-th smallest search value relative to the current pivot\n",
    " \n",
    "Try implementing the `quickselect` function recursively, and remember to reuse the helper functions `select_random_pivot_index` and `partition_lists`."
   ]
  },
  {
   "cell_type": "code",
   "execution_count": null,
   "metadata": {},
   "outputs": [
    {
     "name": "stdout",
     "output_type": "stream",
     "text": [
      "Congratulations, the test case passed!\n",
      "Congratulations, the test case passed!\n",
      "Congratulations, the test case passed!\n"
     ]
    }
   ],
   "source": [
    "def quickselect(lst, k):\n",
    "    if k > len(lst):\n",
    "        return None\n",
    "    pivot_index = select_random_pivot_index(lst)\n",
    "    lst_small, lst_big = partition_lists(lst, pivot_index)\n",
    "    if len(lst_small) == k:\n",
    "        return lst[pivot_index]\n",
    "    elif len(lst_small) > k:\n",
    "        return quickselect(lst_small, k)\n",
    "    else:\n",
    "        return quickselect(lst_big, k-len(lst_small)-1)\n",
    "\n",
    "\n",
    "check(quickselect([5,3,7,9,6,3,2,6,8,97,4,0], 8), 7)\n",
    "check(quickselect([5,3,7,9,6,3,2,6,8,97,4,0], 5), 5)\n",
    "check(quickselect([5,3,7,9,6,3,2,6,8,97,4,0], 10), 9)"
   ]
  },
  {
   "cell_type": "markdown",
   "metadata": {},
   "source": [
    "What is the worst case time complexity for the runtime of the quickselect algorithm?"
   ]
  },
  {
   "cell_type": "code",
   "execution_count": null,
   "metadata": {},
   "outputs": [],
   "source": [
    "# Write your answer here: O(n^2) "
   ]
  },
  {
   "cell_type": "markdown",
   "metadata": {},
   "source": [
    "Challenge: What is the best case runtime for quickselect?"
   ]
  },
  {
   "cell_type": "code",
   "execution_count": null,
   "metadata": {},
   "outputs": [],
   "source": [
    "# Write your answer here: O(n)"
   ]
  }
 ],
 "metadata": {
  "language_info": {
   "name": "python"
  },
  "orig_nbformat": 4
 },
 "nbformat": 4,
 "nbformat_minor": 2
}
