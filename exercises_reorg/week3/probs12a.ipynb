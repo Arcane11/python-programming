{
 "cells": [
  {
   "cell_type": "markdown",
   "metadata": {},
   "source": [
    "# Week 3 Day 12 A Morning Main Exercises -- **Sorting**"
   ]
  },
  {
   "cell_type": "markdown",
   "metadata": {},
   "source": [
    "### `Run the following code block first!`"
   ]
  },
  {
   "cell_type": "code",
   "execution_count": null,
   "metadata": {},
   "outputs": [],
   "source": [
    "#This function is for testing, do not modify\n",
    "def check(actual, expected):\n",
    "    if expected != actual:\n",
    "        print(f\"Function should return the value {expected}, it is returning the value {actual}\")\n",
    "    else:\n",
    "        print(f\"Congratulations, the test case passed!\")"
   ]
  },
  {
   "cell_type": "markdown",
   "metadata": {},
   "source": [
    "## 1 Bubble Sort"
   ]
  },
  {
   "cell_type": "markdown",
   "metadata": {},
   "source": [
    "### 1.1\n",
    "Implement Bubble Sort. Hint: look at your lecture jupyter notebook."
   ]
  },
  {
   "cell_type": "code",
   "execution_count": null,
   "metadata": {},
   "outputs": [],
   "source": [
    "def BubbleSort(lst):\n",
    "    pass # Remove this line and add your code here."
   ]
  },
  {
   "cell_type": "code",
   "execution_count": null,
   "metadata": {},
   "outputs": [],
   "source": [
    "check(BubbleSort([2,3,7,1,3,5]),[1,2,3,3,5,7])\n",
    "check(BubbleSort([]),[])\n",
    "check(BubbleSort([\"b\", \"aaa\", \"addis\"]),[\"aaa\", \"addis\", \"b\"])"
   ]
  },
  {
   "cell_type": "markdown",
   "metadata": {},
   "source": [
    "### 1.2"
   ]
  },
  {
   "cell_type": "markdown",
   "metadata": {},
   "source": [
    "What is the time complexity of your code?  "
   ]
  },
  {
   "cell_type": "markdown",
   "metadata": {},
   "source": [
    "Type your answer here"
   ]
  },
  {
   "cell_type": "markdown",
   "metadata": {},
   "source": [
    "## 2. Insertion Sort"
   ]
  },
  {
   "cell_type": "markdown",
   "metadata": {},
   "source": [
    "In Inseration sort, given an unsorted list `lst`, we first create a new empty list `res`, and everytime you remove one element from `lst` and put it in the right index of `res` so that `res` is always sorted. Then return `res`. \n",
    "\n",
    "The key challenge in implementing insertion sort is inserting elements from the original list `lst` into `res` **while keeping `res` sorted**; we'll need to manipulate `res` using list slicing to insert each element into the correct position.\n",
    "\n",
    "Hint: If you're given the list  `L = [1, 2, 4]` and you want to insert the element `3` into the list such that `L` remains sorted, you can do\n",
    "> `L = L[0:2] + [3] + L[2:]` to get `L = [1,2,3,4]`.\n",
    "\n",
    "Why? Because `L[0:2] = [1,2]` and `L[2:] = [4]`. Therefore,\n",
    "`L[0:2] + [3] + L[2:]` is the same thing as `[1, 2] + [3] + [4]`."
   ]
  },
  {
   "cell_type": "markdown",
   "metadata": {},
   "source": [
    "Write a function `insertion_sort(L)` that takes a list `L` and return a sorted list. <br/>\n",
    "\n",
    "Here is how the function should work : <br/>\n",
    "`L = [ 8, 5, 7, 1, 9, 3]`  and `new_list = [] `<br/>\n",
    "`L = [ 5, 7, 1, 9, 3]`  and `new_list = [8] `<br/>\n",
    "`L = [ 7, 1, 9, 3]`  and `new_list = [5, 8] `<br/>\n",
    "`L = [ 1, 9, 3]`  and `new_list = [5, 7, 8] `<br/>\n",
    "`L = [ 9, 3]`  and `new_list = [1, 5, 7, 8] `<br/>\n",
    "`L = [ 3]`  and `new_list = [1, 5, 7, 8, 9] `<br/>\n",
    "`L = [ ]`  and `new_list = [1, 3, 5, 7, 8, 9] `<br/>\n",
    "\n",
    "![](insertion_sort.png)\n"
   ]
  },
  {
   "cell_type": "code",
   "execution_count": null,
   "metadata": {},
   "outputs": [],
   "source": [
    "def insertion_sort(L):\n",
    "    \"\"\"Sorts L using insertion sort algorithm.\n",
    "    Arguments: L (list of ints)\n",
    "    Returns: (list of ints)\n",
    "    Effects: Sorts the list\n",
    "    \"\"\"\n",
    "    pass # remove this line and write your solution here"
   ]
  },
  {
   "cell_type": "code",
   "execution_count": null,
   "metadata": {},
   "outputs": [],
   "source": [
    "# TEST_CASE\n",
    "L = [1, 4, 5, 3, 2, 7, 0]\n",
    "check(insertion_sort(L), [0, 1, 2, 3, 4, 5, 7])\n",
    "\n",
    "L = [1, 4, 5, 3, 2, 0, 7]\n",
    "check(insertion_sort(L), [0, 1, 2, 3, 4, 5, 7])\n",
    "\n",
    "L = [5, 6, 11, 12, 13]\n",
    "check(insertion_sort(L), [5, 6, 11, 12, 13])\n",
    "\n",
    "L = [12, 11, 13, 5, 6]\n",
    "check(insertion_sort(L), [5, 6, 11, 12, 13])"
   ]
  },
  {
   "cell_type": "markdown",
   "metadata": {},
   "source": [
    "## 3 Selection Sort\n",
    "Implement Selection Sort. \n",
    "\n",
    "Hint: \n",
    "\n",
    "look at your lecture jupyter notebook.\n",
    "\n",
    "You can use `lst.remove(val)` to remove the first `val` from `lst` "
   ]
  },
  {
   "cell_type": "code",
   "execution_count": null,
   "metadata": {},
   "outputs": [],
   "source": [
    "def SelectionSort(lst):\n",
    "    pass # Remove this line and add your code here."
   ]
  },
  {
   "cell_type": "code",
   "execution_count": null,
   "metadata": {},
   "outputs": [],
   "source": [
    "check(SelectionSort([2,3,7,1,3,5]),[1,2,3,3,5,7])\n",
    "check(SelectionSort([]),[])\n",
    "check(SelectionSort([\"b\", \"aaa\", \"addis\"]),[\"aaa\", \"addis\", \"b\"])"
   ]
  },
  {
   "cell_type": "markdown",
   "metadata": {},
   "source": [
    "### 3.1 "
   ]
  },
  {
   "cell_type": "markdown",
   "metadata": {},
   "source": [
    "What is the time complexity?\n"
   ]
  },
  {
   "cell_type": "markdown",
   "metadata": {},
   "source": [
    "Type your answer"
   ]
  },
  {
   "cell_type": "markdown",
   "metadata": {},
   "source": [
    "### 3.2"
   ]
  },
  {
   "cell_type": "markdown",
   "metadata": {},
   "source": [
    "Implement Selection Sort using recursion."
   ]
  },
  {
   "cell_type": "code",
   "execution_count": null,
   "metadata": {},
   "outputs": [],
   "source": [
    "def RecSelectionSort(lst):\n",
    "    pass # Remove this line and add your code here."
   ]
  },
  {
   "cell_type": "code",
   "execution_count": null,
   "metadata": {},
   "outputs": [],
   "source": [
    "check(RecSelectionSort([2,3,7,1,3,5]),[1,2,3,3,5,7])\n",
    "check(RecSelectionSort([]),[])\n",
    "check(RecSelectionSort([\"b\", \"aaa\", \"addis\"]),[\"aaa\", \"addis\", \"b\"])"
   ]
  },
  {
   "cell_type": "markdown",
   "metadata": {},
   "source": [
    "### 3.3"
   ]
  },
  {
   "cell_type": "markdown",
   "metadata": {},
   "source": [
    "Implement Selection sort. You can only use swaping between elements, i.e your code should not define new list, and should not use `append`, `insert`,  `list additions`, and `deletions`. "
   ]
  },
  {
   "cell_type": "code",
   "execution_count": null,
   "metadata": {},
   "outputs": [],
   "source": [
    "def select_swap(L):\n",
    "    pass # remove this line and code here"
   ]
  },
  {
   "cell_type": "code",
   "execution_count": null,
   "metadata": {},
   "outputs": [],
   "source": [
    "check(select_swap([2,3,7,1,3,5]),[1,2,3,3,5,7])\n",
    "check(select_swap([]),[])\n",
    "check(select_swap([\"b\", \"aaa\", \"addis\"]),[\"aaa\", \"addis\", \"b\"])"
   ]
  },
  {
   "cell_type": "markdown",
   "metadata": {},
   "source": [
    "# 4. Median Finding\n",
    "\n",
    "The **median** element of a list `L` is the element that is the element whose value is \"right in the middle\" of the list; which means it is smaller or equal to half of the elements in `L`. <br/>\n",
    "\n",
    "For example, <br/>\n",
    "The median of `[1, 2, 4, 5, 6]` is `4`. <br/>\n",
    "The median of `[7, 5, 4, 1, 3, 2, 4, 9, 9, 7]` is `5`. <br/>\n",
    "\n",
    "Write a function `median(L)` that takes a list `L` and returns the median of the list `L`."
   ]
  },
  {
   "cell_type": "code",
   "execution_count": null,
   "metadata": {},
   "outputs": [],
   "source": [
    "def median(L):\n",
    "    \"\"\"Find the median in list L.\n",
    "    Arguments: L (list of ints)\n",
    "    Returns: (int)\n",
    "    Effects: None\n",
    "    \"\"\"\n",
    "    #Write your solution here\n",
    "    return "
   ]
  },
  {
   "cell_type": "code",
   "execution_count": null,
   "metadata": {},
   "outputs": [],
   "source": [
    "#TEST_CASE\n",
    "L=[7, 5, 4, 1, 3, 2, 4, 9, 9, 7]\n",
    "check(median(L), 4.5)\n",
    "\n",
    "M=[4, 6, 78, 90, 12, 43, 9]\n",
    "check(median(M), 12)"
   ]
  },
  {
   "cell_type": "markdown",
   "metadata": {},
   "source": [
    "## 5. Merge Lists"
   ]
  },
  {
   "cell_type": "markdown",
   "metadata": {},
   "source": [
    "### 5.1\n",
    "Write a `iterative` function that given two sorted lists merges them to one sorted list."
   ]
  },
  {
   "cell_type": "code",
   "execution_count": null,
   "metadata": {},
   "outputs": [],
   "source": [
    "def merge_iter(lst1 , lst2):\n",
    "    pass # remove this line and add your code here"
   ]
  },
  {
   "cell_type": "code",
   "execution_count": null,
   "metadata": {},
   "outputs": [],
   "source": [
    "check(merge_iter([2, 4, 5, 7, 8], [1, 3, 6, 9, 10]), [1, 2, 3, 4, 5, 6, 7, 8, 9, 10])\n",
    "check(merge_iter([],[]),[])"
   ]
  },
  {
   "cell_type": "markdown",
   "metadata": {},
   "source": [
    "What is the time complexity of your solution?"
   ]
  },
  {
   "cell_type": "markdown",
   "metadata": {},
   "source": [
    "Type your answer here: $O(n)$"
   ]
  },
  {
   "cell_type": "markdown",
   "metadata": {},
   "source": [
    "### 5.2\n",
    "\n",
    "Solve the above using recursion."
   ]
  },
  {
   "cell_type": "code",
   "execution_count": null,
   "metadata": {},
   "outputs": [],
   "source": [
    "def merge_rec(lst1, lst2):\n",
    "    pass # remove this line and add your code here"
   ]
  },
  {
   "cell_type": "code",
   "execution_count": null,
   "metadata": {},
   "outputs": [],
   "source": [
    "check(merge_rec([2, 4, 5, 7, 8], [1, 3, 6, 9, 10]), [1, 2, 3, 4, 5, 6, 7, 8, 9, 10])\n",
    "check(merge_rec([],[]),[])"
   ]
  },
  {
   "cell_type": "markdown",
   "metadata": {},
   "source": [
    "## 6 Sort An Image\n",
    "Given a square canvas filled with random pixels. Sort pixels on each row according to their sum of r, g, and b values."
   ]
  },
  {
   "cell_type": "markdown",
   "metadata": {},
   "source": [
    "### `Run the following cell first!!!`"
   ]
  },
  {
   "cell_type": "code",
   "execution_count": 1,
   "metadata": {},
   "outputs": [
    {
     "data": {
      "image/png": "[encoded data removed]",
      "text/plain": [
       "<PIL.Image.Image image mode=RGB size=500x500>"
      ]
     },
     "metadata": {},
     "output_type": "display_data"
    }
   ],
   "source": [
    "from simpleimage import SimpleImage\n",
    "import random\n",
    "\n",
    "def get_random_image(size):\n",
    "    image = SimpleImage.blank(size, size)\n",
    "    for y in range(size):\n",
    "        for x in range(size):\n",
    "            image.set_rgb(x, y, random.randint(0, 20), random.randint(0, 255),random.randint(0, 20))\n",
    "    return image\n",
    "\n",
    "image = get_random_image(30)\n",
    "image.show(resize_width=500)"
   ]
  },
  {
   "cell_type": "code",
   "execution_count": null,
   "metadata": {},
   "outputs": [],
   "source": [
    "def sortImg(randImg):\n",
    "    pass # remove this line and add your code here"
   ]
  },
  {
   "cell_type": "code",
   "execution_count": null,
   "metadata": {},
   "outputs": [],
   "source": [
    "image = get_random_image(30)\n",
    "image.show(resize_width=500)\n",
    "sortImg(image).show(resize_width=500)"
   ]
  },
  {
   "cell_type": "markdown",
   "metadata": {},
   "source": [
    "## 7 Counting Sort (Hard)\n"
   ]
  },
  {
   "cell_type": "markdown",
   "metadata": {},
   "source": [
    "Write a function that takes a list as the input that only contains integers between 0 to 99 and sort it. Can you solve it in linear time?"
   ]
  },
  {
   "cell_type": "code",
   "execution_count": null,
   "metadata": {},
   "outputs": [],
   "source": [
    "def countSort(lst):\n",
    "    pass # remove this line and add your code"
   ]
  },
  {
   "cell_type": "code",
   "execution_count": null,
   "metadata": {},
   "outputs": [],
   "source": [
    "import random\n",
    "L = [random.randint(0, 99) for _ in range(10000)]\n",
    "check(countSort(L),sorted(L))"
   ]
  },
  {
   "cell_type": "markdown",
   "metadata": {},
   "source": [
    "## 8 Something Crazy\n",
    "Write a function that takes 2 equal length `sorted` lists and output the median of the two lists. Give a `O(n)` time solution"
   ]
  },
  {
   "cell_type": "code",
   "execution_count": null,
   "metadata": {},
   "outputs": [],
   "source": [
    "def medianOfTwo(lst1, lst2):\n",
    "    pass # remove this line and add your code"
   ]
  },
  {
   "cell_type": "code",
   "execution_count": null,
   "metadata": {},
   "outputs": [],
   "source": [
    "check(medianOfTwo([1, 4, 5 ,9, 10, 12], [2, 3, 6, 7, 8, 11, 13]), 7)"
   ]
  },
  {
   "cell_type": "markdown",
   "metadata": {},
   "source": [
    "### 8.1 (Challenge)"
   ]
  },
  {
   "cell_type": "markdown",
   "metadata": {},
   "source": [
    "Can you solve it in time `O(log n)`?"
   ]
  },
  {
   "cell_type": "code",
   "execution_count": null,
   "metadata": {},
   "outputs": [],
   "source": [
    "def medianOfTwoFast(lst1, lst2):\n",
    "    pass "
   ]
  },
  {
   "cell_type": "code",
   "execution_count": null,
   "metadata": {},
   "outputs": [],
   "source": [
    "check(medianOfTwoFast([1, 4, 5 ,9, 10, 12, 14, 15], [2, 3, 6, 7, 8, 11, 13, 16]), 8.5)"
   ]
  }
 ],
 "metadata": {
  "kernelspec": {
   "display_name": "Python 3",
   "language": "python",
   "name": "python3"
  },
  "language_info": {
   "codemirror_mode": {
    "name": "ipython",
    "version": 3
   },
   "file_extension": ".py",
   "mimetype": "text/x-python",
   "name": "python",
   "nbconvert_exporter": "python",
   "pygments_lexer": "ipython3",
   "version": "3.10.12"
  }
 },
 "nbformat": 4,
 "nbformat_minor": 2
}
