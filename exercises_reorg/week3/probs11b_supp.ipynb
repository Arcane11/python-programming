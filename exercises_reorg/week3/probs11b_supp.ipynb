{
 "cells": [
  {
   "cell_type": "markdown",
   "id": "09be65c7",
   "metadata": {},
   "source": [
    "# Week 3 Day 11b Supplementary Exercises"
   ]
  },
  {
   "cell_type": "code",
   "execution_count": null,
   "id": "2a15e671",
   "metadata": {},
   "outputs": [],
   "source": [
    "#This function is for testing, do not modify\n",
    "def check(actual, expected):\n",
    "    if expected != actual:\n",
    "        print(f\"Function should return the value {expected}, it is returning the value {actual}\")\n",
    "    else:\n",
    "        print(f\"Congratulations, the test case passed!\")\n",
    "\n",
    "#This function is for testing, do not modify\n",
    "def check_multiple(actual, expected):\n",
    "    if actual not in expected:\n",
    "        print(f\"Function should return one of the values in the list {expected}, it is returning the value {actual}\")\n",
    "    else:\n",
    "        print(f\"Congratulations, the test case passed!\")"
   ]
  },
  {
   "cell_type": "markdown",
   "id": "a1b1df41",
   "metadata": {},
   "source": [
    "###  Q1\n",
    "Now, you are given a list `clubs_list` which has both the club name and the club points. Write a function `qualifying_club(L, P)` where given a list `L` and number of qualifying teams `T`, you are required to find which top `T` teams have qualified to the chamipions league based on their points."
   ]
  },
  {
   "cell_type": "code",
   "execution_count": null,
   "id": "cd01c288",
   "metadata": {},
   "outputs": [],
   "source": [
    "clubs_list = [[\"Ethiopia Bunna\", 66], [\"Dedebit\", 67], [\"St George\", 71], [\n",
    "    \"Bahrdar Kenema\", 94], [\"Lucy\", 95], [\"Adama Kenema\", 70], [\"Mechal\", 53]]"
   ]
  },
  {
   "cell_type": "code",
   "execution_count": null,
   "id": "fdd17ef9",
   "metadata": {},
   "outputs": [],
   "source": [
    "def qualifying_club(L, T):\n",
    "    pass"
   ]
  },
  {
   "cell_type": "markdown",
   "id": "fd764ce4",
   "metadata": {},
   "source": [
    "### Q2\n",
    "\n",
    "Write a function `sublist` such that for a sorted list `L` and two values `small` and `large` (with `large > small`), `sublist(L, small, large)` will return a pair of indices `beg` , `end` that correspond to the part of `L` that is between `small` and `large`. \n",
    "\n",
    "*Follow up:* Can you make your function fast using binary search?"
   ]
  },
  {
   "cell_type": "code",
   "execution_count": null,
   "id": "f3e74c25",
   "metadata": {},
   "outputs": [],
   "source": [
    "def sublist(L, small, large):\n",
    "    pass\n",
    "\n",
    "sublist([2, 10, 34, 55, 100, 204], 15, 101) == (2, 4)  # since L[2]=34 and L[4]=100"
   ]
  },
  {
   "cell_type": "code",
   "execution_count": null,
   "id": "19549cc4",
   "metadata": {},
   "outputs": [],
   "source": [
    "# TEST_CASE\n",
    "check(sublist([2, 10, 34, 55, 100, 204, 555], 15, 101),\n",
    "      (2, 4))  # since L[2]=34 and L[4]=100\n",
    "check(sublist([2, 10, 34, 55, 100, 555], 15, 101), (2, 4))\n",
    "check(sublist([2, 10, 14, 34, 55, 100, 204, 555], 15, 101), (3, 5))\n",
    "check(sublist([2, 10, 24, 55, 98, 99, 100, 204, 555], 15, 101), (2, 6))"
   ]
  },
  {
   "cell_type": "markdown",
   "id": "39f32ac4",
   "metadata": {},
   "source": [
    "### Q3\n",
    "**Local maximum**\n",
    "\n",
    "You are given an unsorted list `L` of nonnegative integers. For example,\n",
    "`L = [200, 500, 30, 0, 1, 4]`\n",
    "\n",
    "Find any number `n` in the list that is greater than the numbers to the left and right of it and return it.\n",
    "\n",
    "For example,\n",
    "`localMax(L)` should return `500`.\n",
    "\n",
    "The first element is a local max if it is greater than the second element.\n",
    "The last element is a local max if it is greater than the second to last element.\n",
    "\n",
    "\n",
    "For example: `L = [1, 2, 3, 4, 5]` `localMax(L) == 5`."
   ]
  },
  {
   "cell_type": "code",
   "execution_count": null,
   "id": "ff83d787",
   "metadata": {},
   "outputs": [],
   "source": [
    "def localMax(L):\n",
    "    pass"
   ]
  },
  {
   "cell_type": "code",
   "execution_count": null,
   "id": "4022176c",
   "metadata": {},
   "outputs": [],
   "source": [
    "#TEST_CASE\n",
    "L = [1, 2, 3, 4, 5]\n",
    "check_multiple(localMax(L), [5])\n",
    "\n",
    "M=[4, 78, 90, 23, 65, 12, 19]\n",
    "check_multiple(localMax(M), [19,65,90])\n",
    "\n",
    "N=[19, 18, 3]\n",
    "check_multiple(localMax(N), [19])\n",
    "\n",
    "K=[23, 45, 67, 78, 98]\n",
    "check_multiple(localMax(K), [98])"
   ]
  },
  {
   "cell_type": "markdown",
   "id": "5bc190bd",
   "metadata": {},
   "source": [
    "### Q4\n",
    "\n",
    "Given a sorted list, find the closest smaller element to a certain value. If their is no such number return `-1`.\n",
    "\n",
    "Eg. If `L = [10, 15, 4, 9, 5]` and `v = 10`, the function should return 9."
   ]
  },
  {
   "cell_type": "code",
   "execution_count": null,
   "id": "2468ba89",
   "metadata": {},
   "outputs": [],
   "source": [
    "def find_closest_smaller(L, v):\n",
    "    pass"
   ]
  },
  {
   "cell_type": "markdown",
   "id": "7f312abb",
   "metadata": {},
   "source": [
    "### Q5\n",
    "\n",
    "Write a function `number_of_smaller_elements` that takes two lists (`L` and `M`) as input parameters. The first list is sorted. \n",
    "\n",
    "For each element in the *second list*, the function should determine the number of elements in the *first list* that are *less than or equal* to it. The function should return this information as a list.\n",
    "\n",
    "*Hint*: create a helper function that uses binary search"
   ]
  },
  {
   "cell_type": "code",
   "execution_count": null,
   "id": "e9a0fcae",
   "metadata": {},
   "outputs": [],
   "source": [
    "def number_of_smaller_elements(L, M):\n",
    "    pass\n",
    "\n",
    "check(number_of_smaller_elements([1, 2, 3, 4, 5, 6], [6, 5, 4, 3, 2, 1]), [6, 5, 4, 3, 2, 1])"
   ]
  }
 ],
 "metadata": {
  "kernelspec": {
   "display_name": "Python 3 (ipykernel)",
   "language": "python",
   "name": "python3"
  },
  "language_info": {
   "codemirror_mode": {
    "name": "ipython",
    "version": 3
   },
   "file_extension": ".py",
   "mimetype": "text/x-python",
   "name": "python",
   "nbconvert_exporter": "python",
   "pygments_lexer": "ipython3",
   "version": "3.9.7"
  }
 },
 "nbformat": 4,
 "nbformat_minor": 5
}
