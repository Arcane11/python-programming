{
 "cells": [
  {
   "cell_type": "markdown",
   "metadata": {},
   "source": [
    "# 13A Supplementary"
   ]
  },
  {
   "cell_type": "markdown",
   "metadata": {},
   "source": [
    "### `Run the following cell first!!!`"
   ]
  },
  {
   "cell_type": "code",
   "execution_count": null,
   "metadata": {},
   "outputs": [],
   "source": [
    "# This function is for testing, do not modify\n",
    "def check(actual, expected):\n",
    "    if expected != actual:\n",
    "        print(\n",
    "            f\"Function should return the value {expected}, it is returning the value {actual}\")\n",
    "    else:\n",
    "        print(f\"Congratulations, the test case passed!\")"
   ]
  },
  {
   "cell_type": "markdown",
   "metadata": {},
   "source": [
    "## 1. Sort by Heights (Medium)\n",
    "\n",
    "You are given an array of strings names, and an array of numberes heights. Both arrays are of length n.\n",
    "\n",
    "For each index i, names[i] and heights[i] denote the name and height of the ith person.\n",
    "\n",
    "Return names sorted in `descending` order by the people's heights.\n",
    "\n",
    "`If there is a tie in heights`, then sort the names alphabetically in `ascending` order.\n",
    "\n",
    "Example 1:\n",
    "\n",
    "Input: `names = [\"Mary\",\"John\",\"Emma\"]`, `heights = [180,165,170]`\n",
    "\n",
    "Output: `[\"Mary\",\"Emma\",\"John\"]`\n",
    "\n",
    "Explanation: Mary is the tallest, followed by Emma and John.\n",
    "\n",
    "Example 2:\n",
    "\n",
    "Input: `names = [\"Tony\", \"Noam\", \"Abraham\", \"Georg\"]`, `heights = [200,160, 160, 170]`\n",
    "\n",
    "Output: `[\"Tony\",  \"Georg\", \"Abraham\", \"Noam\"]`\n",
    "\n",
    "Explanation: Abraham and Noam have the same height, but \"Noam\"is alphabetically larger than \"Abraham\", so you need to put \"Noam\" after \"Abraham\".\n"
   ]
  },
  {
   "cell_type": "code",
   "execution_count": null,
   "metadata": {},
   "outputs": [],
   "source": [
    "def sortHeights(names, heights):\n",
    "    pass # delete this line and add your code here.?"
   ]
  },
  {
   "cell_type": "code",
   "execution_count": null,
   "metadata": {},
   "outputs": [],
   "source": [
    "check(sortHeights([\"Mary\",\"John\",\"Emma\"],[180,165,170]),[\"Mary\",\"Emma\",\"John\"])\n",
    "check(sortHeights([\"Tony\", \"Noam\", \"Abraham\", \"Georg\"],[200,160, 160, 170]),[\"Tony\",  \"Georg\", \"Abraham\", \"Noam\"])"
   ]
  },
  {
   "cell_type": "markdown",
   "metadata": {},
   "source": [
    "## 2. Iterative Merge Sort (Challenge)"
   ]
  },
  {
   "cell_type": "markdown",
   "metadata": {},
   "source": [
    "Now you know how use the recursive approach to implement merge sort algorithm. Let's try to implement it iteratively. \n",
    "\n",
    "Hint: During the algorithm, we mantain a nested list `sublists` containing sorted lists. In each pass of `merging`, we pop the first two sub-lists, merge them together and add the merged list to the end of `sublists`. In the end, once `sublists` contains only a single list, we extract and return the inner list."
   ]
  },
  {
   "cell_type": "code",
   "execution_count": null,
   "metadata": {},
   "outputs": [],
   "source": [
    "def mergeSortIter(lst):\n",
    "    sublists = [[i] for i in lst]\n",
    "    pass # remove this line and add your code here\n",
    "  "
   ]
  },
  {
   "cell_type": "code",
   "execution_count": null,
   "metadata": {},
   "outputs": [],
   "source": [
    "def merge_iter(lst1 , lst2):\n",
    "    res = list()\n",
    "    idx1 = 0\n",
    "    idx2 = 0\n",
    "    while idx1 < len(lst1) and idx2 < len (lst2):\n",
    "        if lst1[idx1] < lst2[idx2]:\n",
    "            res.append(lst1[idx1])\n",
    "            idx1 += 1\n",
    "        else:\n",
    "            res.append(lst2[idx2])\n",
    "            idx2 += 1\n",
    "    res += lst1[idx1:] + lst2[idx2:]\n",
    "    return res\n",
    "\n",
    "def mergeSortIter(lst):\n",
    "    if lst == []:\n",
    "        return []\n",
    "    sublists = [[i] for i in lst]\n",
    "    while len(sublists) != 1:\n",
    "        sublists.append(merge_iter(sublists.pop(0), sublists.pop(0)))\n",
    "    return sublists[0]\n"
   ]
  },
  {
   "cell_type": "code",
   "execution_count": null,
   "metadata": {},
   "outputs": [],
   "source": [
    "import random\n",
    "L = list(range(100))\n",
    "P = list(L)\n",
    "random.shuffle(L)\n",
    "check(mergeSortIter(L), P)"
   ]
  },
  {
   "cell_type": "markdown",
   "metadata": {},
   "source": [
    "## 3. Majority Elements (Hard)"
   ]
  },
  {
   "cell_type": "markdown",
   "metadata": {},
   "source": [
    "Given an array nums of size n, return the majority element.\n",
    "\n",
    "The majority element is the element that appears more than ⌊n / 2⌋ times. You may assume that the majority element always exists in the array.\n",
    "\n",
    "Example 1:\n",
    "\n",
    "Input: `nums = [3,2,3]`\n",
    "\n",
    "Output: 3\n",
    "\n",
    "Example 2:\n",
    "\n",
    "Input: `nums = [2,2,1,1,1,2,2]`\n",
    "\n",
    "Output: 2"
   ]
  },
  {
   "cell_type": "markdown",
   "metadata": {},
   "source": [
    "### 3.1\n",
    "Use a dictionary to solve it. You solution should have time complexity O(n), where n is the length of the input list `nums`."
   ]
  },
  {
   "cell_type": "code",
   "execution_count": null,
   "metadata": {},
   "outputs": [],
   "source": [
    "def majority(nums):\n",
    "    pass # remove this line and add your own code"
   ]
  },
  {
   "cell_type": "code",
   "execution_count": null,
   "metadata": {},
   "outputs": [],
   "source": [
    "check(majority([3, 2, 3]), 3)\n",
    "check(majority([2, 2, 1, 1, 1, 2, 2]), 2)\n",
    "import random\n",
    "L = [2] * 10 + [4] * 14 + [3] * 6 + [1] * 31\n",
    "random.shuffle(L)\n",
    "check(majority(L), 1)"
   ]
  },
  {
   "cell_type": "markdown",
   "metadata": {},
   "source": [
    "### 3.2\n",
    "Use recursion to solve it. Do not use a dictionary.\n",
    "Hint: Divide the list into two. How can you find the majority given the majority of each sublist?"
   ]
  },
  {
   "cell_type": "code",
   "execution_count": null,
   "metadata": {},
   "outputs": [],
   "source": [
    "def rec_majority(nums):\n",
    "    pass # remove this line and add your own code"
   ]
  },
  {
   "cell_type": "code",
   "execution_count": null,
   "metadata": {},
   "outputs": [],
   "source": [
    "def rec_majority(nums):\n",
    "    if len(nums) == 0:\n",
    "        return None\n",
    "    if len(nums) == 1:\n",
    "        return nums[0]\n",
    "    maj1 = rec_majority(nums[:len(nums)//2])\n",
    "    maj2 = rec_majority(nums[len(nums)//2:])\n",
    "    return maj1 if nums.count(maj1) > nums.count(maj2) else maj2"
   ]
  },
  {
   "cell_type": "code",
   "execution_count": null,
   "metadata": {},
   "outputs": [],
   "source": [
    "check(rec_majority([3, 2, 3]), 3)\n",
    "check(rec_majority([2, 2, 1, 1, 1, 2, 2]), 2)\n",
    "import random\n",
    "L = [2] * 10 + [4] * 14 + [3] * 6 + [1] * 31\n",
    "random.shuffle(L)\n",
    "check(rec_majority(L), 1)"
   ]
  },
  {
   "cell_type": "markdown",
   "metadata": {},
   "source": [
    "## 4. Intersections of Two  (Medium)\n",
    "\n",
    "Given two integer arrays nums1 and nums2, return an array of their intersection. Each element in the result must appear as many times as it shows in both arrays and you may return the result in any order.\n",
    "\n",
    "Example 1:\n",
    "\n",
    "Input: nums1 = `[1,2,2,1]`, nums2 = `[2,2]`\n",
    "\n",
    "Output: `[2,2]`\n",
    "\n",
    "Example 2:\n",
    "\n",
    "Input: nums1 = `[4,9,5]`, nums2 = `[9,4,9,8,4]`\n",
    "\n",
    "Output: `[4,9]`\n",
    "\n",
    "Explanation: `[9,4]` is also accepted."
   ]
  },
  {
   "cell_type": "markdown",
   "metadata": {},
   "source": [
    "`You are not allowed to use a dictionary.`"
   ]
  },
  {
   "cell_type": "code",
   "execution_count": null,
   "metadata": {},
   "outputs": [],
   "source": [
    "def intersect(lst1, lst2):\n",
    "    pass # remove this line and add your code here."
   ]
  },
  {
   "cell_type": "code",
   "execution_count": null,
   "metadata": {},
   "outputs": [],
   "source": [
    "def intersect(lst1, lst2):\n",
    "    lst1.sort()\n",
    "    lst2.sort()\n",
    "    inter =[]\n",
    "    inx1 = 0\n",
    "    inx2 = 0\n",
    "    while inx1 < len(lst1) and inx2 < len(lst2):\n",
    "        if lst1[inx1] == lst2[inx2]:\n",
    "            inter += [lst1[inx1]]\n",
    "            inx1 += 1\n",
    "            inx2 += 1\n",
    "        elif lst1[inx1] < lst2[inx2]:\n",
    "            inx1 += 1\n",
    "        else:\n",
    "            inx2 += 1\n",
    "    return inter"
   ]
  },
  {
   "cell_type": "code",
   "execution_count": null,
   "metadata": {},
   "outputs": [],
   "source": [
    "check(sorted(intersect([1, 2, 2, 1], [2, 2])), [2, 2])\n",
    "check(sorted(intersect([4, 9, 5], [9, 4, 9, 8, 4])), [4, 9])\n",
    "import random\n",
    "L = [1, 2, 3, 4, 5] + list(range(6, 20))\n",
    "P = [1, 2, 3, 4, 5] + list(range(21, 30))\n",
    "random.shuffle(L)\n",
    "random.shuffle(P)\n",
    "check(sorted(intersect(L, P)), [1, 2, 3, 4, 5])"
   ]
  }
 ],
 "metadata": {
  "kernelspec": {
   "display_name": "Python 3",
   "language": "python",
   "name": "python3"
  },
  "language_info": {
   "codemirror_mode": {
    "name": "ipython",
    "version": 3
   },
   "file_extension": ".py",
   "mimetype": "text/x-python",
   "name": "python",
   "nbconvert_exporter": "python",
   "pygments_lexer": "ipython3",
   "version": "3.10.9"
  }
 },
 "nbformat": 4,
 "nbformat_minor": 2
}
