{
 "cells": [
  {
   "cell_type": "markdown",
   "metadata": {},
   "source": [
    "# Week 3 Day 3 Morning Exercises\n"
   ]
  },
  {
   "cell_type": "code",
   "execution_count": 5,
   "metadata": {},
   "outputs": [],
   "source": [
    "# This function is for testing, do not modify\n",
    "def check(actual, expected):\n",
    "    if expected != actual:\n",
    "        print(\n",
    "            f\"Function should return the value {expected}, it is returning the value {actual}\")\n",
    "    else:\n",
    "        print(f\"Congratulations, the test case passed!\")"
   ]
  },
  {
   "cell_type": "markdown",
   "metadata": {},
   "source": [
    "## 1\n",
    "### 1.1\n",
    "Write a function `sort2` that sorts a list of numbers with a length of 2."
   ]
  },
  {
   "cell_type": "code",
   "execution_count": 8,
   "metadata": {},
   "outputs": [],
   "source": [
    "def sort2(L):\n",
    "    ## Your code goes here\n",
    "    pass\n",
    "    \n"
   ]
  },
  {
   "cell_type": "code",
   "execution_count": 7,
   "metadata": {},
   "outputs": [
    {
     "name": "stdout",
     "output_type": "stream",
     "text": [
      "Function should return the value [9, 37], it is returning the value None\n",
      "Function should return the value [1, 29], it is returning the value None\n"
     ]
    }
   ],
   "source": [
    "check(sort2([37, 9]), [9, 37])\n",
    "check(sort2([1, 29]), [1, 29])"
   ]
  },
  {
   "cell_type": "markdown",
   "metadata": {
    "slideshow": {
     "slide_type": "slide"
    }
   },
   "source": [
    "### 1.2\n",
    "\n",
    "Write a function ```sort4``` that can sort a list of 4 elements. The function should make two calls to ```sort2``` where `sort2` sorts a list of size 2."
   ]
  },
  {
   "cell_type": "code",
   "execution_count": 2,
   "metadata": {},
   "outputs": [
    {
     "data": {
      "text/plain": [
       "[1, 3, 4]"
      ]
     },
     "execution_count": 2,
     "metadata": {},
     "output_type": "execute_result"
    }
   ],
   "source": [
    "def sort4(L):\n",
    "    L_first_sorted = sort2(L[0:2])\n",
    "    L_last_sorted = sort2(L[2:4])\n",
    "    #\n",
    "    # do something to return a sorted list\n",
    "    #\n",
    "sort2([1,4,3])"
   ]
  },
  {
   "cell_type": "code",
   "execution_count": null,
   "metadata": {},
   "outputs": [],
   "source": [
    "L = [5, 2, 1, 6]\n",
    "check(sort4(L), [1, 2, 5, 6])\n",
    "\n",
    "M = [4, 3, 2, 1]\n",
    "check(sort4(M), [1, 2, 3, 4])"
   ]
  },
  {
   "cell_type": "markdown",
   "metadata": {
    "slideshow": {
     "slide_type": "slide"
    }
   },
   "source": [
    "### 1.3\n",
    "\n",
    "Write a function ```sort32``` that sorts a list of 32 elements. The function should make two recursive calls to a provided function ```sort16```"
   ]
  },
  {
   "cell_type": "code",
   "execution_count": 16,
   "metadata": {
    "slideshow": {
     "slide_type": "fragment"
    }
   },
   "outputs": [],
   "source": [
    "sort16 = sorted\n",
    "\n",
    "def sort32(L):\n",
    "    L_first_sorted = sort16(L[0:16])\n",
    "    L_last_sorted = sort16(L[16:32])\n",
    "    #\n",
    "    # do something to return a sorted list\n",
    "    #"
   ]
  },
  {
   "cell_type": "code",
   "execution_count": null,
   "metadata": {},
   "outputs": [],
   "source": [
    "# TEST_CASE\n",
    "L = [32, 31, 30, 29, 28, 27, 26, 25, 24, 23, 22, 21, 20, 19, 18,\n",
    "        17, 16, 15, 14, 13, 12, 11, 10, 9, 8, 7, 6, 5, 4, 3, 2, 1]\n",
    "\n",
    "check(sort32(L), [1, 2, 3, 4, 5, 6, 7, 8, 9, 10, 11, 12, 13, 14, 15, 16, 17,\n",
    "                  18, 19, 20, 21, 22, 23, 24, 25, 26, 27, 28, 29, 30, 31, 32])"
   ]
  },
  {
   "cell_type": "markdown",
   "metadata": {},
   "source": [
    "## 2\n",
    "### 2.1\n",
    "Given the following two lists, can you write a small code using a while loop that can combine them into a single sorted list?"
   ]
  },
  {
   "cell_type": "code",
   "execution_count": 9,
   "metadata": {},
   "outputs": [],
   "source": [
    "list1 = [1, 3, 5, 7, 9]\n",
    "list2 = [2, 4, 6, 8, 10]\n",
    "\n",
    "## Your code goes below here\n"
   ]
  },
  {
   "cell_type": "markdown",
   "metadata": {},
   "source": [
    "### 2.2\n",
    "What if we remove the last few elements from `list1`? What changes can you make for your code to work?"
   ]
  },
  {
   "cell_type": "code",
   "execution_count": 10,
   "metadata": {},
   "outputs": [],
   "source": [
    "list1 = [1, 3, 5, 7, 9]\n",
    "list2 = [2, 4, 6]\n",
    "\n",
    "## Your code goes below here"
   ]
  },
  {
   "cell_type": "markdown",
   "metadata": {},
   "source": [
    "### 2.3\n",
    "Write a function `combine_sorted` that takes in two sorted lists and gives a combined sorted list."
   ]
  },
  {
   "cell_type": "code",
   "execution_count": 12,
   "metadata": {},
   "outputs": [],
   "source": [
    "def combine_sorted(list1, list2):\n",
    "    # Your code goes here\n",
    "    pass"
   ]
  },
  {
   "cell_type": "markdown",
   "metadata": {
    "slideshow": {
     "slide_type": "slide"
    }
   },
   "source": [
    "## 3\n",
    "\n",
    "Write a function ```merge_sort``` that will sort a list of _any_ size. The function should make two recursive calls to itself and use the `combine_sorted` function you implemented in question 2."
   ]
  },
  {
   "cell_type": "code",
   "execution_count": 18,
   "metadata": {
    "slideshow": {
     "slide_type": "fragment"
    }
   },
   "outputs": [],
   "source": [
    "def merge_sort(L):\n",
    "    #\n",
    "    # do something here\n",
    "    #\n",
    "    L_first_sorted = merge_sort(\n",
    "        L[0:int(len(L)/2)])\n",
    "    L_last_sorted = merge_sort(\n",
    "        L[int(len(L)/2):len(L)])\n",
    "    #\n",
    "    # do something to return a sorted list\n",
    "    return combine_sorted(L_first_sorted, L_last_sorted)"
   ]
  },
  {
   "cell_type": "code",
   "execution_count": null,
   "metadata": {},
   "outputs": [],
   "source": [
    "L = [23, 10, 5, 1, 4]\n",
    "check(merge_sort(L), [1, 4, 5, 10, 23])\n",
    "\n",
    "M = [4, 3, 2, 1]\n",
    "check(merge_sort(M), [1, 2, 3, 4])"
   ]
  },
  {
   "cell_type": "markdown",
   "metadata": {},
   "source": [
    "## 4\n",
    "### 4.1\n",
    "Write a function `sort_almost_sorted` that sorts a list whose first and second halves are already sorted. One such list is `L = [1, 3, 5, 7, 9, 2, 4, 6, 8, 10]`."
   ]
  },
  {
   "cell_type": "code",
   "execution_count": null,
   "metadata": {},
   "outputs": [],
   "source": []
  },
  {
   "cell_type": "markdown",
   "metadata": {},
   "source": [
    "### 4.2\n",
    "Write a function `merge_sort2` that uses the previous function `sort_almost_sorted`. Instead of calling the function on smaller lists, it uses indices to keep track of where it is sorting."
   ]
  },
  {
   "cell_type": "code",
   "execution_count": null,
   "metadata": {},
   "outputs": [],
   "source": [
    "def merge_sort2(L):\n",
    "    return merge_sort2_h(L, 0, len(L) - 1)\n",
    "def merge_sort2_h(L, start, end):\n",
    "    #\n",
    "    # do something here\n",
    "    #\n",
    "    \n",
    "    ## define middle index\n",
    "    ##mid = sth\n",
    "    L = merge_sort2_h(L, start, mid)\n",
    "    L = merge_sort2_h(L, mid + 1, end)\n",
    "    #\n",
    "    # do something to return a sorted list\n",
    "    return sort_almost_sorted(L)"
   ]
  }
 ],
 "metadata": {
  "kernelspec": {
   "display_name": "Python 3 (ipykernel)",
   "language": "python",
   "name": "python3"
  },
  "language_info": {
   "codemirror_mode": {
    "name": "ipython",
    "version": 3
   },
   "file_extension": ".py",
   "mimetype": "text/x-python",
   "name": "python",
   "nbconvert_exporter": "python",
   "pygments_lexer": "ipython3",
   "version": "3.10.9"
  }
 },
 "nbformat": 4,
 "nbformat_minor": 2
}
