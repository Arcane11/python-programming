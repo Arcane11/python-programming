{
 "cells": [
  {
   "cell_type": "markdown",
   "id": "12a063f2",
   "metadata": {},
   "source": [
    "# Question -3\n",
    "Given a list of dictionaries with the name and age of people and the age and name of the person you are looking for, write a function that finds the dictionary for that person."
   ]
  },
  {
   "cell_type": "code",
   "execution_count": 4,
   "id": "53aa9efd",
   "metadata": {},
   "outputs": [],
   "source": [
    "people = [{\"name\": \"Henok\", \"age\": 21}, {\"name\": \"Alex\", \"age\": 26}]\n",
    "\n",
    "def find_person(arr, name, age):\n",
    "    # Write your code here\n",
    "    pass"
   ]
  },
  {
   "cell_type": "markdown",
   "id": "12e50c34",
   "metadata": {},
   "source": [
    "# Question -2\n",
    "\n",
    "You are interested in solving a particular problem on a list of `n` numbers. A friend says she has found three possible ways to solve the problem.\n",
    "\n",
    "The first solution divides the list into 2 equal sized parts in O(n) time, recursively solves each half, and then combines the solutions with an O(n<sup>2</sup>) combine step.\n",
    "\n",
    "The second solution does more work up front and takes O(n<sup>2</sup>)  time to process the list  and  divide it into two lists of n/2 elements each. Then, four recursive calls are made on these lists of size n/2. The combine step is O(n).\n",
    "\n",
    "The third solution uses the following code. You should assume linearfun runs in O(n) time.\n",
    "\n",
    "```python\n",
    "def third_alg(x):\n",
    "  n = len(x)\n",
    "  if (n <= 1):\n",
    "    return 0\n",
    "  left = linearfun(x[:n // 2])\n",
    "  right = linearfun(x[n // 2:])\n",
    "  #left and right are each lists of size n/2\n",
    "  if (left[0] <= right[0]):\n",
    "    soln = third_alg(left)\n",
    "  else:\n",
    "    soln = third_alg(right)\n",
    "  return soln\n",
    "```\n",
    "\n",
    "For each of the above three proposals analyze their time complexity. Which of the three algorithms would you choose to solve the problem? Explain your answer."
   ]
  },
  {
   "cell_type": "code",
   "execution_count": null,
   "id": "52458c49",
   "metadata": {},
   "outputs": [],
   "source": []
  },
  {
   "cell_type": "code",
   "execution_count": null,
   "id": "2329de30",
   "metadata": {},
   "outputs": [],
   "source": []
  },
  {
   "cell_type": "markdown",
   "id": "f1e08c43",
   "metadata": {},
   "source": [
    "# Question -1\n",
    "\n",
    "Consider the following code:\n",
    "\n",
    "```python\n",
    "def fun(n):\n",
    "    if n <= 1:\n",
    "        return 1\n",
    "    else:\n",
    "        return fun(n-1) + fun(n-1)\n",
    "```\n",
    "\n",
    "What is the time complexity of `fun`? Explain your answer."
   ]
  },
  {
   "cell_type": "markdown",
   "id": "3efe2ef6",
   "metadata": {},
   "source": [
    "## Exercise 10\n",
    "\n",
    "The following function finds how often the most common list element is repeated.\n",
    "\n",
    "Example: `[\"a\", \"b\", \"a\", \"c\", \"b\", \"a\"]` ---> 3, because `\"a\"` appears 3 times."
   ]
  },
  {
   "cell_type": "code",
   "execution_count": null,
   "id": "9a92f8cb",
   "metadata": {},
   "outputs": [],
   "source": [
    "def most_repetitions(lst):\n",
    "    n_reps = 0\n",
    "    for elem in lst:\n",
    "        n_reps_elem = 0\n",
    "        for c in lst:\n",
    "            if c == elem:\n",
    "                n_reps_elem += 1\n",
    "        n_reps = max(n_reps, n_reps_elem)\n",
    "    return n_reps\n",
    "\n",
    "most_repetitions([\"a\", \"b\", \"a\", \"c\", \"b\", \"a\"])"
   ]
  },
  {
   "cell_type": "markdown",
   "id": "289e3811",
   "metadata": {},
   "source": [
    "What is the **worst case** time complexity of the above function?"
   ]
  },
  {
   "cell_type": "markdown",
   "id": "a8d32c1c",
   "metadata": {},
   "source": [
    "Your answer here"
   ]
  },
  {
   "cell_type": "markdown",
   "id": "435dc6ef",
   "metadata": {},
   "source": [
    "**Write a function** that does the same, but has a better worst-time complexity!\n",
    "\n",
    "Hint: use a dictionary"
   ]
  },
  {
   "cell_type": "code",
   "execution_count": null,
   "id": "fa8b2104",
   "metadata": {},
   "outputs": [],
   "source": [
    "# Your code here"
   ]
  },
  {
   "cell_type": "markdown",
   "id": "5b384dd5",
   "metadata": {},
   "source": [
    "## Exercise 9\n",
    "\n",
    "Assume we have two lists: we want to find those elements that are in both lists.\n",
    "\n",
    "Example: `[1, 2, 3, 4]` and `[1, 3, 5, 7]` ---> `[1, 3]` "
   ]
  },
  {
   "cell_type": "markdown",
   "id": "e6522419",
   "metadata": {},
   "source": [
    "**Write a function** `intersect` that takes two lists `lst1` and `lst2` and returns a list containing their intersection (i.e. the elements both have in common).\n",
    "\n",
    "Hint: Use a nested for loop."
   ]
  },
  {
   "cell_type": "code",
   "execution_count": null,
   "id": "353a7fda",
   "metadata": {},
   "outputs": [],
   "source": [
    "# Your code here\n",
    "\n",
    "\n",
    "# Test your code:\n",
    "print(intersect([1, 2, 3, 4], [1, 3, 5, 7]))  # This should give [1, 3]"
   ]
  },
  {
   "cell_type": "markdown",
   "id": "06aca6ef",
   "metadata": {},
   "source": [
    "What is the **worst case** time complexity of your function?"
   ]
  },
  {
   "cell_type": "markdown",
   "id": "f4fcc86b",
   "metadata": {},
   "source": [
    "Your answer here"
   ]
  },
  {
   "cell_type": "markdown",
   "id": "e3d1a1c7",
   "metadata": {},
   "source": [
    "**Write a function** that does the same, but has a better worst-case time complexity!\n",
    "\n",
    "Hint: Convert one of the lists into a dictionary/set (set is a dictionary with keys and no values) before doing anything else."
   ]
  },
  {
   "cell_type": "code",
   "execution_count": null,
   "id": "3ee66826",
   "metadata": {},
   "outputs": [],
   "source": [
    "# Your code here\n",
    "\n",
    "\n",
    "# Test your code:\n",
    "print(intersect([1, 2, 3, 4], [1, 3, 5, 7]))  # This should give [1, 3]"
   ]
  },
  {
   "cell_type": "markdown",
   "id": "7fb9a0c3",
   "metadata": {},
   "source": [
    "What is the **worst case** time complexity of your improved function?"
   ]
  },
  {
   "cell_type": "markdown",
   "id": "aa5eef50",
   "metadata": {},
   "source": [
    "Your answer here"
   ]
  },
  {
   "cell_type": "markdown",
   "id": "a506f8b2",
   "metadata": {},
   "source": [
    "## Exercise 5\n",
    "\n",
    "What is the **worst case** time complexity of the following functions, in big O notation?"
   ]
  },
  {
   "cell_type": "code",
   "execution_count": null,
   "id": "486b801f",
   "metadata": {},
   "outputs": [],
   "source": [
    "# (a)\n",
    "def powerset(n):\n",
    "    if n == 0:\n",
    "        return [[]]\n",
    "    else:\n",
    "        new_subsets = []\n",
    "        for subset in powerset(n-1):\n",
    "            new_subsets.append(subset + [0])\n",
    "            new_subsets.append(subset + [1])\n",
    "        return new_subsets"
   ]
  },
  {
   "cell_type": "markdown",
   "id": "bf4e9266",
   "metadata": {},
   "source": [
    "Your answer here"
   ]
  },
  {
   "cell_type": "code",
   "execution_count": null,
   "id": "25f58c6d",
   "metadata": {},
   "outputs": [],
   "source": [
    "# (b)  THIS ONE IS HARD!\n",
    "def permutations(n):\n",
    "    if n == 0:\n",
    "        return [[0]]\n",
    "    else:\n",
    "        new_permutations = []\n",
    "        for i in range(n+1):\n",
    "            for per in permutation(n-1):\n",
    "                new_permutation = per[:i] + [n] + per[i:]\n",
    "                new_permutations.append(new_permutation)\n",
    "        return new_permutations"
   ]
  },
  {
   "cell_type": "markdown",
   "id": "7f42d37d",
   "metadata": {},
   "source": [
    "Your answer here"
   ]
  },
  {
   "cell_type": "markdown",
   "id": "9cdef548",
   "metadata": {},
   "source": [
    "<details>\n",
    "<summary><i>Click here to see the solution</i></summary>\n",
    "    \n",
    "- (a) $O(n2^n)$\n",
    "- (b) $O((n+1)!)$\n",
    "</details>"
   ]
  },
  {
   "cell_type": "code",
   "execution_count": null,
   "id": "36ebea56",
   "metadata": {},
   "outputs": [],
   "source": []
  }
 ],
 "metadata": {
  "kernelspec": {
   "display_name": "Python 3",
   "language": "python",
   "name": "python3"
  },
  "language_info": {
   "codemirror_mode": {
    "name": "ipython",
    "version": 3
   },
   "file_extension": ".py",
   "mimetype": "text/x-python",
   "name": "python",
   "nbconvert_exporter": "python",
   "pygments_lexer": "ipython3",
   "version": "3.6.9"
  }
 },
 "nbformat": 4,
 "nbformat_minor": 5
}
