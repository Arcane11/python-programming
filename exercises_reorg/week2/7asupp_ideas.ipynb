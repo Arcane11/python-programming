{
 "cells": [
  {
   "cell_type": "code",
   "execution_count": 1,
   "id": "9c410611",
   "metadata": {},
   "outputs": [
    {
     "ename": "ModuleNotFoundError",
     "evalue": "No module named 'PIL'",
     "output_type": "error",
     "traceback": [
      "\u001b[31m---------------------------------------------------------------------------\u001b[39m",
      "\u001b[31mModuleNotFoundError\u001b[39m                       Traceback (most recent call last)",
      "\u001b[36mCell\u001b[39m\u001b[36m \u001b[39m\u001b[32mIn[1]\u001b[39m\u001b[32m, line 1\u001b[39m\n\u001b[32m----> \u001b[39m\u001b[32m1\u001b[39m \u001b[38;5;28;01mfrom\u001b[39;00m\u001b[38;5;250m \u001b[39m\u001b[34;01msimpleimage\u001b[39;00m\u001b[38;5;250m \u001b[39m\u001b[38;5;28;01mimport\u001b[39;00m SimpleImage\n",
      "\u001b[36mFile \u001b[39m\u001b[32mc:\\Users\\HP\\OneDrive\\Documents\\python programming\\exercises_reorg\\week2\\simpleimage.py:40\u001b[39m\n\u001b[32m     37\u001b[39m \u001b[38;5;28;01mimport\u001b[39;00m\u001b[38;5;250m \u001b[39m\u001b[34;01msys\u001b[39;00m\n\u001b[32m     38\u001b[39m \u001b[38;5;66;03m# If the following line fails, \"Pillow\" needs to be installed. Ask your\u001b[39;00m\n\u001b[32m     39\u001b[39m \u001b[38;5;66;03m# TA for help.\u001b[39;00m\n\u001b[32m---> \u001b[39m\u001b[32m40\u001b[39m \u001b[38;5;28;01mfrom\u001b[39;00m\u001b[38;5;250m \u001b[39m\u001b[34;01mPIL\u001b[39;00m\u001b[38;5;250m \u001b[39m\u001b[38;5;28;01mimport\u001b[39;00m Image\n\u001b[32m     43\u001b[39m \u001b[38;5;28;01mdef\u001b[39;00m\u001b[38;5;250m \u001b[39m\u001b[34mclamp\u001b[39m(num):\n\u001b[32m     44\u001b[39m \u001b[38;5;250m    \u001b[39m\u001b[33;03m\"\"\"\u001b[39;00m\n\u001b[32m     45\u001b[39m \u001b[33;03m    Return a \"clamped\" version of the given num,\u001b[39;00m\n\u001b[32m     46\u001b[39m \u001b[33;03m    converted to be an int limited to the range 0..255.\u001b[39;00m\n\u001b[32m     47\u001b[39m \u001b[33;03m    \"\"\"\u001b[39;00m\n",
      "\u001b[31mModuleNotFoundError\u001b[39m: No module named 'PIL'"
     ]
    }
   ],
   "source": [
    "from simpleimage import SimpleImage"
   ]
  },
  {
   "cell_type": "markdown",
   "id": "b6f79bad",
   "metadata": {},
   "source": [
    "### Q1.1\n",
    "\n",
    "Make a horizontal gradient."
   ]
  },
  {
   "cell_type": "code",
   "execution_count": 2,
   "id": "71b431e7",
   "metadata": {},
   "outputs": [
    {
     "ename": "NameError",
     "evalue": "name 'SimpleImage' is not defined",
     "output_type": "error",
     "traceback": [
      "\u001b[31m---------------------------------------------------------------------------\u001b[39m",
      "\u001b[31mNameError\u001b[39m                                 Traceback (most recent call last)",
      "\u001b[36mCell\u001b[39m\u001b[36m \u001b[39m\u001b[32mIn[2]\u001b[39m\u001b[32m, line 2\u001b[39m\n\u001b[32m      1\u001b[39m size = \u001b[32m11\u001b[39m\n\u001b[32m----> \u001b[39m\u001b[32m2\u001b[39m image = \u001b[43mSimpleImage\u001b[49m.blank(size, size)\n\u001b[32m      3\u001b[39m \u001b[38;5;28;01mfor\u001b[39;00m x \u001b[38;5;129;01min\u001b[39;00m \u001b[38;5;28mrange\u001b[39m(size):\n\u001b[32m      4\u001b[39m     color = x*\u001b[32m256\u001b[39m//size\n",
      "\u001b[31mNameError\u001b[39m: name 'SimpleImage' is not defined"
     ]
    }
   ],
   "source": [
    "size = 11\n",
    "image = SimpleImage.blank(size, size)\n",
    "for x in range(size):\n",
    "    color = x*256//size\n",
    "    for y in range(size):\n",
    "        image.set_rgb(x, y, color, color, color)\n",
    "image.show(resize_width=200)"
   ]
  },
  {
   "cell_type": "markdown",
   "id": "d4ca94de",
   "metadata": {},
   "source": [
    "### Q1.3\n",
    "\n",
    "2-directional gradient"
   ]
  },
  {
   "cell_type": "code",
   "execution_count": 4,
   "id": "92a53cae",
   "metadata": {
    "scrolled": true
   },
   "outputs": [
    {
     "data": {
      "image/png": "[encoded data removed]",
      "text/plain": [
       "<PIL.Image.Image image mode=RGB size=200x200>"
      ]
     },
     "metadata": {},
     "output_type": "display_data"
    }
   ],
   "source": [
    "size = 11\n",
    "image = SimpleImage.blank(size, size)\n",
    "for x in range(size):\n",
    "    color1 = x*256//size\n",
    "    for y in range(size):\n",
    "        color2 = y*256//size\n",
    "        image.set_rgb(x, y, color1, color2, color2)\n",
    "image.show(resize_width=200)"
   ]
  },
  {
   "cell_type": "markdown",
   "id": "6733e022",
   "metadata": {},
   "source": [
    "### Q1.2\n",
    "draw a snake"
   ]
  },
  {
   "cell_type": "code",
   "execution_count": 5,
   "id": "88d4bf0e",
   "metadata": {},
   "outputs": [
    {
     "data": {
      "image/png": "[encoded data removed]",
      "text/plain": [
       "<PIL.Image.Image image mode=RGB size=200x200>"
      ]
     },
     "metadata": {},
     "output_type": "display_data"
    }
   ],
   "source": [
    "size = 11\n",
    "image = SimpleImage.blank(size, size)\n",
    "for y in range(size):\n",
    "    if y%2:\n",
    "        x = 0\n",
    "        if y % 4 == 3:\n",
    "            x = size - 1\n",
    "        image.set_rgb(x, y, 0, 0, 0)\n",
    "        continue\n",
    "    for x in range(size):\n",
    "        image.set_rgb(x, y, 0, 0, 0)\n",
    "image.show(resize_width=200)"
   ]
  },
  {
   "cell_type": "markdown",
   "id": "e570e84c",
   "metadata": {},
   "source": [
    "### Q1.2\n",
    "draw a spiral"
   ]
  },
  {
   "cell_type": "code",
   "execution_count": 6,
   "id": "b847b874",
   "metadata": {},
   "outputs": [
    {
     "data": {
      "image/png": "[encoded data removed]",
      "text/plain": [
       "<PIL.Image.Image image mode=RGB size=200x200>"
      ]
     },
     "metadata": {},
     "output_type": "display_data"
    }
   ],
   "source": [
    "size = 11\n",
    "image = SimpleImage.blank(size, size)\n",
    "x = 5\n",
    "y = 5\n",
    "directions = [(1, 0), (0, -1), (-1, 0), (0, 1)]\n",
    "dc = 0\n",
    "for i in range(size):\n",
    "    for j in range(i):\n",
    "        image.set_rgb(x, y, 0, 0, 0)\n",
    "        x += directions[dc][0]\n",
    "        y += directions[dc][1]\n",
    "    dc = (dc+1)%4\n",
    "image.show(resize_width=200)"
   ]
  },
  {
   "cell_type": "markdown",
   "id": "012f4703",
   "metadata": {},
   "source": [
    "### Q1.4\n",
    "colored snake"
   ]
  },
  {
   "cell_type": "code",
   "execution_count": 7,
   "id": "fc20ee81",
   "metadata": {},
   "outputs": [
    {
     "data": {
      "image/png": "[encoded data removed]",
      "text/plain": [
       "<PIL.Image.Image image mode=RGB size=200x200>"
      ]
     },
     "metadata": {},
     "output_type": "display_data"
    }
   ],
   "source": [
    "size = 11\n",
    "image = SimpleImage.blank(size, size)\n",
    "col = 0\n",
    "for y in range(size):\n",
    "    for x in range(size):\n",
    "        xt = x\n",
    "        if y%2:\n",
    "            xt = 9-x\n",
    "        image.set_rgb(xt, y, col, col, col)\n",
    "        col += 2\n",
    "image.show(resize_width=200)"
   ]
  },
  {
   "cell_type": "markdown",
   "id": "24850c93",
   "metadata": {},
   "source": [
    "### Q1.5\n",
    "palette cycle"
   ]
  },
  {
   "cell_type": "code",
   "execution_count": 42,
   "id": "5f452b01",
   "metadata": {},
   "outputs": [
    {
     "data": {
      "image/png": "[encoded data removed]",
      "text/plain": [
       "<PIL.Image.Image image mode=RGB size=200x200 at 0x7FDBEC01CCC0>"
      ]
     },
     "metadata": {},
     "output_type": "display_data"
    }
   ],
   "source": [
    "cycle = [\n",
    "    [255, 0, 0],\n",
    "    [255, 255, 0],\n",
    "    [0, 255, 0],\n",
    "    [0, 255, 255],\n",
    "    [0, 0, 255],\n",
    "    [255, 0, 255],\n",
    "]\n",
    "size = 11\n",
    "image = SimpleImage.blank(size, size)\n",
    "ci = 0\n",
    "for y in range(0, size, 2):\n",
    "    for x in range(size):\n",
    "        color = cycle[ci]\n",
    "        image.set_rgb(x, y, color[0], color[1], color[2])\n",
    "        ci = (ci + 1) % 6\n",
    "image.show(resize_width=200)"
   ]
  },
  {
   "cell_type": "code",
   "execution_count": null,
   "id": "3852ce6b",
   "metadata": {},
   "outputs": [],
   "source": []
  }
 ],
 "metadata": {
  "kernelspec": {
   "display_name": "Python 3",
   "language": "python",
   "name": "python3"
  },
  "language_info": {
   "codemirror_mode": {
    "name": "ipython",
    "version": 3
   },
   "file_extension": ".py",
   "mimetype": "text/x-python",
   "name": "python",
   "nbconvert_exporter": "python",
   "pygments_lexer": "ipython3",
   "version": "3.13.3"
  }
 },
 "nbformat": 4,
 "nbformat_minor": 5
}
