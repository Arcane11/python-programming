{
 "cells": [
  {
   "cell_type": "markdown",
   "metadata": {},
   "source": [
    "# Week 2 Day 9 Thursday Main Exercises - **More Recursion!**\n"
   ]
  },
  {
   "cell_type": "markdown",
   "metadata": {},
   "source": [
    "## Question 1\n",
    "**Fibonacci numbers** have many applications in nature and math. Here are the first 10 Fibonacci numbers:\n",
    "\n",
    "```\n",
    "fib(0) == 0\n",
    "fib(1) == 1\n",
    "fib(2) == 1\n",
    "fib(3) == 2\n",
    "fib(4) == 3\n",
    "fib(5) == 5\n",
    "fib(6) == 8\n",
    "fib(7) == 13\n",
    "fib(8) == 21\n",
    "fib(9) == 34\n",
    "...\n",
    "```\n",
    "\n",
    "Can you see a pattern? Using math, we can define the $n^{th}$ Fibonacci  number, $F(n)$, using a recurrence:\n",
    "\n",
    "$F(0) = 0$\n",
    "\n",
    "$F(1) = 1$\n",
    "\n",
    "and for $n \\ge 2$:\n",
    "\n",
    "$F(n) = F(n - 1) + F(n - 2)$\n",
    "\n",
    "**Task:** Write code to find the $n^{th}$ Fibonacci number."
   ]
  },
  {
   "cell_type": "code",
   "execution_count": null,
   "metadata": {},
   "outputs": [],
   "source": [
    "def fib(n):\n",
    "    # YOUR ANSWER HERE\n",
    "    pass\n",
    "\n",
    "# When you finish, these should all print True\n",
    "print(fib(0) == 0)\n",
    "print(fib(1) == 1)\n",
    "print(fib(2) == 1)\n",
    "print(fib(3) == 2)\n",
    "print(fib(6) == 8)\n",
    "print(fib(9) == 34)\n",
    "print(fib(20) == 6765)"
   ]
  },
  {
   "cell_type": "markdown",
   "metadata": {},
   "source": [
    "## Question 2\n",
    "Consider a recursive function called `tribonacci(n)`:\n",
    "* It takes a positive integer n\n",
    "* It returns the nth number in the tribonacci series.\n",
    "\n",
    "**Tribonacci numbers** are like the Fibonacci numbers, but instead of starting with two predetermined terms, the sequence starts with three predetermined terms and each term afterwards is the sum of the preceding three terms. That is,\n",
    "\n",
    "$\\text{Tribonacci}(n) = \\text{Tribonacci}(n-1) + \\text{Tribonacci}(n-2) + \\text{Tribonacci}(n-3)$\n",
    "\n",
    "with $\\text{Tribonacci}(0) = \\text{Tribonacci}(1) = 0$ and $\\text{Tribonacci}(2) = 1$\n",
    "\n",
    "The first few tribonacci numbers are:\n",
    "\n",
    "```\n",
    "tribonacci(0) == 0\n",
    "tribonacci(1) == 0\n",
    "tribonacci(2) == 1\n",
    "tribonacci(3) == 1\n",
    "tribonacci(4) == 2\n",
    "tribonacci(5) == 4\n",
    "tribonacci(6) == 7\n",
    "tribonacci(7) == 13\n",
    "tribonacci(9) == 44\n",
    "tribonacci(11) == 149\n",
    "```\n",
    "\n",
    "Implement `tribonacci(num)`.\n",
    "\n",
    "Hint: The base case includes 0, 1 and 2."
   ]
  },
  {
   "cell_type": "code",
   "execution_count": null,
   "metadata": {},
   "outputs": [],
   "source": [
    "def tribonacci(n):\n",
    "    # your code here\n",
    "    pass\n",
    "\n",
    "# after you finish, these all should print true\n",
    "print('Test passed:', tribonacci(0) == 0)\n",
    "print('Test passed:', tribonacci(1) == 0)\n",
    "print('Test passed:', tribonacci(4) == 2)\n",
    "print('Test passed:', tribonacci(5) == 4)\n",
    "print('Test passed:', tribonacci(11) == 149)"
   ]
  },
  {
   "cell_type": "markdown",
   "metadata": {},
   "source": [
    "## Question 3"
   ]
  },
  {
   "cell_type": "markdown",
   "metadata": {},
   "source": [
    "The [Catalan numbers](https://en.wikipedia.org/wiki/Catalan_number) count (among many other things) the number of parentheses expressions using `n` correctly matched pairs of parentheses. (You will see these expressions in `9a_supp`.)\n",
    "\n",
    "For example:\n",
    "- $C_1 = 1$: `()`\n",
    "- $C_2 = 2$: `(())       ()()`\n",
    "- $C_3 = 5$: `((()))     (()())     (())()     ()(())     ()()() `\n",
    "\n",
    "They are defined recursively as follows:\n",
    "\n",
    "$$C_0 = 1$$\n",
    "\n",
    "$$C_{n} = \\sum_{i=0}^{n-1} C_iC_{n-1-i}$$\n",
    "\n",
    "For example:\n",
    "\n",
    "$$C_2 = C_0C_1 + C_1C_0$$\n",
    "$$C_3 = C_0C_2 + C_1C_1 + C_2C_0$$\n",
    "$$C_4 = C_0C_3 + C_1C_2 + C_2C_1 + C_3C_0$$\n",
    "\n",
    "**Write a function** that computes $C_n$ given an input value `n`. **Use recursion!**"
   ]
  },
  {
   "cell_type": "code",
   "execution_count": null,
   "metadata": {},
   "outputs": [],
   "source": [
    "def catalan(n):\n",
    "    # your code here\n",
    "    pass\n",
    "\n",
    "# after you finish, these all should print true\n",
    "print('Test passed:', catalan(0) == 1)\n",
    "print('Test passed:', catalan(1) == 1)\n",
    "print('Test passed:', catalan(2) == 2)\n",
    "print('Test passed:', catalan(3) == 5)\n",
    "print('Test passed:', catalan(5) == 42)\n",
    "print('Test passed:', catalan(7) == 429)"
   ]
  },
  {
   "cell_type": "markdown",
   "metadata": {},
   "source": [
    "## Question 4\n",
    "\n",
    "**Task:** Write the function `print_list(lst)` that prints out all the words in a nested list.\n",
    "\n",
    "For example, if we have\n",
    "```\n",
    "lst = [[\"hello\"], \"darkness\", [\"my\", \"old\", [\"friend\"]]]\n",
    "```\n",
    "it should give\n",
    "```\n",
    "hello\n",
    "darkness\n",
    "my\n",
    "old\n",
    "friend\n",
    "```\n",
    "\n",
    "Hint: In your function, use a `for` loop to go through the list. Then:\n",
    "    \n",
    "- If the current element `x` is a list (`type(x) == list`), call your function `print_list` recursively with `x` as the argument. \n",
    "- Otherwise, print `x` (This is the base case)\n"
   ]
  },
  {
   "cell_type": "code",
   "execution_count": null,
   "metadata": {},
   "outputs": [],
   "source": [
    "def print_list(lst):\n",
    "    # your code here\n",
    "    pass \n",
    "\n",
    "\n",
    "# Test your code here\n",
    "print_list([[\"hello\"], \"darkness\", [\"my\", \"old\", [\"friend\"]]])"
   ]
  },
  {
   "cell_type": "markdown",
   "metadata": {},
   "source": [
    "## Question 5\n",
    "Consider a recursive function called `nestedListSum(nestedList)`:\n",
    "* It takes a nested list `nestedList`, which can contain either integers or nested lists.\n",
    "* It returns the sum of all the integers in the nested list.\n",
    "\n",
    "For example:\n",
    "\n",
    "```\n",
    "nestedListSum([1, 2, 3, [4, 5]]) == 15\n",
    "nestedListSum([[1, 2], [3, [4, 5]]]) == 15\n",
    "nestedListSum([1, [2, [3, [4, [5]]]]]) == 15\n",
    "```\n",
    "\n",
    "Implement `nestedListSum(nestedList)`.\n",
    "\n",
    "Hint: Use the same `type` check as in the previous question."
   ]
  },
  {
   "cell_type": "code",
   "execution_count": null,
   "metadata": {
    "scrolled": true
   },
   "outputs": [],
   "source": [
    "def nestedListSum(nestedList):\n",
    "    # your code here\n",
    "    pass\n",
    "\n",
    "\n",
    "# after you finish, these all should print true\n",
    "print('Test passed:', nestedListSum([]) == 0)\n",
    "print('Test passed:', nestedListSum([1, 2, 3, [4, 5]]) == 15)\n",
    "print('Test passed:', nestedListSum([[1, 2], [3, [4, 5]]]) == 15)\n",
    "print('Test passed:', nestedListSum([1, [2, [3, [4, [5]]]]]) == 15)"
   ]
  },
  {
   "cell_type": "markdown",
   "metadata": {},
   "source": [
    "## Question 6"
   ]
  },
  {
   "cell_type": "markdown",
   "metadata": {},
   "source": [
    "In this exercise, we want to use recursion to create a flood-fill function for images. Our flood-fill function is supposed to fill a **connected region of black pixels** with a different color.\n",
    "\n",
    "For example, if we do flood-fill with red color on the center of this image:\n",
    "\n",
    "![](floodfill-example-base.png)\n",
    "\n",
    "the region containing the center pixel becomes red:\n",
    "\n",
    "![](floodfill-example-filled.png)\n",
    "\n",
    "We first start with a function generating black-white noise images that we can use to test our function on later. Run the code below."
   ]
  },
  {
   "cell_type": "code",
   "execution_count": null,
   "metadata": {
    "scrolled": true
   },
   "outputs": [],
   "source": [
    "from simpleimage import SimpleImage\n",
    "import random\n",
    "\n",
    "def get_random_image(size, threshold):\n",
    "    image = SimpleImage.blank(size, size)\n",
    "    for y in range(size):\n",
    "        for x in range(size):\n",
    "            if random.random() > threshold:\n",
    "                image.set_rgb(x, y, 0, 0, 0)\n",
    "    return image\n",
    "\n",
    "image = get_random_image(50, 0.7)\n",
    "image.show(resize_width=200)"
   ]
  },
  {
   "cell_type": "markdown",
   "metadata": {},
   "source": [
    "**Exercise:** Now fill in the `floodfill(img, x, y, r, g, b)` function below. Its parameters are:\n",
    "- an image `img` to do the flood-fill on\n",
    "- a starting position `x` and `y`\n",
    "- the `r`, `g` and `b` components of the color to fill in.\n",
    "\n",
    "Whenever we find a black pixel, we fill it with the new color and then do the same flood-fill procedure for the neighbors of our pixel, to expand the region we are filling in.\n",
    "\n",
    "Hint: Proceed as follows:\n",
    "- Check if $(x, y)$ is within the boundary of the image, and if the pixel at $(x, y)$ is black. If yes:\n",
    "  - change the color of the pixel at $(x, y)$ using `img.set_rgb`\n",
    "  - recursively call `floodfill` for the pixels at $(x-1, y)$, $(x+1, y)$, $(x, y-1)$ and $(x, y+1)$."
   ]
  },
  {
   "cell_type": "code",
   "execution_count": null,
   "metadata": {},
   "outputs": [],
   "source": [
    "def floodfill(img, x, y, r, g, b):\n",
    "    # Your code here!\n",
    "      \n",
    "# This code tests your function on a 15x15 random image\n",
    "image = get_random_image(15, 0.45)\n",
    "image.set_rgb(7, 7, 0, 0, 0)  # Make sure the center pixel is black\n",
    "image.show(resize_width=200)  # Show image before flood-fill\n",
    "floodfill(image, 7, 7, 255, 0, 0)  # Do flood-fill at the center.\n",
    "image.show(resize_width=200)  # Show image after flood-fill"
   ]
  },
  {
   "cell_type": "markdown",
   "metadata": {},
   "source": [
    "# Question 7\n",
    "\n",
    "Write a function, `robotGrid(m, n)` that calculates the **number of unique paths** a robot placed at the top-left corner of a `m x n` grid can take to reach the bottom-right corner. The robot can only move **either down or right** at any point in time.\n",
    "\n",
    "For example:\n",
    "\n",
    "```\n",
    "robotGrid(0, 0) == 1 \n",
    "# Explanation: There is only one way to reach the bottom-right corner of a 0 x 0 grid.\n",
    "\n",
    "robotGrid(1, 1) == 2\n",
    "# Explanation: There are two ways to reach the bottom-right corner of a 1 x 1 grid. \n",
    "#             1. Right -> Down\n",
    "#             2. Down -> Right\n",
    "\n",
    "robotGrid(2, 2) == 6\n",
    "# Explanation: There are six ways to reach the bottom-right corner of a 2 x 2 grid.\n",
    "#             1. Right -> Right -> Down -> Down\n",
    "#             2. Right -> Down -> Right -> Down\n",
    "#             3. Right -> Down -> Down -> Right\n",
    "#             4. Down -> Right -> Right -> Down\n",
    "#             5. Down -> Right -> Down -> Right\n",
    "#             6. Down -> Down -> Right -> Right\n",
    "```\n",
    "\n",
    "![](robotgrid.png)\n",
    "\n",
    "Implement `robotGrid(m, n)` recursively.\n",
    "\n",
    "Hint: If we know the number of unique paths to the point $(m-1, n)$ and $(m, n-1)$, how can this help us compute the number of unique paths to $(m, n)$?"
   ]
  },
  {
   "cell_type": "code",
   "execution_count": null,
   "metadata": {},
   "outputs": [],
   "source": [
    "def robotGrid(m, n):\n",
    "    # your code here\n",
    "    pass\n",
    "\n",
    "\n",
    "# after you finish, these all should print true\n",
    "print('Test passed:', robotGrid(0, 0) == 1)\n",
    "print('Test passed:', robotGrid(1, 1) == 2)\n",
    "print('Test passed:', robotGrid(1, 2) == 3)\n",
    "print('Test passed:', robotGrid(2, 2) == 6)\n",
    "print('Test passed:', robotGrid(3, 2) == 10)\n"
   ]
  },
  {
   "cell_type": "markdown",
   "metadata": {},
   "source": [
    "# Question 8\n",
    "\n",
    "Write a Python program to calculate the harmonic sum of `n`.\n",
    "\n",
    "Note: The harmonic sum is the sum of reciprocals of the positive integers.\n",
    "\n",
    "Examples:\n",
    "```\n",
    "harmonic_sum(1) == 1\n",
    "harmonic_sum(2) == (1 + 1/2)\n",
    "harmonic_sum(3) == (1 + 1/2 + 1/3)\n",
    "harmonic_sum(4) == (1 + 1/2 + 1/3 + 1/4)\n",
    "```\n",
    "\n",
    "Implement `harmonic_sum(n)`."
   ]
  },
  {
   "cell_type": "code",
   "execution_count": null,
   "metadata": {},
   "outputs": [],
   "source": [
    "def harmonic_sum(n):\n",
    "  # Your code here\n",
    "  pass\n",
    "\n",
    "\n",
    "# test your code here\n",
    "print('Test passed:', harmonic_sum(7) == 1 + 1 / 2 + 1 / 3 + 1 / 4 + 1 / 5 + 1 / 6 + 1 / 7)\n",
    "print('Test passed:', harmonic_sum(4) == 1 + 1 / 2 + 1 / 3 + 1 / 4)\n",
    "print('Test passed:', harmonic_sum(5) == 1 + 1 / 2 + 1 / 3 + 1 / 4 + 1 / 5)\n"
   ]
  }
 ],
 "metadata": {
  "kernelspec": {
   "display_name": "Python 3",
   "language": "python",
   "name": "python3"
  },
  "language_info": {
   "codemirror_mode": {
    "name": "ipython",
    "version": 3
   },
   "file_extension": ".py",
   "mimetype": "text/x-python",
   "name": "python",
   "nbconvert_exporter": "python",
   "pygments_lexer": "ipython3",
   "version": "3.6.9"
  }
 },
 "nbformat": 4,
 "nbformat_minor": 2
}
