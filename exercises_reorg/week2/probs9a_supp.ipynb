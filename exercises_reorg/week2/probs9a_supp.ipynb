{
 "cells": [
  {
   "cell_type": "markdown",
   "metadata": {},
   "source": [
    "# Week 2 Day 9 Thursday Supplemental Exercises - **Even More Recursion!**"
   ]
  },
  {
   "cell_type": "markdown",
   "metadata": {},
   "source": [
    "## Question 1\n",
    "The decimal number system (base 10) is a common way to write numbers. Here we will explore the **binary number system** (base 2) which has many applications in computing. \n",
    "\n",
    "To give an example, 128 in decimal is written as 10000000 in binary. Here is why: \n",
    "\n",
    "In decimal (base 10),\n",
    "\n",
    "$128 = 1 \\cdot 10^2 + 2 \\cdot 10^1 + 8 \\cdot 10^0$\n",
    "\n",
    "and in binary (base 2),\n",
    "\n",
    "$128 = 1 \\cdot 2^6 + 0 \\cdot 2^5 + \\dots + 0 \\cdot 2^0$\n",
    "\n",
    "Here is another example. 39 is 100111 in binary:\n",
    "\n",
    "In decimal, \n",
    "\n",
    "$39 = 3 \\cdot 10^1 + 9 \\cdot 10^0$\n",
    "\n",
    "and in binary,\n",
    "\n",
    "$39 = 1 \\cdot 2^5 + 0 \\cdot 2^4 + 0 \\cdot 2^3 + 1 \\cdot 2^2 + 1 \\cdot 2^1 + 1 \\cdot 2^0$ \n"
   ]
  },
  {
   "cell_type": "markdown",
   "metadata": {},
   "source": [
    "### 1.1\n",
    "\n",
    "**Task:** Write a recursive function, `binaryString(n)`, that:\n",
    "* Takes an integer, `n`, as input.\n",
    "* Returns a string of 1s and 0s representing n in binary."
   ]
  },
  {
   "cell_type": "code",
   "execution_count": null,
   "metadata": {},
   "outputs": [],
   "source": [
    "def binaryString(n):\n",
    "    # YOUR ANSWER HERE\n",
    "    pass\n",
    "\n",
    "# After you finish, these should print True\n",
    "testCases = [\n",
    "    [0, '0'],\n",
    "    [1, '1'],\n",
    "    [2, '10'],\n",
    "    [3, '11'],\n",
    "    [4, '100'],\n",
    "    [5, '101'],\n",
    "    [6, '110'],\n",
    "    [7, '111'],\n",
    "    [8, '1000'],\n",
    "    [39, '100111'],\n",
    "    [128, '10000000'],\n",
    "    [297371, '1001000100110011011'],\n",
    "]\n",
    "for arg, result in testCases:\n",
    "    print(binaryString(arg) == result)"
   ]
  },
  {
   "cell_type": "markdown",
   "metadata": {},
   "source": [
    "### 1.2\n",
    "**Task:** Write a recursive function `decimalNumber(binString)` that converts a binary string `binString` into its corresponding decimal number. "
   ]
  },
  {
   "cell_type": "code",
   "execution_count": null,
   "metadata": {},
   "outputs": [],
   "source": [
    "def decimalNumber(binString):\n",
    "    # YOUR ANSWER HERE\n",
    "    pass\n",
    "\n",
    "testCases = [\n",
    "    ['0', 0],\n",
    "    ['1', 1],\n",
    "    ['10', 2],\n",
    "    ['11', 3],\n",
    "    ['100', 4],\n",
    "    ['101', 5],\n",
    "    ['110', 6],\n",
    "    ['111', 7],\n",
    "    ['1000', 8],\n",
    "    ['100111', 39],\n",
    "    ['10000000', 128],\n",
    "    ['1001000100110011011', 297371],\n",
    "]\n",
    "for arg, result in testCases:\n",
    "    print(decimalNumber(arg) == result)\n",
    "print(decimalNumber(binaryString(12278)) == 12278)\n",
    "print(binaryString(decimalNumber('100111')) == '100111')"
   ]
  },
  {
   "cell_type": "markdown",
   "metadata": {},
   "source": [
    "## Question 2\n",
    "\n",
    "Given an integer n, return true if it is a power of three. Otherwise, return false.\n",
    "\n",
    "An integer `n` is a power of three, if there exists an integer `x` such that `n == 3**x`.\n",
    "\n",
    "\n",
    "Examples: \n",
    "```\n",
    "is_power_of_three(27) == True   # Explanation: 27 = 33\n",
    "is_power_of_three(0) == False   # Explanation: There is no x where 3**x == 0.\n",
    "is_power_of_three(-1) == False  # Explanation: There is no x where 3**x == (-1).\n",
    "```\n",
    "\n",
    "Implement `is_power_of_three(n)`.\n"
   ]
  },
  {
   "cell_type": "code",
   "execution_count": null,
   "metadata": {},
   "outputs": [],
   "source": [
    "def is_power_of_three(n):\n",
    "    # YOUR ANSWER HERE\n",
    "    pass\n",
    "\n",
    "# When you finish, these should all print True\n",
    "print(is_power_of_three(27) == True)\n",
    "print(is_power_of_three(8) == False)\n",
    "print(is_power_of_three(0) == False)\n",
    "print(is_power_of_three(-1) == False)"
   ]
  },
  {
   "cell_type": "markdown",
   "metadata": {},
   "source": [
    "## Question 3\n",
    "Consider a recursive function called `generateSubsets(nums)`:\n",
    "* It takes a list of integers `nums`.\n",
    "* It returns a list containing all possible subsets of `nums`.\n",
    "\n",
    "**Note:** A subset is a collection of elements from the original set, and it can include elements in any order.\n",
    "\n",
    "For example:\n",
    "\n",
    "```\n",
    "generateSubsets([1, 2, 3]) == [[], [1], [2], [3], [1, 2], [1, 3], [2, 3], [1, 2, 3]]                            \n",
    "generateSubsets([4, 5]) == [[], [4], [5], [4, 5]]\n",
    "generateSubsets([6]) == [[], [6]]\n",
    "```\n",
    "\n",
    "**Note:** The subsets are generated using a recursive approach, where subsets of smaller sizes are combined to form subsets of larger sizes.\n",
    "\n",
    "Think about:\n",
    "- What is the recursive case for `generateSubsets(nums)`? \n",
    "- What is the base case for `generateSubsets(nums)`?\n",
    "\n",
    "Implement `generateSubsets(nums)`."
   ]
  },
  {
   "cell_type": "code",
   "execution_count": null,
   "metadata": {},
   "outputs": [],
   "source": [
    "def generateSubsets(n):\n",
    "    # your code here\n",
    "    return []\n",
    "\n",
    "\n",
    "print('Test passed:', sorted(generateSubsets([1, 2, 3]))  == [[], [1], [1, 2], [1, 2, 3], [1, 3], [2], [2, 3], [3]])\n",
    "print('Test passed:', sorted(generateSubsets([4, 5]))  == [[], [4], [4, 5], [5]])\n",
    "print('Test passed:', sorted(generateSubsets([6]))  == [[], [6]])"
   ]
  },
  {
   "cell_type": "markdown",
   "metadata": {},
   "source": [
    "# Question 4\n",
    "\n",
    "Given a non-negative integer `n`, return the number of unique ways you can climb n stairs, if you're allowed to climb 1, 2, or 3 stairs at a time.\n",
    "\n",
    "For example:\n",
    "\n",
    "```\n",
    "climbStairs(1) == 1 \n",
    "# Explanation: There is only one way to climb 1 stair (one step).\n",
    "\n",
    "climbStairs(2) == 2\n",
    "# Explanation: There are two ways to climb 2 stairs (1 + 1 or 2).\n",
    "\n",
    "climbStairs(3) == 4\n",
    "# Explanation: There are four ways to climb 3 stairs (1 + 1 + 1, 1 + 2, 2 + 1, 3).\n",
    "```\n",
    "\n",
    "Implement `climbStairs(n)` recursively.\n",
    "\n",
    "Hint: Does this number sequence remind you of another sequence you have seen before?"
   ]
  },
  {
   "cell_type": "code",
   "execution_count": null,
   "metadata": {},
   "outputs": [],
   "source": [
    "def climbStairs(n):\n",
    "    # your code here\n",
    "    pass\n",
    "\n",
    "\n",
    "# after you finish, these all should print true\n",
    "print('Test passed:', climbStairs(1) == 1)\n",
    "print('Test passed:', climbStairs(2) == 2)\n",
    "print('Test passed:', climbStairs(3) == 4)\n",
    "print('Test passed:', climbStairs(4) == 7)"
   ]
  },
  {
   "cell_type": "markdown",
   "metadata": {},
   "source": [
    "## Question 5 (Hard)\n",
    "Consider a recursive function called `uniquePermutations(lst)`:\n",
    "* It takes a list of numbers\n",
    "* It returns all the unique permutations of the list in any order.\n",
    "\n",
    "*A unique permutation refers to a distinct arrangement of the elements in a given list, where each arrangement is different from all others.*\n",
    "\n",
    "For example:\n",
    "\n",
    "```\n",
    "uniquePermutations([1, 1]) == [[1, 1]]\n",
    "uniquePermutations([1,1,2]) == [[1,1,2], [1,2,1], [2,1,1]]\n",
    "uniquePermutations([1,2,3]) == [[1,2,3],[1,3,2],[2,1,3],[2,3,1],[3,1,2],[3,2,1]]\n",
    "```\n",
    "\n",
    "Think about:\n",
    "- What is the recursive case `uniquePermutations(lst)`\n",
    "- What is the base case `uniquePermutations(lst)`\n",
    "\n",
    "Implement `uniquePermutations(lst)`.\n"
   ]
  },
  {
   "cell_type": "code",
   "execution_count": null,
   "metadata": {},
   "outputs": [],
   "source": [
    "def uniquePermutations(lst):\n",
    "    # your code here\n",
    "    return []\n",
    "\n",
    "# Test cases\n",
    "print(uniquePermutations([1, 1]) == [[1, 1]])\n",
    "print(uniquePermutations([1, 1, 2]) == [[1, 1, 2], [1, 2, 1], [2, 1, 1]])\n",
    "print(\n",
    "    uniquePermutations([1, 2, 3]) == [[1, 2, 3], [1, 3, 2], [2, 1, 3], [2, 3, 1], [3, 1, 2],\n",
    "                                      [3, 2, 1]])\n"
   ]
  },
  {
   "cell_type": "markdown",
   "metadata": {},
   "source": [
    "## Question 6 (Hard)\n",
    "\n",
    "Write a recursive function, `generateParentheses(n)`, that generates all possible pairs of parentheses with `n` pairs.\n",
    "\n",
    "For example:\n",
    "\n",
    "```\n",
    "generateParentheses(1) == [\"()\"]\n",
    "generateParentheses(2) == [\"(())\", \"()()\"]\n",
    "generateParentheses(3) == [\"((()))\", \"(()())\", \"(())()\", \"()(())\", \"()()()\"]\n",
    "```\n",
    "\n",
    "Implement `generateParentheses(n)` recursively."
   ]
  },
  {
   "cell_type": "code",
   "execution_count": null,
   "metadata": {},
   "outputs": [],
   "source": [
    "def generateParentheses(n):\n",
    "    # your code here\n",
    "    return []\n",
    "\n",
    "\n",
    "# after you finish, these all should print true\n",
    "print('Test passed:', set(generateParentheses(1)) == set([\"()\"]))\n",
    "print('Test passed:', set(generateParentheses(2)) == set([\"(())\", \"()()\"]))\n",
    "print('Test passed:', set(generateParentheses(3)) == set([\"((()))\", \"(()())\", \"(())()\", \"()(())\", \"()()()\"]))\n"
   ]
  },
  {
   "cell_type": "markdown",
   "metadata": {},
   "source": [
    "## Question 7 (Hard)\n",
    "\n",
    "Given an integer amount and a list of distinct coin values, find the **minimum number of coins needed** to make up that amount.\n",
    "\n",
    "If that amount of money cannot be made up by any combination of the coins, return -1. \n",
    "\n",
    "For example:\n",
    "```\n",
    "coinChange([1, 2, 5], 11) == 3\n",
    "# Explanation: 11 = 5 + 5 + 1\n",
    "\n",
    "coinChange([1, 3, 5], 9) == 3\n",
    "# Explanation: 9 = 3 + 3 + 3 \n",
    "\n",
    "coinChange([2], 3) == -1\n",
    "# Explanation: 3 cannot be made up by any combination of the coins.\n",
    "\n",
    "coinChange([1], 0) == 0\n",
    "# Explanation: 0 = 0\n",
    "```\n",
    "\n",
    "Write the recursive function `coinChange(coins, amount)` to solve this problem.\n"
   ]
  },
  {
   "cell_type": "code",
   "execution_count": null,
   "metadata": {},
   "outputs": [],
   "source": [
    "def coinChange(coins, amount):\n",
    "    # your code here\n",
    "    pass\n",
    "\n",
    "# after you finish, these all should print true\n",
    "print('Test passed:', coinChange([1, 2, 5], 11) == 3)\n",
    "print('Test passed:', coinChange([1, 3, 5], 9) == 3)\n",
    "print('Test passed:', coinChange([2], 3) == -1)\n",
    "print('Test passed:', coinChange([1], 0) == 0)\n"
   ]
  }
 ],
 "metadata": {
  "kernelspec": {
   "display_name": "Python 3",
   "language": "python",
   "name": "python3"
  },
  "language_info": {
   "codemirror_mode": {
    "name": "ipython",
    "version": 3
   },
   "file_extension": ".py",
   "mimetype": "text/x-python",
   "name": "python",
   "nbconvert_exporter": "python",
   "pygments_lexer": "ipython3",
   "version": "3.6.9"
  }
 },
 "nbformat": 4,
 "nbformat_minor": 2
}
