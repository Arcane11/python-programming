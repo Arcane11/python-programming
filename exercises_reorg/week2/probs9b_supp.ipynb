{
 "cells": [
  {
   "cell_type": "markdown",
   "metadata": {},
   "source": [
    "# Week 2 Day 9B Supplemental Exercises - **Time Complexity**\n"
   ]
  },
  {
   "cell_type": "markdown",
   "metadata": {},
   "source": [
    "The following function helps you test your code:"
   ]
  },
  {
   "cell_type": "code",
   "execution_count": 1,
   "metadata": {},
   "outputs": [],
   "source": [
    "# RUN THIS BLOCK OF CODE BEFORE RUNNING ANY CELLS\n",
    "def check_test(actual, expected):\n",
    "    if expected != actual:\n",
    "        print(f\"Function should return the value {expected}, it is returning the value {actual}\")\n",
    "    else:\n",
    "        print(f\"Congratulations, the test case passed!\")"
   ]
  },
  {
   "cell_type": "markdown",
   "metadata": {},
   "source": [
    "The following function helps you **time** your code:"
   ]
  },
  {
   "cell_type": "code",
   "execution_count": 2,
   "metadata": {},
   "outputs": [
    {
     "name": "stdout",
     "output_type": "stream",
     "text": [
      "Time to run function sorted(range(0, 1000000)): 0.01508 seconds\n"
     ]
    }
   ],
   "source": [
    "import time \n",
    "\n",
    "def timer(func, *args):\n",
    "    start = time.perf_counter()\n",
    "    result = func(*args)\n",
    "    args_str = ', '.join([str(arg) for arg in args])\n",
    "    end = time.perf_counter()\n",
    "    print(f\"Time to run function {func.__name__}({args_str}): {end - start:.5f} seconds\")\n",
    "    return result\n",
    "\n",
    "result = timer(sorted, range(1000000))"
   ]
  },
  {
   "cell_type": "markdown",
   "metadata": {},
   "source": []
  },
  {
   "cell_type": "markdown",
   "metadata": {},
   "source": [
    "# Important: Ask a TA to check your work!"
   ]
  },
  {
   "cell_type": "markdown",
   "metadata": {},
   "source": []
  },
  {
   "cell_type": "markdown",
   "metadata": {},
   "source": [
    "# Question 1\n",
    "\n",
    "Consider the following loop\n",
    "\n",
    "\n",
    "```\n",
    "for i in range(len(n)):\n",
    "    for j in range(len(n)):\n",
    "        for k in range(len(n)):\n",
    "            print(i, k, j)\n",
    "```\n",
    "\n",
    "\n",
    "If you run the above code with n = 1000 how many times does the function call print ?"
   ]
  },
  {
   "cell_type": "code",
   "execution_count": 3,
   "metadata": {},
   "outputs": [],
   "source": [
    "# Write your answer in English, or use code to answer the question"
   ]
  },
  {
   "cell_type": "code",
   "execution_count": null,
   "metadata": {},
   "outputs": [],
   "source": []
  },
  {
   "cell_type": "markdown",
   "metadata": {},
   "source": [
    "# Question 2\n",
    "\n",
    "Let's go back to fibonacci for a second.\n",
    "Assume `fib(n)` only gets `n >= 0`."
   ]
  },
  {
   "cell_type": "code",
   "execution_count": 4,
   "metadata": {},
   "outputs": [],
   "source": [
    "def fib(n):\n",
    "    if n <= 1:\n",
    "        return 1\n",
    "    return fib(n-1) + fib(n-2)"
   ]
  },
  {
   "cell_type": "markdown",
   "metadata": {},
   "source": [
    "Try running values `fib(10)`, `fib(15)`, `fib(20)`, ... and see how long it takes for each of the cases."
   ]
  },
  {
   "cell_type": "code",
   "execution_count": 5,
   "metadata": {},
   "outputs": [
    {
     "name": "stdout",
     "output_type": "stream",
     "text": [
      "Time to run function fib(10): 0.00003 seconds\n",
      "Time to run function fib(15): 0.00026 seconds\n",
      "Time to run function fib(20): 0.00264 seconds\n",
      "Time to run function fib(25): 0.02698 seconds\n"
     ]
    },
    {
     "name": "stdout",
     "output_type": "stream",
     "text": [
      "Time to run function fib(30): 0.28283 seconds\n",
      "Time to run function fib(35): 2.88948 seconds\n"
     ]
    }
   ],
   "source": [
    "fib10 = timer(fib, 10)  # The `timer` function calls the `fib` function with the argument 10 for you\n",
    "fib15 = timer(fib, 15)\n",
    "fib20 = timer(fib, 20)\n",
    "fib25 = timer(fib, 25)\n",
    "fib30 = timer(fib, 30)\n",
    "fib35 = timer(fib, 35)\n"
   ]
  },
  {
   "cell_type": "code",
   "execution_count": 6,
   "metadata": {},
   "outputs": [],
   "source": [
    "# do you think we can finish `fib(100)`? Why or why not?\n",
    "# timer(fib, 100) "
   ]
  },
  {
   "cell_type": "markdown",
   "metadata": {},
   "source": [
    "Explain your observation below interms of time complexity. How many recursive function calls do we need to solve for each of the cases above?"
   ]
  },
  {
   "cell_type": "code",
   "execution_count": 7,
   "metadata": {},
   "outputs": [],
   "source": [
    "# Your answer here in English. Please check your answer with the\n",
    "# person next to you, or ask a TA if you are unsure!"
   ]
  },
  {
   "cell_type": "markdown",
   "metadata": {},
   "source": []
  },
  {
   "cell_type": "markdown",
   "metadata": {},
   "source": [
    "# Question 3\n",
    "\n",
    "Write the time complexity of the following program in terms of $j$.\n",
    "\n",
    "```python\n",
    "def loop(k):\n",
    "    for i in range(k):\n",
    "        print(i)\n",
    "\n",
    "for j in range(10):\n",
    "    loop(j)\n",
    "```\n"
   ]
  },
  {
   "cell_type": "markdown",
   "metadata": {},
   "source": [
    "Your answer here:"
   ]
  },
  {
   "cell_type": "markdown",
   "metadata": {},
   "source": []
  },
  {
   "cell_type": "markdown",
   "metadata": {},
   "source": [
    "# Question 4: multiple choice questions\n",
    "\n",
    "**4.1. If an algorithm has a time complexity of $O(n)$, what would the time complexity be if $n$ doubles? Select one:**\n",
    "\n",
    "```\n",
    "A. It would be $O(n)$\n",
    "B. It would be $O(n^2)$\n",
    "C. It would be $O(2n)$\n",
    "D. It would be $O(1)$\n",
    "```\n",
    "\n",
    "**4.2. What is the time complexity of an algorithm that checks if an item exists in an unsorted list?**\n",
    "\n",
    "```\n",
    "A. $O(n)$\n",
    "B. $O(n^2)$\n",
    "C. $O(1)$\n",
    "D. $O(\\log(n))$\n",
    "```\n",
    "\n",
    "**4.3. If an algorithm's time complexity is $O(n^2)$ and it takes 1 second to process 1000 elements, approximately how long will it take to process 2000 elements?**\n",
    "\n",
    "```\n",
    "A. 2 seconds\n",
    "B. 4 seconds\n",
    "C. 8 seconds\n",
    "D. 16 seconds\n",
    "```\n",
    "\n",
    "**4.4. What is the time complexity of finding the smallest or largest item in an unsorted list?**\n",
    "\n",
    "```\n",
    "A. $O(n)$\n",
    "B. $O(n^2)$\n",
    "C. $O(1)$\n",
    "D. $O(\\log(n))$\n",
    "```\n",
    "\n",
    "**4.5. What is the time complexity of a recursive Fibonacci algorithm?**\n",
    "\n"
   ]
  },
  {
   "cell_type": "markdown",
   "metadata": {},
   "source": []
  },
  {
   "cell_type": "markdown",
   "metadata": {},
   "source": [
    "# Question 5: small coding problems. **Ask a TA to check your answers**!!\n",
    "\n",
    "5.1. Write a Python function to calculate the factorial of a number (n!) using both iterative and recursive approaches. What is the time complexity of each approach?\n"
   ]
  },
  {
   "cell_type": "code",
   "execution_count": 8,
   "metadata": {},
   "outputs": [
    {
     "name": "stdout",
     "output_type": "stream",
     "text": [
      "Time to run function factorial_iterative(1000): 0.00000 seconds\n",
      "Time to run function factorial_recursive(1000): 0.00000 seconds\n"
     ]
    }
   ],
   "source": [
    "def factorial_iterative(n):\n",
    "  # TODO: Your code here\n",
    "  pass\n",
    "\n",
    "\n",
    "def factorial_recursive(n):\n",
    "  # TODO: Your code here\n",
    "  pass\n",
    "\n",
    "\n",
    "fac1000_iter = timer(factorial_iterative, 1000)\n",
    "fac1000_rec = timer(factorial_recursive, 1000)"
   ]
  },
  {
   "cell_type": "markdown",
   "metadata": {},
   "source": []
  },
  {
   "cell_type": "markdown",
   "metadata": {},
   "source": [
    "5.2. Write a Python function that takes in a list of numbers and returns a new list with only the unique numbers (i.e., remove duplicates). What is the time complexity of your function?"
   ]
  },
  {
   "cell_type": "code",
   "execution_count": 9,
   "metadata": {},
   "outputs": [
    {
     "name": "stdout",
     "output_type": "stream",
     "text": [
      "Test passed: False\n"
     ]
    }
   ],
   "source": [
    "def remove_duplicates(lst) -> list:\n",
    "  # TODO: Your code here\n",
    "  return []\n",
    "\n",
    "\n",
    "length = 1000000\n",
    "dup_list = list(range(length)) + list(range(length))\n",
    "uniq_list = remove_duplicates(dup_list)\n",
    "print('Test passed:', sorted(uniq_list) == sorted(range(length)))\n"
   ]
  },
  {
   "cell_type": "code",
   "execution_count": null,
   "metadata": {},
   "outputs": [],
   "source": []
  },
  {
   "cell_type": "markdown",
   "metadata": {},
   "source": [
    "5.3. Write a Python function that accepts two strings and checks if one is a permutation of the other. What is the time complexity of your function?"
   ]
  },
  {
   "cell_type": "code",
   "execution_count": 10,
   "metadata": {},
   "outputs": [
    {
     "name": "stdout",
     "output_type": "stream",
     "text": [
      "None\n"
     ]
    }
   ],
   "source": [
    "def is_permutation(str1, str2) -> bool:\n",
    "  # TODO: Your code here\n",
    "  pass\n",
    "\n",
    "\n",
    "print(is_permutation(\"abc\", \"cba\"))\n"
   ]
  },
  {
   "cell_type": "code",
   "execution_count": null,
   "metadata": {},
   "outputs": [],
   "source": []
  },
  {
   "cell_type": "markdown",
   "metadata": {},
   "source": [
    "# Question 6 (Hard)\n",
    "\n",
    "You are given a **large**, **sorted** list of integers, where each integer **appears exactly twice** except for one element that **appears only once**. \n",
    "\n",
    "Implement a function called `find_unique_element` that takes in this sorted list as input and returns the unique element.\n",
    "\n",
    "For example, given the sorted list` [1, 1, 2, 2, 3, 3, 4, 5, 5, 6, 6]`, the function should return `4` since it is the only element that appears once in the list.\n",
    "\n",
    "Let's start with a linear time solution below:"
   ]
  },
  {
   "cell_type": "code",
   "execution_count": 11,
   "metadata": {},
   "outputs": [
    {
     "name": "stdout",
     "output_type": "stream",
     "text": [
      "Function should return the value 4, it is returning the value None\n",
      "Function should return the value 1, it is returning the value None\n",
      "Function should return the value 3, it is returning the value None\n",
      "Function should return the value 6, it is returning the value None\n"
     ]
    }
   ],
   "source": [
    "def find_unique_element(array):\n",
    "  # WRITE YOUR CODE HERE\n",
    "  pass\n",
    "\n",
    "\n",
    "check_test(find_unique_element([1, 1, 2, 2, 3, 3, 4, 5, 5, 6, 6]), 4)\n",
    "check_test(find_unique_element([1]), 1)\n",
    "check_test(find_unique_element([3, 4, 4]), 3)\n",
    "check_test(find_unique_element([1, 1, 2, 2, 3, 3, 4, 4, 5, 5, 6]), 6)\n"
   ]
  },
  {
   "cell_type": "markdown",
   "metadata": {},
   "source": [
    "**Challenge**: Can you implement this function in $O(\\log(n))$ time complexity?\n",
    "\n",
    "**Hint:** Use binary search. What happens when the middle element is the same as the left or the right element? What happens when the middle element is different from both the left and right elements?\n"
   ]
  },
  {
   "cell_type": "code",
   "execution_count": 45,
   "metadata": {},
   "outputs": [
    {
     "data": {
      "text/plain": [
       "5"
      ]
     },
     "execution_count": 45,
     "metadata": {},
     "output_type": "execute_result"
    }
   ],
   "source": [
    "def binaryFirst(arr, item):\n",
    "    st = 0\n",
    "    ed = len(arr) - 1\n",
    "    mid = (st + ed) // 2\n",
    "    while st <= ed:\n",
    "        mid = (st + ed) // 2\n",
    "        if arr[mid] > item:\n",
    "            ed = mid - 1\n",
    "        elif arr[mid] == item:\n",
    "            return mid\n",
    "        else:\n",
    "            st = mid + 1\n",
    "    if st < 0 or st >= len(arr):\n",
    "        return -1\n",
    "    return st\n",
    "\n",
    "def binaryLast(arr, item):\n",
    "    st = 0\n",
    "    ed = len(arr) - 1\n",
    "    mid = (st + ed) // 2\n",
    "    while st <= ed:\n",
    "        mid = (st + ed) // 2\n",
    "        if arr[mid] > item:\n",
    "            ed = mid - 1\n",
    "        elif arr[ed] == item:\n",
    "            return ed\n",
    "        else:\n",
    "            st = mid + 1\n",
    "    if st < 0 or st >= len(arr):\n",
    "        return -1\n",
    "    return ed\n",
    "\n",
    "binaryLast([1, 1, 1, 1, 2, 2, 3, 3, 4, 4, 4, 5, 5, 6, 6], 2)\n",
    "\n",
    "# def find_unique_element_binary_search(arr):\n",
    "\n",
    "\n",
    "\n",
    "# check_test(find_unique_element_binary_search([1, 1, 2, 2, 3, 3, 4, 5, 5, 6, 6]), 4)\n",
    "# check_test(find_unique_element_binary_search([1]), 1)\n",
    "# check_test(find_unique_element_binary_search([3, 4, 4]), 3)\n",
    "# check_test(find_unique_element_binary_search([1, 1, 2, 2, 3, 3, 4, 4, 5, 5, 6]), 6)\n"
   ]
  },
  {
   "cell_type": "code",
   "execution_count": null,
   "metadata": {},
   "outputs": [],
   "source": []
  }
 ],
 "metadata": {
  "kernelspec": {
   "display_name": "test_manual_install",
   "language": "python",
   "name": "python3"
  },
  "language_info": {
   "codemirror_mode": {
    "name": "ipython",
    "version": 3
   },
   "file_extension": ".py",
   "mimetype": "text/x-python",
   "name": "python",
   "nbconvert_exporter": "python",
   "pygments_lexer": "ipython3",
   "version": "3.10.9"
  },
  "orig_nbformat": 4
 },
 "nbformat": 4,
 "nbformat_minor": 2
}
